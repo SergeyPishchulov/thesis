{
 "cells": [
  {
   "cell_type": "markdown",
   "metadata": {},
   "source": [
    "#### imports"
   ]
  },
  {
   "cell_type": "code",
   "execution_count": 1,
   "metadata": {
    "id": "KvGMScMINuKD",
    "tags": []
   },
   "outputs": [
    {
     "data": {
      "text/latex": [
       "$\\displaystyle \\dfrac{dx}{dt} = - x y μ + \\frac{x y ρ}{y + η} - x δ + σ$"
      ],
      "text/plain": [
       "<IPython.core.display.Math object>"
      ]
     },
     "metadata": {},
     "output_type": "display_data"
    },
    {
     "data": {
      "text/latex": [
       "$\\displaystyle \\dfrac{dy}{dt} = - \\frac{b y}{y + 1} - x y + y α \\left(- y β + 1\\right)$"
      ],
      "text/plain": [
       "<IPython.core.display.Math object>"
      ]
     },
     "metadata": {},
     "output_type": "display_data"
    }
   ],
   "source": [
    "from typing import Tuple\n",
    "from numba import njit\n",
    "from sympy import solve\n",
    "import random\n",
    "import itertools\n",
    "from tqdm import tqdm\n",
    "import pandas as pd\n",
    "import plotly.graph_objects as go\n",
    "import plotly.express as px\n",
    "from sympy import *\n",
    "from IPython.display import display, Math\n",
    "import numpy as np\n",
    "init_printing(use_unicode=True)\n",
    "pd.set_option('display.max_rows', 500)\n",
    "random.seed(500)\n",
    "\n",
    "H = 0.01 * 5\n",
    "\n",
    "\n",
    "x, y, sigma, mu, delta, alpha, beta, ro, eta, b, lambd = symbols(\n",
    "    'x y σ μ δ α β ρ η b λ')\n",
    "\n",
    "sigma_c = 0.1181\n",
    "ro_c = 1.131\n",
    "eta_c = 20.19\n",
    "alpha_c = 1.636\n",
    "beta_c = 0.002\n",
    "delta_c = 0.3743\n",
    "mu_c = 0.005\n",
    "b_c = 0\n",
    "\n",
    "dxdt = sigma + ro*x*y/(eta + y) - mu*x*y - delta*x\n",
    "dydt = alpha*y*(1-beta*y)-x*y-(b*y)/(1+y)\n",
    "\n",
    "concrete_params = {ro: ro_c, sigma: sigma_c, eta: eta_c, b: b_c,\n",
    "                   alpha: alpha_c, beta: beta_c, mu: mu_c, delta: delta_c}\n",
    "muless_params = dict(concrete_params)\n",
    "del muless_params[mu]\n",
    "\n",
    "bless_params = dict(concrete_params)\n",
    "del bless_params[b]\n",
    "\n",
    "mu_c = 0.014\n",
    "bless_params[mu] = mu_c\n",
    "\n",
    "display(Math('\\dfrac{dx}{dt} = ' + latex(dxdt)))\n",
    "display(Math('\\dfrac{dy}{dt} = ' + latex(dydt)))\n",
    "\n",
    "\n",
    "def get_solutions(params):\n",
    "    return solve([dxdt.subs(params), dydt.subs(params)], x, y)\n",
    "\n",
    "\n",
    "def display_solutions(sols):\n",
    "    for s in sols:\n",
    "        display(s)\n",
    "\n",
    "\n",
    "def display_sol_list(sol_list):\n",
    "    for cur_mu, sols in sol_list:\n",
    "        print(f\"mu = {cur_mu}\")\n",
    "        display_solutions(sols)\n",
    "        display(\"*\"*20)\n",
    "\n",
    "\n",
    "def sol_is_almost_real(sol):\n",
    "    x, y = sol\n",
    "    return abs(im(x)) < 1e-10 and abs(im(y)) < 1e-10\n",
    "\n",
    "\n",
    "def cast_to_real(sol):\n",
    "    x, y = sol\n",
    "    return float(re(x)), float(re(y))\n",
    "\n",
    "\n",
    "def get_eigen_values(x_eq, y_eq, params):\n",
    "    a11 = dfdx.evalf(subs=params | {x: x_eq, y: y_eq})\n",
    "    a12 = dfdy.evalf(subs=params | {x: x_eq, y: y_eq})\n",
    "    a21 = dgdx.evalf(subs=params | {x: x_eq, y: y_eq})\n",
    "    a22 = dgdy.evalf(subs=params | {x: x_eq, y: y_eq})\n",
    "    jacob_matrix = Matrix([[a11, a12], [a21, a22]])\n",
    "    j = jacob_matrix - np.eye(2) * lambd\n",
    "    lam1, lam2 = solve(j.det(), lambd)\n",
    "    return lam1, lam2\n",
    "\n",
    "\n",
    "dfdx = diff(dxdt, x)\n",
    "dfdy = diff(dxdt, y)\n",
    "dgdx = diff(dydt, x)\n",
    "dgdy = diff(dydt, y)\n",
    "\n",
    "# display(Math('\\dfrac{df}{dx} = ' + latex(dfdx)))\n",
    "# display(Math('\\dfrac{df}{dy} = ' + latex(dfdy)))\n",
    "# display(Math('\\dfrac{dg}{dx} = ' + latex(dgdx)))\n",
    "# display(Math('\\dfrac{dg}{dy} = ' + latex(dfdy)))\n"
   ]
  },
  {
   "cell_type": "markdown",
   "metadata": {},
   "source": [
    "##### computing & plotting fucntions\n"
   ]
  },
  {
   "cell_type": "code",
   "execution_count": 23,
   "metadata": {
    "tags": []
   },
   "outputs": [],
   "source": [
    "from plotly.io import from_json, to_json\n",
    "from collections import defaultdict\n",
    "from functools import partial\n",
    "from functools import lru_cache\n",
    "import json\n",
    "import math\n",
    "\n",
    "\n",
    "def get_line_mode(stable):\n",
    "    return {} if stable else {\"dash\": \"dot\"}\n",
    "\n",
    "\n",
    "def get_positive_prefix_mask(ts):\n",
    "    negative = ts[ts < 0]\n",
    "    if negative.empty:\n",
    "        return ts.index\n",
    "    i = negative.index[0]\n",
    "    return ts[ts.index < i].index\n",
    "\n",
    "\n",
    "def get_n_solutions_by_bxy(params, starts):\n",
    "    res = set()\n",
    "    for x_start, y_start in (pbar := tqdm(starts)):\n",
    "        pbar.set_description(f\"Finding eq\")\n",
    "        try:\n",
    "            res.add(ImmutableMatrix(\n",
    "                nsolve([dxdt.subs(params), dydt.subs(params)], (x, y), (x_start, y_start))))\n",
    "        # Could not find root within given tolerance. (1.56236416469305495856 > 2.16840434497100886801e-19)\n",
    "        except ValueError:\n",
    "            # Try another starting point or tweak arguments.\n",
    "            pass\n",
    "    return res\n",
    "\n",
    "\n",
    "def f(x_c, y_c, params, reverse=False):  # dx/dt\n",
    "    return (-1 if reverse else 1) * dxdt.evalf(subs=(params | {x: x_c, y: y_c}))\n",
    "\n",
    "\n",
    "def g(x_c, y_c, params, reverse=False):  # dy/dt\n",
    "    return (-1 if reverse else 1) * dydt.evalf(subs=(params | {x: x_c, y: y_c}))\n",
    "\n",
    "# runge-kutta\n",
    "\n",
    "# @njit\n",
    "\n",
    "\n",
    "def get_next(x, y, h, params, reverse=False):\n",
    "    k1 = h * f(x, y, params, reverse=reverse)\n",
    "    l1 = h * g(x, y, params, reverse=reverse)\n",
    "    k2 = h * f(x + k1 / 2, y + l1 / 2, params, reverse=reverse)\n",
    "    l2 = h * g(x + k1 / 2, y + l1 / 2,  params, reverse=reverse)\n",
    "    k3 = h * f(x + k2 / 2, y + l2 / 2,  params, reverse=reverse)\n",
    "    l3 = h * g(x + k2 / 2, y + l2 / 2,  params, reverse=reverse)\n",
    "    k4 = h * f(x + k3, y + l3, params, reverse=reverse)\n",
    "    l4 = h * g(x + k3, y + l3,  params, reverse=reverse)\n",
    "    return (x + (k1 + 2 * k2 + 2 * k3 + k4) / 6,\n",
    "            y + (l1 + 2 * l2 + 2 * l3 + l4) / 6)\n",
    "\n",
    "\n",
    "# add_first_cut ==True - нужно в путь добавить то значение,\n",
    "# из-за которого не стали продолжать считать путь (ушли в отрицательные)\n",
    "get_next_deterministic = get_next\n",
    "# @njit\n",
    "\n",
    "\n",
    "def _get_path(start_no, num_steps, x_c, y_c, params, reverse, h, add_first_cut):\n",
    "    path = pd.DataFrame(columns=['no', 'step', 'x', 'y', 'path_id'])\n",
    "    path_id = random.randint(0, 10**6)\n",
    "    for step in range(num_steps):\n",
    "        path.loc[len(path)] = [start_no, step, x_c, y_c, path_id]\n",
    "        x_c, y_c = get_next(x_c, y_c, h, params, reverse)\n",
    "        if x_c < -1e3 or y_c < -1e3:\n",
    "            print(f\"Reached negative values at step {step}: {x_c, y_c}\")\n",
    "            if add_first_cut:\n",
    "                path.loc[len(path)] = [start_no, step+1, x_c, y_c, path_id]\n",
    "            return path\n",
    "        if abs(x_c) > 1e10 or abs(y_c) > 1e10:\n",
    "            print(f\"Reached too large value at path no {start_no}\")\n",
    "            return path\n",
    "        if sol_is_almost_real((x_c, y_c)):\n",
    "            x_c, y_c = cast_to_real((x_c, y_c))\n",
    "        else:\n",
    "            raise ValueError(f\"Solution is essentially complex {x_c, y_c}\")\n",
    "    return path\n",
    "\n",
    "\n",
    "_get_path_const_h = _get_path\n",
    "\n",
    "# @njit\n",
    "\n",
    "\n",
    "def _get_path_variable_h(start_no, num_steps, x_c, y_c, params, reverse, h, add_first_cut):\n",
    "    path = pd.DataFrame(columns=['no', 'step', 'x', 'y', 'path_id', 'h'])\n",
    "    path_id = random.randint(0, 10**6)\n",
    "    curh = h\n",
    "    for step in range(num_steps):\n",
    "        path.loc[len(path)] = [start_no, step, x_c, y_c, path_id, curh]\n",
    "        prev_y = y_c\n",
    "        x_c, y_c = get_next(x_c, y_c, curh, params, reverse)\n",
    "        if abs(y_c**(1/4) - prev_y**(1/4)) > 0.1:\n",
    "            curh = curh / 2\n",
    "        if x_c < -1e3 or y_c < -1e3:\n",
    "            print(f\"Reached negative values at step {step}: {x_c, y_c}\")\n",
    "            if add_first_cut:\n",
    "                path.loc[len(path)] = [start_no, step +\n",
    "                                       1, x_c, y_c, path_id, curh]\n",
    "            return path\n",
    "        if abs(x_c) > 1e10 or abs(y_c) > 1e10:\n",
    "            print(f\"Reached too large value at path no {start_no}\")\n",
    "            return path\n",
    "        if sol_is_almost_real((x_c, y_c)):\n",
    "            x_c, y_c = cast_to_real((x_c, y_c))\n",
    "        else:\n",
    "            raise ValueError(f\"Solution is essentially complex {x_c, y_c}\")\n",
    "    return path\n",
    "\n",
    "# @njit\n",
    "\n",
    "\n",
    "def get_paths(params, starts, num_steps, h=H, reverse=False, spec_name=None,\n",
    "              add_first_cut=False):\n",
    "    paths = []\n",
    "    # for start_no, (x_c, y_c) in list(enumerate(starts)):\n",
    "    for start_no, (x_c, y_c) in (pbar := tqdm(list(enumerate(starts)))):\n",
    "        pbar.set_description(f\"Finding paths\")\n",
    "        path = _get_path(start_no, num_steps, x_c, y_c,\n",
    "                         params, reverse, h, add_first_cut).astype(float)\n",
    "        if spec_name:\n",
    "            path[\"name\"] = spec_name\n",
    "        else:\n",
    "            calculated_name = 'to_zt' if (\n",
    "                abs(path.y.iloc[-1] - 0) < 1e-6) else 'to_at'\n",
    "            path[\"name\"] = calculated_name\n",
    "        paths.append(path)\n",
    "    paths = pd.concat(paths).reset_index(drop=True)\n",
    "    paths[\"ysqrt4\"] = np.power(paths.y, 1/4)\n",
    "    return paths\n",
    "\n",
    "\n",
    "def union_same_solutions(solutions):\n",
    "    return list(set((round(x, 5), round(y, 5))for x, y in solutions))\n",
    "\n",
    "\n",
    "def get_white_fig():\n",
    "    fig = go.Figure()\n",
    "    fig.update_layout(template=\"plotly_white\",\n",
    "                      width=600,\n",
    "                      height=500)\n",
    "    return fig\n",
    "\n",
    "\n",
    "def get_fig(params):\n",
    "    fig = go.Figure()\n",
    "    fig.update_layout(\n",
    "        title=f\"Phase portrait. 𝜇 = {params[mu]} b = {params[b]}\")\n",
    "    fig.update_layout(xaxis={\"title\": \"x\"}, yaxis={\n",
    "                      \"title\": r'$y^{1/4}$'}, template=\"plotly_white\",\n",
    "                      width=600,\n",
    "                      height=500)\n",
    "    return fig\n",
    "\n",
    "\n",
    "def get_fig_ts(params):\n",
    "    fig = go.Figure()\n",
    "    fig.update_layout(\n",
    "        title=f\"Time series. 𝜇 = {params[mu]} b = {params[b]}\")\n",
    "    fig.update_layout(xaxis={\"title\": \"t\"}, yaxis={\n",
    "                      \"title\": r'$y^{1/4}$'}, template=\"plotly_white\",\n",
    "                      width=600,\n",
    "                      height=500)\n",
    "    return fig\n",
    "\n",
    "\n",
    "def fig_add_paths(fig, paths, auto_define_color=True, name=\"\"):\n",
    "    fig = go.Figure(fig)\n",
    "    for (path_id, where_to, path_no), path in paths.groupby(\n",
    "            [\"path_id\", \"name\", \"no\"]):\n",
    "        line_style = {}\n",
    "        # зеленая, если у пришел в 0. (ZT)\n",
    "        scatter_params = dict(x=path.x, y=path.ysqrt4, customdata=path.step,\n",
    "                              mode='lines', name=name,\n",
    "                              hovertemplate='<br>'.join([\n",
    "                                  'x: %{x}',\n",
    "                                  'y: %{y}',\n",
    "                                  'step_no: %{customdata}',\n",
    "                              ])\n",
    "                              )\n",
    "        if auto_define_color:\n",
    "            traj_color = 'green' if abs(path.y.iloc[-1] - 0) < 1e-6 else 'red'\n",
    "            scatter_params['line'] = dict(\n",
    "                color=traj_color,\n",
    "                width=1.5)\n",
    "        fig.add_trace(go.Scatter(scatter_params))\n",
    "    return fig\n",
    "\n",
    "\n",
    "def fig_add_ts(fig, paths):\n",
    "    for (path_id, name, path_no), path in paths[paths.name != 'sep'].groupby(\n",
    "            [\"path_id\", \"name\", \"no\"]):\n",
    "        fig.add_trace(go.Scatter(x=path.h.cumsum(), y=path.ysqrt4,\n",
    "                                 name=f'{name}, id = {path_id}, no={path_no}'))\n",
    "    return fig\n",
    "\n",
    "\n",
    "def fig_add_ellipse(fig, ellipse, y_col='ysqrt4', name=''):\n",
    "    fig = go.Figure(fig)\n",
    "    fig.add_trace(go.Scatter(x=ellipse.x, y=ellipse[y_col],\n",
    "                  mode=\"markers\", name=name))\n",
    "    return fig\n",
    "\n",
    "\n",
    "def get_fig_phase_portrait(paths, params):\n",
    "    fig = go.Figure()\n",
    "    for (path_id, name, path_no), path in paths[paths.name != 'sep'].groupby(\n",
    "            [\"path_id\", \"name\", \"no\"]):\n",
    "        # зеленая, если у пришел в 0. (ZT)\n",
    "        traj_color = 'green' if abs(path.y.iloc[-1] - 0) < 1e-6 else 'red'\n",
    "        fig.add_trace(go.Scatter(x=path.x, y=path.ysqrt4, customdata=path.step,\n",
    "                                 mode='lines', name=\"\",\n",
    "                                 hovertemplate='<br>'.join([\n",
    "                                     'x: %{x}',\n",
    "                                     'y: %{y}',\n",
    "                                     'step_no: %{customdata}',\n",
    "                                 ]),\n",
    "                                 line=dict(\n",
    "                                     color=traj_color,\n",
    "                                     width=1.5)))\n",
    "    fig.update_layout(\n",
    "        title=f\"Phase portrait. 𝜇 = {params[mu]} b = {params[b]}\")\n",
    "    fig.update_layout(xaxis={\"title\": \"x\"}, yaxis={\n",
    "                      \"title\": r'$y^{1/4}$'}, template=\"plotly_white\",\n",
    "                      width=600,\n",
    "                      height=500)\n",
    "    return fig\n",
    "\n",
    "\n",
    "def get_eqs(params):\n",
    "    starts = (list(itertools.product(np.linspace(0, 1, 10), np.linspace(256, 1400, 10))) +\n",
    "              list(itertools.product(np.linspace(0, 1, 10), np.linspace(0, 0.1**4, 10))))\n",
    "\n",
    "    solutions = get_n_solutions_by_bxy(params, starts)\n",
    "    solutions = [cast_to_real(s) for s in solutions if sol_is_almost_real(s)]\n",
    "    return solutions\n",
    "\n",
    "\n",
    "def get_eqs_by_starts(params, starts):\n",
    "    solutions = get_n_solutions_by_bxy(params, starts)\n",
    "    solutions = [cast_to_real(s) for s in solutions if sol_is_almost_real(s)]\n",
    "    return solutions\n",
    "\n",
    "\n",
    "def compute_phase_portrait(b_const, paths_starts, num_steps=1000, h=H):\n",
    "    params = bless_params | {b: b_const}\n",
    "    paths = get_paths(params, paths_starts, num_steps, h)\n",
    "    return get_fig_phase_portrait(paths, params), paths\n",
    "\n",
    "\n",
    "def get_separatrix_paths(params, separatrix_starts, num_steps=1000, h=H):\n",
    "    global get_next\n",
    "    global _get_path\n",
    "    saved = get_next\n",
    "    saved_get_p = _get_path\n",
    "    _get_path = _get_path_const_h\n",
    "    get_next = get_next_deterministic\n",
    "    separatrix_paths = get_paths(\n",
    "        params, separatrix_starts, num_steps, h, reverse=True)\n",
    "    separatrix_paths = separatrix_paths[(\n",
    "        separatrix_paths.x < 4.2) & (separatrix_paths.x > 0)]\n",
    "    separatrix_paths[\"name\"] = \"sep\"\n",
    "    get_next = saved\n",
    "    _get_path = saved_get_p\n",
    "    return separatrix_paths\n",
    "\n",
    "\n",
    "def add_separatrix(fig, separatrix_paths):\n",
    "    for path_no, path in separatrix_paths.groupby(\"no\"):\n",
    "        fig.add_trace(go.Scatter(x=path.x, y=path.ysqrt4, mode='lines', name=\"\",\n",
    "                                 line=dict(\n",
    "                                     color='red',\n",
    "                                     width=1.5,\n",
    "                                     dash=\"dot\")))\n",
    "    return fig\n",
    "\n",
    "\n",
    "def plot_eq(eq, fig, color, name, need_take_root=True):\n",
    "    x = [eq[0]]\n",
    "    y = [eq[1]**(1/4 if need_take_root else 1)]\n",
    "    if color in ('red', 'green'):\n",
    "        fig.add_trace(go.Scatter(x=x, y=y, name=name, line=dict(color=color)))\n",
    "    elif color == 'white':\n",
    "        fig.add_trace(go.Scatter(x=x, y=y, name=name,\n",
    "                                 marker=dict(color='white',\n",
    "                                             line=dict(color='black', width=1))))\n",
    "    else:\n",
    "        raise ValueError(f\"unknown color {color}\")\n",
    "\n",
    "\n",
    "def get_norm_random():  # ~N(0,1)\n",
    "\n",
    "    return ((-2*math.log(r1))**0.5*math.cos(2*math.pi*r2),\n",
    "            )\n",
    "\n",
    "\n",
    "def get_next_noisy(x, y, h, params, reverse=False, eps=1):\n",
    "    # ksi, eta = get_norm_random()\n",
    "    r1 = random.random()\n",
    "    r2 = random.random()\n",
    "    ksi = ksi * math.sqrt(h)  # ~N(0,h). Это приращение Винеровского процесса\n",
    "    eta = eta * math.sqrt(h)\n",
    "    b_determined = params[b]\n",
    "    if eps*eta < -b_determined:# TODO мб вернуть срезку eta is not used\n",
    "        eta = -b_determined/eps\n",
    "\n",
    "    noisy_b = b_determined + eps*eta\n",
    "    if noisy_b < 0:\n",
    "        raise Exception(noisy_b, b_determined, eta)\n",
    "    cur_params = dict(params)\n",
    "    k1 = h * f(x, y, cur_params, reverse=reverse)\n",
    "    l1 = h * g(x, y, cur_params, reverse=reverse)\n",
    "    k2 = h * f(x + k1 / 2, y + l1 / 2, cur_params, reverse=reverse)\n",
    "    l2 = h * g(x + k1 / 2, y + l1 / 2,  cur_params, reverse=reverse)\n",
    "    k3 = h * f(x + k2 / 2, y + l2 / 2,  cur_params, reverse=reverse)\n",
    "    l3 = h * g(x + k2 / 2, y + l2 / 2,  cur_params, reverse=reverse)\n",
    "    k4 = h * f(x + k3, y + l3, cur_params, reverse=reverse)\n",
    "    l4 = h * g(x + k3, y + l3,  cur_params, reverse=reverse)\n",
    "    return (x + ((k1 + 2 * k2 + 2 * k3 + k4) / 6),\n",
    "            y + ((l1 + 2 * l2 + 2 * l3 + l4) / 6)\n",
    "            + eps * math.sqrt(h * (-2*math.log(r1))) * math.sin(2*math.pi*r2) * (y / (1+y)))\n",
    "\n",
    "\n",
    "def plot_eqs(fig, eq_at, eq_zt, eq_sep, need_take_root=True):\n",
    "    plot_eq(eq_at, fig, 'red', 'eq AT', need_take_root)\n",
    "    plot_eq(eq_zt, fig, 'green', 'eq ZT', need_take_root)\n",
    "    plot_eq(eq_sep, fig, 'white', 'eq sep', need_take_root)\n",
    "\n",
    "\n",
    "def get_jacobi_matrix():\n",
    "    f11, f12, f21, f22 = symbols('f11 f12 f21 f22')\n",
    "    F = Matrix([[f11, f12], [f21, f22]]).evalf(\n",
    "        subs={f11: dfdx, f12: dfdy,\n",
    "              f21: dgdx, f22: dgdy})\n",
    "    return F\n",
    "\n",
    "\n",
    "def get_ssm_phys(eq, params):\n",
    "    x_eq, y_eq = eq\n",
    "    s2 = y/(4*(1+y**4))\n",
    "    S = Matrix([[0, 0], [0, s2**2]]).evalf(subs={y: y_eq})\n",
    "    # sigma_mat = Matrix([[0, 0], [0,]])#TODO для моей системы иначе\n",
    "    F = get_jacobi_matrix().evalf(subs=params | {x: x_eq, y: y_eq}\n",
    "                                  )  # производные по аргументам\n",
    "\n",
    "    w11, w12, w21, w22 = symbols('w11 w12 w21 w22')\n",
    "    W = Matrix([[w11, w12], [w21, w22]])\n",
    "    gen_sol = solve(F*W + W*F.T + S, W)\n",
    "    return Matrix([[gen_sol[w11], gen_sol[w12]],\n",
    "                   [gen_sol[w21], gen_sol[w22]]])\n",
    "    W_f = W_solved_general.evalf(subs={f11: dfdx, f12: dfdy,\n",
    "                                       f21: dgdx, f22: dgdy}\n",
    "                                 | params\n",
    "                                 | {x: x_eq, y: y_eq,\n",
    "                                    }\n",
    "                                 )\n",
    "    return W_f\n",
    "\n",
    "\n",
    "def get_ssm(eq, params):\n",
    "    x_eq, y_eq = eq\n",
    "    # TODO для моей системы иначе\n",
    "    # sigma_mat = Matrix([[0, 0], [0, y/(4*(1+y**4))]])  # из phys\n",
    "    sigma_mat = Matrix([[0, 0], [0, y/(1+y)]])# из моей системы\n",
    "    f11, f12, f21, f22 = symbols('f11 f12 f21 f22')\n",
    "    F = Matrix([[f11, f12], [f21, f22]])  # производные по аргументам\n",
    "\n",
    "    w11, w12, w21, w22 = symbols('w11 w12 w21 w22')\n",
    "    W = Matrix([[w11, w12], [w21, w22]])\n",
    "    xeq, yeq = symbols(r\"\\bar{x} \\bar{y}\")\n",
    "    G = sigma_mat * Matrix([xeq, yeq])\n",
    "    S = Matrix([[0, 0], [0, (y/(1+y))**2]]) #G * G.T\n",
    "    gen_sol = solve(F*W + W*F.T + S, W)\n",
    "    W_solved_general = Matrix([[gen_sol[w11], gen_sol[w12]],\n",
    "                               [gen_sol[w21], gen_sol[w22]]])\n",
    "    W_f = W_solved_general.evalf(subs={f11: dfdx, f12: dfdy,\n",
    "                                       f21: dgdx, f22: dgdy}\n",
    "                                 | params\n",
    "                                 | {x: x_eq, y: y_eq,\n",
    "                                    xeq: x_eq, yeq: y_eq}\n",
    "                                 )\n",
    "    return W_f\n",
    "\n",
    "\n",
    "def get_ellipse(eq, fid_prob, eps, params):\n",
    "    W_f = get_ssm(eq, params)\n",
    "    eig_val1, eig_val2 = [e_val for (e_val, m, _) in W_f.eigenvects()]\n",
    "    v1, v2 = [vecs[0].normalized() for (e_val, m, vecs) in W_f.eigenvects()]\n",
    "    z1 = (Matrix([x, y]) - Matrix(eq)).dot(v1)\n",
    "    z2 = (Matrix([x, y]) - Matrix(eq)).dot(v2)\n",
    "    ellipse_general_form = solve(\n",
    "        # (z1**2)/eig_val1 + (z2**2)/eig_val2 - 2*k_sq*eps**2, y\n",
    "        (z1**2)/eig_val1 + (z2**2)/eig_val2 + \\\n",
    "        2*(eps**2)*math.log(1-fid_prob), y\n",
    "    )\n",
    "    ellipse = set()\n",
    "    for curx in np.concatenate([\n",
    "        # np.linspace(-100, 100, 10000), np.linspace(0, 1, 1000), # my model\n",
    "        np.linspace(0.03, 0.04, 100),  # my\n",
    "        # np.linspace(1.2, 1.8, 100),  # phys\n",
    "    ]):\n",
    "        for semi_func in ellipse_general_form:\n",
    "            sol = curx, semi_func.evalf(subs={x: curx})\n",
    "            if sol_is_almost_real(sol):\n",
    "                sol = cast_to_real(sol)\n",
    "                ellipse.add(sol)\n",
    "\n",
    "    ellipse = pd.DataFrame(ellipse, columns=['x', 'y'])\n",
    "    ellipse[\"ysqrt4\"] = np.power(ellipse.y, 1/4)\n",
    "    ellipse = ellipse.astype(float)\n",
    "    return ellipse\n",
    "\n",
    "\n",
    "def get_united_constraint_eqs(params):\n",
    "    \"\"\" Returns equilibrium points.\n",
    "    Almost same points are united.\n",
    "    Restriction of positiveness on x and y is applied\n",
    "    \"\"\"\n",
    "    eqs = get_eqs(params)\n",
    "    united_eqs = sorted(union_same_solutions(eqs))\n",
    "    return [(eqx, eqy) for (eqx, eqy) in united_eqs if eqx >= 0 and eqy >= 0]\n",
    "\n",
    "\n",
    "def get_positive_prefix(path):\n",
    "    path = path.loc[get_positive_prefix_mask(path.x)]\n",
    "    path = path.loc[get_positive_prefix_mask(path.y)]\n",
    "    if path.empty:\n",
    "        print('Contrained path is empty')\n",
    "    return path\n",
    "\n",
    "\n",
    "def cut_positive_prefixes(paths):\n",
    "    r = []\n",
    "    for _, path in paths.groupby('path_id'):\n",
    "        r.append(get_positive_prefix(path))\n",
    "    return pd.concat(r).reset_index(drop=True)\n",
    "\n",
    "\n",
    "def get_paths_constrained(params, starts, num_steps, h=H):\n",
    "    paths = get_paths(params, starts, num_steps=num_steps, h=h)\n",
    "    return cut_positive_prefixes(paths)\n",
    "\n",
    "\n",
    "def get_probs(noisy_paths):\n",
    "    out = defaultdict(int)\n",
    "    total = defaultdict(int)\n",
    "    for (cur_eps, curb), paths in noisy_paths.groupby([\"eps\", \"b\"]):\n",
    "        total[(curb, cur_eps)] = paths.path_id.nunique()\n",
    "        for _, path in paths.groupby(\"path_id\"):\n",
    "            out[(curb, cur_eps)] += int(path.y.min() < 1.5**4)\n",
    "\n",
    "    r = []\n",
    "    for (curb, cur_eps), total_cnt in total.items():\n",
    "        r.append((curb, cur_eps, out[(curb, cur_eps)], total_cnt))\n",
    "    df = pd.DataFrame(r, columns=['b', 'eps', 'out', 'total'])\n",
    "    df['p'] = df.out/df.total\n",
    "    return df\n",
    "\n",
    "\n",
    "def fig_dump(fig, name):\n",
    "    with open(f'fig_jsons/{name}.json', 'w') as f:\n",
    "        json.dump(to_json(fig), f)\n",
    "\n",
    "\n",
    "def fig_load(name):\n",
    "    with open(f'fig_jsons/{name}.json') as f:\n",
    "        return from_json(json.load(f))\n"
   ]
  },
  {
   "cell_type": "code",
   "execution_count": null,
   "metadata": {
    "tags": []
   },
   "outputs": [],
   "source": [
    "# mus = np.linspace(0.002, 0.022, 50)\n",
    "\n",
    "mus = np.concatenate([\n",
    "    np.linspace(0.0020, 0.0026, 50, endpoint=False),\n",
    "    np.linspace(0.0026, 0.00265, 50, endpoint=False),\n",
    "    np.linspace(0.00265, 0.0040, 50, endpoint=False),\n",
    "    np.linspace(0.0040, 0.0130, 50, endpoint=False),\n",
    "    np.linspace(0.0131, 0.0133, 50, endpoint=False),\n",
    "    np.linspace(0.0130, 0.0135, 50, endpoint=False),\n",
    "    np.linspace(0.0135, 0.0220, 50, endpoint=False)\n",
    "])\n"
   ]
  },
  {
   "cell_type": "code",
   "execution_count": null,
   "metadata": {
    "tags": []
   },
   "outputs": [],
   "source": []
  },
  {
   "cell_type": "code",
   "execution_count": null,
   "metadata": {
    "tags": []
   },
   "outputs": [],
   "source": [
    "xs = []\n",
    "ys = []\n",
    "mul = []\n",
    "solutions_by_mu = {}\n",
    "for cur_mu in tqdm(mus):\n",
    "    solutions = get_solutions(muless_params | {mu: cur_mu})\n",
    "    solutions = [cast_to_real(s) for s in solutions if sol_is_almost_real(s)]\n",
    "    solutions_by_mu[cur_mu] = solutions\n"
   ]
  },
  {
   "cell_type": "code",
   "execution_count": null,
   "metadata": {
    "tags": []
   },
   "outputs": [],
   "source": [
    "# y_im_parts = []\n",
    "# x_im_parts = []\n",
    "# mus_for_im=[]\n",
    "# for cur_mu, sols in list(solutions_by_mu.items()):\n",
    "#     for cur_x,cur_y in sols:\n",
    "#         x_im_parts.append(float(cur_x))\n",
    "#         y_im_parts.append(float(cur_y))\n",
    "#         mus_for_im.append(cur_mu)\n",
    "\n",
    "# fig = go.Figure()\n",
    "# fig.add_trace(go.Scatter(x=mus_for_im, y=x_im_parts, mode='markers', name = \"x_im_parts\"))\n",
    "# fig.add_trace(go.Scatter(x=mus_for_im, y=y_im_parts, mode='markers', name = \"y_im_parts\"))\n",
    "# fig.update_layout(title=\"Imaginary parts of X and Y\")\n",
    "# fig.update_layout(xaxis={\"title\": \"mu\"})\n"
   ]
  },
  {
   "cell_type": "code",
   "execution_count": null,
   "metadata": {
    "tags": []
   },
   "outputs": [],
   "source": [
    "mu_min = 0.002\n",
    "mu_max = 0.017\n",
    "filtered_solutions_by_mu = {\n",
    "    mu: solutions_by_mu[mu] for mu in solutions_by_mu if mu_min < mu < mu_max}\n",
    "# filtered_solutions_by_mu\n"
   ]
  },
  {
   "cell_type": "code",
   "execution_count": null,
   "metadata": {
    "tags": []
   },
   "outputs": [],
   "source": [
    "# display_sol_list(list(filtered_solutions_by_mu.items())[:2])\n"
   ]
  },
  {
   "cell_type": "code",
   "execution_count": null,
   "metadata": {},
   "outputs": [],
   "source": []
  },
  {
   "cell_type": "code",
   "execution_count": null,
   "metadata": {
    "tags": []
   },
   "outputs": [],
   "source": [
    "xs = []\n",
    "ys = []\n",
    "mus_bif = []\n",
    "df = pd.DataFrame(columns=['mu', 'x', 'y', 'stable'])\n",
    "for cur_mu, sols in tqdm(list(filtered_solutions_by_mu.items())):\n",
    "    for cur_x, cur_y in sols:\n",
    "        lam1, lam2 = get_eigen_values(float(cur_x), float(\n",
    "            cur_y), muless_params | {mu: cur_mu})\n",
    "        stable = re(lam1) < 0 and re(lam2) < 0\n",
    "        df.loc[len(df)] = [cur_mu, float(cur_x), float(cur_y), stable]\n",
    "\n",
    "\n",
    "df.stable = df.stable.astype(bool)\n",
    "df = df[df.y != 0]\n",
    "\n",
    "\n",
    "# fig.add_trace(go.Scatter(x=stables.mu, y=stables.y, mode='markers', name = \"y\"))\n"
   ]
  },
  {
   "cell_type": "code",
   "execution_count": null,
   "metadata": {
    "tags": []
   },
   "outputs": [],
   "source": [
    "df.y = df.y.astype('float')\n",
    "df.stable = df.stable.astype(bool)\n",
    "\n",
    "df.sort_values('y', inplace=True)\n",
    "stables = df[df.stable]\n",
    "dormants = df[df.stable & (df.y < 200)]\n",
    "actives = df[df.stable & (df.y > 200)]\n",
    "unstables = df[~df.stable]\n"
   ]
  },
  {
   "cell_type": "code",
   "execution_count": null,
   "metadata": {
    "tags": []
   },
   "outputs": [],
   "source": [
    "fig = go.Figure()\n",
    "fig.add_trace(go.Scatter(x=actives.mu, y=actives.y, mode='lines', name=\"actives\",\n",
    "                         line={\"color\": \"red\"} | get_line_mode(stable=True)))\n",
    "\n",
    "fig.add_trace(go.Scatter(x=dormants.mu, y=dormants.y, mode='lines', name=\"dormants\",\n",
    "                         line={\"color\": \"blue\"} | get_line_mode(stable=True)))\n",
    "\n",
    "fig.add_trace(go.Scatter(x=unstables.mu, y=unstables.y, mode='lines', name=\"unstable\",\n",
    "                         line={\"color\": \"black\"} | get_line_mode(stable=False)))\n",
    "# fig.add_trace(go.Scatter(x=df.mu, y=df.y, mode='markers', name = \"y\"))\n",
    "fig.update_layout(title=\"Fig 1. Bifurcation diagram with no treatment. b = 0\")\n",
    "fig.update_layout(xaxis={\"title\": \"μ\"}, yaxis={\"title\": \"y\"}, template=\"plotly_white\", autosize=False,\n",
    "                  width=600,\n",
    "                  height=500)\n",
    "fig.update_yaxes(type=\"log\")\n",
    "# fig.update_xaxes(showgrid=False)\n",
    "fig.update_yaxes(showgrid=False)\n"
   ]
  },
  {
   "cell_type": "markdown",
   "metadata": {},
   "source": [
    "## 𝜇 = 0.014. Monostable active. b is variable"
   ]
  },
  {
   "cell_type": "code",
   "execution_count": null,
   "metadata": {
    "tags": []
   },
   "outputs": [],
   "source": [
    "mu_c = 0.014\n",
    "bless_params[mu] = mu_c\n"
   ]
  },
  {
   "cell_type": "code",
   "execution_count": null,
   "metadata": {
    "tags": []
   },
   "outputs": [],
   "source": [
    "def get_n_solutions_by_b(params, y_starts):\n",
    "    res = set()\n",
    "    for y_start in y_starts:\n",
    "        try:\n",
    "            res.add(ImmutableMatrix(\n",
    "                nsolve([dxdt.subs(params), dydt.subs(params)], (x, y), (0, y_start))))\n",
    "        # Could not find root within given tolerance. (1.56236416469305495856 > 2.16840434497100886801e-19)\n",
    "        except ValueError:\n",
    "            # Try another starting point or tweak arguments.\n",
    "            pass\n",
    "    return res\n"
   ]
  },
  {
   "cell_type": "code",
   "execution_count": null,
   "metadata": {
    "tags": []
   },
   "outputs": [],
   "source": [
    "solutions_by_b = {}\n",
    "bs_full_range = np.concatenate([\n",
    "    np.linspace(0.0, 200, 500, endpoint=False),\n",
    "    np.linspace(194, 195, 50, endpoint=False),\n",
    "    np.linspace(10, 25, 100, endpoint=False),\n",
    "])\n",
    "bs_smalls = np.concatenate([\n",
    "    np.linspace(0.0, 10, 100, endpoint=False),\n",
    "    np.linspace(8.2, 8.4, 100, endpoint=False),\n",
    "    np.linspace(8.334, 8.336, 10, endpoint=False)\n",
    "])\n",
    "for bs_set, y_starts in zip([bs_full_range, bs_smalls],\n",
    "                            [np.linspace(0, 600, 6), np.linspace(0, 30, 6)]):\n",
    "    for curb in tqdm(bs_set):\n",
    "        solutions = get_n_solutions_by_b(bless_params | {b: curb}, y_starts)\n",
    "        solutions = [cast_to_real(s)\n",
    "                     for s in solutions if sol_is_almost_real(s)]\n",
    "        solutions_by_b[curb] = solutions\n"
   ]
  },
  {
   "cell_type": "code",
   "execution_count": null,
   "metadata": {
    "tags": []
   },
   "outputs": [],
   "source": [
    "bif_solutions_by_b = dict(solutions_by_b)\n"
   ]
  },
  {
   "cell_type": "code",
   "execution_count": null,
   "metadata": {
    "tags": []
   },
   "outputs": [],
   "source": [
    "df = pd.DataFrame({'b': pd.Series(dtype='float'),\n",
    "                   'x': pd.Series(dtype='float'),\n",
    "                   'y': pd.Series(dtype='float'),\n",
    "                   'stable': pd.Series(dtype='bool')})\n",
    "for curb, sols in tqdm(solutions_by_b.items()):\n",
    "    for sol in sols:\n",
    "        cur_x, cur_y = sol\n",
    "        lam1, lam2 = get_eigen_values(\n",
    "            float(cur_x), float(cur_y), bless_params | {b: curb})\n",
    "        stable = re(lam1) < 0 and re(lam2) < 0\n",
    "        df.loc[len(df)] = [curb, float(cur_x), float(cur_y), stable]\n",
    "\n",
    "df.stable = df.stable.astype(bool)\n",
    "orig = df.copy()\n"
   ]
  },
  {
   "cell_type": "code",
   "execution_count": null,
   "metadata": {
    "tags": []
   },
   "outputs": [],
   "source": [
    "df.b = df.b.astype(float)\n"
   ]
  },
  {
   "cell_type": "code",
   "execution_count": null,
   "metadata": {
    "tags": []
   },
   "outputs": [],
   "source": [
    "# df = df[(df.y>=0) & (df.y.abs()>1e-10)]\n",
    "df = df[(df.y >= 0)]\n",
    "df.sort_values('y', inplace=True)\n"
   ]
  },
  {
   "cell_type": "markdown",
   "metadata": {},
   "source": [
    "### ! Bifurcation diagram. 𝜇 = 0.014"
   ]
  },
  {
   "cell_type": "code",
   "execution_count": null,
   "metadata": {
    "tags": []
   },
   "outputs": [],
   "source": [
    "fig = go.Figure()\n",
    "stables = df[df.stable & (df.y != 0)]\n",
    "unstables = df[~df.stable & (df.y != 0)]\n",
    "zero_tumor_stables = df[df.stable & (df.y == 0)]\n",
    "zero_tumor_unstables = df[~df.stable & (df.y == 0)]\n",
    "\n",
    "fig.add_trace(go.Scatter(x=stables.b, y=stables.y, mode='lines', name=\"stables\",\n",
    "              line={\"color\": \"red\"} | get_line_mode(stable=True)))\n",
    "fig.add_trace(go.Scatter(x=unstables.b, y=unstables.y, mode='lines', name=\"unstables\",\n",
    "                         line={\"color\": \"red\"} | get_line_mode(stable=False)))\n",
    "fig.add_trace(go.Scatter(x=zero_tumor_stables.b, y=zero_tumor_stables.y, mode='lines', name=\"zero_tumor_stables\",\n",
    "                         line={\"color\": \"green\"} | get_line_mode(stable=True)))\n",
    "fig.add_trace(go.Scatter(x=zero_tumor_unstables.b, y=zero_tumor_unstables.y, mode='lines', name=\"zero_tumor_unstables\",\n",
    "                         line={\"color\": \"green\"} | get_line_mode(stable=False)))\n",
    "\n",
    "fig.update_layout(title=\"Fig 2(c). Bifurcation diagram. 𝜇 = 0.014\")\n",
    "fig.update_layout(xaxis={\"title\": \"b\"}, yaxis={\"title\": \"y\"}, template=\"plotly_white\", autosize=False,\n",
    "                  width=700,\n",
    "                  height=500)\n"
   ]
  },
  {
   "cell_type": "code",
   "execution_count": null,
   "metadata": {
    "tags": []
   },
   "outputs": [],
   "source": [
    "# fig = go.Figure()\n",
    "# stables = df[df.stable & (df.y != 0)]\n",
    "# unstables = df[~df.stable & (df.y != 0)]\n",
    "# zero_tumor_stables = df[df.stable & (df.y == 0)]\n",
    "# zero_tumor_unstables = df[~df.stable & (df.y == 0)]\n",
    "\n",
    "# fig.add_trace(go.Scatter(x=stables.b, y=stables.y, mode='lines+markers', name=\"stables\",\n",
    "#               line={\"color\": \"red\"} | get_line_mode(stable=True)))\n",
    "# fig.add_trace(go.Scatter(x=unstables.b, y=unstables.y, mode='lines+markers', name=\"unstables\",\n",
    "#                          line={\"color\": \"red\"} | get_line_mode(stable=False)))\n",
    "# fig.add_trace(go.Scatter(x=zero_tumor_stables.b, y=zero_tumor_stables.y, mode='lines+markers', name=\"zero_tumor_stables\",\n",
    "#                          line={\"color\": \"green\"} | get_line_mode(stable=True)))\n",
    "# fig.add_trace(go.Scatter(x=zero_tumor_unstables.b, y=zero_tumor_unstables.y, mode='lines+markers', name=\"zero_tumor_unstables\",\n",
    "#                          line={\"color\": \"green\"} | get_line_mode(stable=False)))\n",
    "\n",
    "# fig.update_layout(title=\"Fig 2(c). Bifurcation diagram. 𝜇 = 0.014\")\n",
    "# fig.update_layout(xaxis={\"title\": \"b\"}, yaxis={\"title\": \"y\"}, template=\"plotly_white\", autosize=False,\n",
    "#                   width=700,\n",
    "#                   height=500)\n"
   ]
  },
  {
   "cell_type": "code",
   "execution_count": null,
   "metadata": {
    "tags": []
   },
   "outputs": [],
   "source": [
    "# Note: b в районе 10 - 20 - решения не находятся\n"
   ]
  },
  {
   "cell_type": "code",
   "execution_count": null,
   "metadata": {
    "tags": []
   },
   "outputs": [],
   "source": [
    "dfsmall = df[df.b.isin(bs_smalls)]\n"
   ]
  },
  {
   "cell_type": "code",
   "execution_count": null,
   "metadata": {
    "tags": []
   },
   "outputs": [],
   "source": [
    "b1 = 5.8\n",
    "b2 = 8.3356\n"
   ]
  },
  {
   "cell_type": "code",
   "execution_count": null,
   "metadata": {
    "tags": []
   },
   "outputs": [],
   "source": [
    "lower_flexure = dfsmall[(dfsmall.y > 5) & (dfsmall.y < 17)]\n",
    "upper_flexure = dfsmall[(dfsmall.y > 17) & (dfsmall.y < 24)]\n",
    "b2_exp = lower_flexure.b.max()\n",
    "b1_exp = upper_flexure.b.min()\n",
    "lower_flexure_y = dfsmall[(dfsmall.b == b2_exp) & (\n",
    "    dfsmall.y < 10.5) & (dfsmall.y > 9)]\n",
    "b1_exp, b2_exp\n"
   ]
  },
  {
   "cell_type": "code",
   "execution_count": null,
   "metadata": {
    "tags": []
   },
   "outputs": [],
   "source": [
    "y_low_thrsh = lower_flexure_y.y.mean()\n",
    "y_low_thrsh\n"
   ]
  },
  {
   "cell_type": "code",
   "execution_count": null,
   "metadata": {
    "tags": []
   },
   "outputs": [],
   "source": [
    "pink = dfsmall[(dfsmall.b <= b2) & (dfsmall.y <= y_low_thrsh)\n",
    "               & ~dfsmall.stable & (dfsmall.y > 0)]\n",
    "blue = dfsmall[(dfsmall.b >= b1) & (dfsmall.b <= b2) & (\n",
    "    y_low_thrsh < dfsmall.y) & (dfsmall.y < 19) & ~dfsmall.stable]\n",
    "red = dfsmall[(dfsmall.b > b1) & (dfsmall.y > 18.8) & ~dfsmall.stable]\n",
    "\n",
    "zero_tumor_stables = dfsmall[dfsmall.stable & (dfsmall.y == 0)]\n",
    "zero_tumor_unstables = dfsmall[~dfsmall.stable & (dfsmall.y == 0)]\n"
   ]
  },
  {
   "cell_type": "code",
   "execution_count": null,
   "metadata": {
    "tags": []
   },
   "outputs": [],
   "source": [
    "fig = go.Figure()\n",
    "\n",
    "fig.add_trace(go.Scatter(x=pink.b, y=pink.y, mode='lines', name=\"\",\n",
    "              line={\"color\": \"magenta\"} | get_line_mode(stable=False)))\n",
    "\n",
    "fig.add_trace(go.Scatter(x=blue.b, y=blue.y, mode='lines', name=\"\",\n",
    "              line={\"color\": \"blue\"} | get_line_mode(stable=False)))\n",
    "\n",
    "fig.add_trace(go.Scatter(x=red.b, y=red.y, mode='lines', name=\"\",\n",
    "              line={\"color\": \"red\"} | get_line_mode(stable=False)))\n",
    "\n",
    "fig.add_trace(go.Scatter(x=zero_tumor_stables.b, y=zero_tumor_stables.y, mode='lines', name=\"zero_tumor_stables\",\n",
    "                         line={\"color\": \"green\"} | get_line_mode(stable=True)))\n",
    "fig.add_trace(go.Scatter(x=zero_tumor_unstables.b, y=zero_tumor_unstables.y, mode='lines', name=\"zero_tumor_unstables\",\n",
    "                         line={\"color\": \"green\"} | get_line_mode(stable=False)))\n",
    "\n",
    "fig.update_layout(title=\"Fig 2(c)(b < 15). Bifurcation diagram. 𝜇 = 0.014\")\n",
    "fig.update_layout(xaxis={\"title\": \"b\"}, yaxis={\"title\": \"y\"}, template=\"plotly_white\", autosize=False,\n",
    "                  width=700,\n",
    "                  height=500)\n"
   ]
  },
  {
   "cell_type": "code",
   "execution_count": null,
   "metadata": {
    "tags": []
   },
   "outputs": [],
   "source": [
    "# for bs_set, y_starts in zip([bs_full_range, bs_smalls],\n",
    "#                             [np.linspace(0, 600, 6), np.linspace(0, 30, 6)]):\n"
   ]
  },
  {
   "cell_type": "code",
   "execution_count": null,
   "metadata": {
    "tags": []
   },
   "outputs": [],
   "source": [
    "mu_c = 0.014\n",
    "bless_params[mu] = mu_c\n"
   ]
  },
  {
   "cell_type": "markdown",
   "metadata": {},
   "source": [
    "## Атлас"
   ]
  },
  {
   "cell_type": "code",
   "execution_count": null,
   "metadata": {},
   "outputs": [],
   "source": [
    "paths_by_b = {}\n"
   ]
  },
  {
   "cell_type": "markdown",
   "metadata": {},
   "source": [
    "#### b_const = 1"
   ]
  },
  {
   "cell_type": "code",
   "execution_count": null,
   "metadata": {
    "tags": []
   },
   "outputs": [],
   "source": [
    "b_const = 1\n",
    "H = 0.05\n",
    "y_starts = np.concatenate([\n",
    "    np.linspace(0.1, 1400, 6),\n",
    "    [3.4**4]\n",
    "])\n",
    "params = bless_params | {b: b_const}\n",
    "eqs = get_eqs(params)\n",
    "starts = list(itertools.product([4], y_starts))\n",
    "\n",
    "fig, paths = compute_phase_portrait(b_const, paths_starts=starts)\n",
    "united_eqs = sorted(union_same_solutions(eqs))\n",
    "\n",
    "eq_at, eq_zt = united_eqs\n",
    "\n",
    "zt_paths = get_paths(bless_params | {b: b_c},\n",
    "                     starts=[(4, 0), (0.00001, 0)], num_steps=1000, name='zt')\n",
    "\n",
    "paths = pd.concat([paths, zt_paths])\n",
    "fig.add_trace(go.Scatter(x=zt_paths.x, y=zt_paths.ysqrt4, mode='lines', name=\"\",\n",
    "                         line=dict(\n",
    "                             color='black',\n",
    "                             width=1.5)))\n",
    "\n",
    "fig.add_trace(go.Scatter(x=[eq_at[0]], y=[\n",
    "              eq_at[1]**(1/4)], name='eq AT', line=dict(color='red')))\n",
    "fig.add_trace(go.Scatter(x=[eq_zt[0]], y=[eq_zt[1]**(1/4)], name='eq ZT',\n",
    "                         marker=dict(color='white',\n",
    "                                     line=dict(color='black', width=1))))\n",
    "paths_by_b[b_const] = paths\n",
    "paths_by_b[b_const].to_csv(f\"paths/{b_const}.csv\")\n",
    "\n",
    "fig.show()\n"
   ]
  },
  {
   "cell_type": "markdown",
   "metadata": {},
   "source": [
    "#### b_const = 10"
   ]
  },
  {
   "cell_type": "code",
   "execution_count": null,
   "metadata": {
    "tags": []
   },
   "outputs": [],
   "source": [
    "b_const = 10\n",
    "H = 0.05\n",
    "\n",
    "y_paths_starts = np.concatenate([\n",
    "    np.linspace(0.1**4, 1400, 6),\n",
    "    [0.7**4, 3.4**4, 2**4]\n",
    "])\n",
    "params = bless_params | {b: b_const}\n",
    "eqs = get_eqs(params)\n",
    "united_eqs = sorted(union_same_solutions(eqs))\n",
    "# print(united_eqs)\n",
    "eq_at, eq_zt, eq_sep = united_eqs\n",
    "\n",
    "starts = (list(itertools.product([4], y_paths_starts))\n",
    "          + [\n",
    "              (0.1, 1.6**4),\n",
    "    (0.1, 1.5**4),\n",
    "    (eq_sep[0], eq_sep[1]-0.001)]\n",
    ")\n",
    "fig, paths = compute_phase_portrait(b_const, paths_starts=starts)\n",
    "\n",
    "\n",
    "separatrix_starts = [(1.2, 2.3**4), (1.15, 2.2**4)]\n",
    "separatrix_paths = get_separatrix_paths(\n",
    "    bless_params | {b: b_const}, separatrix_starts)\n",
    "\n",
    "paths = pd.concat([paths, separatrix_paths])\n",
    "fig = add_separatrix(fig, separatrix_paths)\n",
    "\n",
    "plot_eq(eq_at, fig, 'red', 'eq AT')\n",
    "plot_eq(eq_zt, fig, 'green', 'eq ZT')\n",
    "plot_eq(eq_sep, fig, 'white', 'eq sep')\n",
    "\n",
    "paths_by_b[b_const] = paths\n",
    "paths_by_b[b_const].to_csv(f\"paths/{b_const}.csv\")\n",
    "\n",
    "fig.show()\n"
   ]
  },
  {
   "cell_type": "markdown",
   "metadata": {},
   "source": [
    "#### b_const = 15"
   ]
  },
  {
   "cell_type": "code",
   "execution_count": null,
   "metadata": {
    "tags": []
   },
   "outputs": [],
   "source": [
    "b_const = 15\n",
    "H = 0.05\n",
    "\n",
    "y_paths_starts = np.concatenate([\n",
    "    np.linspace(0.1**4, 1400, 6),\n",
    "    [0.7**4, 3.4**4, 2**4]\n",
    "])\n",
    "params = bless_params | {b: b_const}\n",
    "eqs = get_eqs(params)\n",
    "united_eqs = sorted(union_same_solutions(eqs))\n",
    "# print(united_eqs)\n",
    "eq_at, eq_zt, eq_sep = united_eqs\n",
    "\n",
    "starts = (list(itertools.product([4], y_paths_starts))\n",
    "          + [\n",
    "              (0.1, 1.6**4),\n",
    "    (0.1, 1.5**4),\n",
    "    (eq_sep[0], eq_sep[1]-0.001)]\n",
    ")\n",
    "fig, paths = compute_phase_portrait(b_const, paths_starts=starts)\n",
    "\n",
    "\n",
    "separatrix_starts = [(eq_sep[0]+0.001, eq_sep[1]),\n",
    "                     (eq_sep[0]-0.001, eq_sep[1])]\n",
    "separatrix_paths = get_separatrix_paths(\n",
    "    bless_params | {b: b_const}, separatrix_starts)\n",
    "\n",
    "paths = pd.concat([paths, separatrix_paths])\n",
    "\n",
    "fig = add_separatrix(fig, separatrix_paths)\n",
    "\n",
    "plot_eq(eq_at, fig, 'red', 'eq AT')\n",
    "plot_eq(eq_zt, fig, 'green', 'eq ZT')\n",
    "plot_eq(eq_sep, fig, 'white', 'eq sep')\n",
    "\n",
    "paths_by_b[b_const] = paths\n",
    "\n",
    "paths_by_b[b_const].to_csv(f\"paths/{b_const}.csv\")\n",
    "\n",
    "fig.show()\n"
   ]
  },
  {
   "cell_type": "code",
   "execution_count": null,
   "metadata": {},
   "outputs": [],
   "source": []
  },
  {
   "cell_type": "markdown",
   "metadata": {
    "tags": []
   },
   "source": [
    "#### b_const = 30"
   ]
  },
  {
   "cell_type": "code",
   "execution_count": null,
   "metadata": {},
   "outputs": [],
   "source": [
    "b_const = 30\n",
    "H = 0.05\n",
    "\n",
    "y_paths_starts = np.concatenate([\n",
    "    np.linspace(0.1**4, 1400, 6),\n",
    "    [0.7**4, 3.4**4, 2**4]\n",
    "])\n",
    "params = bless_params | {b: b_const}\n",
    "eqs = get_eqs(params)\n",
    "united_eqs = sorted(union_same_solutions(eqs))\n",
    "# print(united_eqs)\n",
    "eq_at, eq_zt, eq_sep = united_eqs\n",
    "\n",
    "starts = (list(itertools.product([4], y_paths_starts))\n",
    "          + [\n",
    "              (0.1, 1.6**4),\n",
    "    (0.1, 1.5**4),\n",
    "    (eq_sep[0], eq_sep[1]-0.001)]\n",
    ")\n",
    "fig, paths = compute_phase_portrait(b_const, paths_starts=starts)\n",
    "\n",
    "\n",
    "separatrix_starts = [(eq_sep[0]+0.001, eq_sep[1]),\n",
    "                     (eq_sep[0]-0.001, eq_sep[1])]\n",
    "separatrix_paths = get_separatrix_paths(\n",
    "    bless_params | {b: b_const}, separatrix_starts)\n",
    "\n",
    "paths = pd.concat([paths, separatrix_paths])\n",
    "\n",
    "fig = add_separatrix(fig, separatrix_paths)\n",
    "\n",
    "plot_eq(eq_at, fig, 'red', 'eq AT')\n",
    "plot_eq(eq_zt, fig, 'green', 'eq ZT')\n",
    "plot_eq(eq_sep, fig, 'white', 'eq sep')\n",
    "\n",
    "paths_by_b[b_const] = paths\n",
    "\n",
    "paths_by_b[b_const].to_csv(f\"paths/{b_const}.csv\")\n",
    "\n",
    "fig.show()\n"
   ]
  },
  {
   "cell_type": "markdown",
   "metadata": {},
   "source": [
    "#### b_const = 50"
   ]
  },
  {
   "cell_type": "code",
   "execution_count": null,
   "metadata": {
    "tags": []
   },
   "outputs": [],
   "source": [
    "b_const = 50\n",
    "\n",
    "H = 0.01\n",
    "y_paths_starts = np.concatenate([\n",
    "    np.linspace(0.1**4, 1400, 6),\n",
    "    [0.7**4, 3.4**4, 2**4]\n",
    "])\n",
    "params = bless_params | {b: b_const}\n",
    "eqs = get_eqs(params)\n",
    "united_eqs = sorted(union_same_solutions(eqs))\n",
    "# print(united_eqs)\n",
    "eq_at, eq_zt, eq_sep = united_eqs\n",
    "\n",
    "starts = (list(itertools.product([4], y_paths_starts))\n",
    "          + [\n",
    "              (0.1, 1.6**4),\n",
    "    (0.1, 1.5**4),\n",
    "    (1, 2.5**4),\n",
    "    (2, 3**4),\n",
    "    (eq_sep[0], eq_sep[1]-0.001)]\n",
    ")\n",
    "fig, paths = compute_phase_portrait(\n",
    "    b_const, paths_starts=starts, num_steps=2000)\n",
    "\n",
    "\n",
    "separatrix_starts = [(eq_sep[0]+0.001, eq_sep[1]),\n",
    "                     (eq_sep[0]-0.001, eq_sep[1])]\n",
    "separatrix_paths = get_separatrix_paths(\n",
    "    bless_params | {b: b_const}, separatrix_starts, num_steps=1000, h=0.05)\n",
    "\n",
    "paths = pd.concat([paths, separatrix_paths])\n",
    "\n",
    "fig = add_separatrix(fig, separatrix_paths)\n",
    "\n",
    "plot_eq(eq_at, fig, 'red', 'eq AT')\n",
    "plot_eq(eq_zt, fig, 'green', 'eq ZT')\n",
    "plot_eq(eq_sep, fig, 'white', 'eq sep')\n",
    "\n",
    "\n",
    "paths_by_b[b_const] = paths\n",
    "paths_by_b[b_const].to_csv(f\"paths/{b_const}.csv\")\n",
    "\n",
    "fig.show()\n"
   ]
  },
  {
   "cell_type": "markdown",
   "metadata": {},
   "source": [
    "#### b_const = 100"
   ]
  },
  {
   "cell_type": "code",
   "execution_count": null,
   "metadata": {},
   "outputs": [],
   "source": [
    "b_const = 100\n",
    "\n",
    "H = 0.01\n",
    "y_paths_starts = np.concatenate([\n",
    "    np.linspace(0.1**4, 1400, 6),\n",
    "    [0.7**4, 3.4**4, 2**4]\n",
    "])\n",
    "params = bless_params | {b: b_const}\n",
    "eqs = get_eqs(params)\n",
    "united_eqs = sorted(union_same_solutions(eqs))\n",
    "# print(united_eqs)\n",
    "# TODO: надо определять по собственным числам, кто устойчив, а кто - нет\n",
    "eq_at, eq_sep, eq_zt = united_eqs\n",
    "\n",
    "starts = (list(itertools.product([4], y_paths_starts))\n",
    "          + [\n",
    "              (0.1, 1.6**4),\n",
    "    (0.1, 1.5**4),\n",
    "    (1, 2.5**4),\n",
    "    (2, 3**4),\n",
    "    (eq_sep[0], eq_sep[1]-0.001)]\n",
    ")\n",
    "fig, paths = compute_phase_portrait(b_const, paths_starts=starts, num_steps=2000,\n",
    "                                    h=0.01)\n",
    "\n",
    "\n",
    "separatrix_starts = [(eq_sep[0]+0.001, eq_sep[1]),\n",
    "                     (eq_sep[0]-0.001, eq_sep[1])]\n",
    "separatrix_paths = get_separatrix_paths(\n",
    "    bless_params | {b: b_const}, separatrix_starts, num_steps=1000, h=0.05)\n",
    "paths = pd.concat([paths, separatrix_paths])\n",
    "\n",
    "\n",
    "fig = add_separatrix(fig, separatrix_paths)\n",
    "\n",
    "plot_eq(eq_at, fig, 'red', 'eq AT')\n",
    "plot_eq(eq_zt, fig, 'green', 'eq ZT')\n",
    "plot_eq(eq_sep, fig, 'white', 'eq sep')\n",
    "\n",
    "\n",
    "paths_by_b[b_const] = paths\n",
    "paths_by_b[b_const].to_csv(f\"paths/{b_const}.csv\")\n",
    "\n",
    "fig.show()\n"
   ]
  },
  {
   "cell_type": "code",
   "execution_count": null,
   "metadata": {},
   "outputs": [],
   "source": [
    "b_const = 150\n",
    "\n",
    "H = 0.01\n",
    "y_paths_starts = np.concatenate([\n",
    "    np.linspace(0.1**4, 1400, 6),\n",
    "    [0.7**4, 3.4**4, 2**4]\n",
    "])\n",
    "params = bless_params | {b: b_const}\n",
    "eqs = get_eqs(params)\n",
    "united_eqs = sorted(union_same_solutions(eqs))\n",
    "# print(united_eqs)\n",
    "# TODO: надо определять по собственным числам, кто устойчив, а кто - нет\n",
    "eq_at, eq_sep, eq_zt = united_eqs\n",
    "\n",
    "starts = (list(itertools.product([4], y_paths_starts))\n",
    "          + [\n",
    "              (0.1, 1.6**4),\n",
    "    (0.1, 1.5**4),\n",
    "    (1, 2.5**4),\n",
    "    (2, 3**4),\n",
    "    (eq_sep[0], eq_sep[1]-0.001)]\n",
    ")\n",
    "fig, paths = compute_phase_portrait(b_const, paths_starts=starts, num_steps=2000,\n",
    "                                    h=0.01)\n",
    "\n",
    "\n",
    "separatrix_starts = [(eq_sep[0]+0.001, eq_sep[1]),\n",
    "                     (eq_sep[0]-0.001, eq_sep[1])]\n",
    "separatrix_paths = get_separatrix_paths(\n",
    "    bless_params | {b: b_const}, separatrix_starts, num_steps=1000, h=0.05)\n",
    "paths = pd.concat([paths, separatrix_paths])\n",
    "\n",
    "\n",
    "fig = add_separatrix(fig, separatrix_paths)\n",
    "\n",
    "plot_eq(eq_at, fig, 'red', 'eq AT')\n",
    "plot_eq(eq_zt, fig, 'green', 'eq ZT')\n",
    "plot_eq(eq_sep, fig, 'white', 'eq sep')\n",
    "\n",
    "\n",
    "paths_by_b[b_const] = paths\n",
    "paths_by_b[b_const].to_csv(f\"paths/{b_const}.csv\")\n",
    "\n",
    "fig.show()\n"
   ]
  },
  {
   "cell_type": "markdown",
   "metadata": {},
   "source": [
    "#### b_const = 120"
   ]
  },
  {
   "cell_type": "code",
   "execution_count": null,
   "metadata": {
    "tags": []
   },
   "outputs": [],
   "source": [
    "b_const = 120\n",
    "\n",
    "H = 0.01\n",
    "y_paths_starts = np.concatenate([\n",
    "    np.linspace(0.1**4, 1400, 6),\n",
    "    [0.7**4, 3.4**4, 2**4]\n",
    "])\n",
    "params = bless_params | {b: b_const}\n",
    "eqs = get_eqs(params)\n",
    "united_eqs = sorted(union_same_solutions(eqs))\n",
    "# print(united_eqs)\n",
    "eq_at, eq_sep, eq_zt = united_eqs\n",
    "\n",
    "starts = (list(itertools.product([4], y_paths_starts))\n",
    "          + [\n",
    "              (0.1, 1.6**4),\n",
    "    (0.1, 1.5**4),\n",
    "    (1, 2.5**4),\n",
    "    (2, 3**4),\n",
    "    (eq_sep[0], eq_sep[1]-0.001)]\n",
    ")\n",
    "fig, paths = compute_phase_portrait(\n",
    "    b_const, paths_starts=starts, num_steps=2000)\n",
    "\n",
    "\n",
    "separatrix_starts = [(eq_sep[0]+0.001, eq_sep[1]),\n",
    "                     (eq_sep[0]-0.001, eq_sep[1])]\n",
    "separatrix_paths = get_separatrix_paths(\n",
    "    bless_params | {b: b_const}, separatrix_starts, num_steps=1000, h=0.05)\n",
    "\n",
    "\n",
    "fig = add_separatrix(fig, separatrix_paths)\n",
    "\n",
    "plot_eq(eq_at, fig, 'red', 'eq AT')\n",
    "plot_eq(eq_zt, fig, 'green', 'eq ZT')\n",
    "plot_eq(eq_sep, fig, 'white', 'eq sep')\n",
    "\n",
    "\n",
    "fig.show()\n"
   ]
  },
  {
   "cell_type": "markdown",
   "metadata": {},
   "source": [
    "#### b_const = 150"
   ]
  },
  {
   "cell_type": "code",
   "execution_count": null,
   "metadata": {
    "tags": []
   },
   "outputs": [],
   "source": [
    "b_const = 150\n",
    "\n",
    "H = 0.01\n",
    "y_paths_starts = np.concatenate([\n",
    "    np.linspace(0.1**4, 1400, 6),\n",
    "    [0.7**4, 3.4**4, 2**4]\n",
    "])\n",
    "params = bless_params | {b: b_const}\n",
    "eqs = get_eqs(params)\n",
    "united_eqs = sorted(union_same_solutions(eqs))\n",
    "# print(united_eqs)\n",
    "# TODO: надо определять по собственным числам, кто устойчив, а кто - нет\n",
    "eq_at, eq_sep, eq_zt = united_eqs\n",
    "\n",
    "starts = (list(itertools.product([4], y_paths_starts))\n",
    "          + [\n",
    "              (0.1, 1.6**4),\n",
    "    (0.1, 1.5**4),\n",
    "    (1, 2.5**4),\n",
    "    (2, 3**4),\n",
    "    (eq_sep[0], eq_sep[1]-0.001)]\n",
    ")\n",
    "fig, paths = compute_phase_portrait(\n",
    "    b_const, paths_starts=starts, num_steps=2000)\n",
    "\n",
    "\n",
    "separatrix_starts = [(eq_sep[0]+0.001, eq_sep[1]),\n",
    "                     (eq_sep[0]-0.001, eq_sep[1])]\n",
    "separatrix_paths = get_separatrix_paths(\n",
    "    bless_params | {b: b_const}, separatrix_starts, num_steps=1000, h=0.05)\n",
    "\n",
    "paths = pd.concat([paths, separatrix_paths])\n",
    "\n",
    "fig = add_separatrix(fig, separatrix_paths)\n",
    "\n",
    "plot_eq(eq_at, fig, 'red', 'eq AT')\n",
    "plot_eq(eq_zt, fig, 'green', 'eq ZT')\n",
    "plot_eq(eq_sep, fig, 'white', 'eq sep')\n",
    "\n",
    "\n",
    "paths_by_b[b_const] = paths\n",
    "paths_by_b[b_const].to_csv(f\"paths/{b_const}.csv\")\n",
    "\n",
    "fig.show()\n"
   ]
  },
  {
   "cell_type": "markdown",
   "metadata": {},
   "source": [
    "#### b_const = 195"
   ]
  },
  {
   "cell_type": "code",
   "execution_count": null,
   "metadata": {},
   "outputs": [],
   "source": [
    "b_const = 195  # Only ZT expected\n",
    "\n",
    "H = 5 * 0.01\n",
    "y_paths_starts = [1400]\n",
    "y_paths_starts = np.concatenate([\n",
    "    # np.linspace(0.1**4, 1400, 6),#upper 3\n",
    "    np.linspace(0.1**4, 4.8**4, 4),\n",
    "    [0.7**4, 3.4**4, 2**4]\n",
    "])\n",
    "params = bless_params | {b: b_const}\n",
    "eqs = get_eqs(params)\n",
    "united_eqs = sorted(union_same_solutions(eqs))\n",
    "\n",
    "# TODO: надо определять по собственным числам, кто устойчив, а кто - нет\n",
    "(eq_zt,) = united_eqs\n",
    "\n",
    "starts = (list(itertools.product([4], y_paths_starts))\n",
    "          # + [\n",
    "          #     (0.1, 1.6**4),\n",
    "          #    (0.1, 1.5**4),\n",
    "          #    (1, 2.5**4),\n",
    "          #    (2, 3**4)\n",
    "          #    ]\n",
    "          )\n",
    "fig, paths = compute_phase_portrait(b_const, paths_starts=starts,\n",
    "                                    num_steps=1000, h=0.01)\n",
    "\n",
    "extra_paths = get_paths(bless_params | {b: b_const},\n",
    "                        starts=list(itertools.product(\n",
    "                            [4], np.linspace(5.3**4, 6.11**4, 4))),\n",
    "                        num_steps=20_000,\n",
    "                        h=0.01)\n",
    "\n",
    "paths = pd.concat([paths, extra_paths])\n",
    "\n",
    "fig = fig_add_paths(fig, extra_paths)\n",
    "plot_eq(eq_zt, fig, 'green', 'eq ZT')\n",
    "\n",
    "paths_by_b[b_const] = paths\n",
    "paths_by_b[b_const].to_csv(f\"paths/{b_const}.csv\")\n",
    "\n",
    "fig.show()\n"
   ]
  },
  {
   "cell_type": "markdown",
   "metadata": {},
   "source": [
    "#### b_const = 210"
   ]
  },
  {
   "cell_type": "code",
   "execution_count": null,
   "metadata": {},
   "outputs": [],
   "source": [
    "b_const = 210  # Only ZT expected\n",
    "\n",
    "H = 5 * 0.01\n",
    "y_paths_starts = [1400]\n",
    "y_paths_starts = np.concatenate([\n",
    "    # np.linspace(0.1**4, 1400, 6),#upper 3\n",
    "    np.linspace(0.1**4, 4.8**4, 4),\n",
    "    [0.7**4, 3.4**4, 2**4]\n",
    "])\n",
    "params = bless_params | {b: b_const}\n",
    "eqs = get_eqs(params)\n",
    "united_eqs = sorted(union_same_solutions(eqs))\n",
    "\n",
    "# TODO: надо определять по собственным числам, кто устойчив, а кто - нет\n",
    "(eq_zt,) = united_eqs\n",
    "\n",
    "starts = (list(itertools.product([4], y_paths_starts))\n",
    "          # + [\n",
    "          #     (0.1, 1.6**4),\n",
    "          #    (0.1, 1.5**4),\n",
    "          #    (1, 2.5**4),\n",
    "          #    (2, 3**4)\n",
    "          #    ]\n",
    "          )\n",
    "fig, paths = compute_phase_portrait(b_const, paths_starts=starts,\n",
    "                                    num_steps=1000, h=0.01)\n",
    "\n",
    "extra_paths = get_paths(bless_params | {b: b_const},\n",
    "                        starts=list(itertools.product(\n",
    "                            [4], np.linspace(5.3**4, 6.11**4, 4))),\n",
    "                        num_steps=20_000,\n",
    "                        h=0.01)\n",
    "\n",
    "fig = fig_add_paths(fig, extra_paths)\n",
    "plot_eq(eq_zt, fig, 'green', 'eq ZT')\n",
    "paths_by_b[b_const] = paths\n",
    "\n",
    "paths_by_b[b_const].to_csv(f\"paths/{b_const}.csv\")\n",
    "\n",
    "fig.show()\n"
   ]
  },
  {
   "cell_type": "code",
   "execution_count": null,
   "metadata": {},
   "outputs": [],
   "source": [
    "# extra_paths = pd.read_csv(\"extra_paths.csv\").drop(\"Unnamed: 0\",axis=1)\n",
    "# extra_paths\n"
   ]
  },
  {
   "cell_type": "code",
   "execution_count": null,
   "metadata": {},
   "outputs": [],
   "source": [
    "\n",
    "# extended_fig = fig_add_paths(go.Figure(),\n",
    "#                              extra_paths\n",
    "#                              )\n",
    "# extended_fig.show()\n"
   ]
  },
  {
   "cell_type": "code",
   "execution_count": null,
   "metadata": {},
   "outputs": [],
   "source": [
    "# extra_paths.to_csv(\"extra_paths.csv\")\n"
   ]
  },
  {
   "cell_type": "code",
   "execution_count": null,
   "metadata": {},
   "outputs": [],
   "source": [
    "# paths\n"
   ]
  },
  {
   "cell_type": "markdown",
   "metadata": {},
   "source": [
    "### dump paths"
   ]
  },
  {
   "cell_type": "code",
   "execution_count": null,
   "metadata": {},
   "outputs": [],
   "source": [
    "# for no, df in paths_by_b.items():\n",
    "#     df.to_csv(f\"paths/{no}.csv\")\n"
   ]
  },
  {
   "cell_type": "markdown",
   "metadata": {},
   "source": [
    "# Time series"
   ]
  },
  {
   "cell_type": "code",
   "execution_count": null,
   "metadata": {
    "tags": []
   },
   "outputs": [],
   "source": [
    "def load_csv(curb):\n",
    "    return pd.read_csv(\n",
    "        f\"paths/{curb}.csv\").drop(\"Unnamed: 0\", axis=1)\n"
   ]
  },
  {
   "cell_type": "code",
   "execution_count": null,
   "metadata": {
    "tags": []
   },
   "outputs": [],
   "source": [
    "b10 = load_csv(10)\n"
   ]
  },
  {
   "cell_type": "code",
   "execution_count": null,
   "metadata": {
    "tags": []
   },
   "outputs": [],
   "source": [
    "b10[(b10.no == 9) & (b10.name != 'sep')].y.iloc[-1]\n"
   ]
  },
  {
   "cell_type": "code",
   "execution_count": null,
   "metadata": {
    "tags": []
   },
   "outputs": [],
   "source": [
    "for curb in [1, 10, 30, 50, 100, 150, 195]:\n",
    "    # for curb in [ 10]:\n",
    "    # if curb not in paths_by_b:\n",
    "    #     paths_by_b[curb] = pd.read_csv(\n",
    "    #         f\"paths/{curb}.csv\").drop(\"Unnamed: 0\", axis=1)\n",
    "    paths = pd.read_csv(\n",
    "        f\"paths/{curb}.csv\").drop(\"Unnamed: 0\", axis=1)\n",
    "    # #paths_by_b[curb]\n",
    "    fig = go.Figure()\n",
    "    for (path_id, name, path_no), path in paths[paths.name != 'sep'].groupby(\n",
    "            [\"path_id\", \"name\", \"no\"]):\n",
    "        fig.add_trace(go.Scatter(x=path.step, y=path.ysqrt4,\n",
    "                                 name=f'{name}, id = {path_id}, no={path_no}',))\n",
    "\n",
    "    fig.update_layout(\n",
    "        title=f\"Time series.  b = {curb}\")\n",
    "    fig.update_layout(xaxis={\"title\": \"step\"}, yaxis={\n",
    "        \"title\": r'y^1/4'}, template=\"plotly_white\",\n",
    "        # width=600,\n",
    "        # height=500\n",
    "    )\n",
    "    fig.show()\n"
   ]
  },
  {
   "cell_type": "code",
   "execution_count": null,
   "metadata": {},
   "outputs": [],
   "source": [
    "# Note: использовал разные H в разных траекториях.\n",
    "# Поэтому некорректно рисовать их по шкале steps.TODO: Пересчитывать с одним h?\n",
    "\n",
    "# проверить h. Пересчитать 150, 195\n"
   ]
  },
  {
   "cell_type": "markdown",
   "metadata": {},
   "source": [
    "# Noise"
   ]
  },
  {
   "cell_type": "markdown",
   "metadata": {},
   "source": [
    "#### Noise phase portraits"
   ]
  },
  {
   "cell_type": "code",
   "execution_count": null,
   "metadata": {},
   "outputs": [],
   "source": [
    "paths_by_b_eps = {}\n"
   ]
  },
  {
   "cell_type": "code",
   "execution_count": null,
   "metadata": {},
   "outputs": [],
   "source": [
    "b_const = 50\n",
    "\n",
    "b_distr = set()\n",
    "H = 0.01\n",
    "params = bless_params | {b: b_const}\n",
    "eqs = get_eqs(params)\n",
    "united_eqs = sorted(union_same_solutions(eqs))\n",
    "eq_at, eq_zt, eq_sep = united_eqs\n",
    "\n",
    "starts = [eq_at]\n",
    "fig = get_fig(params)\n",
    "ts_fig = get_fig_ts(params)\n",
    "epses = [150, 200]\n",
    "_get_path = _get_path_variable_h\n",
    "for cur_eps in sorted(epses, reverse=True):\n",
    "    get_next = partial(get_next_noisy, eps=cur_eps)\n",
    "    full_path = get_paths(params, starts, num_steps=10_000, h=H)\n",
    "    paths = cut_positive_prefixes(full_path)\n",
    "    paths_by_b_eps[(b_const, cur_eps)] = paths\n",
    "    fig = fig_add_paths(fig, paths, auto_define_color=False, name=f\"{cur_eps}\")\n",
    "    fig_add_ts(ts_fig, paths)\n",
    "\n",
    "separatrix_starts = [(eq_sep[0]+0.001, eq_sep[1]),\n",
    "                     (eq_sep[0]-0.001, eq_sep[1])]\n",
    "separatrix_paths = get_separatrix_paths(\n",
    "    bless_params | {b: b_const}, separatrix_starts, num_steps=10**4)\n",
    "fig = add_separatrix(fig, separatrix_paths)\n",
    "plot_eqs(fig, eq_at, eq_zt, eq_sep)\n",
    "\n",
    "fig.show()\n",
    "ts_fig.show()\n"
   ]
  },
  {
   "cell_type": "code",
   "execution_count": null,
   "metadata": {},
   "outputs": [],
   "source": [
    "b_const = 100\n",
    "\n",
    "b_distr = set()\n",
    "H = 0.01\n",
    "params = bless_params | {b: b_const}\n",
    "eqs = get_eqs(params)\n",
    "united_eqs = sorted(union_same_solutions(eqs))\n",
    "eq_at, eq_sep, eq_zt = united_eqs\n",
    "\n",
    "starts = [eq_at]\n",
    "fig = get_fig(params)\n",
    "ts_fig = get_fig_ts(params)\n",
    "epses = [150, 200]\n",
    "_get_path = _get_path_variable_h\n",
    "for cur_eps in sorted(epses, reverse=True):\n",
    "    get_next = partial(get_next_noisy, eps=cur_eps)\n",
    "    full_path = get_paths(params, starts, num_steps=10_000, h=H)\n",
    "    paths = cut_positive_prefixes(full_path)\n",
    "    paths_by_b_eps[(b_const, cur_eps)] = paths\n",
    "    fig = fig_add_paths(fig, paths, auto_define_color=False, name=f\"{cur_eps}\")\n",
    "    fig_add_ts(ts_fig, paths)\n",
    "\n",
    "separatrix_starts = [(eq_sep[0]+0.001, eq_sep[1]),\n",
    "                     (eq_sep[0]-0.001, eq_sep[1])]\n",
    "separatrix_paths = get_separatrix_paths(\n",
    "    bless_params | {b: b_const}, separatrix_starts, num_steps=10**4)\n",
    "fig = add_separatrix(fig, separatrix_paths)\n",
    "plot_eqs(fig, eq_at, eq_zt, eq_sep)\n",
    "\n",
    "fig.show()\n",
    "ts_fig.show()\n"
   ]
  },
  {
   "cell_type": "code",
   "execution_count": null,
   "metadata": {},
   "outputs": [],
   "source": [
    "b_const = 150\n",
    "\n",
    "b_distr = set()\n",
    "H = 0.01\n",
    "params = bless_params | {b: b_const}\n",
    "eqs = get_eqs(params)\n",
    "united_eqs = sorted(union_same_solutions(eqs))\n",
    "eq_at, eq_sep, eq_zt = united_eqs\n",
    "\n",
    "starts = [eq_at]\n",
    "fig = get_fig(params)\n",
    "ts_fig = get_fig_ts(params)\n",
    "epses = [150]\n",
    "_get_path = _get_path_variable_h\n",
    "for cur_eps in sorted(epses, reverse=True):\n",
    "    get_next = partial(get_next_noisy, eps=cur_eps)\n",
    "    full_path = get_paths(params, starts, num_steps=10_000, h=H)\n",
    "    paths = cut_positive_prefixes(full_path)\n",
    "    paths_by_b_eps[(b_const, cur_eps)] = paths\n",
    "    fig = fig_add_paths(fig, paths, auto_define_color=False, name=f\"{cur_eps}\")\n",
    "    fig_add_ts(ts_fig, paths)\n",
    "\n",
    "separatrix_starts = [(eq_sep[0]+0.001, eq_sep[1]),\n",
    "                     (eq_sep[0]-0.001, eq_sep[1])]\n",
    "separatrix_paths = get_separatrix_paths(\n",
    "    bless_params | {b: b_const}, separatrix_starts, num_steps=10**4)\n",
    "fig = add_separatrix(fig, separatrix_paths)\n",
    "plot_eqs(fig, eq_at, eq_zt, eq_sep)\n",
    "\n",
    "fig.show()\n",
    "ts_fig.show()\n"
   ]
  },
  {
   "cell_type": "code",
   "execution_count": null,
   "metadata": {},
   "outputs": [],
   "source": []
  },
  {
   "cell_type": "code",
   "execution_count": null,
   "metadata": {},
   "outputs": [],
   "source": [
    "b_const = 190\n",
    "\n",
    "b_distr = set()\n",
    "H = 0.01\n",
    "params = bless_params | {b: b_const}\n",
    "eqs = get_eqs(params)\n",
    "united_eqs = sorted(union_same_solutions(eqs))\n",
    "eq_at, eq_sep, eq_zt = united_eqs\n",
    "\n",
    "starts = [eq_at]\n",
    "fig = get_fig(params)\n",
    "ts_fig = get_fig_ts(params)\n",
    "epses = [150]\n",
    "_get_path = _get_path_variable_h\n",
    "for cur_eps in sorted(epses, reverse=True):\n",
    "    get_next = partial(get_next_noisy, eps=cur_eps)\n",
    "    full_path = get_paths(params, starts, num_steps=10_000, h=H)\n",
    "    paths = cut_positive_prefixes(full_path)\n",
    "    paths_by_b_eps[(b_const, cur_eps)] = paths\n",
    "    fig = fig_add_paths(fig, paths, auto_define_color=False, name=f\"{cur_eps}\")\n",
    "    fig_add_ts(ts_fig, paths)\n",
    "\n",
    "separatrix_starts = [(eq_sep[0]+0.001, eq_sep[1]),\n",
    "                     (eq_sep[0]-0.001, eq_sep[1])]\n",
    "separatrix_paths = get_separatrix_paths(\n",
    "    bless_params | {b: b_const}, separatrix_starts, num_steps=10**4)\n",
    "fig = add_separatrix(fig, separatrix_paths)\n",
    "plot_eqs(fig, eq_at, eq_zt, eq_sep)\n",
    "\n",
    "fig.show()\n",
    "ts_fig.show()\n",
    "fig_dump(fig, name=f'b={b_const}')\n"
   ]
  },
  {
   "cell_type": "code",
   "execution_count": null,
   "metadata": {},
   "outputs": [],
   "source": [
    "import json\n",
    "with open('paths_by_b_eps.json', 'w') as fp:\n",
    "    json.dump(paths_by_b_eps, fp)\n"
   ]
  },
  {
   "cell_type": "code",
   "execution_count": null,
   "metadata": {},
   "outputs": [],
   "source": [
    "# import plotly.express as px\n",
    "# df = px.data.tips()\n",
    "# fig = px.histogram(b_distr)\n",
    "# fig.show()\n"
   ]
  },
  {
   "cell_type": "markdown",
   "metadata": {},
   "source": [
    "### Stochastic sensetivity matrix"
   ]
  },
  {
   "cell_type": "markdown",
   "metadata": {},
   "source": [
    "Постановка задачи:\n",
    "\n",
    "При разной интенсивности шума формируются эллипсы, из которых траектории не выходят.\n",
    "Размеры зависят и от дозировки b, и от шума, который применяется.\n",
    "\n",
    "Существует порог, такой что если взять шум больше порога, то траектории выходят.\n",
    "\n",
    "Хотим оценить размеры эллипса, из которого траектории не выйдут с заранее опредленной вероятнотью.\n",
    "\n",
    "Или противоположная задача - хотим определить вероятность, с которой траектория не выйдет из эллипса."
   ]
  },
  {
   "cell_type": "markdown",
   "metadata": {},
   "source": [
    "calculations"
   ]
  },
  {
   "cell_type": "code",
   "execution_count": 9,
   "metadata": {},
   "outputs": [
    {
     "name": "stderr",
     "output_type": "stream",
     "text": [
      "Finding eq: 100%|██████████| 200/200 [00:03<00:00, 50.02it/s]\n"
     ]
    },
    {
     "data": {
      "image/png": "[encoded data removed]",
      "text/latex": [
       "$\\displaystyle \\left( \\left( 0.0351, \\  289.11923\\right), \\  \\left( 0.31552, \\  0.0\\right), \\  \\left( 0.05093, \\  212.67902\\right)\\right)$"
      ],
      "text/plain": [
       "((0.0351, 289.11923), (0.31552, -0.0), (0.05093, 212.67902))"
      ]
     },
     "execution_count": 9,
     "metadata": {},
     "output_type": "execute_result"
    }
   ],
   "source": [
    "b_const = 190\n",
    "\n",
    "H = 0.01\n",
    "y_paths_starts = np.concatenate([\n",
    "    np.linspace(0.1**4, 1400, 6),\n",
    "    [0.7**4, 3.4**4, 2**4]\n",
    "])\n",
    "params = bless_params | {b: b_const}\n",
    "eqs = get_eqs(params)\n",
    "united_eqs = sorted(union_same_solutions(eqs))\n",
    "united_eqs = [(eqx, eqy) for (eqx, eqy) in united_eqs if eqx >= 0 and eqy >= 0]\n",
    "eq_at, eq_zt, eq_sep = united_eqs\n",
    "eq_at, eq_sep, eq_zt\n"
   ]
  },
  {
   "cell_type": "code",
   "execution_count": 10,
   "metadata": {
    "tags": []
   },
   "outputs": [],
   "source": [
    "x_eq, y_eq = eq_at\n",
    "# # ellipse = get_ellipse(eq_at, 0.1, eps=150, params=params)\n",
    "\n",
    "# fig = fig_load(f'b={b_const}')\n",
    "# for p in [0.1, 0.4, 0.8]:\n",
    "#     fig = fig_add_ellipse(fig, get_ellipse(\n",
    "#         eq_at, p, eps=10, params=params), name=f'{p}')\n",
    "# fig\n"
   ]
  },
  {
   "cell_type": "code",
   "execution_count": 16,
   "metadata": {},
   "outputs": [
    {
     "data": {
      "image/png": "[encoded data removed]",
      "text/latex": [
       "$\\displaystyle \\left( 2.60243403821659 \\cdot 10^{-9}, \\  1.94927676154607\\right)$"
      ],
      "text/plain": [
       "(2.60243403821659e-9, 1.94927676154607)"
      ]
     },
     "execution_count": 16,
     "metadata": {},
     "output_type": "execute_result"
    }
   ],
   "source": [
    "p = 0.995\n",
    "W_f = get_ssm(eq_at, params)\n",
    "eig_val1, eig_val2 = [e_val for (e_val, m, _) in W_f.eigenvects()]\n",
    "eig_val1, eig_val2"
   ]
  },
  {
   "cell_type": "code",
   "execution_count": 24,
   "metadata": {},
   "outputs": [
    {
     "data": {
      "application/vnd.plotly.v1+json": {
       "config": {
        "plotlyServerURL": "https://plot.ly"
       },
       "data": [
        {
         "hovertemplate": "x=%{x}<br>y=%{y}<extra></extra>",
         "legendgroup": "",
         "marker": {
          "color": "#636efa",
          "symbol": "circle"
         },
         "mode": "markers",
         "name": "",
         "orientation": "v",
         "showlegend": false,
         "type": "scatter",
         "x": [
          0.03565656565656566,
          0.034545454545454546,
          0.03525252525252525,
          0.03494949494949495,
          0.035555555555555556,
          0.03535353535353535,
          0.03505050505050505,
          0.03525252525252525,
          0.035454545454545454,
          0.03535353535353535,
          0.03565656565656566,
          0.035555555555555556,
          0.03474747474747475,
          0.03505050505050505,
          0.03484848484848485,
          0.03464646464646465,
          0.03484848484848485,
          0.034545454545454546,
          0.03464646464646465,
          0.03515151515151515,
          0.03515151515151515,
          0.03474747474747475,
          0.03494949494949495,
          0.035454545454545454
         ],
         "xaxis": "x",
         "y": [
          285.8018317755969,
          292.4153187484192,
          286.8931501985222,
          289.0031422824903,
          285.1183635440103,
          288.4507578174734,
          288.2684030536212,
          289.22028964199103,
          287.6402903510171,
          286.2553839041756,
          284.68241558945914,
          286.77318193991005,
          290.5814820692413,
          290.6596330246207,
          291.97068987573493,
          291.4471838043991,
          289.7719424402355,
          293.5492079241441,
          293.1100447492999,
          289.9556739659811,
          287.5650639933965,
          292.56844836559344,
          291.33219191461586,
          285.65855325176756
         ],
         "yaxis": "y"
        }
       ],
       "layout": {
        "legend": {
         "tracegroupgap": 0
        },
        "margin": {
         "t": 60
        },
        "template": {
         "data": {
          "bar": [
           {
            "error_x": {
             "color": "#2a3f5f"
            },
            "error_y": {
             "color": "#2a3f5f"
            },
            "marker": {
             "line": {
              "color": "#E5ECF6",
              "width": 0.5
             },
             "pattern": {
              "fillmode": "overlay",
              "size": 10,
              "solidity": 0.2
             }
            },
            "type": "bar"
           }
          ],
          "barpolar": [
           {
            "marker": {
             "line": {
              "color": "#E5ECF6",
              "width": 0.5
             },
             "pattern": {
              "fillmode": "overlay",
              "size": 10,
              "solidity": 0.2
             }
            },
            "type": "barpolar"
           }
          ],
          "carpet": [
           {
            "aaxis": {
             "endlinecolor": "#2a3f5f",
             "gridcolor": "white",
             "linecolor": "white",
             "minorgridcolor": "white",
             "startlinecolor": "#2a3f5f"
            },
            "baxis": {
             "endlinecolor": "#2a3f5f",
             "gridcolor": "white",
             "linecolor": "white",
             "minorgridcolor": "white",
             "startlinecolor": "#2a3f5f"
            },
            "type": "carpet"
           }
          ],
          "choropleth": [
           {
            "colorbar": {
             "outlinewidth": 0,
             "ticks": ""
            },
            "type": "choropleth"
           }
          ],
          "contour": [
           {
            "colorbar": {
             "outlinewidth": 0,
             "ticks": ""
            },
            "colorscale": [
             [
              0,
              "#0d0887"
             ],
             [
              0.1111111111111111,
              "#46039f"
             ],
             [
              0.2222222222222222,
              "#7201a8"
             ],
             [
              0.3333333333333333,
              "#9c179e"
             ],
             [
              0.4444444444444444,
              "#bd3786"
             ],
             [
              0.5555555555555556,
              "#d8576b"
             ],
             [
              0.6666666666666666,
              "#ed7953"
             ],
             [
              0.7777777777777778,
              "#fb9f3a"
             ],
             [
              0.8888888888888888,
              "#fdca26"
             ],
             [
              1,
              "#f0f921"
             ]
            ],
            "type": "contour"
           }
          ],
          "contourcarpet": [
           {
            "colorbar": {
             "outlinewidth": 0,
             "ticks": ""
            },
            "type": "contourcarpet"
           }
          ],
          "heatmap": [
           {
            "colorbar": {
             "outlinewidth": 0,
             "ticks": ""
            },
            "colorscale": [
             [
              0,
              "#0d0887"
             ],
             [
              0.1111111111111111,
              "#46039f"
             ],
             [
              0.2222222222222222,
              "#7201a8"
             ],
             [
              0.3333333333333333,
              "#9c179e"
             ],
             [
              0.4444444444444444,
              "#bd3786"
             ],
             [
              0.5555555555555556,
              "#d8576b"
             ],
             [
              0.6666666666666666,
              "#ed7953"
             ],
             [
              0.7777777777777778,
              "#fb9f3a"
             ],
             [
              0.8888888888888888,
              "#fdca26"
             ],
             [
              1,
              "#f0f921"
             ]
            ],
            "type": "heatmap"
           }
          ],
          "heatmapgl": [
           {
            "colorbar": {
             "outlinewidth": 0,
             "ticks": ""
            },
            "colorscale": [
             [
              0,
              "#0d0887"
             ],
             [
              0.1111111111111111,
              "#46039f"
             ],
             [
              0.2222222222222222,
              "#7201a8"
             ],
             [
              0.3333333333333333,
              "#9c179e"
             ],
             [
              0.4444444444444444,
              "#bd3786"
             ],
             [
              0.5555555555555556,
              "#d8576b"
             ],
             [
              0.6666666666666666,
              "#ed7953"
             ],
             [
              0.7777777777777778,
              "#fb9f3a"
             ],
             [
              0.8888888888888888,
              "#fdca26"
             ],
             [
              1,
              "#f0f921"
             ]
            ],
            "type": "heatmapgl"
           }
          ],
          "histogram": [
           {
            "marker": {
             "pattern": {
              "fillmode": "overlay",
              "size": 10,
              "solidity": 0.2
             }
            },
            "type": "histogram"
           }
          ],
          "histogram2d": [
           {
            "colorbar": {
             "outlinewidth": 0,
             "ticks": ""
            },
            "colorscale": [
             [
              0,
              "#0d0887"
             ],
             [
              0.1111111111111111,
              "#46039f"
             ],
             [
              0.2222222222222222,
              "#7201a8"
             ],
             [
              0.3333333333333333,
              "#9c179e"
             ],
             [
              0.4444444444444444,
              "#bd3786"
             ],
             [
              0.5555555555555556,
              "#d8576b"
             ],
             [
              0.6666666666666666,
              "#ed7953"
             ],
             [
              0.7777777777777778,
              "#fb9f3a"
             ],
             [
              0.8888888888888888,
              "#fdca26"
             ],
             [
              1,
              "#f0f921"
             ]
            ],
            "type": "histogram2d"
           }
          ],
          "histogram2dcontour": [
           {
            "colorbar": {
             "outlinewidth": 0,
             "ticks": ""
            },
            "colorscale": [
             [
              0,
              "#0d0887"
             ],
             [
              0.1111111111111111,
              "#46039f"
             ],
             [
              0.2222222222222222,
              "#7201a8"
             ],
             [
              0.3333333333333333,
              "#9c179e"
             ],
             [
              0.4444444444444444,
              "#bd3786"
             ],
             [
              0.5555555555555556,
              "#d8576b"
             ],
             [
              0.6666666666666666,
              "#ed7953"
             ],
             [
              0.7777777777777778,
              "#fb9f3a"
             ],
             [
              0.8888888888888888,
              "#fdca26"
             ],
             [
              1,
              "#f0f921"
             ]
            ],
            "type": "histogram2dcontour"
           }
          ],
          "mesh3d": [
           {
            "colorbar": {
             "outlinewidth": 0,
             "ticks": ""
            },
            "type": "mesh3d"
           }
          ],
          "parcoords": [
           {
            "line": {
             "colorbar": {
              "outlinewidth": 0,
              "ticks": ""
             }
            },
            "type": "parcoords"
           }
          ],
          "pie": [
           {
            "automargin": true,
            "type": "pie"
           }
          ],
          "scatter": [
           {
            "fillpattern": {
             "fillmode": "overlay",
             "size": 10,
             "solidity": 0.2
            },
            "type": "scatter"
           }
          ],
          "scatter3d": [
           {
            "line": {
             "colorbar": {
              "outlinewidth": 0,
              "ticks": ""
             }
            },
            "marker": {
             "colorbar": {
              "outlinewidth": 0,
              "ticks": ""
             }
            },
            "type": "scatter3d"
           }
          ],
          "scattercarpet": [
           {
            "marker": {
             "colorbar": {
              "outlinewidth": 0,
              "ticks": ""
             }
            },
            "type": "scattercarpet"
           }
          ],
          "scattergeo": [
           {
            "marker": {
             "colorbar": {
              "outlinewidth": 0,
              "ticks": ""
             }
            },
            "type": "scattergeo"
           }
          ],
          "scattergl": [
           {
            "marker": {
             "colorbar": {
              "outlinewidth": 0,
              "ticks": ""
             }
            },
            "type": "scattergl"
           }
          ],
          "scattermapbox": [
           {
            "marker": {
             "colorbar": {
              "outlinewidth": 0,
              "ticks": ""
             }
            },
            "type": "scattermapbox"
           }
          ],
          "scatterpolar": [
           {
            "marker": {
             "colorbar": {
              "outlinewidth": 0,
              "ticks": ""
             }
            },
            "type": "scatterpolar"
           }
          ],
          "scatterpolargl": [
           {
            "marker": {
             "colorbar": {
              "outlinewidth": 0,
              "ticks": ""
             }
            },
            "type": "scatterpolargl"
           }
          ],
          "scatterternary": [
           {
            "marker": {
             "colorbar": {
              "outlinewidth": 0,
              "ticks": ""
             }
            },
            "type": "scatterternary"
           }
          ],
          "surface": [
           {
            "colorbar": {
             "outlinewidth": 0,
             "ticks": ""
            },
            "colorscale": [
             [
              0,
              "#0d0887"
             ],
             [
              0.1111111111111111,
              "#46039f"
             ],
             [
              0.2222222222222222,
              "#7201a8"
             ],
             [
              0.3333333333333333,
              "#9c179e"
             ],
             [
              0.4444444444444444,
              "#bd3786"
             ],
             [
              0.5555555555555556,
              "#d8576b"
             ],
             [
              0.6666666666666666,
              "#ed7953"
             ],
             [
              0.7777777777777778,
              "#fb9f3a"
             ],
             [
              0.8888888888888888,
              "#fdca26"
             ],
             [
              1,
              "#f0f921"
             ]
            ],
            "type": "surface"
           }
          ],
          "table": [
           {
            "cells": {
             "fill": {
              "color": "#EBF0F8"
             },
             "line": {
              "color": "white"
             }
            },
            "header": {
             "fill": {
              "color": "#C8D4E3"
             },
             "line": {
              "color": "white"
             }
            },
            "type": "table"
           }
          ]
         },
         "layout": {
          "annotationdefaults": {
           "arrowcolor": "#2a3f5f",
           "arrowhead": 0,
           "arrowwidth": 1
          },
          "autotypenumbers": "strict",
          "coloraxis": {
           "colorbar": {
            "outlinewidth": 0,
            "ticks": ""
           }
          },
          "colorscale": {
           "diverging": [
            [
             0,
             "#8e0152"
            ],
            [
             0.1,
             "#c51b7d"
            ],
            [
             0.2,
             "#de77ae"
            ],
            [
             0.3,
             "#f1b6da"
            ],
            [
             0.4,
             "#fde0ef"
            ],
            [
             0.5,
             "#f7f7f7"
            ],
            [
             0.6,
             "#e6f5d0"
            ],
            [
             0.7,
             "#b8e186"
            ],
            [
             0.8,
             "#7fbc41"
            ],
            [
             0.9,
             "#4d9221"
            ],
            [
             1,
             "#276419"
            ]
           ],
           "sequential": [
            [
             0,
             "#0d0887"
            ],
            [
             0.1111111111111111,
             "#46039f"
            ],
            [
             0.2222222222222222,
             "#7201a8"
            ],
            [
             0.3333333333333333,
             "#9c179e"
            ],
            [
             0.4444444444444444,
             "#bd3786"
            ],
            [
             0.5555555555555556,
             "#d8576b"
            ],
            [
             0.6666666666666666,
             "#ed7953"
            ],
            [
             0.7777777777777778,
             "#fb9f3a"
            ],
            [
             0.8888888888888888,
             "#fdca26"
            ],
            [
             1,
             "#f0f921"
            ]
           ],
           "sequentialminus": [
            [
             0,
             "#0d0887"
            ],
            [
             0.1111111111111111,
             "#46039f"
            ],
            [
             0.2222222222222222,
             "#7201a8"
            ],
            [
             0.3333333333333333,
             "#9c179e"
            ],
            [
             0.4444444444444444,
             "#bd3786"
            ],
            [
             0.5555555555555556,
             "#d8576b"
            ],
            [
             0.6666666666666666,
             "#ed7953"
            ],
            [
             0.7777777777777778,
             "#fb9f3a"
            ],
            [
             0.8888888888888888,
             "#fdca26"
            ],
            [
             1,
             "#f0f921"
            ]
           ]
          },
          "colorway": [
           "#636efa",
           "#EF553B",
           "#00cc96",
           "#ab63fa",
           "#FFA15A",
           "#19d3f3",
           "#FF6692",
           "#B6E880",
           "#FF97FF",
           "#FECB52"
          ],
          "font": {
           "color": "#2a3f5f"
          },
          "geo": {
           "bgcolor": "white",
           "lakecolor": "white",
           "landcolor": "#E5ECF6",
           "showlakes": true,
           "showland": true,
           "subunitcolor": "white"
          },
          "hoverlabel": {
           "align": "left"
          },
          "hovermode": "closest",
          "mapbox": {
           "style": "light"
          },
          "paper_bgcolor": "white",
          "plot_bgcolor": "#E5ECF6",
          "polar": {
           "angularaxis": {
            "gridcolor": "white",
            "linecolor": "white",
            "ticks": ""
           },
           "bgcolor": "#E5ECF6",
           "radialaxis": {
            "gridcolor": "white",
            "linecolor": "white",
            "ticks": ""
           }
          },
          "scene": {
           "xaxis": {
            "backgroundcolor": "#E5ECF6",
            "gridcolor": "white",
            "gridwidth": 2,
            "linecolor": "white",
            "showbackground": true,
            "ticks": "",
            "zerolinecolor": "white"
           },
           "yaxis": {
            "backgroundcolor": "#E5ECF6",
            "gridcolor": "white",
            "gridwidth": 2,
            "linecolor": "white",
            "showbackground": true,
            "ticks": "",
            "zerolinecolor": "white"
           },
           "zaxis": {
            "backgroundcolor": "#E5ECF6",
            "gridcolor": "white",
            "gridwidth": 2,
            "linecolor": "white",
            "showbackground": true,
            "ticks": "",
            "zerolinecolor": "white"
           }
          },
          "shapedefaults": {
           "line": {
            "color": "#2a3f5f"
           }
          },
          "ternary": {
           "aaxis": {
            "gridcolor": "white",
            "linecolor": "white",
            "ticks": ""
           },
           "baxis": {
            "gridcolor": "white",
            "linecolor": "white",
            "ticks": ""
           },
           "bgcolor": "#E5ECF6",
           "caxis": {
            "gridcolor": "white",
            "linecolor": "white",
            "ticks": ""
           }
          },
          "title": {
           "x": 0.05
          },
          "xaxis": {
           "automargin": true,
           "gridcolor": "white",
           "linecolor": "white",
           "ticks": "",
           "title": {
            "standoff": 15
           },
           "zerolinecolor": "white",
           "zerolinewidth": 2
          },
          "yaxis": {
           "automargin": true,
           "gridcolor": "white",
           "linecolor": "white",
           "ticks": "",
           "title": {
            "standoff": 15
           },
           "zerolinecolor": "white",
           "zerolinewidth": 2
          }
         }
        },
        "xaxis": {
         "anchor": "y",
         "domain": [
          0,
          1
         ],
         "title": {
          "text": "x"
         }
        },
        "yaxis": {
         "anchor": "x",
         "domain": [
          0,
          1
         ],
         "title": {
          "text": "y"
         }
        }
       }
      }
     },
     "metadata": {},
     "output_type": "display_data"
    }
   ],
   "source": [
    "import plotly.express as px\n",
    "\n",
    "ellipse = get_ellipse(\n",
    "        eq_at, p, eps=1, params=params)\n",
    "fig = px.scatter(ellipse, x=\"x\", y=\"y\")\n",
    "fig.show()\n"
   ]
  },
  {
   "cell_type": "markdown",
   "metadata": {},
   "source": [
    "### Расчеты и графики в оригинальных координатах"
   ]
  },
  {
   "cell_type": "code",
   "execution_count": null,
   "metadata": {},
   "outputs": [],
   "source": [
    "huge_fig = get_white_fig()\n"
   ]
  },
  {
   "cell_type": "code",
   "execution_count": null,
   "metadata": {},
   "outputs": [],
   "source": [
    "cur_eps = 150\n",
    "paths_by_b_eps[(b_const)]"
   ]
  },
  {
   "cell_type": "markdown",
   "metadata": {},
   "source": [
    "### Вероятность подавление режима AT"
   ]
  },
  {
   "cell_type": "markdown",
   "metadata": {},
   "source": [
    "Result"
   ]
  },
  {
   "cell_type": "code",
   "execution_count": null,
   "metadata": {},
   "outputs": [],
   "source": [
    "probs = pd.DataFrame([\n",
    "\n",
    "    (50, 10, 0),\n",
    "    (50, 100, 0.01),\n",
    "    (50, 110, 0.02),\n",
    "    (50, 120, 0.09),\n",
    "    (50, 130, 0.20),\n",
    "    (50, 150, 0.61),\n",
    "    (50, 170, 0.94),\n",
    "    (50, 200, 1),\n",
    "\n",
    "\n",
    "    (100, 50, 0),\n",
    "    (100, 100, 0.19),\n",
    "    (100, 110, 0.37),\n",
    "    (100, 120, 0.51),\n",
    "    (100, 130, 0.72),\n",
    "    (100, 140, 0.83),\n",
    "    (100, 150, 0.96),\n",
    "    (100, 200, 0.99),\n",
    "\n",
    "\n",
    "    (150, 40, 0),\n",
    "    (150, 60, 0.14),\n",
    "    (150, 80, 0.64),\n",
    "    (150, 100, 0.96),\n",
    "    (150, 150, 1),\n",
    "\n",
    "\n",
    "    (190, 5, 0),\n",
    "    (190, 10, 0.02),\n",
    "    (190, 15, 0.33),\n",
    "    (190, 20, 0.58),\n",
    "    (190, 30, 0.88),\n",
    "    (190, 40, 0.98),\n",
    "    (190, 60, 1),\n",
    "    (190, 100, 1)\n",
    "\n",
    "], columns=['b', 'eps', 'p'])\n",
    "\n",
    "\n",
    "fig = get_white_fig()\n",
    "fig.update_layout(title=f\"Probability\")\n",
    "# fig.update_layout(xaxis={\"title\": r\"$\\epsilon$\"}, yaxis={\n",
    "#     \"title\":  r\"$P$\"})\n",
    "fig.update_layout(xaxis={\"title\": r\"epsilon\"}, yaxis={\n",
    "    \"title\":  r\"P\"})\n",
    "for curb, points in probs.groupby(\"b\"):\n",
    "    fig.add_trace(go.Scatter(x=points.eps,\n",
    "                             y=points.p, name=f\"b = {curb}\"))\n",
    "\n",
    "fig.show()\n"
   ]
  },
  {
   "cell_type": "markdown",
   "metadata": {},
   "source": [
    "calculations"
   ]
  },
  {
   "cell_type": "code",
   "execution_count": null,
   "metadata": {},
   "outputs": [],
   "source": [
    "paths_cnt = 100\n",
    "noisy_paths_list = []\n",
    "H = 0.1\n",
    "# _get_path = _get_path_variable_h\n",
    "\n",
    "\n",
    "def get_paths_by_b_epses(curb, epses):\n",
    "    global get_next\n",
    "    params = bless_params | {b: curb}\n",
    "    eqs = get_united_constraint_eqs(params)\n",
    "    eq_at = eqs[0]\n",
    "    r = []\n",
    "    for cur_eps in epses:\n",
    "        get_next = partial(get_next_noisy, eps=cur_eps)\n",
    "        paths = get_paths(\n",
    "            params, [eq_at]*paths_cnt, num_steps=1000, h=H,\n",
    "            add_first_cut=True)\n",
    "        paths['eps'] = cur_eps\n",
    "        paths.eps = paths.eps.astype(float)\n",
    "        paths['b'] = curb\n",
    "        paths.b = paths.b.astype(float)\n",
    "        r.append(paths)\n",
    "    return pd.concat(r)\n"
   ]
  },
  {
   "cell_type": "code",
   "execution_count": null,
   "metadata": {},
   "outputs": [],
   "source": [
    "curb = 50\n",
    "epses = [10, 100, 150, 200]\n",
    "fig = get_fig(bless_params | {b: curb})\n",
    "paths = get_paths_by_b_epses(curb, epses)\n",
    "noisy_paths_list.append(paths)\n",
    "for (eps, _), path in (paths\n",
    "                       .groupby([\"eps\", \"path_id\"])):\n",
    "    fig = fig_add_paths(fig, get_positive_prefix(path), name=f\"{eps}\",\n",
    "                        auto_define_color=False)\n",
    "fig.show()\n",
    "get_probs(paths)\n"
   ]
  },
  {
   "cell_type": "markdown",
   "metadata": {},
   "source": [
    "# Debug"
   ]
  },
  {
   "cell_type": "code",
   "execution_count": null,
   "metadata": {},
   "outputs": [],
   "source": [
    "dxdt = sigma + ro*x*(y**4)/(eta + y**4) - mu*x*y**4 - delta*x\n",
    "dydt = 0.25*(alpha*y*(1-beta*y**4)-x*y-(b*y)/(1+y**4))\n",
    "\n",
    "dfdx = diff(dxdt, x)\n",
    "dfdy = diff(dxdt, y)\n",
    "dgdx = diff(dydt, x)\n",
    "dgdy = diff(dydt, y)\n"
   ]
  },
  {
   "cell_type": "code",
   "execution_count": null,
   "metadata": {},
   "outputs": [],
   "source": [
    "display(Math('\\dfrac{dx}{dt} = ' + latex(dxdt)))\n",
    "display(Math('\\dfrac{dy}{dt} = ' + latex(dydt)))\n",
    "\n",
    "display(Math('\\dfrac{df}{dx} = ' + latex(dfdx)))\n",
    "display(Math('\\dfrac{df}{dy} = ' + latex(dfdy)))\n",
    "display(Math('\\dfrac{dg}{dx} = ' + latex(dgdx)))\n",
    "display(Math('\\dfrac{dg}{dy} = ' + latex(dgdy)))\n"
   ]
  },
  {
   "cell_type": "code",
   "execution_count": null,
   "metadata": {},
   "outputs": [],
   "source": [
    "dfdy_phys = 4*x*(y**3)*(ro*eta/((eta+y**4)**2)-mu)\n",
    "dgdy_phys = 0.25*(alpha*(1-5*beta*y**4)-x-(b*(1-3*y**4))/((1+y**4)**2))\n",
    "simplify(dfdy-dfdy_phys), simplify(dgdy-dgdy_phys)\n",
    "# Производные верные\n"
   ]
  },
  {
   "cell_type": "code",
   "execution_count": null,
   "metadata": {},
   "outputs": [],
   "source": [
    "bless_params[mu] = 0.001\n",
    "bless_params\n",
    "params = dict(bless_params)\n",
    "params[b] = 0.898\n",
    "eps = 0.1\n"
   ]
  },
  {
   "cell_type": "code",
   "execution_count": null,
   "metadata": {},
   "outputs": [],
   "source": [
    "params\n"
   ]
  },
  {
   "cell_type": "code",
   "execution_count": null,
   "metadata": {},
   "outputs": [],
   "source": [
    "eqs = get_eqs_by_starts(params, starts=itertools.product(np.linspace(1.2, 1.8, 10),\n",
    "                                                         np.linspace(1.5, 1.8, 10)))\n",
    "united_eqs = sorted(union_same_solutions(eqs))\n",
    "(eq_at,) = united_eqs\n"
   ]
  },
  {
   "cell_type": "code",
   "execution_count": null,
   "metadata": {},
   "outputs": [],
   "source": [
    "eq_at\n"
   ]
  },
  {
   "cell_type": "code",
   "execution_count": null,
   "metadata": {},
   "outputs": [],
   "source": [
    "# b1 = 0.899, b2 = 0.982, b3 = 1.332\n"
   ]
  },
  {
   "cell_type": "code",
   "execution_count": null,
   "metadata": {},
   "outputs": [],
   "source": [
    "r = []\n",
    "for curb in np.linspace(0.7, 0.99, 100):\n",
    "    W_f = get_ssm(eq_at, bless_params | {b: curb})\n",
    "    eig_val1, eig_val2 = sorted([e_val for (e_val, m, _) in W_f.eigenvects()])\n",
    "    r.append((curb, eig_val1, eig_val2))\n",
    "\n",
    "evals = pd.DataFrame(r, columns=['b', 'l1', 'l2']).astype(float)\n",
    "\n",
    "fig = get_white_fig()\n",
    "fig.update_layout(title=f\"\")\n",
    "fig.update_layout(xaxis={\"title\": r\"b\"}, yaxis={\n",
    "    \"title\":  r\"lambda\"})\n",
    "fig.add_trace(go.Scatter(x=evals.b, y=evals.l1))\n",
    "fig.add_trace(go.Scatter(x=evals.b, y=evals.l2))\n",
    "# fig.update_yaxes(type=\"log\")\n",
    "\n",
    "fig.show()\n"
   ]
  },
  {
   "cell_type": "markdown",
   "metadata": {},
   "source": [
    "лямбды правильные"
   ]
  },
  {
   "cell_type": "code",
   "execution_count": null,
   "metadata": {},
   "outputs": [],
   "source": [
    "params\n"
   ]
  },
  {
   "cell_type": "code",
   "execution_count": null,
   "metadata": {},
   "outputs": [],
   "source": [
    "fig = get_white_fig()\n",
    "p = 0.99\n",
    "cur_eps= 0.1\n",
    "el = get_ellipse(eq_at, p, eps=cur_eps, params=params)\n",
    "fig = fig_add_ellipse(fig, el, y_col='y', name=f'P = {p}')\n"
   ]
  },
  {
   "cell_type": "code",
   "execution_count": null,
   "metadata": {
    "tags": []
   },
   "outputs": [],
   "source": [
    "fig.add_trace(go.Scatter(x=[eq_at[0]], y=[eq_at[1]],\n",
    "                          name='eq_at E1', line=dict(color='green')))\n",
    "ellipse_fig = fig\n",
    "fig\n"
   ]
  },
  {
   "cell_type": "markdown",
   "metadata": {},
   "source": [
    "Добавим распрделение точек вокруг равновесия"
   ]
  },
  {
   "cell_type": "code",
   "execution_count": null,
   "metadata": {},
   "outputs": [],
   "source": [
    "get_next = partial(get_next_noisy, eps=cur_eps)\n",
    "\n",
    "paths = get_paths(params, [eq_at]*50, num_steps=1000, h=0.01)\n"
   ]
  },
  {
   "cell_type": "code",
   "execution_count": null,
   "metadata": {
    "tags": []
   },
   "outputs": [],
   "source": [
    "p_fig = go.Figure(ellipse_fig)\n",
    "p_fig.add_trace(go.Scatter(x=paths.x, y=paths.y,\n",
    "                         mode=\"markers\",\n",
    "                           name='', marker= dict(color='grey',\n",
    "                                                               size=2)))\n",
    "p_fig\n"
   ]
  },
  {
   "cell_type": "code",
   "execution_count": null,
   "metadata": {
    "tags": []
   },
   "outputs": [],
   "source": [
    "sparse_paths = paths.iloc[random.sample(range(0, len(paths)), 1000)]\n",
    "sp_fig = go.Figure(ellipse_fig)\n",
    "sp_fig.add_trace(go.Scatter(x=sparse_paths.x, y=sparse_paths.y,\n",
    "                         mode=\"markers\", name='', marker= dict(color='grey',\n",
    "                                                               size=2)))\n",
    "sp_fig\n"
   ]
  },
  {
   "cell_type": "code",
   "execution_count": null,
   "metadata": {},
   "outputs": [],
   "source": []
  }
 ],
 "metadata": {
  "colab": {
   "provenance": []
  },
  "kernelspec": {
   "display_name": "Python 3 (ipykernel)",
   "language": "python",
   "name": "python3"
  },
  "language_info": {
   "codemirror_mode": {
    "name": "ipython",
    "version": 3
   },
   "file_extension": ".py",
   "mimetype": "text/x-python",
   "name": "python",
   "nbconvert_exporter": "python",
   "pygments_lexer": "ipython3",
   "version": "3.10.6"
  },
  "vscode": {
   "interpreter": {
    "hash": "916dbcbb3f70747c44a77c7bcd40155683ae19c65e1c03b4aa3499c5328201f1"
   }
  },
  "widgets": {
   "application/vnd.jupyter.widget-state+json": {
    "state": {},
    "version_major": 2,
    "version_minor": 0
   }
  }
 },
 "nbformat": 4,
 "nbformat_minor": 4
}

{
 "cells": [
  {
   "cell_type": "code",
   "execution_count": 63,
   "metadata": {
    "id": "FAx5T0k-MuER",
    "tags": []
   },
   "outputs": [],
   "source": [
    "from sympy import *\n",
    "from IPython.display import display, Math\n",
    "import numpy as np\n",
    "init_printing(use_unicode=True)\n",
    "import plotly.express as px\n",
    "import plotly.graph_objects as go"
   ]
  },
  {
   "cell_type": "code",
   "execution_count": 8,
   "metadata": {
    "id": "KvGMScMINuKD",
    "tags": []
   },
   "outputs": [],
   "source": [
    "from sympy import solve\n",
    "x, y, sigma, mu, delta, alpha, beta, ro, eta, b, lambd = symbols(\n",
    "    'x y σ μ δ α β ρ η b λ')\n",
    "sigma_c = 0.1181\n",
    "ro_c = 1.31\n",
    "eta_c = 20.19\n",
    "alpha_c = 1.636\n",
    "beta_c = 0.002\n",
    "delta_c = 0.3743\n",
    "mu_c = 0.005\n",
    "b_c = 0\n",
    "\n",
    "dxdt = sigma + ro*x*y/(eta + y) - mu*x*y - delta*x\n",
    "dydt = alpha*y*(1-beta*y)-x*y-(b*y)/(1+y)\n",
    "\n",
    "concrete_params = {ro: ro_c, sigma: sigma_c, eta: eta_c, b: b_c,\n",
    "                   alpha: alpha_c, beta: beta_c, mu: mu_c, delta: delta_c}\n",
    "muless_params = dict(concrete_params)\n",
    "del muless_params[mu]\n"
   ]
  },
  {
   "cell_type": "code",
   "execution_count": 9,
   "metadata": {
    "tags": []
   },
   "outputs": [
    {
     "data": {
      "text/latex": [
       "$\\displaystyle \\dfrac{dx}{dt} = - x y μ + \\frac{x y ρ}{y + η} - x δ + σ$"
      ],
      "text/plain": [
       "<IPython.core.display.Math object>"
      ]
     },
     "metadata": {},
     "output_type": "display_data"
    },
    {
     "data": {
      "text/latex": [
       "$\\displaystyle \\dfrac{dy}{dt} = - \\frac{b y}{y + 1} - x y + y α \\left(- y β + 1\\right)$"
      ],
      "text/plain": [
       "<IPython.core.display.Math object>"
      ]
     },
     "metadata": {},
     "output_type": "display_data"
    }
   ],
   "source": [
    "display(Math('\\dfrac{dx}{dt} = ' + latex(dxdt)))\n",
    "display(Math('\\dfrac{dy}{dt} = ' + latex(dydt)))"
   ]
  },
  {
   "cell_type": "markdown",
   "metadata": {},
   "source": [
    "### Точки равновесия"
   ]
  },
  {
   "cell_type": "markdown",
   "metadata": {},
   "source": [
    "### 1"
   ]
  },
  {
   "cell_type": "code",
   "execution_count": 10,
   "metadata": {
    "tags": []
   },
   "outputs": [
    {
     "data": {
      "text/latex": [
       "$\\displaystyle x = \\frac{σ}{δ}$"
      ],
      "text/plain": [
       "<IPython.core.display.Math object>"
      ]
     },
     "metadata": {},
     "output_type": "display_data"
    },
    {
     "data": {
      "text/latex": [
       "$\\displaystyle y = 0$"
      ],
      "text/plain": [
       "<IPython.core.display.Math object>"
      ]
     },
     "metadata": {},
     "output_type": "display_data"
    }
   ],
   "source": [
    "display(Math('x = ' + latex(sigma/delta)))\n",
    "display(Math('y = 0' )) # Решение не зависит от μ"
   ]
  },
  {
   "cell_type": "code",
   "execution_count": 11,
   "metadata": {
    "tags": []
   },
   "outputs": [],
   "source": [
    "# Остаьные равновесия аналитически не найти. Полином 5 степени."
   ]
  },
  {
   "cell_type": "code",
   "execution_count": 12,
   "metadata": {
    "tags": []
   },
   "outputs": [],
   "source": [
    "def get_solutions(cur_mu=concrete_params[mu]):\n",
    "    params = dict(concrete_params)\n",
    "    params[mu] = cur_mu\n",
    "    return solve([dxdt.subs(params), dydt.subs(params)], x,y)"
   ]
  },
  {
   "cell_type": "code",
   "execution_count": 74,
   "metadata": {
    "tags": []
   },
   "outputs": [],
   "source": [
    "def display_solutions(sols):\n",
    "    for s in sols:\n",
    "        display(s)"
   ]
  },
  {
   "cell_type": "code",
   "execution_count": 75,
   "metadata": {
    "tags": []
   },
   "outputs": [],
   "source": [
    "def display_sol_list(sol_list):\n",
    "    for cur_mu, sols in sol_list:\n",
    "        print(f\"mu = {cur_mu}\")\n",
    "        display_solutions(sols)\n",
    "        display(\"*\"*20)"
   ]
  },
  {
   "cell_type": "code",
   "execution_count": 15,
   "metadata": {
    "tags": []
   },
   "outputs": [],
   "source": [
    "# for s in get_solutions():\n",
    "#     display(s)"
   ]
  },
  {
   "cell_type": "markdown",
   "metadata": {},
   "source": [
    "#### Бифуркационная диаграмма"
   ]
  },
  {
   "cell_type": "code",
   "execution_count": 27,
   "metadata": {
    "tags": []
   },
   "outputs": [],
   "source": [
    "mus = np.linspace(0.002, 0.022, 50)\n",
    "# mus"
   ]
  },
  {
   "cell_type": "code",
   "execution_count": 28,
   "metadata": {
    "tags": []
   },
   "outputs": [],
   "source": [
    "from tqdm import tqdm"
   ]
  },
  {
   "cell_type": "code",
   "execution_count": 29,
   "metadata": {
    "tags": []
   },
   "outputs": [
    {
     "name": "stderr",
     "output_type": "stream",
     "text": [
      "100%|███████████████████████████████████████████| 50/50 [01:40<00:00,  2.02s/it]\n"
     ]
    }
   ],
   "source": [
    "xs=[]\n",
    "ys = []\n",
    "mul = []\n",
    "solutions_by_mu={}\n",
    "for cur_mu in tqdm(mus):\n",
    "    solutions = get_solutions(cur_mu)\n",
    "    solutions_by_mu[cur_mu]= solutions\n",
    "    # for s in solutions:\n",
    "    #     if s[1]!=0:# and s[1].as_real_imag()[1]==0:#real\n",
    "    #         ys.append(s[1].as_real_imag()[0])\n",
    "    #         mul.append(cur_mu)\n",
    "            \n",
    "    "
   ]
  },
  {
   "cell_type": "code",
   "execution_count": 32,
   "metadata": {
    "tags": []
   },
   "outputs": [],
   "source": [
    "# for cur_mu, sols in list(solutions_by_mu.items()):\n",
    "#     print(f\"mu = {cur_mu}\")\n",
    "#     display_solutions(sols)\n",
    "#     display(\"*\"*20)"
   ]
  },
  {
   "cell_type": "code",
   "execution_count": 33,
   "metadata": {
    "tags": []
   },
   "outputs": [
    {
     "data": {
      "image/png": "[encoded data removed]",
      "text/latex": [
       "$\\displaystyle \\left( 0.011767191670385, \\  496.403670027388\\right)$"
      ],
      "text/plain": [
       "(0.011767191670385, 496.403670027388)"
      ]
     },
     "execution_count": 33,
     "metadata": {},
     "output_type": "execute_result"
    }
   ],
   "source": []
  },
  {
   "cell_type": "code",
   "execution_count": 76,
   "metadata": {
    "tags": []
   },
   "outputs": [
    {
     "name": "stdout",
     "output_type": "stream",
     "text": [
      "mu = 0.002\n"
     ]
    },
    {
     "data": {
      "image/png": "[encoded data removed]",
      "text/latex": [
       "$\\displaystyle \\left( 0.315522308308843, \\  0.0\\right)$"
      ],
      "text/plain": [
       "(0.315522308308843, 0.0)"
      ]
     },
     "metadata": {},
     "output_type": "display_data"
    },
    {
     "data": {
      "image/png": "[encoded data removed]",
      "text/latex": [
       "$\\displaystyle \\left( 1.61518147828901, \\  6.36262888477561\\right)$"
      ],
      "text/plain": [
       "(1.61518147828901, 6.36262888477561)"
      ]
     },
     "metadata": {},
     "output_type": "display_data"
    },
    {
     "data": {
      "image/png": "[encoded data removed]",
      "text/latex": [
       "$\\displaystyle \\left( 0.0960375008554929 - 0.440886835080818 i, \\  470.648685557612 + 134.745365244749 i\\right)$"
      ],
      "text/plain": [
       "(0.0960375008554929 - 0.440886835080818⋅ⅈ, 470.648685557612 + 134.745365244749\n",
       "⋅ⅈ)"
      ]
     },
     "metadata": {},
     "output_type": "display_data"
    },
    {
     "data": {
      "image/png": "[encoded data removed]",
      "text/latex": [
       "$\\displaystyle \\left( 0.0960375008554929 + 0.440886835080818 i, \\  470.648685557612 - 134.745365244749 i\\right)$"
      ],
      "text/plain": [
       "(0.0960375008554929 + 0.440886835080818⋅ⅈ, 470.648685557612 - 134.745365244749\n",
       "⋅ⅈ)"
      ]
     },
     "metadata": {},
     "output_type": "display_data"
    },
    {
     "data": {
      "text/plain": [
       "'********************'"
      ]
     },
     "metadata": {},
     "output_type": "display_data"
    },
    {
     "name": "stdout",
     "output_type": "stream",
     "text": [
      "mu = 0.0024081632653061226\n"
     ]
    },
    {
     "data": {
      "image/png": "[encoded data removed]",
      "text/latex": [
       "$\\displaystyle \\left( 0.315522308308843, \\  0.0\\right)$"
      ],
      "text/plain": [
       "(0.315522308308843, 0.0)"
      ]
     },
     "metadata": {},
     "output_type": "display_data"
    },
    {
     "data": {
      "image/png": "[encoded data removed]",
      "text/latex": [
       "$\\displaystyle \\left( 1.61493973148994, \\  6.43651238082499\\right)$"
      ],
      "text/plain": [
       "(1.61493973148994, 6.43651238082499)"
      ]
     },
     "metadata": {},
     "output_type": "display_data"
    },
    {
     "data": {
      "image/png": "[encoded data removed]",
      "text/latex": [
       "$\\displaystyle \\left( 0.225887628492317 - 0.343649929308898 i, \\  430.963438724842 + 105.027484507609 i\\right)$"
      ],
      "text/plain": [
       "(0.225887628492317 - 0.343649929308898⋅ⅈ, 430.963438724842 + 105.027484507609⋅\n",
       "ⅈ)"
      ]
     },
     "metadata": {},
     "output_type": "display_data"
    },
    {
     "data": {
      "image/png": "[encoded data removed]",
      "text/latex": [
       "$\\displaystyle \\left( 0.225887628492317 + 0.343649929308898 i, \\  430.963438724842 - 105.027484507609 i\\right)$"
      ],
      "text/plain": [
       "(0.225887628492317 + 0.343649929308898⋅ⅈ, 430.963438724842 - 105.027484507609⋅\n",
       "ⅈ)"
      ]
     },
     "metadata": {},
     "output_type": "display_data"
    },
    {
     "data": {
      "text/plain": [
       "'********************'"
      ]
     },
     "metadata": {},
     "output_type": "display_data"
    },
    {
     "name": "stdout",
     "output_type": "stream",
     "text": [
      "mu = 0.0028163265306122448\n"
     ]
    },
    {
     "data": {
      "image/png": "[encoded data removed]",
      "text/latex": [
       "$\\displaystyle \\left( 0.315522308308843, \\  0.0\\right)$"
      ],
      "text/plain": [
       "(0.315522308308843, 0.0)"
      ]
     },
     "metadata": {},
     "output_type": "display_data"
    },
    {
     "data": {
      "image/png": "[encoded data removed]",
      "text/latex": [
       "$\\displaystyle \\left( 1.6146907992923, \\  6.5125919033324\\right)$"
      ],
      "text/plain": [
       "(1.6146907992923, 6.5125919033324)"
      ]
     },
     "metadata": {},
     "output_type": "display_data"
    },
    {
     "data": {
      "image/png": "[encoded data removed]",
      "text/latex": [
       "$\\displaystyle \\left( 0.318138666440807 - 0.208375528963325 i, \\  402.769356222247 + 63.6844526171531 i\\right)$"
      ],
      "text/plain": [
       "(0.318138666440807 - 0.208375528963325⋅ⅈ, 402.769356222247 + 63.6844526171531⋅\n",
       "ⅈ)"
      ]
     },
     "metadata": {},
     "output_type": "display_data"
    },
    {
     "data": {
      "image/png": "[encoded data removed]",
      "text/latex": [
       "$\\displaystyle \\left( 0.318138666440807 + 0.208375528963325 i, \\  402.769356222247 - 63.6844526171531 i\\right)$"
      ],
      "text/plain": [
       "(0.318138666440807 + 0.208375528963325⋅ⅈ, 402.769356222247 - 63.6844526171531⋅\n",
       "ⅈ)"
      ]
     },
     "metadata": {},
     "output_type": "display_data"
    },
    {
     "data": {
      "text/plain": [
       "'********************'"
      ]
     },
     "metadata": {},
     "output_type": "display_data"
    },
    {
     "name": "stdout",
     "output_type": "stream",
     "text": [
      "mu = 0.0032244897959183673\n"
     ]
    },
    {
     "data": {
      "image/png": "[encoded data removed]",
      "text/latex": [
       "$\\displaystyle \\left( 0.315522308308843, \\  0.0\\right)$"
      ],
      "text/plain": [
       "(0.315522308308843, 0.0)"
      ]
     },
     "metadata": {},
     "output_type": "display_data"
    },
    {
     "data": {
      "image/png": "[encoded data removed]",
      "text/latex": [
       "$\\displaystyle \\left( 0.233842698944264 - 2.0 \\cdot 10^{-21} i, \\  428.532182474247 - 1.0 \\cdot 10^{-20} i\\right)$"
      ],
      "text/plain": [
       "(0.233842698944264 - 0.e-21⋅ⅈ, 428.532182474247 - 0.e-20⋅ⅈ)"
      ]
     },
     "metadata": {},
     "output_type": "display_data"
    },
    {
     "data": {
      "image/png": "[encoded data removed]",
      "text/latex": [
       "$\\displaystyle \\left( 0.540297911996681 + 2.0 \\cdot 10^{-21} i, \\  334.872276284633 + 1.0 \\cdot 10^{-20} i\\right)$"
      ],
      "text/plain": [
       "(0.540297911996681 + 0.e-21⋅ⅈ, 334.872276284633 + 0.e-20⋅ⅈ)"
      ]
     },
     "metadata": {},
     "output_type": "display_data"
    },
    {
     "data": {
      "image/png": "[encoded data removed]",
      "text/latex": [
       "$\\displaystyle \\left( 1.6144342994388 + 3.0 \\cdot 10^{-30} i, \\  6.59098427909458 + 2.0 \\cdot 10^{-19} i\\right)$"
      ],
      "text/plain": [
       "(1.6144342994388 + 0.e-30⋅ⅈ, 6.59098427909458 + 0.e-19⋅ⅈ)"
      ]
     },
     "metadata": {},
     "output_type": "display_data"
    },
    {
     "data": {
      "text/plain": [
       "'********************'"
      ]
     },
     "metadata": {},
     "output_type": "display_data"
    },
    {
     "name": "stdout",
     "output_type": "stream",
     "text": [
      "mu = 0.0036326530612244895\n"
     ]
    },
    {
     "data": {
      "image/png": "[encoded data removed]",
      "text/latex": [
       "$\\displaystyle \\left( 0.315522308308843, \\  0.0\\right)$"
      ],
      "text/plain": [
       "(0.315522308308843, 0.0)"
      ]
     },
     "metadata": {},
     "output_type": "display_data"
    },
    {
     "data": {
      "image/png": "[encoded data removed]",
      "text/latex": [
       "$\\displaystyle \\left( 0.1543410847229 - 4.0 \\cdot 10^{-22} i, \\  452.829741832855 - 7.0 \\cdot 10^{-21} i\\right)$"
      ],
      "text/plain": [
       "(0.1543410847229 - 0.e-22⋅ⅈ, 452.829741832855 - 0.e-20⋅ⅈ)"
      ]
     },
     "metadata": {},
     "output_type": "display_data"
    },
    {
     "data": {
      "image/png": "[encoded data removed]",
      "text/latex": [
       "$\\displaystyle \\left( 0.726747913398719 - 2.0 \\cdot 10^{-28} i, \\  277.888779523619 + 2.0 \\cdot 10^{-18} i\\right)$"
      ],
      "text/plain": [
       "(0.726747913398719 - 0.e-28⋅ⅈ, 277.888779523619 + 0.e-18⋅ⅈ)"
      ]
     },
     "metadata": {},
     "output_type": "display_data"
    },
    {
     "data": {
      "image/png": "[encoded data removed]",
      "text/latex": [
       "$\\displaystyle \\left( 1.61416981895703 + 6.0 \\cdot 10^{-30} i, \\  6.67181572217809 + 4.0 \\cdot 10^{-19} i\\right)$"
      ],
      "text/plain": [
       "(1.61416981895703 + 0.e-29⋅ⅈ, 6.67181572217809 + 0.e-19⋅ⅈ)"
      ]
     },
     "metadata": {},
     "output_type": "display_data"
    },
    {
     "data": {
      "text/plain": [
       "'********************'"
      ]
     },
     "metadata": {},
     "output_type": "display_data"
    },
    {
     "name": "stdout",
     "output_type": "stream",
     "text": [
      "mu = 0.0040408163265306125\n"
     ]
    },
    {
     "data": {
      "image/png": "[encoded data removed]",
      "text/latex": [
       "$\\displaystyle \\left( 0.315522308308843, \\  0.0\\right)$"
      ],
      "text/plain": [
       "(0.315522308308843, 0.0)"
      ]
     },
     "metadata": {},
     "output_type": "display_data"
    },
    {
     "data": {
      "image/png": "[encoded data removed]",
      "text/latex": [
       "$\\displaystyle \\left( 0.119003265649062 - 4.0 \\cdot 10^{-25} i, \\  463.629808786961 - 3.0 \\cdot 10^{-21} i\\right)$"
      ],
      "text/plain": [
       "(0.119003265649062 - 0.e-25⋅ⅈ, 463.629808786961 - 0.e-21⋅ⅈ)"
      ]
     },
     "metadata": {},
     "output_type": "display_data"
    },
    {
     "data": {
      "image/png": "[encoded data removed]",
      "text/latex": [
       "$\\displaystyle \\left( 0.84749024297132 - 5.0 \\cdot 10^{-26} i, \\  240.987089556443 + 7.0 \\cdot 10^{-21} i\\right)$"
      ],
      "text/plain": [
       "(0.84749024297132 - 0.e-25⋅ⅈ, 240.987089556443 + 0.e-20⋅ⅈ)"
      ]
     },
     "metadata": {},
     "output_type": "display_data"
    },
    {
     "data": {
      "image/png": "[encoded data removed]",
      "text/latex": [
       "$\\displaystyle \\left( 1.61389691077356 + 8.0 \\cdot 10^{-22} i, \\  6.75522286871734 + 9.0 \\cdot 10^{-19} i\\right)$"
      ],
      "text/plain": [
       "(1.61389691077356 + 0.e-21⋅ⅈ, 6.75522286871734 + 0.e-18⋅ⅈ)"
      ]
     },
     "metadata": {},
     "output_type": "display_data"
    },
    {
     "data": {
      "text/plain": [
       "'********************'"
      ]
     },
     "metadata": {},
     "output_type": "display_data"
    },
    {
     "name": "stdout",
     "output_type": "stream",
     "text": [
      "mu = 0.004448979591836735\n"
     ]
    },
    {
     "data": {
      "image/png": "[encoded data removed]",
      "text/latex": [
       "$\\displaystyle \\left( 0.315522308308843, \\  0.0\\right)$"
      ],
      "text/plain": [
       "(0.315522308308843, 0.0)"
      ]
     },
     "metadata": {},
     "output_type": "display_data"
    },
    {
     "data": {
      "image/png": "[encoded data removed]",
      "text/latex": [
       "$\\displaystyle \\left( 0.0976019458372736 - 4.0 \\cdot 10^{-25} i, \\  470.170554450711 - 1.0 \\cdot 10^{-19} i\\right)$"
      ],
      "text/plain": [
       "(0.0976019458372736 - 0.e-25⋅ⅈ, 470.170554450711 - 0.e-19⋅ⅈ)"
      ]
     },
     "metadata": {},
     "output_type": "display_data"
    },
    {
     "data": {
      "image/png": "[encoded data removed]",
      "text/latex": [
       "$\\displaystyle \\left( 0.938684508537372 - 8.0 \\cdot 10^{-22} i, \\  213.115981498358 - 7.0 \\cdot 10^{-21} i\\right)$"
      ],
      "text/plain": [
       "(0.938684508537372 - 0.e-21⋅ⅈ, 213.115981498358 - 0.e-20⋅ⅈ)"
      ]
     },
     "metadata": {},
     "output_type": "display_data"
    },
    {
     "data": {
      "image/png": "[encoded data removed]",
      "text/latex": [
       "$\\displaystyle \\left( 1.61361508984554 + 8.0 \\cdot 10^{-22} i, \\  6.84135395918793 + 1.0 \\cdot 10^{-20} i\\right)$"
      ],
      "text/plain": [
       "(1.61361508984554 + 0.e-21⋅ⅈ, 6.84135395918793 + 0.e-20⋅ⅈ)"
      ]
     },
     "metadata": {},
     "output_type": "display_data"
    },
    {
     "data": {
      "text/plain": [
       "'********************'"
      ]
     },
     "metadata": {},
     "output_type": "display_data"
    },
    {
     "name": "stdout",
     "output_type": "stream",
     "text": [
      "mu = 0.004857142857142857\n"
     ]
    },
    {
     "data": {
      "image/png": "[encoded data removed]",
      "text/latex": [
       "$\\displaystyle \\left( 0.315522308308843, \\  0.0\\right)$"
      ],
      "text/plain": [
       "(0.315522308308843, 0.0)"
      ]
     },
     "metadata": {},
     "output_type": "display_data"
    },
    {
     "data": {
      "image/png": "[encoded data removed]",
      "text/latex": [
       "$\\displaystyle \\left( 0.0829859093220982 - 2.0 \\cdot 10^{-30} i, \\  474.637558275642 - 2.0 \\cdot 10^{-19} i\\right)$"
      ],
      "text/plain": [
       "(0.0829859093220982 - 0.e-30⋅ⅈ, 474.637558275642 - 0.e-19⋅ⅈ)"
      ]
     },
     "metadata": {},
     "output_type": "display_data"
    },
    {
     "data": {
      "image/png": "[encoded data removed]",
      "text/latex": [
       "$\\displaystyle \\left( 1.01142038901242 - 8.0 \\cdot 10^{-22} i, \\  190.886189177134 + 7.0 \\cdot 10^{-21} i\\right)$"
      ],
      "text/plain": [
       "(1.01142038901242 - 0.e-21⋅ⅈ, 190.886189177134 + 0.e-20⋅ⅈ)"
      ]
     },
     "metadata": {},
     "output_type": "display_data"
    },
    {
     "data": {
      "image/png": "[encoded data removed]",
      "text/latex": [
       "$\\displaystyle \\left( 1.61332382872431 + 8.0 \\cdot 10^{-22} i, \\  6.93037019428256 - 3.0 \\cdot 10^{-21} i\\right)$"
      ],
      "text/plain": [
       "(1.61332382872431 + 0.e-21⋅ⅈ, 6.93037019428256 - 0.e-21⋅ⅈ)"
      ]
     },
     "metadata": {},
     "output_type": "display_data"
    },
    {
     "data": {
      "text/plain": [
       "'********************'"
      ]
     },
     "metadata": {},
     "output_type": "display_data"
    }
   ],
   "source": [
    "sols_list = list(solutions_by_mu.items())\n",
    "display_sol_list(sols_list[:8])"
   ]
  },
  {
   "cell_type": "code",
   "execution_count": 80,
   "metadata": {
    "tags": []
   },
   "outputs": [
    {
     "data": {
      "application/vnd.plotly.v1+json": {
       "config": {
        "plotlyServerURL": "https://plot.ly"
       },
       "data": [
        {
         "mode": "markers",
         "name": "x_im_parts",
         "type": "scatter",
         "x": [
          0.002,
          0.002,
          0.002,
          0.002,
          0.0024081632653061226,
          0.0024081632653061226,
          0.0024081632653061226,
          0.0024081632653061226,
          0.0028163265306122448,
          0.0028163265306122448,
          0.0028163265306122448,
          0.0028163265306122448,
          0.0032244897959183673,
          0.0032244897959183673,
          0.0032244897959183673,
          0.0032244897959183673,
          0.0036326530612244895,
          0.0036326530612244895,
          0.0036326530612244895,
          0.0036326530612244895,
          0.0040408163265306125,
          0.0040408163265306125,
          0.0040408163265306125,
          0.0040408163265306125,
          0.004448979591836735,
          0.004448979591836735,
          0.004448979591836735,
          0.004448979591836735,
          0.004857142857142857,
          0.004857142857142857,
          0.004857142857142857,
          0.004857142857142857,
          0.005265306122448979,
          0.005265306122448979,
          0.005265306122448979,
          0.005265306122448979,
          0.005673469387755102,
          0.005673469387755102,
          0.005673469387755102,
          0.005673469387755102,
          0.006081632653061224,
          0.006081632653061224,
          0.006081632653061224,
          0.006081632653061224,
          0.006489795918367346,
          0.006489795918367346,
          0.006489795918367346,
          0.006489795918367346,
          0.006897959183673469,
          0.006897959183673469,
          0.006897959183673469,
          0.006897959183673469,
          0.007306122448979591,
          0.007306122448979591,
          0.007306122448979591,
          0.007306122448979591,
          0.0077142857142857135,
          0.0077142857142857135,
          0.0077142857142857135,
          0.0077142857142857135,
          0.008122448979591836,
          0.008122448979591836,
          0.008122448979591836,
          0.008122448979591836,
          0.00853061224489796,
          0.00853061224489796,
          0.00853061224489796,
          0.00853061224489796,
          0.00893877551020408,
          0.00893877551020408,
          0.00893877551020408,
          0.00893877551020408,
          0.009346938775510204,
          0.009346938775510204,
          0.009346938775510204,
          0.009346938775510204,
          0.009755102040816326,
          0.009755102040816326,
          0.009755102040816326,
          0.009755102040816326,
          0.010163265306122448,
          0.010163265306122448,
          0.010163265306122448,
          0.010163265306122448,
          0.01057142857142857,
          0.01057142857142857,
          0.01057142857142857,
          0.01057142857142857,
          0.010979591836734692,
          0.010979591836734692,
          0.010979591836734692,
          0.010979591836734692,
          0.011387755102040816,
          0.011387755102040816,
          0.011387755102040816,
          0.011387755102040816,
          0.011795918367346938,
          0.011795918367346938,
          0.011795918367346938,
          0.011795918367346938,
          0.01220408163265306,
          0.01220408163265306,
          0.01220408163265306,
          0.01220408163265306,
          0.012612244897959183,
          0.012612244897959183,
          0.012612244897959183,
          0.012612244897959183,
          0.013020408163265305,
          0.013020408163265305,
          0.013020408163265305,
          0.013020408163265305,
          0.013428571428571427,
          0.013428571428571427,
          0.013428571428571427,
          0.013428571428571427,
          0.01383673469387755,
          0.01383673469387755,
          0.01383673469387755,
          0.01383673469387755,
          0.014244897959183673,
          0.014244897959183673,
          0.014244897959183673,
          0.014244897959183673,
          0.014653061224489795,
          0.014653061224489795,
          0.014653061224489795,
          0.014653061224489795,
          0.015061224489795917,
          0.015061224489795917,
          0.015061224489795917,
          0.015061224489795917,
          0.01546938775510204,
          0.01546938775510204,
          0.01546938775510204,
          0.01546938775510204,
          0.01587755102040816,
          0.01587755102040816,
          0.01587755102040816,
          0.01587755102040816,
          0.016285714285714285,
          0.016285714285714285,
          0.016285714285714285,
          0.016285714285714285,
          0.016693877551020406,
          0.016693877551020406,
          0.016693877551020406,
          0.016693877551020406,
          0.01710204081632653,
          0.01710204081632653,
          0.01710204081632653,
          0.01710204081632653,
          0.017510204081632653,
          0.017510204081632653,
          0.017510204081632653,
          0.017510204081632653,
          0.017918367346938774,
          0.017918367346938774,
          0.017918367346938774,
          0.017918367346938774,
          0.018326530612244894,
          0.018326530612244894,
          0.018326530612244894,
          0.018326530612244894,
          0.01873469387755102,
          0.01873469387755102,
          0.01873469387755102,
          0.01873469387755102,
          0.019142857142857142,
          0.019142857142857142,
          0.019142857142857142,
          0.019142857142857142,
          0.019551020408163262,
          0.019551020408163262,
          0.019551020408163262,
          0.019551020408163262,
          0.019959183673469383,
          0.019959183673469383,
          0.019959183673469383,
          0.019959183673469383,
          0.02036734693877551,
          0.02036734693877551,
          0.02036734693877551,
          0.02036734693877551,
          0.02077551020408163,
          0.02077551020408163,
          0.02077551020408163,
          0.02077551020408163,
          0.02118367346938775,
          0.02118367346938775,
          0.02118367346938775,
          0.02118367346938775,
          0.02159183673469388,
          0.02159183673469388,
          0.02159183673469388,
          0.02159183673469388,
          0.022,
          0.022,
          0.022,
          0.022
         ],
         "y": [
          0,
          0,
          -0.4408868350808178,
          0.4408868350808178,
          0,
          0,
          -0.34364992930889804,
          0.34364992930889804,
          0,
          0,
          -0.20837552896332484,
          0.20837552896332484,
          0,
          -1.6940658945086007e-21,
          1.6940658945086007e-21,
          3.1554436208840472e-30,
          0,
          -4.235164736271502e-22,
          -2.0194839173657902e-28,
          6.310887241768095e-30,
          0,
          -4.1359030627651384e-25,
          -5.169878828456423e-26,
          8.470329472543003e-22,
          0,
          -4.1359030627651384e-25,
          -8.470329472543003e-22,
          8.470329472543003e-22,
          0,
          -1.5777218104420236e-30,
          -8.470329472543003e-22,
          8.470329472543003e-22,
          0,
          -1.5777218104420236e-30,
          8.470329472543003e-22,
          -8.470329472543003e-22,
          0,
          -3.1554436208840472e-30,
          -3.3881317890172014e-21,
          3.3881317890172014e-21,
          0,
          -2.0679515313825692e-25,
          -8.470329472543003e-22,
          8.470329472543003e-22,
          0,
          4.1359030627651384e-25,
          -2.0194839173657902e-28,
          1.262177448353619e-29,
          0,
          -3.1554436208840472e-30,
          8.470329472543003e-22,
          -1.262177448353619e-29,
          0,
          -2.0679515313825692e-25,
          -5.169878828456423e-26,
          -3.2311742677852644e-27,
          0,
          -2.0679515313825692e-25,
          -5.169878828456423e-26,
          1.262177448353619e-29,
          0,
          -6.310887241768095e-30,
          8.470329472543003e-22,
          -8.470329472543003e-22,
          0,
          -2.0679515313825692e-25,
          -8.470329472543003e-22,
          8.470329472543003e-22,
          0,
          2.0679515313825692e-25,
          -5.169878828456423e-26,
          -3.2311742677852644e-27,
          0,
          -1.0339757656912846e-25,
          1.6940658945086007e-21,
          -8.470329472543003e-22,
          0,
          -1.0339757656912846e-25,
          -8.470329472543003e-22,
          1.6940658945086007e-21,
          0,
          -6.310887241768095e-30,
          -8.470329472543003e-22,
          5.048709793414476e-29,
          0,
          -1.0339757656912846e-25,
          -8.470329472543003e-22,
          8.470329472543003e-22,
          0,
          -1.5777218104420236e-30,
          8.470329472543003e-22,
          -8.470329472543003e-22,
          0,
          1.0339757656912846e-25,
          -8.470329472543003e-22,
          8.470329472543003e-22,
          0,
          1.0339757656912846e-25,
          -8.470329472543003e-22,
          -6.462348535570529e-27,
          0,
          -3.1554436208840472e-30,
          -8.470329472543003e-22,
          8.470329472543003e-22,
          0,
          5.169878828456423e-26,
          -2.0194839173657902e-28,
          2.524354896707238e-29,
          0,
          -3.1554436208840472e-30,
          -8.470329472543003e-22,
          8.470329472543003e-22,
          0,
          -5.169878828456423e-26,
          2.0194839173657902e-28,
          -1.2924697071141057e-26,
          0,
          -6.310887241768095e-30,
          -8.470329472543003e-22,
          8.470329472543003e-22,
          0,
          -5.169878828456423e-26,
          -5.169878828456423e-26,
          -1.2924697071141057e-26,
          0,
          5.169878828456423e-26,
          -2.0194839173657902e-28,
          -1.2924697071141057e-26,
          0,
          5.169878828456423e-26,
          -2.0194839173657902e-28,
          -1.2924697071141057e-26,
          0,
          -5.169878828456423e-26,
          4.0389678347315804e-28,
          -5.048709793414476e-29,
          0,
          -5.169878828456423e-26,
          -2.0194839173657902e-28,
          1.0097419586828951e-28,
          0,
          -3.1554436208840472e-30,
          -8.470329472543003e-22,
          8.470329472543003e-22,
          0,
          -1.5777218104420236e-30,
          2.0194839173657902e-28,
          -2.5849394142282115e-26,
          0,
          -1.5777218104420236e-30,
          -4.0389678347315804e-28,
          2.0194839173657902e-28,
          0,
          6.462348535570529e-27,
          8.470329472543003e-22,
          -8.470329472543003e-22,
          0,
          0,
          -0.010150191497051354,
          0.010150191497051354,
          0,
          0,
          -0.01629353223548025,
          0.01629353223548025,
          0,
          0,
          -0.020313532757426485,
          0.020313532757426485,
          0,
          0,
          -0.023366874502415026,
          0.023366874502415026,
          0,
          0,
          -0.025824921641870887,
          0.025824921641870887,
          0,
          0,
          -0.02786705996332453,
          0.02786705996332453,
          0,
          0,
          -0.029597422227222295,
          0.029597422227222295,
          0,
          0,
          -0.03108333917057419,
          0.03108333917057419,
          0,
          0,
          -0.03237155932745831,
          0.03237155932745831,
          0,
          0,
          -0.0334962214015315,
          0.0334962214015315,
          0,
          0,
          -0.034483209525216996,
          0.034483209525216996
         ]
        },
        {
         "mode": "markers",
         "name": "y_im_parts",
         "type": "scatter",
         "x": [
          0.002,
          0.002,
          0.002,
          0.002,
          0.0024081632653061226,
          0.0024081632653061226,
          0.0024081632653061226,
          0.0024081632653061226,
          0.0028163265306122448,
          0.0028163265306122448,
          0.0028163265306122448,
          0.0028163265306122448,
          0.0032244897959183673,
          0.0032244897959183673,
          0.0032244897959183673,
          0.0032244897959183673,
          0.0036326530612244895,
          0.0036326530612244895,
          0.0036326530612244895,
          0.0036326530612244895,
          0.0040408163265306125,
          0.0040408163265306125,
          0.0040408163265306125,
          0.0040408163265306125,
          0.004448979591836735,
          0.004448979591836735,
          0.004448979591836735,
          0.004448979591836735,
          0.004857142857142857,
          0.004857142857142857,
          0.004857142857142857,
          0.004857142857142857,
          0.005265306122448979,
          0.005265306122448979,
          0.005265306122448979,
          0.005265306122448979,
          0.005673469387755102,
          0.005673469387755102,
          0.005673469387755102,
          0.005673469387755102,
          0.006081632653061224,
          0.006081632653061224,
          0.006081632653061224,
          0.006081632653061224,
          0.006489795918367346,
          0.006489795918367346,
          0.006489795918367346,
          0.006489795918367346,
          0.006897959183673469,
          0.006897959183673469,
          0.006897959183673469,
          0.006897959183673469,
          0.007306122448979591,
          0.007306122448979591,
          0.007306122448979591,
          0.007306122448979591,
          0.0077142857142857135,
          0.0077142857142857135,
          0.0077142857142857135,
          0.0077142857142857135,
          0.008122448979591836,
          0.008122448979591836,
          0.008122448979591836,
          0.008122448979591836,
          0.00853061224489796,
          0.00853061224489796,
          0.00853061224489796,
          0.00853061224489796,
          0.00893877551020408,
          0.00893877551020408,
          0.00893877551020408,
          0.00893877551020408,
          0.009346938775510204,
          0.009346938775510204,
          0.009346938775510204,
          0.009346938775510204,
          0.009755102040816326,
          0.009755102040816326,
          0.009755102040816326,
          0.009755102040816326,
          0.010163265306122448,
          0.010163265306122448,
          0.010163265306122448,
          0.010163265306122448,
          0.01057142857142857,
          0.01057142857142857,
          0.01057142857142857,
          0.01057142857142857,
          0.010979591836734692,
          0.010979591836734692,
          0.010979591836734692,
          0.010979591836734692,
          0.011387755102040816,
          0.011387755102040816,
          0.011387755102040816,
          0.011387755102040816,
          0.011795918367346938,
          0.011795918367346938,
          0.011795918367346938,
          0.011795918367346938,
          0.01220408163265306,
          0.01220408163265306,
          0.01220408163265306,
          0.01220408163265306,
          0.012612244897959183,
          0.012612244897959183,
          0.012612244897959183,
          0.012612244897959183,
          0.013020408163265305,
          0.013020408163265305,
          0.013020408163265305,
          0.013020408163265305,
          0.013428571428571427,
          0.013428571428571427,
          0.013428571428571427,
          0.013428571428571427,
          0.01383673469387755,
          0.01383673469387755,
          0.01383673469387755,
          0.01383673469387755,
          0.014244897959183673,
          0.014244897959183673,
          0.014244897959183673,
          0.014244897959183673,
          0.014653061224489795,
          0.014653061224489795,
          0.014653061224489795,
          0.014653061224489795,
          0.015061224489795917,
          0.015061224489795917,
          0.015061224489795917,
          0.015061224489795917,
          0.01546938775510204,
          0.01546938775510204,
          0.01546938775510204,
          0.01546938775510204,
          0.01587755102040816,
          0.01587755102040816,
          0.01587755102040816,
          0.01587755102040816,
          0.016285714285714285,
          0.016285714285714285,
          0.016285714285714285,
          0.016285714285714285,
          0.016693877551020406,
          0.016693877551020406,
          0.016693877551020406,
          0.016693877551020406,
          0.01710204081632653,
          0.01710204081632653,
          0.01710204081632653,
          0.01710204081632653,
          0.017510204081632653,
          0.017510204081632653,
          0.017510204081632653,
          0.017510204081632653,
          0.017918367346938774,
          0.017918367346938774,
          0.017918367346938774,
          0.017918367346938774,
          0.018326530612244894,
          0.018326530612244894,
          0.018326530612244894,
          0.018326530612244894,
          0.01873469387755102,
          0.01873469387755102,
          0.01873469387755102,
          0.01873469387755102,
          0.019142857142857142,
          0.019142857142857142,
          0.019142857142857142,
          0.019142857142857142,
          0.019551020408163262,
          0.019551020408163262,
          0.019551020408163262,
          0.019551020408163262,
          0.019959183673469383,
          0.019959183673469383,
          0.019959183673469383,
          0.019959183673469383,
          0.02036734693877551,
          0.02036734693877551,
          0.02036734693877551,
          0.02036734693877551,
          0.02077551020408163,
          0.02077551020408163,
          0.02077551020408163,
          0.02077551020408163,
          0.02118367346938775,
          0.02118367346938775,
          0.02118367346938775,
          0.02118367346938775,
          0.02159183673469388,
          0.02159183673469388,
          0.02159183673469388,
          0.02159183673469388,
          0.022,
          0.022,
          0.022,
          0.022
         ],
         "y": [
          0,
          0,
          134.7453652447487,
          -134.7453652447487,
          0,
          0,
          105.02748450760942,
          -105.02748450760942,
          0,
          0,
          63.68445261715306,
          -63.68445261715306,
          0,
          -1.3552527156068805e-20,
          1.3552527156068805e-20,
          2.168404344971009e-19,
          0,
          -6.776263578034403e-21,
          1.734723475976807e-18,
          4.336808689942018e-19,
          0,
          -3.3881317890172014e-21,
          6.776263578034403e-21,
          8.673617379884035e-19,
          0,
          -1.0842021724855044e-19,
          -6.776263578034403e-21,
          1.3552527156068805e-20,
          0,
          -2.168404344971009e-19,
          6.776263578034403e-21,
          -3.3881317890172014e-21,
          0,
          -2.168404344971009e-19,
          -6.776263578034403e-21,
          8.673617379884035e-19,
          0,
          -1.0842021724855044e-19,
          1.734723475976807e-18,
          6.776263578034403e-21,
          0,
          -5.421010862427522e-20,
          -6.776263578034403e-21,
          6.776263578034403e-21,
          0,
          -4.336808689942018e-19,
          6.776263578034403e-21,
          8.673617379884035e-19,
          0,
          -2.168404344971009e-19,
          1.734723475976807e-18,
          6.776263578034403e-21,
          0,
          -2.168404344971009e-19,
          -6.776263578034403e-21,
          6.776263578034403e-21,
          0,
          -2.168404344971009e-19,
          1.734723475976807e-18,
          8.673617379884035e-19,
          0,
          -2.168404344971009e-19,
          1.734723475976807e-18,
          -6.776263578034403e-21,
          0,
          -1.0842021724855044e-19,
          -6.776263578034403e-21,
          -3.3881317890172014e-21,
          0,
          -5.421010862427522e-20,
          1.734723475976807e-18,
          3.3881317890172014e-21,
          0,
          -2.168404344971009e-19,
          6.776263578034403e-21,
          -3.3881317890172014e-21,
          0,
          -1.0842021724855044e-19,
          6.776263578034403e-21,
          -3.3881317890172014e-21,
          0,
          -2.168404344971009e-19,
          1.734723475976807e-18,
          -3.3881317890172014e-21,
          0,
          -2.168404344971009e-19,
          1.734723475976807e-18,
          3.3881317890172014e-21,
          0,
          -1.0842021724855044e-19,
          6.776263578034403e-21,
          -1.3552527156068805e-20,
          0,
          -5.421010862427522e-20,
          1.734723475976807e-18,
          -3.3881317890172014e-21,
          0,
          -1.0842021724855044e-19,
          -6.776263578034403e-21,
          3.3881317890172014e-21,
          0,
          -2.710505431213761e-20,
          6.776263578034403e-21,
          -6.776263578034403e-21,
          0,
          -1.0842021724855044e-19,
          6.776263578034403e-21,
          8.673617379884035e-19,
          0,
          -1.0842021724855044e-19,
          -1.3552527156068805e-20,
          6.776263578034403e-21,
          0,
          -5.421010862427522e-20,
          1.734723475976807e-18,
          6.776263578034403e-21,
          0,
          -5.421010862427522e-20,
          1.3552527156068805e-20,
          -6.776263578034403e-21,
          0,
          -5.421010862427522e-20,
          6.776263578034403e-21,
          1.734723475976807e-18,
          0,
          -2.710505431213761e-20,
          1.734723475976807e-18,
          6.776263578034403e-21,
          0,
          -6.776263578034403e-21,
          6.776263578034403e-21,
          -1.3552527156068805e-20,
          0,
          -5.421010862427522e-20,
          6.776263578034403e-21,
          1.734723475976807e-18,
          0,
          -1.3552527156068805e-20,
          1.734723475976807e-18,
          6.776263578034403e-21,
          0,
          -6.776263578034403e-21,
          6.776263578034403e-21,
          -1.3552527156068805e-20,
          0,
          -2.710505431213761e-20,
          1.734723475976807e-18,
          6.776263578034403e-21,
          0,
          -2.710505431213761e-20,
          -6.776263578034403e-21,
          1.734723475976807e-18,
          0,
          -1.6940658945086007e-21,
          1.3552527156068805e-20,
          -6.776263578034403e-21,
          0,
          0,
          3.102136765602492,
          -3.102136765602492,
          0,
          0,
          4.979685891039196,
          -4.979685891039196,
          0,
          0,
          6.208292407526432,
          -6.208292407526432,
          0,
          0,
          7.14146531247403,
          -7.14146531247403,
          0,
          0,
          7.892702213285724,
          -7.892702213285724,
          0,
          0,
          8.516827617152973,
          -8.516827617152973,
          0,
          0,
          9.045666939860116,
          -9.045666939860116,
          0,
          0,
          9.499798035016562,
          -9.499798035016562,
          0,
          0,
          9.893508351912688,
          -9.893508351912688,
          0,
          0,
          10.237231479685667,
          -10.237231479685667,
          0,
          0,
          10.53887821675336,
          -10.53887821675336
         ]
        }
       ],
       "layout": {
        "autosize": true,
        "template": {
         "data": {
          "bar": [
           {
            "error_x": {
             "color": "#2a3f5f"
            },
            "error_y": {
             "color": "#2a3f5f"
            },
            "marker": {
             "line": {
              "color": "#E5ECF6",
              "width": 0.5
             },
             "pattern": {
              "fillmode": "overlay",
              "size": 10,
              "solidity": 0.2
             }
            },
            "type": "bar"
           }
          ],
          "barpolar": [
           {
            "marker": {
             "line": {
              "color": "#E5ECF6",
              "width": 0.5
             },
             "pattern": {
              "fillmode": "overlay",
              "size": 10,
              "solidity": 0.2
             }
            },
            "type": "barpolar"
           }
          ],
          "carpet": [
           {
            "aaxis": {
             "endlinecolor": "#2a3f5f",
             "gridcolor": "white",
             "linecolor": "white",
             "minorgridcolor": "white",
             "startlinecolor": "#2a3f5f"
            },
            "baxis": {
             "endlinecolor": "#2a3f5f",
             "gridcolor": "white",
             "linecolor": "white",
             "minorgridcolor": "white",
             "startlinecolor": "#2a3f5f"
            },
            "type": "carpet"
           }
          ],
          "choropleth": [
           {
            "colorbar": {
             "outlinewidth": 0,
             "ticks": ""
            },
            "type": "choropleth"
           }
          ],
          "contour": [
           {
            "colorbar": {
             "outlinewidth": 0,
             "ticks": ""
            },
            "colorscale": [
             [
              0,
              "#0d0887"
             ],
             [
              0.1111111111111111,
              "#46039f"
             ],
             [
              0.2222222222222222,
              "#7201a8"
             ],
             [
              0.3333333333333333,
              "#9c179e"
             ],
             [
              0.4444444444444444,
              "#bd3786"
             ],
             [
              0.5555555555555556,
              "#d8576b"
             ],
             [
              0.6666666666666666,
              "#ed7953"
             ],
             [
              0.7777777777777778,
              "#fb9f3a"
             ],
             [
              0.8888888888888888,
              "#fdca26"
             ],
             [
              1,
              "#f0f921"
             ]
            ],
            "type": "contour"
           }
          ],
          "contourcarpet": [
           {
            "colorbar": {
             "outlinewidth": 0,
             "ticks": ""
            },
            "type": "contourcarpet"
           }
          ],
          "heatmap": [
           {
            "colorbar": {
             "outlinewidth": 0,
             "ticks": ""
            },
            "colorscale": [
             [
              0,
              "#0d0887"
             ],
             [
              0.1111111111111111,
              "#46039f"
             ],
             [
              0.2222222222222222,
              "#7201a8"
             ],
             [
              0.3333333333333333,
              "#9c179e"
             ],
             [
              0.4444444444444444,
              "#bd3786"
             ],
             [
              0.5555555555555556,
              "#d8576b"
             ],
             [
              0.6666666666666666,
              "#ed7953"
             ],
             [
              0.7777777777777778,
              "#fb9f3a"
             ],
             [
              0.8888888888888888,
              "#fdca26"
             ],
             [
              1,
              "#f0f921"
             ]
            ],
            "type": "heatmap"
           }
          ],
          "heatmapgl": [
           {
            "colorbar": {
             "outlinewidth": 0,
             "ticks": ""
            },
            "colorscale": [
             [
              0,
              "#0d0887"
             ],
             [
              0.1111111111111111,
              "#46039f"
             ],
             [
              0.2222222222222222,
              "#7201a8"
             ],
             [
              0.3333333333333333,
              "#9c179e"
             ],
             [
              0.4444444444444444,
              "#bd3786"
             ],
             [
              0.5555555555555556,
              "#d8576b"
             ],
             [
              0.6666666666666666,
              "#ed7953"
             ],
             [
              0.7777777777777778,
              "#fb9f3a"
             ],
             [
              0.8888888888888888,
              "#fdca26"
             ],
             [
              1,
              "#f0f921"
             ]
            ],
            "type": "heatmapgl"
           }
          ],
          "histogram": [
           {
            "marker": {
             "pattern": {
              "fillmode": "overlay",
              "size": 10,
              "solidity": 0.2
             }
            },
            "type": "histogram"
           }
          ],
          "histogram2d": [
           {
            "colorbar": {
             "outlinewidth": 0,
             "ticks": ""
            },
            "colorscale": [
             [
              0,
              "#0d0887"
             ],
             [
              0.1111111111111111,
              "#46039f"
             ],
             [
              0.2222222222222222,
              "#7201a8"
             ],
             [
              0.3333333333333333,
              "#9c179e"
             ],
             [
              0.4444444444444444,
              "#bd3786"
             ],
             [
              0.5555555555555556,
              "#d8576b"
             ],
             [
              0.6666666666666666,
              "#ed7953"
             ],
             [
              0.7777777777777778,
              "#fb9f3a"
             ],
             [
              0.8888888888888888,
              "#fdca26"
             ],
             [
              1,
              "#f0f921"
             ]
            ],
            "type": "histogram2d"
           }
          ],
          "histogram2dcontour": [
           {
            "colorbar": {
             "outlinewidth": 0,
             "ticks": ""
            },
            "colorscale": [
             [
              0,
              "#0d0887"
             ],
             [
              0.1111111111111111,
              "#46039f"
             ],
             [
              0.2222222222222222,
              "#7201a8"
             ],
             [
              0.3333333333333333,
              "#9c179e"
             ],
             [
              0.4444444444444444,
              "#bd3786"
             ],
             [
              0.5555555555555556,
              "#d8576b"
             ],
             [
              0.6666666666666666,
              "#ed7953"
             ],
             [
              0.7777777777777778,
              "#fb9f3a"
             ],
             [
              0.8888888888888888,
              "#fdca26"
             ],
             [
              1,
              "#f0f921"
             ]
            ],
            "type": "histogram2dcontour"
           }
          ],
          "mesh3d": [
           {
            "colorbar": {
             "outlinewidth": 0,
             "ticks": ""
            },
            "type": "mesh3d"
           }
          ],
          "parcoords": [
           {
            "line": {
             "colorbar": {
              "outlinewidth": 0,
              "ticks": ""
             }
            },
            "type": "parcoords"
           }
          ],
          "pie": [
           {
            "automargin": true,
            "type": "pie"
           }
          ],
          "scatter": [
           {
            "fillpattern": {
             "fillmode": "overlay",
             "size": 10,
             "solidity": 0.2
            },
            "type": "scatter"
           }
          ],
          "scatter3d": [
           {
            "line": {
             "colorbar": {
              "outlinewidth": 0,
              "ticks": ""
             }
            },
            "marker": {
             "colorbar": {
              "outlinewidth": 0,
              "ticks": ""
             }
            },
            "type": "scatter3d"
           }
          ],
          "scattercarpet": [
           {
            "marker": {
             "colorbar": {
              "outlinewidth": 0,
              "ticks": ""
             }
            },
            "type": "scattercarpet"
           }
          ],
          "scattergeo": [
           {
            "marker": {
             "colorbar": {
              "outlinewidth": 0,
              "ticks": ""
             }
            },
            "type": "scattergeo"
           }
          ],
          "scattergl": [
           {
            "marker": {
             "colorbar": {
              "outlinewidth": 0,
              "ticks": ""
             }
            },
            "type": "scattergl"
           }
          ],
          "scattermapbox": [
           {
            "marker": {
             "colorbar": {
              "outlinewidth": 0,
              "ticks": ""
             }
            },
            "type": "scattermapbox"
           }
          ],
          "scatterpolar": [
           {
            "marker": {
             "colorbar": {
              "outlinewidth": 0,
              "ticks": ""
             }
            },
            "type": "scatterpolar"
           }
          ],
          "scatterpolargl": [
           {
            "marker": {
             "colorbar": {
              "outlinewidth": 0,
              "ticks": ""
             }
            },
            "type": "scatterpolargl"
           }
          ],
          "scatterternary": [
           {
            "marker": {
             "colorbar": {
              "outlinewidth": 0,
              "ticks": ""
             }
            },
            "type": "scatterternary"
           }
          ],
          "surface": [
           {
            "colorbar": {
             "outlinewidth": 0,
             "ticks": ""
            },
            "colorscale": [
             [
              0,
              "#0d0887"
             ],
             [
              0.1111111111111111,
              "#46039f"
             ],
             [
              0.2222222222222222,
              "#7201a8"
             ],
             [
              0.3333333333333333,
              "#9c179e"
             ],
             [
              0.4444444444444444,
              "#bd3786"
             ],
             [
              0.5555555555555556,
              "#d8576b"
             ],
             [
              0.6666666666666666,
              "#ed7953"
             ],
             [
              0.7777777777777778,
              "#fb9f3a"
             ],
             [
              0.8888888888888888,
              "#fdca26"
             ],
             [
              1,
              "#f0f921"
             ]
            ],
            "type": "surface"
           }
          ],
          "table": [
           {
            "cells": {
             "fill": {
              "color": "#EBF0F8"
             },
             "line": {
              "color": "white"
             }
            },
            "header": {
             "fill": {
              "color": "#C8D4E3"
             },
             "line": {
              "color": "white"
             }
            },
            "type": "table"
           }
          ]
         },
         "layout": {
          "annotationdefaults": {
           "arrowcolor": "#2a3f5f",
           "arrowhead": 0,
           "arrowwidth": 1
          },
          "autotypenumbers": "strict",
          "coloraxis": {
           "colorbar": {
            "outlinewidth": 0,
            "ticks": ""
           }
          },
          "colorscale": {
           "diverging": [
            [
             0,
             "#8e0152"
            ],
            [
             0.1,
             "#c51b7d"
            ],
            [
             0.2,
             "#de77ae"
            ],
            [
             0.3,
             "#f1b6da"
            ],
            [
             0.4,
             "#fde0ef"
            ],
            [
             0.5,
             "#f7f7f7"
            ],
            [
             0.6,
             "#e6f5d0"
            ],
            [
             0.7,
             "#b8e186"
            ],
            [
             0.8,
             "#7fbc41"
            ],
            [
             0.9,
             "#4d9221"
            ],
            [
             1,
             "#276419"
            ]
           ],
           "sequential": [
            [
             0,
             "#0d0887"
            ],
            [
             0.1111111111111111,
             "#46039f"
            ],
            [
             0.2222222222222222,
             "#7201a8"
            ],
            [
             0.3333333333333333,
             "#9c179e"
            ],
            [
             0.4444444444444444,
             "#bd3786"
            ],
            [
             0.5555555555555556,
             "#d8576b"
            ],
            [
             0.6666666666666666,
             "#ed7953"
            ],
            [
             0.7777777777777778,
             "#fb9f3a"
            ],
            [
             0.8888888888888888,
             "#fdca26"
            ],
            [
             1,
             "#f0f921"
            ]
           ],
           "sequentialminus": [
            [
             0,
             "#0d0887"
            ],
            [
             0.1111111111111111,
             "#46039f"
            ],
            [
             0.2222222222222222,
             "#7201a8"
            ],
            [
             0.3333333333333333,
             "#9c179e"
            ],
            [
             0.4444444444444444,
             "#bd3786"
            ],
            [
             0.5555555555555556,
             "#d8576b"
            ],
            [
             0.6666666666666666,
             "#ed7953"
            ],
            [
             0.7777777777777778,
             "#fb9f3a"
            ],
            [
             0.8888888888888888,
             "#fdca26"
            ],
            [
             1,
             "#f0f921"
            ]
           ]
          },
          "colorway": [
           "#636efa",
           "#EF553B",
           "#00cc96",
           "#ab63fa",
           "#FFA15A",
           "#19d3f3",
           "#FF6692",
           "#B6E880",
           "#FF97FF",
           "#FECB52"
          ],
          "font": {
           "color": "#2a3f5f"
          },
          "geo": {
           "bgcolor": "white",
           "lakecolor": "white",
           "landcolor": "#E5ECF6",
           "showlakes": true,
           "showland": true,
           "subunitcolor": "white"
          },
          "hoverlabel": {
           "align": "left"
          },
          "hovermode": "closest",
          "mapbox": {
           "style": "light"
          },
          "paper_bgcolor": "white",
          "plot_bgcolor": "#E5ECF6",
          "polar": {
           "angularaxis": {
            "gridcolor": "white",
            "linecolor": "white",
            "ticks": ""
           },
           "bgcolor": "#E5ECF6",
           "radialaxis": {
            "gridcolor": "white",
            "linecolor": "white",
            "ticks": ""
           }
          },
          "scene": {
           "xaxis": {
            "backgroundcolor": "#E5ECF6",
            "gridcolor": "white",
            "gridwidth": 2,
            "linecolor": "white",
            "showbackground": true,
            "ticks": "",
            "zerolinecolor": "white"
           },
           "yaxis": {
            "backgroundcolor": "#E5ECF6",
            "gridcolor": "white",
            "gridwidth": 2,
            "linecolor": "white",
            "showbackground": true,
            "ticks": "",
            "zerolinecolor": "white"
           },
           "zaxis": {
            "backgroundcolor": "#E5ECF6",
            "gridcolor": "white",
            "gridwidth": 2,
            "linecolor": "white",
            "showbackground": true,
            "ticks": "",
            "zerolinecolor": "white"
           }
          },
          "shapedefaults": {
           "line": {
            "color": "#2a3f5f"
           }
          },
          "ternary": {
           "aaxis": {
            "gridcolor": "white",
            "linecolor": "white",
            "ticks": ""
           },
           "baxis": {
            "gridcolor": "white",
            "linecolor": "white",
            "ticks": ""
           },
           "bgcolor": "#E5ECF6",
           "caxis": {
            "gridcolor": "white",
            "linecolor": "white",
            "ticks": ""
           }
          },
          "title": {
           "x": 0.05
          },
          "xaxis": {
           "automargin": true,
           "gridcolor": "white",
           "linecolor": "white",
           "ticks": "",
           "title": {
            "standoff": 15
           },
           "zerolinecolor": "white",
           "zerolinewidth": 2
          },
          "yaxis": {
           "automargin": true,
           "gridcolor": "white",
           "linecolor": "white",
           "ticks": "",
           "title": {
            "standoff": 15
           },
           "zerolinecolor": "white",
           "zerolinewidth": 2
          }
         }
        },
        "title": {
         "text": "Imagimary parts of X and Y"
        },
        "xaxis": {
         "autorange": true,
         "range": [
          0.0007578616352201259,
          0.023242138364779872
         ],
         "showspikes": false,
         "title": {
          "text": "mu"
         },
         "type": "linear"
        },
        "yaxis": {
         "autorange": true,
         "range": [
          -156.98489154728006,
          156.98489154728006
         ],
         "showspikes": false,
         "type": "linear"
        }
       }
      },
      "image/png": "[encoded data removed]",
      "text/html": [
       "<div>                            <div id=\"0108a084-8202-469b-a332-e78d50e92c3e\" class=\"plotly-graph-div\" style=\"height:525px; width:100%;\"></div>            <script type=\"text/javascript\">                require([\"plotly\"], function(Plotly) {                    window.PLOTLYENV=window.PLOTLYENV || {};                                    if (document.getElementById(\"0108a084-8202-469b-a332-e78d50e92c3e\")) {                    Plotly.newPlot(                        \"0108a084-8202-469b-a332-e78d50e92c3e\",                        [{\"mode\":\"markers\",\"name\":\"x_im_parts\",\"x\":[0.002,0.002,0.002,0.002,0.0024081632653061226,0.0024081632653061226,0.0024081632653061226,0.0024081632653061226,0.0028163265306122448,0.0028163265306122448,0.0028163265306122448,0.0028163265306122448,0.0032244897959183673,0.0032244897959183673,0.0032244897959183673,0.0032244897959183673,0.0036326530612244895,0.0036326530612244895,0.0036326530612244895,0.0036326530612244895,0.0040408163265306125,0.0040408163265306125,0.0040408163265306125,0.0040408163265306125,0.004448979591836735,0.004448979591836735,0.004448979591836735,0.004448979591836735,0.004857142857142857,0.004857142857142857,0.004857142857142857,0.004857142857142857,0.005265306122448979,0.005265306122448979,0.005265306122448979,0.005265306122448979,0.005673469387755102,0.005673469387755102,0.005673469387755102,0.005673469387755102,0.006081632653061224,0.006081632653061224,0.006081632653061224,0.006081632653061224,0.006489795918367346,0.006489795918367346,0.006489795918367346,0.006489795918367346,0.006897959183673469,0.006897959183673469,0.006897959183673469,0.006897959183673469,0.007306122448979591,0.007306122448979591,0.007306122448979591,0.007306122448979591,0.0077142857142857135,0.0077142857142857135,0.0077142857142857135,0.0077142857142857135,0.008122448979591836,0.008122448979591836,0.008122448979591836,0.008122448979591836,0.00853061224489796,0.00853061224489796,0.00853061224489796,0.00853061224489796,0.00893877551020408,0.00893877551020408,0.00893877551020408,0.00893877551020408,0.009346938775510204,0.009346938775510204,0.009346938775510204,0.009346938775510204,0.009755102040816326,0.009755102040816326,0.009755102040816326,0.009755102040816326,0.010163265306122448,0.010163265306122448,0.010163265306122448,0.010163265306122448,0.01057142857142857,0.01057142857142857,0.01057142857142857,0.01057142857142857,0.010979591836734692,0.010979591836734692,0.010979591836734692,0.010979591836734692,0.011387755102040816,0.011387755102040816,0.011387755102040816,0.011387755102040816,0.011795918367346938,0.011795918367346938,0.011795918367346938,0.011795918367346938,0.01220408163265306,0.01220408163265306,0.01220408163265306,0.01220408163265306,0.012612244897959183,0.012612244897959183,0.012612244897959183,0.012612244897959183,0.013020408163265305,0.013020408163265305,0.013020408163265305,0.013020408163265305,0.013428571428571427,0.013428571428571427,0.013428571428571427,0.013428571428571427,0.01383673469387755,0.01383673469387755,0.01383673469387755,0.01383673469387755,0.014244897959183673,0.014244897959183673,0.014244897959183673,0.014244897959183673,0.014653061224489795,0.014653061224489795,0.014653061224489795,0.014653061224489795,0.015061224489795917,0.015061224489795917,0.015061224489795917,0.015061224489795917,0.01546938775510204,0.01546938775510204,0.01546938775510204,0.01546938775510204,0.01587755102040816,0.01587755102040816,0.01587755102040816,0.01587755102040816,0.016285714285714285,0.016285714285714285,0.016285714285714285,0.016285714285714285,0.016693877551020406,0.016693877551020406,0.016693877551020406,0.016693877551020406,0.01710204081632653,0.01710204081632653,0.01710204081632653,0.01710204081632653,0.017510204081632653,0.017510204081632653,0.017510204081632653,0.017510204081632653,0.017918367346938774,0.017918367346938774,0.017918367346938774,0.017918367346938774,0.018326530612244894,0.018326530612244894,0.018326530612244894,0.018326530612244894,0.01873469387755102,0.01873469387755102,0.01873469387755102,0.01873469387755102,0.019142857142857142,0.019142857142857142,0.019142857142857142,0.019142857142857142,0.019551020408163262,0.019551020408163262,0.019551020408163262,0.019551020408163262,0.019959183673469383,0.019959183673469383,0.019959183673469383,0.019959183673469383,0.02036734693877551,0.02036734693877551,0.02036734693877551,0.02036734693877551,0.02077551020408163,0.02077551020408163,0.02077551020408163,0.02077551020408163,0.02118367346938775,0.02118367346938775,0.02118367346938775,0.02118367346938775,0.02159183673469388,0.02159183673469388,0.02159183673469388,0.02159183673469388,0.022,0.022,0.022,0.022],\"y\":[0.0,0.0,-0.4408868350808178,0.4408868350808178,0.0,0.0,-0.34364992930889804,0.34364992930889804,0.0,0.0,-0.20837552896332484,0.20837552896332484,0.0,-1.6940658945086007e-21,1.6940658945086007e-21,3.1554436208840472e-30,0.0,-4.235164736271502e-22,-2.0194839173657902e-28,6.310887241768095e-30,0.0,-4.1359030627651384e-25,-5.169878828456423e-26,8.470329472543003e-22,0.0,-4.1359030627651384e-25,-8.470329472543003e-22,8.470329472543003e-22,0.0,-1.5777218104420236e-30,-8.470329472543003e-22,8.470329472543003e-22,0.0,-1.5777218104420236e-30,8.470329472543003e-22,-8.470329472543003e-22,0.0,-3.1554436208840472e-30,-3.3881317890172014e-21,3.3881317890172014e-21,0.0,-2.0679515313825692e-25,-8.470329472543003e-22,8.470329472543003e-22,0.0,4.1359030627651384e-25,-2.0194839173657902e-28,1.262177448353619e-29,0.0,-3.1554436208840472e-30,8.470329472543003e-22,-1.262177448353619e-29,0.0,-2.0679515313825692e-25,-5.169878828456423e-26,-3.2311742677852644e-27,0.0,-2.0679515313825692e-25,-5.169878828456423e-26,1.262177448353619e-29,0.0,-6.310887241768095e-30,8.470329472543003e-22,-8.470329472543003e-22,0.0,-2.0679515313825692e-25,-8.470329472543003e-22,8.470329472543003e-22,0.0,2.0679515313825692e-25,-5.169878828456423e-26,-3.2311742677852644e-27,0.0,-1.0339757656912846e-25,1.6940658945086007e-21,-8.470329472543003e-22,0.0,-1.0339757656912846e-25,-8.470329472543003e-22,1.6940658945086007e-21,0.0,-6.310887241768095e-30,-8.470329472543003e-22,5.048709793414476e-29,0.0,-1.0339757656912846e-25,-8.470329472543003e-22,8.470329472543003e-22,0.0,-1.5777218104420236e-30,8.470329472543003e-22,-8.470329472543003e-22,0.0,1.0339757656912846e-25,-8.470329472543003e-22,8.470329472543003e-22,0.0,1.0339757656912846e-25,-8.470329472543003e-22,-6.462348535570529e-27,0.0,-3.1554436208840472e-30,-8.470329472543003e-22,8.470329472543003e-22,0.0,5.169878828456423e-26,-2.0194839173657902e-28,2.524354896707238e-29,0.0,-3.1554436208840472e-30,-8.470329472543003e-22,8.470329472543003e-22,0.0,-5.169878828456423e-26,2.0194839173657902e-28,-1.2924697071141057e-26,0.0,-6.310887241768095e-30,-8.470329472543003e-22,8.470329472543003e-22,0.0,-5.169878828456423e-26,-5.169878828456423e-26,-1.2924697071141057e-26,0.0,5.169878828456423e-26,-2.0194839173657902e-28,-1.2924697071141057e-26,0.0,5.169878828456423e-26,-2.0194839173657902e-28,-1.2924697071141057e-26,0.0,-5.169878828456423e-26,4.0389678347315804e-28,-5.048709793414476e-29,0.0,-5.169878828456423e-26,-2.0194839173657902e-28,1.0097419586828951e-28,0.0,-3.1554436208840472e-30,-8.470329472543003e-22,8.470329472543003e-22,0.0,-1.5777218104420236e-30,2.0194839173657902e-28,-2.5849394142282115e-26,0.0,-1.5777218104420236e-30,-4.0389678347315804e-28,2.0194839173657902e-28,0.0,6.462348535570529e-27,8.470329472543003e-22,-8.470329472543003e-22,0.0,0.0,-0.010150191497051354,0.010150191497051354,0.0,0.0,-0.01629353223548025,0.01629353223548025,0.0,0.0,-0.020313532757426485,0.020313532757426485,0.0,0.0,-0.023366874502415026,0.023366874502415026,0.0,0.0,-0.025824921641870887,0.025824921641870887,0.0,0.0,-0.02786705996332453,0.02786705996332453,0.0,0.0,-0.029597422227222295,0.029597422227222295,0.0,0.0,-0.03108333917057419,0.03108333917057419,0.0,0.0,-0.03237155932745831,0.03237155932745831,0.0,0.0,-0.0334962214015315,0.0334962214015315,0.0,0.0,-0.034483209525216996,0.034483209525216996],\"type\":\"scatter\"},{\"mode\":\"markers\",\"name\":\"y_im_parts\",\"x\":[0.002,0.002,0.002,0.002,0.0024081632653061226,0.0024081632653061226,0.0024081632653061226,0.0024081632653061226,0.0028163265306122448,0.0028163265306122448,0.0028163265306122448,0.0028163265306122448,0.0032244897959183673,0.0032244897959183673,0.0032244897959183673,0.0032244897959183673,0.0036326530612244895,0.0036326530612244895,0.0036326530612244895,0.0036326530612244895,0.0040408163265306125,0.0040408163265306125,0.0040408163265306125,0.0040408163265306125,0.004448979591836735,0.004448979591836735,0.004448979591836735,0.004448979591836735,0.004857142857142857,0.004857142857142857,0.004857142857142857,0.004857142857142857,0.005265306122448979,0.005265306122448979,0.005265306122448979,0.005265306122448979,0.005673469387755102,0.005673469387755102,0.005673469387755102,0.005673469387755102,0.006081632653061224,0.006081632653061224,0.006081632653061224,0.006081632653061224,0.006489795918367346,0.006489795918367346,0.006489795918367346,0.006489795918367346,0.006897959183673469,0.006897959183673469,0.006897959183673469,0.006897959183673469,0.007306122448979591,0.007306122448979591,0.007306122448979591,0.007306122448979591,0.0077142857142857135,0.0077142857142857135,0.0077142857142857135,0.0077142857142857135,0.008122448979591836,0.008122448979591836,0.008122448979591836,0.008122448979591836,0.00853061224489796,0.00853061224489796,0.00853061224489796,0.00853061224489796,0.00893877551020408,0.00893877551020408,0.00893877551020408,0.00893877551020408,0.009346938775510204,0.009346938775510204,0.009346938775510204,0.009346938775510204,0.009755102040816326,0.009755102040816326,0.009755102040816326,0.009755102040816326,0.010163265306122448,0.010163265306122448,0.010163265306122448,0.010163265306122448,0.01057142857142857,0.01057142857142857,0.01057142857142857,0.01057142857142857,0.010979591836734692,0.010979591836734692,0.010979591836734692,0.010979591836734692,0.011387755102040816,0.011387755102040816,0.011387755102040816,0.011387755102040816,0.011795918367346938,0.011795918367346938,0.011795918367346938,0.011795918367346938,0.01220408163265306,0.01220408163265306,0.01220408163265306,0.01220408163265306,0.012612244897959183,0.012612244897959183,0.012612244897959183,0.012612244897959183,0.013020408163265305,0.013020408163265305,0.013020408163265305,0.013020408163265305,0.013428571428571427,0.013428571428571427,0.013428571428571427,0.013428571428571427,0.01383673469387755,0.01383673469387755,0.01383673469387755,0.01383673469387755,0.014244897959183673,0.014244897959183673,0.014244897959183673,0.014244897959183673,0.014653061224489795,0.014653061224489795,0.014653061224489795,0.014653061224489795,0.015061224489795917,0.015061224489795917,0.015061224489795917,0.015061224489795917,0.01546938775510204,0.01546938775510204,0.01546938775510204,0.01546938775510204,0.01587755102040816,0.01587755102040816,0.01587755102040816,0.01587755102040816,0.016285714285714285,0.016285714285714285,0.016285714285714285,0.016285714285714285,0.016693877551020406,0.016693877551020406,0.016693877551020406,0.016693877551020406,0.01710204081632653,0.01710204081632653,0.01710204081632653,0.01710204081632653,0.017510204081632653,0.017510204081632653,0.017510204081632653,0.017510204081632653,0.017918367346938774,0.017918367346938774,0.017918367346938774,0.017918367346938774,0.018326530612244894,0.018326530612244894,0.018326530612244894,0.018326530612244894,0.01873469387755102,0.01873469387755102,0.01873469387755102,0.01873469387755102,0.019142857142857142,0.019142857142857142,0.019142857142857142,0.019142857142857142,0.019551020408163262,0.019551020408163262,0.019551020408163262,0.019551020408163262,0.019959183673469383,0.019959183673469383,0.019959183673469383,0.019959183673469383,0.02036734693877551,0.02036734693877551,0.02036734693877551,0.02036734693877551,0.02077551020408163,0.02077551020408163,0.02077551020408163,0.02077551020408163,0.02118367346938775,0.02118367346938775,0.02118367346938775,0.02118367346938775,0.02159183673469388,0.02159183673469388,0.02159183673469388,0.02159183673469388,0.022,0.022,0.022,0.022],\"y\":[0.0,0.0,134.7453652447487,-134.7453652447487,0.0,0.0,105.02748450760942,-105.02748450760942,0.0,0.0,63.68445261715306,-63.68445261715306,0.0,-1.3552527156068805e-20,1.3552527156068805e-20,2.168404344971009e-19,0.0,-6.776263578034403e-21,1.734723475976807e-18,4.336808689942018e-19,0.0,-3.3881317890172014e-21,6.776263578034403e-21,8.673617379884035e-19,0.0,-1.0842021724855044e-19,-6.776263578034403e-21,1.3552527156068805e-20,0.0,-2.168404344971009e-19,6.776263578034403e-21,-3.3881317890172014e-21,0.0,-2.168404344971009e-19,-6.776263578034403e-21,8.673617379884035e-19,0.0,-1.0842021724855044e-19,1.734723475976807e-18,6.776263578034403e-21,0.0,-5.421010862427522e-20,-6.776263578034403e-21,6.776263578034403e-21,0.0,-4.336808689942018e-19,6.776263578034403e-21,8.673617379884035e-19,0.0,-2.168404344971009e-19,1.734723475976807e-18,6.776263578034403e-21,0.0,-2.168404344971009e-19,-6.776263578034403e-21,6.776263578034403e-21,0.0,-2.168404344971009e-19,1.734723475976807e-18,8.673617379884035e-19,0.0,-2.168404344971009e-19,1.734723475976807e-18,-6.776263578034403e-21,0.0,-1.0842021724855044e-19,-6.776263578034403e-21,-3.3881317890172014e-21,0.0,-5.421010862427522e-20,1.734723475976807e-18,3.3881317890172014e-21,0.0,-2.168404344971009e-19,6.776263578034403e-21,-3.3881317890172014e-21,0.0,-1.0842021724855044e-19,6.776263578034403e-21,-3.3881317890172014e-21,0.0,-2.168404344971009e-19,1.734723475976807e-18,-3.3881317890172014e-21,0.0,-2.168404344971009e-19,1.734723475976807e-18,3.3881317890172014e-21,0.0,-1.0842021724855044e-19,6.776263578034403e-21,-1.3552527156068805e-20,0.0,-5.421010862427522e-20,1.734723475976807e-18,-3.3881317890172014e-21,0.0,-1.0842021724855044e-19,-6.776263578034403e-21,3.3881317890172014e-21,0.0,-2.710505431213761e-20,6.776263578034403e-21,-6.776263578034403e-21,0.0,-1.0842021724855044e-19,6.776263578034403e-21,8.673617379884035e-19,0.0,-1.0842021724855044e-19,-1.3552527156068805e-20,6.776263578034403e-21,0.0,-5.421010862427522e-20,1.734723475976807e-18,6.776263578034403e-21,0.0,-5.421010862427522e-20,1.3552527156068805e-20,-6.776263578034403e-21,0.0,-5.421010862427522e-20,6.776263578034403e-21,1.734723475976807e-18,0.0,-2.710505431213761e-20,1.734723475976807e-18,6.776263578034403e-21,0.0,-6.776263578034403e-21,6.776263578034403e-21,-1.3552527156068805e-20,0.0,-5.421010862427522e-20,6.776263578034403e-21,1.734723475976807e-18,0.0,-1.3552527156068805e-20,1.734723475976807e-18,6.776263578034403e-21,0.0,-6.776263578034403e-21,6.776263578034403e-21,-1.3552527156068805e-20,0.0,-2.710505431213761e-20,1.734723475976807e-18,6.776263578034403e-21,0.0,-2.710505431213761e-20,-6.776263578034403e-21,1.734723475976807e-18,0.0,-1.6940658945086007e-21,1.3552527156068805e-20,-6.776263578034403e-21,0.0,0.0,3.102136765602492,-3.102136765602492,0.0,0.0,4.979685891039196,-4.979685891039196,0.0,0.0,6.208292407526432,-6.208292407526432,0.0,0.0,7.14146531247403,-7.14146531247403,0.0,0.0,7.892702213285724,-7.892702213285724,0.0,0.0,8.516827617152973,-8.516827617152973,0.0,0.0,9.045666939860116,-9.045666939860116,0.0,0.0,9.499798035016562,-9.499798035016562,0.0,0.0,9.893508351912688,-9.893508351912688,0.0,0.0,10.237231479685667,-10.237231479685667,0.0,0.0,10.53887821675336,-10.53887821675336],\"type\":\"scatter\"}],                        {\"template\":{\"data\":{\"histogram2dcontour\":[{\"type\":\"histogram2dcontour\",\"colorbar\":{\"outlinewidth\":0,\"ticks\":\"\"},\"colorscale\":[[0.0,\"#0d0887\"],[0.1111111111111111,\"#46039f\"],[0.2222222222222222,\"#7201a8\"],[0.3333333333333333,\"#9c179e\"],[0.4444444444444444,\"#bd3786\"],[0.5555555555555556,\"#d8576b\"],[0.6666666666666666,\"#ed7953\"],[0.7777777777777778,\"#fb9f3a\"],[0.8888888888888888,\"#fdca26\"],[1.0,\"#f0f921\"]]}],\"choropleth\":[{\"type\":\"choropleth\",\"colorbar\":{\"outlinewidth\":0,\"ticks\":\"\"}}],\"histogram2d\":[{\"type\":\"histogram2d\",\"colorbar\":{\"outlinewidth\":0,\"ticks\":\"\"},\"colorscale\":[[0.0,\"#0d0887\"],[0.1111111111111111,\"#46039f\"],[0.2222222222222222,\"#7201a8\"],[0.3333333333333333,\"#9c179e\"],[0.4444444444444444,\"#bd3786\"],[0.5555555555555556,\"#d8576b\"],[0.6666666666666666,\"#ed7953\"],[0.7777777777777778,\"#fb9f3a\"],[0.8888888888888888,\"#fdca26\"],[1.0,\"#f0f921\"]]}],\"heatmap\":[{\"type\":\"heatmap\",\"colorbar\":{\"outlinewidth\":0,\"ticks\":\"\"},\"colorscale\":[[0.0,\"#0d0887\"],[0.1111111111111111,\"#46039f\"],[0.2222222222222222,\"#7201a8\"],[0.3333333333333333,\"#9c179e\"],[0.4444444444444444,\"#bd3786\"],[0.5555555555555556,\"#d8576b\"],[0.6666666666666666,\"#ed7953\"],[0.7777777777777778,\"#fb9f3a\"],[0.8888888888888888,\"#fdca26\"],[1.0,\"#f0f921\"]]}],\"heatmapgl\":[{\"type\":\"heatmapgl\",\"colorbar\":{\"outlinewidth\":0,\"ticks\":\"\"},\"colorscale\":[[0.0,\"#0d0887\"],[0.1111111111111111,\"#46039f\"],[0.2222222222222222,\"#7201a8\"],[0.3333333333333333,\"#9c179e\"],[0.4444444444444444,\"#bd3786\"],[0.5555555555555556,\"#d8576b\"],[0.6666666666666666,\"#ed7953\"],[0.7777777777777778,\"#fb9f3a\"],[0.8888888888888888,\"#fdca26\"],[1.0,\"#f0f921\"]]}],\"contourcarpet\":[{\"type\":\"contourcarpet\",\"colorbar\":{\"outlinewidth\":0,\"ticks\":\"\"}}],\"contour\":[{\"type\":\"contour\",\"colorbar\":{\"outlinewidth\":0,\"ticks\":\"\"},\"colorscale\":[[0.0,\"#0d0887\"],[0.1111111111111111,\"#46039f\"],[0.2222222222222222,\"#7201a8\"],[0.3333333333333333,\"#9c179e\"],[0.4444444444444444,\"#bd3786\"],[0.5555555555555556,\"#d8576b\"],[0.6666666666666666,\"#ed7953\"],[0.7777777777777778,\"#fb9f3a\"],[0.8888888888888888,\"#fdca26\"],[1.0,\"#f0f921\"]]}],\"surface\":[{\"type\":\"surface\",\"colorbar\":{\"outlinewidth\":0,\"ticks\":\"\"},\"colorscale\":[[0.0,\"#0d0887\"],[0.1111111111111111,\"#46039f\"],[0.2222222222222222,\"#7201a8\"],[0.3333333333333333,\"#9c179e\"],[0.4444444444444444,\"#bd3786\"],[0.5555555555555556,\"#d8576b\"],[0.6666666666666666,\"#ed7953\"],[0.7777777777777778,\"#fb9f3a\"],[0.8888888888888888,\"#fdca26\"],[1.0,\"#f0f921\"]]}],\"mesh3d\":[{\"type\":\"mesh3d\",\"colorbar\":{\"outlinewidth\":0,\"ticks\":\"\"}}],\"scatter\":[{\"fillpattern\":{\"fillmode\":\"overlay\",\"size\":10,\"solidity\":0.2},\"type\":\"scatter\"}],\"parcoords\":[{\"type\":\"parcoords\",\"line\":{\"colorbar\":{\"outlinewidth\":0,\"ticks\":\"\"}}}],\"scatterpolargl\":[{\"type\":\"scatterpolargl\",\"marker\":{\"colorbar\":{\"outlinewidth\":0,\"ticks\":\"\"}}}],\"bar\":[{\"error_x\":{\"color\":\"#2a3f5f\"},\"error_y\":{\"color\":\"#2a3f5f\"},\"marker\":{\"line\":{\"color\":\"#E5ECF6\",\"width\":0.5},\"pattern\":{\"fillmode\":\"overlay\",\"size\":10,\"solidity\":0.2}},\"type\":\"bar\"}],\"scattergeo\":[{\"type\":\"scattergeo\",\"marker\":{\"colorbar\":{\"outlinewidth\":0,\"ticks\":\"\"}}}],\"scatterpolar\":[{\"type\":\"scatterpolar\",\"marker\":{\"colorbar\":{\"outlinewidth\":0,\"ticks\":\"\"}}}],\"histogram\":[{\"marker\":{\"pattern\":{\"fillmode\":\"overlay\",\"size\":10,\"solidity\":0.2}},\"type\":\"histogram\"}],\"scattergl\":[{\"type\":\"scattergl\",\"marker\":{\"colorbar\":{\"outlinewidth\":0,\"ticks\":\"\"}}}],\"scatter3d\":[{\"type\":\"scatter3d\",\"line\":{\"colorbar\":{\"outlinewidth\":0,\"ticks\":\"\"}},\"marker\":{\"colorbar\":{\"outlinewidth\":0,\"ticks\":\"\"}}}],\"scattermapbox\":[{\"type\":\"scattermapbox\",\"marker\":{\"colorbar\":{\"outlinewidth\":0,\"ticks\":\"\"}}}],\"scatterternary\":[{\"type\":\"scatterternary\",\"marker\":{\"colorbar\":{\"outlinewidth\":0,\"ticks\":\"\"}}}],\"scattercarpet\":[{\"type\":\"scattercarpet\",\"marker\":{\"colorbar\":{\"outlinewidth\":0,\"ticks\":\"\"}}}],\"carpet\":[{\"aaxis\":{\"endlinecolor\":\"#2a3f5f\",\"gridcolor\":\"white\",\"linecolor\":\"white\",\"minorgridcolor\":\"white\",\"startlinecolor\":\"#2a3f5f\"},\"baxis\":{\"endlinecolor\":\"#2a3f5f\",\"gridcolor\":\"white\",\"linecolor\":\"white\",\"minorgridcolor\":\"white\",\"startlinecolor\":\"#2a3f5f\"},\"type\":\"carpet\"}],\"table\":[{\"cells\":{\"fill\":{\"color\":\"#EBF0F8\"},\"line\":{\"color\":\"white\"}},\"header\":{\"fill\":{\"color\":\"#C8D4E3\"},\"line\":{\"color\":\"white\"}},\"type\":\"table\"}],\"barpolar\":[{\"marker\":{\"line\":{\"color\":\"#E5ECF6\",\"width\":0.5},\"pattern\":{\"fillmode\":\"overlay\",\"size\":10,\"solidity\":0.2}},\"type\":\"barpolar\"}],\"pie\":[{\"automargin\":true,\"type\":\"pie\"}]},\"layout\":{\"autotypenumbers\":\"strict\",\"colorway\":[\"#636efa\",\"#EF553B\",\"#00cc96\",\"#ab63fa\",\"#FFA15A\",\"#19d3f3\",\"#FF6692\",\"#B6E880\",\"#FF97FF\",\"#FECB52\"],\"font\":{\"color\":\"#2a3f5f\"},\"hovermode\":\"closest\",\"hoverlabel\":{\"align\":\"left\"},\"paper_bgcolor\":\"white\",\"plot_bgcolor\":\"#E5ECF6\",\"polar\":{\"bgcolor\":\"#E5ECF6\",\"angularaxis\":{\"gridcolor\":\"white\",\"linecolor\":\"white\",\"ticks\":\"\"},\"radialaxis\":{\"gridcolor\":\"white\",\"linecolor\":\"white\",\"ticks\":\"\"}},\"ternary\":{\"bgcolor\":\"#E5ECF6\",\"aaxis\":{\"gridcolor\":\"white\",\"linecolor\":\"white\",\"ticks\":\"\"},\"baxis\":{\"gridcolor\":\"white\",\"linecolor\":\"white\",\"ticks\":\"\"},\"caxis\":{\"gridcolor\":\"white\",\"linecolor\":\"white\",\"ticks\":\"\"}},\"coloraxis\":{\"colorbar\":{\"outlinewidth\":0,\"ticks\":\"\"}},\"colorscale\":{\"sequential\":[[0.0,\"#0d0887\"],[0.1111111111111111,\"#46039f\"],[0.2222222222222222,\"#7201a8\"],[0.3333333333333333,\"#9c179e\"],[0.4444444444444444,\"#bd3786\"],[0.5555555555555556,\"#d8576b\"],[0.6666666666666666,\"#ed7953\"],[0.7777777777777778,\"#fb9f3a\"],[0.8888888888888888,\"#fdca26\"],[1.0,\"#f0f921\"]],\"sequentialminus\":[[0.0,\"#0d0887\"],[0.1111111111111111,\"#46039f\"],[0.2222222222222222,\"#7201a8\"],[0.3333333333333333,\"#9c179e\"],[0.4444444444444444,\"#bd3786\"],[0.5555555555555556,\"#d8576b\"],[0.6666666666666666,\"#ed7953\"],[0.7777777777777778,\"#fb9f3a\"],[0.8888888888888888,\"#fdca26\"],[1.0,\"#f0f921\"]],\"diverging\":[[0,\"#8e0152\"],[0.1,\"#c51b7d\"],[0.2,\"#de77ae\"],[0.3,\"#f1b6da\"],[0.4,\"#fde0ef\"],[0.5,\"#f7f7f7\"],[0.6,\"#e6f5d0\"],[0.7,\"#b8e186\"],[0.8,\"#7fbc41\"],[0.9,\"#4d9221\"],[1,\"#276419\"]]},\"xaxis\":{\"gridcolor\":\"white\",\"linecolor\":\"white\",\"ticks\":\"\",\"title\":{\"standoff\":15},\"zerolinecolor\":\"white\",\"automargin\":true,\"zerolinewidth\":2},\"yaxis\":{\"gridcolor\":\"white\",\"linecolor\":\"white\",\"ticks\":\"\",\"title\":{\"standoff\":15},\"zerolinecolor\":\"white\",\"automargin\":true,\"zerolinewidth\":2},\"scene\":{\"xaxis\":{\"backgroundcolor\":\"#E5ECF6\",\"gridcolor\":\"white\",\"linecolor\":\"white\",\"showbackground\":true,\"ticks\":\"\",\"zerolinecolor\":\"white\",\"gridwidth\":2},\"yaxis\":{\"backgroundcolor\":\"#E5ECF6\",\"gridcolor\":\"white\",\"linecolor\":\"white\",\"showbackground\":true,\"ticks\":\"\",\"zerolinecolor\":\"white\",\"gridwidth\":2},\"zaxis\":{\"backgroundcolor\":\"#E5ECF6\",\"gridcolor\":\"white\",\"linecolor\":\"white\",\"showbackground\":true,\"ticks\":\"\",\"zerolinecolor\":\"white\",\"gridwidth\":2}},\"shapedefaults\":{\"line\":{\"color\":\"#2a3f5f\"}},\"annotationdefaults\":{\"arrowcolor\":\"#2a3f5f\",\"arrowhead\":0,\"arrowwidth\":1},\"geo\":{\"bgcolor\":\"white\",\"landcolor\":\"#E5ECF6\",\"subunitcolor\":\"white\",\"showland\":true,\"showlakes\":true,\"lakecolor\":\"white\"},\"title\":{\"x\":0.05},\"mapbox\":{\"style\":\"light\"}}},\"title\":{\"text\":\"Imagimary parts of X and Y\"},\"xaxis\":{\"title\":{\"text\":\"mu\"}}},                        {\"responsive\": true}                    ).then(function(){\n",
       "                            \n",
       "var gd = document.getElementById('0108a084-8202-469b-a332-e78d50e92c3e');\n",
       "var x = new MutationObserver(function (mutations, observer) {{\n",
       "        var display = window.getComputedStyle(gd).display;\n",
       "        if (!display || display === 'none') {{\n",
       "            console.log([gd, 'removed!']);\n",
       "            Plotly.purge(gd);\n",
       "            observer.disconnect();\n",
       "        }}\n",
       "}});\n",
       "\n",
       "// Listen for the removal of the full notebook cells\n",
       "var notebookContainer = gd.closest('#notebook-container');\n",
       "if (notebookContainer) {{\n",
       "    x.observe(notebookContainer, {childList: true});\n",
       "}}\n",
       "\n",
       "// Listen for the clearing of the current output cell\n",
       "var outputEl = gd.closest('.output');\n",
       "if (outputEl) {{\n",
       "    x.observe(outputEl, {childList: true});\n",
       "}}\n",
       "\n",
       "                        })                };                });            </script>        </div>"
      ]
     },
     "metadata": {},
     "output_type": "display_data"
    }
   ],
   "source": [
    "y_im_parts = []\n",
    "x_im_parts = []\n",
    "mus_for_im=[]\n",
    "for cur_mu, sols in list(solutions_by_mu.items()):\n",
    "    for x,y in sols:\n",
    "        x_im_parts.append(float(x.as_real_imag()[1]))\n",
    "        y_im_parts.append(float(y.as_real_imag()[1]))\n",
    "        mus_for_im.append(cur_mu)\n",
    "            \n",
    "fig = go.Figure()\n",
    "fig.add_trace(go.Scatter(x=mus_for_im, y=x_im_parts, mode='markers', name = \"x_im_parts\"))\n",
    "fig.add_trace(go.Scatter(x=mus_for_im, y=y_im_parts, mode='markers', name = \"y_im_parts\"))\n",
    "fig.update_layout(title=\"Imagimary parts of X and Y\")\n",
    "fig.update_layout(xaxis={\"title\": \"mu\"})\n"
   ]
  },
  {
   "cell_type": "markdown",
   "metadata": {},
   "source": [
    "На отрезке [0.005, 0.015] мнимая часть близка к нулю"
   ]
  },
  {
   "cell_type": "code",
   "execution_count": 83,
   "metadata": {
    "tags": []
   },
   "outputs": [
    {
     "data": {
      "application/vnd.plotly.v1+json": {
       "config": {
        "plotlyServerURL": "https://plot.ly"
       },
       "data": [
        {
         "mode": "markers",
         "name": "x_im_parts",
         "type": "scatter",
         "x": [
          0.0036326530612244895,
          0.0036326530612244895,
          0.0036326530612244895,
          0.0036326530612244895,
          0.0040408163265306125,
          0.0040408163265306125,
          0.0040408163265306125,
          0.0040408163265306125,
          0.004448979591836735,
          0.004448979591836735,
          0.004448979591836735,
          0.004448979591836735,
          0.004857142857142857,
          0.004857142857142857,
          0.004857142857142857,
          0.004857142857142857,
          0.005265306122448979,
          0.005265306122448979,
          0.005265306122448979,
          0.005265306122448979,
          0.005673469387755102,
          0.005673469387755102,
          0.005673469387755102,
          0.005673469387755102,
          0.006081632653061224,
          0.006081632653061224,
          0.006081632653061224,
          0.006081632653061224,
          0.006489795918367346,
          0.006489795918367346,
          0.006489795918367346,
          0.006489795918367346,
          0.006897959183673469,
          0.006897959183673469,
          0.006897959183673469,
          0.006897959183673469,
          0.007306122448979591,
          0.007306122448979591,
          0.007306122448979591,
          0.007306122448979591,
          0.0077142857142857135,
          0.0077142857142857135,
          0.0077142857142857135,
          0.0077142857142857135,
          0.008122448979591836,
          0.008122448979591836,
          0.008122448979591836,
          0.008122448979591836,
          0.00853061224489796,
          0.00853061224489796,
          0.00853061224489796,
          0.00853061224489796,
          0.00893877551020408,
          0.00893877551020408,
          0.00893877551020408,
          0.00893877551020408,
          0.009346938775510204,
          0.009346938775510204,
          0.009346938775510204,
          0.009346938775510204,
          0.009755102040816326,
          0.009755102040816326,
          0.009755102040816326,
          0.009755102040816326,
          0.010163265306122448,
          0.010163265306122448,
          0.010163265306122448,
          0.010163265306122448,
          0.01057142857142857,
          0.01057142857142857,
          0.01057142857142857,
          0.01057142857142857,
          0.010979591836734692,
          0.010979591836734692,
          0.010979591836734692,
          0.010979591836734692,
          0.011387755102040816,
          0.011387755102040816,
          0.011387755102040816,
          0.011387755102040816,
          0.011795918367346938,
          0.011795918367346938,
          0.011795918367346938,
          0.011795918367346938,
          0.01220408163265306,
          0.01220408163265306,
          0.01220408163265306,
          0.01220408163265306,
          0.012612244897959183,
          0.012612244897959183,
          0.012612244897959183,
          0.012612244897959183,
          0.013020408163265305,
          0.013020408163265305,
          0.013020408163265305,
          0.013020408163265305,
          0.013428571428571427,
          0.013428571428571427,
          0.013428571428571427,
          0.013428571428571427,
          0.01383673469387755,
          0.01383673469387755,
          0.01383673469387755,
          0.01383673469387755,
          0.014244897959183673,
          0.014244897959183673,
          0.014244897959183673,
          0.014244897959183673,
          0.014653061224489795,
          0.014653061224489795,
          0.014653061224489795,
          0.014653061224489795,
          0.015061224489795917,
          0.015061224489795917,
          0.015061224489795917,
          0.015061224489795917,
          0.01546938775510204,
          0.01546938775510204,
          0.01546938775510204,
          0.01546938775510204,
          0.01587755102040816,
          0.01587755102040816,
          0.01587755102040816,
          0.01587755102040816,
          0.016285714285714285,
          0.016285714285714285,
          0.016285714285714285,
          0.016285714285714285,
          0.016693877551020406,
          0.016693877551020406,
          0.016693877551020406,
          0.016693877551020406
         ],
         "y": [
          0.31552230830884315,
          0.15434108472289987,
          0.7267479133987186,
          1.6141698189570333,
          0.31552230830884315,
          0.11900326564906234,
          0.8474902429713198,
          1.6138969107735568,
          0.31552230830884315,
          0.09760194583727363,
          0.9386845085373721,
          1.613615089845537,
          0.31552230830884315,
          0.08298590932209818,
          1.0114203890124183,
          1.6133238287243075,
          0.31552230830884315,
          0.07228875099347745,
          1.071281734698945,
          1.6130225524471125,
          0.31552230830884315,
          0.06408929450031313,
          1.1216253874018187,
          1.612710632630242,
          0.31552230830884315,
          0.0575901056342075,
          1.16466503402647,
          1.6123873806077786,
          0.31552230830884315,
          0.05230498015206245,
          1.201947083066154,
          1.6120520394232931,
          0.31552230830884315,
          0.04791900452820487,
          1.2345959732266054,
          1.6117037744345388,
          0.31552230830884315,
          0.04421853855537193,
          1.2634542456949946,
          1.6113416622300802,
          0.31552230830884315,
          0.041053208688533474,
          1.289168371612142,
          1.6109646774771023,
          0.31552230830884315,
          0.03831393854478577,
          1.3122441305721444,
          1.6105716772147283,
          0.31552230830884315,
          0.035919594988430795,
          1.333083790125276,
          1.610161381967633,
          0.31552230830884315,
          0.03380852926034838,
          1.3520118718451997,
          1.6097323528670546,
          0.31552230830884315,
          0.03193303039287573,
          1.3692934815294293,
          1.6092829637108825,
          0.31552230830884315,
          0.03025557959672325,
          1.385147642647625,
          1.6088113665422628,
          0.31552230830884315,
          0.02874625574312099,
          1.3997571850618835,
          1.6083154488335483,
          0.31552230830884315,
          0.027380897866812668,
          1.413276207875922,
          1.6077927796626714,
          0.31552230830884315,
          0.02613977810368552,
          1.425835803761021,
          1.6072405412579702,
          0.31552230830884315,
          0.025006626461888733,
          1.4375485202661502,
          1.6066554407988425,
          0.31552230830884315,
          0.023967902905530993,
          1.4485118954678233,
          1.6060335951214546,
          0.31552230830884315,
          0.023012246361349395,
          1.4588113142985928,
          1.6053703775340384,
          0.31552230830884315,
          0.022130052314043743,
          1.4685223725223624,
          1.6046602105034,
          0.31552230830884315,
          0.021313145213069398,
          1.4777128989336779,
          1.6038962791134406,
          0.31552230830884315,
          0.020554521707541237,
          1.4864447691923983,
          1.6030701252702726,
          0.31552230830884315,
          0.01984814743072435,
          1.4947756477789458,
          1.6021710564717466,
          0.31552230830884315,
          0.019188794719185102,
          1.5027608257454912,
          1.601185254950797,
          0.31552230830884315,
          0.01857191194305434,
          1.51045540264042,
          1.6000943799012053,
          0.31552230830884315,
          0.01799351747814514,
          1.5179172447402154,
          1.5988732624970863,
          0.31552230830884315,
          0.017450113055637838,
          1.525211579359715,
          1.5974858588247522,
          0.31552230830884315,
          0.01693861247405059,
          1.5324191676942902,
          1.595877537877932,
          0.31552230830884315,
          0.01645628258300113,
          1.539653132808233,
          1.5939586435561346,
          0.31552230830884315,
          0.016000694139841024,
          1.547100601574282,
          1.5915631842858768
         ]
        }
       ],
       "layout": {
        "autosize": true,
        "template": {
         "data": {
          "bar": [
           {
            "error_x": {
             "color": "#2a3f5f"
            },
            "error_y": {
             "color": "#2a3f5f"
            },
            "marker": {
             "line": {
              "color": "#E5ECF6",
              "width": 0.5
             },
             "pattern": {
              "fillmode": "overlay",
              "size": 10,
              "solidity": 0.2
             }
            },
            "type": "bar"
           }
          ],
          "barpolar": [
           {
            "marker": {
             "line": {
              "color": "#E5ECF6",
              "width": 0.5
             },
             "pattern": {
              "fillmode": "overlay",
              "size": 10,
              "solidity": 0.2
             }
            },
            "type": "barpolar"
           }
          ],
          "carpet": [
           {
            "aaxis": {
             "endlinecolor": "#2a3f5f",
             "gridcolor": "white",
             "linecolor": "white",
             "minorgridcolor": "white",
             "startlinecolor": "#2a3f5f"
            },
            "baxis": {
             "endlinecolor": "#2a3f5f",
             "gridcolor": "white",
             "linecolor": "white",
             "minorgridcolor": "white",
             "startlinecolor": "#2a3f5f"
            },
            "type": "carpet"
           }
          ],
          "choropleth": [
           {
            "colorbar": {
             "outlinewidth": 0,
             "ticks": ""
            },
            "type": "choropleth"
           }
          ],
          "contour": [
           {
            "colorbar": {
             "outlinewidth": 0,
             "ticks": ""
            },
            "colorscale": [
             [
              0,
              "#0d0887"
             ],
             [
              0.1111111111111111,
              "#46039f"
             ],
             [
              0.2222222222222222,
              "#7201a8"
             ],
             [
              0.3333333333333333,
              "#9c179e"
             ],
             [
              0.4444444444444444,
              "#bd3786"
             ],
             [
              0.5555555555555556,
              "#d8576b"
             ],
             [
              0.6666666666666666,
              "#ed7953"
             ],
             [
              0.7777777777777778,
              "#fb9f3a"
             ],
             [
              0.8888888888888888,
              "#fdca26"
             ],
             [
              1,
              "#f0f921"
             ]
            ],
            "type": "contour"
           }
          ],
          "contourcarpet": [
           {
            "colorbar": {
             "outlinewidth": 0,
             "ticks": ""
            },
            "type": "contourcarpet"
           }
          ],
          "heatmap": [
           {
            "colorbar": {
             "outlinewidth": 0,
             "ticks": ""
            },
            "colorscale": [
             [
              0,
              "#0d0887"
             ],
             [
              0.1111111111111111,
              "#46039f"
             ],
             [
              0.2222222222222222,
              "#7201a8"
             ],
             [
              0.3333333333333333,
              "#9c179e"
             ],
             [
              0.4444444444444444,
              "#bd3786"
             ],
             [
              0.5555555555555556,
              "#d8576b"
             ],
             [
              0.6666666666666666,
              "#ed7953"
             ],
             [
              0.7777777777777778,
              "#fb9f3a"
             ],
             [
              0.8888888888888888,
              "#fdca26"
             ],
             [
              1,
              "#f0f921"
             ]
            ],
            "type": "heatmap"
           }
          ],
          "heatmapgl": [
           {
            "colorbar": {
             "outlinewidth": 0,
             "ticks": ""
            },
            "colorscale": [
             [
              0,
              "#0d0887"
             ],
             [
              0.1111111111111111,
              "#46039f"
             ],
             [
              0.2222222222222222,
              "#7201a8"
             ],
             [
              0.3333333333333333,
              "#9c179e"
             ],
             [
              0.4444444444444444,
              "#bd3786"
             ],
             [
              0.5555555555555556,
              "#d8576b"
             ],
             [
              0.6666666666666666,
              "#ed7953"
             ],
             [
              0.7777777777777778,
              "#fb9f3a"
             ],
             [
              0.8888888888888888,
              "#fdca26"
             ],
             [
              1,
              "#f0f921"
             ]
            ],
            "type": "heatmapgl"
           }
          ],
          "histogram": [
           {
            "marker": {
             "pattern": {
              "fillmode": "overlay",
              "size": 10,
              "solidity": 0.2
             }
            },
            "type": "histogram"
           }
          ],
          "histogram2d": [
           {
            "colorbar": {
             "outlinewidth": 0,
             "ticks": ""
            },
            "colorscale": [
             [
              0,
              "#0d0887"
             ],
             [
              0.1111111111111111,
              "#46039f"
             ],
             [
              0.2222222222222222,
              "#7201a8"
             ],
             [
              0.3333333333333333,
              "#9c179e"
             ],
             [
              0.4444444444444444,
              "#bd3786"
             ],
             [
              0.5555555555555556,
              "#d8576b"
             ],
             [
              0.6666666666666666,
              "#ed7953"
             ],
             [
              0.7777777777777778,
              "#fb9f3a"
             ],
             [
              0.8888888888888888,
              "#fdca26"
             ],
             [
              1,
              "#f0f921"
             ]
            ],
            "type": "histogram2d"
           }
          ],
          "histogram2dcontour": [
           {
            "colorbar": {
             "outlinewidth": 0,
             "ticks": ""
            },
            "colorscale": [
             [
              0,
              "#0d0887"
             ],
             [
              0.1111111111111111,
              "#46039f"
             ],
             [
              0.2222222222222222,
              "#7201a8"
             ],
             [
              0.3333333333333333,
              "#9c179e"
             ],
             [
              0.4444444444444444,
              "#bd3786"
             ],
             [
              0.5555555555555556,
              "#d8576b"
             ],
             [
              0.6666666666666666,
              "#ed7953"
             ],
             [
              0.7777777777777778,
              "#fb9f3a"
             ],
             [
              0.8888888888888888,
              "#fdca26"
             ],
             [
              1,
              "#f0f921"
             ]
            ],
            "type": "histogram2dcontour"
           }
          ],
          "mesh3d": [
           {
            "colorbar": {
             "outlinewidth": 0,
             "ticks": ""
            },
            "type": "mesh3d"
           }
          ],
          "parcoords": [
           {
            "line": {
             "colorbar": {
              "outlinewidth": 0,
              "ticks": ""
             }
            },
            "type": "parcoords"
           }
          ],
          "pie": [
           {
            "automargin": true,
            "type": "pie"
           }
          ],
          "scatter": [
           {
            "fillpattern": {
             "fillmode": "overlay",
             "size": 10,
             "solidity": 0.2
            },
            "type": "scatter"
           }
          ],
          "scatter3d": [
           {
            "line": {
             "colorbar": {
              "outlinewidth": 0,
              "ticks": ""
             }
            },
            "marker": {
             "colorbar": {
              "outlinewidth": 0,
              "ticks": ""
             }
            },
            "type": "scatter3d"
           }
          ],
          "scattercarpet": [
           {
            "marker": {
             "colorbar": {
              "outlinewidth": 0,
              "ticks": ""
             }
            },
            "type": "scattercarpet"
           }
          ],
          "scattergeo": [
           {
            "marker": {
             "colorbar": {
              "outlinewidth": 0,
              "ticks": ""
             }
            },
            "type": "scattergeo"
           }
          ],
          "scattergl": [
           {
            "marker": {
             "colorbar": {
              "outlinewidth": 0,
              "ticks": ""
             }
            },
            "type": "scattergl"
           }
          ],
          "scattermapbox": [
           {
            "marker": {
             "colorbar": {
              "outlinewidth": 0,
              "ticks": ""
             }
            },
            "type": "scattermapbox"
           }
          ],
          "scatterpolar": [
           {
            "marker": {
             "colorbar": {
              "outlinewidth": 0,
              "ticks": ""
             }
            },
            "type": "scatterpolar"
           }
          ],
          "scatterpolargl": [
           {
            "marker": {
             "colorbar": {
              "outlinewidth": 0,
              "ticks": ""
             }
            },
            "type": "scatterpolargl"
           }
          ],
          "scatterternary": [
           {
            "marker": {
             "colorbar": {
              "outlinewidth": 0,
              "ticks": ""
             }
            },
            "type": "scatterternary"
           }
          ],
          "surface": [
           {
            "colorbar": {
             "outlinewidth": 0,
             "ticks": ""
            },
            "colorscale": [
             [
              0,
              "#0d0887"
             ],
             [
              0.1111111111111111,
              "#46039f"
             ],
             [
              0.2222222222222222,
              "#7201a8"
             ],
             [
              0.3333333333333333,
              "#9c179e"
             ],
             [
              0.4444444444444444,
              "#bd3786"
             ],
             [
              0.5555555555555556,
              "#d8576b"
             ],
             [
              0.6666666666666666,
              "#ed7953"
             ],
             [
              0.7777777777777778,
              "#fb9f3a"
             ],
             [
              0.8888888888888888,
              "#fdca26"
             ],
             [
              1,
              "#f0f921"
             ]
            ],
            "type": "surface"
           }
          ],
          "table": [
           {
            "cells": {
             "fill": {
              "color": "#EBF0F8"
             },
             "line": {
              "color": "white"
             }
            },
            "header": {
             "fill": {
              "color": "#C8D4E3"
             },
             "line": {
              "color": "white"
             }
            },
            "type": "table"
           }
          ]
         },
         "layout": {
          "annotationdefaults": {
           "arrowcolor": "#2a3f5f",
           "arrowhead": 0,
           "arrowwidth": 1
          },
          "autotypenumbers": "strict",
          "coloraxis": {
           "colorbar": {
            "outlinewidth": 0,
            "ticks": ""
           }
          },
          "colorscale": {
           "diverging": [
            [
             0,
             "#8e0152"
            ],
            [
             0.1,
             "#c51b7d"
            ],
            [
             0.2,
             "#de77ae"
            ],
            [
             0.3,
             "#f1b6da"
            ],
            [
             0.4,
             "#fde0ef"
            ],
            [
             0.5,
             "#f7f7f7"
            ],
            [
             0.6,
             "#e6f5d0"
            ],
            [
             0.7,
             "#b8e186"
            ],
            [
             0.8,
             "#7fbc41"
            ],
            [
             0.9,
             "#4d9221"
            ],
            [
             1,
             "#276419"
            ]
           ],
           "sequential": [
            [
             0,
             "#0d0887"
            ],
            [
             0.1111111111111111,
             "#46039f"
            ],
            [
             0.2222222222222222,
             "#7201a8"
            ],
            [
             0.3333333333333333,
             "#9c179e"
            ],
            [
             0.4444444444444444,
             "#bd3786"
            ],
            [
             0.5555555555555556,
             "#d8576b"
            ],
            [
             0.6666666666666666,
             "#ed7953"
            ],
            [
             0.7777777777777778,
             "#fb9f3a"
            ],
            [
             0.8888888888888888,
             "#fdca26"
            ],
            [
             1,
             "#f0f921"
            ]
           ],
           "sequentialminus": [
            [
             0,
             "#0d0887"
            ],
            [
             0.1111111111111111,
             "#46039f"
            ],
            [
             0.2222222222222222,
             "#7201a8"
            ],
            [
             0.3333333333333333,
             "#9c179e"
            ],
            [
             0.4444444444444444,
             "#bd3786"
            ],
            [
             0.5555555555555556,
             "#d8576b"
            ],
            [
             0.6666666666666666,
             "#ed7953"
            ],
            [
             0.7777777777777778,
             "#fb9f3a"
            ],
            [
             0.8888888888888888,
             "#fdca26"
            ],
            [
             1,
             "#f0f921"
            ]
           ]
          },
          "colorway": [
           "#636efa",
           "#EF553B",
           "#00cc96",
           "#ab63fa",
           "#FFA15A",
           "#19d3f3",
           "#FF6692",
           "#B6E880",
           "#FF97FF",
           "#FECB52"
          ],
          "font": {
           "color": "#2a3f5f"
          },
          "geo": {
           "bgcolor": "white",
           "lakecolor": "white",
           "landcolor": "#E5ECF6",
           "showlakes": true,
           "showland": true,
           "subunitcolor": "white"
          },
          "hoverlabel": {
           "align": "left"
          },
          "hovermode": "closest",
          "mapbox": {
           "style": "light"
          },
          "paper_bgcolor": "white",
          "plot_bgcolor": "#E5ECF6",
          "polar": {
           "angularaxis": {
            "gridcolor": "white",
            "linecolor": "white",
            "ticks": ""
           },
           "bgcolor": "#E5ECF6",
           "radialaxis": {
            "gridcolor": "white",
            "linecolor": "white",
            "ticks": ""
           }
          },
          "scene": {
           "xaxis": {
            "backgroundcolor": "#E5ECF6",
            "gridcolor": "white",
            "gridwidth": 2,
            "linecolor": "white",
            "showbackground": true,
            "ticks": "",
            "zerolinecolor": "white"
           },
           "yaxis": {
            "backgroundcolor": "#E5ECF6",
            "gridcolor": "white",
            "gridwidth": 2,
            "linecolor": "white",
            "showbackground": true,
            "ticks": "",
            "zerolinecolor": "white"
           },
           "zaxis": {
            "backgroundcolor": "#E5ECF6",
            "gridcolor": "white",
            "gridwidth": 2,
            "linecolor": "white",
            "showbackground": true,
            "ticks": "",
            "zerolinecolor": "white"
           }
          },
          "shapedefaults": {
           "line": {
            "color": "#2a3f5f"
           }
          },
          "ternary": {
           "aaxis": {
            "gridcolor": "white",
            "linecolor": "white",
            "ticks": ""
           },
           "baxis": {
            "gridcolor": "white",
            "linecolor": "white",
            "ticks": ""
           },
           "bgcolor": "#E5ECF6",
           "caxis": {
            "gridcolor": "white",
            "linecolor": "white",
            "ticks": ""
           }
          },
          "title": {
           "x": 0.05
          },
          "xaxis": {
           "automargin": true,
           "gridcolor": "white",
           "linecolor": "white",
           "ticks": "",
           "title": {
            "standoff": 15
           },
           "zerolinecolor": "white",
           "zerolinewidth": 2
          },
          "yaxis": {
           "automargin": true,
           "gridcolor": "white",
           "linecolor": "white",
           "ticks": "",
           "title": {
            "standoff": 15
           },
           "zerolinecolor": "white",
           "zerolinewidth": 2
          }
         }
        },
        "title": {
         "text": "X and Y"
        },
        "xaxis": {
         "autorange": true,
         "range": [
          0.002827220461435784,
          0.017499310150809112
         ],
         "title": {
          "text": "mu"
         },
         "type": "linear"
        },
        "yaxis": {
         "autorange": true,
         "range": [
          -0.11588704917031563,
          1.7460575622671899
         ],
         "type": "linear"
        }
       }
      },
      "image/png": "[encoded data removed]",
      "text/html": [
       "<div>                            <div id=\"cd79f39e-1ce2-419d-af25-3de96d7b5490\" class=\"plotly-graph-div\" style=\"height:525px; width:100%;\"></div>            <script type=\"text/javascript\">                require([\"plotly\"], function(Plotly) {                    window.PLOTLYENV=window.PLOTLYENV || {};                                    if (document.getElementById(\"cd79f39e-1ce2-419d-af25-3de96d7b5490\")) {                    Plotly.newPlot(                        \"cd79f39e-1ce2-419d-af25-3de96d7b5490\",                        [{\"mode\":\"markers\",\"name\":\"x_im_parts\",\"x\":[0.0036326530612244895,0.0036326530612244895,0.0036326530612244895,0.0036326530612244895,0.0040408163265306125,0.0040408163265306125,0.0040408163265306125,0.0040408163265306125,0.004448979591836735,0.004448979591836735,0.004448979591836735,0.004448979591836735,0.004857142857142857,0.004857142857142857,0.004857142857142857,0.004857142857142857,0.005265306122448979,0.005265306122448979,0.005265306122448979,0.005265306122448979,0.005673469387755102,0.005673469387755102,0.005673469387755102,0.005673469387755102,0.006081632653061224,0.006081632653061224,0.006081632653061224,0.006081632653061224,0.006489795918367346,0.006489795918367346,0.006489795918367346,0.006489795918367346,0.006897959183673469,0.006897959183673469,0.006897959183673469,0.006897959183673469,0.007306122448979591,0.007306122448979591,0.007306122448979591,0.007306122448979591,0.0077142857142857135,0.0077142857142857135,0.0077142857142857135,0.0077142857142857135,0.008122448979591836,0.008122448979591836,0.008122448979591836,0.008122448979591836,0.00853061224489796,0.00853061224489796,0.00853061224489796,0.00853061224489796,0.00893877551020408,0.00893877551020408,0.00893877551020408,0.00893877551020408,0.009346938775510204,0.009346938775510204,0.009346938775510204,0.009346938775510204,0.009755102040816326,0.009755102040816326,0.009755102040816326,0.009755102040816326,0.010163265306122448,0.010163265306122448,0.010163265306122448,0.010163265306122448,0.01057142857142857,0.01057142857142857,0.01057142857142857,0.01057142857142857,0.010979591836734692,0.010979591836734692,0.010979591836734692,0.010979591836734692,0.011387755102040816,0.011387755102040816,0.011387755102040816,0.011387755102040816,0.011795918367346938,0.011795918367346938,0.011795918367346938,0.011795918367346938,0.01220408163265306,0.01220408163265306,0.01220408163265306,0.01220408163265306,0.012612244897959183,0.012612244897959183,0.012612244897959183,0.012612244897959183,0.013020408163265305,0.013020408163265305,0.013020408163265305,0.013020408163265305,0.013428571428571427,0.013428571428571427,0.013428571428571427,0.013428571428571427,0.01383673469387755,0.01383673469387755,0.01383673469387755,0.01383673469387755,0.014244897959183673,0.014244897959183673,0.014244897959183673,0.014244897959183673,0.014653061224489795,0.014653061224489795,0.014653061224489795,0.014653061224489795,0.015061224489795917,0.015061224489795917,0.015061224489795917,0.015061224489795917,0.01546938775510204,0.01546938775510204,0.01546938775510204,0.01546938775510204,0.01587755102040816,0.01587755102040816,0.01587755102040816,0.01587755102040816,0.016285714285714285,0.016285714285714285,0.016285714285714285,0.016285714285714285,0.016693877551020406,0.016693877551020406,0.016693877551020406,0.016693877551020406],\"y\":[0.31552230830884315,0.15434108472289987,0.7267479133987186,1.6141698189570333,0.31552230830884315,0.11900326564906234,0.8474902429713198,1.6138969107735568,0.31552230830884315,0.09760194583727363,0.9386845085373721,1.613615089845537,0.31552230830884315,0.08298590932209818,1.0114203890124183,1.6133238287243075,0.31552230830884315,0.07228875099347745,1.071281734698945,1.6130225524471125,0.31552230830884315,0.06408929450031313,1.1216253874018187,1.612710632630242,0.31552230830884315,0.0575901056342075,1.16466503402647,1.6123873806077786,0.31552230830884315,0.05230498015206245,1.201947083066154,1.6120520394232931,0.31552230830884315,0.04791900452820487,1.2345959732266054,1.6117037744345388,0.31552230830884315,0.04421853855537193,1.2634542456949946,1.6113416622300802,0.31552230830884315,0.041053208688533474,1.289168371612142,1.6109646774771023,0.31552230830884315,0.03831393854478577,1.3122441305721444,1.6105716772147283,0.31552230830884315,0.035919594988430795,1.333083790125276,1.610161381967633,0.31552230830884315,0.03380852926034838,1.3520118718451997,1.6097323528670546,0.31552230830884315,0.03193303039287573,1.3692934815294293,1.6092829637108825,0.31552230830884315,0.03025557959672325,1.385147642647625,1.6088113665422628,0.31552230830884315,0.02874625574312099,1.3997571850618835,1.6083154488335483,0.31552230830884315,0.027380897866812668,1.413276207875922,1.6077927796626714,0.31552230830884315,0.02613977810368552,1.425835803761021,1.6072405412579702,0.31552230830884315,0.025006626461888733,1.4375485202661502,1.6066554407988425,0.31552230830884315,0.023967902905530993,1.4485118954678233,1.6060335951214546,0.31552230830884315,0.023012246361349395,1.4588113142985928,1.6053703775340384,0.31552230830884315,0.022130052314043743,1.4685223725223624,1.6046602105034,0.31552230830884315,0.021313145213069398,1.4777128989336779,1.6038962791134406,0.31552230830884315,0.020554521707541237,1.4864447691923983,1.6030701252702726,0.31552230830884315,0.01984814743072435,1.4947756477789458,1.6021710564717466,0.31552230830884315,0.019188794719185102,1.5027608257454912,1.601185254950797,0.31552230830884315,0.01857191194305434,1.51045540264042,1.6000943799012053,0.31552230830884315,0.01799351747814514,1.5179172447402154,1.5988732624970863,0.31552230830884315,0.017450113055637838,1.525211579359715,1.5974858588247522,0.31552230830884315,0.01693861247405059,1.5324191676942902,1.595877537877932,0.31552230830884315,0.01645628258300113,1.539653132808233,1.5939586435561346,0.31552230830884315,0.016000694139841024,1.547100601574282,1.5915631842858768],\"type\":\"scatter\"}],                        {\"template\":{\"data\":{\"histogram2dcontour\":[{\"type\":\"histogram2dcontour\",\"colorbar\":{\"outlinewidth\":0,\"ticks\":\"\"},\"colorscale\":[[0.0,\"#0d0887\"],[0.1111111111111111,\"#46039f\"],[0.2222222222222222,\"#7201a8\"],[0.3333333333333333,\"#9c179e\"],[0.4444444444444444,\"#bd3786\"],[0.5555555555555556,\"#d8576b\"],[0.6666666666666666,\"#ed7953\"],[0.7777777777777778,\"#fb9f3a\"],[0.8888888888888888,\"#fdca26\"],[1.0,\"#f0f921\"]]}],\"choropleth\":[{\"type\":\"choropleth\",\"colorbar\":{\"outlinewidth\":0,\"ticks\":\"\"}}],\"histogram2d\":[{\"type\":\"histogram2d\",\"colorbar\":{\"outlinewidth\":0,\"ticks\":\"\"},\"colorscale\":[[0.0,\"#0d0887\"],[0.1111111111111111,\"#46039f\"],[0.2222222222222222,\"#7201a8\"],[0.3333333333333333,\"#9c179e\"],[0.4444444444444444,\"#bd3786\"],[0.5555555555555556,\"#d8576b\"],[0.6666666666666666,\"#ed7953\"],[0.7777777777777778,\"#fb9f3a\"],[0.8888888888888888,\"#fdca26\"],[1.0,\"#f0f921\"]]}],\"heatmap\":[{\"type\":\"heatmap\",\"colorbar\":{\"outlinewidth\":0,\"ticks\":\"\"},\"colorscale\":[[0.0,\"#0d0887\"],[0.1111111111111111,\"#46039f\"],[0.2222222222222222,\"#7201a8\"],[0.3333333333333333,\"#9c179e\"],[0.4444444444444444,\"#bd3786\"],[0.5555555555555556,\"#d8576b\"],[0.6666666666666666,\"#ed7953\"],[0.7777777777777778,\"#fb9f3a\"],[0.8888888888888888,\"#fdca26\"],[1.0,\"#f0f921\"]]}],\"heatmapgl\":[{\"type\":\"heatmapgl\",\"colorbar\":{\"outlinewidth\":0,\"ticks\":\"\"},\"colorscale\":[[0.0,\"#0d0887\"],[0.1111111111111111,\"#46039f\"],[0.2222222222222222,\"#7201a8\"],[0.3333333333333333,\"#9c179e\"],[0.4444444444444444,\"#bd3786\"],[0.5555555555555556,\"#d8576b\"],[0.6666666666666666,\"#ed7953\"],[0.7777777777777778,\"#fb9f3a\"],[0.8888888888888888,\"#fdca26\"],[1.0,\"#f0f921\"]]}],\"contourcarpet\":[{\"type\":\"contourcarpet\",\"colorbar\":{\"outlinewidth\":0,\"ticks\":\"\"}}],\"contour\":[{\"type\":\"contour\",\"colorbar\":{\"outlinewidth\":0,\"ticks\":\"\"},\"colorscale\":[[0.0,\"#0d0887\"],[0.1111111111111111,\"#46039f\"],[0.2222222222222222,\"#7201a8\"],[0.3333333333333333,\"#9c179e\"],[0.4444444444444444,\"#bd3786\"],[0.5555555555555556,\"#d8576b\"],[0.6666666666666666,\"#ed7953\"],[0.7777777777777778,\"#fb9f3a\"],[0.8888888888888888,\"#fdca26\"],[1.0,\"#f0f921\"]]}],\"surface\":[{\"type\":\"surface\",\"colorbar\":{\"outlinewidth\":0,\"ticks\":\"\"},\"colorscale\":[[0.0,\"#0d0887\"],[0.1111111111111111,\"#46039f\"],[0.2222222222222222,\"#7201a8\"],[0.3333333333333333,\"#9c179e\"],[0.4444444444444444,\"#bd3786\"],[0.5555555555555556,\"#d8576b\"],[0.6666666666666666,\"#ed7953\"],[0.7777777777777778,\"#fb9f3a\"],[0.8888888888888888,\"#fdca26\"],[1.0,\"#f0f921\"]]}],\"mesh3d\":[{\"type\":\"mesh3d\",\"colorbar\":{\"outlinewidth\":0,\"ticks\":\"\"}}],\"scatter\":[{\"fillpattern\":{\"fillmode\":\"overlay\",\"size\":10,\"solidity\":0.2},\"type\":\"scatter\"}],\"parcoords\":[{\"type\":\"parcoords\",\"line\":{\"colorbar\":{\"outlinewidth\":0,\"ticks\":\"\"}}}],\"scatterpolargl\":[{\"type\":\"scatterpolargl\",\"marker\":{\"colorbar\":{\"outlinewidth\":0,\"ticks\":\"\"}}}],\"bar\":[{\"error_x\":{\"color\":\"#2a3f5f\"},\"error_y\":{\"color\":\"#2a3f5f\"},\"marker\":{\"line\":{\"color\":\"#E5ECF6\",\"width\":0.5},\"pattern\":{\"fillmode\":\"overlay\",\"size\":10,\"solidity\":0.2}},\"type\":\"bar\"}],\"scattergeo\":[{\"type\":\"scattergeo\",\"marker\":{\"colorbar\":{\"outlinewidth\":0,\"ticks\":\"\"}}}],\"scatterpolar\":[{\"type\":\"scatterpolar\",\"marker\":{\"colorbar\":{\"outlinewidth\":0,\"ticks\":\"\"}}}],\"histogram\":[{\"marker\":{\"pattern\":{\"fillmode\":\"overlay\",\"size\":10,\"solidity\":0.2}},\"type\":\"histogram\"}],\"scattergl\":[{\"type\":\"scattergl\",\"marker\":{\"colorbar\":{\"outlinewidth\":0,\"ticks\":\"\"}}}],\"scatter3d\":[{\"type\":\"scatter3d\",\"line\":{\"colorbar\":{\"outlinewidth\":0,\"ticks\":\"\"}},\"marker\":{\"colorbar\":{\"outlinewidth\":0,\"ticks\":\"\"}}}],\"scattermapbox\":[{\"type\":\"scattermapbox\",\"marker\":{\"colorbar\":{\"outlinewidth\":0,\"ticks\":\"\"}}}],\"scatterternary\":[{\"type\":\"scatterternary\",\"marker\":{\"colorbar\":{\"outlinewidth\":0,\"ticks\":\"\"}}}],\"scattercarpet\":[{\"type\":\"scattercarpet\",\"marker\":{\"colorbar\":{\"outlinewidth\":0,\"ticks\":\"\"}}}],\"carpet\":[{\"aaxis\":{\"endlinecolor\":\"#2a3f5f\",\"gridcolor\":\"white\",\"linecolor\":\"white\",\"minorgridcolor\":\"white\",\"startlinecolor\":\"#2a3f5f\"},\"baxis\":{\"endlinecolor\":\"#2a3f5f\",\"gridcolor\":\"white\",\"linecolor\":\"white\",\"minorgridcolor\":\"white\",\"startlinecolor\":\"#2a3f5f\"},\"type\":\"carpet\"}],\"table\":[{\"cells\":{\"fill\":{\"color\":\"#EBF0F8\"},\"line\":{\"color\":\"white\"}},\"header\":{\"fill\":{\"color\":\"#C8D4E3\"},\"line\":{\"color\":\"white\"}},\"type\":\"table\"}],\"barpolar\":[{\"marker\":{\"line\":{\"color\":\"#E5ECF6\",\"width\":0.5},\"pattern\":{\"fillmode\":\"overlay\",\"size\":10,\"solidity\":0.2}},\"type\":\"barpolar\"}],\"pie\":[{\"automargin\":true,\"type\":\"pie\"}]},\"layout\":{\"autotypenumbers\":\"strict\",\"colorway\":[\"#636efa\",\"#EF553B\",\"#00cc96\",\"#ab63fa\",\"#FFA15A\",\"#19d3f3\",\"#FF6692\",\"#B6E880\",\"#FF97FF\",\"#FECB52\"],\"font\":{\"color\":\"#2a3f5f\"},\"hovermode\":\"closest\",\"hoverlabel\":{\"align\":\"left\"},\"paper_bgcolor\":\"white\",\"plot_bgcolor\":\"#E5ECF6\",\"polar\":{\"bgcolor\":\"#E5ECF6\",\"angularaxis\":{\"gridcolor\":\"white\",\"linecolor\":\"white\",\"ticks\":\"\"},\"radialaxis\":{\"gridcolor\":\"white\",\"linecolor\":\"white\",\"ticks\":\"\"}},\"ternary\":{\"bgcolor\":\"#E5ECF6\",\"aaxis\":{\"gridcolor\":\"white\",\"linecolor\":\"white\",\"ticks\":\"\"},\"baxis\":{\"gridcolor\":\"white\",\"linecolor\":\"white\",\"ticks\":\"\"},\"caxis\":{\"gridcolor\":\"white\",\"linecolor\":\"white\",\"ticks\":\"\"}},\"coloraxis\":{\"colorbar\":{\"outlinewidth\":0,\"ticks\":\"\"}},\"colorscale\":{\"sequential\":[[0.0,\"#0d0887\"],[0.1111111111111111,\"#46039f\"],[0.2222222222222222,\"#7201a8\"],[0.3333333333333333,\"#9c179e\"],[0.4444444444444444,\"#bd3786\"],[0.5555555555555556,\"#d8576b\"],[0.6666666666666666,\"#ed7953\"],[0.7777777777777778,\"#fb9f3a\"],[0.8888888888888888,\"#fdca26\"],[1.0,\"#f0f921\"]],\"sequentialminus\":[[0.0,\"#0d0887\"],[0.1111111111111111,\"#46039f\"],[0.2222222222222222,\"#7201a8\"],[0.3333333333333333,\"#9c179e\"],[0.4444444444444444,\"#bd3786\"],[0.5555555555555556,\"#d8576b\"],[0.6666666666666666,\"#ed7953\"],[0.7777777777777778,\"#fb9f3a\"],[0.8888888888888888,\"#fdca26\"],[1.0,\"#f0f921\"]],\"diverging\":[[0,\"#8e0152\"],[0.1,\"#c51b7d\"],[0.2,\"#de77ae\"],[0.3,\"#f1b6da\"],[0.4,\"#fde0ef\"],[0.5,\"#f7f7f7\"],[0.6,\"#e6f5d0\"],[0.7,\"#b8e186\"],[0.8,\"#7fbc41\"],[0.9,\"#4d9221\"],[1,\"#276419\"]]},\"xaxis\":{\"gridcolor\":\"white\",\"linecolor\":\"white\",\"ticks\":\"\",\"title\":{\"standoff\":15},\"zerolinecolor\":\"white\",\"automargin\":true,\"zerolinewidth\":2},\"yaxis\":{\"gridcolor\":\"white\",\"linecolor\":\"white\",\"ticks\":\"\",\"title\":{\"standoff\":15},\"zerolinecolor\":\"white\",\"automargin\":true,\"zerolinewidth\":2},\"scene\":{\"xaxis\":{\"backgroundcolor\":\"#E5ECF6\",\"gridcolor\":\"white\",\"linecolor\":\"white\",\"showbackground\":true,\"ticks\":\"\",\"zerolinecolor\":\"white\",\"gridwidth\":2},\"yaxis\":{\"backgroundcolor\":\"#E5ECF6\",\"gridcolor\":\"white\",\"linecolor\":\"white\",\"showbackground\":true,\"ticks\":\"\",\"zerolinecolor\":\"white\",\"gridwidth\":2},\"zaxis\":{\"backgroundcolor\":\"#E5ECF6\",\"gridcolor\":\"white\",\"linecolor\":\"white\",\"showbackground\":true,\"ticks\":\"\",\"zerolinecolor\":\"white\",\"gridwidth\":2}},\"shapedefaults\":{\"line\":{\"color\":\"#2a3f5f\"}},\"annotationdefaults\":{\"arrowcolor\":\"#2a3f5f\",\"arrowhead\":0,\"arrowwidth\":1},\"geo\":{\"bgcolor\":\"white\",\"landcolor\":\"#E5ECF6\",\"subunitcolor\":\"white\",\"showland\":true,\"showlakes\":true,\"lakecolor\":\"white\"},\"title\":{\"x\":0.05},\"mapbox\":{\"style\":\"light\"}}},\"title\":{\"text\":\"X and Y\"},\"xaxis\":{\"title\":{\"text\":\"mu\"}}},                        {\"responsive\": true}                    ).then(function(){\n",
       "                            \n",
       "var gd = document.getElementById('cd79f39e-1ce2-419d-af25-3de96d7b5490');\n",
       "var x = new MutationObserver(function (mutations, observer) {{\n",
       "        var display = window.getComputedStyle(gd).display;\n",
       "        if (!display || display === 'none') {{\n",
       "            console.log([gd, 'removed!']);\n",
       "            Plotly.purge(gd);\n",
       "            observer.disconnect();\n",
       "        }}\n",
       "}});\n",
       "\n",
       "// Listen for the removal of the full notebook cells\n",
       "var notebookContainer = gd.closest('#notebook-container');\n",
       "if (notebookContainer) {{\n",
       "    x.observe(notebookContainer, {childList: true});\n",
       "}}\n",
       "\n",
       "// Listen for the clearing of the current output cell\n",
       "var outputEl = gd.closest('.output');\n",
       "if (outputEl) {{\n",
       "    x.observe(outputEl, {childList: true});\n",
       "}}\n",
       "\n",
       "                        })                };                });            </script>        </div>"
      ]
     },
     "metadata": {},
     "output_type": "display_data"
    }
   ],
   "source": [
    "mu_min = 0.0036\n",
    "mu_max = 0.017\n",
    "xs=[]\n",
    "ys=[]\n",
    "mus_bif = []\n",
    "for cur_mu, sols in list(solutions_by_mu.items()):\n",
    "    for x,y in sols:\n",
    "        if mu_min<cur_mu<mu_max:\n",
    "            mus_bif.append(cur_mu)\n",
    "            xs.append(float(x.as_real_imag()[0]))\n",
    "            ys.append(float(x.as_real_imag()[0]))\n",
    "            \n",
    "fig = go.Figure()\n",
    "fig.add_trace(go.Scatter(x=mus_bif, y=ys, mode='markers', name = \"x_im_parts\"))\n",
    "# fig.add_trace(go.Scatter(x=mus_for_im, y=y_im_parts, mode='markers', name = \"y_im_parts\"))\n",
    "fig.update_layout(title=\"X and Y\")\n",
    "fig.update_layout(xaxis={\"title\": \"mu\"})"
   ]
  }
 ],
 "metadata": {
  "colab": {
   "provenance": []
  },
  "kernelspec": {
   "display_name": "Python 3 (ipykernel)",
   "language": "python",
   "name": "python3"
  },
  "language_info": {
   "codemirror_mode": {
    "name": "ipython",
    "version": 3
   },
   "file_extension": ".py",
   "mimetype": "text/x-python",
   "name": "python",
   "nbconvert_exporter": "python",
   "pygments_lexer": "ipython3",
   "version": "3.10.6"
  },
  "vscode": {
   "interpreter": {
    "hash": "369f2c481f4da34e4445cda3fffd2e751bd1c4d706f27375911949ba6bb62e1c"
   }
  },
  "widgets": {
   "application/vnd.jupyter.widget-state+json": {
    "state": {},
    "version_major": 2,
    "version_minor": 0
   }
  }
 },
 "nbformat": 4,
 "nbformat_minor": 4
}

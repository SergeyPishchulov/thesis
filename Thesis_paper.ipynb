{
 "cells": [
  {
   "cell_type": "code",
   "execution_count": 46,
   "metadata": {
    "id": "FAx5T0k-MuER"
   },
   "outputs": [],
   "source": [
    "from sympy import *\n",
    "from IPython.display import display, Math\n",
    "import numpy as np\n",
    "init_printing(use_unicode=True)\n"
   ]
  },
  {
   "cell_type": "code",
   "execution_count": 47,
   "metadata": {
    "id": "KvGMScMINuKD"
   },
   "outputs": [],
   "source": [
    "from sympy import solve\n",
    "x, y, sigma, mu, delta, alpha, beta, ro, eta, b, lambd = symbols(\n",
    "    'x y σ μ δ α β ρ η b λ')\n",
    "sigma_c = 0.1181\n",
    "ro_c = 1.31\n",
    "eta_c = 20.19\n",
    "alpha_c = 1.636\n",
    "beta_c = 0.002\n",
    "delta_c = 0.3743\n",
    "mu_c = 0.005\n",
    "b_c = 0\n",
    "\n",
    "dxdt = sigma + ro*x*y/(eta + y) - mu*x*y - delta*x\n",
    "dydt = alpha*y*(1-beta*y)-x*y-(b*y)/(1+y)\n",
    "\n",
    "concrete_params = {ro: ro_c, sigma: sigma_c, eta: eta_c, b: b_c,\n",
    "                   alpha: alpha_c, beta: beta_c, mu: mu_c, delta: delta_c}\n",
    "muless_params = dict(concrete_params)\n",
    "del muless_params[mu]\n"
   ]
  },
  {
   "cell_type": "code",
   "execution_count": 48,
   "metadata": {},
   "outputs": [
    {
     "data": {
      "text/latex": [
       "$\\displaystyle \\dfrac{dx}{dt} = - x y μ + \\frac{x y ρ}{y + η} - x δ + σ$"
      ],
      "text/plain": [
       "<IPython.core.display.Math object>"
      ]
     },
     "metadata": {},
     "output_type": "display_data"
    },
    {
     "data": {
      "text/latex": [
       "$\\displaystyle \\dfrac{dy}{dt} = - \\frac{b y}{y + 1} - x y + y α \\left(- y β + 1\\right)$"
      ],
      "text/plain": [
       "<IPython.core.display.Math object>"
      ]
     },
     "metadata": {},
     "output_type": "display_data"
    }
   ],
   "source": [
    "display(Math('\\dfrac{dx}{dt} = ' + latex(dxdt)))\n",
    "display(Math('\\dfrac{dy}{dt} = ' + latex(dydt)))"
   ]
  },
  {
   "cell_type": "markdown",
   "metadata": {},
   "source": [
    "### Точки равновесия"
   ]
  },
  {
   "cell_type": "markdown",
   "metadata": {},
   "source": [
    "### 1"
   ]
  },
  {
   "cell_type": "code",
   "execution_count": 49,
   "metadata": {},
   "outputs": [
    {
     "data": {
      "text/latex": [
       "$\\displaystyle x = \\frac{σ}{δ}$"
      ],
      "text/plain": [
       "<IPython.core.display.Math object>"
      ]
     },
     "metadata": {},
     "output_type": "display_data"
    },
    {
     "data": {
      "text/latex": [
       "$\\displaystyle y = 0$"
      ],
      "text/plain": [
       "<IPython.core.display.Math object>"
      ]
     },
     "metadata": {},
     "output_type": "display_data"
    }
   ],
   "source": [
    "display(Math('x = ' + latex(sigma/delta)))\n",
    "display(Math('y = 0' )) # Решение не зависит от μ"
   ]
  },
  {
   "cell_type": "code",
   "execution_count": 50,
   "metadata": {},
   "outputs": [],
   "source": [
    "# Остаьные равновесия аналитически не найти. Полином 5 степени."
   ]
  },
  {
   "cell_type": "code",
   "execution_count": 51,
   "metadata": {},
   "outputs": [],
   "source": [
    "def get_solutions(cur_mu=concrete_params[mu]):\n",
    "    params = dict(concrete_params)\n",
    "    params[mu] = cur_mu\n",
    "    return solve([dxdt.subs(params), dydt.subs(params)], x,y)"
   ]
  },
  {
   "cell_type": "code",
   "execution_count": 52,
   "metadata": {},
   "outputs": [],
   "source": [
    "def display_solutions(sols):\n",
    "    for s in sols:\n",
    "        display(s)"
   ]
  },
  {
   "cell_type": "code",
   "execution_count": 53,
   "metadata": {},
   "outputs": [],
   "source": [
    "solutions = get_solutions()"
   ]
  },
  {
   "cell_type": "code",
   "execution_count": 54,
   "metadata": {},
   "outputs": [
    {
     "data": {
      "image/png": "[encoded data removed]",
      "text/latex": [
       "$\\displaystyle \\left( 0.315522308308843, \\  0.0\\right)$"
      ],
      "text/plain": [
       "(0.315522308308843, 0.0)"
      ]
     },
     "metadata": {},
     "output_type": "display_data"
    },
    {
     "data": {
      "image/png": "[encoded data removed]",
      "text/latex": [
       "$\\displaystyle \\left( 0.078887625072352 - 8.0 \\cdot 10^{-31} i, \\  475.890090136812 - 1.0 \\cdot 10^{-19} i\\right)$"
      ],
      "text/plain": [
       "(0.078887625072352 - 0.e-30⋅ⅈ, 475.890090136812 - 0.e-19⋅ⅈ)"
      ]
     },
     "metadata": {},
     "output_type": "display_data"
    },
    {
     "data": {
      "image/png": "[encoded data removed]",
      "text/latex": [
       "$\\displaystyle \\left( 1.03363242270249 - 8.0 \\cdot 10^{-22} i, \\  184.097670323198 + 2.0 \\cdot 10^{-18} i\\right)$"
      ],
      "text/plain": [
       "(1.03363242270249 - 0.e-21⋅ⅈ, 184.097670323198 + 0.e-18⋅ⅈ)"
      ]
     },
     "metadata": {},
     "output_type": "display_data"
    },
    {
     "data": {
      "image/png": "[encoded data removed]",
      "text/latex": [
       "$\\displaystyle \\left( 1.61321955222515 + 8.0 \\cdot 10^{-22} i, \\  6.96223953998984 + 9.0 \\cdot 10^{-19} i\\right)$"
      ],
      "text/plain": [
       "(1.61321955222515 + 0.e-21⋅ⅈ, 6.96223953998984 + 0.e-18⋅ⅈ)"
      ]
     },
     "metadata": {},
     "output_type": "display_data"
    }
   ],
   "source": [
    "for s in solutions:\n",
    "    display(s)"
   ]
  },
  {
   "cell_type": "markdown",
   "metadata": {
    "id": "Q4GBIi7qXzTF"
   },
   "source": [
    "### Матрица первого приближения"
   ]
  },
  {
   "cell_type": "markdown",
   "metadata": {},
   "source": [
    "#### Частные производные"
   ]
  },
  {
   "cell_type": "code",
   "execution_count": 12,
   "metadata": {},
   "outputs": [],
   "source": [
    "dfdx = diff(dxdt, x)\n",
    "dfdy = diff(dxdt, y)\n",
    "dgdx = diff(dydt, x)\n",
    "dgdy = diff(dydt, y)\n"
   ]
  },
  {
   "cell_type": "code",
   "execution_count": 13,
   "metadata": {},
   "outputs": [
    {
     "data": {
      "text/latex": [
       "$\\displaystyle \\dfrac{df}{dx} = - y μ + \\frac{y ρ}{y + η} - δ$"
      ],
      "text/plain": [
       "<IPython.core.display.Math object>"
      ]
     },
     "metadata": {},
     "output_type": "display_data"
    },
    {
     "data": {
      "text/latex": [
       "$\\displaystyle \\dfrac{df}{dy} = - \\frac{x y ρ}{\\left(y + η\\right)^{2}} - x μ + \\frac{x ρ}{y + η}$"
      ],
      "text/plain": [
       "<IPython.core.display.Math object>"
      ]
     },
     "metadata": {},
     "output_type": "display_data"
    },
    {
     "data": {
      "text/latex": [
       "$\\displaystyle \\dfrac{dg}{dx} = - y$"
      ],
      "text/plain": [
       "<IPython.core.display.Math object>"
      ]
     },
     "metadata": {},
     "output_type": "display_data"
    },
    {
     "data": {
      "text/latex": [
       "$\\displaystyle \\dfrac{dg}{dy} = - \\frac{x y ρ}{\\left(y + η\\right)^{2}} - x μ + \\frac{x ρ}{y + η}$"
      ],
      "text/plain": [
       "<IPython.core.display.Math object>"
      ]
     },
     "metadata": {},
     "output_type": "display_data"
    }
   ],
   "source": [
    "display(Math('\\dfrac{df}{dx} = ' + latex(dfdx)))\n",
    "display(Math('\\dfrac{df}{dy} = ' + latex(dfdy)))\n",
    "display(Math('\\dfrac{dg}{dx} = ' + latex(dgdx)))\n",
    "display(Math('\\dfrac{dg}{dy} = ' + latex(dfdy)))\n"
   ]
  },
  {
   "cell_type": "markdown",
   "metadata": {},
   "source": [
    "Частные производные в точке равновесия"
   ]
  },
  {
   "cell_type": "code",
   "execution_count": 14,
   "metadata": {},
   "outputs": [
    {
     "ename": "NameError",
     "evalue": "name 'eqilibrium' is not defined",
     "output_type": "error",
     "traceback": [
      "\u001b[1;31m---------------------------------------------------------------------------\u001b[0m",
      "\u001b[1;31mNameError\u001b[0m                                 Traceback (most recent call last)",
      "Input \u001b[1;32mIn [14]\u001b[0m, in \u001b[0;36m<cell line: 1>\u001b[1;34m()\u001b[0m\n\u001b[1;32m----> 1\u001b[0m a11 \u001b[38;5;241m=\u001b[39m dfdx\u001b[38;5;241m.\u001b[39mevalf(subs\u001b[38;5;241m=\u001b[39m{\u001b[38;5;241m*\u001b[39m\u001b[38;5;241m*\u001b[39m\u001b[43meqilibrium\u001b[49m, \u001b[38;5;241m*\u001b[39m\u001b[38;5;241m*\u001b[39mmuless_params})\n\u001b[0;32m      2\u001b[0m a12 \u001b[38;5;241m=\u001b[39m dfdy\u001b[38;5;241m.\u001b[39mevalf(subs\u001b[38;5;241m=\u001b[39m{\u001b[38;5;241m*\u001b[39m\u001b[38;5;241m*\u001b[39meqilibrium, \u001b[38;5;241m*\u001b[39m\u001b[38;5;241m*\u001b[39mmuless_params})\n\u001b[0;32m      3\u001b[0m a21 \u001b[38;5;241m=\u001b[39m dgdx\u001b[38;5;241m.\u001b[39mevalf(subs\u001b[38;5;241m=\u001b[39m{\u001b[38;5;241m*\u001b[39m\u001b[38;5;241m*\u001b[39meqilibrium, \u001b[38;5;241m*\u001b[39m\u001b[38;5;241m*\u001b[39mmuless_params})\n",
      "\u001b[1;31mNameError\u001b[0m: name 'eqilibrium' is not defined"
     ]
    }
   ],
   "source": [
    "a11 = dfdx.evalf(subs={**eqilibrium, **muless_params})\n",
    "a12 = dfdy.evalf(subs={**eqilibrium, **muless_params})\n",
    "a21 = dgdx.evalf(subs={**eqilibrium, **muless_params})\n",
    "a22 = dgdy.evalf(subs={**eqilibrium, **muless_params})\n"
   ]
  },
  {
   "cell_type": "code",
   "execution_count": null,
   "metadata": {},
   "outputs": [],
   "source": [
    "jacob_matrix = Matrix([[a11, a12], [a21, a22]])\n",
    "jacob_matrix\n"
   ]
  },
  {
   "cell_type": "code",
   "execution_count": null,
   "metadata": {},
   "outputs": [],
   "source": [
    "j = jacob_matrix - np.eye(2) * lambd\n",
    "j\n"
   ]
  },
  {
   "cell_type": "code",
   "execution_count": null,
   "metadata": {},
   "outputs": [],
   "source": [
    "j.det()\n"
   ]
  },
  {
   "cell_type": "code",
   "execution_count": null,
   "metadata": {},
   "outputs": [],
   "source": [
    "lam1, lam2 = solve(j.det(), lambd)\n",
    "lam1, lam2"
   ]
  },
  {
   "cell_type": "markdown",
   "metadata": {},
   "source": [
    "##### λ ∈ R разных знаков. Седло"
   ]
  },
  {
   "cell_type": "markdown",
   "metadata": {},
   "source": [
    "#### Бифуркационная диаграмма"
   ]
  },
  {
   "cell_type": "code",
   "execution_count": 55,
   "metadata": {},
   "outputs": [
    {
     "data": {
      "text/plain": [
       "array([0.002 , 0.0022, 0.0024, 0.0026, 0.0028, 0.003 , 0.0032, 0.0034,\n",
       "       0.0036, 0.0038, 0.004 , 0.0042, 0.0044, 0.0046, 0.0048, 0.005 ,\n",
       "       0.0052, 0.0054, 0.0056, 0.0058, 0.006 , 0.0062, 0.0064, 0.0066,\n",
       "       0.0068, 0.007 , 0.0072, 0.0074, 0.0076, 0.0078, 0.008 , 0.0082,\n",
       "       0.0084, 0.0086, 0.0088, 0.009 , 0.0092, 0.0094, 0.0096, 0.0098,\n",
       "       0.01  , 0.0102, 0.0104, 0.0106, 0.0108, 0.011 , 0.0112, 0.0114,\n",
       "       0.0116, 0.0118, 0.012 , 0.0122, 0.0124, 0.0126, 0.0128, 0.013 ,\n",
       "       0.0132, 0.0134, 0.0136, 0.0138, 0.014 , 0.0142, 0.0144, 0.0146,\n",
       "       0.0148, 0.015 , 0.0152, 0.0154, 0.0156, 0.0158, 0.016 , 0.0162,\n",
       "       0.0164, 0.0166, 0.0168, 0.017 , 0.0172, 0.0174, 0.0176, 0.0178,\n",
       "       0.018 , 0.0182, 0.0184, 0.0186, 0.0188, 0.019 , 0.0192, 0.0194,\n",
       "       0.0196, 0.0198, 0.02  , 0.0202, 0.0204, 0.0206, 0.0208, 0.021 ,\n",
       "       0.0212, 0.0214, 0.0216, 0.0218, 0.022 ])"
      ]
     },
     "execution_count": 55,
     "metadata": {},
     "output_type": "execute_result"
    }
   ],
   "source": [
    "mus = np.linspace(0.002, 0.022, 101)\n",
    "mus"
   ]
  },
  {
   "cell_type": "code",
   "execution_count": 56,
   "metadata": {},
   "outputs": [],
   "source": [
    "from tqdm import tqdm"
   ]
  },
  {
   "cell_type": "code",
   "execution_count": 57,
   "metadata": {},
   "outputs": [
    {
     "name": "stderr",
     "output_type": "stream",
     "text": [
      "100%|████████████████████████████████████████████████████████████████████████████████| 101/101 [04:11<00:00,  2.49s/it]\n"
     ]
    }
   ],
   "source": [
    "xs=[]\n",
    "ys = []\n",
    "mul = []\n",
    "solutions_by_mu={}\n",
    "for cur_mu in tqdm(mus):\n",
    "    solutions = get_solutions(cur_mu)\n",
    "    solutions_by_mu[cur_mu]= solutions\n",
    "    for s in solutions:\n",
    "        if s[1]!=0:# and s[1].as_real_imag()[1]==0:#real\n",
    "            ys.append(s[1].as_real_imag()[0])\n",
    "            mul.append(cur_mu)\n",
    "            \n",
    "    "
   ]
  },
  {
   "cell_type": "code",
   "execution_count": 62,
   "metadata": {},
   "outputs": [],
   "source": [
    "# for cur_mu, sols in list(solutions_by_mu.items())[-30:]:\n",
    "#     print(f\"mu = {cur_mu}\")\n",
    "#     display_solutions(sols)\n",
    "#     display(\"*\"*20)"
   ]
  },
  {
   "cell_type": "code",
   "execution_count": 63,
   "metadata": {},
   "outputs": [],
   "source": [
    "ys=list(map(float, ys))"
   ]
  },
  {
   "cell_type": "code",
   "execution_count": 22,
   "metadata": {},
   "outputs": [],
   "source": [
    "import plotly.express as px"
   ]
  },
  {
   "cell_type": "code",
   "execution_count": 59,
   "metadata": {},
   "outputs": [
    {
     "data": {
      "application/vnd.plotly.v1+json": {
       "config": {
        "plotlyServerURL": "https://plot.ly"
       },
       "data": [
        {
         "hovertemplate": "x=%{x}<br>y=%{y}<extra></extra>",
         "legendgroup": "",
         "marker": {
          "color": "#636efa",
          "symbol": "circle"
         },
         "mode": "markers",
         "name": "",
         "orientation": "v",
         "showlegend": false,
         "type": "scatter",
         "x": [
          0.002,
          0.002,
          0.002,
          0.0022,
          0.0022,
          0.0022,
          0.0024000000000000002,
          0.0024000000000000002,
          0.0024000000000000002,
          0.0026,
          0.0026,
          0.0026,
          0.0028,
          0.0028,
          0.0028,
          0.003,
          0.003,
          0.003,
          0.0031999999999999997,
          0.0031999999999999997,
          0.0031999999999999997,
          0.0034,
          0.0034,
          0.0034,
          0.0036,
          0.0036,
          0.0036,
          0.0038,
          0.0038,
          0.0038,
          0.004,
          0.004,
          0.004,
          0.0042,
          0.0042,
          0.0042,
          0.004399999999999999,
          0.004399999999999999,
          0.004399999999999999,
          0.0046,
          0.0046,
          0.0046,
          0.0048,
          0.0048,
          0.0048,
          0.004999999999999999,
          0.004999999999999999,
          0.004999999999999999,
          0.0052,
          0.0052,
          0.0052,
          0.0054,
          0.0054,
          0.0054,
          0.0056,
          0.0056,
          0.0056,
          0.0058,
          0.0058,
          0.0058,
          0.006,
          0.006,
          0.006,
          0.0062,
          0.0062,
          0.0062,
          0.0063999999999999994,
          0.0063999999999999994,
          0.0063999999999999994,
          0.0066,
          0.0066,
          0.0066,
          0.0068,
          0.0068,
          0.0068,
          0.006999999999999999,
          0.006999999999999999,
          0.006999999999999999,
          0.0072,
          0.0072,
          0.0072,
          0.0073999999999999995,
          0.0073999999999999995,
          0.0073999999999999995,
          0.007599999999999999,
          0.007599999999999999,
          0.007599999999999999,
          0.0078,
          0.0078,
          0.0078,
          0.008,
          0.008,
          0.008,
          0.008199999999999999,
          0.008199999999999999,
          0.008199999999999999,
          0.0084,
          0.0084,
          0.0084,
          0.0086,
          0.0086,
          0.0086,
          0.008799999999999999,
          0.008799999999999999,
          0.008799999999999999,
          0.009,
          0.009,
          0.009,
          0.0092,
          0.0092,
          0.0092,
          0.009399999999999999,
          0.009399999999999999,
          0.009399999999999999,
          0.0096,
          0.0096,
          0.0096,
          0.0098,
          0.0098,
          0.0098,
          0.01,
          0.01,
          0.01,
          0.010199999999999999,
          0.010199999999999999,
          0.010199999999999999,
          0.0104,
          0.0104,
          0.0104,
          0.0106,
          0.0106,
          0.0106,
          0.010799999999999999,
          0.010799999999999999,
          0.010799999999999999,
          0.011,
          0.011,
          0.011,
          0.0112,
          0.0112,
          0.0112,
          0.011399999999999999,
          0.011399999999999999,
          0.011399999999999999,
          0.0116,
          0.0116,
          0.0116,
          0.0118,
          0.0118,
          0.0118,
          0.011999999999999999,
          0.011999999999999999,
          0.011999999999999999,
          0.012199999999999999,
          0.012199999999999999,
          0.012199999999999999,
          0.0124,
          0.0124,
          0.0124,
          0.012599999999999998,
          0.012599999999999998,
          0.012599999999999998,
          0.012799999999999999,
          0.012799999999999999,
          0.012799999999999999,
          0.013,
          0.013,
          0.013,
          0.013199999999999998,
          0.013199999999999998,
          0.013199999999999998,
          0.013399999999999999,
          0.013399999999999999,
          0.013399999999999999,
          0.0136,
          0.0136,
          0.0136,
          0.0138,
          0.0138,
          0.0138,
          0.013999999999999999,
          0.013999999999999999,
          0.013999999999999999,
          0.014199999999999999,
          0.014199999999999999,
          0.014199999999999999,
          0.0144,
          0.0144,
          0.0144,
          0.014599999999999998,
          0.014599999999999998,
          0.014599999999999998,
          0.014799999999999999,
          0.014799999999999999,
          0.014799999999999999,
          0.015,
          0.015,
          0.015,
          0.015199999999999998,
          0.015199999999999998,
          0.015199999999999998,
          0.015399999999999999,
          0.015399999999999999,
          0.015399999999999999,
          0.0156,
          0.0156,
          0.0156,
          0.015799999999999998,
          0.015799999999999998,
          0.015799999999999998,
          0.016,
          0.016,
          0.016,
          0.0162,
          0.0162,
          0.0162,
          0.016399999999999998,
          0.016399999999999998,
          0.016399999999999998,
          0.016599999999999997,
          0.016599999999999997,
          0.016599999999999997,
          0.0168,
          0.0168,
          0.0168,
          0.017,
          0.017,
          0.017,
          0.0172,
          0.0172,
          0.0172,
          0.0174,
          0.0174,
          0.0174,
          0.017599999999999998,
          0.017599999999999998,
          0.017599999999999998,
          0.017799999999999996,
          0.017799999999999996,
          0.017799999999999996,
          0.018000000000000002,
          0.018000000000000002,
          0.018000000000000002,
          0.0182,
          0.0182,
          0.0182,
          0.0184,
          0.0184,
          0.0184,
          0.0186,
          0.0186,
          0.0186,
          0.018799999999999997,
          0.018799999999999997,
          0.018799999999999997,
          0.018999999999999996,
          0.018999999999999996,
          0.018999999999999996,
          0.019200000000000002,
          0.019200000000000002,
          0.019200000000000002,
          0.0194,
          0.0194,
          0.0194,
          0.0196,
          0.0196,
          0.0196,
          0.019799999999999998,
          0.019799999999999998,
          0.019799999999999998,
          0.019999999999999997,
          0.019999999999999997,
          0.019999999999999997,
          0.020199999999999996,
          0.020199999999999996,
          0.020199999999999996,
          0.0204,
          0.0204,
          0.0204,
          0.0206,
          0.0206,
          0.0206,
          0.0208,
          0.0208,
          0.0208,
          0.020999999999999998,
          0.020999999999999998,
          0.020999999999999998,
          0.021199999999999997,
          0.021199999999999997,
          0.021199999999999997,
          0.021399999999999995,
          0.021399999999999995,
          0.021399999999999995,
          0.0216,
          0.0216,
          0.0216,
          0.0218,
          0.0218,
          0.0218,
          0.022,
          0.022,
          0.022
         ],
         "xaxis": "x",
         "y": [
          6.362628884775614,
          470.64868555761217,
          470.64868555761217,
          6.398564407246554,
          449.3648087054676,
          449.3648087054676,
          6.435013564278319,
          431.62499321786083,
          431.62499321786083,
          6.4719893192606746,
          416.61131303267734,
          416.61131303267734,
          6.509505122578262,
          403.73953315299656,
          403.73953315299656,
          6.547574936325697,
          392.58121253183714,
          392.58121253183714,
          425.7195713730568,
          339.9104653663249,
          6.58621326061832,
          442.2682278858408,
          306.1222193054759,
          6.625435161624523,
          451.6313499540848,
          281.4300604111245,
          6.665256301457381,
          458.03729275417805,
          261.3038563810087,
          6.705692970076389,
          462.79947713572335,
          244.18876074491197,
          6.746762119364687,
          466.518072217435,
          229.289160668716,
          6.788481399563298,
          469.5201917790911,
          216.11802993173788,
          6.8308691982619445,
          472.0038752182847,
          204.34522357781006,
          6.873944682166106,
          474.09782205644944,
          193.7319501016681,
          6.9177278418824395,
          475.89009013681175,
          184.09767032319843,
          6.962239539989837,
          477.4433497023235,
          175.30145642729263,
          7.0075015626915595,
          478.80361822799455,
          167.23062287440766,
          7.0535366753755575,
          480.00555770359966,
          159.79335932824037,
          7.100368682445676,
          481.0758376306646,
          152.9137260844054,
          7.148022491826583,
          482.03535147828165,
          146.5281243371278,
          7.196524184590551,
          482.9007238783156,
          140.58272987018853,
          7.245901090205515,
          483.68536309658543,
          135.0315800354527,
          7.296181867961892,
          484.4002129669353,
          129.83511771059023,
          7.3473965952017135,
          485.05430091599806,
          124.95906339742382,
          7.399576863048705,
          485.655144438374,
          120.37352825263082,
          7.452755880423762,
          486.2090573117433,
          116.05230743436175,
          7.506968587228232,
          486.7213835154524,
          111.9723106528037,
          7.562251777689866,
          487.1966781754574,
          108.11309864217876,
          7.618644234995426,
          487.63884913025015,
          104.45650245280558,
          7.676186878482701,
          488.05126883865717,
          100.98630823650623,
          7.734922924836587,
          488.4368636834186,
          97.68799434920948,
          7.7948980649329185,
          488.7981858581872,
          94.54851062646492,
          7.856160658205019,
          489.13747170013966,
          91.55609193457832,
          7.918761946677357,
          489.4566893761756,
          88.7000997872443,
          7.982756291125565,
          489.7575781350963,
          85.97088709937901,
          8.048201432191355,
          490.04168082522654,
          83.35968213418874,
          8.115158779715173,
          490.31037099465277,
          80.85848846277423,
          8.18369373406233,
          490.5648756034889,
          78.4599983526851,
          8.253876043826036,
          490.8062941589617,
          76.15751747275932,
          8.325780205013675,
          491.0356149165864,
          73.94489917572751,
          8.399485907686113,
          491.2537286612844,
          71.81648691930727,
          8.475078537055362,
          491.46144048156634,
          69.7670636272939,
          8.552649737293638,
          491.65947987092835,
          67.7918069869151,
          8.632298047816903,
          491.84850942828865,
          65.88624983695748,
          8.71412962364278,
          492.02913237978225,
          64.04624493018581,
          8.798259053668321,
          492.20189910468235,
          62.26793345898684,
          8.884810293473683,
          492.3673128164267,
          60.54771681932365,
          8.973917732670712,
          492.525834524048,
          58.882231158339344,
          9.065727421060963,
          492.67788737845103,
          57.26832430785771,
          9.160398483182762,
          492.8238604909606,
          55.70303475151237,
          9.258104757527008,
          492.9641122976089,
          54.18357230865773,
          9.359036705208778,
          493.0989735311425,
          52.707300244443864,
          9.463403643768448,
          493.22874985322454,
          51.271718532857264,
          9.571436375822971,
          493.3537241914164,
          49.874448008009104,
          9.683390300574471,
          493.4741588189483,
          48.513215137758515,
          9.799549120216293,
          493.59029720978043,
          47.18583714139551,
          9.920229285187695,
          493.7023656968407,
          45.890207147044,
          10.045785365070532,
          493.81057495742635,
          44.62427904067703,
          10.176616590131884,
          493.9151213464704,
          43.38605159097311,
          10.313174888643406,
          494.01618809557965,
          42.17355133315786,
          10.455974856976773,
          494.1139463933793,
          40.98481354570302,
          10.605606258100778,
          494.208556360674,
          39.817860433091276,
          10.762749872901415,
          494.3001679322019,
          38.67067529866029,
          10.928197865028256,
          494.3889216552739,
          37.541170993010056,
          11.102880324689014,
          494.4749494143116,
          36.427150153421124,
          11.287900432267273,
          494.55837508919507,
          35.326253531282,
          11.484581905838727,
          494.63931515438077,
          34.23589072071168,
          11.694534384647811,
          494.7178792249233,
          33.15314426188525,
          11.919745743960686,
          494.7941705548188,
          32.074632246054314,
          12.162716186468698,
          494.8682864924641,
          30.9963038311979,
          12.426659676337966,
          494.94031889748277,
          29.913121317013584,
          12.715819044762892,
          495.0103545226911,
          28.818539438890703,
          13.03598408719867,
          495.07847536456507,
          27.703595819495476,
          13.39539869545753,
          495.1447589851998,
          26.55518448915398,
          13.806485097074784,
          495.20927880843493,
          25.352386076958666,
          14.289511585194653,
          495.27210439253446,
          24.0572576291273,
          14.88180076903592,
          495.3333016815618,
          22.584331824412455,
          15.668228562991233,
          495.39293323736865,
          20.608995278217634,
          16.97284421168645,
          495.45105845392163,
          18.463178638207726,
          18.463178638207726,
          495.5077337555183,
          18.142799788907517,
          18.142799788907517,
          495.5630127802883,
          17.829537565899784,
          17.829537565899784,
          495.6169465502408,
          17.52315715966221,
          17.52315715966221,
          495.66958362899504,
          17.223433991954085,
          17.223433991954085,
          495.7209702682251,
          16.9301531637598,
          16.9301531637598,
          495.7711505437488,
          16.643108938651928,
          16.643108938651928,
          495.8201664821076,
          16.36210425894619,
          16.36210425894619,
          495.8680581784036,
          16.086950292241504,
          16.086950292241504,
          495.91486390609043,
          15.817466006138453,
          15.817466006138453,
          495.9606202193536,
          15.553477769111078,
          15.553477769111078,
          496.00536204865637,
          15.294818975671818,
          15.294818975671818,
          496.0491227899791,
          15.041329694119375,
          15.041329694119375,
          496.0919343882322,
          14.79285633529567,
          14.79285633529567,
          496.1338274152825,
          14.549251340902442,
          14.549251340902442,
          496.1748311429944,
          14.310372890041283,
          14.310372890041283,
          496.21497361165393,
          14.07608462274447,
          14.07608462274447,
          496.25428169411344,
          13.846255379358377,
          13.846255379358377,
          496.2927811559651,
          13.620758954727727,
          13.620758954727727,
          496.3304967120283,
          13.399473866208051,
          13.399473866208051,
          496.3674520794115,
          13.182283134606157,
          13.182283134606157,
          496.40367002738844,
          12.969074077214872,
          12.969074077214872
         ],
         "yaxis": "y"
        }
       ],
       "layout": {
        "autosize": true,
        "legend": {
         "tracegroupgap": 0
        },
        "margin": {
         "t": 60
        },
        "template": {
         "data": {
          "bar": [
           {
            "error_x": {
             "color": "#2a3f5f"
            },
            "error_y": {
             "color": "#2a3f5f"
            },
            "marker": {
             "line": {
              "color": "#E5ECF6",
              "width": 0.5
             },
             "pattern": {
              "fillmode": "overlay",
              "size": 10,
              "solidity": 0.2
             }
            },
            "type": "bar"
           }
          ],
          "barpolar": [
           {
            "marker": {
             "line": {
              "color": "#E5ECF6",
              "width": 0.5
             },
             "pattern": {
              "fillmode": "overlay",
              "size": 10,
              "solidity": 0.2
             }
            },
            "type": "barpolar"
           }
          ],
          "carpet": [
           {
            "aaxis": {
             "endlinecolor": "#2a3f5f",
             "gridcolor": "white",
             "linecolor": "white",
             "minorgridcolor": "white",
             "startlinecolor": "#2a3f5f"
            },
            "baxis": {
             "endlinecolor": "#2a3f5f",
             "gridcolor": "white",
             "linecolor": "white",
             "minorgridcolor": "white",
             "startlinecolor": "#2a3f5f"
            },
            "type": "carpet"
           }
          ],
          "choropleth": [
           {
            "colorbar": {
             "outlinewidth": 0,
             "ticks": ""
            },
            "type": "choropleth"
           }
          ],
          "contour": [
           {
            "colorbar": {
             "outlinewidth": 0,
             "ticks": ""
            },
            "colorscale": [
             [
              0,
              "#0d0887"
             ],
             [
              0.1111111111111111,
              "#46039f"
             ],
             [
              0.2222222222222222,
              "#7201a8"
             ],
             [
              0.3333333333333333,
              "#9c179e"
             ],
             [
              0.4444444444444444,
              "#bd3786"
             ],
             [
              0.5555555555555556,
              "#d8576b"
             ],
             [
              0.6666666666666666,
              "#ed7953"
             ],
             [
              0.7777777777777778,
              "#fb9f3a"
             ],
             [
              0.8888888888888888,
              "#fdca26"
             ],
             [
              1,
              "#f0f921"
             ]
            ],
            "type": "contour"
           }
          ],
          "contourcarpet": [
           {
            "colorbar": {
             "outlinewidth": 0,
             "ticks": ""
            },
            "type": "contourcarpet"
           }
          ],
          "heatmap": [
           {
            "colorbar": {
             "outlinewidth": 0,
             "ticks": ""
            },
            "colorscale": [
             [
              0,
              "#0d0887"
             ],
             [
              0.1111111111111111,
              "#46039f"
             ],
             [
              0.2222222222222222,
              "#7201a8"
             ],
             [
              0.3333333333333333,
              "#9c179e"
             ],
             [
              0.4444444444444444,
              "#bd3786"
             ],
             [
              0.5555555555555556,
              "#d8576b"
             ],
             [
              0.6666666666666666,
              "#ed7953"
             ],
             [
              0.7777777777777778,
              "#fb9f3a"
             ],
             [
              0.8888888888888888,
              "#fdca26"
             ],
             [
              1,
              "#f0f921"
             ]
            ],
            "type": "heatmap"
           }
          ],
          "heatmapgl": [
           {
            "colorbar": {
             "outlinewidth": 0,
             "ticks": ""
            },
            "colorscale": [
             [
              0,
              "#0d0887"
             ],
             [
              0.1111111111111111,
              "#46039f"
             ],
             [
              0.2222222222222222,
              "#7201a8"
             ],
             [
              0.3333333333333333,
              "#9c179e"
             ],
             [
              0.4444444444444444,
              "#bd3786"
             ],
             [
              0.5555555555555556,
              "#d8576b"
             ],
             [
              0.6666666666666666,
              "#ed7953"
             ],
             [
              0.7777777777777778,
              "#fb9f3a"
             ],
             [
              0.8888888888888888,
              "#fdca26"
             ],
             [
              1,
              "#f0f921"
             ]
            ],
            "type": "heatmapgl"
           }
          ],
          "histogram": [
           {
            "marker": {
             "pattern": {
              "fillmode": "overlay",
              "size": 10,
              "solidity": 0.2
             }
            },
            "type": "histogram"
           }
          ],
          "histogram2d": [
           {
            "colorbar": {
             "outlinewidth": 0,
             "ticks": ""
            },
            "colorscale": [
             [
              0,
              "#0d0887"
             ],
             [
              0.1111111111111111,
              "#46039f"
             ],
             [
              0.2222222222222222,
              "#7201a8"
             ],
             [
              0.3333333333333333,
              "#9c179e"
             ],
             [
              0.4444444444444444,
              "#bd3786"
             ],
             [
              0.5555555555555556,
              "#d8576b"
             ],
             [
              0.6666666666666666,
              "#ed7953"
             ],
             [
              0.7777777777777778,
              "#fb9f3a"
             ],
             [
              0.8888888888888888,
              "#fdca26"
             ],
             [
              1,
              "#f0f921"
             ]
            ],
            "type": "histogram2d"
           }
          ],
          "histogram2dcontour": [
           {
            "colorbar": {
             "outlinewidth": 0,
             "ticks": ""
            },
            "colorscale": [
             [
              0,
              "#0d0887"
             ],
             [
              0.1111111111111111,
              "#46039f"
             ],
             [
              0.2222222222222222,
              "#7201a8"
             ],
             [
              0.3333333333333333,
              "#9c179e"
             ],
             [
              0.4444444444444444,
              "#bd3786"
             ],
             [
              0.5555555555555556,
              "#d8576b"
             ],
             [
              0.6666666666666666,
              "#ed7953"
             ],
             [
              0.7777777777777778,
              "#fb9f3a"
             ],
             [
              0.8888888888888888,
              "#fdca26"
             ],
             [
              1,
              "#f0f921"
             ]
            ],
            "type": "histogram2dcontour"
           }
          ],
          "mesh3d": [
           {
            "colorbar": {
             "outlinewidth": 0,
             "ticks": ""
            },
            "type": "mesh3d"
           }
          ],
          "parcoords": [
           {
            "line": {
             "colorbar": {
              "outlinewidth": 0,
              "ticks": ""
             }
            },
            "type": "parcoords"
           }
          ],
          "pie": [
           {
            "automargin": true,
            "type": "pie"
           }
          ],
          "scatter": [
           {
            "fillpattern": {
             "fillmode": "overlay",
             "size": 10,
             "solidity": 0.2
            },
            "type": "scatter"
           }
          ],
          "scatter3d": [
           {
            "line": {
             "colorbar": {
              "outlinewidth": 0,
              "ticks": ""
             }
            },
            "marker": {
             "colorbar": {
              "outlinewidth": 0,
              "ticks": ""
             }
            },
            "type": "scatter3d"
           }
          ],
          "scattercarpet": [
           {
            "marker": {
             "colorbar": {
              "outlinewidth": 0,
              "ticks": ""
             }
            },
            "type": "scattercarpet"
           }
          ],
          "scattergeo": [
           {
            "marker": {
             "colorbar": {
              "outlinewidth": 0,
              "ticks": ""
             }
            },
            "type": "scattergeo"
           }
          ],
          "scattergl": [
           {
            "marker": {
             "colorbar": {
              "outlinewidth": 0,
              "ticks": ""
             }
            },
            "type": "scattergl"
           }
          ],
          "scattermapbox": [
           {
            "marker": {
             "colorbar": {
              "outlinewidth": 0,
              "ticks": ""
             }
            },
            "type": "scattermapbox"
           }
          ],
          "scatterpolar": [
           {
            "marker": {
             "colorbar": {
              "outlinewidth": 0,
              "ticks": ""
             }
            },
            "type": "scatterpolar"
           }
          ],
          "scatterpolargl": [
           {
            "marker": {
             "colorbar": {
              "outlinewidth": 0,
              "ticks": ""
             }
            },
            "type": "scatterpolargl"
           }
          ],
          "scatterternary": [
           {
            "marker": {
             "colorbar": {
              "outlinewidth": 0,
              "ticks": ""
             }
            },
            "type": "scatterternary"
           }
          ],
          "surface": [
           {
            "colorbar": {
             "outlinewidth": 0,
             "ticks": ""
            },
            "colorscale": [
             [
              0,
              "#0d0887"
             ],
             [
              0.1111111111111111,
              "#46039f"
             ],
             [
              0.2222222222222222,
              "#7201a8"
             ],
             [
              0.3333333333333333,
              "#9c179e"
             ],
             [
              0.4444444444444444,
              "#bd3786"
             ],
             [
              0.5555555555555556,
              "#d8576b"
             ],
             [
              0.6666666666666666,
              "#ed7953"
             ],
             [
              0.7777777777777778,
              "#fb9f3a"
             ],
             [
              0.8888888888888888,
              "#fdca26"
             ],
             [
              1,
              "#f0f921"
             ]
            ],
            "type": "surface"
           }
          ],
          "table": [
           {
            "cells": {
             "fill": {
              "color": "#EBF0F8"
             },
             "line": {
              "color": "white"
             }
            },
            "header": {
             "fill": {
              "color": "#C8D4E3"
             },
             "line": {
              "color": "white"
             }
            },
            "type": "table"
           }
          ]
         },
         "layout": {
          "annotationdefaults": {
           "arrowcolor": "#2a3f5f",
           "arrowhead": 0,
           "arrowwidth": 1
          },
          "autotypenumbers": "strict",
          "coloraxis": {
           "colorbar": {
            "outlinewidth": 0,
            "ticks": ""
           }
          },
          "colorscale": {
           "diverging": [
            [
             0,
             "#8e0152"
            ],
            [
             0.1,
             "#c51b7d"
            ],
            [
             0.2,
             "#de77ae"
            ],
            [
             0.3,
             "#f1b6da"
            ],
            [
             0.4,
             "#fde0ef"
            ],
            [
             0.5,
             "#f7f7f7"
            ],
            [
             0.6,
             "#e6f5d0"
            ],
            [
             0.7,
             "#b8e186"
            ],
            [
             0.8,
             "#7fbc41"
            ],
            [
             0.9,
             "#4d9221"
            ],
            [
             1,
             "#276419"
            ]
           ],
           "sequential": [
            [
             0,
             "#0d0887"
            ],
            [
             0.1111111111111111,
             "#46039f"
            ],
            [
             0.2222222222222222,
             "#7201a8"
            ],
            [
             0.3333333333333333,
             "#9c179e"
            ],
            [
             0.4444444444444444,
             "#bd3786"
            ],
            [
             0.5555555555555556,
             "#d8576b"
            ],
            [
             0.6666666666666666,
             "#ed7953"
            ],
            [
             0.7777777777777778,
             "#fb9f3a"
            ],
            [
             0.8888888888888888,
             "#fdca26"
            ],
            [
             1,
             "#f0f921"
            ]
           ],
           "sequentialminus": [
            [
             0,
             "#0d0887"
            ],
            [
             0.1111111111111111,
             "#46039f"
            ],
            [
             0.2222222222222222,
             "#7201a8"
            ],
            [
             0.3333333333333333,
             "#9c179e"
            ],
            [
             0.4444444444444444,
             "#bd3786"
            ],
            [
             0.5555555555555556,
             "#d8576b"
            ],
            [
             0.6666666666666666,
             "#ed7953"
            ],
            [
             0.7777777777777778,
             "#fb9f3a"
            ],
            [
             0.8888888888888888,
             "#fdca26"
            ],
            [
             1,
             "#f0f921"
            ]
           ]
          },
          "colorway": [
           "#636efa",
           "#EF553B",
           "#00cc96",
           "#ab63fa",
           "#FFA15A",
           "#19d3f3",
           "#FF6692",
           "#B6E880",
           "#FF97FF",
           "#FECB52"
          ],
          "font": {
           "color": "#2a3f5f"
          },
          "geo": {
           "bgcolor": "white",
           "lakecolor": "white",
           "landcolor": "#E5ECF6",
           "showlakes": true,
           "showland": true,
           "subunitcolor": "white"
          },
          "hoverlabel": {
           "align": "left"
          },
          "hovermode": "closest",
          "mapbox": {
           "style": "light"
          },
          "paper_bgcolor": "white",
          "plot_bgcolor": "#E5ECF6",
          "polar": {
           "angularaxis": {
            "gridcolor": "white",
            "linecolor": "white",
            "ticks": ""
           },
           "bgcolor": "#E5ECF6",
           "radialaxis": {
            "gridcolor": "white",
            "linecolor": "white",
            "ticks": ""
           }
          },
          "scene": {
           "xaxis": {
            "backgroundcolor": "#E5ECF6",
            "gridcolor": "white",
            "gridwidth": 2,
            "linecolor": "white",
            "showbackground": true,
            "ticks": "",
            "zerolinecolor": "white"
           },
           "yaxis": {
            "backgroundcolor": "#E5ECF6",
            "gridcolor": "white",
            "gridwidth": 2,
            "linecolor": "white",
            "showbackground": true,
            "ticks": "",
            "zerolinecolor": "white"
           },
           "zaxis": {
            "backgroundcolor": "#E5ECF6",
            "gridcolor": "white",
            "gridwidth": 2,
            "linecolor": "white",
            "showbackground": true,
            "ticks": "",
            "zerolinecolor": "white"
           }
          },
          "shapedefaults": {
           "line": {
            "color": "#2a3f5f"
           }
          },
          "ternary": {
           "aaxis": {
            "gridcolor": "white",
            "linecolor": "white",
            "ticks": ""
           },
           "baxis": {
            "gridcolor": "white",
            "linecolor": "white",
            "ticks": ""
           },
           "bgcolor": "#E5ECF6",
           "caxis": {
            "gridcolor": "white",
            "linecolor": "white",
            "ticks": ""
           }
          },
          "title": {
           "x": 0.05
          },
          "xaxis": {
           "automargin": true,
           "gridcolor": "white",
           "linecolor": "white",
           "ticks": "",
           "title": {
            "standoff": 15
           },
           "zerolinecolor": "white",
           "zerolinewidth": 2
          },
          "yaxis": {
           "automargin": true,
           "gridcolor": "white",
           "linecolor": "white",
           "ticks": "",
           "title": {
            "standoff": 15
           },
           "zerolinecolor": "white",
           "zerolinewidth": 2
          }
         }
        },
        "xaxis": {
         "anchor": "y",
         "autorange": true,
         "domain": [
          0,
          1
         ],
         "range": [
          0.0007404240156778906,
          0.023259575984322108
         ],
         "showspikes": false,
         "title": {
          "text": "x"
         },
         "type": "linear"
        },
        "yaxis": {
         "anchor": "x",
         "autorange": true,
         "domain": [
          0,
          1
         ],
         "range": [
          -31.580181387421444,
          534.3464802995856
         ],
         "showspikes": false,
         "title": {
          "text": "y"
         },
         "type": "linear"
        }
       }
      },
      "image/png": "[encoded data removed]",
      "text/html": [
       "<div>                            <div id=\"3b8bedc0-3b99-4a33-91eb-56291c78b826\" class=\"plotly-graph-div\" style=\"height:525px; width:100%;\"></div>            <script type=\"text/javascript\">                require([\"plotly\"], function(Plotly) {                    window.PLOTLYENV=window.PLOTLYENV || {};                                    if (document.getElementById(\"3b8bedc0-3b99-4a33-91eb-56291c78b826\")) {                    Plotly.newPlot(                        \"3b8bedc0-3b99-4a33-91eb-56291c78b826\",                        [{\"hovertemplate\":\"x=%{x}<br>y=%{y}<extra></extra>\",\"legendgroup\":\"\",\"marker\":{\"color\":\"#636efa\",\"symbol\":\"circle\"},\"mode\":\"markers\",\"name\":\"\",\"orientation\":\"v\",\"showlegend\":false,\"x\":[0.002,0.002,0.002,0.0022,0.0022,0.0022,0.0024000000000000002,0.0024000000000000002,0.0024000000000000002,0.0026,0.0026,0.0026,0.0028,0.0028,0.0028,0.003,0.003,0.003,0.0031999999999999997,0.0031999999999999997,0.0031999999999999997,0.0034,0.0034,0.0034,0.0036,0.0036,0.0036,0.0038,0.0038,0.0038,0.004,0.004,0.004,0.0042,0.0042,0.0042,0.004399999999999999,0.004399999999999999,0.004399999999999999,0.0046,0.0046,0.0046,0.0048,0.0048,0.0048,0.004999999999999999,0.004999999999999999,0.004999999999999999,0.0052,0.0052,0.0052,0.0054,0.0054,0.0054,0.0056,0.0056,0.0056,0.0058,0.0058,0.0058,0.006,0.006,0.006,0.0062,0.0062,0.0062,0.0063999999999999994,0.0063999999999999994,0.0063999999999999994,0.0066,0.0066,0.0066,0.0068,0.0068,0.0068,0.006999999999999999,0.006999999999999999,0.006999999999999999,0.0072,0.0072,0.0072,0.0073999999999999995,0.0073999999999999995,0.0073999999999999995,0.007599999999999999,0.007599999999999999,0.007599999999999999,0.0078,0.0078,0.0078,0.008,0.008,0.008,0.008199999999999999,0.008199999999999999,0.008199999999999999,0.0084,0.0084,0.0084,0.0086,0.0086,0.0086,0.008799999999999999,0.008799999999999999,0.008799999999999999,0.009,0.009,0.009,0.0092,0.0092,0.0092,0.009399999999999999,0.009399999999999999,0.009399999999999999,0.0096,0.0096,0.0096,0.0098,0.0098,0.0098,0.01,0.01,0.01,0.010199999999999999,0.010199999999999999,0.010199999999999999,0.0104,0.0104,0.0104,0.0106,0.0106,0.0106,0.010799999999999999,0.010799999999999999,0.010799999999999999,0.011,0.011,0.011,0.0112,0.0112,0.0112,0.011399999999999999,0.011399999999999999,0.011399999999999999,0.0116,0.0116,0.0116,0.0118,0.0118,0.0118,0.011999999999999999,0.011999999999999999,0.011999999999999999,0.012199999999999999,0.012199999999999999,0.012199999999999999,0.0124,0.0124,0.0124,0.012599999999999998,0.012599999999999998,0.012599999999999998,0.012799999999999999,0.012799999999999999,0.012799999999999999,0.013,0.013,0.013,0.013199999999999998,0.013199999999999998,0.013199999999999998,0.013399999999999999,0.013399999999999999,0.013399999999999999,0.0136,0.0136,0.0136,0.0138,0.0138,0.0138,0.013999999999999999,0.013999999999999999,0.013999999999999999,0.014199999999999999,0.014199999999999999,0.014199999999999999,0.0144,0.0144,0.0144,0.014599999999999998,0.014599999999999998,0.014599999999999998,0.014799999999999999,0.014799999999999999,0.014799999999999999,0.015,0.015,0.015,0.015199999999999998,0.015199999999999998,0.015199999999999998,0.015399999999999999,0.015399999999999999,0.015399999999999999,0.0156,0.0156,0.0156,0.015799999999999998,0.015799999999999998,0.015799999999999998,0.016,0.016,0.016,0.0162,0.0162,0.0162,0.016399999999999998,0.016399999999999998,0.016399999999999998,0.016599999999999997,0.016599999999999997,0.016599999999999997,0.0168,0.0168,0.0168,0.017,0.017,0.017,0.0172,0.0172,0.0172,0.0174,0.0174,0.0174,0.017599999999999998,0.017599999999999998,0.017599999999999998,0.017799999999999996,0.017799999999999996,0.017799999999999996,0.018000000000000002,0.018000000000000002,0.018000000000000002,0.0182,0.0182,0.0182,0.0184,0.0184,0.0184,0.0186,0.0186,0.0186,0.018799999999999997,0.018799999999999997,0.018799999999999997,0.018999999999999996,0.018999999999999996,0.018999999999999996,0.019200000000000002,0.019200000000000002,0.019200000000000002,0.0194,0.0194,0.0194,0.0196,0.0196,0.0196,0.019799999999999998,0.019799999999999998,0.019799999999999998,0.019999999999999997,0.019999999999999997,0.019999999999999997,0.020199999999999996,0.020199999999999996,0.020199999999999996,0.0204,0.0204,0.0204,0.0206,0.0206,0.0206,0.0208,0.0208,0.0208,0.020999999999999998,0.020999999999999998,0.020999999999999998,0.021199999999999997,0.021199999999999997,0.021199999999999997,0.021399999999999995,0.021399999999999995,0.021399999999999995,0.0216,0.0216,0.0216,0.0218,0.0218,0.0218,0.022,0.022,0.022],\"xaxis\":\"x\",\"y\":[6.362628884775614,470.64868555761217,470.64868555761217,6.398564407246554,449.3648087054676,449.3648087054676,6.435013564278319,431.62499321786083,431.62499321786083,6.4719893192606746,416.61131303267734,416.61131303267734,6.509505122578262,403.73953315299656,403.73953315299656,6.547574936325697,392.58121253183714,392.58121253183714,425.7195713730568,339.9104653663249,6.58621326061832,442.2682278858408,306.1222193054759,6.625435161624523,451.6313499540848,281.4300604111245,6.665256301457381,458.03729275417805,261.3038563810087,6.705692970076389,462.79947713572335,244.18876074491197,6.746762119364687,466.518072217435,229.289160668716,6.788481399563298,469.5201917790911,216.11802993173788,6.8308691982619445,472.0038752182847,204.34522357781006,6.873944682166106,474.09782205644944,193.7319501016681,6.9177278418824395,475.89009013681175,184.09767032319843,6.962239539989837,477.4433497023235,175.30145642729263,7.0075015626915595,478.80361822799455,167.23062287440766,7.0535366753755575,480.00555770359966,159.79335932824037,7.100368682445676,481.0758376306646,152.9137260844054,7.148022491826583,482.03535147828165,146.5281243371278,7.196524184590551,482.9007238783156,140.58272987018853,7.245901090205515,483.68536309658543,135.0315800354527,7.296181867961892,484.4002129669353,129.83511771059023,7.3473965952017135,485.05430091599806,124.95906339742382,7.399576863048705,485.655144438374,120.37352825263082,7.452755880423762,486.2090573117433,116.05230743436175,7.506968587228232,486.7213835154524,111.9723106528037,7.562251777689866,487.1966781754574,108.11309864217876,7.618644234995426,487.63884913025015,104.45650245280558,7.676186878482701,488.05126883865717,100.98630823650623,7.734922924836587,488.4368636834186,97.68799434920948,7.7948980649329185,488.7981858581872,94.54851062646492,7.856160658205019,489.13747170013966,91.55609193457832,7.918761946677357,489.4566893761756,88.7000997872443,7.982756291125565,489.7575781350963,85.97088709937901,8.048201432191355,490.04168082522654,83.35968213418874,8.115158779715173,490.31037099465277,80.85848846277423,8.18369373406233,490.5648756034889,78.4599983526851,8.253876043826036,490.8062941589617,76.15751747275932,8.325780205013675,491.0356149165864,73.94489917572751,8.399485907686113,491.2537286612844,71.81648691930727,8.475078537055362,491.46144048156634,69.7670636272939,8.552649737293638,491.65947987092835,67.7918069869151,8.632298047816903,491.84850942828865,65.88624983695748,8.71412962364278,492.02913237978225,64.04624493018581,8.798259053668321,492.20189910468235,62.26793345898684,8.884810293473683,492.3673128164267,60.54771681932365,8.973917732670712,492.525834524048,58.882231158339344,9.065727421060963,492.67788737845103,57.26832430785771,9.160398483182762,492.8238604909606,55.70303475151237,9.258104757527008,492.9641122976089,54.18357230865773,9.359036705208778,493.0989735311425,52.707300244443864,9.463403643768448,493.22874985322454,51.271718532857264,9.571436375822971,493.3537241914164,49.874448008009104,9.683390300574471,493.4741588189483,48.513215137758515,9.799549120216293,493.59029720978043,47.18583714139551,9.920229285187695,493.7023656968407,45.890207147044,10.045785365070532,493.81057495742635,44.62427904067703,10.176616590131884,493.9151213464704,43.38605159097311,10.313174888643406,494.01618809557965,42.17355133315786,10.455974856976773,494.1139463933793,40.98481354570302,10.605606258100778,494.208556360674,39.817860433091276,10.762749872901415,494.3001679322019,38.67067529866029,10.928197865028256,494.3889216552739,37.541170993010056,11.102880324689014,494.4749494143116,36.427150153421124,11.287900432267273,494.55837508919507,35.326253531282,11.484581905838727,494.63931515438077,34.23589072071168,11.694534384647811,494.7178792249233,33.15314426188525,11.919745743960686,494.7941705548188,32.074632246054314,12.162716186468698,494.8682864924641,30.9963038311979,12.426659676337966,494.94031889748277,29.913121317013584,12.715819044762892,495.0103545226911,28.818539438890703,13.03598408719867,495.07847536456507,27.703595819495476,13.39539869545753,495.1447589851998,26.55518448915398,13.806485097074784,495.20927880843493,25.352386076958666,14.289511585194653,495.27210439253446,24.0572576291273,14.88180076903592,495.3333016815618,22.584331824412455,15.668228562991233,495.39293323736865,20.608995278217634,16.97284421168645,495.45105845392163,18.463178638207726,18.463178638207726,495.5077337555183,18.142799788907517,18.142799788907517,495.5630127802883,17.829537565899784,17.829537565899784,495.6169465502408,17.52315715966221,17.52315715966221,495.66958362899504,17.223433991954085,17.223433991954085,495.7209702682251,16.9301531637598,16.9301531637598,495.7711505437488,16.643108938651928,16.643108938651928,495.8201664821076,16.36210425894619,16.36210425894619,495.8680581784036,16.086950292241504,16.086950292241504,495.91486390609043,15.817466006138453,15.817466006138453,495.9606202193536,15.553477769111078,15.553477769111078,496.00536204865637,15.294818975671818,15.294818975671818,496.0491227899791,15.041329694119375,15.041329694119375,496.0919343882322,14.79285633529567,14.79285633529567,496.1338274152825,14.549251340902442,14.549251340902442,496.1748311429944,14.310372890041283,14.310372890041283,496.21497361165393,14.07608462274447,14.07608462274447,496.25428169411344,13.846255379358377,13.846255379358377,496.2927811559651,13.620758954727727,13.620758954727727,496.3304967120283,13.399473866208051,13.399473866208051,496.3674520794115,13.182283134606157,13.182283134606157,496.40367002738844,12.969074077214872,12.969074077214872],\"yaxis\":\"y\",\"type\":\"scatter\"}],                        {\"template\":{\"data\":{\"histogram2dcontour\":[{\"type\":\"histogram2dcontour\",\"colorbar\":{\"outlinewidth\":0,\"ticks\":\"\"},\"colorscale\":[[0.0,\"#0d0887\"],[0.1111111111111111,\"#46039f\"],[0.2222222222222222,\"#7201a8\"],[0.3333333333333333,\"#9c179e\"],[0.4444444444444444,\"#bd3786\"],[0.5555555555555556,\"#d8576b\"],[0.6666666666666666,\"#ed7953\"],[0.7777777777777778,\"#fb9f3a\"],[0.8888888888888888,\"#fdca26\"],[1.0,\"#f0f921\"]]}],\"choropleth\":[{\"type\":\"choropleth\",\"colorbar\":{\"outlinewidth\":0,\"ticks\":\"\"}}],\"histogram2d\":[{\"type\":\"histogram2d\",\"colorbar\":{\"outlinewidth\":0,\"ticks\":\"\"},\"colorscale\":[[0.0,\"#0d0887\"],[0.1111111111111111,\"#46039f\"],[0.2222222222222222,\"#7201a8\"],[0.3333333333333333,\"#9c179e\"],[0.4444444444444444,\"#bd3786\"],[0.5555555555555556,\"#d8576b\"],[0.6666666666666666,\"#ed7953\"],[0.7777777777777778,\"#fb9f3a\"],[0.8888888888888888,\"#fdca26\"],[1.0,\"#f0f921\"]]}],\"heatmap\":[{\"type\":\"heatmap\",\"colorbar\":{\"outlinewidth\":0,\"ticks\":\"\"},\"colorscale\":[[0.0,\"#0d0887\"],[0.1111111111111111,\"#46039f\"],[0.2222222222222222,\"#7201a8\"],[0.3333333333333333,\"#9c179e\"],[0.4444444444444444,\"#bd3786\"],[0.5555555555555556,\"#d8576b\"],[0.6666666666666666,\"#ed7953\"],[0.7777777777777778,\"#fb9f3a\"],[0.8888888888888888,\"#fdca26\"],[1.0,\"#f0f921\"]]}],\"heatmapgl\":[{\"type\":\"heatmapgl\",\"colorbar\":{\"outlinewidth\":0,\"ticks\":\"\"},\"colorscale\":[[0.0,\"#0d0887\"],[0.1111111111111111,\"#46039f\"],[0.2222222222222222,\"#7201a8\"],[0.3333333333333333,\"#9c179e\"],[0.4444444444444444,\"#bd3786\"],[0.5555555555555556,\"#d8576b\"],[0.6666666666666666,\"#ed7953\"],[0.7777777777777778,\"#fb9f3a\"],[0.8888888888888888,\"#fdca26\"],[1.0,\"#f0f921\"]]}],\"contourcarpet\":[{\"type\":\"contourcarpet\",\"colorbar\":{\"outlinewidth\":0,\"ticks\":\"\"}}],\"contour\":[{\"type\":\"contour\",\"colorbar\":{\"outlinewidth\":0,\"ticks\":\"\"},\"colorscale\":[[0.0,\"#0d0887\"],[0.1111111111111111,\"#46039f\"],[0.2222222222222222,\"#7201a8\"],[0.3333333333333333,\"#9c179e\"],[0.4444444444444444,\"#bd3786\"],[0.5555555555555556,\"#d8576b\"],[0.6666666666666666,\"#ed7953\"],[0.7777777777777778,\"#fb9f3a\"],[0.8888888888888888,\"#fdca26\"],[1.0,\"#f0f921\"]]}],\"surface\":[{\"type\":\"surface\",\"colorbar\":{\"outlinewidth\":0,\"ticks\":\"\"},\"colorscale\":[[0.0,\"#0d0887\"],[0.1111111111111111,\"#46039f\"],[0.2222222222222222,\"#7201a8\"],[0.3333333333333333,\"#9c179e\"],[0.4444444444444444,\"#bd3786\"],[0.5555555555555556,\"#d8576b\"],[0.6666666666666666,\"#ed7953\"],[0.7777777777777778,\"#fb9f3a\"],[0.8888888888888888,\"#fdca26\"],[1.0,\"#f0f921\"]]}],\"mesh3d\":[{\"type\":\"mesh3d\",\"colorbar\":{\"outlinewidth\":0,\"ticks\":\"\"}}],\"scatter\":[{\"fillpattern\":{\"fillmode\":\"overlay\",\"size\":10,\"solidity\":0.2},\"type\":\"scatter\"}],\"parcoords\":[{\"type\":\"parcoords\",\"line\":{\"colorbar\":{\"outlinewidth\":0,\"ticks\":\"\"}}}],\"scatterpolargl\":[{\"type\":\"scatterpolargl\",\"marker\":{\"colorbar\":{\"outlinewidth\":0,\"ticks\":\"\"}}}],\"bar\":[{\"error_x\":{\"color\":\"#2a3f5f\"},\"error_y\":{\"color\":\"#2a3f5f\"},\"marker\":{\"line\":{\"color\":\"#E5ECF6\",\"width\":0.5},\"pattern\":{\"fillmode\":\"overlay\",\"size\":10,\"solidity\":0.2}},\"type\":\"bar\"}],\"scattergeo\":[{\"type\":\"scattergeo\",\"marker\":{\"colorbar\":{\"outlinewidth\":0,\"ticks\":\"\"}}}],\"scatterpolar\":[{\"type\":\"scatterpolar\",\"marker\":{\"colorbar\":{\"outlinewidth\":0,\"ticks\":\"\"}}}],\"histogram\":[{\"marker\":{\"pattern\":{\"fillmode\":\"overlay\",\"size\":10,\"solidity\":0.2}},\"type\":\"histogram\"}],\"scattergl\":[{\"type\":\"scattergl\",\"marker\":{\"colorbar\":{\"outlinewidth\":0,\"ticks\":\"\"}}}],\"scatter3d\":[{\"type\":\"scatter3d\",\"line\":{\"colorbar\":{\"outlinewidth\":0,\"ticks\":\"\"}},\"marker\":{\"colorbar\":{\"outlinewidth\":0,\"ticks\":\"\"}}}],\"scattermapbox\":[{\"type\":\"scattermapbox\",\"marker\":{\"colorbar\":{\"outlinewidth\":0,\"ticks\":\"\"}}}],\"scatterternary\":[{\"type\":\"scatterternary\",\"marker\":{\"colorbar\":{\"outlinewidth\":0,\"ticks\":\"\"}}}],\"scattercarpet\":[{\"type\":\"scattercarpet\",\"marker\":{\"colorbar\":{\"outlinewidth\":0,\"ticks\":\"\"}}}],\"carpet\":[{\"aaxis\":{\"endlinecolor\":\"#2a3f5f\",\"gridcolor\":\"white\",\"linecolor\":\"white\",\"minorgridcolor\":\"white\",\"startlinecolor\":\"#2a3f5f\"},\"baxis\":{\"endlinecolor\":\"#2a3f5f\",\"gridcolor\":\"white\",\"linecolor\":\"white\",\"minorgridcolor\":\"white\",\"startlinecolor\":\"#2a3f5f\"},\"type\":\"carpet\"}],\"table\":[{\"cells\":{\"fill\":{\"color\":\"#EBF0F8\"},\"line\":{\"color\":\"white\"}},\"header\":{\"fill\":{\"color\":\"#C8D4E3\"},\"line\":{\"color\":\"white\"}},\"type\":\"table\"}],\"barpolar\":[{\"marker\":{\"line\":{\"color\":\"#E5ECF6\",\"width\":0.5},\"pattern\":{\"fillmode\":\"overlay\",\"size\":10,\"solidity\":0.2}},\"type\":\"barpolar\"}],\"pie\":[{\"automargin\":true,\"type\":\"pie\"}]},\"layout\":{\"autotypenumbers\":\"strict\",\"colorway\":[\"#636efa\",\"#EF553B\",\"#00cc96\",\"#ab63fa\",\"#FFA15A\",\"#19d3f3\",\"#FF6692\",\"#B6E880\",\"#FF97FF\",\"#FECB52\"],\"font\":{\"color\":\"#2a3f5f\"},\"hovermode\":\"closest\",\"hoverlabel\":{\"align\":\"left\"},\"paper_bgcolor\":\"white\",\"plot_bgcolor\":\"#E5ECF6\",\"polar\":{\"bgcolor\":\"#E5ECF6\",\"angularaxis\":{\"gridcolor\":\"white\",\"linecolor\":\"white\",\"ticks\":\"\"},\"radialaxis\":{\"gridcolor\":\"white\",\"linecolor\":\"white\",\"ticks\":\"\"}},\"ternary\":{\"bgcolor\":\"#E5ECF6\",\"aaxis\":{\"gridcolor\":\"white\",\"linecolor\":\"white\",\"ticks\":\"\"},\"baxis\":{\"gridcolor\":\"white\",\"linecolor\":\"white\",\"ticks\":\"\"},\"caxis\":{\"gridcolor\":\"white\",\"linecolor\":\"white\",\"ticks\":\"\"}},\"coloraxis\":{\"colorbar\":{\"outlinewidth\":0,\"ticks\":\"\"}},\"colorscale\":{\"sequential\":[[0.0,\"#0d0887\"],[0.1111111111111111,\"#46039f\"],[0.2222222222222222,\"#7201a8\"],[0.3333333333333333,\"#9c179e\"],[0.4444444444444444,\"#bd3786\"],[0.5555555555555556,\"#d8576b\"],[0.6666666666666666,\"#ed7953\"],[0.7777777777777778,\"#fb9f3a\"],[0.8888888888888888,\"#fdca26\"],[1.0,\"#f0f921\"]],\"sequentialminus\":[[0.0,\"#0d0887\"],[0.1111111111111111,\"#46039f\"],[0.2222222222222222,\"#7201a8\"],[0.3333333333333333,\"#9c179e\"],[0.4444444444444444,\"#bd3786\"],[0.5555555555555556,\"#d8576b\"],[0.6666666666666666,\"#ed7953\"],[0.7777777777777778,\"#fb9f3a\"],[0.8888888888888888,\"#fdca26\"],[1.0,\"#f0f921\"]],\"diverging\":[[0,\"#8e0152\"],[0.1,\"#c51b7d\"],[0.2,\"#de77ae\"],[0.3,\"#f1b6da\"],[0.4,\"#fde0ef\"],[0.5,\"#f7f7f7\"],[0.6,\"#e6f5d0\"],[0.7,\"#b8e186\"],[0.8,\"#7fbc41\"],[0.9,\"#4d9221\"],[1,\"#276419\"]]},\"xaxis\":{\"gridcolor\":\"white\",\"linecolor\":\"white\",\"ticks\":\"\",\"title\":{\"standoff\":15},\"zerolinecolor\":\"white\",\"automargin\":true,\"zerolinewidth\":2},\"yaxis\":{\"gridcolor\":\"white\",\"linecolor\":\"white\",\"ticks\":\"\",\"title\":{\"standoff\":15},\"zerolinecolor\":\"white\",\"automargin\":true,\"zerolinewidth\":2},\"scene\":{\"xaxis\":{\"backgroundcolor\":\"#E5ECF6\",\"gridcolor\":\"white\",\"linecolor\":\"white\",\"showbackground\":true,\"ticks\":\"\",\"zerolinecolor\":\"white\",\"gridwidth\":2},\"yaxis\":{\"backgroundcolor\":\"#E5ECF6\",\"gridcolor\":\"white\",\"linecolor\":\"white\",\"showbackground\":true,\"ticks\":\"\",\"zerolinecolor\":\"white\",\"gridwidth\":2},\"zaxis\":{\"backgroundcolor\":\"#E5ECF6\",\"gridcolor\":\"white\",\"linecolor\":\"white\",\"showbackground\":true,\"ticks\":\"\",\"zerolinecolor\":\"white\",\"gridwidth\":2}},\"shapedefaults\":{\"line\":{\"color\":\"#2a3f5f\"}},\"annotationdefaults\":{\"arrowcolor\":\"#2a3f5f\",\"arrowhead\":0,\"arrowwidth\":1},\"geo\":{\"bgcolor\":\"white\",\"landcolor\":\"#E5ECF6\",\"subunitcolor\":\"white\",\"showland\":true,\"showlakes\":true,\"lakecolor\":\"white\"},\"title\":{\"x\":0.05},\"mapbox\":{\"style\":\"light\"}}},\"xaxis\":{\"anchor\":\"y\",\"domain\":[0.0,1.0],\"title\":{\"text\":\"x\"}},\"yaxis\":{\"anchor\":\"x\",\"domain\":[0.0,1.0],\"title\":{\"text\":\"y\"}},\"legend\":{\"tracegroupgap\":0},\"margin\":{\"t\":60}},                        {\"responsive\": true}                    ).then(function(){\n",
       "                            \n",
       "var gd = document.getElementById('3b8bedc0-3b99-4a33-91eb-56291c78b826');\n",
       "var x = new MutationObserver(function (mutations, observer) {{\n",
       "        var display = window.getComputedStyle(gd).display;\n",
       "        if (!display || display === 'none') {{\n",
       "            console.log([gd, 'removed!']);\n",
       "            Plotly.purge(gd);\n",
       "            observer.disconnect();\n",
       "        }}\n",
       "}});\n",
       "\n",
       "// Listen for the removal of the full notebook cells\n",
       "var notebookContainer = gd.closest('#notebook-container');\n",
       "if (notebookContainer) {{\n",
       "    x.observe(notebookContainer, {childList: true});\n",
       "}}\n",
       "\n",
       "// Listen for the clearing of the current output cell\n",
       "var outputEl = gd.closest('.output');\n",
       "if (outputEl) {{\n",
       "    x.observe(outputEl, {childList: true});\n",
       "}}\n",
       "\n",
       "                        })                };                });            </script>        </div>"
      ]
     },
     "metadata": {},
     "output_type": "display_data"
    }
   ],
   "source": [
    "fig = px.scatter(x=mul, y=ys)#, color='species', size='petal_length')\n",
    "fig.show()"
   ]
  }
 ],
 "metadata": {
  "colab": {
   "provenance": []
  },
  "kernelspec": {
   "display_name": "Python 3 (ipykernel)",
   "language": "python",
   "name": "python3"
  },
  "language_info": {
   "codemirror_mode": {
    "name": "ipython",
    "version": 3
   },
   "file_extension": ".py",
   "mimetype": "text/x-python",
   "name": "python",
   "nbconvert_exporter": "python",
   "pygments_lexer": "ipython3",
   "version": "3.10.7"
  },
  "vscode": {
   "interpreter": {
    "hash": "369f2c481f4da34e4445cda3fffd2e751bd1c4d706f27375911949ba6bb62e1c"
   }
  },
  "widgets": {
   "application/vnd.jupyter.widget-state+json": {
    "state": {},
    "version_major": 2,
    "version_minor": 0
   }
  }
 },
 "nbformat": 4,
 "nbformat_minor": 4
}

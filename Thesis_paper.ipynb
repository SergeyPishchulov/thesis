{
 "cells": [
  {
   "cell_type": "code",
   "execution_count": 1,
   "metadata": {
    "id": "FAx5T0k-MuER"
   },
   "outputs": [],
   "source": [
    "from sympy import *\n",
    "from IPython.display import display, Math\n",
    "import numpy as np\n",
    "x, t, z, nu = symbols('x t z nu')\n",
    "init_printing(use_unicode=True)\n"
   ]
  },
  {
   "cell_type": "code",
   "execution_count": 2,
   "metadata": {
    "colab": {
     "base_uri": "https://localhost:8080/",
     "height": 39
    },
    "id": "imxR0vT25snW",
    "outputId": "2c07918a-01b8-4c1f-8ec0-a734fc7c4b4b"
   },
   "outputs": [
    {
     "data": {
      "image/png": "[encoded data removed]",
      "text/latex": [
       "$\\displaystyle x + 2 y$"
      ],
      "text/plain": [
       "x + 2⋅y"
      ]
     },
     "execution_count": 2,
     "metadata": {},
     "output_type": "execute_result"
    }
   ],
   "source": [
    "x, y = symbols('x y')\n",
    "expr = x + 2*y\n",
    "expr\n"
   ]
  },
  {
   "cell_type": "code",
   "execution_count": 3,
   "metadata": {
    "colab": {
     "base_uri": "https://localhost:8080/",
     "height": 58
    },
    "id": "7RuSYQYOMbnv",
    "outputId": "4b48c8a0-92b9-423b-e704-5d20d7eb558a"
   },
   "outputs": [
    {
     "data": {
      "image/png": "[encoded data removed]",
      "text/latex": [
       "$\\displaystyle y{\\left(t \\right)} = C_{2} e^{- t} + \\left(C_{1} + \\frac{t}{2}\\right) e^{t}$"
      ],
      "text/plain": [
       "           -t   ⎛     t⎞  t\n",
       "y(t) = C₂⋅ℯ   + ⎜C₁ + ─⎟⋅ℯ \n",
       "                ⎝     2⎠   "
      ]
     },
     "execution_count": 3,
     "metadata": {},
     "output_type": "execute_result"
    }
   ],
   "source": [
    "y = Function('y')\n",
    "eq = Eq(y(t).diff(t, t) - y(t), exp(t))\n",
    "dsolve(eq, y(t))\n"
   ]
  },
  {
   "cell_type": "code",
   "execution_count": 4,
   "metadata": {
    "colab": {
     "base_uri": "https://localhost:8080/",
     "height": 54
    },
    "id": "f_Bfk0NqN52c",
    "outputId": "d67f66c7-f6fe-416e-f9c9-a6ced7ef82c0"
   },
   "outputs": [
    {
     "data": {
      "image/png": "[encoded data removed]",
      "text/latex": [
       "$\\displaystyle - y{\\left(t \\right)} + \\frac{d^{2}}{d t^{2}} y{\\left(t \\right)} = e^{t}$"
      ],
      "text/plain": [
       "          2           \n",
       "         d           t\n",
       "-y(t) + ───(y(t)) = ℯ \n",
       "          2           \n",
       "        dt            "
      ]
     },
     "execution_count": 4,
     "metadata": {},
     "output_type": "execute_result"
    }
   ],
   "source": [
    "eq\n"
   ]
  },
  {
   "cell_type": "code",
   "execution_count": 5,
   "metadata": {
    "colab": {
     "base_uri": "https://localhost:8080/",
     "height": 58
    },
    "id": "ImOy803JMiz2",
    "outputId": "025cbde1-de78-487b-87d9-9c2772e0c7da"
   },
   "outputs": [
    {
     "data": {
      "image/png": "[encoded data removed]",
      "text/latex": [
       "$\\displaystyle ч{\\left(t \\right)} = C_{2} e^{- t} + \\left(C_{1} + \\frac{t}{2}\\right) e^{t}$"
      ],
      "text/plain": [
       "           -t   ⎛     t⎞  t\n",
       "ч(t) = C₂⋅ℯ   + ⎜C₁ + ─⎟⋅ℯ \n",
       "                ⎝     2⎠   "
      ]
     },
     "execution_count": 5,
     "metadata": {},
     "output_type": "execute_result"
    }
   ],
   "source": [
    "σ = Function('ч')\n",
    "dsolve(Eq(σ(t).diff(t, t) - σ(t), exp(t)), σ(t))\n"
   ]
  },
  {
   "cell_type": "code",
   "execution_count": 6,
   "metadata": {
    "colab": {
     "base_uri": "https://localhost:8080/"
    },
    "id": "I6q_wHXoZemc",
    "outputId": "366b913f-4bc1-42eb-a970-c96d3f0e8d68"
   },
   "outputs": [],
   "source": [
    "from sympy import Symbol, nsolve\n"
   ]
  },
  {
   "cell_type": "code",
   "execution_count": 151,
   "metadata": {
    "id": "KvGMScMINuKD"
   },
   "outputs": [],
   "source": [
    "from sympy import solve\n",
    "x, y, sigma, mu, delta, alpha, beta, ro, eta, b, lambd = symbols(\n",
    "    'x y σ μ δ α β ρ η b λ')\n",
    "sigma_c = 0.1181\n",
    "ro_c = 1.31\n",
    "eta_c = 20.19\n",
    "alpha_c = 1.636\n",
    "beta_c = 0.002\n",
    "delta_c = 0.3743\n",
    "mu_c = 0.005\n",
    "b_c = 0\n",
    "\n",
    "dxdt = sigma + ro*x*y/(eta + y) - mu*x*y - delta*x\n",
    "dydt = alpha*y*(1-beta*y)-x*y-(b*y)/(1+y)\n",
    "\n",
    "concrete_params = {ro: ro_c, sigma: sigma_c, eta: eta_c, b: b_c,\n",
    "                   alpha: alpha_c, beta: beta_c, mu: mu_c, delta: delta_c}\n",
    "muless_params = dict(concrete_params)\n",
    "del muless_params[mu]\n"
   ]
  },
  {
   "cell_type": "markdown",
   "metadata": {},
   "source": [
    "### Точки равновесия"
   ]
  },
  {
   "cell_type": "code",
   "execution_count": 156,
   "metadata": {},
   "outputs": [
    {
     "data": {
      "image/png": "[encoded data removed]",
      "text/latex": [
       "$\\displaystyle \\left( - x y μ + \\frac{1.31 x y}{y + 20.19} - 0.3743 x + 0.1181, \\  - x y + 1.636 y \\left(1 - 0.002 y\\right)\\right)$"
      ],
      "text/plain": [
       "⎛          1.31⋅x⋅y                                                  ⎞\n",
       "⎜-x⋅y⋅μ + ───────── - 0.3743⋅x + 0.1181, -x⋅y + 1.636⋅y⋅(1 - 0.002⋅y)⎟\n",
       "⎝         y + 20.19                                                  ⎠"
      ]
     },
     "execution_count": 156,
     "metadata": {},
     "output_type": "execute_result"
    }
   ],
   "source": [
    "dxdt.subs(muless_params), dydt.subs(muless_params)"
   ]
  },
  {
   "cell_type": "code",
   "execution_count": null,
   "metadata": {},
   "outputs": [],
   "source": [
    "solve((dxdt.subs(muless_params), dydt.subs(muless_params)), x, y)#TODO почему-то не вычисляется"
   ]
  },
  {
   "cell_type": "code",
   "execution_count": 157,
   "metadata": {},
   "outputs": [
    {
     "data": {
      "image/png": "[encoded data removed]",
      "text/latex": [
       "$\\displaystyle \\left[ \\left( 0.0, \\  -20.19\\right), \\  \\left( 0.315522308308843, \\  0.0\\right)\\right]$"
      ],
      "text/plain": [
       "[(0.0, -20.19), (0.315522308308843, 0.0)]"
      ]
     },
     "execution_count": 157,
     "metadata": {},
     "output_type": "execute_result"
    }
   ],
   "source": [
    "solve(dxdt.subs(muless_params), x, y)"
   ]
  },
  {
   "cell_type": "code",
   "execution_count": 158,
   "metadata": {},
   "outputs": [
    {
     "data": {
      "image/png": "[encoded data removed]",
      "text/latex": [
       "$\\displaystyle \\left[ \\left( x, \\  0.0\\right), \\  \\left( 1.636 - 0.003272 y, \\  y\\right)\\right]$"
      ],
      "text/plain": [
       "[(x, 0.0), (1.636 - 0.003272⋅y, y)]"
      ]
     },
     "execution_count": 158,
     "metadata": {},
     "output_type": "execute_result"
    }
   ],
   "source": [
    "solve(dydt.subs(muless_params), x, y)"
   ]
  },
  {
   "cell_type": "code",
   "execution_count": 183,
   "metadata": {},
   "outputs": [
    {
     "data": {
      "image/png": "[encoded data removed]",
      "text/latex": [
       "$\\displaystyle \\left( 0.315522308308843, \\  0\\right)$"
      ],
      "text/plain": [
       "(0.315522308308843, 0)"
      ]
     },
     "execution_count": 183,
     "metadata": {},
     "output_type": "execute_result"
    }
   ],
   "source": [
    "concrete_params[mu]=0.1# Решение не зависит от mu\n",
    "xc, yc = nsolve([dxdt.evalf(subs=concrete_params),\n",
    "                dydt.evalf(subs=concrete_params)], [x, y], (-1, 1))\n",
    "yc=0# из-за float накапливается ошибка.\n",
    "eqilibrium = {x: xc, y: yc}\n",
    "xc, yc\n",
    "#TODO 1.636 0 - решение?"
   ]
  },
  {
   "cell_type": "markdown",
   "metadata": {},
   "source": [
    "#### Проверим, что (xc, yc) - решение"
   ]
  },
  {
   "cell_type": "code",
   "execution_count": 189,
   "metadata": {},
   "outputs": [
    {
     "data": {
      "image/png": "[encoded data removed]",
      "text/latex": [
       "$\\displaystyle \\left( 0, \\  0\\right)$"
      ],
      "text/plain": [
       "(0, 0)"
      ]
     },
     "execution_count": 189,
     "metadata": {},
     "output_type": "execute_result"
    }
   ],
   "source": [
    "(dxdt.evalf(subs={**eqilibrium, **muless_params}),\n",
    "dydt.evalf(subs={**eqilibrium, **muless_params}))"
   ]
  },
  {
   "cell_type": "markdown",
   "metadata": {
    "id": "Q4GBIi7qXzTF"
   },
   "source": [
    "### Матрица первого приближения"
   ]
  },
  {
   "cell_type": "markdown",
   "metadata": {},
   "source": [
    "#### Частные производные"
   ]
  },
  {
   "cell_type": "code",
   "execution_count": 190,
   "metadata": {},
   "outputs": [],
   "source": [
    "dfdx = diff(dxdt, x)\n",
    "dfdy = diff(dxdt, y)\n",
    "dgdx = diff(dydt, x)\n",
    "dgdy = diff(dydt, y)\n"
   ]
  },
  {
   "cell_type": "code",
   "execution_count": 191,
   "metadata": {},
   "outputs": [
    {
     "data": {
      "text/latex": [
       "$\\displaystyle \\dfrac{df}{dx} = - y μ + \\frac{y ρ}{y + η} - δ$"
      ],
      "text/plain": [
       "<IPython.core.display.Math object>"
      ]
     },
     "metadata": {},
     "output_type": "display_data"
    },
    {
     "data": {
      "text/latex": [
       "$\\displaystyle \\dfrac{df}{dy} = - \\frac{x y ρ}{\\left(y + η\\right)^{2}} - x μ + \\frac{x ρ}{y + η}$"
      ],
      "text/plain": [
       "<IPython.core.display.Math object>"
      ]
     },
     "metadata": {},
     "output_type": "display_data"
    },
    {
     "data": {
      "text/latex": [
       "$\\displaystyle \\dfrac{dg}{dx} = - y$"
      ],
      "text/plain": [
       "<IPython.core.display.Math object>"
      ]
     },
     "metadata": {},
     "output_type": "display_data"
    },
    {
     "data": {
      "text/latex": [
       "$\\displaystyle \\dfrac{dg}{dy} = - \\frac{x y ρ}{\\left(y + η\\right)^{2}} - x μ + \\frac{x ρ}{y + η}$"
      ],
      "text/plain": [
       "<IPython.core.display.Math object>"
      ]
     },
     "metadata": {},
     "output_type": "display_data"
    }
   ],
   "source": [
    "display(Math('\\dfrac{df}{dx} = ' + latex(dfdx)))\n",
    "display(Math('\\dfrac{df}{dy} = ' + latex(dfdy)))\n",
    "display(Math('\\dfrac{dg}{dx} = ' + latex(dgdx)))\n",
    "display(Math('\\dfrac{dg}{dy} = ' + latex(dfdy)))\n"
   ]
  },
  {
   "cell_type": "markdown",
   "metadata": {},
   "source": [
    "Частные производные в точке равновесия"
   ]
  },
  {
   "cell_type": "code",
   "execution_count": 192,
   "metadata": {},
   "outputs": [],
   "source": [
    "a11 = dfdx.evalf(subs={**eqilibrium, **muless_params})\n",
    "a12 = dfdy.evalf(subs={**eqilibrium, **muless_params})\n",
    "a21 = dgdx.evalf(subs={**eqilibrium, **muless_params})\n",
    "a22 = dgdy.evalf(subs={**eqilibrium, **muless_params})\n"
   ]
  },
  {
   "cell_type": "code",
   "execution_count": 193,
   "metadata": {},
   "outputs": [
    {
     "data": {
      "text/latex": [
       "$\\displaystyle \\left[\\begin{matrix}-0.3743 & 0.0204722250561954 - 0.315522308308843 μ\\\\0 & 1.32047769169116\\end{matrix}\\right]$"
      ],
      "text/plain": [
       "⎡-0.3743  0.0204722250561954 - 0.315522308308843⋅μ⎤\n",
       "⎢                                                 ⎥\n",
       "⎣   0                 1.32047769169116            ⎦"
      ]
     },
     "execution_count": 193,
     "metadata": {},
     "output_type": "execute_result"
    }
   ],
   "source": [
    "jacob_matrix = Matrix([[a11, a12], [a21, a22]])\n",
    "jacob_matrix\n"
   ]
  },
  {
   "cell_type": "code",
   "execution_count": 194,
   "metadata": {},
   "outputs": [
    {
     "data": {
      "text/latex": [
       "$\\displaystyle \\left[\\begin{matrix}- 1.0 λ - 0.3743 & 0.0204722250561954 - 0.315522308308843 μ\\\\0 & 1.32047769169116 - 1.0 λ\\end{matrix}\\right]$"
      ],
      "text/plain": [
       "⎡-λ - 0.3743  0.0204722250561954 - 0.315522308308843⋅μ⎤\n",
       "⎢                                                     ⎥\n",
       "⎣     0                 1.32047769169116 - λ          ⎦"
      ]
     },
     "execution_count": 194,
     "metadata": {},
     "output_type": "execute_result"
    }
   ],
   "source": [
    "j = jacob_matrix - np.eye(2) * lambd\n",
    "j\n"
   ]
  },
  {
   "cell_type": "code",
   "execution_count": 195,
   "metadata": {},
   "outputs": [
    {
     "data": {
      "image/png": "[encoded data removed]",
      "text/latex": [
       "$\\displaystyle 1.0 λ^{2} - 0.946177691691157 λ - 0.4942548$"
      ],
      "text/plain": [
       "     2                                  \n",
       "1.0⋅λ  - 0.946177691691157⋅λ - 0.4942548"
      ]
     },
     "execution_count": 195,
     "metadata": {},
     "output_type": "execute_result"
    }
   ],
   "source": [
    "j.det()\n"
   ]
  },
  {
   "cell_type": "code",
   "execution_count": 200,
   "metadata": {},
   "outputs": [
    {
     "data": {
      "image/png": "[encoded data removed]",
      "text/latex": [
       "$\\displaystyle \\left( -0.3743, \\  1.32047769169116\\right)$"
      ],
      "text/plain": [
       "(-0.3743, 1.32047769169116)"
      ]
     },
     "execution_count": 200,
     "metadata": {},
     "output_type": "execute_result"
    }
   ],
   "source": [
    "lam1, lam2 = solve(j.det(), lambd)\n",
    "lam1, lam2"
   ]
  }
 ],
 "metadata": {
  "colab": {
   "provenance": []
  },
  "kernelspec": {
   "display_name": "Python 3 (ipykernel)",
   "language": "python",
   "name": "python3"
  },
  "language_info": {
   "codemirror_mode": {
    "name": "ipython",
    "version": 3
   },
   "file_extension": ".py",
   "mimetype": "text/x-python",
   "name": "python",
   "nbconvert_exporter": "python",
   "pygments_lexer": "ipython3",
   "version": "3.10.7"
  },
  "vscode": {
   "interpreter": {
    "hash": "369f2c481f4da34e4445cda3fffd2e751bd1c4d706f27375911949ba6bb62e1c"
   }
  },
  "widgets": {
   "application/vnd.jupyter.widget-state+json": {
    "state": {},
    "version_major": 2,
    "version_minor": 0
   }
  }
 },
 "nbformat": 4,
 "nbformat_minor": 4
}

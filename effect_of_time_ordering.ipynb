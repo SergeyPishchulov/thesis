{
 "cells": [
  {
   "cell_type": "code",
   "execution_count": 55,
   "id": "5eb93acf-4020-4686-ae50-be07510f9705",
   "metadata": {
    "tags": []
   },
   "outputs": [],
   "source": [
    "from sympy import *\n",
    "from IPython.display import display, Math\n",
    "import numpy as np\n",
    "init_printing(use_unicode=True)\n",
    "import plotly.express as px\n",
    "import plotly.graph_objects as go\n",
    "import pandas as pd"
   ]
  },
  {
   "cell_type": "code",
   "execution_count": 26,
   "id": "98b636f0-407d-4410-8d74-11ce411c7e3d",
   "metadata": {
    "tags": []
   },
   "outputs": [],
   "source": [
    "from sympy import solve\n",
    "x, y, s, C, sigma, mu, delta, alpha, beta, ro, eta, b, lambd = symbols(\n",
    "    'x y s C σ μ δ α β ρ η b λ')"
   ]
  },
  {
   "cell_type": "code",
   "execution_count": 27,
   "id": "8363f362-779c-4a01-a09d-30029287f6bc",
   "metadata": {
    "tags": []
   },
   "outputs": [],
   "source": [
    "dxdt = x*(1-x) - (b/(1+s*x))*(1-exp(-ro*C))*x"
   ]
  },
  {
   "cell_type": "code",
   "execution_count": null,
   "id": "a2738bcf-c364-497d-93f2-4193466cd71c",
   "metadata": {},
   "outputs": [],
   "source": []
  },
  {
   "cell_type": "code",
   "execution_count": 28,
   "id": "9c9b60a1-6298-4f22-ac45-48bed99e1ef2",
   "metadata": {
    "tags": []
   },
   "outputs": [
    {
     "data": {
      "text/latex": [
       "$\\displaystyle \\dfrac{dx}{dt} = - \\frac{b x \\left(1 - e^{- C ρ}\\right)}{s x + 1} + x \\left(1 - x\\right)$"
      ],
      "text/plain": [
       "<IPython.core.display.Math object>"
      ]
     },
     "metadata": {},
     "output_type": "display_data"
    }
   ],
   "source": [
    "display(Math('\\dfrac{dx}{dt} = ' + latex(dxdt)))"
   ]
  },
  {
   "cell_type": "code",
   "execution_count": 29,
   "id": "cd85e51d-229c-4648-a8a0-b8935ec92df7",
   "metadata": {
    "tags": []
   },
   "outputs": [],
   "source": [
    "def get_next(x0, params):\n",
    "    return x0 + dxdt.evalf(subs=(params|{x:x0}))"
   ]
  },
  {
   "cell_type": "code",
   "execution_count": 30,
   "id": "86bfe239-aa4b-4148-b1d7-10cd8a1a71f5",
   "metadata": {
    "tags": []
   },
   "outputs": [],
   "source": [
    "def get_k_next_by_c(curx, cur_params, cs):\n",
    "    r = []\n",
    "    for cur_c in cs:\n",
    "        r.append(float(curx))\n",
    "        curx = get_next(curx, cur_params | {C:cur_c})\n",
    "    return r   "
   ]
  },
  {
   "cell_type": "markdown",
   "id": "91def440-bfa0-45d6-abd8-baf2f926465d",
   "metadata": {},
   "source": [
    "### Равновесия в зависимости от С"
   ]
  },
  {
   "cell_type": "markdown",
   "id": "3f94fca5-cde6-4e6e-bf31-3fc2481b773c",
   "metadata": {},
   "source": [
    "\n",
    "#### Аналитическое решение"
   ]
  },
  {
   "cell_type": "code",
   "execution_count": 45,
   "id": "8ff8a9e1-edf5-4273-b8e9-f760dfeec414",
   "metadata": {
    "tags": []
   },
   "outputs": [
    {
     "data": {
      "image/png": "[encoded data removed]",
      "text/latex": [
       "$\\displaystyle \\left[ 0.0, \\  - 0.5 \\sqrt{\\left(81.0 e^{C} + 40.0\\right) e^{C}} e^{- C} - 4.5, \\  0.5 \\sqrt{\\left(81.0 e^{C} + 40.0\\right) e^{C}} e^{- C} - 4.5\\right]$"
      ],
      "text/plain": [
       "⎡              _____________________                   _____________________  \n",
       "⎢             ╱ ⎛      C       ⎞  C   -C              ╱ ⎛      C       ⎞  C   \n",
       "⎣0.0, - 0.5⋅╲╱  ⎝81.0⋅ℯ  + 40.0⎠⋅ℯ  ⋅ℯ   - 4.5, 0.5⋅╲╱  ⎝81.0⋅ℯ  + 40.0⎠⋅ℯ  ⋅ℯ\n",
       "\n",
       "        ⎤\n",
       "-C      ⎥\n",
       "   - 4.5⎦"
      ]
     },
     "execution_count": 45,
     "metadata": {},
     "output_type": "execute_result"
    }
   ],
   "source": [
    "\n",
    "params = {s:0.1, b:1.0, ro:1}\n",
    "an_sols = solve(dxdt.subs(params), x)\n",
    "an_sols"
   ]
  },
  {
   "cell_type": "code",
   "execution_count": 32,
   "id": "ca6d27e0-981b-4286-9e01-be1dff50db6c",
   "metadata": {
    "tags": []
   },
   "outputs": [
    {
     "data": {
      "image/png": "[encoded data removed]",
      "text/latex": [
       "$\\displaystyle \\left( 0.0, \\  0.5 \\sqrt{\\left(81.0 e^{C} + 40.0\\right) e^{C}} e^{- C} - 4.5\\right)$"
      ],
      "text/plain": [
       "⎛            _____________________          ⎞\n",
       "⎜           ╱ ⎛      C       ⎞  C   -C      ⎟\n",
       "⎝0.0, 0.5⋅╲╱  ⎝81.0⋅ℯ  + 40.0⎠⋅ℯ  ⋅ℯ   - 4.5⎠"
      ]
     },
     "execution_count": 32,
     "metadata": {},
     "output_type": "execute_result"
    }
   ],
   "source": [
    "zero_sol = an_sols[0]#0\n",
    "x_star1_sol = an_sols[2] \n",
    "# решение с отрицательным х отбросили\n",
    "zero_sol, x_star1_sol"
   ]
  },
  {
   "cell_type": "code",
   "execution_count": 11,
   "id": "4619ea16-6b60-4793-af4c-43f57e3fe7e2",
   "metadata": {
    "tags": []
   },
   "outputs": [
    {
     "data": {
      "application/vnd.plotly.v1+json": {
       "config": {
        "plotlyServerURL": "https://plot.ly"
       },
       "data": [
        {
         "mode": "markers",
         "name": "x*1",
         "type": "scatter",
         "x": [
          0,
          0.10204081632653061,
          0.20408163265306123,
          0.30612244897959184,
          0.40816326530612246,
          0.5102040816326531,
          0.6122448979591837,
          0.7142857142857143,
          0.8163265306122449,
          0.9183673469387755,
          1.0204081632653061,
          1.1224489795918369,
          1.2244897959183674,
          1.3265306122448979,
          1.4285714285714286,
          1.5306122448979593,
          1.6326530612244898,
          1.7346938775510203,
          1.836734693877551,
          1.9387755102040818,
          2.0408163265306123,
          2.142857142857143,
          2.2448979591836737,
          2.3469387755102042,
          2.4489795918367347,
          2.5510204081632653,
          2.6530612244897958,
          2.7551020408163267,
          2.857142857142857,
          2.9591836734693877,
          3.0612244897959187,
          3.163265306122449,
          3.2653061224489797,
          3.36734693877551,
          3.4693877551020407,
          3.5714285714285716,
          3.673469387755102,
          3.7755102040816326,
          3.8775510204081636,
          3.979591836734694,
          4.081632653061225,
          4.183673469387755,
          4.285714285714286,
          4.387755102040816,
          4.4897959183673475,
          4.591836734693878,
          4.6938775510204085,
          4.795918367346939,
          4.8979591836734695,
          5
         ],
         "y": [
          1,
          0.911092952511563,
          0.8295363827892785,
          0.7548039498979762,
          0.6863959737995282,
          0.6238394209795493,
          0.5666877443947191,
          0.5145205748475625,
          0.46694326726592017,
          0.42358631065149854,
          0.38410461456122036,
          0.34817668788819134,
          0.31550372748430355,
          0.28580863493759967,
          0.25883497974218006,
          0.23434592634897466,
          0.21212314133419774,
          0.1919656953283564,
          0.1736889725531947,
          0.15712359893410976,
          0.1421143978849324,
          0.12851938107020455,
          0.11620877978642952,
          0.10506412109926888,
          0.09497735154441678,
          0.0858500100510673,
          0.0775924507746053,
          0.07012311571978014,
          0.06336785638372255,
          0.057259303133934125,
          0.051736280643265964,
          0.04674326741549528,
          0.04222989723541115,
          0.03815050025193578,
          0.03446368133820865,
          0.03113193335723974,
          0.028121282985181573,
          0.025400966797871405,
          0.022943135402426762,
          0.020722583488173463,
          0.018716503774926174,
          0.016904262947289084,
          0.01526719777805674,
          0.013788429759098442,
          0.012452696672375474,
          0.011246199645376542,
          0.010156464343057614,
          0.009172215051592048,
          0.008283260507307766,
          0.007480390416674254
         ]
        },
        {
         "mode": "markers",
         "name": "0",
         "type": "scatter",
         "x": [
          0,
          0.10204081632653061,
          0.20408163265306123,
          0.30612244897959184,
          0.40816326530612246,
          0.5102040816326531,
          0.6122448979591837,
          0.7142857142857143,
          0.8163265306122449,
          0.9183673469387755,
          1.0204081632653061,
          1.1224489795918369,
          1.2244897959183674,
          1.3265306122448979,
          1.4285714285714286,
          1.5306122448979593,
          1.6326530612244898,
          1.7346938775510203,
          1.836734693877551,
          1.9387755102040818,
          2.0408163265306123,
          2.142857142857143,
          2.2448979591836737,
          2.3469387755102042,
          2.4489795918367347,
          2.5510204081632653,
          2.6530612244897958,
          2.7551020408163267,
          2.857142857142857,
          2.9591836734693877,
          3.0612244897959187,
          3.163265306122449,
          3.2653061224489797,
          3.36734693877551,
          3.4693877551020407,
          3.5714285714285716,
          3.673469387755102,
          3.7755102040816326,
          3.8775510204081636,
          3.979591836734694,
          4.081632653061225,
          4.183673469387755,
          4.285714285714286,
          4.387755102040816,
          4.4897959183673475,
          4.591836734693878,
          4.6938775510204085,
          4.795918367346939,
          4.8979591836734695,
          5
         ],
         "y": [
          0,
          0,
          0,
          0,
          0,
          0,
          0,
          0,
          0,
          0,
          0,
          0,
          0,
          0,
          0,
          0,
          0,
          0,
          0,
          0,
          0,
          0,
          0,
          0,
          0,
          0,
          0,
          0,
          0,
          0,
          0,
          0,
          0,
          0,
          0,
          0,
          0,
          0,
          0,
          0,
          0,
          0,
          0,
          0,
          0,
          0,
          0,
          0,
          0,
          0
         ]
        }
       ],
       "layout": {
        "autosize": true,
        "template": {
         "data": {
          "bar": [
           {
            "error_x": {
             "color": "#2a3f5f"
            },
            "error_y": {
             "color": "#2a3f5f"
            },
            "marker": {
             "line": {
              "color": "white",
              "width": 0.5
             },
             "pattern": {
              "fillmode": "overlay",
              "size": 10,
              "solidity": 0.2
             }
            },
            "type": "bar"
           }
          ],
          "barpolar": [
           {
            "marker": {
             "line": {
              "color": "white",
              "width": 0.5
             },
             "pattern": {
              "fillmode": "overlay",
              "size": 10,
              "solidity": 0.2
             }
            },
            "type": "barpolar"
           }
          ],
          "carpet": [
           {
            "aaxis": {
             "endlinecolor": "#2a3f5f",
             "gridcolor": "#C8D4E3",
             "linecolor": "#C8D4E3",
             "minorgridcolor": "#C8D4E3",
             "startlinecolor": "#2a3f5f"
            },
            "baxis": {
             "endlinecolor": "#2a3f5f",
             "gridcolor": "#C8D4E3",
             "linecolor": "#C8D4E3",
             "minorgridcolor": "#C8D4E3",
             "startlinecolor": "#2a3f5f"
            },
            "type": "carpet"
           }
          ],
          "choropleth": [
           {
            "colorbar": {
             "outlinewidth": 0,
             "ticks": ""
            },
            "type": "choropleth"
           }
          ],
          "contour": [
           {
            "colorbar": {
             "outlinewidth": 0,
             "ticks": ""
            },
            "colorscale": [
             [
              0,
              "#0d0887"
             ],
             [
              0.1111111111111111,
              "#46039f"
             ],
             [
              0.2222222222222222,
              "#7201a8"
             ],
             [
              0.3333333333333333,
              "#9c179e"
             ],
             [
              0.4444444444444444,
              "#bd3786"
             ],
             [
              0.5555555555555556,
              "#d8576b"
             ],
             [
              0.6666666666666666,
              "#ed7953"
             ],
             [
              0.7777777777777778,
              "#fb9f3a"
             ],
             [
              0.8888888888888888,
              "#fdca26"
             ],
             [
              1,
              "#f0f921"
             ]
            ],
            "type": "contour"
           }
          ],
          "contourcarpet": [
           {
            "colorbar": {
             "outlinewidth": 0,
             "ticks": ""
            },
            "type": "contourcarpet"
           }
          ],
          "heatmap": [
           {
            "colorbar": {
             "outlinewidth": 0,
             "ticks": ""
            },
            "colorscale": [
             [
              0,
              "#0d0887"
             ],
             [
              0.1111111111111111,
              "#46039f"
             ],
             [
              0.2222222222222222,
              "#7201a8"
             ],
             [
              0.3333333333333333,
              "#9c179e"
             ],
             [
              0.4444444444444444,
              "#bd3786"
             ],
             [
              0.5555555555555556,
              "#d8576b"
             ],
             [
              0.6666666666666666,
              "#ed7953"
             ],
             [
              0.7777777777777778,
              "#fb9f3a"
             ],
             [
              0.8888888888888888,
              "#fdca26"
             ],
             [
              1,
              "#f0f921"
             ]
            ],
            "type": "heatmap"
           }
          ],
          "heatmapgl": [
           {
            "colorbar": {
             "outlinewidth": 0,
             "ticks": ""
            },
            "colorscale": [
             [
              0,
              "#0d0887"
             ],
             [
              0.1111111111111111,
              "#46039f"
             ],
             [
              0.2222222222222222,
              "#7201a8"
             ],
             [
              0.3333333333333333,
              "#9c179e"
             ],
             [
              0.4444444444444444,
              "#bd3786"
             ],
             [
              0.5555555555555556,
              "#d8576b"
             ],
             [
              0.6666666666666666,
              "#ed7953"
             ],
             [
              0.7777777777777778,
              "#fb9f3a"
             ],
             [
              0.8888888888888888,
              "#fdca26"
             ],
             [
              1,
              "#f0f921"
             ]
            ],
            "type": "heatmapgl"
           }
          ],
          "histogram": [
           {
            "marker": {
             "pattern": {
              "fillmode": "overlay",
              "size": 10,
              "solidity": 0.2
             }
            },
            "type": "histogram"
           }
          ],
          "histogram2d": [
           {
            "colorbar": {
             "outlinewidth": 0,
             "ticks": ""
            },
            "colorscale": [
             [
              0,
              "#0d0887"
             ],
             [
              0.1111111111111111,
              "#46039f"
             ],
             [
              0.2222222222222222,
              "#7201a8"
             ],
             [
              0.3333333333333333,
              "#9c179e"
             ],
             [
              0.4444444444444444,
              "#bd3786"
             ],
             [
              0.5555555555555556,
              "#d8576b"
             ],
             [
              0.6666666666666666,
              "#ed7953"
             ],
             [
              0.7777777777777778,
              "#fb9f3a"
             ],
             [
              0.8888888888888888,
              "#fdca26"
             ],
             [
              1,
              "#f0f921"
             ]
            ],
            "type": "histogram2d"
           }
          ],
          "histogram2dcontour": [
           {
            "colorbar": {
             "outlinewidth": 0,
             "ticks": ""
            },
            "colorscale": [
             [
              0,
              "#0d0887"
             ],
             [
              0.1111111111111111,
              "#46039f"
             ],
             [
              0.2222222222222222,
              "#7201a8"
             ],
             [
              0.3333333333333333,
              "#9c179e"
             ],
             [
              0.4444444444444444,
              "#bd3786"
             ],
             [
              0.5555555555555556,
              "#d8576b"
             ],
             [
              0.6666666666666666,
              "#ed7953"
             ],
             [
              0.7777777777777778,
              "#fb9f3a"
             ],
             [
              0.8888888888888888,
              "#fdca26"
             ],
             [
              1,
              "#f0f921"
             ]
            ],
            "type": "histogram2dcontour"
           }
          ],
          "mesh3d": [
           {
            "colorbar": {
             "outlinewidth": 0,
             "ticks": ""
            },
            "type": "mesh3d"
           }
          ],
          "parcoords": [
           {
            "line": {
             "colorbar": {
              "outlinewidth": 0,
              "ticks": ""
             }
            },
            "type": "parcoords"
           }
          ],
          "pie": [
           {
            "automargin": true,
            "type": "pie"
           }
          ],
          "scatter": [
           {
            "fillpattern": {
             "fillmode": "overlay",
             "size": 10,
             "solidity": 0.2
            },
            "type": "scatter"
           }
          ],
          "scatter3d": [
           {
            "line": {
             "colorbar": {
              "outlinewidth": 0,
              "ticks": ""
             }
            },
            "marker": {
             "colorbar": {
              "outlinewidth": 0,
              "ticks": ""
             }
            },
            "type": "scatter3d"
           }
          ],
          "scattercarpet": [
           {
            "marker": {
             "colorbar": {
              "outlinewidth": 0,
              "ticks": ""
             }
            },
            "type": "scattercarpet"
           }
          ],
          "scattergeo": [
           {
            "marker": {
             "colorbar": {
              "outlinewidth": 0,
              "ticks": ""
             }
            },
            "type": "scattergeo"
           }
          ],
          "scattergl": [
           {
            "marker": {
             "colorbar": {
              "outlinewidth": 0,
              "ticks": ""
             }
            },
            "type": "scattergl"
           }
          ],
          "scattermapbox": [
           {
            "marker": {
             "colorbar": {
              "outlinewidth": 0,
              "ticks": ""
             }
            },
            "type": "scattermapbox"
           }
          ],
          "scatterpolar": [
           {
            "marker": {
             "colorbar": {
              "outlinewidth": 0,
              "ticks": ""
             }
            },
            "type": "scatterpolar"
           }
          ],
          "scatterpolargl": [
           {
            "marker": {
             "colorbar": {
              "outlinewidth": 0,
              "ticks": ""
             }
            },
            "type": "scatterpolargl"
           }
          ],
          "scatterternary": [
           {
            "marker": {
             "colorbar": {
              "outlinewidth": 0,
              "ticks": ""
             }
            },
            "type": "scatterternary"
           }
          ],
          "surface": [
           {
            "colorbar": {
             "outlinewidth": 0,
             "ticks": ""
            },
            "colorscale": [
             [
              0,
              "#0d0887"
             ],
             [
              0.1111111111111111,
              "#46039f"
             ],
             [
              0.2222222222222222,
              "#7201a8"
             ],
             [
              0.3333333333333333,
              "#9c179e"
             ],
             [
              0.4444444444444444,
              "#bd3786"
             ],
             [
              0.5555555555555556,
              "#d8576b"
             ],
             [
              0.6666666666666666,
              "#ed7953"
             ],
             [
              0.7777777777777778,
              "#fb9f3a"
             ],
             [
              0.8888888888888888,
              "#fdca26"
             ],
             [
              1,
              "#f0f921"
             ]
            ],
            "type": "surface"
           }
          ],
          "table": [
           {
            "cells": {
             "fill": {
              "color": "#EBF0F8"
             },
             "line": {
              "color": "white"
             }
            },
            "header": {
             "fill": {
              "color": "#C8D4E3"
             },
             "line": {
              "color": "white"
             }
            },
            "type": "table"
           }
          ]
         },
         "layout": {
          "annotationdefaults": {
           "arrowcolor": "#2a3f5f",
           "arrowhead": 0,
           "arrowwidth": 1
          },
          "autotypenumbers": "strict",
          "coloraxis": {
           "colorbar": {
            "outlinewidth": 0,
            "ticks": ""
           }
          },
          "colorscale": {
           "diverging": [
            [
             0,
             "#8e0152"
            ],
            [
             0.1,
             "#c51b7d"
            ],
            [
             0.2,
             "#de77ae"
            ],
            [
             0.3,
             "#f1b6da"
            ],
            [
             0.4,
             "#fde0ef"
            ],
            [
             0.5,
             "#f7f7f7"
            ],
            [
             0.6,
             "#e6f5d0"
            ],
            [
             0.7,
             "#b8e186"
            ],
            [
             0.8,
             "#7fbc41"
            ],
            [
             0.9,
             "#4d9221"
            ],
            [
             1,
             "#276419"
            ]
           ],
           "sequential": [
            [
             0,
             "#0d0887"
            ],
            [
             0.1111111111111111,
             "#46039f"
            ],
            [
             0.2222222222222222,
             "#7201a8"
            ],
            [
             0.3333333333333333,
             "#9c179e"
            ],
            [
             0.4444444444444444,
             "#bd3786"
            ],
            [
             0.5555555555555556,
             "#d8576b"
            ],
            [
             0.6666666666666666,
             "#ed7953"
            ],
            [
             0.7777777777777778,
             "#fb9f3a"
            ],
            [
             0.8888888888888888,
             "#fdca26"
            ],
            [
             1,
             "#f0f921"
            ]
           ],
           "sequentialminus": [
            [
             0,
             "#0d0887"
            ],
            [
             0.1111111111111111,
             "#46039f"
            ],
            [
             0.2222222222222222,
             "#7201a8"
            ],
            [
             0.3333333333333333,
             "#9c179e"
            ],
            [
             0.4444444444444444,
             "#bd3786"
            ],
            [
             0.5555555555555556,
             "#d8576b"
            ],
            [
             0.6666666666666666,
             "#ed7953"
            ],
            [
             0.7777777777777778,
             "#fb9f3a"
            ],
            [
             0.8888888888888888,
             "#fdca26"
            ],
            [
             1,
             "#f0f921"
            ]
           ]
          },
          "colorway": [
           "#636efa",
           "#EF553B",
           "#00cc96",
           "#ab63fa",
           "#FFA15A",
           "#19d3f3",
           "#FF6692",
           "#B6E880",
           "#FF97FF",
           "#FECB52"
          ],
          "font": {
           "color": "#2a3f5f"
          },
          "geo": {
           "bgcolor": "white",
           "lakecolor": "white",
           "landcolor": "white",
           "showlakes": true,
           "showland": true,
           "subunitcolor": "#C8D4E3"
          },
          "hoverlabel": {
           "align": "left"
          },
          "hovermode": "closest",
          "mapbox": {
           "style": "light"
          },
          "paper_bgcolor": "white",
          "plot_bgcolor": "white",
          "polar": {
           "angularaxis": {
            "gridcolor": "#EBF0F8",
            "linecolor": "#EBF0F8",
            "ticks": ""
           },
           "bgcolor": "white",
           "radialaxis": {
            "gridcolor": "#EBF0F8",
            "linecolor": "#EBF0F8",
            "ticks": ""
           }
          },
          "scene": {
           "xaxis": {
            "backgroundcolor": "white",
            "gridcolor": "#DFE8F3",
            "gridwidth": 2,
            "linecolor": "#EBF0F8",
            "showbackground": true,
            "ticks": "",
            "zerolinecolor": "#EBF0F8"
           },
           "yaxis": {
            "backgroundcolor": "white",
            "gridcolor": "#DFE8F3",
            "gridwidth": 2,
            "linecolor": "#EBF0F8",
            "showbackground": true,
            "ticks": "",
            "zerolinecolor": "#EBF0F8"
           },
           "zaxis": {
            "backgroundcolor": "white",
            "gridcolor": "#DFE8F3",
            "gridwidth": 2,
            "linecolor": "#EBF0F8",
            "showbackground": true,
            "ticks": "",
            "zerolinecolor": "#EBF0F8"
           }
          },
          "shapedefaults": {
           "line": {
            "color": "#2a3f5f"
           }
          },
          "ternary": {
           "aaxis": {
            "gridcolor": "#DFE8F3",
            "linecolor": "#A2B1C6",
            "ticks": ""
           },
           "baxis": {
            "gridcolor": "#DFE8F3",
            "linecolor": "#A2B1C6",
            "ticks": ""
           },
           "bgcolor": "white",
           "caxis": {
            "gridcolor": "#DFE8F3",
            "linecolor": "#A2B1C6",
            "ticks": ""
           }
          },
          "title": {
           "x": 0.05
          },
          "xaxis": {
           "automargin": true,
           "gridcolor": "#EBF0F8",
           "linecolor": "#EBF0F8",
           "ticks": "",
           "title": {
            "standoff": 15
           },
           "zerolinecolor": "#EBF0F8",
           "zerolinewidth": 2
          },
          "yaxis": {
           "automargin": true,
           "gridcolor": "#EBF0F8",
           "linecolor": "#EBF0F8",
           "ticks": "",
           "title": {
            "standoff": 15
           },
           "zerolinecolor": "#EBF0F8",
           "zerolinewidth": 2
          }
         }
        },
        "title": {
         "text": "Fig 1. Равновесия в зависимости от С"
        },
        "xaxis": {
         "autorange": true,
         "range": [
          -0.3087382969237628,
          5.308738296923763
         ],
         "title": {
          "text": "C"
         },
         "type": "linear"
        },
        "yaxis": {
         "autorange": true,
         "range": [
          -0.0825242718446602,
          1.0825242718446602
         ],
         "title": {
          "text": "x"
         },
         "type": "linear"
        }
       }
      },
      "image/png": "[encoded data removed]",
      "text/html": [
       "<div>                            <div id=\"337319a0-4529-473a-8eca-4e1a9826f175\" class=\"plotly-graph-div\" style=\"height:525px; width:100%;\"></div>            <script type=\"text/javascript\">                require([\"plotly\"], function(Plotly) {                    window.PLOTLYENV=window.PLOTLYENV || {};                                    if (document.getElementById(\"337319a0-4529-473a-8eca-4e1a9826f175\")) {                    Plotly.newPlot(                        \"337319a0-4529-473a-8eca-4e1a9826f175\",                        [{\"mode\":\"markers\",\"name\":\"x*1\",\"x\":[0.0,0.10204081632653061,0.20408163265306123,0.30612244897959184,0.40816326530612246,0.5102040816326531,0.6122448979591837,0.7142857142857143,0.8163265306122449,0.9183673469387755,1.0204081632653061,1.1224489795918369,1.2244897959183674,1.3265306122448979,1.4285714285714286,1.5306122448979593,1.6326530612244898,1.7346938775510203,1.836734693877551,1.9387755102040818,2.0408163265306123,2.142857142857143,2.2448979591836737,2.3469387755102042,2.4489795918367347,2.5510204081632653,2.6530612244897958,2.7551020408163267,2.857142857142857,2.9591836734693877,3.0612244897959187,3.163265306122449,3.2653061224489797,3.36734693877551,3.4693877551020407,3.5714285714285716,3.673469387755102,3.7755102040816326,3.8775510204081636,3.979591836734694,4.081632653061225,4.183673469387755,4.285714285714286,4.387755102040816,4.4897959183673475,4.591836734693878,4.6938775510204085,4.795918367346939,4.8979591836734695,5.0],\"y\":[1.0,0.911092952511563,0.8295363827892785,0.7548039498979762,0.6863959737995282,0.6238394209795493,0.5666877443947191,0.5145205748475625,0.46694326726592017,0.42358631065149854,0.38410461456122036,0.34817668788819134,0.31550372748430355,0.28580863493759967,0.25883497974218006,0.23434592634897466,0.21212314133419774,0.1919656953283564,0.1736889725531947,0.15712359893410976,0.1421143978849324,0.12851938107020455,0.11620877978642952,0.10506412109926888,0.09497735154441678,0.0858500100510673,0.0775924507746053,0.07012311571978014,0.06336785638372255,0.057259303133934125,0.051736280643265964,0.04674326741549528,0.04222989723541115,0.03815050025193578,0.03446368133820865,0.03113193335723974,0.028121282985181573,0.025400966797871405,0.022943135402426762,0.020722583488173463,0.018716503774926174,0.016904262947289084,0.01526719777805674,0.013788429759098442,0.012452696672375474,0.011246199645376542,0.010156464343057614,0.009172215051592048,0.008283260507307766,0.007480390416674254],\"type\":\"scatter\"},{\"mode\":\"markers\",\"name\":\"0\",\"x\":[0.0,0.10204081632653061,0.20408163265306123,0.30612244897959184,0.40816326530612246,0.5102040816326531,0.6122448979591837,0.7142857142857143,0.8163265306122449,0.9183673469387755,1.0204081632653061,1.1224489795918369,1.2244897959183674,1.3265306122448979,1.4285714285714286,1.5306122448979593,1.6326530612244898,1.7346938775510203,1.836734693877551,1.9387755102040818,2.0408163265306123,2.142857142857143,2.2448979591836737,2.3469387755102042,2.4489795918367347,2.5510204081632653,2.6530612244897958,2.7551020408163267,2.857142857142857,2.9591836734693877,3.0612244897959187,3.163265306122449,3.2653061224489797,3.36734693877551,3.4693877551020407,3.5714285714285716,3.673469387755102,3.7755102040816326,3.8775510204081636,3.979591836734694,4.081632653061225,4.183673469387755,4.285714285714286,4.387755102040816,4.4897959183673475,4.591836734693878,4.6938775510204085,4.795918367346939,4.8979591836734695,5.0],\"y\":[0,0,0,0,0,0,0,0,0,0,0,0,0,0,0,0,0,0,0,0,0,0,0,0,0,0,0,0,0,0,0,0,0,0,0,0,0,0,0,0,0,0,0,0,0,0,0,0,0,0],\"type\":\"scatter\"}],                        {\"template\":{\"data\":{\"barpolar\":[{\"marker\":{\"line\":{\"color\":\"white\",\"width\":0.5},\"pattern\":{\"fillmode\":\"overlay\",\"size\":10,\"solidity\":0.2}},\"type\":\"barpolar\"}],\"bar\":[{\"error_x\":{\"color\":\"#2a3f5f\"},\"error_y\":{\"color\":\"#2a3f5f\"},\"marker\":{\"line\":{\"color\":\"white\",\"width\":0.5},\"pattern\":{\"fillmode\":\"overlay\",\"size\":10,\"solidity\":0.2}},\"type\":\"bar\"}],\"carpet\":[{\"aaxis\":{\"endlinecolor\":\"#2a3f5f\",\"gridcolor\":\"#C8D4E3\",\"linecolor\":\"#C8D4E3\",\"minorgridcolor\":\"#C8D4E3\",\"startlinecolor\":\"#2a3f5f\"},\"baxis\":{\"endlinecolor\":\"#2a3f5f\",\"gridcolor\":\"#C8D4E3\",\"linecolor\":\"#C8D4E3\",\"minorgridcolor\":\"#C8D4E3\",\"startlinecolor\":\"#2a3f5f\"},\"type\":\"carpet\"}],\"choropleth\":[{\"colorbar\":{\"outlinewidth\":0,\"ticks\":\"\"},\"type\":\"choropleth\"}],\"contourcarpet\":[{\"colorbar\":{\"outlinewidth\":0,\"ticks\":\"\"},\"type\":\"contourcarpet\"}],\"contour\":[{\"colorbar\":{\"outlinewidth\":0,\"ticks\":\"\"},\"colorscale\":[[0.0,\"#0d0887\"],[0.1111111111111111,\"#46039f\"],[0.2222222222222222,\"#7201a8\"],[0.3333333333333333,\"#9c179e\"],[0.4444444444444444,\"#bd3786\"],[0.5555555555555556,\"#d8576b\"],[0.6666666666666666,\"#ed7953\"],[0.7777777777777778,\"#fb9f3a\"],[0.8888888888888888,\"#fdca26\"],[1.0,\"#f0f921\"]],\"type\":\"contour\"}],\"heatmapgl\":[{\"colorbar\":{\"outlinewidth\":0,\"ticks\":\"\"},\"colorscale\":[[0.0,\"#0d0887\"],[0.1111111111111111,\"#46039f\"],[0.2222222222222222,\"#7201a8\"],[0.3333333333333333,\"#9c179e\"],[0.4444444444444444,\"#bd3786\"],[0.5555555555555556,\"#d8576b\"],[0.6666666666666666,\"#ed7953\"],[0.7777777777777778,\"#fb9f3a\"],[0.8888888888888888,\"#fdca26\"],[1.0,\"#f0f921\"]],\"type\":\"heatmapgl\"}],\"heatmap\":[{\"colorbar\":{\"outlinewidth\":0,\"ticks\":\"\"},\"colorscale\":[[0.0,\"#0d0887\"],[0.1111111111111111,\"#46039f\"],[0.2222222222222222,\"#7201a8\"],[0.3333333333333333,\"#9c179e\"],[0.4444444444444444,\"#bd3786\"],[0.5555555555555556,\"#d8576b\"],[0.6666666666666666,\"#ed7953\"],[0.7777777777777778,\"#fb9f3a\"],[0.8888888888888888,\"#fdca26\"],[1.0,\"#f0f921\"]],\"type\":\"heatmap\"}],\"histogram2dcontour\":[{\"colorbar\":{\"outlinewidth\":0,\"ticks\":\"\"},\"colorscale\":[[0.0,\"#0d0887\"],[0.1111111111111111,\"#46039f\"],[0.2222222222222222,\"#7201a8\"],[0.3333333333333333,\"#9c179e\"],[0.4444444444444444,\"#bd3786\"],[0.5555555555555556,\"#d8576b\"],[0.6666666666666666,\"#ed7953\"],[0.7777777777777778,\"#fb9f3a\"],[0.8888888888888888,\"#fdca26\"],[1.0,\"#f0f921\"]],\"type\":\"histogram2dcontour\"}],\"histogram2d\":[{\"colorbar\":{\"outlinewidth\":0,\"ticks\":\"\"},\"colorscale\":[[0.0,\"#0d0887\"],[0.1111111111111111,\"#46039f\"],[0.2222222222222222,\"#7201a8\"],[0.3333333333333333,\"#9c179e\"],[0.4444444444444444,\"#bd3786\"],[0.5555555555555556,\"#d8576b\"],[0.6666666666666666,\"#ed7953\"],[0.7777777777777778,\"#fb9f3a\"],[0.8888888888888888,\"#fdca26\"],[1.0,\"#f0f921\"]],\"type\":\"histogram2d\"}],\"histogram\":[{\"marker\":{\"pattern\":{\"fillmode\":\"overlay\",\"size\":10,\"solidity\":0.2}},\"type\":\"histogram\"}],\"mesh3d\":[{\"colorbar\":{\"outlinewidth\":0,\"ticks\":\"\"},\"type\":\"mesh3d\"}],\"parcoords\":[{\"line\":{\"colorbar\":{\"outlinewidth\":0,\"ticks\":\"\"}},\"type\":\"parcoords\"}],\"pie\":[{\"automargin\":true,\"type\":\"pie\"}],\"scatter3d\":[{\"line\":{\"colorbar\":{\"outlinewidth\":0,\"ticks\":\"\"}},\"marker\":{\"colorbar\":{\"outlinewidth\":0,\"ticks\":\"\"}},\"type\":\"scatter3d\"}],\"scattercarpet\":[{\"marker\":{\"colorbar\":{\"outlinewidth\":0,\"ticks\":\"\"}},\"type\":\"scattercarpet\"}],\"scattergeo\":[{\"marker\":{\"colorbar\":{\"outlinewidth\":0,\"ticks\":\"\"}},\"type\":\"scattergeo\"}],\"scattergl\":[{\"marker\":{\"colorbar\":{\"outlinewidth\":0,\"ticks\":\"\"}},\"type\":\"scattergl\"}],\"scattermapbox\":[{\"marker\":{\"colorbar\":{\"outlinewidth\":0,\"ticks\":\"\"}},\"type\":\"scattermapbox\"}],\"scatterpolargl\":[{\"marker\":{\"colorbar\":{\"outlinewidth\":0,\"ticks\":\"\"}},\"type\":\"scatterpolargl\"}],\"scatterpolar\":[{\"marker\":{\"colorbar\":{\"outlinewidth\":0,\"ticks\":\"\"}},\"type\":\"scatterpolar\"}],\"scatter\":[{\"fillpattern\":{\"fillmode\":\"overlay\",\"size\":10,\"solidity\":0.2},\"type\":\"scatter\"}],\"scatterternary\":[{\"marker\":{\"colorbar\":{\"outlinewidth\":0,\"ticks\":\"\"}},\"type\":\"scatterternary\"}],\"surface\":[{\"colorbar\":{\"outlinewidth\":0,\"ticks\":\"\"},\"colorscale\":[[0.0,\"#0d0887\"],[0.1111111111111111,\"#46039f\"],[0.2222222222222222,\"#7201a8\"],[0.3333333333333333,\"#9c179e\"],[0.4444444444444444,\"#bd3786\"],[0.5555555555555556,\"#d8576b\"],[0.6666666666666666,\"#ed7953\"],[0.7777777777777778,\"#fb9f3a\"],[0.8888888888888888,\"#fdca26\"],[1.0,\"#f0f921\"]],\"type\":\"surface\"}],\"table\":[{\"cells\":{\"fill\":{\"color\":\"#EBF0F8\"},\"line\":{\"color\":\"white\"}},\"header\":{\"fill\":{\"color\":\"#C8D4E3\"},\"line\":{\"color\":\"white\"}},\"type\":\"table\"}]},\"layout\":{\"annotationdefaults\":{\"arrowcolor\":\"#2a3f5f\",\"arrowhead\":0,\"arrowwidth\":1},\"autotypenumbers\":\"strict\",\"coloraxis\":{\"colorbar\":{\"outlinewidth\":0,\"ticks\":\"\"}},\"colorscale\":{\"diverging\":[[0,\"#8e0152\"],[0.1,\"#c51b7d\"],[0.2,\"#de77ae\"],[0.3,\"#f1b6da\"],[0.4,\"#fde0ef\"],[0.5,\"#f7f7f7\"],[0.6,\"#e6f5d0\"],[0.7,\"#b8e186\"],[0.8,\"#7fbc41\"],[0.9,\"#4d9221\"],[1,\"#276419\"]],\"sequential\":[[0.0,\"#0d0887\"],[0.1111111111111111,\"#46039f\"],[0.2222222222222222,\"#7201a8\"],[0.3333333333333333,\"#9c179e\"],[0.4444444444444444,\"#bd3786\"],[0.5555555555555556,\"#d8576b\"],[0.6666666666666666,\"#ed7953\"],[0.7777777777777778,\"#fb9f3a\"],[0.8888888888888888,\"#fdca26\"],[1.0,\"#f0f921\"]],\"sequentialminus\":[[0.0,\"#0d0887\"],[0.1111111111111111,\"#46039f\"],[0.2222222222222222,\"#7201a8\"],[0.3333333333333333,\"#9c179e\"],[0.4444444444444444,\"#bd3786\"],[0.5555555555555556,\"#d8576b\"],[0.6666666666666666,\"#ed7953\"],[0.7777777777777778,\"#fb9f3a\"],[0.8888888888888888,\"#fdca26\"],[1.0,\"#f0f921\"]]},\"colorway\":[\"#636efa\",\"#EF553B\",\"#00cc96\",\"#ab63fa\",\"#FFA15A\",\"#19d3f3\",\"#FF6692\",\"#B6E880\",\"#FF97FF\",\"#FECB52\"],\"font\":{\"color\":\"#2a3f5f\"},\"geo\":{\"bgcolor\":\"white\",\"lakecolor\":\"white\",\"landcolor\":\"white\",\"showlakes\":true,\"showland\":true,\"subunitcolor\":\"#C8D4E3\"},\"hoverlabel\":{\"align\":\"left\"},\"hovermode\":\"closest\",\"mapbox\":{\"style\":\"light\"},\"paper_bgcolor\":\"white\",\"plot_bgcolor\":\"white\",\"polar\":{\"angularaxis\":{\"gridcolor\":\"#EBF0F8\",\"linecolor\":\"#EBF0F8\",\"ticks\":\"\"},\"bgcolor\":\"white\",\"radialaxis\":{\"gridcolor\":\"#EBF0F8\",\"linecolor\":\"#EBF0F8\",\"ticks\":\"\"}},\"scene\":{\"xaxis\":{\"backgroundcolor\":\"white\",\"gridcolor\":\"#DFE8F3\",\"gridwidth\":2,\"linecolor\":\"#EBF0F8\",\"showbackground\":true,\"ticks\":\"\",\"zerolinecolor\":\"#EBF0F8\"},\"yaxis\":{\"backgroundcolor\":\"white\",\"gridcolor\":\"#DFE8F3\",\"gridwidth\":2,\"linecolor\":\"#EBF0F8\",\"showbackground\":true,\"ticks\":\"\",\"zerolinecolor\":\"#EBF0F8\"},\"zaxis\":{\"backgroundcolor\":\"white\",\"gridcolor\":\"#DFE8F3\",\"gridwidth\":2,\"linecolor\":\"#EBF0F8\",\"showbackground\":true,\"ticks\":\"\",\"zerolinecolor\":\"#EBF0F8\"}},\"shapedefaults\":{\"line\":{\"color\":\"#2a3f5f\"}},\"ternary\":{\"aaxis\":{\"gridcolor\":\"#DFE8F3\",\"linecolor\":\"#A2B1C6\",\"ticks\":\"\"},\"baxis\":{\"gridcolor\":\"#DFE8F3\",\"linecolor\":\"#A2B1C6\",\"ticks\":\"\"},\"bgcolor\":\"white\",\"caxis\":{\"gridcolor\":\"#DFE8F3\",\"linecolor\":\"#A2B1C6\",\"ticks\":\"\"}},\"title\":{\"x\":0.05},\"xaxis\":{\"automargin\":true,\"gridcolor\":\"#EBF0F8\",\"linecolor\":\"#EBF0F8\",\"ticks\":\"\",\"title\":{\"standoff\":15},\"zerolinecolor\":\"#EBF0F8\",\"zerolinewidth\":2},\"yaxis\":{\"automargin\":true,\"gridcolor\":\"#EBF0F8\",\"linecolor\":\"#EBF0F8\",\"ticks\":\"\",\"title\":{\"standoff\":15},\"zerolinecolor\":\"#EBF0F8\",\"zerolinewidth\":2}}},\"title\":{\"text\":\"Fig 1. \\u0420\\u0430\\u0432\\u043d\\u043e\\u0432\\u0435\\u0441\\u0438\\u044f \\u0432 \\u0437\\u0430\\u0432\\u0438\\u0441\\u0438\\u043c\\u043e\\u0441\\u0442\\u0438 \\u043e\\u0442 \\u0421\"},\"xaxis\":{\"title\":{\"text\":\"C\"}},\"yaxis\":{\"title\":{\"text\":\"x\"}}},                        {\"responsive\": true}                    ).then(function(){\n",
       "                            \n",
       "var gd = document.getElementById('337319a0-4529-473a-8eca-4e1a9826f175');\n",
       "var x = new MutationObserver(function (mutations, observer) {{\n",
       "        var display = window.getComputedStyle(gd).display;\n",
       "        if (!display || display === 'none') {{\n",
       "            console.log([gd, 'removed!']);\n",
       "            Plotly.purge(gd);\n",
       "            observer.disconnect();\n",
       "        }}\n",
       "}});\n",
       "\n",
       "// Listen for the removal of the full notebook cells\n",
       "var notebookContainer = gd.closest('#notebook-container');\n",
       "if (notebookContainer) {{\n",
       "    x.observe(notebookContainer, {childList: true});\n",
       "}}\n",
       "\n",
       "// Listen for the clearing of the current output cell\n",
       "var outputEl = gd.closest('.output');\n",
       "if (outputEl) {{\n",
       "    x.observe(outputEl, {childList: true});\n",
       "}}\n",
       "\n",
       "                        })                };                });            </script>        </div>"
      ]
     },
     "metadata": {},
     "output_type": "display_data"
    }
   ],
   "source": [
    "params = {s:0.1, b:1.0, ro:1}\n",
    "#Norton-Simon hypothesis is negligible\n",
    "cs = []\n",
    "xs =[]\n",
    "sols_by_c = {}\n",
    "for cur_C in np.linspace(0,5,50):\n",
    "    curx = x_star1_sol.subs(C, cur_C)\n",
    "    cs.append(float(cur_C))\n",
    "    xs.append(float(curx))\n",
    "        \n",
    "    \n",
    "fig = go.Figure()\n",
    "fig.add_trace(go.Scatter(x=cs, y=xs, mode='markers', name = \"x*1\"))\n",
    "fig.add_trace(go.Scatter(x=cs, y=[0]*len(cs), mode='markers', name = \"0\"))\n",
    "fig.update_layout(title=\"Fig 1. Равновесия в зависимости от С\", template=\"plotly_white\")\n",
    "fig.update_layout(xaxis={\"title\": \"C\"}, yaxis={\"title\": \"x\"})"
   ]
  },
  {
   "cell_type": "code",
   "execution_count": 12,
   "id": "46531351-7501-4150-a48f-47dac3f75d7e",
   "metadata": {
    "tags": []
   },
   "outputs": [],
   "source": [
    "cs_brown = [0]*50 + [5]*150\n",
    "cs_green = [0]*50 + [1]*150\n",
    "cs_blue = [0]*50 + [0.2]*150"
   ]
  },
  {
   "cell_type": "code",
   "execution_count": 13,
   "id": "35458ab8-3547-47a5-bce2-4019d0777e62",
   "metadata": {
    "tags": []
   },
   "outputs": [],
   "source": [
    "\n",
    "s_par = 0.1\n",
    "b_par = 1.0\n",
    "\n",
    "params = {s:s_par, b:b_par, ro:1}\n",
    "ts = list(np.linspace(0,200, 201))\n",
    "xs_brown = get_k_next_by_c(1, params, cs_brown)\n",
    "xs_green = get_k_next_by_c(1, params, cs_green)\n",
    "xs_blue = get_k_next_by_c(1, params, cs_blue)                          "
   ]
  },
  {
   "cell_type": "code",
   "execution_count": 14,
   "id": "cdfc25e9-b7c5-4a19-a65c-0a99708a9b53",
   "metadata": {
    "tags": []
   },
   "outputs": [
    {
     "data": {
      "application/vnd.plotly.v1+json": {
       "config": {
        "plotlyServerURL": "https://plot.ly"
       },
       "data": [
        {
         "line": {
          "color": "brown"
         },
         "mode": "lines+markers",
         "name": "",
         "type": "scatter",
         "x": [
          0,
          1,
          2,
          3,
          4,
          5,
          6,
          7,
          8,
          9,
          10,
          11,
          12,
          13,
          14,
          15,
          16,
          17,
          18,
          19,
          20,
          21,
          22,
          23,
          24,
          25,
          26,
          27,
          28,
          29,
          30,
          31,
          32,
          33,
          34,
          35,
          36,
          37,
          38,
          39,
          40,
          41,
          42,
          43,
          44,
          45,
          46,
          47,
          48,
          49,
          50,
          51,
          52,
          53,
          54,
          55,
          56,
          57,
          58,
          59,
          60,
          61,
          62,
          63,
          64,
          65,
          66,
          67,
          68,
          69,
          70,
          71,
          72,
          73,
          74,
          75,
          76,
          77,
          78,
          79,
          80,
          81,
          82,
          83,
          84,
          85,
          86,
          87,
          88,
          89,
          90,
          91,
          92,
          93,
          94,
          95,
          96,
          97,
          98,
          99,
          100,
          101,
          102,
          103,
          104,
          105,
          106,
          107,
          108,
          109,
          110,
          111,
          112,
          113,
          114,
          115,
          116,
          117,
          118,
          119,
          120,
          121,
          122,
          123,
          124,
          125,
          126,
          127,
          128,
          129,
          130,
          131,
          132,
          133,
          134,
          135,
          136,
          137,
          138,
          139,
          140,
          141,
          142,
          143,
          144,
          145,
          146,
          147,
          148,
          149,
          150,
          151,
          152,
          153,
          154,
          155,
          156,
          157,
          158,
          159,
          160,
          161,
          162,
          163,
          164,
          165,
          166,
          167,
          168,
          169,
          170,
          171,
          172,
          173,
          174,
          175,
          176,
          177,
          178,
          179,
          180,
          181,
          182,
          183,
          184,
          185,
          186,
          187,
          188,
          189,
          190,
          191,
          192,
          193,
          194,
          195,
          196,
          197,
          198,
          199,
          200
         ],
         "y": [
          0,
          0,
          0,
          0,
          0,
          0,
          0,
          0,
          0,
          0,
          0,
          0,
          0,
          0,
          0,
          0,
          0,
          0,
          0,
          0,
          0,
          0,
          0,
          0,
          0,
          0,
          0,
          0,
          0,
          0,
          0,
          0,
          0,
          0,
          0,
          0,
          0,
          0,
          0,
          0,
          0,
          0,
          0,
          0,
          0,
          0,
          0,
          0,
          0,
          0,
          5,
          5,
          5,
          5,
          5,
          5,
          5,
          5,
          5,
          5,
          5,
          5,
          5,
          5,
          5,
          5,
          5,
          5,
          5,
          5,
          5,
          5,
          5,
          5,
          5,
          5,
          5,
          5,
          5,
          5,
          5,
          5,
          5,
          5,
          5,
          5,
          5,
          5,
          5,
          5,
          5,
          5,
          5,
          5,
          5,
          5,
          5,
          5,
          5,
          5,
          5,
          5,
          5,
          5,
          5,
          5,
          5,
          5,
          5,
          5,
          5,
          5,
          5,
          5,
          5,
          5,
          5,
          5,
          5,
          5,
          5,
          5,
          5,
          5,
          5,
          5,
          5,
          5,
          5,
          5,
          5,
          5,
          5,
          5,
          5,
          5,
          5,
          5,
          5,
          5,
          5,
          5,
          5,
          5,
          5,
          5,
          5,
          5,
          5,
          5,
          5,
          5,
          5,
          5,
          5,
          5,
          5,
          5,
          5,
          5,
          5,
          5,
          5,
          5,
          5,
          5,
          5,
          5,
          5,
          5,
          5,
          5,
          5,
          5,
          5,
          5,
          5,
          5,
          5,
          5,
          5,
          5,
          5,
          5,
          5,
          5,
          5,
          5,
          5,
          5,
          5,
          5,
          5,
          5,
          5,
          5,
          5,
          5,
          5,
          5
         ]
        },
        {
         "line": {
          "color": "green"
         },
         "mode": "lines+markers",
         "name": "",
         "type": "scatter",
         "x": [
          0,
          1,
          2,
          3,
          4,
          5,
          6,
          7,
          8,
          9,
          10,
          11,
          12,
          13,
          14,
          15,
          16,
          17,
          18,
          19,
          20,
          21,
          22,
          23,
          24,
          25,
          26,
          27,
          28,
          29,
          30,
          31,
          32,
          33,
          34,
          35,
          36,
          37,
          38,
          39,
          40,
          41,
          42,
          43,
          44,
          45,
          46,
          47,
          48,
          49,
          50,
          51,
          52,
          53,
          54,
          55,
          56,
          57,
          58,
          59,
          60,
          61,
          62,
          63,
          64,
          65,
          66,
          67,
          68,
          69,
          70,
          71,
          72,
          73,
          74,
          75,
          76,
          77,
          78,
          79,
          80,
          81,
          82,
          83,
          84,
          85,
          86,
          87,
          88,
          89,
          90,
          91,
          92,
          93,
          94,
          95,
          96,
          97,
          98,
          99,
          100,
          101,
          102,
          103,
          104,
          105,
          106,
          107,
          108,
          109,
          110,
          111,
          112,
          113,
          114,
          115,
          116,
          117,
          118,
          119,
          120,
          121,
          122,
          123,
          124,
          125,
          126,
          127,
          128,
          129,
          130,
          131,
          132,
          133,
          134,
          135,
          136,
          137,
          138,
          139,
          140,
          141,
          142,
          143,
          144,
          145,
          146,
          147,
          148,
          149,
          150,
          151,
          152,
          153,
          154,
          155,
          156,
          157,
          158,
          159,
          160,
          161,
          162,
          163,
          164,
          165,
          166,
          167,
          168,
          169,
          170,
          171,
          172,
          173,
          174,
          175,
          176,
          177,
          178,
          179,
          180,
          181,
          182,
          183,
          184,
          185,
          186,
          187,
          188,
          189,
          190,
          191,
          192,
          193,
          194,
          195,
          196,
          197,
          198,
          199,
          200
         ],
         "y": [
          0,
          0,
          0,
          0,
          0,
          0,
          0,
          0,
          0,
          0,
          0,
          0,
          0,
          0,
          0,
          0,
          0,
          0,
          0,
          0,
          0,
          0,
          0,
          0,
          0,
          0,
          0,
          0,
          0,
          0,
          0,
          0,
          0,
          0,
          0,
          0,
          0,
          0,
          0,
          0,
          0,
          0,
          0,
          0,
          0,
          0,
          0,
          0,
          0,
          0,
          1,
          1,
          1,
          1,
          1,
          1,
          1,
          1,
          1,
          1,
          1,
          1,
          1,
          1,
          1,
          1,
          1,
          1,
          1,
          1,
          1,
          1,
          1,
          1,
          1,
          1,
          1,
          1,
          1,
          1,
          1,
          1,
          1,
          1,
          1,
          1,
          1,
          1,
          1,
          1,
          1,
          1,
          1,
          1,
          1,
          1,
          1,
          1,
          1,
          1,
          1,
          1,
          1,
          1,
          1,
          1,
          1,
          1,
          1,
          1,
          1,
          1,
          1,
          1,
          1,
          1,
          1,
          1,
          1,
          1,
          1,
          1,
          1,
          1,
          1,
          1,
          1,
          1,
          1,
          1,
          1,
          1,
          1,
          1,
          1,
          1,
          1,
          1,
          1,
          1,
          1,
          1,
          1,
          1,
          1,
          1,
          1,
          1,
          1,
          1,
          1,
          1,
          1,
          1,
          1,
          1,
          1,
          1,
          1,
          1,
          1,
          1,
          1,
          1,
          1,
          1,
          1,
          1,
          1,
          1,
          1,
          1,
          1,
          1,
          1,
          1,
          1,
          1,
          1,
          1,
          1,
          1,
          1,
          1,
          1,
          1,
          1,
          1,
          1,
          1,
          1,
          1,
          1,
          1,
          1,
          1,
          1,
          1,
          1,
          1
         ]
        },
        {
         "line": {
          "color": "blue"
         },
         "mode": "lines+markers",
         "name": "",
         "type": "scatter",
         "x": [
          0,
          1,
          2,
          3,
          4,
          5,
          6,
          7,
          8,
          9,
          10,
          11,
          12,
          13,
          14,
          15,
          16,
          17,
          18,
          19,
          20,
          21,
          22,
          23,
          24,
          25,
          26,
          27,
          28,
          29,
          30,
          31,
          32,
          33,
          34,
          35,
          36,
          37,
          38,
          39,
          40,
          41,
          42,
          43,
          44,
          45,
          46,
          47,
          48,
          49,
          50,
          51,
          52,
          53,
          54,
          55,
          56,
          57,
          58,
          59,
          60,
          61,
          62,
          63,
          64,
          65,
          66,
          67,
          68,
          69,
          70,
          71,
          72,
          73,
          74,
          75,
          76,
          77,
          78,
          79,
          80,
          81,
          82,
          83,
          84,
          85,
          86,
          87,
          88,
          89,
          90,
          91,
          92,
          93,
          94,
          95,
          96,
          97,
          98,
          99,
          100,
          101,
          102,
          103,
          104,
          105,
          106,
          107,
          108,
          109,
          110,
          111,
          112,
          113,
          114,
          115,
          116,
          117,
          118,
          119,
          120,
          121,
          122,
          123,
          124,
          125,
          126,
          127,
          128,
          129,
          130,
          131,
          132,
          133,
          134,
          135,
          136,
          137,
          138,
          139,
          140,
          141,
          142,
          143,
          144,
          145,
          146,
          147,
          148,
          149,
          150,
          151,
          152,
          153,
          154,
          155,
          156,
          157,
          158,
          159,
          160,
          161,
          162,
          163,
          164,
          165,
          166,
          167,
          168,
          169,
          170,
          171,
          172,
          173,
          174,
          175,
          176,
          177,
          178,
          179,
          180,
          181,
          182,
          183,
          184,
          185,
          186,
          187,
          188,
          189,
          190,
          191,
          192,
          193,
          194,
          195,
          196,
          197,
          198,
          199,
          200
         ],
         "y": [
          0,
          0,
          0,
          0,
          0,
          0,
          0,
          0,
          0,
          0,
          0,
          0,
          0,
          0,
          0,
          0,
          0,
          0,
          0,
          0,
          0,
          0,
          0,
          0,
          0,
          0,
          0,
          0,
          0,
          0,
          0,
          0,
          0,
          0,
          0,
          0,
          0,
          0,
          0,
          0,
          0,
          0,
          0,
          0,
          0,
          0,
          0,
          0,
          0,
          0,
          0.2,
          0.2,
          0.2,
          0.2,
          0.2,
          0.2,
          0.2,
          0.2,
          0.2,
          0.2,
          0.2,
          0.2,
          0.2,
          0.2,
          0.2,
          0.2,
          0.2,
          0.2,
          0.2,
          0.2,
          0.2,
          0.2,
          0.2,
          0.2,
          0.2,
          0.2,
          0.2,
          0.2,
          0.2,
          0.2,
          0.2,
          0.2,
          0.2,
          0.2,
          0.2,
          0.2,
          0.2,
          0.2,
          0.2,
          0.2,
          0.2,
          0.2,
          0.2,
          0.2,
          0.2,
          0.2,
          0.2,
          0.2,
          0.2,
          0.2,
          0.2,
          0.2,
          0.2,
          0.2,
          0.2,
          0.2,
          0.2,
          0.2,
          0.2,
          0.2,
          0.2,
          0.2,
          0.2,
          0.2,
          0.2,
          0.2,
          0.2,
          0.2,
          0.2,
          0.2,
          0.2,
          0.2,
          0.2,
          0.2,
          0.2,
          0.2,
          0.2,
          0.2,
          0.2,
          0.2,
          0.2,
          0.2,
          0.2,
          0.2,
          0.2,
          0.2,
          0.2,
          0.2,
          0.2,
          0.2,
          0.2,
          0.2,
          0.2,
          0.2,
          0.2,
          0.2,
          0.2,
          0.2,
          0.2,
          0.2,
          0.2,
          0.2,
          0.2,
          0.2,
          0.2,
          0.2,
          0.2,
          0.2,
          0.2,
          0.2,
          0.2,
          0.2,
          0.2,
          0.2,
          0.2,
          0.2,
          0.2,
          0.2,
          0.2,
          0.2,
          0.2,
          0.2,
          0.2,
          0.2,
          0.2,
          0.2,
          0.2,
          0.2,
          0.2,
          0.2,
          0.2,
          0.2,
          0.2,
          0.2,
          0.2,
          0.2,
          0.2,
          0.2,
          0.2,
          0.2,
          0.2,
          0.2,
          0.2,
          0.2,
          0.2,
          0.2,
          0.2,
          0.2,
          0.2,
          0.2
         ]
        }
       ],
       "layout": {
        "autosize": true,
        "template": {
         "data": {
          "bar": [
           {
            "error_x": {
             "color": "#2a3f5f"
            },
            "error_y": {
             "color": "#2a3f5f"
            },
            "marker": {
             "line": {
              "color": "#E5ECF6",
              "width": 0.5
             },
             "pattern": {
              "fillmode": "overlay",
              "size": 10,
              "solidity": 0.2
             }
            },
            "type": "bar"
           }
          ],
          "barpolar": [
           {
            "marker": {
             "line": {
              "color": "#E5ECF6",
              "width": 0.5
             },
             "pattern": {
              "fillmode": "overlay",
              "size": 10,
              "solidity": 0.2
             }
            },
            "type": "barpolar"
           }
          ],
          "carpet": [
           {
            "aaxis": {
             "endlinecolor": "#2a3f5f",
             "gridcolor": "white",
             "linecolor": "white",
             "minorgridcolor": "white",
             "startlinecolor": "#2a3f5f"
            },
            "baxis": {
             "endlinecolor": "#2a3f5f",
             "gridcolor": "white",
             "linecolor": "white",
             "minorgridcolor": "white",
             "startlinecolor": "#2a3f5f"
            },
            "type": "carpet"
           }
          ],
          "choropleth": [
           {
            "colorbar": {
             "outlinewidth": 0,
             "ticks": ""
            },
            "type": "choropleth"
           }
          ],
          "contour": [
           {
            "colorbar": {
             "outlinewidth": 0,
             "ticks": ""
            },
            "colorscale": [
             [
              0,
              "#0d0887"
             ],
             [
              0.1111111111111111,
              "#46039f"
             ],
             [
              0.2222222222222222,
              "#7201a8"
             ],
             [
              0.3333333333333333,
              "#9c179e"
             ],
             [
              0.4444444444444444,
              "#bd3786"
             ],
             [
              0.5555555555555556,
              "#d8576b"
             ],
             [
              0.6666666666666666,
              "#ed7953"
             ],
             [
              0.7777777777777778,
              "#fb9f3a"
             ],
             [
              0.8888888888888888,
              "#fdca26"
             ],
             [
              1,
              "#f0f921"
             ]
            ],
            "type": "contour"
           }
          ],
          "contourcarpet": [
           {
            "colorbar": {
             "outlinewidth": 0,
             "ticks": ""
            },
            "type": "contourcarpet"
           }
          ],
          "heatmap": [
           {
            "colorbar": {
             "outlinewidth": 0,
             "ticks": ""
            },
            "colorscale": [
             [
              0,
              "#0d0887"
             ],
             [
              0.1111111111111111,
              "#46039f"
             ],
             [
              0.2222222222222222,
              "#7201a8"
             ],
             [
              0.3333333333333333,
              "#9c179e"
             ],
             [
              0.4444444444444444,
              "#bd3786"
             ],
             [
              0.5555555555555556,
              "#d8576b"
             ],
             [
              0.6666666666666666,
              "#ed7953"
             ],
             [
              0.7777777777777778,
              "#fb9f3a"
             ],
             [
              0.8888888888888888,
              "#fdca26"
             ],
             [
              1,
              "#f0f921"
             ]
            ],
            "type": "heatmap"
           }
          ],
          "heatmapgl": [
           {
            "colorbar": {
             "outlinewidth": 0,
             "ticks": ""
            },
            "colorscale": [
             [
              0,
              "#0d0887"
             ],
             [
              0.1111111111111111,
              "#46039f"
             ],
             [
              0.2222222222222222,
              "#7201a8"
             ],
             [
              0.3333333333333333,
              "#9c179e"
             ],
             [
              0.4444444444444444,
              "#bd3786"
             ],
             [
              0.5555555555555556,
              "#d8576b"
             ],
             [
              0.6666666666666666,
              "#ed7953"
             ],
             [
              0.7777777777777778,
              "#fb9f3a"
             ],
             [
              0.8888888888888888,
              "#fdca26"
             ],
             [
              1,
              "#f0f921"
             ]
            ],
            "type": "heatmapgl"
           }
          ],
          "histogram": [
           {
            "marker": {
             "pattern": {
              "fillmode": "overlay",
              "size": 10,
              "solidity": 0.2
             }
            },
            "type": "histogram"
           }
          ],
          "histogram2d": [
           {
            "colorbar": {
             "outlinewidth": 0,
             "ticks": ""
            },
            "colorscale": [
             [
              0,
              "#0d0887"
             ],
             [
              0.1111111111111111,
              "#46039f"
             ],
             [
              0.2222222222222222,
              "#7201a8"
             ],
             [
              0.3333333333333333,
              "#9c179e"
             ],
             [
              0.4444444444444444,
              "#bd3786"
             ],
             [
              0.5555555555555556,
              "#d8576b"
             ],
             [
              0.6666666666666666,
              "#ed7953"
             ],
             [
              0.7777777777777778,
              "#fb9f3a"
             ],
             [
              0.8888888888888888,
              "#fdca26"
             ],
             [
              1,
              "#f0f921"
             ]
            ],
            "type": "histogram2d"
           }
          ],
          "histogram2dcontour": [
           {
            "colorbar": {
             "outlinewidth": 0,
             "ticks": ""
            },
            "colorscale": [
             [
              0,
              "#0d0887"
             ],
             [
              0.1111111111111111,
              "#46039f"
             ],
             [
              0.2222222222222222,
              "#7201a8"
             ],
             [
              0.3333333333333333,
              "#9c179e"
             ],
             [
              0.4444444444444444,
              "#bd3786"
             ],
             [
              0.5555555555555556,
              "#d8576b"
             ],
             [
              0.6666666666666666,
              "#ed7953"
             ],
             [
              0.7777777777777778,
              "#fb9f3a"
             ],
             [
              0.8888888888888888,
              "#fdca26"
             ],
             [
              1,
              "#f0f921"
             ]
            ],
            "type": "histogram2dcontour"
           }
          ],
          "mesh3d": [
           {
            "colorbar": {
             "outlinewidth": 0,
             "ticks": ""
            },
            "type": "mesh3d"
           }
          ],
          "parcoords": [
           {
            "line": {
             "colorbar": {
              "outlinewidth": 0,
              "ticks": ""
             }
            },
            "type": "parcoords"
           }
          ],
          "pie": [
           {
            "automargin": true,
            "type": "pie"
           }
          ],
          "scatter": [
           {
            "fillpattern": {
             "fillmode": "overlay",
             "size": 10,
             "solidity": 0.2
            },
            "type": "scatter"
           }
          ],
          "scatter3d": [
           {
            "line": {
             "colorbar": {
              "outlinewidth": 0,
              "ticks": ""
             }
            },
            "marker": {
             "colorbar": {
              "outlinewidth": 0,
              "ticks": ""
             }
            },
            "type": "scatter3d"
           }
          ],
          "scattercarpet": [
           {
            "marker": {
             "colorbar": {
              "outlinewidth": 0,
              "ticks": ""
             }
            },
            "type": "scattercarpet"
           }
          ],
          "scattergeo": [
           {
            "marker": {
             "colorbar": {
              "outlinewidth": 0,
              "ticks": ""
             }
            },
            "type": "scattergeo"
           }
          ],
          "scattergl": [
           {
            "marker": {
             "colorbar": {
              "outlinewidth": 0,
              "ticks": ""
             }
            },
            "type": "scattergl"
           }
          ],
          "scattermapbox": [
           {
            "marker": {
             "colorbar": {
              "outlinewidth": 0,
              "ticks": ""
             }
            },
            "type": "scattermapbox"
           }
          ],
          "scatterpolar": [
           {
            "marker": {
             "colorbar": {
              "outlinewidth": 0,
              "ticks": ""
             }
            },
            "type": "scatterpolar"
           }
          ],
          "scatterpolargl": [
           {
            "marker": {
             "colorbar": {
              "outlinewidth": 0,
              "ticks": ""
             }
            },
            "type": "scatterpolargl"
           }
          ],
          "scatterternary": [
           {
            "marker": {
             "colorbar": {
              "outlinewidth": 0,
              "ticks": ""
             }
            },
            "type": "scatterternary"
           }
          ],
          "surface": [
           {
            "colorbar": {
             "outlinewidth": 0,
             "ticks": ""
            },
            "colorscale": [
             [
              0,
              "#0d0887"
             ],
             [
              0.1111111111111111,
              "#46039f"
             ],
             [
              0.2222222222222222,
              "#7201a8"
             ],
             [
              0.3333333333333333,
              "#9c179e"
             ],
             [
              0.4444444444444444,
              "#bd3786"
             ],
             [
              0.5555555555555556,
              "#d8576b"
             ],
             [
              0.6666666666666666,
              "#ed7953"
             ],
             [
              0.7777777777777778,
              "#fb9f3a"
             ],
             [
              0.8888888888888888,
              "#fdca26"
             ],
             [
              1,
              "#f0f921"
             ]
            ],
            "type": "surface"
           }
          ],
          "table": [
           {
            "cells": {
             "fill": {
              "color": "#EBF0F8"
             },
             "line": {
              "color": "white"
             }
            },
            "header": {
             "fill": {
              "color": "#C8D4E3"
             },
             "line": {
              "color": "white"
             }
            },
            "type": "table"
           }
          ]
         },
         "layout": {
          "annotationdefaults": {
           "arrowcolor": "#2a3f5f",
           "arrowhead": 0,
           "arrowwidth": 1
          },
          "autotypenumbers": "strict",
          "coloraxis": {
           "colorbar": {
            "outlinewidth": 0,
            "ticks": ""
           }
          },
          "colorscale": {
           "diverging": [
            [
             0,
             "#8e0152"
            ],
            [
             0.1,
             "#c51b7d"
            ],
            [
             0.2,
             "#de77ae"
            ],
            [
             0.3,
             "#f1b6da"
            ],
            [
             0.4,
             "#fde0ef"
            ],
            [
             0.5,
             "#f7f7f7"
            ],
            [
             0.6,
             "#e6f5d0"
            ],
            [
             0.7,
             "#b8e186"
            ],
            [
             0.8,
             "#7fbc41"
            ],
            [
             0.9,
             "#4d9221"
            ],
            [
             1,
             "#276419"
            ]
           ],
           "sequential": [
            [
             0,
             "#0d0887"
            ],
            [
             0.1111111111111111,
             "#46039f"
            ],
            [
             0.2222222222222222,
             "#7201a8"
            ],
            [
             0.3333333333333333,
             "#9c179e"
            ],
            [
             0.4444444444444444,
             "#bd3786"
            ],
            [
             0.5555555555555556,
             "#d8576b"
            ],
            [
             0.6666666666666666,
             "#ed7953"
            ],
            [
             0.7777777777777778,
             "#fb9f3a"
            ],
            [
             0.8888888888888888,
             "#fdca26"
            ],
            [
             1,
             "#f0f921"
            ]
           ],
           "sequentialminus": [
            [
             0,
             "#0d0887"
            ],
            [
             0.1111111111111111,
             "#46039f"
            ],
            [
             0.2222222222222222,
             "#7201a8"
            ],
            [
             0.3333333333333333,
             "#9c179e"
            ],
            [
             0.4444444444444444,
             "#bd3786"
            ],
            [
             0.5555555555555556,
             "#d8576b"
            ],
            [
             0.6666666666666666,
             "#ed7953"
            ],
            [
             0.7777777777777778,
             "#fb9f3a"
            ],
            [
             0.8888888888888888,
             "#fdca26"
            ],
            [
             1,
             "#f0f921"
            ]
           ]
          },
          "colorway": [
           "#636efa",
           "#EF553B",
           "#00cc96",
           "#ab63fa",
           "#FFA15A",
           "#19d3f3",
           "#FF6692",
           "#B6E880",
           "#FF97FF",
           "#FECB52"
          ],
          "font": {
           "color": "#2a3f5f"
          },
          "geo": {
           "bgcolor": "white",
           "lakecolor": "white",
           "landcolor": "#E5ECF6",
           "showlakes": true,
           "showland": true,
           "subunitcolor": "white"
          },
          "hoverlabel": {
           "align": "left"
          },
          "hovermode": "closest",
          "mapbox": {
           "style": "light"
          },
          "paper_bgcolor": "white",
          "plot_bgcolor": "#E5ECF6",
          "polar": {
           "angularaxis": {
            "gridcolor": "white",
            "linecolor": "white",
            "ticks": ""
           },
           "bgcolor": "#E5ECF6",
           "radialaxis": {
            "gridcolor": "white",
            "linecolor": "white",
            "ticks": ""
           }
          },
          "scene": {
           "xaxis": {
            "backgroundcolor": "#E5ECF6",
            "gridcolor": "white",
            "gridwidth": 2,
            "linecolor": "white",
            "showbackground": true,
            "ticks": "",
            "zerolinecolor": "white"
           },
           "yaxis": {
            "backgroundcolor": "#E5ECF6",
            "gridcolor": "white",
            "gridwidth": 2,
            "linecolor": "white",
            "showbackground": true,
            "ticks": "",
            "zerolinecolor": "white"
           },
           "zaxis": {
            "backgroundcolor": "#E5ECF6",
            "gridcolor": "white",
            "gridwidth": 2,
            "linecolor": "white",
            "showbackground": true,
            "ticks": "",
            "zerolinecolor": "white"
           }
          },
          "shapedefaults": {
           "line": {
            "color": "#2a3f5f"
           }
          },
          "ternary": {
           "aaxis": {
            "gridcolor": "white",
            "linecolor": "white",
            "ticks": ""
           },
           "baxis": {
            "gridcolor": "white",
            "linecolor": "white",
            "ticks": ""
           },
           "bgcolor": "#E5ECF6",
           "caxis": {
            "gridcolor": "white",
            "linecolor": "white",
            "ticks": ""
           }
          },
          "title": {
           "x": 0.05
          },
          "xaxis": {
           "automargin": true,
           "gridcolor": "white",
           "linecolor": "white",
           "ticks": "",
           "title": {
            "standoff": 15
           },
           "zerolinecolor": "white",
           "zerolinewidth": 2
          },
          "yaxis": {
           "automargin": true,
           "gridcolor": "white",
           "linecolor": "white",
           "ticks": "",
           "title": {
            "standoff": 15
           },
           "zerolinecolor": "white",
           "zerolinewidth": 2
          }
         }
        },
        "title": {
         "text": "Fig 1(b)"
        },
        "xaxis": {
         "autorange": true,
         "range": [
          -12.271520750843232,
          211.27152075084322
         ],
         "title": {
          "text": "t"
         },
         "type": "linear"
        },
        "yaxis": {
         "autorange": true,
         "range": [
          -0.41262135922330095,
          5.412621359223301
         ],
         "title": {
          "text": "c"
         },
         "type": "linear"
        }
       }
      },
      "image/png": "[encoded data removed]",
      "text/html": [
       "<div>                            <div id=\"8af30439-5a80-4ba3-a799-ac8ce8761204\" class=\"plotly-graph-div\" style=\"height:525px; width:100%;\"></div>            <script type=\"text/javascript\">                require([\"plotly\"], function(Plotly) {                    window.PLOTLYENV=window.PLOTLYENV || {};                                    if (document.getElementById(\"8af30439-5a80-4ba3-a799-ac8ce8761204\")) {                    Plotly.newPlot(                        \"8af30439-5a80-4ba3-a799-ac8ce8761204\",                        [{\"line\":{\"color\":\"brown\"},\"mode\":\"lines+markers\",\"name\":\"\",\"x\":[0.0,1.0,2.0,3.0,4.0,5.0,6.0,7.0,8.0,9.0,10.0,11.0,12.0,13.0,14.0,15.0,16.0,17.0,18.0,19.0,20.0,21.0,22.0,23.0,24.0,25.0,26.0,27.0,28.0,29.0,30.0,31.0,32.0,33.0,34.0,35.0,36.0,37.0,38.0,39.0,40.0,41.0,42.0,43.0,44.0,45.0,46.0,47.0,48.0,49.0,50.0,51.0,52.0,53.0,54.0,55.0,56.0,57.0,58.0,59.0,60.0,61.0,62.0,63.0,64.0,65.0,66.0,67.0,68.0,69.0,70.0,71.0,72.0,73.0,74.0,75.0,76.0,77.0,78.0,79.0,80.0,81.0,82.0,83.0,84.0,85.0,86.0,87.0,88.0,89.0,90.0,91.0,92.0,93.0,94.0,95.0,96.0,97.0,98.0,99.0,100.0,101.0,102.0,103.0,104.0,105.0,106.0,107.0,108.0,109.0,110.0,111.0,112.0,113.0,114.0,115.0,116.0,117.0,118.0,119.0,120.0,121.0,122.0,123.0,124.0,125.0,126.0,127.0,128.0,129.0,130.0,131.0,132.0,133.0,134.0,135.0,136.0,137.0,138.0,139.0,140.0,141.0,142.0,143.0,144.0,145.0,146.0,147.0,148.0,149.0,150.0,151.0,152.0,153.0,154.0,155.0,156.0,157.0,158.0,159.0,160.0,161.0,162.0,163.0,164.0,165.0,166.0,167.0,168.0,169.0,170.0,171.0,172.0,173.0,174.0,175.0,176.0,177.0,178.0,179.0,180.0,181.0,182.0,183.0,184.0,185.0,186.0,187.0,188.0,189.0,190.0,191.0,192.0,193.0,194.0,195.0,196.0,197.0,198.0,199.0,200.0],\"y\":[0,0,0,0,0,0,0,0,0,0,0,0,0,0,0,0,0,0,0,0,0,0,0,0,0,0,0,0,0,0,0,0,0,0,0,0,0,0,0,0,0,0,0,0,0,0,0,0,0,0,5,5,5,5,5,5,5,5,5,5,5,5,5,5,5,5,5,5,5,5,5,5,5,5,5,5,5,5,5,5,5,5,5,5,5,5,5,5,5,5,5,5,5,5,5,5,5,5,5,5,5,5,5,5,5,5,5,5,5,5,5,5,5,5,5,5,5,5,5,5,5,5,5,5,5,5,5,5,5,5,5,5,5,5,5,5,5,5,5,5,5,5,5,5,5,5,5,5,5,5,5,5,5,5,5,5,5,5,5,5,5,5,5,5,5,5,5,5,5,5,5,5,5,5,5,5,5,5,5,5,5,5,5,5,5,5,5,5,5,5,5,5,5,5,5,5,5,5,5,5],\"type\":\"scatter\"},{\"line\":{\"color\":\"green\"},\"mode\":\"lines+markers\",\"name\":\"\",\"x\":[0.0,1.0,2.0,3.0,4.0,5.0,6.0,7.0,8.0,9.0,10.0,11.0,12.0,13.0,14.0,15.0,16.0,17.0,18.0,19.0,20.0,21.0,22.0,23.0,24.0,25.0,26.0,27.0,28.0,29.0,30.0,31.0,32.0,33.0,34.0,35.0,36.0,37.0,38.0,39.0,40.0,41.0,42.0,43.0,44.0,45.0,46.0,47.0,48.0,49.0,50.0,51.0,52.0,53.0,54.0,55.0,56.0,57.0,58.0,59.0,60.0,61.0,62.0,63.0,64.0,65.0,66.0,67.0,68.0,69.0,70.0,71.0,72.0,73.0,74.0,75.0,76.0,77.0,78.0,79.0,80.0,81.0,82.0,83.0,84.0,85.0,86.0,87.0,88.0,89.0,90.0,91.0,92.0,93.0,94.0,95.0,96.0,97.0,98.0,99.0,100.0,101.0,102.0,103.0,104.0,105.0,106.0,107.0,108.0,109.0,110.0,111.0,112.0,113.0,114.0,115.0,116.0,117.0,118.0,119.0,120.0,121.0,122.0,123.0,124.0,125.0,126.0,127.0,128.0,129.0,130.0,131.0,132.0,133.0,134.0,135.0,136.0,137.0,138.0,139.0,140.0,141.0,142.0,143.0,144.0,145.0,146.0,147.0,148.0,149.0,150.0,151.0,152.0,153.0,154.0,155.0,156.0,157.0,158.0,159.0,160.0,161.0,162.0,163.0,164.0,165.0,166.0,167.0,168.0,169.0,170.0,171.0,172.0,173.0,174.0,175.0,176.0,177.0,178.0,179.0,180.0,181.0,182.0,183.0,184.0,185.0,186.0,187.0,188.0,189.0,190.0,191.0,192.0,193.0,194.0,195.0,196.0,197.0,198.0,199.0,200.0],\"y\":[0,0,0,0,0,0,0,0,0,0,0,0,0,0,0,0,0,0,0,0,0,0,0,0,0,0,0,0,0,0,0,0,0,0,0,0,0,0,0,0,0,0,0,0,0,0,0,0,0,0,1,1,1,1,1,1,1,1,1,1,1,1,1,1,1,1,1,1,1,1,1,1,1,1,1,1,1,1,1,1,1,1,1,1,1,1,1,1,1,1,1,1,1,1,1,1,1,1,1,1,1,1,1,1,1,1,1,1,1,1,1,1,1,1,1,1,1,1,1,1,1,1,1,1,1,1,1,1,1,1,1,1,1,1,1,1,1,1,1,1,1,1,1,1,1,1,1,1,1,1,1,1,1,1,1,1,1,1,1,1,1,1,1,1,1,1,1,1,1,1,1,1,1,1,1,1,1,1,1,1,1,1,1,1,1,1,1,1,1,1,1,1,1,1,1,1,1,1,1,1],\"type\":\"scatter\"},{\"line\":{\"color\":\"blue\"},\"mode\":\"lines+markers\",\"name\":\"\",\"x\":[0.0,1.0,2.0,3.0,4.0,5.0,6.0,7.0,8.0,9.0,10.0,11.0,12.0,13.0,14.0,15.0,16.0,17.0,18.0,19.0,20.0,21.0,22.0,23.0,24.0,25.0,26.0,27.0,28.0,29.0,30.0,31.0,32.0,33.0,34.0,35.0,36.0,37.0,38.0,39.0,40.0,41.0,42.0,43.0,44.0,45.0,46.0,47.0,48.0,49.0,50.0,51.0,52.0,53.0,54.0,55.0,56.0,57.0,58.0,59.0,60.0,61.0,62.0,63.0,64.0,65.0,66.0,67.0,68.0,69.0,70.0,71.0,72.0,73.0,74.0,75.0,76.0,77.0,78.0,79.0,80.0,81.0,82.0,83.0,84.0,85.0,86.0,87.0,88.0,89.0,90.0,91.0,92.0,93.0,94.0,95.0,96.0,97.0,98.0,99.0,100.0,101.0,102.0,103.0,104.0,105.0,106.0,107.0,108.0,109.0,110.0,111.0,112.0,113.0,114.0,115.0,116.0,117.0,118.0,119.0,120.0,121.0,122.0,123.0,124.0,125.0,126.0,127.0,128.0,129.0,130.0,131.0,132.0,133.0,134.0,135.0,136.0,137.0,138.0,139.0,140.0,141.0,142.0,143.0,144.0,145.0,146.0,147.0,148.0,149.0,150.0,151.0,152.0,153.0,154.0,155.0,156.0,157.0,158.0,159.0,160.0,161.0,162.0,163.0,164.0,165.0,166.0,167.0,168.0,169.0,170.0,171.0,172.0,173.0,174.0,175.0,176.0,177.0,178.0,179.0,180.0,181.0,182.0,183.0,184.0,185.0,186.0,187.0,188.0,189.0,190.0,191.0,192.0,193.0,194.0,195.0,196.0,197.0,198.0,199.0,200.0],\"y\":[0,0,0,0,0,0,0,0,0,0,0,0,0,0,0,0,0,0,0,0,0,0,0,0,0,0,0,0,0,0,0,0,0,0,0,0,0,0,0,0,0,0,0,0,0,0,0,0,0,0,0.2,0.2,0.2,0.2,0.2,0.2,0.2,0.2,0.2,0.2,0.2,0.2,0.2,0.2,0.2,0.2,0.2,0.2,0.2,0.2,0.2,0.2,0.2,0.2,0.2,0.2,0.2,0.2,0.2,0.2,0.2,0.2,0.2,0.2,0.2,0.2,0.2,0.2,0.2,0.2,0.2,0.2,0.2,0.2,0.2,0.2,0.2,0.2,0.2,0.2,0.2,0.2,0.2,0.2,0.2,0.2,0.2,0.2,0.2,0.2,0.2,0.2,0.2,0.2,0.2,0.2,0.2,0.2,0.2,0.2,0.2,0.2,0.2,0.2,0.2,0.2,0.2,0.2,0.2,0.2,0.2,0.2,0.2,0.2,0.2,0.2,0.2,0.2,0.2,0.2,0.2,0.2,0.2,0.2,0.2,0.2,0.2,0.2,0.2,0.2,0.2,0.2,0.2,0.2,0.2,0.2,0.2,0.2,0.2,0.2,0.2,0.2,0.2,0.2,0.2,0.2,0.2,0.2,0.2,0.2,0.2,0.2,0.2,0.2,0.2,0.2,0.2,0.2,0.2,0.2,0.2,0.2,0.2,0.2,0.2,0.2,0.2,0.2,0.2,0.2,0.2,0.2,0.2,0.2,0.2,0.2,0.2,0.2,0.2,0.2],\"type\":\"scatter\"}],                        {\"template\":{\"data\":{\"histogram2dcontour\":[{\"type\":\"histogram2dcontour\",\"colorbar\":{\"outlinewidth\":0,\"ticks\":\"\"},\"colorscale\":[[0.0,\"#0d0887\"],[0.1111111111111111,\"#46039f\"],[0.2222222222222222,\"#7201a8\"],[0.3333333333333333,\"#9c179e\"],[0.4444444444444444,\"#bd3786\"],[0.5555555555555556,\"#d8576b\"],[0.6666666666666666,\"#ed7953\"],[0.7777777777777778,\"#fb9f3a\"],[0.8888888888888888,\"#fdca26\"],[1.0,\"#f0f921\"]]}],\"choropleth\":[{\"type\":\"choropleth\",\"colorbar\":{\"outlinewidth\":0,\"ticks\":\"\"}}],\"histogram2d\":[{\"type\":\"histogram2d\",\"colorbar\":{\"outlinewidth\":0,\"ticks\":\"\"},\"colorscale\":[[0.0,\"#0d0887\"],[0.1111111111111111,\"#46039f\"],[0.2222222222222222,\"#7201a8\"],[0.3333333333333333,\"#9c179e\"],[0.4444444444444444,\"#bd3786\"],[0.5555555555555556,\"#d8576b\"],[0.6666666666666666,\"#ed7953\"],[0.7777777777777778,\"#fb9f3a\"],[0.8888888888888888,\"#fdca26\"],[1.0,\"#f0f921\"]]}],\"heatmap\":[{\"type\":\"heatmap\",\"colorbar\":{\"outlinewidth\":0,\"ticks\":\"\"},\"colorscale\":[[0.0,\"#0d0887\"],[0.1111111111111111,\"#46039f\"],[0.2222222222222222,\"#7201a8\"],[0.3333333333333333,\"#9c179e\"],[0.4444444444444444,\"#bd3786\"],[0.5555555555555556,\"#d8576b\"],[0.6666666666666666,\"#ed7953\"],[0.7777777777777778,\"#fb9f3a\"],[0.8888888888888888,\"#fdca26\"],[1.0,\"#f0f921\"]]}],\"heatmapgl\":[{\"type\":\"heatmapgl\",\"colorbar\":{\"outlinewidth\":0,\"ticks\":\"\"},\"colorscale\":[[0.0,\"#0d0887\"],[0.1111111111111111,\"#46039f\"],[0.2222222222222222,\"#7201a8\"],[0.3333333333333333,\"#9c179e\"],[0.4444444444444444,\"#bd3786\"],[0.5555555555555556,\"#d8576b\"],[0.6666666666666666,\"#ed7953\"],[0.7777777777777778,\"#fb9f3a\"],[0.8888888888888888,\"#fdca26\"],[1.0,\"#f0f921\"]]}],\"contourcarpet\":[{\"type\":\"contourcarpet\",\"colorbar\":{\"outlinewidth\":0,\"ticks\":\"\"}}],\"contour\":[{\"type\":\"contour\",\"colorbar\":{\"outlinewidth\":0,\"ticks\":\"\"},\"colorscale\":[[0.0,\"#0d0887\"],[0.1111111111111111,\"#46039f\"],[0.2222222222222222,\"#7201a8\"],[0.3333333333333333,\"#9c179e\"],[0.4444444444444444,\"#bd3786\"],[0.5555555555555556,\"#d8576b\"],[0.6666666666666666,\"#ed7953\"],[0.7777777777777778,\"#fb9f3a\"],[0.8888888888888888,\"#fdca26\"],[1.0,\"#f0f921\"]]}],\"surface\":[{\"type\":\"surface\",\"colorbar\":{\"outlinewidth\":0,\"ticks\":\"\"},\"colorscale\":[[0.0,\"#0d0887\"],[0.1111111111111111,\"#46039f\"],[0.2222222222222222,\"#7201a8\"],[0.3333333333333333,\"#9c179e\"],[0.4444444444444444,\"#bd3786\"],[0.5555555555555556,\"#d8576b\"],[0.6666666666666666,\"#ed7953\"],[0.7777777777777778,\"#fb9f3a\"],[0.8888888888888888,\"#fdca26\"],[1.0,\"#f0f921\"]]}],\"mesh3d\":[{\"type\":\"mesh3d\",\"colorbar\":{\"outlinewidth\":0,\"ticks\":\"\"}}],\"scatter\":[{\"fillpattern\":{\"fillmode\":\"overlay\",\"size\":10,\"solidity\":0.2},\"type\":\"scatter\"}],\"parcoords\":[{\"type\":\"parcoords\",\"line\":{\"colorbar\":{\"outlinewidth\":0,\"ticks\":\"\"}}}],\"scatterpolargl\":[{\"type\":\"scatterpolargl\",\"marker\":{\"colorbar\":{\"outlinewidth\":0,\"ticks\":\"\"}}}],\"bar\":[{\"error_x\":{\"color\":\"#2a3f5f\"},\"error_y\":{\"color\":\"#2a3f5f\"},\"marker\":{\"line\":{\"color\":\"#E5ECF6\",\"width\":0.5},\"pattern\":{\"fillmode\":\"overlay\",\"size\":10,\"solidity\":0.2}},\"type\":\"bar\"}],\"scattergeo\":[{\"type\":\"scattergeo\",\"marker\":{\"colorbar\":{\"outlinewidth\":0,\"ticks\":\"\"}}}],\"scatterpolar\":[{\"type\":\"scatterpolar\",\"marker\":{\"colorbar\":{\"outlinewidth\":0,\"ticks\":\"\"}}}],\"histogram\":[{\"marker\":{\"pattern\":{\"fillmode\":\"overlay\",\"size\":10,\"solidity\":0.2}},\"type\":\"histogram\"}],\"scattergl\":[{\"type\":\"scattergl\",\"marker\":{\"colorbar\":{\"outlinewidth\":0,\"ticks\":\"\"}}}],\"scatter3d\":[{\"type\":\"scatter3d\",\"line\":{\"colorbar\":{\"outlinewidth\":0,\"ticks\":\"\"}},\"marker\":{\"colorbar\":{\"outlinewidth\":0,\"ticks\":\"\"}}}],\"scattermapbox\":[{\"type\":\"scattermapbox\",\"marker\":{\"colorbar\":{\"outlinewidth\":0,\"ticks\":\"\"}}}],\"scatterternary\":[{\"type\":\"scatterternary\",\"marker\":{\"colorbar\":{\"outlinewidth\":0,\"ticks\":\"\"}}}],\"scattercarpet\":[{\"type\":\"scattercarpet\",\"marker\":{\"colorbar\":{\"outlinewidth\":0,\"ticks\":\"\"}}}],\"carpet\":[{\"aaxis\":{\"endlinecolor\":\"#2a3f5f\",\"gridcolor\":\"white\",\"linecolor\":\"white\",\"minorgridcolor\":\"white\",\"startlinecolor\":\"#2a3f5f\"},\"baxis\":{\"endlinecolor\":\"#2a3f5f\",\"gridcolor\":\"white\",\"linecolor\":\"white\",\"minorgridcolor\":\"white\",\"startlinecolor\":\"#2a3f5f\"},\"type\":\"carpet\"}],\"table\":[{\"cells\":{\"fill\":{\"color\":\"#EBF0F8\"},\"line\":{\"color\":\"white\"}},\"header\":{\"fill\":{\"color\":\"#C8D4E3\"},\"line\":{\"color\":\"white\"}},\"type\":\"table\"}],\"barpolar\":[{\"marker\":{\"line\":{\"color\":\"#E5ECF6\",\"width\":0.5},\"pattern\":{\"fillmode\":\"overlay\",\"size\":10,\"solidity\":0.2}},\"type\":\"barpolar\"}],\"pie\":[{\"automargin\":true,\"type\":\"pie\"}]},\"layout\":{\"autotypenumbers\":\"strict\",\"colorway\":[\"#636efa\",\"#EF553B\",\"#00cc96\",\"#ab63fa\",\"#FFA15A\",\"#19d3f3\",\"#FF6692\",\"#B6E880\",\"#FF97FF\",\"#FECB52\"],\"font\":{\"color\":\"#2a3f5f\"},\"hovermode\":\"closest\",\"hoverlabel\":{\"align\":\"left\"},\"paper_bgcolor\":\"white\",\"plot_bgcolor\":\"#E5ECF6\",\"polar\":{\"bgcolor\":\"#E5ECF6\",\"angularaxis\":{\"gridcolor\":\"white\",\"linecolor\":\"white\",\"ticks\":\"\"},\"radialaxis\":{\"gridcolor\":\"white\",\"linecolor\":\"white\",\"ticks\":\"\"}},\"ternary\":{\"bgcolor\":\"#E5ECF6\",\"aaxis\":{\"gridcolor\":\"white\",\"linecolor\":\"white\",\"ticks\":\"\"},\"baxis\":{\"gridcolor\":\"white\",\"linecolor\":\"white\",\"ticks\":\"\"},\"caxis\":{\"gridcolor\":\"white\",\"linecolor\":\"white\",\"ticks\":\"\"}},\"coloraxis\":{\"colorbar\":{\"outlinewidth\":0,\"ticks\":\"\"}},\"colorscale\":{\"sequential\":[[0.0,\"#0d0887\"],[0.1111111111111111,\"#46039f\"],[0.2222222222222222,\"#7201a8\"],[0.3333333333333333,\"#9c179e\"],[0.4444444444444444,\"#bd3786\"],[0.5555555555555556,\"#d8576b\"],[0.6666666666666666,\"#ed7953\"],[0.7777777777777778,\"#fb9f3a\"],[0.8888888888888888,\"#fdca26\"],[1.0,\"#f0f921\"]],\"sequentialminus\":[[0.0,\"#0d0887\"],[0.1111111111111111,\"#46039f\"],[0.2222222222222222,\"#7201a8\"],[0.3333333333333333,\"#9c179e\"],[0.4444444444444444,\"#bd3786\"],[0.5555555555555556,\"#d8576b\"],[0.6666666666666666,\"#ed7953\"],[0.7777777777777778,\"#fb9f3a\"],[0.8888888888888888,\"#fdca26\"],[1.0,\"#f0f921\"]],\"diverging\":[[0,\"#8e0152\"],[0.1,\"#c51b7d\"],[0.2,\"#de77ae\"],[0.3,\"#f1b6da\"],[0.4,\"#fde0ef\"],[0.5,\"#f7f7f7\"],[0.6,\"#e6f5d0\"],[0.7,\"#b8e186\"],[0.8,\"#7fbc41\"],[0.9,\"#4d9221\"],[1,\"#276419\"]]},\"xaxis\":{\"gridcolor\":\"white\",\"linecolor\":\"white\",\"ticks\":\"\",\"title\":{\"standoff\":15},\"zerolinecolor\":\"white\",\"automargin\":true,\"zerolinewidth\":2},\"yaxis\":{\"gridcolor\":\"white\",\"linecolor\":\"white\",\"ticks\":\"\",\"title\":{\"standoff\":15},\"zerolinecolor\":\"white\",\"automargin\":true,\"zerolinewidth\":2},\"scene\":{\"xaxis\":{\"backgroundcolor\":\"#E5ECF6\",\"gridcolor\":\"white\",\"linecolor\":\"white\",\"showbackground\":true,\"ticks\":\"\",\"zerolinecolor\":\"white\",\"gridwidth\":2},\"yaxis\":{\"backgroundcolor\":\"#E5ECF6\",\"gridcolor\":\"white\",\"linecolor\":\"white\",\"showbackground\":true,\"ticks\":\"\",\"zerolinecolor\":\"white\",\"gridwidth\":2},\"zaxis\":{\"backgroundcolor\":\"#E5ECF6\",\"gridcolor\":\"white\",\"linecolor\":\"white\",\"showbackground\":true,\"ticks\":\"\",\"zerolinecolor\":\"white\",\"gridwidth\":2}},\"shapedefaults\":{\"line\":{\"color\":\"#2a3f5f\"}},\"annotationdefaults\":{\"arrowcolor\":\"#2a3f5f\",\"arrowhead\":0,\"arrowwidth\":1},\"geo\":{\"bgcolor\":\"white\",\"landcolor\":\"#E5ECF6\",\"subunitcolor\":\"white\",\"showland\":true,\"showlakes\":true,\"lakecolor\":\"white\"},\"title\":{\"x\":0.05},\"mapbox\":{\"style\":\"light\"}}},\"title\":{\"text\":\"Fig 1(b)\"},\"xaxis\":{\"title\":{\"text\":\"t\"}},\"yaxis\":{\"title\":{\"text\":\"c\"}}},                        {\"responsive\": true}                    ).then(function(){\n",
       "                            \n",
       "var gd = document.getElementById('8af30439-5a80-4ba3-a799-ac8ce8761204');\n",
       "var x = new MutationObserver(function (mutations, observer) {{\n",
       "        var display = window.getComputedStyle(gd).display;\n",
       "        if (!display || display === 'none') {{\n",
       "            console.log([gd, 'removed!']);\n",
       "            Plotly.purge(gd);\n",
       "            observer.disconnect();\n",
       "        }}\n",
       "}});\n",
       "\n",
       "// Listen for the removal of the full notebook cells\n",
       "var notebookContainer = gd.closest('#notebook-container');\n",
       "if (notebookContainer) {{\n",
       "    x.observe(notebookContainer, {childList: true});\n",
       "}}\n",
       "\n",
       "// Listen for the clearing of the current output cell\n",
       "var outputEl = gd.closest('.output');\n",
       "if (outputEl) {{\n",
       "    x.observe(outputEl, {childList: true});\n",
       "}}\n",
       "\n",
       "                        })                };                });            </script>        </div>"
      ]
     },
     "metadata": {},
     "output_type": "display_data"
    }
   ],
   "source": [
    "fig = go.Figure()\n",
    "fig.add_trace(go.Scatter(x=ts, y=cs_brown, mode='lines+markers', line=dict(color=\"brown\"), name = \"\"))\n",
    "fig.add_trace(go.Scatter(x=ts, y=cs_green, mode='lines+markers', line=dict(color=\"green\"), name = \"\"))\n",
    "fig.add_trace(go.Scatter(x=ts, y=cs_blue, mode='lines+markers', line=dict(color=\"blue\"), name = \"\"))\n",
    "fig.update_layout(title=\"Fig 1(b)\")\n",
    "fig.update_layout(xaxis={\"title\": \"t\"}, yaxis={\"title\": \"c\"})"
   ]
  },
  {
   "cell_type": "code",
   "execution_count": 15,
   "id": "c8807abe-ed3a-4f63-a2be-44e52c8c714d",
   "metadata": {
    "tags": []
   },
   "outputs": [
    {
     "data": {
      "application/vnd.plotly.v1+json": {
       "config": {
        "plotlyServerURL": "https://plot.ly"
       },
       "data": [
        {
         "line": {
          "color": "brown"
         },
         "mode": "lines+markers",
         "name": "",
         "type": "scatter",
         "x": [
          0,
          1,
          2,
          3,
          4,
          5,
          6,
          7,
          8,
          9,
          10,
          11,
          12,
          13,
          14,
          15,
          16,
          17,
          18,
          19,
          20,
          21,
          22,
          23,
          24,
          25,
          26,
          27,
          28,
          29,
          30,
          31,
          32,
          33,
          34,
          35,
          36,
          37,
          38,
          39,
          40,
          41,
          42,
          43,
          44,
          45,
          46,
          47,
          48,
          49,
          50,
          51,
          52,
          53,
          54,
          55,
          56,
          57,
          58,
          59,
          60,
          61,
          62,
          63,
          64,
          65,
          66,
          67,
          68,
          69,
          70,
          71,
          72,
          73,
          74,
          75,
          76,
          77,
          78,
          79,
          80,
          81,
          82,
          83,
          84,
          85,
          86,
          87,
          88,
          89,
          90,
          91,
          92,
          93,
          94,
          95,
          96,
          97,
          98,
          99,
          100,
          101,
          102,
          103,
          104,
          105,
          106,
          107,
          108,
          109,
          110,
          111,
          112,
          113,
          114,
          115,
          116,
          117,
          118,
          119,
          120,
          121,
          122,
          123,
          124,
          125,
          126,
          127,
          128,
          129,
          130,
          131,
          132,
          133,
          134,
          135,
          136,
          137,
          138,
          139,
          140,
          141,
          142,
          143,
          144,
          145,
          146,
          147,
          148,
          149,
          150,
          151,
          152,
          153,
          154,
          155,
          156,
          157,
          158,
          159,
          160,
          161,
          162,
          163,
          164,
          165,
          166,
          167,
          168,
          169,
          170,
          171,
          172,
          173,
          174,
          175,
          176,
          177,
          178,
          179,
          180,
          181,
          182,
          183,
          184,
          185,
          186,
          187,
          188,
          189,
          190,
          191,
          192,
          193,
          194,
          195,
          196,
          197,
          198,
          199,
          200
         ],
         "y": [
          1,
          1,
          1,
          1,
          1,
          1,
          1,
          1,
          1,
          1,
          1,
          1,
          1,
          1,
          1,
          1,
          1,
          1,
          1,
          1,
          1,
          1,
          1,
          1,
          1,
          1,
          1,
          1,
          1,
          1,
          1,
          1,
          1,
          1,
          1,
          1,
          1,
          1,
          1,
          1,
          1,
          1,
          1,
          1,
          1,
          1,
          1,
          1,
          1,
          1,
          1,
          0.09703449727189584,
          0.08919885433411089,
          0.08262673152232278,
          0.07702884971177995,
          0.07219926380986036,
          0.06798705458455565,
          0.0642789174099071,
          0.060988018956963444,
          0.05804662265078897,
          0.05540106662645254,
          0.0530082579985693,
          0.05083317204865936,
          0.04884703384623031,
          0.04702597340534904,
          0.04535001579619223,
          0.043802312304586935,
          0.04236854777850564,
          0.04103647858291132,
          0.0397955686285498,
          0.03863669991688586,
          0.037551940318209964,
          0.036534355749603654,
          0.035577857116825116,
          0.0346770747099391,
          0.033827254453539075,
          0.03302417168450367,
          0.03226405908532221,
          0.031543546124719345,
          0.030859607910401186,
          0.030209521784876583,
          0.02959083032612099,
          0.029001309673511343,
          0.028438942303074994,
          0.027901893537405676,
          0.027388491204169228,
          0.026897207960186187,
          0.026426645881148424,
          0.025975522984329542,
          0.0255426614064466,
          0.025126977003657527,
          0.024727470177514033,
          0.02434321776108859,
          0.02397336582468445,
          0.023617123281494002,
          0.023273756191070888,
          0.02294258267314796,
          0.02262296835666803,
          0.022314322299302716,
          0.022016093321545884,
          0.021727766706949994,
          0.02144886122644613,
          0.021178926450131114,
          0.02091754031456696,
          0.02066430691764126,
          0.02041885451648414,
          0.020180833706912732,
          0.019949915765448325,
          0.01972579113718411,
          0.01950816805472191,
          0.019296771275086878,
          0.019091340923004848,
          0.018891631430217996,
          0.018697410561645908,
          0.01850845852019289,
          0.018324567122876632,
          0.018145539041723956,
          0.01797118710355993,
          0.0178013336434185,
          0.01763580990683613,
          0.01747445549676323,
          0.017317117861248916,
          0.01716365181842901,
          0.017013919115681356,
          0.016867788020110443,
          0.016725132937790092,
          0.016585834059431634,
          0.016449777030358995,
          0.01631685264286437,
          0.01618695654919086,
          0.016059988993543946,
          0.015935854561673866,
          0.01581446194669733,
          0.01569572372994132,
          0.015579556175694979,
          0.015465879038849125,
          0.015354615384487786,
          0.015245691418572956,
          0.015139036328933804,
          0.015034582135834964,
          0.01493226355145649,
          0.014832017847670659,
          0.014733784731548929,
          0.014637506228076165,
          0.014543126569589374,
          0.014450592091494803,
          0.01435985113385082,
          0.014270853948434727,
          0.014183552610939839,
          0.014097900937974998,
          0.014013854408562473,
          0.013931370089852003,
          0.013850406566788816,
          0.013770923875491977,
          0.013692883440116384,
          0.013616248012987518,
          0.013540981617812453,
          0.013467049495784074,
          0.013394418054407782,
          0.013323054818891384,
          0.01325292838594947,
          0.013184008379883335,
          0.013116265410806613,
          0.013049671034895138,
          0.012984197716547428,
          0.012919818792349361,
          0.012856508436743356,
          0.012794241629308664,
          0.01273299412356511,
          0.012672742417218113,
          0.012613463723767785,
          0.012555135945409648,
          0.012497737647158844,
          0.01244124803213382,
          0.01238564691793925,
          0.012330914714091534,
          0.01227703240043349,
          0.012223981506488025,
          0.012171744091703386,
          0.012120302726545375,
          0.01206964047439442,
          0.012019740874207756,
          0.011970587923909235,
          0.011922166064471353,
          0.011874460164656023,
          0.011827455506382487,
          0.011781137770692474,
          0.011735493024284324,
          0.011690507706589328,
          0.01164616861736495,
          0.01160246290478096,
          0.011559378053975763,
          0.011516901876061386,
          0.01147502249755671,
          0.011433728350229629,
          0.011393008161329729,
          0.011352850944194111,
          0.011313245989209781,
          0.011274182855116931,
          0.01123565136063817
         ]
        },
        {
         "line": {
          "color": "green"
         },
         "mode": "lines+markers",
         "name": "",
         "type": "scatter",
         "x": [
          0,
          1,
          2,
          3,
          4,
          5,
          6,
          7,
          8,
          9,
          10,
          11,
          12,
          13,
          14,
          15,
          16,
          17,
          18,
          19,
          20,
          21,
          22,
          23,
          24,
          25,
          26,
          27,
          28,
          29,
          30,
          31,
          32,
          33,
          34,
          35,
          36,
          37,
          38,
          39,
          40,
          41,
          42,
          43,
          44,
          45,
          46,
          47,
          48,
          49,
          50,
          51,
          52,
          53,
          54,
          55,
          56,
          57,
          58,
          59,
          60,
          61,
          62,
          63,
          64,
          65,
          66,
          67,
          68,
          69,
          70,
          71,
          72,
          73,
          74,
          75,
          76,
          77,
          78,
          79,
          80,
          81,
          82,
          83,
          84,
          85,
          86,
          87,
          88,
          89,
          90,
          91,
          92,
          93,
          94,
          95,
          96,
          97,
          98,
          99,
          100,
          101,
          102,
          103,
          104,
          105,
          106,
          107,
          108,
          109,
          110,
          111,
          112,
          113,
          114,
          115,
          116,
          117,
          118,
          119,
          120,
          121,
          122,
          123,
          124,
          125,
          126,
          127,
          128,
          129,
          130,
          131,
          132,
          133,
          134,
          135,
          136,
          137,
          138,
          139,
          140,
          141,
          142,
          143,
          144,
          145,
          146,
          147,
          148,
          149,
          150,
          151,
          152,
          153,
          154,
          155,
          156,
          157,
          158,
          159,
          160,
          161,
          162,
          163,
          164,
          165,
          166,
          167,
          168,
          169,
          170,
          171,
          172,
          173,
          174,
          175,
          176,
          177,
          178,
          179,
          180,
          181,
          182,
          183,
          184,
          185,
          186,
          187,
          188,
          189,
          190,
          191,
          192,
          193,
          194,
          195,
          196,
          197,
          198,
          199,
          200
         ],
         "y": [
          1,
          1,
          1,
          1,
          1,
          1,
          1,
          1,
          1,
          1,
          1,
          1,
          1,
          1,
          1,
          1,
          1,
          1,
          1,
          1,
          1,
          1,
          1,
          1,
          1,
          1,
          1,
          1,
          1,
          1,
          1,
          1,
          1,
          1,
          1,
          1,
          1,
          1,
          1,
          1,
          1,
          1,
          1,
          1,
          1,
          1,
          1,
          1,
          1,
          1,
          1,
          0.42534494651949306,
          0.4118719156675816,
          0.40405166040175733,
          0.3993552909129435,
          0.39647945291763315,
          0.3946978709434928,
          0.3935863498362601,
          0.39288984196735877,
          0.3924522037144631,
          0.3921767531545292,
          0.3920031985563871,
          0.3918937725504729,
          0.3918247503384869,
          0.3917812018457922,
          0.3917537209745124,
          0.39173637758428675,
          0.3917254313030786,
          0.3917185222651758,
          0.39171416132485865,
          0.3917114086809807,
          0.39170967118210437,
          0.3917085744464769,
          0.39170788216739133,
          0.3917074451873188,
          0.39170716935650124,
          0.39170699524622526,
          0.39170688534404374,
          0.39170681597137424,
          0.3917067721818107,
          0.39170674454086485,
          0.3917067270932836,
          0.39170671607998053,
          0.3917067091281374,
          0.3917067047399784,
          0.3917067019700741,
          0.39170670022164855,
          0.39170669911800315,
          0.3917066984213574,
          0.39170669798161906,
          0.3917066977040463,
          0.3917066975288362,
          0.39170669741823966,
          0.3917066973484286,
          0.39170669730436236,
          0.3917066972765467,
          0.3917066972589889,
          0.39170669724790597,
          0.3917066972409102,
          0.39170669723649426,
          0.3917066972337069,
          0.3917066972319474,
          0.3917066972308368,
          0.39170669723013574,
          0.3917066972296932,
          0.39170669722941387,
          0.39170669722923757,
          0.39170669722912627,
          0.39170669722905604,
          0.3917066972290117,
          0.3917066972289837,
          0.39170669722896606,
          0.3917066972289549,
          0.39170669722894785,
          0.3917066972289434,
          0.3917066972289406,
          0.3917066972289388,
          0.3917066972289377,
          0.391706697228937,
          0.39170669722893653,
          0.39170669722893625,
          0.3917066972289361,
          0.391706697228936,
          0.3917066972289359,
          0.39170669722893586,
          0.3917066972289358,
          0.3917066972289358,
          0.3917066972289358,
          0.3917066972289358,
          0.3917066972289358,
          0.3917066972289358,
          0.3917066972289358,
          0.3917066972289358,
          0.3917066972289358,
          0.3917066972289358,
          0.3917066972289358,
          0.3917066972289358,
          0.3917066972289358,
          0.3917066972289358,
          0.3917066972289358,
          0.3917066972289358,
          0.3917066972289358,
          0.3917066972289358,
          0.3917066972289358,
          0.3917066972289358,
          0.3917066972289358,
          0.3917066972289358,
          0.3917066972289358,
          0.3917066972289358,
          0.3917066972289358,
          0.3917066972289358,
          0.3917066972289358,
          0.3917066972289358,
          0.3917066972289358,
          0.3917066972289358,
          0.3917066972289358,
          0.3917066972289358,
          0.3917066972289358,
          0.3917066972289358,
          0.3917066972289358,
          0.3917066972289358,
          0.3917066972289358,
          0.3917066972289358,
          0.3917066972289358,
          0.3917066972289358,
          0.3917066972289358,
          0.3917066972289358,
          0.3917066972289358,
          0.3917066972289358,
          0.3917066972289358,
          0.3917066972289358,
          0.3917066972289358,
          0.3917066972289358,
          0.3917066972289358,
          0.3917066972289358,
          0.3917066972289358,
          0.3917066972289358,
          0.3917066972289358,
          0.3917066972289358,
          0.3917066972289358,
          0.3917066972289358,
          0.3917066972289358,
          0.3917066972289358,
          0.3917066972289358,
          0.3917066972289358,
          0.3917066972289358,
          0.3917066972289358,
          0.3917066972289358,
          0.3917066972289358,
          0.3917066972289358,
          0.3917066972289358,
          0.3917066972289358,
          0.3917066972289358,
          0.3917066972289358,
          0.3917066972289358,
          0.3917066972289358,
          0.3917066972289358,
          0.3917066972289358,
          0.3917066972289358,
          0.3917066972289358
         ]
        },
        {
         "line": {
          "color": "blue"
         },
         "mode": "lines+markers",
         "name": "",
         "type": "scatter",
         "x": [
          0,
          1,
          2,
          3,
          4,
          5,
          6,
          7,
          8,
          9,
          10,
          11,
          12,
          13,
          14,
          15,
          16,
          17,
          18,
          19,
          20,
          21,
          22,
          23,
          24,
          25,
          26,
          27,
          28,
          29,
          30,
          31,
          32,
          33,
          34,
          35,
          36,
          37,
          38,
          39,
          40,
          41,
          42,
          43,
          44,
          45,
          46,
          47,
          48,
          49,
          50,
          51,
          52,
          53,
          54,
          55,
          56,
          57,
          58,
          59,
          60,
          61,
          62,
          63,
          64,
          65,
          66,
          67,
          68,
          69,
          70,
          71,
          72,
          73,
          74,
          75,
          76,
          77,
          78,
          79,
          80,
          81,
          82,
          83,
          84,
          85,
          86,
          87,
          88,
          89,
          90,
          91,
          92,
          93,
          94,
          95,
          96,
          97,
          98,
          99,
          100,
          101,
          102,
          103,
          104,
          105,
          106,
          107,
          108,
          109,
          110,
          111,
          112,
          113,
          114,
          115,
          116,
          117,
          118,
          119,
          120,
          121,
          122,
          123,
          124,
          125,
          126,
          127,
          128,
          129,
          130,
          131,
          132,
          133,
          134,
          135,
          136,
          137,
          138,
          139,
          140,
          141,
          142,
          143,
          144,
          145,
          146,
          147,
          148,
          149,
          150,
          151,
          152,
          153,
          154,
          155,
          156,
          157,
          158,
          159,
          160,
          161,
          162,
          163,
          164,
          165,
          166,
          167,
          168,
          169,
          170,
          171,
          172,
          173,
          174,
          175,
          176,
          177,
          178,
          179,
          180,
          181,
          182,
          183,
          184,
          185,
          186,
          187,
          188,
          189,
          190,
          191,
          192,
          193,
          194,
          195,
          196,
          197,
          198,
          199,
          200
         ],
         "y": [
          1,
          1,
          1,
          1,
          1,
          1,
          1,
          1,
          1,
          1,
          1,
          1,
          1,
          1,
          1,
          1,
          1,
          1,
          1,
          1,
          1,
          1,
          1,
          1,
          1,
          1,
          1,
          1,
          1,
          1,
          1,
          1,
          1,
          1,
          1,
          1,
          1,
          1,
          1,
          1,
          1,
          1,
          1,
          1,
          1,
          1,
          1,
          1,
          1,
          1,
          1,
          0.8352097755254381,
          0.8331165253535749,
          0.8327455112305682,
          0.8326788502989544,
          0.8326668444214956,
          0.8326646811880825,
          0.8326642913838751,
          0.8326642211420596,
          0.8326642084846153,
          0.8326642062037665,
          0.8326642057927615,
          0.8326642057186991,
          0.8326642057053532,
          0.8326642057029483,
          0.832664205702515,
          0.8326642057024368,
          0.8326642057024227,
          0.8326642057024202,
          0.8326642057024197,
          0.8326642057024197,
          0.8326642057024197,
          0.8326642057024197,
          0.8326642057024197,
          0.8326642057024197,
          0.8326642057024197,
          0.8326642057024197,
          0.8326642057024197,
          0.8326642057024197,
          0.8326642057024197,
          0.8326642057024197,
          0.8326642057024197,
          0.8326642057024197,
          0.8326642057024197,
          0.8326642057024197,
          0.8326642057024197,
          0.8326642057024197,
          0.8326642057024197,
          0.8326642057024197,
          0.8326642057024197,
          0.8326642057024197,
          0.8326642057024197,
          0.8326642057024197,
          0.8326642057024197,
          0.8326642057024197,
          0.8326642057024197,
          0.8326642057024197,
          0.8326642057024197,
          0.8326642057024197,
          0.8326642057024197,
          0.8326642057024197,
          0.8326642057024197,
          0.8326642057024197,
          0.8326642057024197,
          0.8326642057024197,
          0.8326642057024197,
          0.8326642057024197,
          0.8326642057024197,
          0.8326642057024197,
          0.8326642057024197,
          0.8326642057024197,
          0.8326642057024197,
          0.8326642057024197,
          0.8326642057024197,
          0.8326642057024197,
          0.8326642057024197,
          0.8326642057024197,
          0.8326642057024197,
          0.8326642057024197,
          0.8326642057024197,
          0.8326642057024197,
          0.8326642057024197,
          0.8326642057024197,
          0.8326642057024197,
          0.8326642057024197,
          0.8326642057024197,
          0.8326642057024197,
          0.8326642057024197,
          0.8326642057024197,
          0.8326642057024197,
          0.8326642057024197,
          0.8326642057024197,
          0.8326642057024197,
          0.8326642057024197,
          0.8326642057024197,
          0.8326642057024197,
          0.8326642057024197,
          0.8326642057024197,
          0.8326642057024197,
          0.8326642057024197,
          0.8326642057024197,
          0.8326642057024197,
          0.8326642057024197,
          0.8326642057024197,
          0.8326642057024197,
          0.8326642057024197,
          0.8326642057024197,
          0.8326642057024197,
          0.8326642057024197,
          0.8326642057024197,
          0.8326642057024197,
          0.8326642057024197,
          0.8326642057024197,
          0.8326642057024197,
          0.8326642057024197,
          0.8326642057024197,
          0.8326642057024197,
          0.8326642057024197,
          0.8326642057024197,
          0.8326642057024197,
          0.8326642057024197,
          0.8326642057024197,
          0.8326642057024197,
          0.8326642057024197,
          0.8326642057024197,
          0.8326642057024197,
          0.8326642057024197,
          0.8326642057024197,
          0.8326642057024197,
          0.8326642057024197,
          0.8326642057024197,
          0.8326642057024197,
          0.8326642057024197,
          0.8326642057024197,
          0.8326642057024197,
          0.8326642057024197,
          0.8326642057024197,
          0.8326642057024197,
          0.8326642057024197,
          0.8326642057024197,
          0.8326642057024197,
          0.8326642057024197,
          0.8326642057024197,
          0.8326642057024197,
          0.8326642057024197,
          0.8326642057024197,
          0.8326642057024197,
          0.8326642057024197,
          0.8326642057024197,
          0.8326642057024197,
          0.8326642057024197,
          0.8326642057024197,
          0.8326642057024197,
          0.8326642057024197,
          0.8326642057024197,
          0.8326642057024197,
          0.8326642057024197,
          0.8326642057024197,
          0.8326642057024197,
          0.8326642057024197
         ]
        }
       ],
       "layout": {
        "autosize": true,
        "template": {
         "data": {
          "bar": [
           {
            "error_x": {
             "color": "#2a3f5f"
            },
            "error_y": {
             "color": "#2a3f5f"
            },
            "marker": {
             "line": {
              "color": "#E5ECF6",
              "width": 0.5
             },
             "pattern": {
              "fillmode": "overlay",
              "size": 10,
              "solidity": 0.2
             }
            },
            "type": "bar"
           }
          ],
          "barpolar": [
           {
            "marker": {
             "line": {
              "color": "#E5ECF6",
              "width": 0.5
             },
             "pattern": {
              "fillmode": "overlay",
              "size": 10,
              "solidity": 0.2
             }
            },
            "type": "barpolar"
           }
          ],
          "carpet": [
           {
            "aaxis": {
             "endlinecolor": "#2a3f5f",
             "gridcolor": "white",
             "linecolor": "white",
             "minorgridcolor": "white",
             "startlinecolor": "#2a3f5f"
            },
            "baxis": {
             "endlinecolor": "#2a3f5f",
             "gridcolor": "white",
             "linecolor": "white",
             "minorgridcolor": "white",
             "startlinecolor": "#2a3f5f"
            },
            "type": "carpet"
           }
          ],
          "choropleth": [
           {
            "colorbar": {
             "outlinewidth": 0,
             "ticks": ""
            },
            "type": "choropleth"
           }
          ],
          "contour": [
           {
            "colorbar": {
             "outlinewidth": 0,
             "ticks": ""
            },
            "colorscale": [
             [
              0,
              "#0d0887"
             ],
             [
              0.1111111111111111,
              "#46039f"
             ],
             [
              0.2222222222222222,
              "#7201a8"
             ],
             [
              0.3333333333333333,
              "#9c179e"
             ],
             [
              0.4444444444444444,
              "#bd3786"
             ],
             [
              0.5555555555555556,
              "#d8576b"
             ],
             [
              0.6666666666666666,
              "#ed7953"
             ],
             [
              0.7777777777777778,
              "#fb9f3a"
             ],
             [
              0.8888888888888888,
              "#fdca26"
             ],
             [
              1,
              "#f0f921"
             ]
            ],
            "type": "contour"
           }
          ],
          "contourcarpet": [
           {
            "colorbar": {
             "outlinewidth": 0,
             "ticks": ""
            },
            "type": "contourcarpet"
           }
          ],
          "heatmap": [
           {
            "colorbar": {
             "outlinewidth": 0,
             "ticks": ""
            },
            "colorscale": [
             [
              0,
              "#0d0887"
             ],
             [
              0.1111111111111111,
              "#46039f"
             ],
             [
              0.2222222222222222,
              "#7201a8"
             ],
             [
              0.3333333333333333,
              "#9c179e"
             ],
             [
              0.4444444444444444,
              "#bd3786"
             ],
             [
              0.5555555555555556,
              "#d8576b"
             ],
             [
              0.6666666666666666,
              "#ed7953"
             ],
             [
              0.7777777777777778,
              "#fb9f3a"
             ],
             [
              0.8888888888888888,
              "#fdca26"
             ],
             [
              1,
              "#f0f921"
             ]
            ],
            "type": "heatmap"
           }
          ],
          "heatmapgl": [
           {
            "colorbar": {
             "outlinewidth": 0,
             "ticks": ""
            },
            "colorscale": [
             [
              0,
              "#0d0887"
             ],
             [
              0.1111111111111111,
              "#46039f"
             ],
             [
              0.2222222222222222,
              "#7201a8"
             ],
             [
              0.3333333333333333,
              "#9c179e"
             ],
             [
              0.4444444444444444,
              "#bd3786"
             ],
             [
              0.5555555555555556,
              "#d8576b"
             ],
             [
              0.6666666666666666,
              "#ed7953"
             ],
             [
              0.7777777777777778,
              "#fb9f3a"
             ],
             [
              0.8888888888888888,
              "#fdca26"
             ],
             [
              1,
              "#f0f921"
             ]
            ],
            "type": "heatmapgl"
           }
          ],
          "histogram": [
           {
            "marker": {
             "pattern": {
              "fillmode": "overlay",
              "size": 10,
              "solidity": 0.2
             }
            },
            "type": "histogram"
           }
          ],
          "histogram2d": [
           {
            "colorbar": {
             "outlinewidth": 0,
             "ticks": ""
            },
            "colorscale": [
             [
              0,
              "#0d0887"
             ],
             [
              0.1111111111111111,
              "#46039f"
             ],
             [
              0.2222222222222222,
              "#7201a8"
             ],
             [
              0.3333333333333333,
              "#9c179e"
             ],
             [
              0.4444444444444444,
              "#bd3786"
             ],
             [
              0.5555555555555556,
              "#d8576b"
             ],
             [
              0.6666666666666666,
              "#ed7953"
             ],
             [
              0.7777777777777778,
              "#fb9f3a"
             ],
             [
              0.8888888888888888,
              "#fdca26"
             ],
             [
              1,
              "#f0f921"
             ]
            ],
            "type": "histogram2d"
           }
          ],
          "histogram2dcontour": [
           {
            "colorbar": {
             "outlinewidth": 0,
             "ticks": ""
            },
            "colorscale": [
             [
              0,
              "#0d0887"
             ],
             [
              0.1111111111111111,
              "#46039f"
             ],
             [
              0.2222222222222222,
              "#7201a8"
             ],
             [
              0.3333333333333333,
              "#9c179e"
             ],
             [
              0.4444444444444444,
              "#bd3786"
             ],
             [
              0.5555555555555556,
              "#d8576b"
             ],
             [
              0.6666666666666666,
              "#ed7953"
             ],
             [
              0.7777777777777778,
              "#fb9f3a"
             ],
             [
              0.8888888888888888,
              "#fdca26"
             ],
             [
              1,
              "#f0f921"
             ]
            ],
            "type": "histogram2dcontour"
           }
          ],
          "mesh3d": [
           {
            "colorbar": {
             "outlinewidth": 0,
             "ticks": ""
            },
            "type": "mesh3d"
           }
          ],
          "parcoords": [
           {
            "line": {
             "colorbar": {
              "outlinewidth": 0,
              "ticks": ""
             }
            },
            "type": "parcoords"
           }
          ],
          "pie": [
           {
            "automargin": true,
            "type": "pie"
           }
          ],
          "scatter": [
           {
            "fillpattern": {
             "fillmode": "overlay",
             "size": 10,
             "solidity": 0.2
            },
            "type": "scatter"
           }
          ],
          "scatter3d": [
           {
            "line": {
             "colorbar": {
              "outlinewidth": 0,
              "ticks": ""
             }
            },
            "marker": {
             "colorbar": {
              "outlinewidth": 0,
              "ticks": ""
             }
            },
            "type": "scatter3d"
           }
          ],
          "scattercarpet": [
           {
            "marker": {
             "colorbar": {
              "outlinewidth": 0,
              "ticks": ""
             }
            },
            "type": "scattercarpet"
           }
          ],
          "scattergeo": [
           {
            "marker": {
             "colorbar": {
              "outlinewidth": 0,
              "ticks": ""
             }
            },
            "type": "scattergeo"
           }
          ],
          "scattergl": [
           {
            "marker": {
             "colorbar": {
              "outlinewidth": 0,
              "ticks": ""
             }
            },
            "type": "scattergl"
           }
          ],
          "scattermapbox": [
           {
            "marker": {
             "colorbar": {
              "outlinewidth": 0,
              "ticks": ""
             }
            },
            "type": "scattermapbox"
           }
          ],
          "scatterpolar": [
           {
            "marker": {
             "colorbar": {
              "outlinewidth": 0,
              "ticks": ""
             }
            },
            "type": "scatterpolar"
           }
          ],
          "scatterpolargl": [
           {
            "marker": {
             "colorbar": {
              "outlinewidth": 0,
              "ticks": ""
             }
            },
            "type": "scatterpolargl"
           }
          ],
          "scatterternary": [
           {
            "marker": {
             "colorbar": {
              "outlinewidth": 0,
              "ticks": ""
             }
            },
            "type": "scatterternary"
           }
          ],
          "surface": [
           {
            "colorbar": {
             "outlinewidth": 0,
             "ticks": ""
            },
            "colorscale": [
             [
              0,
              "#0d0887"
             ],
             [
              0.1111111111111111,
              "#46039f"
             ],
             [
              0.2222222222222222,
              "#7201a8"
             ],
             [
              0.3333333333333333,
              "#9c179e"
             ],
             [
              0.4444444444444444,
              "#bd3786"
             ],
             [
              0.5555555555555556,
              "#d8576b"
             ],
             [
              0.6666666666666666,
              "#ed7953"
             ],
             [
              0.7777777777777778,
              "#fb9f3a"
             ],
             [
              0.8888888888888888,
              "#fdca26"
             ],
             [
              1,
              "#f0f921"
             ]
            ],
            "type": "surface"
           }
          ],
          "table": [
           {
            "cells": {
             "fill": {
              "color": "#EBF0F8"
             },
             "line": {
              "color": "white"
             }
            },
            "header": {
             "fill": {
              "color": "#C8D4E3"
             },
             "line": {
              "color": "white"
             }
            },
            "type": "table"
           }
          ]
         },
         "layout": {
          "annotationdefaults": {
           "arrowcolor": "#2a3f5f",
           "arrowhead": 0,
           "arrowwidth": 1
          },
          "autotypenumbers": "strict",
          "coloraxis": {
           "colorbar": {
            "outlinewidth": 0,
            "ticks": ""
           }
          },
          "colorscale": {
           "diverging": [
            [
             0,
             "#8e0152"
            ],
            [
             0.1,
             "#c51b7d"
            ],
            [
             0.2,
             "#de77ae"
            ],
            [
             0.3,
             "#f1b6da"
            ],
            [
             0.4,
             "#fde0ef"
            ],
            [
             0.5,
             "#f7f7f7"
            ],
            [
             0.6,
             "#e6f5d0"
            ],
            [
             0.7,
             "#b8e186"
            ],
            [
             0.8,
             "#7fbc41"
            ],
            [
             0.9,
             "#4d9221"
            ],
            [
             1,
             "#276419"
            ]
           ],
           "sequential": [
            [
             0,
             "#0d0887"
            ],
            [
             0.1111111111111111,
             "#46039f"
            ],
            [
             0.2222222222222222,
             "#7201a8"
            ],
            [
             0.3333333333333333,
             "#9c179e"
            ],
            [
             0.4444444444444444,
             "#bd3786"
            ],
            [
             0.5555555555555556,
             "#d8576b"
            ],
            [
             0.6666666666666666,
             "#ed7953"
            ],
            [
             0.7777777777777778,
             "#fb9f3a"
            ],
            [
             0.8888888888888888,
             "#fdca26"
            ],
            [
             1,
             "#f0f921"
            ]
           ],
           "sequentialminus": [
            [
             0,
             "#0d0887"
            ],
            [
             0.1111111111111111,
             "#46039f"
            ],
            [
             0.2222222222222222,
             "#7201a8"
            ],
            [
             0.3333333333333333,
             "#9c179e"
            ],
            [
             0.4444444444444444,
             "#bd3786"
            ],
            [
             0.5555555555555556,
             "#d8576b"
            ],
            [
             0.6666666666666666,
             "#ed7953"
            ],
            [
             0.7777777777777778,
             "#fb9f3a"
            ],
            [
             0.8888888888888888,
             "#fdca26"
            ],
            [
             1,
             "#f0f921"
            ]
           ]
          },
          "colorway": [
           "#636efa",
           "#EF553B",
           "#00cc96",
           "#ab63fa",
           "#FFA15A",
           "#19d3f3",
           "#FF6692",
           "#B6E880",
           "#FF97FF",
           "#FECB52"
          ],
          "font": {
           "color": "#2a3f5f"
          },
          "geo": {
           "bgcolor": "white",
           "lakecolor": "white",
           "landcolor": "#E5ECF6",
           "showlakes": true,
           "showland": true,
           "subunitcolor": "white"
          },
          "hoverlabel": {
           "align": "left"
          },
          "hovermode": "closest",
          "mapbox": {
           "style": "light"
          },
          "paper_bgcolor": "white",
          "plot_bgcolor": "#E5ECF6",
          "polar": {
           "angularaxis": {
            "gridcolor": "white",
            "linecolor": "white",
            "ticks": ""
           },
           "bgcolor": "#E5ECF6",
           "radialaxis": {
            "gridcolor": "white",
            "linecolor": "white",
            "ticks": ""
           }
          },
          "scene": {
           "xaxis": {
            "backgroundcolor": "#E5ECF6",
            "gridcolor": "white",
            "gridwidth": 2,
            "linecolor": "white",
            "showbackground": true,
            "ticks": "",
            "zerolinecolor": "white"
           },
           "yaxis": {
            "backgroundcolor": "#E5ECF6",
            "gridcolor": "white",
            "gridwidth": 2,
            "linecolor": "white",
            "showbackground": true,
            "ticks": "",
            "zerolinecolor": "white"
           },
           "zaxis": {
            "backgroundcolor": "#E5ECF6",
            "gridcolor": "white",
            "gridwidth": 2,
            "linecolor": "white",
            "showbackground": true,
            "ticks": "",
            "zerolinecolor": "white"
           }
          },
          "shapedefaults": {
           "line": {
            "color": "#2a3f5f"
           }
          },
          "ternary": {
           "aaxis": {
            "gridcolor": "white",
            "linecolor": "white",
            "ticks": ""
           },
           "baxis": {
            "gridcolor": "white",
            "linecolor": "white",
            "ticks": ""
           },
           "bgcolor": "#E5ECF6",
           "caxis": {
            "gridcolor": "white",
            "linecolor": "white",
            "ticks": ""
           }
          },
          "title": {
           "x": 0.05
          },
          "xaxis": {
           "automargin": true,
           "gridcolor": "white",
           "linecolor": "white",
           "ticks": "",
           "title": {
            "standoff": 15
           },
           "zerolinecolor": "white",
           "zerolinewidth": 2
          },
          "yaxis": {
           "automargin": true,
           "gridcolor": "white",
           "linecolor": "white",
           "ticks": "",
           "title": {
            "standoff": 15
           },
           "zerolinecolor": "white",
           "zerolinewidth": 2
          }
         }
        },
        "title": {
         "text": "Fig 1(c)"
        },
        "xaxis": {
         "autorange": true,
         "range": [
          -12.271520750843232,
          211.27152075084322
         ],
         "title": {
          "text": "t"
         },
         "type": "linear"
        },
        "yaxis": {
         "autorange": true,
         "range": [
          -0.0703614065367849,
          1.081597057897423
         ],
         "title": {
          "text": "x"
         },
         "type": "linear"
        }
       }
      },
      "image/png": "[encoded data removed]",
      "text/html": [
       "<div>                            <div id=\"15bba566-2e86-443d-9eaa-f6d8aa8e2d21\" class=\"plotly-graph-div\" style=\"height:525px; width:100%;\"></div>            <script type=\"text/javascript\">                require([\"plotly\"], function(Plotly) {                    window.PLOTLYENV=window.PLOTLYENV || {};                                    if (document.getElementById(\"15bba566-2e86-443d-9eaa-f6d8aa8e2d21\")) {                    Plotly.newPlot(                        \"15bba566-2e86-443d-9eaa-f6d8aa8e2d21\",                        [{\"line\":{\"color\":\"brown\"},\"mode\":\"lines+markers\",\"name\":\"\",\"x\":[0.0,1.0,2.0,3.0,4.0,5.0,6.0,7.0,8.0,9.0,10.0,11.0,12.0,13.0,14.0,15.0,16.0,17.0,18.0,19.0,20.0,21.0,22.0,23.0,24.0,25.0,26.0,27.0,28.0,29.0,30.0,31.0,32.0,33.0,34.0,35.0,36.0,37.0,38.0,39.0,40.0,41.0,42.0,43.0,44.0,45.0,46.0,47.0,48.0,49.0,50.0,51.0,52.0,53.0,54.0,55.0,56.0,57.0,58.0,59.0,60.0,61.0,62.0,63.0,64.0,65.0,66.0,67.0,68.0,69.0,70.0,71.0,72.0,73.0,74.0,75.0,76.0,77.0,78.0,79.0,80.0,81.0,82.0,83.0,84.0,85.0,86.0,87.0,88.0,89.0,90.0,91.0,92.0,93.0,94.0,95.0,96.0,97.0,98.0,99.0,100.0,101.0,102.0,103.0,104.0,105.0,106.0,107.0,108.0,109.0,110.0,111.0,112.0,113.0,114.0,115.0,116.0,117.0,118.0,119.0,120.0,121.0,122.0,123.0,124.0,125.0,126.0,127.0,128.0,129.0,130.0,131.0,132.0,133.0,134.0,135.0,136.0,137.0,138.0,139.0,140.0,141.0,142.0,143.0,144.0,145.0,146.0,147.0,148.0,149.0,150.0,151.0,152.0,153.0,154.0,155.0,156.0,157.0,158.0,159.0,160.0,161.0,162.0,163.0,164.0,165.0,166.0,167.0,168.0,169.0,170.0,171.0,172.0,173.0,174.0,175.0,176.0,177.0,178.0,179.0,180.0,181.0,182.0,183.0,184.0,185.0,186.0,187.0,188.0,189.0,190.0,191.0,192.0,193.0,194.0,195.0,196.0,197.0,198.0,199.0,200.0],\"y\":[1.0,1.0,1.0,1.0,1.0,1.0,1.0,1.0,1.0,1.0,1.0,1.0,1.0,1.0,1.0,1.0,1.0,1.0,1.0,1.0,1.0,1.0,1.0,1.0,1.0,1.0,1.0,1.0,1.0,1.0,1.0,1.0,1.0,1.0,1.0,1.0,1.0,1.0,1.0,1.0,1.0,1.0,1.0,1.0,1.0,1.0,1.0,1.0,1.0,1.0,1.0,0.09703449727189584,0.08919885433411089,0.08262673152232278,0.07702884971177995,0.07219926380986036,0.06798705458455565,0.0642789174099071,0.060988018956963444,0.05804662265078897,0.05540106662645254,0.0530082579985693,0.05083317204865936,0.04884703384623031,0.04702597340534904,0.04535001579619223,0.043802312304586935,0.04236854777850564,0.04103647858291132,0.0397955686285498,0.03863669991688586,0.037551940318209964,0.036534355749603654,0.035577857116825116,0.0346770747099391,0.033827254453539075,0.03302417168450367,0.03226405908532221,0.031543546124719345,0.030859607910401186,0.030209521784876583,0.02959083032612099,0.029001309673511343,0.028438942303074994,0.027901893537405676,0.027388491204169228,0.026897207960186187,0.026426645881148424,0.025975522984329542,0.0255426614064466,0.025126977003657527,0.024727470177514033,0.02434321776108859,0.02397336582468445,0.023617123281494002,0.023273756191070888,0.02294258267314796,0.02262296835666803,0.022314322299302716,0.022016093321545884,0.021727766706949994,0.02144886122644613,0.021178926450131114,0.02091754031456696,0.02066430691764126,0.02041885451648414,0.020180833706912732,0.019949915765448325,0.01972579113718411,0.01950816805472191,0.019296771275086878,0.019091340923004848,0.018891631430217996,0.018697410561645908,0.01850845852019289,0.018324567122876632,0.018145539041723956,0.01797118710355993,0.0178013336434185,0.01763580990683613,0.01747445549676323,0.017317117861248916,0.01716365181842901,0.017013919115681356,0.016867788020110443,0.016725132937790092,0.016585834059431634,0.016449777030358995,0.01631685264286437,0.01618695654919086,0.016059988993543946,0.015935854561673866,0.01581446194669733,0.01569572372994132,0.015579556175694979,0.015465879038849125,0.015354615384487786,0.015245691418572956,0.015139036328933804,0.015034582135834964,0.01493226355145649,0.014832017847670659,0.014733784731548929,0.014637506228076165,0.014543126569589374,0.014450592091494803,0.01435985113385082,0.014270853948434727,0.014183552610939839,0.014097900937974998,0.014013854408562473,0.013931370089852003,0.013850406566788816,0.013770923875491977,0.013692883440116384,0.013616248012987518,0.013540981617812453,0.013467049495784074,0.013394418054407782,0.013323054818891384,0.01325292838594947,0.013184008379883335,0.013116265410806613,0.013049671034895138,0.012984197716547428,0.012919818792349361,0.012856508436743356,0.012794241629308664,0.01273299412356511,0.012672742417218113,0.012613463723767785,0.012555135945409648,0.012497737647158844,0.01244124803213382,0.01238564691793925,0.012330914714091534,0.01227703240043349,0.012223981506488025,0.012171744091703386,0.012120302726545375,0.01206964047439442,0.012019740874207756,0.011970587923909235,0.011922166064471353,0.011874460164656023,0.011827455506382487,0.011781137770692474,0.011735493024284324,0.011690507706589328,0.01164616861736495,0.01160246290478096,0.011559378053975763,0.011516901876061386,0.01147502249755671,0.011433728350229629,0.011393008161329729,0.011352850944194111,0.011313245989209781,0.011274182855116931,0.01123565136063817],\"type\":\"scatter\"},{\"line\":{\"color\":\"green\"},\"mode\":\"lines+markers\",\"name\":\"\",\"x\":[0.0,1.0,2.0,3.0,4.0,5.0,6.0,7.0,8.0,9.0,10.0,11.0,12.0,13.0,14.0,15.0,16.0,17.0,18.0,19.0,20.0,21.0,22.0,23.0,24.0,25.0,26.0,27.0,28.0,29.0,30.0,31.0,32.0,33.0,34.0,35.0,36.0,37.0,38.0,39.0,40.0,41.0,42.0,43.0,44.0,45.0,46.0,47.0,48.0,49.0,50.0,51.0,52.0,53.0,54.0,55.0,56.0,57.0,58.0,59.0,60.0,61.0,62.0,63.0,64.0,65.0,66.0,67.0,68.0,69.0,70.0,71.0,72.0,73.0,74.0,75.0,76.0,77.0,78.0,79.0,80.0,81.0,82.0,83.0,84.0,85.0,86.0,87.0,88.0,89.0,90.0,91.0,92.0,93.0,94.0,95.0,96.0,97.0,98.0,99.0,100.0,101.0,102.0,103.0,104.0,105.0,106.0,107.0,108.0,109.0,110.0,111.0,112.0,113.0,114.0,115.0,116.0,117.0,118.0,119.0,120.0,121.0,122.0,123.0,124.0,125.0,126.0,127.0,128.0,129.0,130.0,131.0,132.0,133.0,134.0,135.0,136.0,137.0,138.0,139.0,140.0,141.0,142.0,143.0,144.0,145.0,146.0,147.0,148.0,149.0,150.0,151.0,152.0,153.0,154.0,155.0,156.0,157.0,158.0,159.0,160.0,161.0,162.0,163.0,164.0,165.0,166.0,167.0,168.0,169.0,170.0,171.0,172.0,173.0,174.0,175.0,176.0,177.0,178.0,179.0,180.0,181.0,182.0,183.0,184.0,185.0,186.0,187.0,188.0,189.0,190.0,191.0,192.0,193.0,194.0,195.0,196.0,197.0,198.0,199.0,200.0],\"y\":[1.0,1.0,1.0,1.0,1.0,1.0,1.0,1.0,1.0,1.0,1.0,1.0,1.0,1.0,1.0,1.0,1.0,1.0,1.0,1.0,1.0,1.0,1.0,1.0,1.0,1.0,1.0,1.0,1.0,1.0,1.0,1.0,1.0,1.0,1.0,1.0,1.0,1.0,1.0,1.0,1.0,1.0,1.0,1.0,1.0,1.0,1.0,1.0,1.0,1.0,1.0,0.42534494651949306,0.4118719156675816,0.40405166040175733,0.3993552909129435,0.39647945291763315,0.3946978709434928,0.3935863498362601,0.39288984196735877,0.3924522037144631,0.3921767531545292,0.3920031985563871,0.3918937725504729,0.3918247503384869,0.3917812018457922,0.3917537209745124,0.39173637758428675,0.3917254313030786,0.3917185222651758,0.39171416132485865,0.3917114086809807,0.39170967118210437,0.3917085744464769,0.39170788216739133,0.3917074451873188,0.39170716935650124,0.39170699524622526,0.39170688534404374,0.39170681597137424,0.3917067721818107,0.39170674454086485,0.3917067270932836,0.39170671607998053,0.3917067091281374,0.3917067047399784,0.3917067019700741,0.39170670022164855,0.39170669911800315,0.3917066984213574,0.39170669798161906,0.3917066977040463,0.3917066975288362,0.39170669741823966,0.3917066973484286,0.39170669730436236,0.3917066972765467,0.3917066972589889,0.39170669724790597,0.3917066972409102,0.39170669723649426,0.3917066972337069,0.3917066972319474,0.3917066972308368,0.39170669723013574,0.3917066972296932,0.39170669722941387,0.39170669722923757,0.39170669722912627,0.39170669722905604,0.3917066972290117,0.3917066972289837,0.39170669722896606,0.3917066972289549,0.39170669722894785,0.3917066972289434,0.3917066972289406,0.3917066972289388,0.3917066972289377,0.391706697228937,0.39170669722893653,0.39170669722893625,0.3917066972289361,0.391706697228936,0.3917066972289359,0.39170669722893586,0.3917066972289358,0.3917066972289358,0.3917066972289358,0.3917066972289358,0.3917066972289358,0.3917066972289358,0.3917066972289358,0.3917066972289358,0.3917066972289358,0.3917066972289358,0.3917066972289358,0.3917066972289358,0.3917066972289358,0.3917066972289358,0.3917066972289358,0.3917066972289358,0.3917066972289358,0.3917066972289358,0.3917066972289358,0.3917066972289358,0.3917066972289358,0.3917066972289358,0.3917066972289358,0.3917066972289358,0.3917066972289358,0.3917066972289358,0.3917066972289358,0.3917066972289358,0.3917066972289358,0.3917066972289358,0.3917066972289358,0.3917066972289358,0.3917066972289358,0.3917066972289358,0.3917066972289358,0.3917066972289358,0.3917066972289358,0.3917066972289358,0.3917066972289358,0.3917066972289358,0.3917066972289358,0.3917066972289358,0.3917066972289358,0.3917066972289358,0.3917066972289358,0.3917066972289358,0.3917066972289358,0.3917066972289358,0.3917066972289358,0.3917066972289358,0.3917066972289358,0.3917066972289358,0.3917066972289358,0.3917066972289358,0.3917066972289358,0.3917066972289358,0.3917066972289358,0.3917066972289358,0.3917066972289358,0.3917066972289358,0.3917066972289358,0.3917066972289358,0.3917066972289358,0.3917066972289358,0.3917066972289358,0.3917066972289358,0.3917066972289358,0.3917066972289358,0.3917066972289358,0.3917066972289358,0.3917066972289358,0.3917066972289358,0.3917066972289358,0.3917066972289358,0.3917066972289358],\"type\":\"scatter\"},{\"line\":{\"color\":\"blue\"},\"mode\":\"lines+markers\",\"name\":\"\",\"x\":[0.0,1.0,2.0,3.0,4.0,5.0,6.0,7.0,8.0,9.0,10.0,11.0,12.0,13.0,14.0,15.0,16.0,17.0,18.0,19.0,20.0,21.0,22.0,23.0,24.0,25.0,26.0,27.0,28.0,29.0,30.0,31.0,32.0,33.0,34.0,35.0,36.0,37.0,38.0,39.0,40.0,41.0,42.0,43.0,44.0,45.0,46.0,47.0,48.0,49.0,50.0,51.0,52.0,53.0,54.0,55.0,56.0,57.0,58.0,59.0,60.0,61.0,62.0,63.0,64.0,65.0,66.0,67.0,68.0,69.0,70.0,71.0,72.0,73.0,74.0,75.0,76.0,77.0,78.0,79.0,80.0,81.0,82.0,83.0,84.0,85.0,86.0,87.0,88.0,89.0,90.0,91.0,92.0,93.0,94.0,95.0,96.0,97.0,98.0,99.0,100.0,101.0,102.0,103.0,104.0,105.0,106.0,107.0,108.0,109.0,110.0,111.0,112.0,113.0,114.0,115.0,116.0,117.0,118.0,119.0,120.0,121.0,122.0,123.0,124.0,125.0,126.0,127.0,128.0,129.0,130.0,131.0,132.0,133.0,134.0,135.0,136.0,137.0,138.0,139.0,140.0,141.0,142.0,143.0,144.0,145.0,146.0,147.0,148.0,149.0,150.0,151.0,152.0,153.0,154.0,155.0,156.0,157.0,158.0,159.0,160.0,161.0,162.0,163.0,164.0,165.0,166.0,167.0,168.0,169.0,170.0,171.0,172.0,173.0,174.0,175.0,176.0,177.0,178.0,179.0,180.0,181.0,182.0,183.0,184.0,185.0,186.0,187.0,188.0,189.0,190.0,191.0,192.0,193.0,194.0,195.0,196.0,197.0,198.0,199.0,200.0],\"y\":[1.0,1.0,1.0,1.0,1.0,1.0,1.0,1.0,1.0,1.0,1.0,1.0,1.0,1.0,1.0,1.0,1.0,1.0,1.0,1.0,1.0,1.0,1.0,1.0,1.0,1.0,1.0,1.0,1.0,1.0,1.0,1.0,1.0,1.0,1.0,1.0,1.0,1.0,1.0,1.0,1.0,1.0,1.0,1.0,1.0,1.0,1.0,1.0,1.0,1.0,1.0,0.8352097755254381,0.8331165253535749,0.8327455112305682,0.8326788502989544,0.8326668444214956,0.8326646811880825,0.8326642913838751,0.8326642211420596,0.8326642084846153,0.8326642062037665,0.8326642057927615,0.8326642057186991,0.8326642057053532,0.8326642057029483,0.832664205702515,0.8326642057024368,0.8326642057024227,0.8326642057024202,0.8326642057024197,0.8326642057024197,0.8326642057024197,0.8326642057024197,0.8326642057024197,0.8326642057024197,0.8326642057024197,0.8326642057024197,0.8326642057024197,0.8326642057024197,0.8326642057024197,0.8326642057024197,0.8326642057024197,0.8326642057024197,0.8326642057024197,0.8326642057024197,0.8326642057024197,0.8326642057024197,0.8326642057024197,0.8326642057024197,0.8326642057024197,0.8326642057024197,0.8326642057024197,0.8326642057024197,0.8326642057024197,0.8326642057024197,0.8326642057024197,0.8326642057024197,0.8326642057024197,0.8326642057024197,0.8326642057024197,0.8326642057024197,0.8326642057024197,0.8326642057024197,0.8326642057024197,0.8326642057024197,0.8326642057024197,0.8326642057024197,0.8326642057024197,0.8326642057024197,0.8326642057024197,0.8326642057024197,0.8326642057024197,0.8326642057024197,0.8326642057024197,0.8326642057024197,0.8326642057024197,0.8326642057024197,0.8326642057024197,0.8326642057024197,0.8326642057024197,0.8326642057024197,0.8326642057024197,0.8326642057024197,0.8326642057024197,0.8326642057024197,0.8326642057024197,0.8326642057024197,0.8326642057024197,0.8326642057024197,0.8326642057024197,0.8326642057024197,0.8326642057024197,0.8326642057024197,0.8326642057024197,0.8326642057024197,0.8326642057024197,0.8326642057024197,0.8326642057024197,0.8326642057024197,0.8326642057024197,0.8326642057024197,0.8326642057024197,0.8326642057024197,0.8326642057024197,0.8326642057024197,0.8326642057024197,0.8326642057024197,0.8326642057024197,0.8326642057024197,0.8326642057024197,0.8326642057024197,0.8326642057024197,0.8326642057024197,0.8326642057024197,0.8326642057024197,0.8326642057024197,0.8326642057024197,0.8326642057024197,0.8326642057024197,0.8326642057024197,0.8326642057024197,0.8326642057024197,0.8326642057024197,0.8326642057024197,0.8326642057024197,0.8326642057024197,0.8326642057024197,0.8326642057024197,0.8326642057024197,0.8326642057024197,0.8326642057024197,0.8326642057024197,0.8326642057024197,0.8326642057024197,0.8326642057024197,0.8326642057024197,0.8326642057024197,0.8326642057024197,0.8326642057024197,0.8326642057024197,0.8326642057024197,0.8326642057024197,0.8326642057024197,0.8326642057024197,0.8326642057024197,0.8326642057024197,0.8326642057024197,0.8326642057024197,0.8326642057024197,0.8326642057024197,0.8326642057024197,0.8326642057024197,0.8326642057024197,0.8326642057024197,0.8326642057024197,0.8326642057024197,0.8326642057024197,0.8326642057024197,0.8326642057024197,0.8326642057024197],\"type\":\"scatter\"}],                        {\"template\":{\"data\":{\"histogram2dcontour\":[{\"type\":\"histogram2dcontour\",\"colorbar\":{\"outlinewidth\":0,\"ticks\":\"\"},\"colorscale\":[[0.0,\"#0d0887\"],[0.1111111111111111,\"#46039f\"],[0.2222222222222222,\"#7201a8\"],[0.3333333333333333,\"#9c179e\"],[0.4444444444444444,\"#bd3786\"],[0.5555555555555556,\"#d8576b\"],[0.6666666666666666,\"#ed7953\"],[0.7777777777777778,\"#fb9f3a\"],[0.8888888888888888,\"#fdca26\"],[1.0,\"#f0f921\"]]}],\"choropleth\":[{\"type\":\"choropleth\",\"colorbar\":{\"outlinewidth\":0,\"ticks\":\"\"}}],\"histogram2d\":[{\"type\":\"histogram2d\",\"colorbar\":{\"outlinewidth\":0,\"ticks\":\"\"},\"colorscale\":[[0.0,\"#0d0887\"],[0.1111111111111111,\"#46039f\"],[0.2222222222222222,\"#7201a8\"],[0.3333333333333333,\"#9c179e\"],[0.4444444444444444,\"#bd3786\"],[0.5555555555555556,\"#d8576b\"],[0.6666666666666666,\"#ed7953\"],[0.7777777777777778,\"#fb9f3a\"],[0.8888888888888888,\"#fdca26\"],[1.0,\"#f0f921\"]]}],\"heatmap\":[{\"type\":\"heatmap\",\"colorbar\":{\"outlinewidth\":0,\"ticks\":\"\"},\"colorscale\":[[0.0,\"#0d0887\"],[0.1111111111111111,\"#46039f\"],[0.2222222222222222,\"#7201a8\"],[0.3333333333333333,\"#9c179e\"],[0.4444444444444444,\"#bd3786\"],[0.5555555555555556,\"#d8576b\"],[0.6666666666666666,\"#ed7953\"],[0.7777777777777778,\"#fb9f3a\"],[0.8888888888888888,\"#fdca26\"],[1.0,\"#f0f921\"]]}],\"heatmapgl\":[{\"type\":\"heatmapgl\",\"colorbar\":{\"outlinewidth\":0,\"ticks\":\"\"},\"colorscale\":[[0.0,\"#0d0887\"],[0.1111111111111111,\"#46039f\"],[0.2222222222222222,\"#7201a8\"],[0.3333333333333333,\"#9c179e\"],[0.4444444444444444,\"#bd3786\"],[0.5555555555555556,\"#d8576b\"],[0.6666666666666666,\"#ed7953\"],[0.7777777777777778,\"#fb9f3a\"],[0.8888888888888888,\"#fdca26\"],[1.0,\"#f0f921\"]]}],\"contourcarpet\":[{\"type\":\"contourcarpet\",\"colorbar\":{\"outlinewidth\":0,\"ticks\":\"\"}}],\"contour\":[{\"type\":\"contour\",\"colorbar\":{\"outlinewidth\":0,\"ticks\":\"\"},\"colorscale\":[[0.0,\"#0d0887\"],[0.1111111111111111,\"#46039f\"],[0.2222222222222222,\"#7201a8\"],[0.3333333333333333,\"#9c179e\"],[0.4444444444444444,\"#bd3786\"],[0.5555555555555556,\"#d8576b\"],[0.6666666666666666,\"#ed7953\"],[0.7777777777777778,\"#fb9f3a\"],[0.8888888888888888,\"#fdca26\"],[1.0,\"#f0f921\"]]}],\"surface\":[{\"type\":\"surface\",\"colorbar\":{\"outlinewidth\":0,\"ticks\":\"\"},\"colorscale\":[[0.0,\"#0d0887\"],[0.1111111111111111,\"#46039f\"],[0.2222222222222222,\"#7201a8\"],[0.3333333333333333,\"#9c179e\"],[0.4444444444444444,\"#bd3786\"],[0.5555555555555556,\"#d8576b\"],[0.6666666666666666,\"#ed7953\"],[0.7777777777777778,\"#fb9f3a\"],[0.8888888888888888,\"#fdca26\"],[1.0,\"#f0f921\"]]}],\"mesh3d\":[{\"type\":\"mesh3d\",\"colorbar\":{\"outlinewidth\":0,\"ticks\":\"\"}}],\"scatter\":[{\"fillpattern\":{\"fillmode\":\"overlay\",\"size\":10,\"solidity\":0.2},\"type\":\"scatter\"}],\"parcoords\":[{\"type\":\"parcoords\",\"line\":{\"colorbar\":{\"outlinewidth\":0,\"ticks\":\"\"}}}],\"scatterpolargl\":[{\"type\":\"scatterpolargl\",\"marker\":{\"colorbar\":{\"outlinewidth\":0,\"ticks\":\"\"}}}],\"bar\":[{\"error_x\":{\"color\":\"#2a3f5f\"},\"error_y\":{\"color\":\"#2a3f5f\"},\"marker\":{\"line\":{\"color\":\"#E5ECF6\",\"width\":0.5},\"pattern\":{\"fillmode\":\"overlay\",\"size\":10,\"solidity\":0.2}},\"type\":\"bar\"}],\"scattergeo\":[{\"type\":\"scattergeo\",\"marker\":{\"colorbar\":{\"outlinewidth\":0,\"ticks\":\"\"}}}],\"scatterpolar\":[{\"type\":\"scatterpolar\",\"marker\":{\"colorbar\":{\"outlinewidth\":0,\"ticks\":\"\"}}}],\"histogram\":[{\"marker\":{\"pattern\":{\"fillmode\":\"overlay\",\"size\":10,\"solidity\":0.2}},\"type\":\"histogram\"}],\"scattergl\":[{\"type\":\"scattergl\",\"marker\":{\"colorbar\":{\"outlinewidth\":0,\"ticks\":\"\"}}}],\"scatter3d\":[{\"type\":\"scatter3d\",\"line\":{\"colorbar\":{\"outlinewidth\":0,\"ticks\":\"\"}},\"marker\":{\"colorbar\":{\"outlinewidth\":0,\"ticks\":\"\"}}}],\"scattermapbox\":[{\"type\":\"scattermapbox\",\"marker\":{\"colorbar\":{\"outlinewidth\":0,\"ticks\":\"\"}}}],\"scatterternary\":[{\"type\":\"scatterternary\",\"marker\":{\"colorbar\":{\"outlinewidth\":0,\"ticks\":\"\"}}}],\"scattercarpet\":[{\"type\":\"scattercarpet\",\"marker\":{\"colorbar\":{\"outlinewidth\":0,\"ticks\":\"\"}}}],\"carpet\":[{\"aaxis\":{\"endlinecolor\":\"#2a3f5f\",\"gridcolor\":\"white\",\"linecolor\":\"white\",\"minorgridcolor\":\"white\",\"startlinecolor\":\"#2a3f5f\"},\"baxis\":{\"endlinecolor\":\"#2a3f5f\",\"gridcolor\":\"white\",\"linecolor\":\"white\",\"minorgridcolor\":\"white\",\"startlinecolor\":\"#2a3f5f\"},\"type\":\"carpet\"}],\"table\":[{\"cells\":{\"fill\":{\"color\":\"#EBF0F8\"},\"line\":{\"color\":\"white\"}},\"header\":{\"fill\":{\"color\":\"#C8D4E3\"},\"line\":{\"color\":\"white\"}},\"type\":\"table\"}],\"barpolar\":[{\"marker\":{\"line\":{\"color\":\"#E5ECF6\",\"width\":0.5},\"pattern\":{\"fillmode\":\"overlay\",\"size\":10,\"solidity\":0.2}},\"type\":\"barpolar\"}],\"pie\":[{\"automargin\":true,\"type\":\"pie\"}]},\"layout\":{\"autotypenumbers\":\"strict\",\"colorway\":[\"#636efa\",\"#EF553B\",\"#00cc96\",\"#ab63fa\",\"#FFA15A\",\"#19d3f3\",\"#FF6692\",\"#B6E880\",\"#FF97FF\",\"#FECB52\"],\"font\":{\"color\":\"#2a3f5f\"},\"hovermode\":\"closest\",\"hoverlabel\":{\"align\":\"left\"},\"paper_bgcolor\":\"white\",\"plot_bgcolor\":\"#E5ECF6\",\"polar\":{\"bgcolor\":\"#E5ECF6\",\"angularaxis\":{\"gridcolor\":\"white\",\"linecolor\":\"white\",\"ticks\":\"\"},\"radialaxis\":{\"gridcolor\":\"white\",\"linecolor\":\"white\",\"ticks\":\"\"}},\"ternary\":{\"bgcolor\":\"#E5ECF6\",\"aaxis\":{\"gridcolor\":\"white\",\"linecolor\":\"white\",\"ticks\":\"\"},\"baxis\":{\"gridcolor\":\"white\",\"linecolor\":\"white\",\"ticks\":\"\"},\"caxis\":{\"gridcolor\":\"white\",\"linecolor\":\"white\",\"ticks\":\"\"}},\"coloraxis\":{\"colorbar\":{\"outlinewidth\":0,\"ticks\":\"\"}},\"colorscale\":{\"sequential\":[[0.0,\"#0d0887\"],[0.1111111111111111,\"#46039f\"],[0.2222222222222222,\"#7201a8\"],[0.3333333333333333,\"#9c179e\"],[0.4444444444444444,\"#bd3786\"],[0.5555555555555556,\"#d8576b\"],[0.6666666666666666,\"#ed7953\"],[0.7777777777777778,\"#fb9f3a\"],[0.8888888888888888,\"#fdca26\"],[1.0,\"#f0f921\"]],\"sequentialminus\":[[0.0,\"#0d0887\"],[0.1111111111111111,\"#46039f\"],[0.2222222222222222,\"#7201a8\"],[0.3333333333333333,\"#9c179e\"],[0.4444444444444444,\"#bd3786\"],[0.5555555555555556,\"#d8576b\"],[0.6666666666666666,\"#ed7953\"],[0.7777777777777778,\"#fb9f3a\"],[0.8888888888888888,\"#fdca26\"],[1.0,\"#f0f921\"]],\"diverging\":[[0,\"#8e0152\"],[0.1,\"#c51b7d\"],[0.2,\"#de77ae\"],[0.3,\"#f1b6da\"],[0.4,\"#fde0ef\"],[0.5,\"#f7f7f7\"],[0.6,\"#e6f5d0\"],[0.7,\"#b8e186\"],[0.8,\"#7fbc41\"],[0.9,\"#4d9221\"],[1,\"#276419\"]]},\"xaxis\":{\"gridcolor\":\"white\",\"linecolor\":\"white\",\"ticks\":\"\",\"title\":{\"standoff\":15},\"zerolinecolor\":\"white\",\"automargin\":true,\"zerolinewidth\":2},\"yaxis\":{\"gridcolor\":\"white\",\"linecolor\":\"white\",\"ticks\":\"\",\"title\":{\"standoff\":15},\"zerolinecolor\":\"white\",\"automargin\":true,\"zerolinewidth\":2},\"scene\":{\"xaxis\":{\"backgroundcolor\":\"#E5ECF6\",\"gridcolor\":\"white\",\"linecolor\":\"white\",\"showbackground\":true,\"ticks\":\"\",\"zerolinecolor\":\"white\",\"gridwidth\":2},\"yaxis\":{\"backgroundcolor\":\"#E5ECF6\",\"gridcolor\":\"white\",\"linecolor\":\"white\",\"showbackground\":true,\"ticks\":\"\",\"zerolinecolor\":\"white\",\"gridwidth\":2},\"zaxis\":{\"backgroundcolor\":\"#E5ECF6\",\"gridcolor\":\"white\",\"linecolor\":\"white\",\"showbackground\":true,\"ticks\":\"\",\"zerolinecolor\":\"white\",\"gridwidth\":2}},\"shapedefaults\":{\"line\":{\"color\":\"#2a3f5f\"}},\"annotationdefaults\":{\"arrowcolor\":\"#2a3f5f\",\"arrowhead\":0,\"arrowwidth\":1},\"geo\":{\"bgcolor\":\"white\",\"landcolor\":\"#E5ECF6\",\"subunitcolor\":\"white\",\"showland\":true,\"showlakes\":true,\"lakecolor\":\"white\"},\"title\":{\"x\":0.05},\"mapbox\":{\"style\":\"light\"}}},\"title\":{\"text\":\"Fig 1(c)\"},\"xaxis\":{\"title\":{\"text\":\"t\"}},\"yaxis\":{\"title\":{\"text\":\"x\"}}},                        {\"responsive\": true}                    ).then(function(){\n",
       "                            \n",
       "var gd = document.getElementById('15bba566-2e86-443d-9eaa-f6d8aa8e2d21');\n",
       "var x = new MutationObserver(function (mutations, observer) {{\n",
       "        var display = window.getComputedStyle(gd).display;\n",
       "        if (!display || display === 'none') {{\n",
       "            console.log([gd, 'removed!']);\n",
       "            Plotly.purge(gd);\n",
       "            observer.disconnect();\n",
       "        }}\n",
       "}});\n",
       "\n",
       "// Listen for the removal of the full notebook cells\n",
       "var notebookContainer = gd.closest('#notebook-container');\n",
       "if (notebookContainer) {{\n",
       "    x.observe(notebookContainer, {childList: true});\n",
       "}}\n",
       "\n",
       "// Listen for the clearing of the current output cell\n",
       "var outputEl = gd.closest('.output');\n",
       "if (outputEl) {{\n",
       "    x.observe(outputEl, {childList: true});\n",
       "}}\n",
       "\n",
       "                        })                };                });            </script>        </div>"
      ]
     },
     "metadata": {},
     "output_type": "display_data"
    }
   ],
   "source": [
    "fig = go.Figure()\n",
    "fig.add_trace(go.Scatter(x=ts, y=xs_brown, mode='lines+markers', line=dict(color=\"brown\"), name = \"\"))\n",
    "fig.add_trace(go.Scatter(x=ts, y=xs_green, mode='lines+markers', line=dict(color=\"green\"), name = \"\"))\n",
    "fig.add_trace(go.Scatter(x=ts, y=xs_blue, mode='lines+markers', line=dict(color=\"blue\"), name = \"\"))\n",
    "fig.update_layout(title=\"Fig 1(c)\")\n",
    "fig.update_layout(xaxis={\"title\": \"t\"}, yaxis={\"title\": \"x\"})"
   ]
  },
  {
   "cell_type": "code",
   "execution_count": 16,
   "id": "418201a0-0ec3-4987-8e3d-887c9488b91b",
   "metadata": {
    "tags": []
   },
   "outputs": [],
   "source": [
    "def get_k_next(curx, k, cur_params):\n",
    "    r = []\n",
    "    for i in range(k):\n",
    "        r.append(float(curx))\n",
    "        curx = get_next(curx, cur_params)\n",
    "    return r     "
   ]
  },
  {
   "cell_type": "code",
   "execution_count": 17,
   "id": "a2438188-db75-45ec-9e8e-dec65e56f954",
   "metadata": {
    "tags": []
   },
   "outputs": [],
   "source": [
    "def get_arrow_scatter(cur_C, k, curx, cur_params, shift):\n",
    "    return go.Scatter(x=[cur_C]*k, y=get_k_next(curx+shift, k, cur_params),  mode=\"lines+markers\",\n",
    "            marker=dict(\n",
    "                symbol=\"arrow\",\n",
    "                size=10,\n",
    "                color='green',\n",
    "                angleref=\"previous\",\n",
    "            ), name = \"\")"
   ]
  },
  {
   "cell_type": "code",
   "execution_count": 43,
   "id": "d9265ab9-1d1d-47c2-a731-827db27838ed",
   "metadata": {
    "tags": []
   },
   "outputs": [
    {
     "data": {
      "image/png": "[encoded data removed]",
      "text/latex": [
       "$\\displaystyle \\left[ 0, \\  - \\frac{\\sqrt{\\left(- 4 b s e^{C} + 4 b s + s^{2} e^{C} + 2 s e^{C} + e^{C}\\right) e^{C}} e^{- C}}{2 s} + \\frac{s - 1}{2 s}, \\  \\frac{\\sqrt{\\left(- 4 b s e^{C} + 4 b s + s^{2} e^{C} + 2 s e^{C} + e^{C}\\right) e^{C}} e^{- C}}{2 s} + \\frac{s - 1}{2 s}\\right]$"
      ],
      "text/plain": [
       "⎡        _______________________________________________                 _____\n",
       "⎢       ╱ ⎛         C            2  C        C    C⎞  C   -C            ╱ ⎛   \n",
       "⎢     ╲╱  ⎝- 4⋅b⋅s⋅ℯ  + 4⋅b⋅s + s ⋅ℯ  + 2⋅s⋅ℯ  + ℯ ⎠⋅ℯ  ⋅ℯ     s - 1  ╲╱  ⎝- 4\n",
       "⎢0, - ────────────────────────────────────────────────────── + ─────, ────────\n",
       "⎣                              2⋅s                              2⋅s           \n",
       "\n",
       "__________________________________________            ⎤\n",
       "      C            2  C        C    C⎞  C   -C        ⎥\n",
       "⋅b⋅s⋅ℯ  + 4⋅b⋅s + s ⋅ℯ  + 2⋅s⋅ℯ  + ℯ ⎠⋅ℯ  ⋅ℯ     s - 1⎥\n",
       "────────────────────────────────────────────── + ─────⎥\n",
       "                 2⋅s                              2⋅s ⎦"
      ]
     },
     "execution_count": 43,
     "metadata": {},
     "output_type": "execute_result"
    }
   ],
   "source": [
    "s_par = 2\n",
    "b_par = 1\n",
    "params = {ro:1}\n",
    "an_sol = solve(dxdt.subs(params), x)\n",
    "an_sol"
   ]
  },
  {
   "cell_type": "code",
   "execution_count": 18,
   "id": "b06da5b3-836f-4176-b71a-0fe5cfa501e4",
   "metadata": {
    "tags": []
   },
   "outputs": [
    {
     "data": {
      "application/vnd.plotly.v1+json": {
       "config": {
        "plotlyServerURL": "https://plot.ly"
       },
       "data": [
        {
         "marker": {
          "angleref": "previous",
          "color": "green",
          "size": 10,
          "symbol": "arrow"
         },
         "mode": "lines+markers",
         "name": "",
         "type": "scatter",
         "x": [
          0,
          0
         ],
         "y": [
          0.1,
          0.19
         ]
        },
        {
         "marker": {
          "angleref": "previous",
          "color": "green",
          "size": 10,
          "symbol": "arrow"
         },
         "mode": "lines+markers",
         "name": "",
         "type": "scatter",
         "x": [
          0,
          0
         ],
         "y": [
          1.1,
          0.99
         ]
        },
        {
         "marker": {
          "angleref": "previous",
          "color": "green",
          "size": 10,
          "symbol": "arrow"
         },
         "mode": "lines+markers",
         "name": "",
         "type": "scatter",
         "x": [
          0.10204081632653061,
          0.10204081632653061
         ],
         "y": [
          0.1,
          0.18191605783933584
         ]
        },
        {
         "marker": {
          "angleref": "previous",
          "color": "green",
          "size": 10,
          "symbol": "arrow"
         },
         "mode": "lines+markers",
         "name": "",
         "type": "scatter",
         "x": [
          0.10204081632653061,
          0.10204081632653061
         ],
         "y": [
          1.0669353855376473,
          0.9624932357459622
         ]
        },
        {
         "marker": {
          "angleref": "previous",
          "color": "green",
          "size": 10,
          "symbol": "arrow"
         },
         "mode": "lines+markers",
         "name": "",
         "type": "scatter",
         "x": [
          0.20408163265306123,
          0.20408163265306123
         ],
         "y": [
          0.1,
          0.17461631712895526
         ]
        },
        {
         "marker": {
          "angleref": "previous",
          "color": "green",
          "size": 10,
          "symbol": "arrow"
         },
         "mode": "lines+markers",
         "name": "",
         "type": "scatter",
         "x": [
          0.20408163265306123,
          0.20408163265306123
         ],
         "y": [
          1.0357097802815207,
          0.9364746481399965
         ]
        },
        {
         "marker": {
          "angleref": "previous",
          "color": "green",
          "size": 10,
          "symbol": "arrow"
         },
         "mode": "lines+markers",
         "name": "",
         "type": "scatter",
         "x": [
          0.30612244897959184,
          0.30612244897959184
         ],
         "y": [
          0.1,
          0.1680247045988614
         ]
        },
        {
         "marker": {
          "angleref": "previous",
          "color": "green",
          "size": 10,
          "symbol": "arrow"
         },
         "mode": "lines+markers",
         "name": "",
         "type": "scatter",
         "x": [
          0.30612244897959184,
          0.30612244897959184
         ],
         "y": [
          1.0062379351981783,
          0.9118778895419202
         ]
        },
        {
         "marker": {
          "angleref": "previous",
          "color": "green",
          "size": 10,
          "symbol": "arrow"
         },
         "mode": "lines+markers",
         "name": "",
         "type": "scatter",
         "x": [
          0.40816326530612246,
          0.40816326530612246
         ],
         "y": [
          0.1,
          0.162072526642033
         ]
        },
        {
         "marker": {
          "angleref": "previous",
          "color": "green",
          "size": 10,
          "symbol": "arrow"
         },
         "mode": "lines+markers",
         "name": "",
         "type": "scatter",
         "x": [
          0.40816326530612246,
          0.40816326530612246
         ],
         "y": [
          0.9784386683298522,
          0.8886397958566334
         ]
        },
        {
         "marker": {
          "angleref": "previous",
          "color": "green",
          "size": 10,
          "symbol": "arrow"
         },
         "mode": "lines+markers",
         "name": "",
         "type": "scatter",
         "x": [
          0.5102040816326531,
          0.5102040816326531
         ],
         "y": [
          0.1,
          0.1566977534332004
         ]
        },
        {
         "marker": {
          "angleref": "previous",
          "color": "green",
          "size": 10,
          "symbol": "arrow"
         },
         "mode": "lines+markers",
         "name": "",
         "type": "scatter",
         "x": [
          0.5102040816326531,
          0.5102040816326531
         ],
         "y": [
          0.9522346059462226,
          0.8667001667537317
         ]
        },
        {
         "marker": {
          "angleref": "previous",
          "color": "green",
          "size": 10,
          "symbol": "arrow"
         },
         "mode": "lines+markers",
         "name": "",
         "type": "scatter",
         "x": [
          0.6122448979591837,
          0.6122448979591837
         ],
         "y": [
          0.1,
          0.15184437249333044
         ]
        },
        {
         "marker": {
          "angleref": "previous",
          "color": "green",
          "size": 10,
          "symbol": "arrow"
         },
         "mode": "lines+markers",
         "name": "",
         "type": "scatter",
         "x": [
          0.6122448979591837,
          0.6122448979591837
         ],
         "y": [
          0.9275519326952187,
          0.8460015533770963
         ]
        },
        {
         "marker": {
          "angleref": "previous",
          "color": "green",
          "size": 10,
          "symbol": "arrow"
         },
         "mode": "lines+markers",
         "name": "",
         "type": "scatter",
         "x": [
          0.7142857142857143,
          0.7142857142857143
         ],
         "y": [
          0.1,
          0.14746180496307942
         ]
        },
        {
         "marker": {
          "angleref": "previous",
          "color": "green",
          "size": 10,
          "symbol": "arrow"
         },
         "mode": "lines+markers",
         "name": "",
         "type": "scatter",
         "x": [
          0.7142857142857143,
          0.7142857142857143
         ],
         "y": [
          0.9043201509763797,
          0.8264890538737619
         ]
        },
        {
         "marker": {
          "angleref": "previous",
          "color": "green",
          "size": 10,
          "symbol": "arrow"
         },
         "mode": "lines+markers",
         "name": "",
         "type": "scatter",
         "x": [
          0.8163265306122449,
          0.8163265306122449
         ],
         "y": [
          0.1,
          0.1435043785019855
         ]
        },
        {
         "marker": {
          "angleref": "previous",
          "color": "green",
          "size": 10,
          "symbol": "arrow"
         },
         "mode": "lines+markers",
         "name": "",
         "type": "scatter",
         "x": [
          0.8163265306122449,
          0.8163265306122449
         ],
         "y": [
          0.8824718499713511,
          0.8081101172516424
         ]
        },
        {
         "marker": {
          "angleref": "previous",
          "color": "green",
          "size": 10,
          "symbol": "arrow"
         },
         "mode": "lines+markers",
         "name": "",
         "type": "scatter",
         "x": [
          0.9183673469387755,
          0.9183673469387755
         ],
         "y": [
          0.1,
          0.13993085132029032
         ]
        },
        {
         "marker": {
          "angleref": "previous",
          "color": "green",
          "size": 10,
          "symbol": "arrow"
         },
         "mode": "lines+markers",
         "name": "",
         "type": "scatter",
         "x": [
          0.9183673469387755,
          0.9183673469387755
         ],
         "y": [
          0.8619424849743788,
          0.7908143562530537
         ]
        },
        {
         "marker": {
          "angleref": "previous",
          "color": "green",
          "size": 10,
          "symbol": "arrow"
         },
         "mode": "lines+markers",
         "name": "",
         "type": "scatter",
         "x": [
          1.0204081632653061,
          1.0204081632653061
         ],
         "y": [
          0.1,
          0.13670398238315176
         ]
        },
        {
         "marker": {
          "angleref": "previous",
          "color": "green",
          "size": 10,
          "symbol": "arrow"
         },
         "mode": "lines+markers",
         "name": "",
         "type": "scatter",
         "x": [
          1.0204081632653061,
          1.0204081632653061
         ],
         "y": [
          0.8426701678597056,
          0.774553370095182
         ]
        },
        {
         "marker": {
          "angleref": "previous",
          "color": "green",
          "size": 10,
          "symbol": "arrow"
         },
         "mode": "lines+markers",
         "name": "",
         "type": "scatter",
         "x": [
          1.1224489795918369,
          1.1224489795918369
         ],
         "y": [
          0.1,
          0.13379014330818767
         ]
        },
        {
         "marker": {
          "angleref": "previous",
          "color": "green",
          "size": 10,
          "symbol": "arrow"
         },
         "mode": "lines+markers",
         "name": "",
         "type": "scatter",
         "x": [
          1.1224489795918369,
          1.1224489795918369
         ],
         "y": [
          0.8245954696887929,
          0.7592805780673871
         ]
        },
        {
         "marker": {
          "angleref": "previous",
          "color": "green",
          "size": 10,
          "symbol": "arrow"
         },
         "mode": "lines+markers",
         "name": "",
         "type": "scatter",
         "x": [
          1.2244897959183674,
          1.2244897959183674
         ],
         "y": [
          0.1,
          0.1311589679117935
         ]
        },
        {
         "marker": {
          "angleref": "previous",
          "color": "green",
          "size": 10,
          "symbol": "arrow"
         },
         "mode": "lines+markers",
         "name": "",
         "type": "scatter",
         "x": [
          1.2244897959183674,
          1.2244897959183674
         ],
         "y": [
          0.8076612365830877,
          0.7449510650748503
         ]
        },
        {
         "marker": {
          "angleref": "previous",
          "color": "green",
          "size": 10,
          "symbol": "arrow"
         },
         "mode": "lines+markers",
         "name": "",
         "type": "scatter",
         "x": [
          1.3265306122448979,
          1.3265306122448979
         ],
         "y": [
          0.1,
          0.12878303575202749
         ]
        },
        {
         "marker": {
          "angleref": "previous",
          "color": "green",
          "size": 10,
          "symbol": "arrow"
         },
         "mode": "lines+markers",
         "name": "",
         "type": "scatter",
         "x": [
          1.3265306122448979,
          1.3265306122448979
         ],
         "y": [
          0.7918124200519548,
          0.7315214402644582
         ]
        },
        {
         "marker": {
          "angleref": "previous",
          "color": "green",
          "size": 10,
          "symbol": "arrow"
         },
         "mode": "lines+markers",
         "name": "",
         "type": "scatter",
         "x": [
          1.4285714285714286,
          1.4285714285714286
         ],
         "y": [
          0.1,
          0.126637586370148
         ]
        },
        {
         "marker": {
          "angleref": "previous",
          "color": "green",
          "size": 10,
          "symbol": "arrow"
         },
         "mode": "lines+markers",
         "name": "",
         "type": "scatter",
         "x": [
          1.4285714285714286,
          1.4285714285714286
         ],
         "y": [
          0.7769959229558147,
          0.7189497098488307
         ]
        },
        {
         "marker": {
          "angleref": "previous",
          "color": "green",
          "size": 10,
          "symbol": "arrow"
         },
         "mode": "lines+markers",
         "name": "",
         "type": "scatter",
         "x": [
          1.5306122448979593,
          1.5306122448979593
         ],
         "y": [
          0.1,
          0.12470026125280945
         ]
        },
        {
         "marker": {
          "angleref": "previous",
          "color": "green",
          "size": 10,
          "symbol": "arrow"
         },
         "mode": "lines+markers",
         "name": "",
         "type": "scatter",
         "x": [
          1.5306122448979593,
          1.5306122448979593
         ],
         "y": [
          0.7631604621897604,
          0.7071951651474501
         ]
        },
        {
         "marker": {
          "angleref": "previous",
          "color": "green",
          "size": 10,
          "symbol": "arrow"
         },
         "mode": "lines+markers",
         "name": "",
         "type": "scatter",
         "x": [
          1.6326530612244898,
          1.6326530612244898
         ],
         "y": [
          0.1,
          0.12295087082581052
         ]
        },
        {
         "marker": {
          "angleref": "previous",
          "color": "green",
          "size": 10,
          "symbol": "arrow"
         },
         "mode": "lines+markers",
         "name": "",
         "type": "scatter",
         "x": [
          1.6326530612244898,
          1.6326530612244898
         ],
         "y": [
          0.7502564489859758,
          0.6962182866836364
         ]
        },
        {
         "marker": {
          "angleref": "previous",
          "color": "green",
          "size": 10,
          "symbol": "arrow"
         },
         "mode": "lines+markers",
         "name": "",
         "type": "scatter",
         "x": [
          1.7346938775510203,
          1.7346938775510203
         ],
         "y": [
          0.1,
          0.12137118405115094
         ]
        },
        {
         "marker": {
          "angleref": "previous",
          "color": "green",
          "size": 10,
          "symbol": "arrow"
         },
         "mode": "lines+markers",
         "name": "",
         "type": "scatter",
         "x": [
          1.7346938775510203,
          1.7346938775510203
         ],
         "y": [
          0.7382358874536272,
          0.6859806649121998
         ]
        },
        {
         "marker": {
          "angleref": "previous",
          "color": "green",
          "size": 10,
          "symbol": "arrow"
         },
         "mode": "lines+markers",
         "name": "",
         "type": "scatter",
         "x": [
          1.836734693877551,
          1.836734693877551
         ],
         "y": [
          0.1,
          0.11994473843471112
         ]
        },
        {
         "marker": {
          "angleref": "previous",
          "color": "green",
          "size": 10,
          "symbol": "arrow"
         },
         "mode": "lines+markers",
         "name": "",
         "type": "scatter",
         "x": [
          1.836734693877551,
          1.836734693877551
         ],
         "y": [
          0.7270522916098859,
          0.6764449378116448
         ]
        },
        {
         "marker": {
          "angleref": "previous",
          "color": "green",
          "size": 10,
          "symbol": "arrow"
         },
         "mode": "lines+markers",
         "name": "",
         "type": "scatter",
         "x": [
          1.9387755102040818,
          1.9387755102040818
         ],
         "y": [
          0.1,
          0.11865666846457489
         ]
        },
        {
         "marker": {
          "angleref": "previous",
          "color": "green",
          "size": 10,
          "symbol": "arrow"
         },
         "mode": "lines+markers",
         "name": "",
         "type": "scatter",
         "x": [
          1.9387755102040818,
          1.9387755102040818
         ],
         "y": [
          0.7166606207209189,
          0.667574745171025
         ]
        },
        {
         "marker": {
          "angleref": "previous",
          "color": "green",
          "size": 10,
          "symbol": "arrow"
         },
         "mode": "lines+markers",
         "name": "",
         "type": "scatter",
         "x": [
          2.0408163265306123,
          2.0408163265306123
         ],
         "y": [
          0.1,
          0.11749355069208829
         ]
        },
        {
         "marker": {
          "angleref": "previous",
          "color": "green",
          "size": 10,
          "symbol": "arrow"
         },
         "mode": "lines+markers",
         "name": "",
         "type": "scatter",
         "x": [
          2.0408163265306123,
          2.0408163265306123
         ],
         "y": [
          0.7070172322907257,
          0.6593346989564363
         ]
        },
        {
         "marker": {
          "angleref": "previous",
          "color": "green",
          "size": 10,
          "symbol": "arrow"
         },
         "mode": "lines+markers",
         "name": "",
         "type": "scatter",
         "x": [
          2.142857142857143,
          2.142857142857143
         ],
         "y": [
          0.1,
          0.11644326384118757
         ]
        },
        {
         "marker": {
          "angleref": "previous",
          "color": "green",
          "size": 10,
          "symbol": "arrow"
         },
         "mode": "lines+markers",
         "name": "",
         "type": "scatter",
         "x": [
          2.142857142857143,
          2.142857142857143
         ],
         "y": [
          0.698079851538588,
          0.6516903686830522
         ]
        },
        {
         "marker": {
          "angleref": "previous",
          "color": "green",
          "size": 10,
          "symbol": "arrow"
         },
         "mode": "lines+markers",
         "name": "",
         "type": "scatter",
         "x": [
          2.2448979591836737,
          2.2448979591836737
         ],
         "y": [
          0.1,
          0.11549486248814429
         ]
        },
        {
         "marker": {
          "angleref": "previous",
          "color": "green",
          "size": 10,
          "symbol": "arrow"
         },
         "mode": "lines+markers",
         "name": "",
         "type": "scatter",
         "x": [
          2.2448979591836737,
          2.2448979591836737
         ],
         "y": [
          0.6898075557265693,
          0.6446082802764667
         ]
        },
        {
         "marker": {
          "angleref": "previous",
          "color": "green",
          "size": 10,
          "symbol": "arrow"
         },
         "mode": "lines+markers",
         "name": "",
         "type": "scatter",
         "x": [
          2.3469387755102042,
          2.3469387755102042
         ],
         "y": [
          0.1,
          0.11463846299529819
         ]
        },
        {
         "marker": {
          "angleref": "previous",
          "color": "green",
          "size": 10,
          "symbol": "arrow"
         },
         "mode": "lines+markers",
         "name": "",
         "type": "scatter",
         "x": [
          2.3469387755102042,
          2.3469387755102042
         ],
         "y": [
          0.6821607712716674,
          0.6380559265135349
         ]
        },
        {
         "marker": {
          "angleref": "previous",
          "color": "green",
          "size": 10,
          "symbol": "arrow"
         },
         "mode": "lines+markers",
         "name": "",
         "type": "scatter",
         "x": [
          2.4489795918367347,
          2.4489795918367347
         ],
         "y": [
          0.1,
          0.11386514051005117
         ]
        },
        {
         "marker": {
          "angleref": "previous",
          "color": "green",
          "size": 10,
          "symbol": "arrow"
         },
         "mode": "lines+markers",
         "name": "",
         "type": "scatter",
         "x": [
          2.4489795918367347,
          2.4489795918367347
         ],
         "y": [
          0.6751012812344901,
          0.6320017868167709
         ]
        },
        {
         "marker": {
          "angleref": "previous",
          "color": "green",
          "size": 10,
          "symbol": "arrow"
         },
         "mode": "lines+markers",
         "name": "",
         "type": "scatter",
         "x": [
          2.5510204081632653,
          2.5510204081632653
         ],
         "y": [
          0.1,
          0.11316683595571148
         ]
        },
        {
         "marker": {
          "angleref": "previous",
          "color": "green",
          "size": 10,
          "symbol": "arrow"
         },
         "mode": "lines+markers",
         "name": "",
         "type": "scatter",
         "x": [
          2.5510204081632653,
          2.5510204081632653
         ],
         "y": [
          0.6685922405430945,
          0.6264153539608291
         ]
        },
        {
         "marker": {
          "angleref": "previous",
          "color": "green",
          "size": 10,
          "symbol": "arrow"
         },
         "mode": "lines+markers",
         "name": "",
         "type": "scatter",
         "x": [
          2.6530612244897958,
          2.6530612244897958
         ],
         "y": [
          0.1,
          0.11253627204490552
         ]
        },
        {
         "marker": {
          "angleref": "previous",
          "color": "green",
          "size": 10,
          "symbol": "arrow"
         },
         "mode": "lines+markers",
         "name": "",
         "type": "scatter",
         "x": [
          2.6530612244897958,
          2.6530612244897958
         ],
         "y": [
          0.6625981962031019,
          0.6212671651494976
         ]
        },
        {
         "marker": {
          "angleref": "previous",
          "color": "green",
          "size": 10,
          "symbol": "arrow"
         },
         "mode": "lines+markers",
         "name": "",
         "type": "scatter",
         "x": [
          2.7551020408163267,
          2.7551020408163267
         ],
         "y": [
          0.1,
          0.11196687744030223
         ]
        },
        {
         "marker": {
          "angleref": "previous",
          "color": "green",
          "size": 10,
          "symbol": "arrow"
         },
         "mode": "lines+markers",
         "name": "",
         "type": "scatter",
         "x": [
          2.7551020408163267,
          2.7551020408163267
         ],
         "y": [
          0.6570851097689588,
          0.6165288349420798
         ]
        },
        {
         "marker": {
          "angleref": "previous",
          "color": "green",
          "size": 10,
          "symbol": "arrow"
         },
         "mode": "lines+markers",
         "name": "",
         "type": "scatter",
         "x": [
          2.857142857142857,
          2.857142857142857
         ],
         "y": [
          0.1,
          0.11145271827230145
         ]
        },
        {
         "marker": {
          "angleref": "previous",
          "color": "green",
          "size": 10,
          "symbol": "arrow"
         },
         "mode": "lines+markers",
         "name": "",
         "type": "scatter",
         "x": [
          2.857142857142857,
          2.857142857142857
         ],
         "y": [
          0.652020379500802,
          0.6121730876441098
         ]
        },
        {
         "marker": {
          "angleref": "previous",
          "color": "green",
          "size": 10,
          "symbol": "arrow"
         },
         "mode": "lines+markers",
         "name": "",
         "type": "scatter",
         "x": [
          2.9591836734693877,
          2.9591836734693877
         ],
         "y": [
          0.1,
          0.11098843630000658
         ]
        },
        {
         "marker": {
          "angleref": "previous",
          "color": "green",
          "size": 10,
          "symbol": "arrow"
         },
         "mode": "lines+markers",
         "name": "",
         "type": "scatter",
         "x": [
          2.9591836734693877,
          2.9591836734693877
         ],
         "y": [
          0.6473728598914829,
          0.6081737870150508
         ]
        },
        {
         "marker": {
          "angleref": "previous",
          "color": "green",
          "size": 10,
          "symbol": "arrow"
         },
         "mode": "lines+markers",
         "name": "",
         "type": "scatter",
         "x": [
          3.0612244897959187,
          3.0612244897959187
         ],
         "y": [
          0.1,
          0.11056919307103497
         ]
        },
        {
         "marker": {
          "angleref": "previous",
          "color": "green",
          "size": 10,
          "symbol": "arrow"
         },
         "mode": "lines+markers",
         "name": "",
         "type": "scatter",
         "x": [
          3.0612244897959187,
          3.0612244897959187
         ],
         "y": [
          0.6431128765957067,
          0.6045059614638189
         ]
        },
        {
         "marker": {
          "angleref": "previous",
          "color": "green",
          "size": 10,
          "symbol": "arrow"
         },
         "mode": "lines+markers",
         "name": "",
         "type": "scatter",
         "x": [
          3.163265306122449,
          3.163265306122449
         ],
         "y": [
          0.1,
          0.11019061949823443
         ]
        },
        {
         "marker": {
          "angleref": "previous",
          "color": "green",
          "size": 10,
          "symbol": "arrow"
         },
         "mode": "lines+markers",
         "name": "",
         "type": "scatter",
         "x": [
          3.163265306122449,
          3.163265306122449
         ],
         "y": [
          0.6392122352000456,
          0.6011458232761341
         ]
        },
        {
         "marker": {
          "angleref": "previous",
          "color": "green",
          "size": 10,
          "symbol": "arrow"
         },
         "mode": "lines+markers",
         "name": "",
         "type": "scatter",
         "x": [
          3.2653061224489797,
          3.2653061224489797
         ],
         "y": [
          0.1,
          0.1098487703278268
         ]
        },
        {
         "marker": {
          "angleref": "previous",
          "color": "green",
          "size": 10,
          "symbol": "arrow"
         },
         "mode": "lines+markers",
         "name": "",
         "type": "scatter",
         "x": [
          3.2653061224489797,
          3.2653061224489797
         ],
         "y": [
          0.6356442227088813,
          0.598070780818497
         ]
        },
        {
         "marker": {
          "angleref": "previous",
          "color": "green",
          "size": 10,
          "symbol": "arrow"
         },
         "mode": "lines+markers",
         "name": "",
         "type": "scatter",
         "x": [
          3.36734693877551,
          3.36734693877551
         ],
         "y": [
          0.1,
          0.10954008302447413
         ]
        },
        {
         "marker": {
          "angleref": "previous",
          "color": "green",
          "size": 10,
          "symbol": "arrow"
         },
         "mode": "lines+markers",
         "name": "",
         "type": "scatter",
         "x": [
          3.36734693877551,
          3.36734693877551
         ],
         "y": [
          0.6323836010586397,
          0.5952594430659248
         ]
        },
        {
         "marker": {
          "angleref": "previous",
          "color": "green",
          "size": 10,
          "symbol": "arrow"
         },
         "mode": "lines+markers",
         "name": "",
         "type": "scatter",
         "x": [
          3.4693877551020407,
          3.4693877551020407
         ],
         "y": [
          0.1,
          0.10926134064479387
         ]
        },
        {
         "marker": {
          "angleref": "previous",
          "color": "green",
          "size": 10,
          "symbol": "arrow"
         },
         "mode": "lines+markers",
         "name": "",
         "type": "scatter",
         "x": [
          3.4693877551020407,
          3.4693877551020407
         ],
         "y": [
          0.6294065923860118,
          0.5926916161815334
         ]
        },
        {
         "marker": {
          "angleref": "previous",
          "color": "green",
          "size": 10,
          "symbol": "arrow"
         },
         "mode": "lines+markers",
         "name": "",
         "type": "scatter",
         "x": [
          3.5714285714285716,
          3.5714285714285716
         ],
         "y": [
          0.1,
          0.10900963831241434
         ]
        },
        {
         "marker": {
          "angleref": "previous",
          "color": "green",
          "size": 10,
          "symbol": "arrow"
         },
         "mode": "lines+markers",
         "name": "",
         "type": "scatter",
         "x": [
          3.5714285714285716,
          3.5714285714285716
         ],
         "y": [
          0.6266908561454209,
          0.590348292217445
         ]
        },
        {
         "marker": {
          "angleref": "previous",
          "color": "green",
          "size": 10,
          "symbol": "arrow"
         },
         "mode": "lines+markers",
         "name": "",
         "type": "scatter",
         "x": [
          3.673469387755102,
          3.673469387755102
         ],
         "y": [
          0.1,
          0.10878235294519474
         ]
        },
        {
         "marker": {
          "angleref": "previous",
          "color": "green",
          "size": 10,
          "symbol": "arrow"
         },
         "mode": "lines+markers",
         "name": "",
         "type": "scatter",
         "x": [
          3.673469387755102,
          3.673469387755102
         ],
         "y": [
          0.6242154584832308,
          0.5882116302957927
         ]
        },
        {
         "marker": {
          "angleref": "previous",
          "color": "green",
          "size": 10,
          "symbol": "arrow"
         },
         "mode": "lines+markers",
         "name": "",
         "type": "scatter",
         "x": [
          3.7755102040816326,
          3.7755102040816326
         ],
         "y": [
          0.1,
          0.10857711591912596
         ]
        },
        {
         "marker": {
          "angleref": "previous",
          "color": "green",
          "size": 10,
          "symbol": "arrow"
         },
         "mode": "lines+markers",
         "name": "",
         "type": "scatter",
         "x": [
          3.7755102040816326,
          3.7755102040816326
         ],
         "y": [
          0.6219608345235679,
          0.5862649308587639
         ]
        },
        {
         "marker": {
          "angleref": "previous",
          "color": "green",
          "size": 10,
          "symbol": "arrow"
         },
         "mode": "lines+markers",
         "name": "",
         "type": "scatter",
         "x": [
          3.8775510204081636,
          3.8775510204081636
         ],
         "y": [
          0.1,
          0.10839178838403278
         ]
        },
        {
         "marker": {
          "angleref": "previous",
          "color": "green",
          "size": 10,
          "symbol": "arrow"
         },
         "mode": "lines+markers",
         "name": "",
         "type": "scatter",
         "x": [
          3.8775510204081636,
          3.8775510204081636
         ],
         "y": [
          0.6199087444011336,
          0.5844926037457274
         ]
        },
        {
         "marker": {
          "angleref": "previous",
          "color": "green",
          "size": 10,
          "symbol": "arrow"
         },
         "mode": "lines+markers",
         "name": "",
         "type": "scatter",
         "x": [
          3.979591836734694,
          3.979591836734694
         ],
         "y": [
          0.1,
          0.10822443897383326
         ]
        },
        {
         "marker": {
          "angleref": "previous",
          "color": "green",
          "size": 10,
          "symbol": "arrow"
         },
         "mode": "lines+markers",
         "name": "",
         "type": "scatter",
         "x": [
          3.979591836734694,
          3.979591836734694
         ],
         "y": [
          0.6180422239927872,
          0.5828801309658994
         ]
        },
        {
         "marker": {
          "angleref": "previous",
          "color": "green",
          "size": 10,
          "symbol": "arrow"
         },
         "mode": "lines+markers",
         "name": "",
         "type": "scatter",
         "x": [
          4.081632653061225,
          4.081632653061225
         ],
         "y": [
          0.1,
          0.10807332367906583
         ]
        },
        {
         "marker": {
          "angleref": "previous",
          "color": "green",
          "size": 10,
          "symbol": "arrow"
         },
         "mode": "lines+markers",
         "name": "",
         "type": "scatter",
         "x": [
          4.081632653061225,
          4.081632653061225
         ],
         "y": [
          0.6163455313580368,
          0.5814140250921555
         ]
        },
        {
         "marker": {
          "angleref": "previous",
          "color": "green",
          "size": 10,
          "symbol": "arrow"
         },
         "mode": "lines+markers",
         "name": "",
         "type": "scatter",
         "x": [
          4.183673469387755,
          4.183673469387755
         ],
         "y": [
          0.1,
          0.10793686767192831
         ]
        },
        {
         "marker": {
          "angleref": "previous",
          "color": "green",
          "size": 10,
          "symbol": "arrow"
         },
         "mode": "lines+markers",
         "name": "",
         "type": "scatter",
         "x": [
          4.183673469387755,
          4.183673469387755
         ],
         "y": [
          0.6148040899071803,
          0.580081784212992
         ]
        },
        {
         "marker": {
          "angleref": "previous",
          "color": "green",
          "size": 10,
          "symbol": "arrow"
         },
         "mode": "lines+markers",
         "name": "",
         "type": "scatter",
         "x": [
          4.285714285714286,
          4.285714285714286
         ],
         "y": [
          0.1,
          0.10781364889442087
         ]
        },
        {
         "marker": {
          "angleref": "previous",
          "color": "green",
          "size": 10,
          "symbol": "arrow"
         },
         "mode": "lines+markers",
         "name": "",
         "type": "scatter",
         "x": [
          4.285714285714286,
          4.285714285714286
         ],
         "y": [
          0.6134044292841808,
          0.5788718443538707
         ]
        },
        {
         "marker": {
          "angleref": "previous",
          "color": "green",
          "size": 10,
          "symbol": "arrow"
         },
         "mode": "lines+markers",
         "name": "",
         "type": "scatter",
         "x": [
          4.387755102040816,
          4.387755102040816
         ],
         "y": [
          0.1,
          0.10770238323855917
         ]
        },
        {
         "marker": {
          "angleref": "previous",
          "color": "green",
          "size": 10,
          "symbol": "arrow"
         },
         "mode": "lines+markers",
         "name": "",
         "type": "scatter",
         "x": [
          4.387755102040816,
          4.387755102040816
         ],
         "y": [
          0.6121341248890632,
          0.5777735302249907
         ]
        },
        {
         "marker": {
          "angleref": "previous",
          "color": "green",
          "size": 10,
          "symbol": "arrow"
         },
         "mode": "lines+markers",
         "name": "",
         "type": "scatter",
         "x": [
          4.4897959183673475,
          4.4897959183673475
         ],
         "y": [
          0.1,
          0.10760191116421493
         ]
        },
        {
         "marker": {
          "angleref": "previous",
          "color": "green",
          "size": 10,
          "symbol": "arrow"
         },
         "mode": "lines+markers",
         "name": "",
         "type": "scatter",
         "x": [
          4.4897959183673475,
          4.4897959183673475
         ],
         "y": [
          0.6109817368807432,
          0.576777005078211
         ]
        },
        {
         "marker": {
          "angleref": "previous",
          "color": "green",
          "size": 10,
          "symbol": "arrow"
         },
         "mode": "lines+markers",
         "name": "",
         "type": "scatter",
         "x": [
          4.591836734693878,
          4.591836734693878
         ],
         "y": [
          0.1,
          0.10751118561512382
         ]
        },
        {
         "marker": {
          "angleref": "previous",
          "color": "green",
          "size": 10,
          "symbol": "arrow"
         },
         "mode": "lines+markers",
         "name": "",
         "type": "scatter",
         "x": [
          4.591836734693878,
          4.591836734693878
         ],
         "y": [
          0.6099367494040483,
          0.5758732203689274
         ]
        },
        {
         "marker": {
          "angleref": "previous",
          "color": "green",
          "size": 10,
          "symbol": "arrow"
         },
         "mode": "lines+markers",
         "name": "",
         "type": "scatter",
         "x": [
          4.6938775510204085,
          4.6938775510204085
         ],
         "y": [
          0.1,
          0.10742926110712887
         ]
        },
        {
         "marker": {
          "angleref": "previous",
          "color": "green",
          "size": 10,
          "symbol": "arrow"
         },
         "mode": "lines+markers",
         "name": "",
         "type": "scatter",
         "x": [
          4.6938775510204085,
          4.6938775510204085
         ],
         "y": [
          0.6089895106809791,
          0.5750538658253994
         ]
        },
        {
         "marker": {
          "angleref": "previous",
          "color": "green",
          "size": 10,
          "symbol": "arrow"
         },
         "mode": "lines+markers",
         "name": "",
         "type": "scatter",
         "x": [
          4.795918367346939,
          4.795918367346939
         ],
         "y": [
          0.1,
          0.10735528387494399
         ]
        },
        {
         "marker": {
          "angleref": "previous",
          "color": "green",
          "size": 10,
          "symbol": "arrow"
         },
         "mode": "lines+markers",
         "name": "",
         "type": "scatter",
         "x": [
          4.795918367346939,
          4.795918367346939
         ],
         "y": [
          0.6081311745017715,
          0.57431132043357
         ]
        },
        {
         "marker": {
          "angleref": "previous",
          "color": "green",
          "size": 10,
          "symbol": "arrow"
         },
         "mode": "lines+markers",
         "name": "",
         "type": "scatter",
         "x": [
          4.8979591836734695,
          4.8979591836734695
         ],
         "y": [
          0.1,
          0.10728848297475337
         ]
        },
        {
         "marker": {
          "angleref": "previous",
          "color": "green",
          "size": 10,
          "symbol": "arrow"
         },
         "mode": "lines+markers",
         "name": "",
         "type": "scatter",
         "x": [
          4.8979591836734695,
          4.8979591836734695
         ],
         "y": [
          0.6073536435501157,
          0.5736386047536379
         ]
        },
        {
         "marker": {
          "angleref": "previous",
          "color": "green",
          "size": 10,
          "symbol": "arrow"
         },
         "mode": "lines+markers",
         "name": "",
         "type": "scatter",
         "x": [
          5,
          5
         ],
         "y": [
          0.1,
          0.10722816224992379
         ]
        },
        {
         "marker": {
          "angleref": "previous",
          "color": "green",
          "size": 10,
          "symbol": "arrow"
         },
         "mode": "lines+markers",
         "name": "",
         "type": "scatter",
         "x": [
          5,
          5
         ],
         "y": [
          0.6066495149022154,
          0.573029334898456
         ]
        },
        {
         "mode": "markers",
         "name": "",
         "type": "scatter",
         "x": [
          0,
          0,
          0.10204081632653061,
          0.10204081632653061,
          0.20408163265306123,
          0.20408163265306123,
          0.30612244897959184,
          0.30612244897959184,
          0.40816326530612246,
          0.40816326530612246,
          0.5102040816326531,
          0.5102040816326531,
          0.6122448979591837,
          0.6122448979591837,
          0.7142857142857143,
          0.7142857142857143,
          0.8163265306122449,
          0.8163265306122449,
          0.9183673469387755,
          0.9183673469387755,
          1.0204081632653061,
          1.0204081632653061,
          1.1224489795918369,
          1.1224489795918369,
          1.2244897959183674,
          1.2244897959183674,
          1.3265306122448979,
          1.3265306122448979,
          1.4285714285714286,
          1.4285714285714286,
          1.5306122448979593,
          1.5306122448979593,
          1.6326530612244898,
          1.6326530612244898,
          1.7346938775510203,
          1.7346938775510203,
          1.836734693877551,
          1.836734693877551,
          1.9387755102040818,
          1.9387755102040818,
          2.0408163265306123,
          2.0408163265306123,
          2.142857142857143,
          2.142857142857143,
          2.2448979591836737,
          2.2448979591836737,
          2.3469387755102042,
          2.3469387755102042,
          2.4489795918367347,
          2.4489795918367347,
          2.5510204081632653,
          2.5510204081632653,
          2.6530612244897958,
          2.6530612244897958,
          2.7551020408163267,
          2.7551020408163267,
          2.857142857142857,
          2.857142857142857,
          2.9591836734693877,
          2.9591836734693877,
          3.0612244897959187,
          3.0612244897959187,
          3.163265306122449,
          3.163265306122449,
          3.2653061224489797,
          3.2653061224489797,
          3.36734693877551,
          3.36734693877551,
          3.4693877551020407,
          3.4693877551020407,
          3.5714285714285716,
          3.5714285714285716,
          3.673469387755102,
          3.673469387755102,
          3.7755102040816326,
          3.7755102040816326,
          3.8775510204081636,
          3.8775510204081636,
          3.979591836734694,
          3.979591836734694,
          4.081632653061225,
          4.081632653061225,
          4.183673469387755,
          4.183673469387755,
          4.285714285714286,
          4.285714285714286,
          4.387755102040816,
          4.387755102040816,
          4.4897959183673475,
          4.4897959183673475,
          4.591836734693878,
          4.591836734693878,
          4.6938775510204085,
          4.6938775510204085,
          4.795918367346939,
          4.795918367346939,
          4.8979591836734695,
          4.8979591836734695,
          5,
          5
         ],
         "y": [
          0,
          1,
          0,
          0.9669353855376474,
          0,
          0.9357097802815207,
          0,
          0.9062379351981783,
          0,
          0.8784386683298522,
          0,
          0.8522346059462226,
          0,
          0.8275519326952188,
          0,
          0.8043201509763798,
          0,
          0.7824718499713511,
          0,
          0.7619424849743788,
          0,
          0.7426701678597056,
          0,
          0.724595469688793,
          0,
          0.7076612365830878,
          0,
          0.6918124200519549,
          0,
          0.6769959229558147,
          0,
          0.6631604621897604,
          0,
          0.6502564489859758,
          0,
          0.6382358874536272,
          0,
          0.627052291609886,
          0,
          0.6166606207209189,
          0,
          0.6070172322907257,
          0,
          0.598079851538588,
          0,
          0.5898075557265693,
          0,
          0.5821607712716674,
          0,
          0.5751012812344901,
          0,
          0.5685922405430945,
          0,
          0.5625981962031019,
          0,
          0.5570851097689589,
          0,
          0.5520203795008021,
          0,
          0.5473728598914829,
          0,
          0.5431128765957067,
          0,
          0.5392122352000456,
          0,
          0.5356442227088813,
          0,
          0.5323836010586397,
          0,
          0.5294065923860118,
          0,
          0.5266908561454209,
          0,
          0.5242154584832308,
          0,
          0.5219608345235679,
          0,
          0.5199087444011337,
          0,
          0.5180422239927872,
          0,
          0.5163455313580368,
          0,
          0.5148040899071803,
          0,
          0.5134044292841808,
          0,
          0.5121341248890632,
          0,
          0.5109817368807432,
          0,
          0.5099367494040483,
          0,
          0.5089895106809791,
          0,
          0.5081311745017715,
          0,
          0.5073536435501157,
          0,
          0.5066495149022154
         ]
        }
       ],
       "layout": {
        "autosize": true,
        "template": {
         "data": {
          "bar": [
           {
            "error_x": {
             "color": "#2a3f5f"
            },
            "error_y": {
             "color": "#2a3f5f"
            },
            "marker": {
             "line": {
              "color": "#E5ECF6",
              "width": 0.5
             },
             "pattern": {
              "fillmode": "overlay",
              "size": 10,
              "solidity": 0.2
             }
            },
            "type": "bar"
           }
          ],
          "barpolar": [
           {
            "marker": {
             "line": {
              "color": "#E5ECF6",
              "width": 0.5
             },
             "pattern": {
              "fillmode": "overlay",
              "size": 10,
              "solidity": 0.2
             }
            },
            "type": "barpolar"
           }
          ],
          "carpet": [
           {
            "aaxis": {
             "endlinecolor": "#2a3f5f",
             "gridcolor": "white",
             "linecolor": "white",
             "minorgridcolor": "white",
             "startlinecolor": "#2a3f5f"
            },
            "baxis": {
             "endlinecolor": "#2a3f5f",
             "gridcolor": "white",
             "linecolor": "white",
             "minorgridcolor": "white",
             "startlinecolor": "#2a3f5f"
            },
            "type": "carpet"
           }
          ],
          "choropleth": [
           {
            "colorbar": {
             "outlinewidth": 0,
             "ticks": ""
            },
            "type": "choropleth"
           }
          ],
          "contour": [
           {
            "colorbar": {
             "outlinewidth": 0,
             "ticks": ""
            },
            "colorscale": [
             [
              0,
              "#0d0887"
             ],
             [
              0.1111111111111111,
              "#46039f"
             ],
             [
              0.2222222222222222,
              "#7201a8"
             ],
             [
              0.3333333333333333,
              "#9c179e"
             ],
             [
              0.4444444444444444,
              "#bd3786"
             ],
             [
              0.5555555555555556,
              "#d8576b"
             ],
             [
              0.6666666666666666,
              "#ed7953"
             ],
             [
              0.7777777777777778,
              "#fb9f3a"
             ],
             [
              0.8888888888888888,
              "#fdca26"
             ],
             [
              1,
              "#f0f921"
             ]
            ],
            "type": "contour"
           }
          ],
          "contourcarpet": [
           {
            "colorbar": {
             "outlinewidth": 0,
             "ticks": ""
            },
            "type": "contourcarpet"
           }
          ],
          "heatmap": [
           {
            "colorbar": {
             "outlinewidth": 0,
             "ticks": ""
            },
            "colorscale": [
             [
              0,
              "#0d0887"
             ],
             [
              0.1111111111111111,
              "#46039f"
             ],
             [
              0.2222222222222222,
              "#7201a8"
             ],
             [
              0.3333333333333333,
              "#9c179e"
             ],
             [
              0.4444444444444444,
              "#bd3786"
             ],
             [
              0.5555555555555556,
              "#d8576b"
             ],
             [
              0.6666666666666666,
              "#ed7953"
             ],
             [
              0.7777777777777778,
              "#fb9f3a"
             ],
             [
              0.8888888888888888,
              "#fdca26"
             ],
             [
              1,
              "#f0f921"
             ]
            ],
            "type": "heatmap"
           }
          ],
          "heatmapgl": [
           {
            "colorbar": {
             "outlinewidth": 0,
             "ticks": ""
            },
            "colorscale": [
             [
              0,
              "#0d0887"
             ],
             [
              0.1111111111111111,
              "#46039f"
             ],
             [
              0.2222222222222222,
              "#7201a8"
             ],
             [
              0.3333333333333333,
              "#9c179e"
             ],
             [
              0.4444444444444444,
              "#bd3786"
             ],
             [
              0.5555555555555556,
              "#d8576b"
             ],
             [
              0.6666666666666666,
              "#ed7953"
             ],
             [
              0.7777777777777778,
              "#fb9f3a"
             ],
             [
              0.8888888888888888,
              "#fdca26"
             ],
             [
              1,
              "#f0f921"
             ]
            ],
            "type": "heatmapgl"
           }
          ],
          "histogram": [
           {
            "marker": {
             "pattern": {
              "fillmode": "overlay",
              "size": 10,
              "solidity": 0.2
             }
            },
            "type": "histogram"
           }
          ],
          "histogram2d": [
           {
            "colorbar": {
             "outlinewidth": 0,
             "ticks": ""
            },
            "colorscale": [
             [
              0,
              "#0d0887"
             ],
             [
              0.1111111111111111,
              "#46039f"
             ],
             [
              0.2222222222222222,
              "#7201a8"
             ],
             [
              0.3333333333333333,
              "#9c179e"
             ],
             [
              0.4444444444444444,
              "#bd3786"
             ],
             [
              0.5555555555555556,
              "#d8576b"
             ],
             [
              0.6666666666666666,
              "#ed7953"
             ],
             [
              0.7777777777777778,
              "#fb9f3a"
             ],
             [
              0.8888888888888888,
              "#fdca26"
             ],
             [
              1,
              "#f0f921"
             ]
            ],
            "type": "histogram2d"
           }
          ],
          "histogram2dcontour": [
           {
            "colorbar": {
             "outlinewidth": 0,
             "ticks": ""
            },
            "colorscale": [
             [
              0,
              "#0d0887"
             ],
             [
              0.1111111111111111,
              "#46039f"
             ],
             [
              0.2222222222222222,
              "#7201a8"
             ],
             [
              0.3333333333333333,
              "#9c179e"
             ],
             [
              0.4444444444444444,
              "#bd3786"
             ],
             [
              0.5555555555555556,
              "#d8576b"
             ],
             [
              0.6666666666666666,
              "#ed7953"
             ],
             [
              0.7777777777777778,
              "#fb9f3a"
             ],
             [
              0.8888888888888888,
              "#fdca26"
             ],
             [
              1,
              "#f0f921"
             ]
            ],
            "type": "histogram2dcontour"
           }
          ],
          "mesh3d": [
           {
            "colorbar": {
             "outlinewidth": 0,
             "ticks": ""
            },
            "type": "mesh3d"
           }
          ],
          "parcoords": [
           {
            "line": {
             "colorbar": {
              "outlinewidth": 0,
              "ticks": ""
             }
            },
            "type": "parcoords"
           }
          ],
          "pie": [
           {
            "automargin": true,
            "type": "pie"
           }
          ],
          "scatter": [
           {
            "fillpattern": {
             "fillmode": "overlay",
             "size": 10,
             "solidity": 0.2
            },
            "type": "scatter"
           }
          ],
          "scatter3d": [
           {
            "line": {
             "colorbar": {
              "outlinewidth": 0,
              "ticks": ""
             }
            },
            "marker": {
             "colorbar": {
              "outlinewidth": 0,
              "ticks": ""
             }
            },
            "type": "scatter3d"
           }
          ],
          "scattercarpet": [
           {
            "marker": {
             "colorbar": {
              "outlinewidth": 0,
              "ticks": ""
             }
            },
            "type": "scattercarpet"
           }
          ],
          "scattergeo": [
           {
            "marker": {
             "colorbar": {
              "outlinewidth": 0,
              "ticks": ""
             }
            },
            "type": "scattergeo"
           }
          ],
          "scattergl": [
           {
            "marker": {
             "colorbar": {
              "outlinewidth": 0,
              "ticks": ""
             }
            },
            "type": "scattergl"
           }
          ],
          "scattermapbox": [
           {
            "marker": {
             "colorbar": {
              "outlinewidth": 0,
              "ticks": ""
             }
            },
            "type": "scattermapbox"
           }
          ],
          "scatterpolar": [
           {
            "marker": {
             "colorbar": {
              "outlinewidth": 0,
              "ticks": ""
             }
            },
            "type": "scatterpolar"
           }
          ],
          "scatterpolargl": [
           {
            "marker": {
             "colorbar": {
              "outlinewidth": 0,
              "ticks": ""
             }
            },
            "type": "scatterpolargl"
           }
          ],
          "scatterternary": [
           {
            "marker": {
             "colorbar": {
              "outlinewidth": 0,
              "ticks": ""
             }
            },
            "type": "scatterternary"
           }
          ],
          "surface": [
           {
            "colorbar": {
             "outlinewidth": 0,
             "ticks": ""
            },
            "colorscale": [
             [
              0,
              "#0d0887"
             ],
             [
              0.1111111111111111,
              "#46039f"
             ],
             [
              0.2222222222222222,
              "#7201a8"
             ],
             [
              0.3333333333333333,
              "#9c179e"
             ],
             [
              0.4444444444444444,
              "#bd3786"
             ],
             [
              0.5555555555555556,
              "#d8576b"
             ],
             [
              0.6666666666666666,
              "#ed7953"
             ],
             [
              0.7777777777777778,
              "#fb9f3a"
             ],
             [
              0.8888888888888888,
              "#fdca26"
             ],
             [
              1,
              "#f0f921"
             ]
            ],
            "type": "surface"
           }
          ],
          "table": [
           {
            "cells": {
             "fill": {
              "color": "#EBF0F8"
             },
             "line": {
              "color": "white"
             }
            },
            "header": {
             "fill": {
              "color": "#C8D4E3"
             },
             "line": {
              "color": "white"
             }
            },
            "type": "table"
           }
          ]
         },
         "layout": {
          "annotationdefaults": {
           "arrowcolor": "#2a3f5f",
           "arrowhead": 0,
           "arrowwidth": 1
          },
          "autotypenumbers": "strict",
          "coloraxis": {
           "colorbar": {
            "outlinewidth": 0,
            "ticks": ""
           }
          },
          "colorscale": {
           "diverging": [
            [
             0,
             "#8e0152"
            ],
            [
             0.1,
             "#c51b7d"
            ],
            [
             0.2,
             "#de77ae"
            ],
            [
             0.3,
             "#f1b6da"
            ],
            [
             0.4,
             "#fde0ef"
            ],
            [
             0.5,
             "#f7f7f7"
            ],
            [
             0.6,
             "#e6f5d0"
            ],
            [
             0.7,
             "#b8e186"
            ],
            [
             0.8,
             "#7fbc41"
            ],
            [
             0.9,
             "#4d9221"
            ],
            [
             1,
             "#276419"
            ]
           ],
           "sequential": [
            [
             0,
             "#0d0887"
            ],
            [
             0.1111111111111111,
             "#46039f"
            ],
            [
             0.2222222222222222,
             "#7201a8"
            ],
            [
             0.3333333333333333,
             "#9c179e"
            ],
            [
             0.4444444444444444,
             "#bd3786"
            ],
            [
             0.5555555555555556,
             "#d8576b"
            ],
            [
             0.6666666666666666,
             "#ed7953"
            ],
            [
             0.7777777777777778,
             "#fb9f3a"
            ],
            [
             0.8888888888888888,
             "#fdca26"
            ],
            [
             1,
             "#f0f921"
            ]
           ],
           "sequentialminus": [
            [
             0,
             "#0d0887"
            ],
            [
             0.1111111111111111,
             "#46039f"
            ],
            [
             0.2222222222222222,
             "#7201a8"
            ],
            [
             0.3333333333333333,
             "#9c179e"
            ],
            [
             0.4444444444444444,
             "#bd3786"
            ],
            [
             0.5555555555555556,
             "#d8576b"
            ],
            [
             0.6666666666666666,
             "#ed7953"
            ],
            [
             0.7777777777777778,
             "#fb9f3a"
            ],
            [
             0.8888888888888888,
             "#fdca26"
            ],
            [
             1,
             "#f0f921"
            ]
           ]
          },
          "colorway": [
           "#636efa",
           "#EF553B",
           "#00cc96",
           "#ab63fa",
           "#FFA15A",
           "#19d3f3",
           "#FF6692",
           "#B6E880",
           "#FF97FF",
           "#FECB52"
          ],
          "font": {
           "color": "#2a3f5f"
          },
          "geo": {
           "bgcolor": "white",
           "lakecolor": "white",
           "landcolor": "#E5ECF6",
           "showlakes": true,
           "showland": true,
           "subunitcolor": "white"
          },
          "hoverlabel": {
           "align": "left"
          },
          "hovermode": "closest",
          "mapbox": {
           "style": "light"
          },
          "paper_bgcolor": "white",
          "plot_bgcolor": "#E5ECF6",
          "polar": {
           "angularaxis": {
            "gridcolor": "white",
            "linecolor": "white",
            "ticks": ""
           },
           "bgcolor": "#E5ECF6",
           "radialaxis": {
            "gridcolor": "white",
            "linecolor": "white",
            "ticks": ""
           }
          },
          "scene": {
           "xaxis": {
            "backgroundcolor": "#E5ECF6",
            "gridcolor": "white",
            "gridwidth": 2,
            "linecolor": "white",
            "showbackground": true,
            "ticks": "",
            "zerolinecolor": "white"
           },
           "yaxis": {
            "backgroundcolor": "#E5ECF6",
            "gridcolor": "white",
            "gridwidth": 2,
            "linecolor": "white",
            "showbackground": true,
            "ticks": "",
            "zerolinecolor": "white"
           },
           "zaxis": {
            "backgroundcolor": "#E5ECF6",
            "gridcolor": "white",
            "gridwidth": 2,
            "linecolor": "white",
            "showbackground": true,
            "ticks": "",
            "zerolinecolor": "white"
           }
          },
          "shapedefaults": {
           "line": {
            "color": "#2a3f5f"
           }
          },
          "ternary": {
           "aaxis": {
            "gridcolor": "white",
            "linecolor": "white",
            "ticks": ""
           },
           "baxis": {
            "gridcolor": "white",
            "linecolor": "white",
            "ticks": ""
           },
           "bgcolor": "#E5ECF6",
           "caxis": {
            "gridcolor": "white",
            "linecolor": "white",
            "ticks": ""
           }
          },
          "title": {
           "x": 0.05
          },
          "xaxis": {
           "automargin": true,
           "gridcolor": "white",
           "linecolor": "white",
           "ticks": "",
           "title": {
            "standoff": 15
           },
           "zerolinecolor": "white",
           "zerolinewidth": 2
          },
          "yaxis": {
           "automargin": true,
           "gridcolor": "white",
           "linecolor": "white",
           "ticks": "",
           "title": {
            "standoff": 15
           },
           "zerolinecolor": "white",
           "zerolinewidth": 2
          }
         }
        },
        "title": {
         "text": "Fig 2a s=2, b=1"
        },
        "xaxis": {
         "autorange": true,
         "range": [
          -0.32907371842221894,
          5.329073718422219
         ],
         "title": {
          "text": "C"
         },
         "type": "linear"
        },
        "yaxis": {
         "autorange": true,
         "range": [
          -0.09226973684210528,
          1.2103618421052633
         ],
         "title": {
          "text": "x"
         },
         "type": "linear"
        }
       }
      },
      "image/png": "[encoded data removed]",
      "text/html": [
       "<div>                            <div id=\"08197477-fe31-4428-8ecb-df646e1998a6\" class=\"plotly-graph-div\" style=\"height:525px; width:100%;\"></div>            <script type=\"text/javascript\">                require([\"plotly\"], function(Plotly) {                    window.PLOTLYENV=window.PLOTLYENV || {};                                    if (document.getElementById(\"08197477-fe31-4428-8ecb-df646e1998a6\")) {                    Plotly.newPlot(                        \"08197477-fe31-4428-8ecb-df646e1998a6\",                        [{\"marker\":{\"angleref\":\"previous\",\"color\":\"green\",\"size\":10,\"symbol\":\"arrow\"},\"mode\":\"lines+markers\",\"name\":\"\",\"x\":[0.0,0.0],\"y\":[0.1,0.19],\"type\":\"scatter\"},{\"marker\":{\"angleref\":\"previous\",\"color\":\"green\",\"size\":10,\"symbol\":\"arrow\"},\"mode\":\"lines+markers\",\"name\":\"\",\"x\":[0.0,0.0],\"y\":[1.1,0.99],\"type\":\"scatter\"},{\"marker\":{\"angleref\":\"previous\",\"color\":\"green\",\"size\":10,\"symbol\":\"arrow\"},\"mode\":\"lines+markers\",\"name\":\"\",\"x\":[0.10204081632653061,0.10204081632653061],\"y\":[0.1,0.18191605783933584],\"type\":\"scatter\"},{\"marker\":{\"angleref\":\"previous\",\"color\":\"green\",\"size\":10,\"symbol\":\"arrow\"},\"mode\":\"lines+markers\",\"name\":\"\",\"x\":[0.10204081632653061,0.10204081632653061],\"y\":[1.0669353855376473,0.9624932357459622],\"type\":\"scatter\"},{\"marker\":{\"angleref\":\"previous\",\"color\":\"green\",\"size\":10,\"symbol\":\"arrow\"},\"mode\":\"lines+markers\",\"name\":\"\",\"x\":[0.20408163265306123,0.20408163265306123],\"y\":[0.1,0.17461631712895526],\"type\":\"scatter\"},{\"marker\":{\"angleref\":\"previous\",\"color\":\"green\",\"size\":10,\"symbol\":\"arrow\"},\"mode\":\"lines+markers\",\"name\":\"\",\"x\":[0.20408163265306123,0.20408163265306123],\"y\":[1.0357097802815207,0.9364746481399965],\"type\":\"scatter\"},{\"marker\":{\"angleref\":\"previous\",\"color\":\"green\",\"size\":10,\"symbol\":\"arrow\"},\"mode\":\"lines+markers\",\"name\":\"\",\"x\":[0.30612244897959184,0.30612244897959184],\"y\":[0.1,0.1680247045988614],\"type\":\"scatter\"},{\"marker\":{\"angleref\":\"previous\",\"color\":\"green\",\"size\":10,\"symbol\":\"arrow\"},\"mode\":\"lines+markers\",\"name\":\"\",\"x\":[0.30612244897959184,0.30612244897959184],\"y\":[1.0062379351981783,0.9118778895419202],\"type\":\"scatter\"},{\"marker\":{\"angleref\":\"previous\",\"color\":\"green\",\"size\":10,\"symbol\":\"arrow\"},\"mode\":\"lines+markers\",\"name\":\"\",\"x\":[0.40816326530612246,0.40816326530612246],\"y\":[0.1,0.162072526642033],\"type\":\"scatter\"},{\"marker\":{\"angleref\":\"previous\",\"color\":\"green\",\"size\":10,\"symbol\":\"arrow\"},\"mode\":\"lines+markers\",\"name\":\"\",\"x\":[0.40816326530612246,0.40816326530612246],\"y\":[0.9784386683298522,0.8886397958566334],\"type\":\"scatter\"},{\"marker\":{\"angleref\":\"previous\",\"color\":\"green\",\"size\":10,\"symbol\":\"arrow\"},\"mode\":\"lines+markers\",\"name\":\"\",\"x\":[0.5102040816326531,0.5102040816326531],\"y\":[0.1,0.1566977534332004],\"type\":\"scatter\"},{\"marker\":{\"angleref\":\"previous\",\"color\":\"green\",\"size\":10,\"symbol\":\"arrow\"},\"mode\":\"lines+markers\",\"name\":\"\",\"x\":[0.5102040816326531,0.5102040816326531],\"y\":[0.9522346059462226,0.8667001667537317],\"type\":\"scatter\"},{\"marker\":{\"angleref\":\"previous\",\"color\":\"green\",\"size\":10,\"symbol\":\"arrow\"},\"mode\":\"lines+markers\",\"name\":\"\",\"x\":[0.6122448979591837,0.6122448979591837],\"y\":[0.1,0.15184437249333044],\"type\":\"scatter\"},{\"marker\":{\"angleref\":\"previous\",\"color\":\"green\",\"size\":10,\"symbol\":\"arrow\"},\"mode\":\"lines+markers\",\"name\":\"\",\"x\":[0.6122448979591837,0.6122448979591837],\"y\":[0.9275519326952187,0.8460015533770963],\"type\":\"scatter\"},{\"marker\":{\"angleref\":\"previous\",\"color\":\"green\",\"size\":10,\"symbol\":\"arrow\"},\"mode\":\"lines+markers\",\"name\":\"\",\"x\":[0.7142857142857143,0.7142857142857143],\"y\":[0.1,0.14746180496307942],\"type\":\"scatter\"},{\"marker\":{\"angleref\":\"previous\",\"color\":\"green\",\"size\":10,\"symbol\":\"arrow\"},\"mode\":\"lines+markers\",\"name\":\"\",\"x\":[0.7142857142857143,0.7142857142857143],\"y\":[0.9043201509763797,0.8264890538737619],\"type\":\"scatter\"},{\"marker\":{\"angleref\":\"previous\",\"color\":\"green\",\"size\":10,\"symbol\":\"arrow\"},\"mode\":\"lines+markers\",\"name\":\"\",\"x\":[0.8163265306122449,0.8163265306122449],\"y\":[0.1,0.1435043785019855],\"type\":\"scatter\"},{\"marker\":{\"angleref\":\"previous\",\"color\":\"green\",\"size\":10,\"symbol\":\"arrow\"},\"mode\":\"lines+markers\",\"name\":\"\",\"x\":[0.8163265306122449,0.8163265306122449],\"y\":[0.8824718499713511,0.8081101172516424],\"type\":\"scatter\"},{\"marker\":{\"angleref\":\"previous\",\"color\":\"green\",\"size\":10,\"symbol\":\"arrow\"},\"mode\":\"lines+markers\",\"name\":\"\",\"x\":[0.9183673469387755,0.9183673469387755],\"y\":[0.1,0.13993085132029032],\"type\":\"scatter\"},{\"marker\":{\"angleref\":\"previous\",\"color\":\"green\",\"size\":10,\"symbol\":\"arrow\"},\"mode\":\"lines+markers\",\"name\":\"\",\"x\":[0.9183673469387755,0.9183673469387755],\"y\":[0.8619424849743788,0.7908143562530537],\"type\":\"scatter\"},{\"marker\":{\"angleref\":\"previous\",\"color\":\"green\",\"size\":10,\"symbol\":\"arrow\"},\"mode\":\"lines+markers\",\"name\":\"\",\"x\":[1.0204081632653061,1.0204081632653061],\"y\":[0.1,0.13670398238315176],\"type\":\"scatter\"},{\"marker\":{\"angleref\":\"previous\",\"color\":\"green\",\"size\":10,\"symbol\":\"arrow\"},\"mode\":\"lines+markers\",\"name\":\"\",\"x\":[1.0204081632653061,1.0204081632653061],\"y\":[0.8426701678597056,0.774553370095182],\"type\":\"scatter\"},{\"marker\":{\"angleref\":\"previous\",\"color\":\"green\",\"size\":10,\"symbol\":\"arrow\"},\"mode\":\"lines+markers\",\"name\":\"\",\"x\":[1.1224489795918369,1.1224489795918369],\"y\":[0.1,0.13379014330818767],\"type\":\"scatter\"},{\"marker\":{\"angleref\":\"previous\",\"color\":\"green\",\"size\":10,\"symbol\":\"arrow\"},\"mode\":\"lines+markers\",\"name\":\"\",\"x\":[1.1224489795918369,1.1224489795918369],\"y\":[0.8245954696887929,0.7592805780673871],\"type\":\"scatter\"},{\"marker\":{\"angleref\":\"previous\",\"color\":\"green\",\"size\":10,\"symbol\":\"arrow\"},\"mode\":\"lines+markers\",\"name\":\"\",\"x\":[1.2244897959183674,1.2244897959183674],\"y\":[0.1,0.1311589679117935],\"type\":\"scatter\"},{\"marker\":{\"angleref\":\"previous\",\"color\":\"green\",\"size\":10,\"symbol\":\"arrow\"},\"mode\":\"lines+markers\",\"name\":\"\",\"x\":[1.2244897959183674,1.2244897959183674],\"y\":[0.8076612365830877,0.7449510650748503],\"type\":\"scatter\"},{\"marker\":{\"angleref\":\"previous\",\"color\":\"green\",\"size\":10,\"symbol\":\"arrow\"},\"mode\":\"lines+markers\",\"name\":\"\",\"x\":[1.3265306122448979,1.3265306122448979],\"y\":[0.1,0.12878303575202749],\"type\":\"scatter\"},{\"marker\":{\"angleref\":\"previous\",\"color\":\"green\",\"size\":10,\"symbol\":\"arrow\"},\"mode\":\"lines+markers\",\"name\":\"\",\"x\":[1.3265306122448979,1.3265306122448979],\"y\":[0.7918124200519548,0.7315214402644582],\"type\":\"scatter\"},{\"marker\":{\"angleref\":\"previous\",\"color\":\"green\",\"size\":10,\"symbol\":\"arrow\"},\"mode\":\"lines+markers\",\"name\":\"\",\"x\":[1.4285714285714286,1.4285714285714286],\"y\":[0.1,0.126637586370148],\"type\":\"scatter\"},{\"marker\":{\"angleref\":\"previous\",\"color\":\"green\",\"size\":10,\"symbol\":\"arrow\"},\"mode\":\"lines+markers\",\"name\":\"\",\"x\":[1.4285714285714286,1.4285714285714286],\"y\":[0.7769959229558147,0.7189497098488307],\"type\":\"scatter\"},{\"marker\":{\"angleref\":\"previous\",\"color\":\"green\",\"size\":10,\"symbol\":\"arrow\"},\"mode\":\"lines+markers\",\"name\":\"\",\"x\":[1.5306122448979593,1.5306122448979593],\"y\":[0.1,0.12470026125280945],\"type\":\"scatter\"},{\"marker\":{\"angleref\":\"previous\",\"color\":\"green\",\"size\":10,\"symbol\":\"arrow\"},\"mode\":\"lines+markers\",\"name\":\"\",\"x\":[1.5306122448979593,1.5306122448979593],\"y\":[0.7631604621897604,0.7071951651474501],\"type\":\"scatter\"},{\"marker\":{\"angleref\":\"previous\",\"color\":\"green\",\"size\":10,\"symbol\":\"arrow\"},\"mode\":\"lines+markers\",\"name\":\"\",\"x\":[1.6326530612244898,1.6326530612244898],\"y\":[0.1,0.12295087082581052],\"type\":\"scatter\"},{\"marker\":{\"angleref\":\"previous\",\"color\":\"green\",\"size\":10,\"symbol\":\"arrow\"},\"mode\":\"lines+markers\",\"name\":\"\",\"x\":[1.6326530612244898,1.6326530612244898],\"y\":[0.7502564489859758,0.6962182866836364],\"type\":\"scatter\"},{\"marker\":{\"angleref\":\"previous\",\"color\":\"green\",\"size\":10,\"symbol\":\"arrow\"},\"mode\":\"lines+markers\",\"name\":\"\",\"x\":[1.7346938775510203,1.7346938775510203],\"y\":[0.1,0.12137118405115094],\"type\":\"scatter\"},{\"marker\":{\"angleref\":\"previous\",\"color\":\"green\",\"size\":10,\"symbol\":\"arrow\"},\"mode\":\"lines+markers\",\"name\":\"\",\"x\":[1.7346938775510203,1.7346938775510203],\"y\":[0.7382358874536272,0.6859806649121998],\"type\":\"scatter\"},{\"marker\":{\"angleref\":\"previous\",\"color\":\"green\",\"size\":10,\"symbol\":\"arrow\"},\"mode\":\"lines+markers\",\"name\":\"\",\"x\":[1.836734693877551,1.836734693877551],\"y\":[0.1,0.11994473843471112],\"type\":\"scatter\"},{\"marker\":{\"angleref\":\"previous\",\"color\":\"green\",\"size\":10,\"symbol\":\"arrow\"},\"mode\":\"lines+markers\",\"name\":\"\",\"x\":[1.836734693877551,1.836734693877551],\"y\":[0.7270522916098859,0.6764449378116448],\"type\":\"scatter\"},{\"marker\":{\"angleref\":\"previous\",\"color\":\"green\",\"size\":10,\"symbol\":\"arrow\"},\"mode\":\"lines+markers\",\"name\":\"\",\"x\":[1.9387755102040818,1.9387755102040818],\"y\":[0.1,0.11865666846457489],\"type\":\"scatter\"},{\"marker\":{\"angleref\":\"previous\",\"color\":\"green\",\"size\":10,\"symbol\":\"arrow\"},\"mode\":\"lines+markers\",\"name\":\"\",\"x\":[1.9387755102040818,1.9387755102040818],\"y\":[0.7166606207209189,0.667574745171025],\"type\":\"scatter\"},{\"marker\":{\"angleref\":\"previous\",\"color\":\"green\",\"size\":10,\"symbol\":\"arrow\"},\"mode\":\"lines+markers\",\"name\":\"\",\"x\":[2.0408163265306123,2.0408163265306123],\"y\":[0.1,0.11749355069208829],\"type\":\"scatter\"},{\"marker\":{\"angleref\":\"previous\",\"color\":\"green\",\"size\":10,\"symbol\":\"arrow\"},\"mode\":\"lines+markers\",\"name\":\"\",\"x\":[2.0408163265306123,2.0408163265306123],\"y\":[0.7070172322907257,0.6593346989564363],\"type\":\"scatter\"},{\"marker\":{\"angleref\":\"previous\",\"color\":\"green\",\"size\":10,\"symbol\":\"arrow\"},\"mode\":\"lines+markers\",\"name\":\"\",\"x\":[2.142857142857143,2.142857142857143],\"y\":[0.1,0.11644326384118757],\"type\":\"scatter\"},{\"marker\":{\"angleref\":\"previous\",\"color\":\"green\",\"size\":10,\"symbol\":\"arrow\"},\"mode\":\"lines+markers\",\"name\":\"\",\"x\":[2.142857142857143,2.142857142857143],\"y\":[0.698079851538588,0.6516903686830522],\"type\":\"scatter\"},{\"marker\":{\"angleref\":\"previous\",\"color\":\"green\",\"size\":10,\"symbol\":\"arrow\"},\"mode\":\"lines+markers\",\"name\":\"\",\"x\":[2.2448979591836737,2.2448979591836737],\"y\":[0.1,0.11549486248814429],\"type\":\"scatter\"},{\"marker\":{\"angleref\":\"previous\",\"color\":\"green\",\"size\":10,\"symbol\":\"arrow\"},\"mode\":\"lines+markers\",\"name\":\"\",\"x\":[2.2448979591836737,2.2448979591836737],\"y\":[0.6898075557265693,0.6446082802764667],\"type\":\"scatter\"},{\"marker\":{\"angleref\":\"previous\",\"color\":\"green\",\"size\":10,\"symbol\":\"arrow\"},\"mode\":\"lines+markers\",\"name\":\"\",\"x\":[2.3469387755102042,2.3469387755102042],\"y\":[0.1,0.11463846299529819],\"type\":\"scatter\"},{\"marker\":{\"angleref\":\"previous\",\"color\":\"green\",\"size\":10,\"symbol\":\"arrow\"},\"mode\":\"lines+markers\",\"name\":\"\",\"x\":[2.3469387755102042,2.3469387755102042],\"y\":[0.6821607712716674,0.6380559265135349],\"type\":\"scatter\"},{\"marker\":{\"angleref\":\"previous\",\"color\":\"green\",\"size\":10,\"symbol\":\"arrow\"},\"mode\":\"lines+markers\",\"name\":\"\",\"x\":[2.4489795918367347,2.4489795918367347],\"y\":[0.1,0.11386514051005117],\"type\":\"scatter\"},{\"marker\":{\"angleref\":\"previous\",\"color\":\"green\",\"size\":10,\"symbol\":\"arrow\"},\"mode\":\"lines+markers\",\"name\":\"\",\"x\":[2.4489795918367347,2.4489795918367347],\"y\":[0.6751012812344901,0.6320017868167709],\"type\":\"scatter\"},{\"marker\":{\"angleref\":\"previous\",\"color\":\"green\",\"size\":10,\"symbol\":\"arrow\"},\"mode\":\"lines+markers\",\"name\":\"\",\"x\":[2.5510204081632653,2.5510204081632653],\"y\":[0.1,0.11316683595571148],\"type\":\"scatter\"},{\"marker\":{\"angleref\":\"previous\",\"color\":\"green\",\"size\":10,\"symbol\":\"arrow\"},\"mode\":\"lines+markers\",\"name\":\"\",\"x\":[2.5510204081632653,2.5510204081632653],\"y\":[0.6685922405430945,0.6264153539608291],\"type\":\"scatter\"},{\"marker\":{\"angleref\":\"previous\",\"color\":\"green\",\"size\":10,\"symbol\":\"arrow\"},\"mode\":\"lines+markers\",\"name\":\"\",\"x\":[2.6530612244897958,2.6530612244897958],\"y\":[0.1,0.11253627204490552],\"type\":\"scatter\"},{\"marker\":{\"angleref\":\"previous\",\"color\":\"green\",\"size\":10,\"symbol\":\"arrow\"},\"mode\":\"lines+markers\",\"name\":\"\",\"x\":[2.6530612244897958,2.6530612244897958],\"y\":[0.6625981962031019,0.6212671651494976],\"type\":\"scatter\"},{\"marker\":{\"angleref\":\"previous\",\"color\":\"green\",\"size\":10,\"symbol\":\"arrow\"},\"mode\":\"lines+markers\",\"name\":\"\",\"x\":[2.7551020408163267,2.7551020408163267],\"y\":[0.1,0.11196687744030223],\"type\":\"scatter\"},{\"marker\":{\"angleref\":\"previous\",\"color\":\"green\",\"size\":10,\"symbol\":\"arrow\"},\"mode\":\"lines+markers\",\"name\":\"\",\"x\":[2.7551020408163267,2.7551020408163267],\"y\":[0.6570851097689588,0.6165288349420798],\"type\":\"scatter\"},{\"marker\":{\"angleref\":\"previous\",\"color\":\"green\",\"size\":10,\"symbol\":\"arrow\"},\"mode\":\"lines+markers\",\"name\":\"\",\"x\":[2.857142857142857,2.857142857142857],\"y\":[0.1,0.11145271827230145],\"type\":\"scatter\"},{\"marker\":{\"angleref\":\"previous\",\"color\":\"green\",\"size\":10,\"symbol\":\"arrow\"},\"mode\":\"lines+markers\",\"name\":\"\",\"x\":[2.857142857142857,2.857142857142857],\"y\":[0.652020379500802,0.6121730876441098],\"type\":\"scatter\"},{\"marker\":{\"angleref\":\"previous\",\"color\":\"green\",\"size\":10,\"symbol\":\"arrow\"},\"mode\":\"lines+markers\",\"name\":\"\",\"x\":[2.9591836734693877,2.9591836734693877],\"y\":[0.1,0.11098843630000658],\"type\":\"scatter\"},{\"marker\":{\"angleref\":\"previous\",\"color\":\"green\",\"size\":10,\"symbol\":\"arrow\"},\"mode\":\"lines+markers\",\"name\":\"\",\"x\":[2.9591836734693877,2.9591836734693877],\"y\":[0.6473728598914829,0.6081737870150508],\"type\":\"scatter\"},{\"marker\":{\"angleref\":\"previous\",\"color\":\"green\",\"size\":10,\"symbol\":\"arrow\"},\"mode\":\"lines+markers\",\"name\":\"\",\"x\":[3.0612244897959187,3.0612244897959187],\"y\":[0.1,0.11056919307103497],\"type\":\"scatter\"},{\"marker\":{\"angleref\":\"previous\",\"color\":\"green\",\"size\":10,\"symbol\":\"arrow\"},\"mode\":\"lines+markers\",\"name\":\"\",\"x\":[3.0612244897959187,3.0612244897959187],\"y\":[0.6431128765957067,0.6045059614638189],\"type\":\"scatter\"},{\"marker\":{\"angleref\":\"previous\",\"color\":\"green\",\"size\":10,\"symbol\":\"arrow\"},\"mode\":\"lines+markers\",\"name\":\"\",\"x\":[3.163265306122449,3.163265306122449],\"y\":[0.1,0.11019061949823443],\"type\":\"scatter\"},{\"marker\":{\"angleref\":\"previous\",\"color\":\"green\",\"size\":10,\"symbol\":\"arrow\"},\"mode\":\"lines+markers\",\"name\":\"\",\"x\":[3.163265306122449,3.163265306122449],\"y\":[0.6392122352000456,0.6011458232761341],\"type\":\"scatter\"},{\"marker\":{\"angleref\":\"previous\",\"color\":\"green\",\"size\":10,\"symbol\":\"arrow\"},\"mode\":\"lines+markers\",\"name\":\"\",\"x\":[3.2653061224489797,3.2653061224489797],\"y\":[0.1,0.1098487703278268],\"type\":\"scatter\"},{\"marker\":{\"angleref\":\"previous\",\"color\":\"green\",\"size\":10,\"symbol\":\"arrow\"},\"mode\":\"lines+markers\",\"name\":\"\",\"x\":[3.2653061224489797,3.2653061224489797],\"y\":[0.6356442227088813,0.598070780818497],\"type\":\"scatter\"},{\"marker\":{\"angleref\":\"previous\",\"color\":\"green\",\"size\":10,\"symbol\":\"arrow\"},\"mode\":\"lines+markers\",\"name\":\"\",\"x\":[3.36734693877551,3.36734693877551],\"y\":[0.1,0.10954008302447413],\"type\":\"scatter\"},{\"marker\":{\"angleref\":\"previous\",\"color\":\"green\",\"size\":10,\"symbol\":\"arrow\"},\"mode\":\"lines+markers\",\"name\":\"\",\"x\":[3.36734693877551,3.36734693877551],\"y\":[0.6323836010586397,0.5952594430659248],\"type\":\"scatter\"},{\"marker\":{\"angleref\":\"previous\",\"color\":\"green\",\"size\":10,\"symbol\":\"arrow\"},\"mode\":\"lines+markers\",\"name\":\"\",\"x\":[3.4693877551020407,3.4693877551020407],\"y\":[0.1,0.10926134064479387],\"type\":\"scatter\"},{\"marker\":{\"angleref\":\"previous\",\"color\":\"green\",\"size\":10,\"symbol\":\"arrow\"},\"mode\":\"lines+markers\",\"name\":\"\",\"x\":[3.4693877551020407,3.4693877551020407],\"y\":[0.6294065923860118,0.5926916161815334],\"type\":\"scatter\"},{\"marker\":{\"angleref\":\"previous\",\"color\":\"green\",\"size\":10,\"symbol\":\"arrow\"},\"mode\":\"lines+markers\",\"name\":\"\",\"x\":[3.5714285714285716,3.5714285714285716],\"y\":[0.1,0.10900963831241434],\"type\":\"scatter\"},{\"marker\":{\"angleref\":\"previous\",\"color\":\"green\",\"size\":10,\"symbol\":\"arrow\"},\"mode\":\"lines+markers\",\"name\":\"\",\"x\":[3.5714285714285716,3.5714285714285716],\"y\":[0.6266908561454209,0.590348292217445],\"type\":\"scatter\"},{\"marker\":{\"angleref\":\"previous\",\"color\":\"green\",\"size\":10,\"symbol\":\"arrow\"},\"mode\":\"lines+markers\",\"name\":\"\",\"x\":[3.673469387755102,3.673469387755102],\"y\":[0.1,0.10878235294519474],\"type\":\"scatter\"},{\"marker\":{\"angleref\":\"previous\",\"color\":\"green\",\"size\":10,\"symbol\":\"arrow\"},\"mode\":\"lines+markers\",\"name\":\"\",\"x\":[3.673469387755102,3.673469387755102],\"y\":[0.6242154584832308,0.5882116302957927],\"type\":\"scatter\"},{\"marker\":{\"angleref\":\"previous\",\"color\":\"green\",\"size\":10,\"symbol\":\"arrow\"},\"mode\":\"lines+markers\",\"name\":\"\",\"x\":[3.7755102040816326,3.7755102040816326],\"y\":[0.1,0.10857711591912596],\"type\":\"scatter\"},{\"marker\":{\"angleref\":\"previous\",\"color\":\"green\",\"size\":10,\"symbol\":\"arrow\"},\"mode\":\"lines+markers\",\"name\":\"\",\"x\":[3.7755102040816326,3.7755102040816326],\"y\":[0.6219608345235679,0.5862649308587639],\"type\":\"scatter\"},{\"marker\":{\"angleref\":\"previous\",\"color\":\"green\",\"size\":10,\"symbol\":\"arrow\"},\"mode\":\"lines+markers\",\"name\":\"\",\"x\":[3.8775510204081636,3.8775510204081636],\"y\":[0.1,0.10839178838403278],\"type\":\"scatter\"},{\"marker\":{\"angleref\":\"previous\",\"color\":\"green\",\"size\":10,\"symbol\":\"arrow\"},\"mode\":\"lines+markers\",\"name\":\"\",\"x\":[3.8775510204081636,3.8775510204081636],\"y\":[0.6199087444011336,0.5844926037457274],\"type\":\"scatter\"},{\"marker\":{\"angleref\":\"previous\",\"color\":\"green\",\"size\":10,\"symbol\":\"arrow\"},\"mode\":\"lines+markers\",\"name\":\"\",\"x\":[3.979591836734694,3.979591836734694],\"y\":[0.1,0.10822443897383326],\"type\":\"scatter\"},{\"marker\":{\"angleref\":\"previous\",\"color\":\"green\",\"size\":10,\"symbol\":\"arrow\"},\"mode\":\"lines+markers\",\"name\":\"\",\"x\":[3.979591836734694,3.979591836734694],\"y\":[0.6180422239927872,0.5828801309658994],\"type\":\"scatter\"},{\"marker\":{\"angleref\":\"previous\",\"color\":\"green\",\"size\":10,\"symbol\":\"arrow\"},\"mode\":\"lines+markers\",\"name\":\"\",\"x\":[4.081632653061225,4.081632653061225],\"y\":[0.1,0.10807332367906583],\"type\":\"scatter\"},{\"marker\":{\"angleref\":\"previous\",\"color\":\"green\",\"size\":10,\"symbol\":\"arrow\"},\"mode\":\"lines+markers\",\"name\":\"\",\"x\":[4.081632653061225,4.081632653061225],\"y\":[0.6163455313580368,0.5814140250921555],\"type\":\"scatter\"},{\"marker\":{\"angleref\":\"previous\",\"color\":\"green\",\"size\":10,\"symbol\":\"arrow\"},\"mode\":\"lines+markers\",\"name\":\"\",\"x\":[4.183673469387755,4.183673469387755],\"y\":[0.1,0.10793686767192831],\"type\":\"scatter\"},{\"marker\":{\"angleref\":\"previous\",\"color\":\"green\",\"size\":10,\"symbol\":\"arrow\"},\"mode\":\"lines+markers\",\"name\":\"\",\"x\":[4.183673469387755,4.183673469387755],\"y\":[0.6148040899071803,0.580081784212992],\"type\":\"scatter\"},{\"marker\":{\"angleref\":\"previous\",\"color\":\"green\",\"size\":10,\"symbol\":\"arrow\"},\"mode\":\"lines+markers\",\"name\":\"\",\"x\":[4.285714285714286,4.285714285714286],\"y\":[0.1,0.10781364889442087],\"type\":\"scatter\"},{\"marker\":{\"angleref\":\"previous\",\"color\":\"green\",\"size\":10,\"symbol\":\"arrow\"},\"mode\":\"lines+markers\",\"name\":\"\",\"x\":[4.285714285714286,4.285714285714286],\"y\":[0.6134044292841808,0.5788718443538707],\"type\":\"scatter\"},{\"marker\":{\"angleref\":\"previous\",\"color\":\"green\",\"size\":10,\"symbol\":\"arrow\"},\"mode\":\"lines+markers\",\"name\":\"\",\"x\":[4.387755102040816,4.387755102040816],\"y\":[0.1,0.10770238323855917],\"type\":\"scatter\"},{\"marker\":{\"angleref\":\"previous\",\"color\":\"green\",\"size\":10,\"symbol\":\"arrow\"},\"mode\":\"lines+markers\",\"name\":\"\",\"x\":[4.387755102040816,4.387755102040816],\"y\":[0.6121341248890632,0.5777735302249907],\"type\":\"scatter\"},{\"marker\":{\"angleref\":\"previous\",\"color\":\"green\",\"size\":10,\"symbol\":\"arrow\"},\"mode\":\"lines+markers\",\"name\":\"\",\"x\":[4.4897959183673475,4.4897959183673475],\"y\":[0.1,0.10760191116421493],\"type\":\"scatter\"},{\"marker\":{\"angleref\":\"previous\",\"color\":\"green\",\"size\":10,\"symbol\":\"arrow\"},\"mode\":\"lines+markers\",\"name\":\"\",\"x\":[4.4897959183673475,4.4897959183673475],\"y\":[0.6109817368807432,0.576777005078211],\"type\":\"scatter\"},{\"marker\":{\"angleref\":\"previous\",\"color\":\"green\",\"size\":10,\"symbol\":\"arrow\"},\"mode\":\"lines+markers\",\"name\":\"\",\"x\":[4.591836734693878,4.591836734693878],\"y\":[0.1,0.10751118561512382],\"type\":\"scatter\"},{\"marker\":{\"angleref\":\"previous\",\"color\":\"green\",\"size\":10,\"symbol\":\"arrow\"},\"mode\":\"lines+markers\",\"name\":\"\",\"x\":[4.591836734693878,4.591836734693878],\"y\":[0.6099367494040483,0.5758732203689274],\"type\":\"scatter\"},{\"marker\":{\"angleref\":\"previous\",\"color\":\"green\",\"size\":10,\"symbol\":\"arrow\"},\"mode\":\"lines+markers\",\"name\":\"\",\"x\":[4.6938775510204085,4.6938775510204085],\"y\":[0.1,0.10742926110712887],\"type\":\"scatter\"},{\"marker\":{\"angleref\":\"previous\",\"color\":\"green\",\"size\":10,\"symbol\":\"arrow\"},\"mode\":\"lines+markers\",\"name\":\"\",\"x\":[4.6938775510204085,4.6938775510204085],\"y\":[0.6089895106809791,0.5750538658253994],\"type\":\"scatter\"},{\"marker\":{\"angleref\":\"previous\",\"color\":\"green\",\"size\":10,\"symbol\":\"arrow\"},\"mode\":\"lines+markers\",\"name\":\"\",\"x\":[4.795918367346939,4.795918367346939],\"y\":[0.1,0.10735528387494399],\"type\":\"scatter\"},{\"marker\":{\"angleref\":\"previous\",\"color\":\"green\",\"size\":10,\"symbol\":\"arrow\"},\"mode\":\"lines+markers\",\"name\":\"\",\"x\":[4.795918367346939,4.795918367346939],\"y\":[0.6081311745017715,0.57431132043357],\"type\":\"scatter\"},{\"marker\":{\"angleref\":\"previous\",\"color\":\"green\",\"size\":10,\"symbol\":\"arrow\"},\"mode\":\"lines+markers\",\"name\":\"\",\"x\":[4.8979591836734695,4.8979591836734695],\"y\":[0.1,0.10728848297475337],\"type\":\"scatter\"},{\"marker\":{\"angleref\":\"previous\",\"color\":\"green\",\"size\":10,\"symbol\":\"arrow\"},\"mode\":\"lines+markers\",\"name\":\"\",\"x\":[4.8979591836734695,4.8979591836734695],\"y\":[0.6073536435501157,0.5736386047536379],\"type\":\"scatter\"},{\"marker\":{\"angleref\":\"previous\",\"color\":\"green\",\"size\":10,\"symbol\":\"arrow\"},\"mode\":\"lines+markers\",\"name\":\"\",\"x\":[5.0,5.0],\"y\":[0.1,0.10722816224992379],\"type\":\"scatter\"},{\"marker\":{\"angleref\":\"previous\",\"color\":\"green\",\"size\":10,\"symbol\":\"arrow\"},\"mode\":\"lines+markers\",\"name\":\"\",\"x\":[5.0,5.0],\"y\":[0.6066495149022154,0.573029334898456],\"type\":\"scatter\"},{\"mode\":\"markers\",\"name\":\"\",\"x\":[0.0,0.0,0.10204081632653061,0.10204081632653061,0.20408163265306123,0.20408163265306123,0.30612244897959184,0.30612244897959184,0.40816326530612246,0.40816326530612246,0.5102040816326531,0.5102040816326531,0.6122448979591837,0.6122448979591837,0.7142857142857143,0.7142857142857143,0.8163265306122449,0.8163265306122449,0.9183673469387755,0.9183673469387755,1.0204081632653061,1.0204081632653061,1.1224489795918369,1.1224489795918369,1.2244897959183674,1.2244897959183674,1.3265306122448979,1.3265306122448979,1.4285714285714286,1.4285714285714286,1.5306122448979593,1.5306122448979593,1.6326530612244898,1.6326530612244898,1.7346938775510203,1.7346938775510203,1.836734693877551,1.836734693877551,1.9387755102040818,1.9387755102040818,2.0408163265306123,2.0408163265306123,2.142857142857143,2.142857142857143,2.2448979591836737,2.2448979591836737,2.3469387755102042,2.3469387755102042,2.4489795918367347,2.4489795918367347,2.5510204081632653,2.5510204081632653,2.6530612244897958,2.6530612244897958,2.7551020408163267,2.7551020408163267,2.857142857142857,2.857142857142857,2.9591836734693877,2.9591836734693877,3.0612244897959187,3.0612244897959187,3.163265306122449,3.163265306122449,3.2653061224489797,3.2653061224489797,3.36734693877551,3.36734693877551,3.4693877551020407,3.4693877551020407,3.5714285714285716,3.5714285714285716,3.673469387755102,3.673469387755102,3.7755102040816326,3.7755102040816326,3.8775510204081636,3.8775510204081636,3.979591836734694,3.979591836734694,4.081632653061225,4.081632653061225,4.183673469387755,4.183673469387755,4.285714285714286,4.285714285714286,4.387755102040816,4.387755102040816,4.4897959183673475,4.4897959183673475,4.591836734693878,4.591836734693878,4.6938775510204085,4.6938775510204085,4.795918367346939,4.795918367346939,4.8979591836734695,4.8979591836734695,5.0,5.0],\"y\":[0.0,1.0,0.0,0.9669353855376474,0.0,0.9357097802815207,0.0,0.9062379351981783,0.0,0.8784386683298522,0.0,0.8522346059462226,0.0,0.8275519326952188,0.0,0.8043201509763798,0.0,0.7824718499713511,0.0,0.7619424849743788,0.0,0.7426701678597056,0.0,0.724595469688793,0.0,0.7076612365830878,0.0,0.6918124200519549,0.0,0.6769959229558147,0.0,0.6631604621897604,0.0,0.6502564489859758,0.0,0.6382358874536272,0.0,0.627052291609886,0.0,0.6166606207209189,0.0,0.6070172322907257,0.0,0.598079851538588,0.0,0.5898075557265693,0.0,0.5821607712716674,0.0,0.5751012812344901,0.0,0.5685922405430945,0.0,0.5625981962031019,0.0,0.5570851097689589,0.0,0.5520203795008021,0.0,0.5473728598914829,0.0,0.5431128765957067,0.0,0.5392122352000456,0.0,0.5356442227088813,0.0,0.5323836010586397,0.0,0.5294065923860118,0.0,0.5266908561454209,0.0,0.5242154584832308,0.0,0.5219608345235679,0.0,0.5199087444011337,0.0,0.5180422239927872,0.0,0.5163455313580368,0.0,0.5148040899071803,0.0,0.5134044292841808,0.0,0.5121341248890632,0.0,0.5109817368807432,0.0,0.5099367494040483,0.0,0.5089895106809791,0.0,0.5081311745017715,0.0,0.5073536435501157,0.0,0.5066495149022154],\"type\":\"scatter\"}],                        {\"template\":{\"data\":{\"histogram2dcontour\":[{\"type\":\"histogram2dcontour\",\"colorbar\":{\"outlinewidth\":0,\"ticks\":\"\"},\"colorscale\":[[0.0,\"#0d0887\"],[0.1111111111111111,\"#46039f\"],[0.2222222222222222,\"#7201a8\"],[0.3333333333333333,\"#9c179e\"],[0.4444444444444444,\"#bd3786\"],[0.5555555555555556,\"#d8576b\"],[0.6666666666666666,\"#ed7953\"],[0.7777777777777778,\"#fb9f3a\"],[0.8888888888888888,\"#fdca26\"],[1.0,\"#f0f921\"]]}],\"choropleth\":[{\"type\":\"choropleth\",\"colorbar\":{\"outlinewidth\":0,\"ticks\":\"\"}}],\"histogram2d\":[{\"type\":\"histogram2d\",\"colorbar\":{\"outlinewidth\":0,\"ticks\":\"\"},\"colorscale\":[[0.0,\"#0d0887\"],[0.1111111111111111,\"#46039f\"],[0.2222222222222222,\"#7201a8\"],[0.3333333333333333,\"#9c179e\"],[0.4444444444444444,\"#bd3786\"],[0.5555555555555556,\"#d8576b\"],[0.6666666666666666,\"#ed7953\"],[0.7777777777777778,\"#fb9f3a\"],[0.8888888888888888,\"#fdca26\"],[1.0,\"#f0f921\"]]}],\"heatmap\":[{\"type\":\"heatmap\",\"colorbar\":{\"outlinewidth\":0,\"ticks\":\"\"},\"colorscale\":[[0.0,\"#0d0887\"],[0.1111111111111111,\"#46039f\"],[0.2222222222222222,\"#7201a8\"],[0.3333333333333333,\"#9c179e\"],[0.4444444444444444,\"#bd3786\"],[0.5555555555555556,\"#d8576b\"],[0.6666666666666666,\"#ed7953\"],[0.7777777777777778,\"#fb9f3a\"],[0.8888888888888888,\"#fdca26\"],[1.0,\"#f0f921\"]]}],\"heatmapgl\":[{\"type\":\"heatmapgl\",\"colorbar\":{\"outlinewidth\":0,\"ticks\":\"\"},\"colorscale\":[[0.0,\"#0d0887\"],[0.1111111111111111,\"#46039f\"],[0.2222222222222222,\"#7201a8\"],[0.3333333333333333,\"#9c179e\"],[0.4444444444444444,\"#bd3786\"],[0.5555555555555556,\"#d8576b\"],[0.6666666666666666,\"#ed7953\"],[0.7777777777777778,\"#fb9f3a\"],[0.8888888888888888,\"#fdca26\"],[1.0,\"#f0f921\"]]}],\"contourcarpet\":[{\"type\":\"contourcarpet\",\"colorbar\":{\"outlinewidth\":0,\"ticks\":\"\"}}],\"contour\":[{\"type\":\"contour\",\"colorbar\":{\"outlinewidth\":0,\"ticks\":\"\"},\"colorscale\":[[0.0,\"#0d0887\"],[0.1111111111111111,\"#46039f\"],[0.2222222222222222,\"#7201a8\"],[0.3333333333333333,\"#9c179e\"],[0.4444444444444444,\"#bd3786\"],[0.5555555555555556,\"#d8576b\"],[0.6666666666666666,\"#ed7953\"],[0.7777777777777778,\"#fb9f3a\"],[0.8888888888888888,\"#fdca26\"],[1.0,\"#f0f921\"]]}],\"surface\":[{\"type\":\"surface\",\"colorbar\":{\"outlinewidth\":0,\"ticks\":\"\"},\"colorscale\":[[0.0,\"#0d0887\"],[0.1111111111111111,\"#46039f\"],[0.2222222222222222,\"#7201a8\"],[0.3333333333333333,\"#9c179e\"],[0.4444444444444444,\"#bd3786\"],[0.5555555555555556,\"#d8576b\"],[0.6666666666666666,\"#ed7953\"],[0.7777777777777778,\"#fb9f3a\"],[0.8888888888888888,\"#fdca26\"],[1.0,\"#f0f921\"]]}],\"mesh3d\":[{\"type\":\"mesh3d\",\"colorbar\":{\"outlinewidth\":0,\"ticks\":\"\"}}],\"scatter\":[{\"fillpattern\":{\"fillmode\":\"overlay\",\"size\":10,\"solidity\":0.2},\"type\":\"scatter\"}],\"parcoords\":[{\"type\":\"parcoords\",\"line\":{\"colorbar\":{\"outlinewidth\":0,\"ticks\":\"\"}}}],\"scatterpolargl\":[{\"type\":\"scatterpolargl\",\"marker\":{\"colorbar\":{\"outlinewidth\":0,\"ticks\":\"\"}}}],\"bar\":[{\"error_x\":{\"color\":\"#2a3f5f\"},\"error_y\":{\"color\":\"#2a3f5f\"},\"marker\":{\"line\":{\"color\":\"#E5ECF6\",\"width\":0.5},\"pattern\":{\"fillmode\":\"overlay\",\"size\":10,\"solidity\":0.2}},\"type\":\"bar\"}],\"scattergeo\":[{\"type\":\"scattergeo\",\"marker\":{\"colorbar\":{\"outlinewidth\":0,\"ticks\":\"\"}}}],\"scatterpolar\":[{\"type\":\"scatterpolar\",\"marker\":{\"colorbar\":{\"outlinewidth\":0,\"ticks\":\"\"}}}],\"histogram\":[{\"marker\":{\"pattern\":{\"fillmode\":\"overlay\",\"size\":10,\"solidity\":0.2}},\"type\":\"histogram\"}],\"scattergl\":[{\"type\":\"scattergl\",\"marker\":{\"colorbar\":{\"outlinewidth\":0,\"ticks\":\"\"}}}],\"scatter3d\":[{\"type\":\"scatter3d\",\"line\":{\"colorbar\":{\"outlinewidth\":0,\"ticks\":\"\"}},\"marker\":{\"colorbar\":{\"outlinewidth\":0,\"ticks\":\"\"}}}],\"scattermapbox\":[{\"type\":\"scattermapbox\",\"marker\":{\"colorbar\":{\"outlinewidth\":0,\"ticks\":\"\"}}}],\"scatterternary\":[{\"type\":\"scatterternary\",\"marker\":{\"colorbar\":{\"outlinewidth\":0,\"ticks\":\"\"}}}],\"scattercarpet\":[{\"type\":\"scattercarpet\",\"marker\":{\"colorbar\":{\"outlinewidth\":0,\"ticks\":\"\"}}}],\"carpet\":[{\"aaxis\":{\"endlinecolor\":\"#2a3f5f\",\"gridcolor\":\"white\",\"linecolor\":\"white\",\"minorgridcolor\":\"white\",\"startlinecolor\":\"#2a3f5f\"},\"baxis\":{\"endlinecolor\":\"#2a3f5f\",\"gridcolor\":\"white\",\"linecolor\":\"white\",\"minorgridcolor\":\"white\",\"startlinecolor\":\"#2a3f5f\"},\"type\":\"carpet\"}],\"table\":[{\"cells\":{\"fill\":{\"color\":\"#EBF0F8\"},\"line\":{\"color\":\"white\"}},\"header\":{\"fill\":{\"color\":\"#C8D4E3\"},\"line\":{\"color\":\"white\"}},\"type\":\"table\"}],\"barpolar\":[{\"marker\":{\"line\":{\"color\":\"#E5ECF6\",\"width\":0.5},\"pattern\":{\"fillmode\":\"overlay\",\"size\":10,\"solidity\":0.2}},\"type\":\"barpolar\"}],\"pie\":[{\"automargin\":true,\"type\":\"pie\"}]},\"layout\":{\"autotypenumbers\":\"strict\",\"colorway\":[\"#636efa\",\"#EF553B\",\"#00cc96\",\"#ab63fa\",\"#FFA15A\",\"#19d3f3\",\"#FF6692\",\"#B6E880\",\"#FF97FF\",\"#FECB52\"],\"font\":{\"color\":\"#2a3f5f\"},\"hovermode\":\"closest\",\"hoverlabel\":{\"align\":\"left\"},\"paper_bgcolor\":\"white\",\"plot_bgcolor\":\"#E5ECF6\",\"polar\":{\"bgcolor\":\"#E5ECF6\",\"angularaxis\":{\"gridcolor\":\"white\",\"linecolor\":\"white\",\"ticks\":\"\"},\"radialaxis\":{\"gridcolor\":\"white\",\"linecolor\":\"white\",\"ticks\":\"\"}},\"ternary\":{\"bgcolor\":\"#E5ECF6\",\"aaxis\":{\"gridcolor\":\"white\",\"linecolor\":\"white\",\"ticks\":\"\"},\"baxis\":{\"gridcolor\":\"white\",\"linecolor\":\"white\",\"ticks\":\"\"},\"caxis\":{\"gridcolor\":\"white\",\"linecolor\":\"white\",\"ticks\":\"\"}},\"coloraxis\":{\"colorbar\":{\"outlinewidth\":0,\"ticks\":\"\"}},\"colorscale\":{\"sequential\":[[0.0,\"#0d0887\"],[0.1111111111111111,\"#46039f\"],[0.2222222222222222,\"#7201a8\"],[0.3333333333333333,\"#9c179e\"],[0.4444444444444444,\"#bd3786\"],[0.5555555555555556,\"#d8576b\"],[0.6666666666666666,\"#ed7953\"],[0.7777777777777778,\"#fb9f3a\"],[0.8888888888888888,\"#fdca26\"],[1.0,\"#f0f921\"]],\"sequentialminus\":[[0.0,\"#0d0887\"],[0.1111111111111111,\"#46039f\"],[0.2222222222222222,\"#7201a8\"],[0.3333333333333333,\"#9c179e\"],[0.4444444444444444,\"#bd3786\"],[0.5555555555555556,\"#d8576b\"],[0.6666666666666666,\"#ed7953\"],[0.7777777777777778,\"#fb9f3a\"],[0.8888888888888888,\"#fdca26\"],[1.0,\"#f0f921\"]],\"diverging\":[[0,\"#8e0152\"],[0.1,\"#c51b7d\"],[0.2,\"#de77ae\"],[0.3,\"#f1b6da\"],[0.4,\"#fde0ef\"],[0.5,\"#f7f7f7\"],[0.6,\"#e6f5d0\"],[0.7,\"#b8e186\"],[0.8,\"#7fbc41\"],[0.9,\"#4d9221\"],[1,\"#276419\"]]},\"xaxis\":{\"gridcolor\":\"white\",\"linecolor\":\"white\",\"ticks\":\"\",\"title\":{\"standoff\":15},\"zerolinecolor\":\"white\",\"automargin\":true,\"zerolinewidth\":2},\"yaxis\":{\"gridcolor\":\"white\",\"linecolor\":\"white\",\"ticks\":\"\",\"title\":{\"standoff\":15},\"zerolinecolor\":\"white\",\"automargin\":true,\"zerolinewidth\":2},\"scene\":{\"xaxis\":{\"backgroundcolor\":\"#E5ECF6\",\"gridcolor\":\"white\",\"linecolor\":\"white\",\"showbackground\":true,\"ticks\":\"\",\"zerolinecolor\":\"white\",\"gridwidth\":2},\"yaxis\":{\"backgroundcolor\":\"#E5ECF6\",\"gridcolor\":\"white\",\"linecolor\":\"white\",\"showbackground\":true,\"ticks\":\"\",\"zerolinecolor\":\"white\",\"gridwidth\":2},\"zaxis\":{\"backgroundcolor\":\"#E5ECF6\",\"gridcolor\":\"white\",\"linecolor\":\"white\",\"showbackground\":true,\"ticks\":\"\",\"zerolinecolor\":\"white\",\"gridwidth\":2}},\"shapedefaults\":{\"line\":{\"color\":\"#2a3f5f\"}},\"annotationdefaults\":{\"arrowcolor\":\"#2a3f5f\",\"arrowhead\":0,\"arrowwidth\":1},\"geo\":{\"bgcolor\":\"white\",\"landcolor\":\"#E5ECF6\",\"subunitcolor\":\"white\",\"showland\":true,\"showlakes\":true,\"lakecolor\":\"white\"},\"title\":{\"x\":0.05},\"mapbox\":{\"style\":\"light\"}}},\"title\":{\"text\":\"Fig 2a s=2, b=1\"},\"xaxis\":{\"title\":{\"text\":\"C\"}},\"yaxis\":{\"title\":{\"text\":\"x\"}}},                        {\"responsive\": true}                    ).then(function(){\n",
       "                            \n",
       "var gd = document.getElementById('08197477-fe31-4428-8ecb-df646e1998a6');\n",
       "var x = new MutationObserver(function (mutations, observer) {{\n",
       "        var display = window.getComputedStyle(gd).display;\n",
       "        if (!display || display === 'none') {{\n",
       "            console.log([gd, 'removed!']);\n",
       "            Plotly.purge(gd);\n",
       "            observer.disconnect();\n",
       "        }}\n",
       "}});\n",
       "\n",
       "// Listen for the removal of the full notebook cells\n",
       "var notebookContainer = gd.closest('#notebook-container');\n",
       "if (notebookContainer) {{\n",
       "    x.observe(notebookContainer, {childList: true});\n",
       "}}\n",
       "\n",
       "// Listen for the clearing of the current output cell\n",
       "var outputEl = gd.closest('.output');\n",
       "if (outputEl) {{\n",
       "    x.observe(outputEl, {childList: true});\n",
       "}}\n",
       "\n",
       "                        })                };                });            </script>        </div>"
      ]
     },
     "metadata": {},
     "output_type": "display_data"
    }
   ],
   "source": [
    "s_par = 2\n",
    "b_par = 1\n",
    "params = {s:s_par, b:b_par, ro:1}\n",
    "\n",
    "cs = []\n",
    "xs =[]\n",
    "sols_by_c = {}\n",
    "fig = go.Figure()\n",
    "\n",
    "for cur_C in np.linspace(0,5,50):\n",
    "    cur_params = {C:cur_C} | params\n",
    "    sols_by_c[cur_C] = [sol for sol in solve(dxdt.subs(cur_params), x)\n",
    "                       if sol.is_real and sol >=0]\n",
    "    for curx in sols_by_c[cur_C]:\n",
    "        cs.append(float(cur_C))\n",
    "        xs.append(float(curx))\n",
    "        k = 2# number of steps\n",
    "        fig.add_trace(get_arrow_scatter(cur_C, k, curx, cur_params, shift = 0.1))\n",
    "        \n",
    "    \n",
    "fig.add_trace(go.Scatter(x=cs, y=xs, mode='markers', name = \"\"))\n",
    "fig.update_layout(title=f\"Fig 2a s={s_par}, b={b_par}\")\n",
    "fig.update_layout(xaxis={\"title\": \"C\"}, yaxis={\"title\": \"x\"})"
   ]
  },
  {
   "cell_type": "code",
   "execution_count": 37,
   "id": "c0ef1fb1-0154-4a5c-8379-43d218a09dda",
   "metadata": {
    "tags": []
   },
   "outputs": [
    {
     "data": {
      "image/png": "[encoded data removed]",
      "text/latex": [
       "$\\displaystyle \\left[ \\log{\\left(\\frac{b}{b + 2 x^{2} - x - 1} \\right)}\\right]$"
      ],
      "text/plain": [
       "⎡   ⎛       b        ⎞⎤\n",
       "⎢log⎜────────────────⎟⎥\n",
       "⎢   ⎜       2        ⎟⎥\n",
       "⎣   ⎝b + 2⋅x  - x - 1⎠⎦"
      ]
     },
     "execution_count": 37,
     "metadata": {},
     "output_type": "execute_result"
    }
   ],
   "source": [
    "s_par = 2\n",
    "b_par = 1.1\n",
    "params = {s:s_par, ro:1}\n",
    "\n",
    "solve(dxdt.subs(params), C)"
   ]
  },
  {
   "cell_type": "code",
   "execution_count": 61,
   "id": "4158c7e2-1087-466e-8d21-391fdee9d127",
   "metadata": {
    "tags": []
   },
   "outputs": [],
   "source": [
    "def is_stable(c, x, cur_params) -> bool:\n",
    "    \"\"\"Запускаем траекторию из точки вблизи от равновесия. Если точка осталась в этой окрестости, \n",
    "    то аттрактор\"\"\"\n",
    "    k=10\n",
    "    for shift in [-0.01,0.01, -0.1,0.1]:\n",
    "        x_start = x+shift\n",
    "        if x_start<0:\n",
    "            continue\n",
    "        x_fin = get_k_next(x_start, k, cur_params)[-1]\n",
    "        return abs(x_fin - x_start) < shift\n",
    "        "
   ]
  },
  {
   "cell_type": "code",
   "execution_count": 68,
   "id": "8511c187-5308-4bb0-a660-f9db5df54a9e",
   "metadata": {
    "tags": []
   },
   "outputs": [],
   "source": [
    "def get_attr_rep(cs, xs, cur_params):\n",
    "    stables = []\n",
    "    for c, x in zip(cs, xs):\n",
    "        stables.append(is_stable(c,x,cur_params | {C:c}))\n",
    "    res = []\n",
    "    th = list(zip(cs, xs, stables))\n",
    "    prev_is_stable = th[0][2]\n",
    "    cur_subsegment = []\n",
    "    for c, x, st in th:\n",
    "        if st == prev_is_stable:\n",
    "            cur_subsegment.append((c, x, st))\n",
    "        else:\n",
    "            res.append(cur_subsegment)\n",
    "            cur_subsegment = []\n",
    "            cur_subsegment.append((c, x, st))\n",
    "            prev_is_stable = st\n",
    "    res.append(cur_subsegment)\n",
    "    return res"
   ]
  },
  {
   "cell_type": "code",
   "execution_count": 69,
   "id": "86b95a62-26b4-4a1f-9483-22cad07854a3",
   "metadata": {
    "tags": []
   },
   "outputs": [
    {
     "data": {
      "image/png": "[encoded data removed]",
      "text/latex": [
       "$\\displaystyle \\left[ 0.0, \\  - 0.5 \\sqrt{\\left(81.0 e^{C} + 40.0\\right) e^{C}} e^{- C} - 4.5, \\  0.5 \\sqrt{\\left(81.0 e^{C} + 40.0\\right) e^{C}} e^{- C} - 4.5\\right]$"
      ],
      "text/plain": [
       "⎡              _____________________                   _____________________  \n",
       "⎢             ╱ ⎛      C       ⎞  C   -C              ╱ ⎛      C       ⎞  C   \n",
       "⎣0.0, - 0.5⋅╲╱  ⎝81.0⋅ℯ  + 40.0⎠⋅ℯ  ⋅ℯ   - 4.5, 0.5⋅╲╱  ⎝81.0⋅ℯ  + 40.0⎠⋅ℯ  ⋅ℯ\n",
       "\n",
       "        ⎤\n",
       "-C      ⎥\n",
       "   - 4.5⎦"
      ]
     },
     "execution_count": 69,
     "metadata": {},
     "output_type": "execute_result"
    }
   ],
   "source": [
    "\n",
    "an_sols"
   ]
  },
  {
   "cell_type": "code",
   "execution_count": 88,
   "id": "85b6a7d9-2173-4d46-a7e0-46aadce4e373",
   "metadata": {
    "tags": []
   },
   "outputs": [],
   "source": [
    "def get_line_mode(cont_subsegment):\n",
    "    return {} if cont_subsegment[0][2] else {\"dash\":\"dot\"}"
   ]
  },
  {
   "cell_type": "code",
   "execution_count": 90,
   "id": "d8570ddd-fe12-4629-b85c-398f62c6bd8a",
   "metadata": {
    "tags": []
   },
   "outputs": [
    {
     "data": {
      "application/vnd.plotly.v1+json": {
       "config": {
        "plotlyServerURL": "https://plot.ly"
       },
       "data": [
        {
         "line": {
          "dash": "dot"
         },
         "mode": "lines",
         "name": "",
         "type": "scatter",
         "x": [
          0,
          0.10204081632653061,
          0.20408163265306123,
          0.30612244897959184,
          0.40816326530612246,
          0.5102040816326531,
          0.6122448979591837,
          0.7142857142857143,
          0.8163265306122449,
          0.9183673469387755,
          1.0204081632653061,
          1.1224489795918369,
          1.2244897959183674,
          1.3265306122448979,
          1.4285714285714286
         ],
         "y": [
          0,
          0,
          0,
          0,
          0,
          0,
          0,
          0,
          0,
          0,
          0,
          0,
          0,
          0,
          0
         ]
        },
        {
         "mode": "lines",
         "name": "",
         "type": "scatter",
         "x": [
          1.5306122448979593,
          1.6326530612244898,
          1.7346938775510203,
          1.836734693877551,
          1.9387755102040818,
          2.0408163265306123,
          2.142857142857143,
          2.2448979591836737,
          2.3469387755102042,
          2.4489795918367347,
          2.5510204081632653,
          2.6530612244897958,
          2.7551020408163267,
          2.857142857142857,
          2.9591836734693877,
          3.0612244897959187,
          3.163265306122449,
          3.2653061224489797,
          3.36734693877551,
          3.4693877551020407,
          3.5714285714285716,
          3.673469387755102,
          3.7755102040816326,
          3.8775510204081636,
          3.979591836734694,
          4.081632653061225,
          4.183673469387755,
          4.285714285714286,
          4.387755102040816,
          4.4897959183673475,
          4.591836734693878,
          4.6938775510204085,
          4.795918367346939,
          4.8979591836734695,
          5
         ],
         "y": [
          0,
          0,
          0,
          0,
          0,
          0,
          0,
          0,
          0,
          0,
          0,
          0,
          0,
          0,
          0,
          0,
          0,
          0,
          0,
          0,
          0,
          0,
          0,
          0,
          0,
          0,
          0,
          0,
          0,
          0,
          0,
          0,
          0,
          0,
          0
         ]
        },
        {
         "line": {
          "dash": "dot"
         },
         "mode": "lines",
         "name": "",
         "type": "scatter",
         "x": [
          0,
          0.10204081632653061,
          0.20408163265306123,
          0.30612244897959184,
          0.40816326530612246,
          0.5102040816326531,
          0.6122448979591837,
          0.7142857142857143,
          0.8163265306122449,
          0.9183673469387755,
          1.0204081632653061,
          1.1224489795918369,
          1.2244897959183674,
          1.3265306122448979,
          1.4285714285714286,
          1.5306122448979593,
          1.6326530612244898,
          1.7346938775510203,
          1.836734693877551,
          1.9387755102040818,
          2.0408163265306123,
          2.142857142857143,
          2.2448979591836737,
          2.3469387755102042,
          2.4489795918367347,
          2.5510204081632653,
          2.6530612244897958,
          2.7551020408163267,
          2.857142857142857,
          2.9591836734693877,
          3.0612244897959187,
          3.163265306122449,
          3.2653061224489797,
          3.36734693877551,
          3.4693877551020407,
          3.5714285714285716,
          3.673469387755102,
          3.7755102040816326,
          3.8775510204081636,
          3.979591836734694,
          4.081632653061225,
          4.183673469387755,
          4.285714285714286,
          4.387755102040816,
          4.4897959183673475,
          4.591836734693878,
          4.6938775510204085,
          4.795918367346939,
          4.8979591836734695,
          5
         ],
         "y": [
          -10,
          -9.911092952511563,
          -9.829536382789279,
          -9.754803949897976,
          -9.686395973799527,
          -9.62383942097955,
          -9.56668774439472,
          -9.514520574847563,
          -9.46694326726592,
          -9.423586310651498,
          -9.38410461456122,
          -9.348176687888191,
          -9.315503727484304,
          -9.285808634937599,
          -9.25883497974218,
          -9.234345926348976,
          -9.212123141334198,
          -9.191965695328356,
          -9.173688972553194,
          -9.15712359893411,
          -9.142114397884932,
          -9.128519381070205,
          -9.11620877978643,
          -9.105064121099268,
          -9.094977351544417,
          -9.085850010051068,
          -9.077592450774606,
          -9.070123115719781,
          -9.063367856383723,
          -9.057259303133934,
          -9.051736280643265,
          -9.046743267415495,
          -9.042229897235412,
          -9.038150500251936,
          -9.03446368133821,
          -9.03113193335724,
          -9.028121282985182,
          -9.025400966797871,
          -9.022943135402427,
          -9.020722583488173,
          -9.018716503774925,
          -9.016904262947289,
          -9.015267197778057,
          -9.0137884297591,
          -9.012452696672376,
          -9.011246199645377,
          -9.010156464343059,
          -9.009172215051592,
          -9.008283260507309,
          -9.007480390416674
         ]
        },
        {
         "line": {
          "dash": "dot"
         },
         "mode": "lines",
         "name": "",
         "type": "scatter",
         "x": [
          0,
          0.10204081632653061,
          0.20408163265306123,
          0.30612244897959184,
          0.40816326530612246,
          0.5102040816326531,
          0.6122448979591837,
          0.7142857142857143,
          0.8163265306122449,
          0.9183673469387755,
          1.0204081632653061,
          1.1224489795918369,
          1.2244897959183674,
          1.3265306122448979,
          1.4285714285714286,
          1.5306122448979593,
          1.6326530612244898,
          1.7346938775510203,
          1.836734693877551,
          1.9387755102040818,
          2.0408163265306123,
          2.142857142857143,
          2.2448979591836737,
          2.3469387755102042,
          2.4489795918367347,
          2.5510204081632653,
          2.6530612244897958,
          2.7551020408163267,
          2.857142857142857,
          2.9591836734693877,
          3.0612244897959187,
          3.163265306122449,
          3.2653061224489797,
          3.36734693877551,
          3.4693877551020407,
          3.5714285714285716,
          3.673469387755102,
          3.7755102040816326,
          3.8775510204081636,
          3.979591836734694,
          4.081632653061225,
          4.183673469387755,
          4.285714285714286,
          4.387755102040816,
          4.4897959183673475,
          4.591836734693878,
          4.6938775510204085,
          4.795918367346939,
          4.8979591836734695,
          5
         ],
         "y": [
          1,
          0.911092952511563,
          0.8295363827892785,
          0.7548039498979762,
          0.6863959737995282,
          0.6238394209795493,
          0.5666877443947191,
          0.5145205748475625,
          0.46694326726592017,
          0.42358631065149854,
          0.38410461456122036,
          0.34817668788819134,
          0.31550372748430355,
          0.28580863493759967,
          0.25883497974218006,
          0.23434592634897466,
          0.21212314133419774,
          0.1919656953283564,
          0.1736889725531947,
          0.15712359893410976,
          0.1421143978849324,
          0.12851938107020455,
          0.11620877978642952,
          0.10506412109926888,
          0.09497735154441678,
          0.0858500100510673,
          0.0775924507746053,
          0.07012311571978014,
          0.06336785638372255,
          0.057259303133934125,
          0.051736280643265964,
          0.04674326741549528,
          0.04222989723541115,
          0.03815050025193578,
          0.03446368133820865,
          0.03113193335723974,
          0.028121282985181573,
          0.025400966797871405,
          0.022943135402426762,
          0.020722583488173463,
          0.018716503774926174,
          0.016904262947289084,
          0.01526719777805674,
          0.013788429759098442,
          0.012452696672375474,
          0.011246199645376542,
          0.010156464343057614,
          0.009172215051592048,
          0.008283260507307766,
          0.007480390416674254
         ]
        }
       ],
       "layout": {
        "autosize": true,
        "template": {
         "data": {
          "bar": [
           {
            "error_x": {
             "color": "#2a3f5f"
            },
            "error_y": {
             "color": "#2a3f5f"
            },
            "marker": {
             "line": {
              "color": "#E5ECF6",
              "width": 0.5
             },
             "pattern": {
              "fillmode": "overlay",
              "size": 10,
              "solidity": 0.2
             }
            },
            "type": "bar"
           }
          ],
          "barpolar": [
           {
            "marker": {
             "line": {
              "color": "#E5ECF6",
              "width": 0.5
             },
             "pattern": {
              "fillmode": "overlay",
              "size": 10,
              "solidity": 0.2
             }
            },
            "type": "barpolar"
           }
          ],
          "carpet": [
           {
            "aaxis": {
             "endlinecolor": "#2a3f5f",
             "gridcolor": "white",
             "linecolor": "white",
             "minorgridcolor": "white",
             "startlinecolor": "#2a3f5f"
            },
            "baxis": {
             "endlinecolor": "#2a3f5f",
             "gridcolor": "white",
             "linecolor": "white",
             "minorgridcolor": "white",
             "startlinecolor": "#2a3f5f"
            },
            "type": "carpet"
           }
          ],
          "choropleth": [
           {
            "colorbar": {
             "outlinewidth": 0,
             "ticks": ""
            },
            "type": "choropleth"
           }
          ],
          "contour": [
           {
            "colorbar": {
             "outlinewidth": 0,
             "ticks": ""
            },
            "colorscale": [
             [
              0,
              "#0d0887"
             ],
             [
              0.1111111111111111,
              "#46039f"
             ],
             [
              0.2222222222222222,
              "#7201a8"
             ],
             [
              0.3333333333333333,
              "#9c179e"
             ],
             [
              0.4444444444444444,
              "#bd3786"
             ],
             [
              0.5555555555555556,
              "#d8576b"
             ],
             [
              0.6666666666666666,
              "#ed7953"
             ],
             [
              0.7777777777777778,
              "#fb9f3a"
             ],
             [
              0.8888888888888888,
              "#fdca26"
             ],
             [
              1,
              "#f0f921"
             ]
            ],
            "type": "contour"
           }
          ],
          "contourcarpet": [
           {
            "colorbar": {
             "outlinewidth": 0,
             "ticks": ""
            },
            "type": "contourcarpet"
           }
          ],
          "heatmap": [
           {
            "colorbar": {
             "outlinewidth": 0,
             "ticks": ""
            },
            "colorscale": [
             [
              0,
              "#0d0887"
             ],
             [
              0.1111111111111111,
              "#46039f"
             ],
             [
              0.2222222222222222,
              "#7201a8"
             ],
             [
              0.3333333333333333,
              "#9c179e"
             ],
             [
              0.4444444444444444,
              "#bd3786"
             ],
             [
              0.5555555555555556,
              "#d8576b"
             ],
             [
              0.6666666666666666,
              "#ed7953"
             ],
             [
              0.7777777777777778,
              "#fb9f3a"
             ],
             [
              0.8888888888888888,
              "#fdca26"
             ],
             [
              1,
              "#f0f921"
             ]
            ],
            "type": "heatmap"
           }
          ],
          "heatmapgl": [
           {
            "colorbar": {
             "outlinewidth": 0,
             "ticks": ""
            },
            "colorscale": [
             [
              0,
              "#0d0887"
             ],
             [
              0.1111111111111111,
              "#46039f"
             ],
             [
              0.2222222222222222,
              "#7201a8"
             ],
             [
              0.3333333333333333,
              "#9c179e"
             ],
             [
              0.4444444444444444,
              "#bd3786"
             ],
             [
              0.5555555555555556,
              "#d8576b"
             ],
             [
              0.6666666666666666,
              "#ed7953"
             ],
             [
              0.7777777777777778,
              "#fb9f3a"
             ],
             [
              0.8888888888888888,
              "#fdca26"
             ],
             [
              1,
              "#f0f921"
             ]
            ],
            "type": "heatmapgl"
           }
          ],
          "histogram": [
           {
            "marker": {
             "pattern": {
              "fillmode": "overlay",
              "size": 10,
              "solidity": 0.2
             }
            },
            "type": "histogram"
           }
          ],
          "histogram2d": [
           {
            "colorbar": {
             "outlinewidth": 0,
             "ticks": ""
            },
            "colorscale": [
             [
              0,
              "#0d0887"
             ],
             [
              0.1111111111111111,
              "#46039f"
             ],
             [
              0.2222222222222222,
              "#7201a8"
             ],
             [
              0.3333333333333333,
              "#9c179e"
             ],
             [
              0.4444444444444444,
              "#bd3786"
             ],
             [
              0.5555555555555556,
              "#d8576b"
             ],
             [
              0.6666666666666666,
              "#ed7953"
             ],
             [
              0.7777777777777778,
              "#fb9f3a"
             ],
             [
              0.8888888888888888,
              "#fdca26"
             ],
             [
              1,
              "#f0f921"
             ]
            ],
            "type": "histogram2d"
           }
          ],
          "histogram2dcontour": [
           {
            "colorbar": {
             "outlinewidth": 0,
             "ticks": ""
            },
            "colorscale": [
             [
              0,
              "#0d0887"
             ],
             [
              0.1111111111111111,
              "#46039f"
             ],
             [
              0.2222222222222222,
              "#7201a8"
             ],
             [
              0.3333333333333333,
              "#9c179e"
             ],
             [
              0.4444444444444444,
              "#bd3786"
             ],
             [
              0.5555555555555556,
              "#d8576b"
             ],
             [
              0.6666666666666666,
              "#ed7953"
             ],
             [
              0.7777777777777778,
              "#fb9f3a"
             ],
             [
              0.8888888888888888,
              "#fdca26"
             ],
             [
              1,
              "#f0f921"
             ]
            ],
            "type": "histogram2dcontour"
           }
          ],
          "mesh3d": [
           {
            "colorbar": {
             "outlinewidth": 0,
             "ticks": ""
            },
            "type": "mesh3d"
           }
          ],
          "parcoords": [
           {
            "line": {
             "colorbar": {
              "outlinewidth": 0,
              "ticks": ""
             }
            },
            "type": "parcoords"
           }
          ],
          "pie": [
           {
            "automargin": true,
            "type": "pie"
           }
          ],
          "scatter": [
           {
            "fillpattern": {
             "fillmode": "overlay",
             "size": 10,
             "solidity": 0.2
            },
            "type": "scatter"
           }
          ],
          "scatter3d": [
           {
            "line": {
             "colorbar": {
              "outlinewidth": 0,
              "ticks": ""
             }
            },
            "marker": {
             "colorbar": {
              "outlinewidth": 0,
              "ticks": ""
             }
            },
            "type": "scatter3d"
           }
          ],
          "scattercarpet": [
           {
            "marker": {
             "colorbar": {
              "outlinewidth": 0,
              "ticks": ""
             }
            },
            "type": "scattercarpet"
           }
          ],
          "scattergeo": [
           {
            "marker": {
             "colorbar": {
              "outlinewidth": 0,
              "ticks": ""
             }
            },
            "type": "scattergeo"
           }
          ],
          "scattergl": [
           {
            "marker": {
             "colorbar": {
              "outlinewidth": 0,
              "ticks": ""
             }
            },
            "type": "scattergl"
           }
          ],
          "scattermapbox": [
           {
            "marker": {
             "colorbar": {
              "outlinewidth": 0,
              "ticks": ""
             }
            },
            "type": "scattermapbox"
           }
          ],
          "scatterpolar": [
           {
            "marker": {
             "colorbar": {
              "outlinewidth": 0,
              "ticks": ""
             }
            },
            "type": "scatterpolar"
           }
          ],
          "scatterpolargl": [
           {
            "marker": {
             "colorbar": {
              "outlinewidth": 0,
              "ticks": ""
             }
            },
            "type": "scatterpolargl"
           }
          ],
          "scatterternary": [
           {
            "marker": {
             "colorbar": {
              "outlinewidth": 0,
              "ticks": ""
             }
            },
            "type": "scatterternary"
           }
          ],
          "surface": [
           {
            "colorbar": {
             "outlinewidth": 0,
             "ticks": ""
            },
            "colorscale": [
             [
              0,
              "#0d0887"
             ],
             [
              0.1111111111111111,
              "#46039f"
             ],
             [
              0.2222222222222222,
              "#7201a8"
             ],
             [
              0.3333333333333333,
              "#9c179e"
             ],
             [
              0.4444444444444444,
              "#bd3786"
             ],
             [
              0.5555555555555556,
              "#d8576b"
             ],
             [
              0.6666666666666666,
              "#ed7953"
             ],
             [
              0.7777777777777778,
              "#fb9f3a"
             ],
             [
              0.8888888888888888,
              "#fdca26"
             ],
             [
              1,
              "#f0f921"
             ]
            ],
            "type": "surface"
           }
          ],
          "table": [
           {
            "cells": {
             "fill": {
              "color": "#EBF0F8"
             },
             "line": {
              "color": "white"
             }
            },
            "header": {
             "fill": {
              "color": "#C8D4E3"
             },
             "line": {
              "color": "white"
             }
            },
            "type": "table"
           }
          ]
         },
         "layout": {
          "annotationdefaults": {
           "arrowcolor": "#2a3f5f",
           "arrowhead": 0,
           "arrowwidth": 1
          },
          "autotypenumbers": "strict",
          "coloraxis": {
           "colorbar": {
            "outlinewidth": 0,
            "ticks": ""
           }
          },
          "colorscale": {
           "diverging": [
            [
             0,
             "#8e0152"
            ],
            [
             0.1,
             "#c51b7d"
            ],
            [
             0.2,
             "#de77ae"
            ],
            [
             0.3,
             "#f1b6da"
            ],
            [
             0.4,
             "#fde0ef"
            ],
            [
             0.5,
             "#f7f7f7"
            ],
            [
             0.6,
             "#e6f5d0"
            ],
            [
             0.7,
             "#b8e186"
            ],
            [
             0.8,
             "#7fbc41"
            ],
            [
             0.9,
             "#4d9221"
            ],
            [
             1,
             "#276419"
            ]
           ],
           "sequential": [
            [
             0,
             "#0d0887"
            ],
            [
             0.1111111111111111,
             "#46039f"
            ],
            [
             0.2222222222222222,
             "#7201a8"
            ],
            [
             0.3333333333333333,
             "#9c179e"
            ],
            [
             0.4444444444444444,
             "#bd3786"
            ],
            [
             0.5555555555555556,
             "#d8576b"
            ],
            [
             0.6666666666666666,
             "#ed7953"
            ],
            [
             0.7777777777777778,
             "#fb9f3a"
            ],
            [
             0.8888888888888888,
             "#fdca26"
            ],
            [
             1,
             "#f0f921"
            ]
           ],
           "sequentialminus": [
            [
             0,
             "#0d0887"
            ],
            [
             0.1111111111111111,
             "#46039f"
            ],
            [
             0.2222222222222222,
             "#7201a8"
            ],
            [
             0.3333333333333333,
             "#9c179e"
            ],
            [
             0.4444444444444444,
             "#bd3786"
            ],
            [
             0.5555555555555556,
             "#d8576b"
            ],
            [
             0.6666666666666666,
             "#ed7953"
            ],
            [
             0.7777777777777778,
             "#fb9f3a"
            ],
            [
             0.8888888888888888,
             "#fdca26"
            ],
            [
             1,
             "#f0f921"
            ]
           ]
          },
          "colorway": [
           "#636efa",
           "#EF553B",
           "#00cc96",
           "#ab63fa",
           "#FFA15A",
           "#19d3f3",
           "#FF6692",
           "#B6E880",
           "#FF97FF",
           "#FECB52"
          ],
          "font": {
           "color": "#2a3f5f"
          },
          "geo": {
           "bgcolor": "white",
           "lakecolor": "white",
           "landcolor": "#E5ECF6",
           "showlakes": true,
           "showland": true,
           "subunitcolor": "white"
          },
          "hoverlabel": {
           "align": "left"
          },
          "hovermode": "closest",
          "mapbox": {
           "style": "light"
          },
          "paper_bgcolor": "white",
          "plot_bgcolor": "#E5ECF6",
          "polar": {
           "angularaxis": {
            "gridcolor": "white",
            "linecolor": "white",
            "ticks": ""
           },
           "bgcolor": "#E5ECF6",
           "radialaxis": {
            "gridcolor": "white",
            "linecolor": "white",
            "ticks": ""
           }
          },
          "scene": {
           "xaxis": {
            "backgroundcolor": "#E5ECF6",
            "gridcolor": "white",
            "gridwidth": 2,
            "linecolor": "white",
            "showbackground": true,
            "ticks": "",
            "zerolinecolor": "white"
           },
           "yaxis": {
            "backgroundcolor": "#E5ECF6",
            "gridcolor": "white",
            "gridwidth": 2,
            "linecolor": "white",
            "showbackground": true,
            "ticks": "",
            "zerolinecolor": "white"
           },
           "zaxis": {
            "backgroundcolor": "#E5ECF6",
            "gridcolor": "white",
            "gridwidth": 2,
            "linecolor": "white",
            "showbackground": true,
            "ticks": "",
            "zerolinecolor": "white"
           }
          },
          "shapedefaults": {
           "line": {
            "color": "#2a3f5f"
           }
          },
          "ternary": {
           "aaxis": {
            "gridcolor": "white",
            "linecolor": "white",
            "ticks": ""
           },
           "baxis": {
            "gridcolor": "white",
            "linecolor": "white",
            "ticks": ""
           },
           "bgcolor": "#E5ECF6",
           "caxis": {
            "gridcolor": "white",
            "linecolor": "white",
            "ticks": ""
           }
          },
          "title": {
           "x": 0.05
          },
          "xaxis": {
           "automargin": true,
           "gridcolor": "white",
           "linecolor": "white",
           "ticks": "",
           "title": {
            "standoff": 15
           },
           "zerolinecolor": "white",
           "zerolinewidth": 2
          },
          "yaxis": {
           "automargin": true,
           "gridcolor": "white",
           "linecolor": "white",
           "ticks": "",
           "title": {
            "standoff": 15
           },
           "zerolinecolor": "white",
           "zerolinewidth": 2
          }
         }
        },
        "xaxis": {
         "autorange": true,
         "range": [
          0,
          5
         ],
         "title": {
          "text": "C"
         },
         "type": "linear"
        },
        "yaxis": {
         "autorange": false,
         "range": [
          -1.2011973063151036,
          1.6111111111111107
         ],
         "title": {
          "text": "x"
         },
         "type": "linear"
        }
       }
      },
      "image/png": "[encoded data removed]",
      "text/html": [
       "<div>                            <div id=\"9c7d7d5f-9d44-4129-a420-840571501088\" class=\"plotly-graph-div\" style=\"height:525px; width:100%;\"></div>            <script type=\"text/javascript\">                require([\"plotly\"], function(Plotly) {                    window.PLOTLYENV=window.PLOTLYENV || {};                                    if (document.getElementById(\"9c7d7d5f-9d44-4129-a420-840571501088\")) {                    Plotly.newPlot(                        \"9c7d7d5f-9d44-4129-a420-840571501088\",                        [{\"line\":{\"dash\":\"dot\"},\"mode\":\"lines\",\"name\":\"\",\"x\":[0.0,0.10204081632653061,0.20408163265306123,0.30612244897959184,0.40816326530612246,0.5102040816326531,0.6122448979591837,0.7142857142857143,0.8163265306122449,0.9183673469387755,1.0204081632653061,1.1224489795918369,1.2244897959183674,1.3265306122448979,1.4285714285714286],\"y\":[0.0,0.0,0.0,0.0,0.0,0.0,0.0,0.0,0.0,0.0,0.0,0.0,0.0,0.0,0.0],\"type\":\"scatter\"},{\"mode\":\"lines\",\"name\":\"\",\"x\":[1.5306122448979593,1.6326530612244898,1.7346938775510203,1.836734693877551,1.9387755102040818,2.0408163265306123,2.142857142857143,2.2448979591836737,2.3469387755102042,2.4489795918367347,2.5510204081632653,2.6530612244897958,2.7551020408163267,2.857142857142857,2.9591836734693877,3.0612244897959187,3.163265306122449,3.2653061224489797,3.36734693877551,3.4693877551020407,3.5714285714285716,3.673469387755102,3.7755102040816326,3.8775510204081636,3.979591836734694,4.081632653061225,4.183673469387755,4.285714285714286,4.387755102040816,4.4897959183673475,4.591836734693878,4.6938775510204085,4.795918367346939,4.8979591836734695,5.0],\"y\":[0.0,0.0,0.0,0.0,0.0,0.0,0.0,0.0,0.0,0.0,0.0,0.0,0.0,0.0,0.0,0.0,0.0,0.0,0.0,0.0,0.0,0.0,0.0,0.0,0.0,0.0,0.0,0.0,0.0,0.0,0.0,0.0,0.0,0.0,0.0],\"type\":\"scatter\"},{\"line\":{\"dash\":\"dot\"},\"mode\":\"lines\",\"name\":\"\",\"x\":[0.0,0.10204081632653061,0.20408163265306123,0.30612244897959184,0.40816326530612246,0.5102040816326531,0.6122448979591837,0.7142857142857143,0.8163265306122449,0.9183673469387755,1.0204081632653061,1.1224489795918369,1.2244897959183674,1.3265306122448979,1.4285714285714286,1.5306122448979593,1.6326530612244898,1.7346938775510203,1.836734693877551,1.9387755102040818,2.0408163265306123,2.142857142857143,2.2448979591836737,2.3469387755102042,2.4489795918367347,2.5510204081632653,2.6530612244897958,2.7551020408163267,2.857142857142857,2.9591836734693877,3.0612244897959187,3.163265306122449,3.2653061224489797,3.36734693877551,3.4693877551020407,3.5714285714285716,3.673469387755102,3.7755102040816326,3.8775510204081636,3.979591836734694,4.081632653061225,4.183673469387755,4.285714285714286,4.387755102040816,4.4897959183673475,4.591836734693878,4.6938775510204085,4.795918367346939,4.8979591836734695,5.0],\"y\":[-10.0,-9.911092952511563,-9.829536382789279,-9.754803949897976,-9.686395973799527,-9.62383942097955,-9.56668774439472,-9.514520574847563,-9.46694326726592,-9.423586310651498,-9.38410461456122,-9.348176687888191,-9.315503727484304,-9.285808634937599,-9.25883497974218,-9.234345926348976,-9.212123141334198,-9.191965695328356,-9.173688972553194,-9.15712359893411,-9.142114397884932,-9.128519381070205,-9.11620877978643,-9.105064121099268,-9.094977351544417,-9.085850010051068,-9.077592450774606,-9.070123115719781,-9.063367856383723,-9.057259303133934,-9.051736280643265,-9.046743267415495,-9.042229897235412,-9.038150500251936,-9.03446368133821,-9.03113193335724,-9.028121282985182,-9.025400966797871,-9.022943135402427,-9.020722583488173,-9.018716503774925,-9.016904262947289,-9.015267197778057,-9.0137884297591,-9.012452696672376,-9.011246199645377,-9.010156464343059,-9.009172215051592,-9.008283260507309,-9.007480390416674],\"type\":\"scatter\"},{\"line\":{\"dash\":\"dot\"},\"mode\":\"lines\",\"name\":\"\",\"x\":[0.0,0.10204081632653061,0.20408163265306123,0.30612244897959184,0.40816326530612246,0.5102040816326531,0.6122448979591837,0.7142857142857143,0.8163265306122449,0.9183673469387755,1.0204081632653061,1.1224489795918369,1.2244897959183674,1.3265306122448979,1.4285714285714286,1.5306122448979593,1.6326530612244898,1.7346938775510203,1.836734693877551,1.9387755102040818,2.0408163265306123,2.142857142857143,2.2448979591836737,2.3469387755102042,2.4489795918367347,2.5510204081632653,2.6530612244897958,2.7551020408163267,2.857142857142857,2.9591836734693877,3.0612244897959187,3.163265306122449,3.2653061224489797,3.36734693877551,3.4693877551020407,3.5714285714285716,3.673469387755102,3.7755102040816326,3.8775510204081636,3.979591836734694,4.081632653061225,4.183673469387755,4.285714285714286,4.387755102040816,4.4897959183673475,4.591836734693878,4.6938775510204085,4.795918367346939,4.8979591836734695,5.0],\"y\":[1.0,0.911092952511563,0.8295363827892785,0.7548039498979762,0.6863959737995282,0.6238394209795493,0.5666877443947191,0.5145205748475625,0.46694326726592017,0.42358631065149854,0.38410461456122036,0.34817668788819134,0.31550372748430355,0.28580863493759967,0.25883497974218006,0.23434592634897466,0.21212314133419774,0.1919656953283564,0.1736889725531947,0.15712359893410976,0.1421143978849324,0.12851938107020455,0.11620877978642952,0.10506412109926888,0.09497735154441678,0.0858500100510673,0.0775924507746053,0.07012311571978014,0.06336785638372255,0.057259303133934125,0.051736280643265964,0.04674326741549528,0.04222989723541115,0.03815050025193578,0.03446368133820865,0.03113193335723974,0.028121282985181573,0.025400966797871405,0.022943135402426762,0.020722583488173463,0.018716503774926174,0.016904262947289084,0.01526719777805674,0.013788429759098442,0.012452696672375474,0.011246199645376542,0.010156464343057614,0.009172215051592048,0.008283260507307766,0.007480390416674254],\"type\":\"scatter\"}],                        {\"template\":{\"data\":{\"histogram2dcontour\":[{\"type\":\"histogram2dcontour\",\"colorbar\":{\"outlinewidth\":0,\"ticks\":\"\"},\"colorscale\":[[0.0,\"#0d0887\"],[0.1111111111111111,\"#46039f\"],[0.2222222222222222,\"#7201a8\"],[0.3333333333333333,\"#9c179e\"],[0.4444444444444444,\"#bd3786\"],[0.5555555555555556,\"#d8576b\"],[0.6666666666666666,\"#ed7953\"],[0.7777777777777778,\"#fb9f3a\"],[0.8888888888888888,\"#fdca26\"],[1.0,\"#f0f921\"]]}],\"choropleth\":[{\"type\":\"choropleth\",\"colorbar\":{\"outlinewidth\":0,\"ticks\":\"\"}}],\"histogram2d\":[{\"type\":\"histogram2d\",\"colorbar\":{\"outlinewidth\":0,\"ticks\":\"\"},\"colorscale\":[[0.0,\"#0d0887\"],[0.1111111111111111,\"#46039f\"],[0.2222222222222222,\"#7201a8\"],[0.3333333333333333,\"#9c179e\"],[0.4444444444444444,\"#bd3786\"],[0.5555555555555556,\"#d8576b\"],[0.6666666666666666,\"#ed7953\"],[0.7777777777777778,\"#fb9f3a\"],[0.8888888888888888,\"#fdca26\"],[1.0,\"#f0f921\"]]}],\"heatmap\":[{\"type\":\"heatmap\",\"colorbar\":{\"outlinewidth\":0,\"ticks\":\"\"},\"colorscale\":[[0.0,\"#0d0887\"],[0.1111111111111111,\"#46039f\"],[0.2222222222222222,\"#7201a8\"],[0.3333333333333333,\"#9c179e\"],[0.4444444444444444,\"#bd3786\"],[0.5555555555555556,\"#d8576b\"],[0.6666666666666666,\"#ed7953\"],[0.7777777777777778,\"#fb9f3a\"],[0.8888888888888888,\"#fdca26\"],[1.0,\"#f0f921\"]]}],\"heatmapgl\":[{\"type\":\"heatmapgl\",\"colorbar\":{\"outlinewidth\":0,\"ticks\":\"\"},\"colorscale\":[[0.0,\"#0d0887\"],[0.1111111111111111,\"#46039f\"],[0.2222222222222222,\"#7201a8\"],[0.3333333333333333,\"#9c179e\"],[0.4444444444444444,\"#bd3786\"],[0.5555555555555556,\"#d8576b\"],[0.6666666666666666,\"#ed7953\"],[0.7777777777777778,\"#fb9f3a\"],[0.8888888888888888,\"#fdca26\"],[1.0,\"#f0f921\"]]}],\"contourcarpet\":[{\"type\":\"contourcarpet\",\"colorbar\":{\"outlinewidth\":0,\"ticks\":\"\"}}],\"contour\":[{\"type\":\"contour\",\"colorbar\":{\"outlinewidth\":0,\"ticks\":\"\"},\"colorscale\":[[0.0,\"#0d0887\"],[0.1111111111111111,\"#46039f\"],[0.2222222222222222,\"#7201a8\"],[0.3333333333333333,\"#9c179e\"],[0.4444444444444444,\"#bd3786\"],[0.5555555555555556,\"#d8576b\"],[0.6666666666666666,\"#ed7953\"],[0.7777777777777778,\"#fb9f3a\"],[0.8888888888888888,\"#fdca26\"],[1.0,\"#f0f921\"]]}],\"surface\":[{\"type\":\"surface\",\"colorbar\":{\"outlinewidth\":0,\"ticks\":\"\"},\"colorscale\":[[0.0,\"#0d0887\"],[0.1111111111111111,\"#46039f\"],[0.2222222222222222,\"#7201a8\"],[0.3333333333333333,\"#9c179e\"],[0.4444444444444444,\"#bd3786\"],[0.5555555555555556,\"#d8576b\"],[0.6666666666666666,\"#ed7953\"],[0.7777777777777778,\"#fb9f3a\"],[0.8888888888888888,\"#fdca26\"],[1.0,\"#f0f921\"]]}],\"mesh3d\":[{\"type\":\"mesh3d\",\"colorbar\":{\"outlinewidth\":0,\"ticks\":\"\"}}],\"scatter\":[{\"fillpattern\":{\"fillmode\":\"overlay\",\"size\":10,\"solidity\":0.2},\"type\":\"scatter\"}],\"parcoords\":[{\"type\":\"parcoords\",\"line\":{\"colorbar\":{\"outlinewidth\":0,\"ticks\":\"\"}}}],\"scatterpolargl\":[{\"type\":\"scatterpolargl\",\"marker\":{\"colorbar\":{\"outlinewidth\":0,\"ticks\":\"\"}}}],\"bar\":[{\"error_x\":{\"color\":\"#2a3f5f\"},\"error_y\":{\"color\":\"#2a3f5f\"},\"marker\":{\"line\":{\"color\":\"#E5ECF6\",\"width\":0.5},\"pattern\":{\"fillmode\":\"overlay\",\"size\":10,\"solidity\":0.2}},\"type\":\"bar\"}],\"scattergeo\":[{\"type\":\"scattergeo\",\"marker\":{\"colorbar\":{\"outlinewidth\":0,\"ticks\":\"\"}}}],\"scatterpolar\":[{\"type\":\"scatterpolar\",\"marker\":{\"colorbar\":{\"outlinewidth\":0,\"ticks\":\"\"}}}],\"histogram\":[{\"marker\":{\"pattern\":{\"fillmode\":\"overlay\",\"size\":10,\"solidity\":0.2}},\"type\":\"histogram\"}],\"scattergl\":[{\"type\":\"scattergl\",\"marker\":{\"colorbar\":{\"outlinewidth\":0,\"ticks\":\"\"}}}],\"scatter3d\":[{\"type\":\"scatter3d\",\"line\":{\"colorbar\":{\"outlinewidth\":0,\"ticks\":\"\"}},\"marker\":{\"colorbar\":{\"outlinewidth\":0,\"ticks\":\"\"}}}],\"scattermapbox\":[{\"type\":\"scattermapbox\",\"marker\":{\"colorbar\":{\"outlinewidth\":0,\"ticks\":\"\"}}}],\"scatterternary\":[{\"type\":\"scatterternary\",\"marker\":{\"colorbar\":{\"outlinewidth\":0,\"ticks\":\"\"}}}],\"scattercarpet\":[{\"type\":\"scattercarpet\",\"marker\":{\"colorbar\":{\"outlinewidth\":0,\"ticks\":\"\"}}}],\"carpet\":[{\"aaxis\":{\"endlinecolor\":\"#2a3f5f\",\"gridcolor\":\"white\",\"linecolor\":\"white\",\"minorgridcolor\":\"white\",\"startlinecolor\":\"#2a3f5f\"},\"baxis\":{\"endlinecolor\":\"#2a3f5f\",\"gridcolor\":\"white\",\"linecolor\":\"white\",\"minorgridcolor\":\"white\",\"startlinecolor\":\"#2a3f5f\"},\"type\":\"carpet\"}],\"table\":[{\"cells\":{\"fill\":{\"color\":\"#EBF0F8\"},\"line\":{\"color\":\"white\"}},\"header\":{\"fill\":{\"color\":\"#C8D4E3\"},\"line\":{\"color\":\"white\"}},\"type\":\"table\"}],\"barpolar\":[{\"marker\":{\"line\":{\"color\":\"#E5ECF6\",\"width\":0.5},\"pattern\":{\"fillmode\":\"overlay\",\"size\":10,\"solidity\":0.2}},\"type\":\"barpolar\"}],\"pie\":[{\"automargin\":true,\"type\":\"pie\"}]},\"layout\":{\"autotypenumbers\":\"strict\",\"colorway\":[\"#636efa\",\"#EF553B\",\"#00cc96\",\"#ab63fa\",\"#FFA15A\",\"#19d3f3\",\"#FF6692\",\"#B6E880\",\"#FF97FF\",\"#FECB52\"],\"font\":{\"color\":\"#2a3f5f\"},\"hovermode\":\"closest\",\"hoverlabel\":{\"align\":\"left\"},\"paper_bgcolor\":\"white\",\"plot_bgcolor\":\"#E5ECF6\",\"polar\":{\"bgcolor\":\"#E5ECF6\",\"angularaxis\":{\"gridcolor\":\"white\",\"linecolor\":\"white\",\"ticks\":\"\"},\"radialaxis\":{\"gridcolor\":\"white\",\"linecolor\":\"white\",\"ticks\":\"\"}},\"ternary\":{\"bgcolor\":\"#E5ECF6\",\"aaxis\":{\"gridcolor\":\"white\",\"linecolor\":\"white\",\"ticks\":\"\"},\"baxis\":{\"gridcolor\":\"white\",\"linecolor\":\"white\",\"ticks\":\"\"},\"caxis\":{\"gridcolor\":\"white\",\"linecolor\":\"white\",\"ticks\":\"\"}},\"coloraxis\":{\"colorbar\":{\"outlinewidth\":0,\"ticks\":\"\"}},\"colorscale\":{\"sequential\":[[0.0,\"#0d0887\"],[0.1111111111111111,\"#46039f\"],[0.2222222222222222,\"#7201a8\"],[0.3333333333333333,\"#9c179e\"],[0.4444444444444444,\"#bd3786\"],[0.5555555555555556,\"#d8576b\"],[0.6666666666666666,\"#ed7953\"],[0.7777777777777778,\"#fb9f3a\"],[0.8888888888888888,\"#fdca26\"],[1.0,\"#f0f921\"]],\"sequentialminus\":[[0.0,\"#0d0887\"],[0.1111111111111111,\"#46039f\"],[0.2222222222222222,\"#7201a8\"],[0.3333333333333333,\"#9c179e\"],[0.4444444444444444,\"#bd3786\"],[0.5555555555555556,\"#d8576b\"],[0.6666666666666666,\"#ed7953\"],[0.7777777777777778,\"#fb9f3a\"],[0.8888888888888888,\"#fdca26\"],[1.0,\"#f0f921\"]],\"diverging\":[[0,\"#8e0152\"],[0.1,\"#c51b7d\"],[0.2,\"#de77ae\"],[0.3,\"#f1b6da\"],[0.4,\"#fde0ef\"],[0.5,\"#f7f7f7\"],[0.6,\"#e6f5d0\"],[0.7,\"#b8e186\"],[0.8,\"#7fbc41\"],[0.9,\"#4d9221\"],[1,\"#276419\"]]},\"xaxis\":{\"gridcolor\":\"white\",\"linecolor\":\"white\",\"ticks\":\"\",\"title\":{\"standoff\":15},\"zerolinecolor\":\"white\",\"automargin\":true,\"zerolinewidth\":2},\"yaxis\":{\"gridcolor\":\"white\",\"linecolor\":\"white\",\"ticks\":\"\",\"title\":{\"standoff\":15},\"zerolinecolor\":\"white\",\"automargin\":true,\"zerolinewidth\":2},\"scene\":{\"xaxis\":{\"backgroundcolor\":\"#E5ECF6\",\"gridcolor\":\"white\",\"linecolor\":\"white\",\"showbackground\":true,\"ticks\":\"\",\"zerolinecolor\":\"white\",\"gridwidth\":2},\"yaxis\":{\"backgroundcolor\":\"#E5ECF6\",\"gridcolor\":\"white\",\"linecolor\":\"white\",\"showbackground\":true,\"ticks\":\"\",\"zerolinecolor\":\"white\",\"gridwidth\":2},\"zaxis\":{\"backgroundcolor\":\"#E5ECF6\",\"gridcolor\":\"white\",\"linecolor\":\"white\",\"showbackground\":true,\"ticks\":\"\",\"zerolinecolor\":\"white\",\"gridwidth\":2}},\"shapedefaults\":{\"line\":{\"color\":\"#2a3f5f\"}},\"annotationdefaults\":{\"arrowcolor\":\"#2a3f5f\",\"arrowhead\":0,\"arrowwidth\":1},\"geo\":{\"bgcolor\":\"white\",\"landcolor\":\"#E5ECF6\",\"subunitcolor\":\"white\",\"showland\":true,\"showlakes\":true,\"lakecolor\":\"white\"},\"title\":{\"x\":0.05},\"mapbox\":{\"style\":\"light\"}}},\"xaxis\":{\"title\":{\"text\":\"C\"}},\"yaxis\":{\"title\":{\"text\":\"x\"}}},                        {\"responsive\": true}                    ).then(function(){\n",
       "                            \n",
       "var gd = document.getElementById('9c7d7d5f-9d44-4129-a420-840571501088');\n",
       "var x = new MutationObserver(function (mutations, observer) {{\n",
       "        var display = window.getComputedStyle(gd).display;\n",
       "        if (!display || display === 'none') {{\n",
       "            console.log([gd, 'removed!']);\n",
       "            Plotly.purge(gd);\n",
       "            observer.disconnect();\n",
       "        }}\n",
       "}});\n",
       "\n",
       "// Listen for the removal of the full notebook cells\n",
       "var notebookContainer = gd.closest('#notebook-container');\n",
       "if (notebookContainer) {{\n",
       "    x.observe(notebookContainer, {childList: true});\n",
       "}}\n",
       "\n",
       "// Listen for the clearing of the current output cell\n",
       "var outputEl = gd.closest('.output');\n",
       "if (outputEl) {{\n",
       "    x.observe(outputEl, {childList: true});\n",
       "}}\n",
       "\n",
       "                        })                };                });            </script>        </div>"
      ]
     },
     "metadata": {},
     "output_type": "display_data"
    }
   ],
   "source": [
    "s_par = 2\n",
    "b_par = 1.1\n",
    "params = {s:s_par, b:b_par, ro:1}\n",
    "\n",
    "cs = []\n",
    "xs =[]\n",
    "sols_by_c = {}\n",
    "fig = go.Figure()\n",
    "\n",
    "cs = list(np.linspace(0,5,50))\n",
    "df = pd.DataFrame({\"c\":cs})\n",
    "for an_sol in an_sols:\n",
    "    xs = [float(an_sol.subs({C:c} | params)) for c in cs]\n",
    "    # fig.add_trace(go.Scatter(x=cs, y=xs, mode='markers', name = \"\"))\n",
    "    for cont_subsegment in get_attr_rep(cs, xs, cur_params):\n",
    "        fig.add_trace(go.Scatter(x=[c for (c,_,_) in cont_subsegment],\n",
    "                                 y=[x for (_,x,_) in cont_subsegment],\n",
    "                                 mode=\"lines\",\n",
    "                                 name = \"\",\n",
    "                                 line=get_line_mode(cont_subsegment)))\n",
    "        \n",
    "    \n",
    "# for cur_C in np.linspace(0,5,50):\n",
    "#     cur_params = {C:cur_C} | params\n",
    "#     sols_by_c[cur_C] = [sol for sol in solve(dxdt.subs(cur_params), x)\n",
    "#                        if sol>=0]\n",
    "#     for curx in sols_by_c[cur_C]:\n",
    "#         cs.append(float(cur_C))\n",
    "#         xs.append(float(curx))\n",
    "#         k = 2# number of steps\n",
    "#         fig.add_trace(get_arrow_scatter(cur_C, k, curx, cur_params, shift = 0.02))\n",
    "        \n",
    "    \n",
    "# fig.add_trace(go.Scatter(x=cs, y=xs, mode='markers', name = \"\"))\n",
    "# fig.update_layout(title=f\"Fig 2b s={s_par}, b={b_par}\")\n",
    "fig.update_layout(xaxis={\"title\": \"C\"}, yaxis={\"title\": \"x\"})"
   ]
  },
  {
   "cell_type": "code",
   "execution_count": 72,
   "id": "f21674fa-7958-4c3b-bab5-1219f3cebe58",
   "metadata": {
    "tags": []
   },
   "outputs": [
    {
     "data": {
      "application/vnd.plotly.v1+json": {
       "config": {
        "plotlyServerURL": "https://plot.ly"
       },
       "data": [
        {
         "marker": {
          "angleref": "previous",
          "color": "green",
          "size": 10,
          "symbol": "arrow"
         },
         "mode": "lines+markers",
         "name": "",
         "type": "scatter",
         "x": [
          0,
          0
         ],
         "y": [
          0.02,
          0.039599999999999996
         ]
        },
        {
         "marker": {
          "angleref": "previous",
          "color": "green",
          "size": 10,
          "symbol": "arrow"
         },
         "mode": "lines+markers",
         "name": "",
         "type": "scatter",
         "x": [
          0,
          0
         ],
         "y": [
          1.02,
          0.9996
         ]
        },
        {
         "marker": {
          "angleref": "previous",
          "color": "green",
          "size": 10,
          "symbol": "arrow"
         },
         "mode": "lines+markers",
         "name": "",
         "type": "scatter",
         "x": [
          0.10204081632653061,
          0.10204081632653061
         ],
         "y": [
          0.02,
          0.0373613698632007
         ]
        },
        {
         "marker": {
          "angleref": "previous",
          "color": "green",
          "size": 10,
          "symbol": "arrow"
         },
         "mode": "lines+markers",
         "name": "",
         "type": "scatter",
         "x": [
          0.10204081632653061,
          0.10204081632653061
         ],
         "y": [
          0.9801377446969131,
          0.9610629204114777
         ]
        },
        {
         "marker": {
          "angleref": "previous",
          "color": "green",
          "size": 10,
          "symbol": "arrow"
         },
         "mode": "lines+markers",
         "name": "",
         "type": "scatter",
         "x": [
          0.20408163265306123,
          0.20408163265306123
         ],
         "y": [
          0.02,
          0.03533990320494145
         ]
        },
        {
         "marker": {
          "angleref": "previous",
          "color": "green",
          "size": 10,
          "symbol": "arrow"
         },
         "mode": "lines+markers",
         "name": "",
         "type": "scatter",
         "x": [
          0.20408163265306123,
          0.20408163265306123
         ],
         "y": [
          0.9421141892033511,
          0.9242895408886314
         ]
        },
        {
         "marker": {
          "angleref": "previous",
          "color": "green",
          "size": 10,
          "symbol": "arrow"
         },
         "mode": "lines+markers",
         "name": "",
         "type": "scatter",
         "x": [
          0.30612244897959184,
          0.30612244897959184
         ],
         "y": [
          0.02,
          0.03351453358122315
         ]
        },
        {
         "marker": {
          "angleref": "previous",
          "color": "green",
          "size": 10,
          "symbol": "arrow"
         },
         "mode": "lines+markers",
         "name": "",
         "type": "scatter",
         "x": [
          0.30612244897959184,
          0.30612244897959184
         ],
         "y": [
          0.9058284934727304,
          0.8891832240390728
         ]
        },
        {
         "marker": {
          "angleref": "previous",
          "color": "green",
          "size": 10,
          "symbol": "arrow"
         },
         "mode": "lines+markers",
         "name": "",
         "type": "scatter",
         "x": [
          0.40816326530612246,
          0.40816326530612246
         ],
         "y": [
          0.02,
          0.03186623814702452
         ]
        },
        {
         "marker": {
          "angleref": "previous",
          "color": "green",
          "size": 10,
          "symbol": "arrow"
         },
         "mode": "lines+markers",
         "name": "",
         "type": "scatter",
         "x": [
          0.40816326530612246,
          0.40816326530612246
         ],
         "y": [
          0.8711839916553313,
          0.8556513217080011
         ]
        },
        {
         "marker": {
          "angleref": "previous",
          "color": "green",
          "size": 10,
          "symbol": "arrow"
         },
         "mode": "lines+markers",
         "name": "",
         "type": "scatter",
         "x": [
          0.5102040816326531,
          0.5102040816326531
         ],
         "y": [
          0.02,
          0.030377839412270874
         ]
        },
        {
         "marker": {
          "angleref": "previous",
          "color": "green",
          "size": 10,
          "symbol": "arrow"
         },
         "mode": "lines+markers",
         "name": "",
         "type": "scatter",
         "x": [
          0.5102040816326531,
          0.5102040816326531
         ],
         "y": [
          0.8380878670760734,
          0.8236048592132483
         ]
        },
        {
         "marker": {
          "angleref": "previous",
          "color": "green",
          "size": 10,
          "symbol": "arrow"
         },
         "mode": "lines+markers",
         "name": "",
         "type": "scatter",
         "x": [
          0.6122448979591837,
          0.6122448979591837
         ],
         "y": [
          0.02,
          0.029033826228922276
         ]
        },
        {
         "marker": {
          "angleref": "previous",
          "color": "green",
          "size": 10,
          "symbol": "arrow"
         },
         "mode": "lines+markers",
         "name": "",
         "type": "scatter",
         "x": [
          0.6122448979591837,
          0.6122448979591837
         ],
         "y": [
          0.8064508196955048,
          0.7929582119425569
         ]
        },
        {
         "marker": {
          "angleref": "previous",
          "color": "green",
          "size": 10,
          "symbol": "arrow"
         },
         "mode": "lines+markers",
         "name": "",
         "type": "scatter",
         "x": [
          0.7142857142857143,
          0.7142857142857143
         ],
         "y": [
          0.02,
          0.027820192143621997
         ]
        },
        {
         "marker": {
          "angleref": "previous",
          "color": "green",
          "size": 10,
          "symbol": "arrow"
         },
         "mode": "lines+markers",
         "name": "",
         "type": "scatter",
         "x": [
          0.7142857142857143,
          0.7142857142857143
         ],
         "y": [
          0.7761867202270047,
          0.7636287686029205
         ]
        },
        {
         "marker": {
          "angleref": "previous",
          "color": "green",
          "size": 10,
          "symbol": "arrow"
         },
         "mode": "lines+markers",
         "name": "",
         "type": "scatter",
         "x": [
          0.8163265306122449,
          0.8163265306122449
         ],
         "y": [
          0.02,
          0.026724289431319055
         ]
        },
        {
         "marker": {
          "angleref": "previous",
          "color": "green",
          "size": 10,
          "symbol": "arrow"
         },
         "mode": "lines+markers",
         "name": "",
         "type": "scatter",
         "x": [
          0.8163265306122449,
          0.8163265306122449
         ],
         "y": [
          0.7472122433616886,
          0.7355365737138564
         ]
        },
        {
         "marker": {
          "angleref": "previous",
          "color": "green",
          "size": 10,
          "symbol": "arrow"
         },
         "mode": "lines+markers",
         "name": "",
         "type": "scatter",
         "x": [
          0.9183673469387755,
          0.9183673469387755
         ],
         "y": [
          0.02,
          0.025734697288695776
         ]
        },
        {
         "marker": {
          "angleref": "previous",
          "color": "green",
          "size": 10,
          "symbol": "arrow"
         },
         "mode": "lines+markers",
         "name": "",
         "type": "scatter",
         "x": [
          0.9183673469387755,
          0.9183673469387755
         ],
         "y": [
          0.7194464701230726,
          0.7086039395409082
         ]
        },
        {
         "marker": {
          "angleref": "previous",
          "color": "green",
          "size": 10,
          "symbol": "arrow"
         },
         "mode": "lines+markers",
         "name": "",
         "type": "scatter",
         "x": [
          1.0204081632653061,
          1.0204081632653061
         ],
         "y": [
          0.02,
          0.02484110281379587
         ]
        },
        {
         "marker": {
          "angleref": "previous",
          "color": "green",
          "size": 10,
          "symbol": "arrow"
         },
         "mode": "lines+markers",
         "name": "",
         "type": "scatter",
         "x": [
          1.0204081632653061,
          1.0204081632653061
         ],
         "y": [
          0.6928104458959032,
          0.6827550142372938
         ]
        },
        {
         "marker": {
          "angleref": "previous",
          "color": "green",
          "size": 10,
          "symbol": "arrow"
         },
         "mode": "lines+markers",
         "name": "",
         "type": "scatter",
         "x": [
          1.1224489795918369,
          1.1224489795918369
         ],
         "y": [
          0.02,
          0.024034193531498122
         ]
        },
        {
         "marker": {
          "angleref": "previous",
          "color": "green",
          "size": 10,
          "symbol": "arrow"
         },
         "mode": "lines+markers",
         "name": "",
         "type": "scatter",
         "x": [
          1.1224489795918369,
          1.1224489795918369
         ],
         "y": [
          0.6672266756134978,
          0.6579152879741461
         ]
        },
        {
         "marker": {
          "angleref": "previous",
          "color": "green",
          "size": 10,
          "symbol": "arrow"
         },
         "mode": "lines+markers",
         "name": "",
         "type": "scatter",
         "x": [
          1.2244897959183674,
          1.2244897959183674
         ],
         "y": [
          0.02,
          0.02330556034480435
         ]
        },
        {
         "marker": {
          "angleref": "previous",
          "color": "green",
          "size": 10,
          "symbol": "arrow"
         },
         "mode": "lines+markers",
         "name": "",
         "type": "scatter",
         "x": [
          1.2244897959183674,
          1.2244897959183674
         ],
         "y": [
          0.6426185300879614,
          0.6340110114484515
         ]
        },
        {
         "marker": {
          "angleref": "previous",
          "color": "green",
          "size": 10,
          "symbol": "arrow"
         },
         "mode": "lines+markers",
         "name": "",
         "type": "scatter",
         "x": [
          1.3265306122448979,
          1.3265306122448979
         ],
         "y": [
          0.02,
          0.022647609900561458
         ]
        },
        {
         "marker": {
          "angleref": "previous",
          "color": "green",
          "size": 10,
          "symbol": "arrow"
         },
         "mode": "lines+markers",
         "name": "",
         "type": "scatter",
         "x": [
          1.3265306122448979,
          1.3265306122448979
         ],
         "y": [
          0.6189095261161524,
          0.6109684899718568
         ]
        },
        {
         "marker": {
          "angleref": "previous",
          "color": "green",
          "size": 10,
          "symbol": "arrow"
         },
         "mode": "lines+markers",
         "name": "",
         "type": "scatter",
         "x": [
          1.4285714285714286,
          1.4285714285714286
         ],
         "y": [
          0.02,
          0.022053485456348672
         ]
        },
        {
         "marker": {
          "angleref": "previous",
          "color": "green",
          "size": 10,
          "symbol": "arrow"
         },
         "mode": "lines+markers",
         "name": "",
         "type": "scatter",
         "x": [
          1.4285714285714286,
          1.4285714285714286
         ],
         "y": [
          0.5960224254020964,
          0.5887131990090624
         ]
        },
        {
         "marker": {
          "angleref": "previous",
          "color": "green",
          "size": 10,
          "symbol": "arrow"
         },
         "mode": "lines+markers",
         "name": "",
         "type": "scatter",
         "x": [
          1.5306122448979593,
          1.5306122448979593
         ],
         "y": [
          0.02,
          0.021516995423854924
         ]
        },
        {
         "marker": {
          "angleref": "previous",
          "color": "green",
          "size": 10,
          "symbol": "arrow"
         },
         "mode": "lines+markers",
         "name": "",
         "type": "scatter",
         "x": [
          1.5306122448979593,
          1.5306122448979593
         ],
         "y": [
          0.5738780693308222,
          0.5671686394401418
         ]
        },
        {
         "marker": {
          "angleref": "previous",
          "color": "green",
          "size": 10,
          "symbol": "arrow"
         },
         "mode": "lines+markers",
         "name": "",
         "type": "scatter",
         "x": [
          1.6326530612244898,
          1.6326530612244898
         ],
         "y": [
          0.02,
          0.021032548844070603
         ]
        },
        {
         "marker": {
          "angleref": "previous",
          "color": "green",
          "size": 10,
          "symbol": "arrow"
         },
         "mode": "lines+markers",
         "name": "",
         "type": "scatter",
         "x": [
          1.6326530612244898,
          1.6326530612244898
         ],
         "y": [
          0.5523938206580237,
          0.5462548055266313
         ]
        },
        {
         "marker": {
          "angleref": "previous",
          "color": "green",
          "size": 10,
          "symbol": "arrow"
         },
         "mode": "lines+markers",
         "name": "",
         "type": "scatter",
         "x": [
          1.7346938775510203,
          1.7346938775510203
         ],
         "y": [
          0.02,
          0.02059509712185718
         ]
        },
        {
         "marker": {
          "angleref": "previous",
          "color": "green",
          "size": 10,
          "symbol": "arrow"
         },
         "mode": "lines+markers",
         "name": "",
         "type": "scatter",
         "x": [
          1.7346938775510203,
          1.7346938775510203
         ],
         "y": [
          0.5314814050143652,
          0.5258860615454135
         ]
        },
        {
         "marker": {
          "angleref": "previous",
          "color": "green",
          "size": 10,
          "symbol": "arrow"
         },
         "mode": "lines+markers",
         "name": "",
         "type": "scatter",
         "x": [
          1.836734693877551,
          1.836734693877551
         ],
         "y": [
          0.02,
          0.02020008141268923
         ]
        },
        {
         "marker": {
          "angleref": "previous",
          "color": "green",
          "size": 10,
          "symbol": "arrow"
         },
         "mode": "lines+markers",
         "name": "",
         "type": "scatter",
         "x": [
          1.836734693877551,
          1.836734693877551
         ],
         "y": [
          0.028956193338389218,
          0.029462106623427634
         ]
        },
        {
         "marker": {
          "angleref": "previous",
          "color": "green",
          "size": 10,
          "symbol": "arrow"
         },
         "mode": "lines+markers",
         "name": "",
         "type": "scatter",
         "x": [
          1.836734693877551,
          1.836734693877551
         ],
         "y": [
          0.5110438066616108,
          0.5059680866285179
         ]
        },
        {
         "marker": {
          "angleref": "previous",
          "color": "green",
          "size": 10,
          "symbol": "arrow"
         },
         "mode": "lines+markers",
         "name": "",
         "type": "scatter",
         "x": [
          1.9387755102040818,
          1.9387755102040818
         ],
         "y": [
          0.02,
          0.01984338511326689
         ]
        },
        {
         "marker": {
          "angleref": "previous",
          "color": "green",
          "size": 10,
          "symbol": "arrow"
         },
         "mode": "lines+markers",
         "name": "",
         "type": "scatter",
         "x": [
          1.9387755102040818,
          1.9387755102040818
         ],
         "y": [
          0.0490293844310063,
          0.04978298776865622
         ]
        },
        {
         "marker": {
          "angleref": "previous",
          "color": "green",
          "size": 10,
          "symbol": "arrow"
         },
         "mode": "lines+markers",
         "name": "",
         "type": "scatter",
         "x": [
          1.9387755102040818,
          1.9387755102040818
         ],
         "y": [
          0.49097061556899374,
          0.4863932937585319
         ]
        },
        {
         "marker": {
          "angleref": "previous",
          "color": "green",
          "size": 10,
          "symbol": "arrow"
         },
         "mode": "lines+markers",
         "name": "",
         "type": "scatter",
         "x": [
          2.0408163265306123,
          2.0408163265306123
         ],
         "y": [
          0.02,
          0.01952129096088599
         ]
        },
        {
         "marker": {
          "angleref": "previous",
          "color": "green",
          "size": 10,
          "symbol": "arrow"
         },
         "mode": "lines+markers",
         "name": "",
         "type": "scatter",
         "x": [
          2.0408163265306123,
          2.0408163265306123
         ],
         "y": [
          0.06886928383999873,
          0.06979484167310324
         ]
        },
        {
         "marker": {
          "angleref": "previous",
          "color": "green",
          "size": 10,
          "symbol": "arrow"
         },
         "mode": "lines+markers",
         "name": "",
         "type": "scatter",
         "x": [
          2.0408163265306123,
          2.0408163265306123
         ],
         "y": [
          0.4711307161600013,
          0.46703362958442074
         ]
        },
        {
         "marker": {
          "angleref": "previous",
          "color": "green",
          "size": 10,
          "symbol": "arrow"
         },
         "mode": "lines+markers",
         "name": "",
         "type": "scatter",
         "x": [
          2.142857142857143,
          2.142857142857143
         ],
         "y": [
          0.02,
          0.019230442294482713
         ]
        },
        {
         "marker": {
          "angleref": "previous",
          "color": "green",
          "size": 10,
          "symbol": "arrow"
         },
         "mode": "lines+markers",
         "name": "",
         "type": "scatter",
         "x": [
          2.142857142857143,
          2.142857142857143
         ],
         "y": [
          0.08863986199677175,
          0.08967202716022704
         ]
        },
        {
         "marker": {
          "angleref": "previous",
          "color": "green",
          "size": 10,
          "symbol": "arrow"
         },
         "mode": "lines+markers",
         "name": "",
         "type": "scatter",
         "x": [
          2.142857142857143,
          2.142857142857143
         ],
         "y": [
          0.4513601380032283,
          0.4477286073200642
         ]
        },
        {
         "marker": {
          "angleref": "previous",
          "color": "green",
          "size": 10,
          "symbol": "arrow"
         },
         "mode": "lines+markers",
         "name": "",
         "type": "scatter",
         "x": [
          2.2448979591836737,
          2.2448979591836737
         ],
         "y": [
          0.02,
          0.018967808073639958
         ]
        },
        {
         "marker": {
          "angleref": "previous",
          "color": "green",
          "size": 10,
          "symbol": "arrow"
         },
         "mode": "lines+markers",
         "name": "",
         "type": "scatter",
         "x": [
          2.2448979591836737,
          2.2448979591836737
         ],
         "y": [
          0.10855957781695441,
          0.10964018250355453
         ]
        },
        {
         "marker": {
          "angleref": "previous",
          "color": "green",
          "size": 10,
          "symbol": "arrow"
         },
         "mode": "lines+markers",
         "name": "",
         "type": "scatter",
         "x": [
          2.2448979591836737,
          2.2448979591836737
         ],
         "y": [
          0.4314404221830456,
          0.42826399451835195
         ]
        },
        {
         "marker": {
          "angleref": "previous",
          "color": "green",
          "size": 10,
          "symbol": "arrow"
         },
         "mode": "lines+markers",
         "name": "",
         "type": "scatter",
         "x": [
          2.3469387755102042,
          2.3469387755102042
         ],
         "y": [
          0.02,
          0.01873065129100565
         ]
        },
        {
         "marker": {
          "angleref": "previous",
          "color": "green",
          "size": 10,
          "symbol": "arrow"
         },
         "mode": "lines+markers",
         "name": "",
         "type": "scatter",
         "x": [
          2.3469387755102042,
          2.3469387755102042
         ],
         "y": [
          0.1289435093086993,
          0.13001825663193664
         ]
        },
        {
         "marker": {
          "angleref": "previous",
          "color": "green",
          "size": 10,
          "symbol": "arrow"
         },
         "mode": "lines+markers",
         "name": "",
         "type": "scatter",
         "x": [
          2.3469387755102042,
          2.3469387755102042
         ],
         "y": [
          0.41105649069130074,
          0.4083303040456154
         ]
        },
        {
         "marker": {
          "angleref": "previous",
          "color": "green",
          "size": 10,
          "symbol": "arrow"
         },
         "mode": "lines+markers",
         "name": "",
         "type": "scatter",
         "x": [
          2.4489795918367347,
          2.4489795918367347
         ],
         "y": [
          0.02,
          0.018516500448937247
         ]
        },
        {
         "marker": {
          "angleref": "previous",
          "color": "green",
          "size": 10,
          "symbol": "arrow"
         },
         "mode": "lines+markers",
         "name": "",
         "type": "scatter",
         "x": [
          2.4489795918367347,
          2.4489795918367347
         ],
         "y": [
          0.15029615013555328,
          0.15131033828882665
         ]
        },
        {
         "marker": {
          "angleref": "previous",
          "color": "green",
          "size": 10,
          "symbol": "arrow"
         },
         "mode": "lines+markers",
         "name": "",
         "type": "scatter",
         "x": [
          2.4489795918367347,
          2.4489795918367347
         ],
         "y": [
          0.3897038498644467,
          0.38743135932089645
         ]
        },
        {
         "marker": {
          "angleref": "previous",
          "color": "green",
          "size": 10,
          "symbol": "arrow"
         },
         "mode": "lines+markers",
         "name": "",
         "type": "scatter",
         "x": [
          2.5510204081632653,
          2.5510204081632653
         ],
         "y": [
          0.02,
          0.018323123803120102
         ]
        },
        {
         "marker": {
          "angleref": "previous",
          "color": "green",
          "size": 10,
          "symbol": "arrow"
         },
         "mode": "lines+markers",
         "name": "",
         "type": "scatter",
         "x": [
          2.5510204081632653,
          2.5510204081632653
         ],
         "y": [
          0.17355717299288143,
          0.17444813062988168
         ]
        },
        {
         "marker": {
          "angleref": "previous",
          "color": "green",
          "size": 10,
          "symbol": "arrow"
         },
         "mode": "lines+markers",
         "name": "",
         "type": "scatter",
         "x": [
          2.5510204081632653,
          2.5510204081632653
         ],
         "y": [
          0.3664428270071186,
          0.36464212144514296
         ]
        },
        {
         "marker": {
          "angleref": "previous",
          "color": "green",
          "size": 10,
          "symbol": "arrow"
         },
         "mode": "lines+markers",
         "name": "",
         "type": "scatter",
         "x": [
          2.6530612244897958,
          2.6530612244897958
         ],
         "y": [
          0.02,
          0.018148506104743063
         ]
        },
        {
         "marker": {
          "angleref": "previous",
          "color": "green",
          "size": 10,
          "symbol": "arrow"
         },
         "mode": "lines+markers",
         "name": "",
         "type": "scatter",
         "x": [
          2.6530612244897958,
          2.6530612244897958
         ],
         "y": [
          0.20099884984060049,
          0.20167555071244966
         ]
        },
        {
         "marker": {
          "angleref": "previous",
          "color": "green",
          "size": 10,
          "symbol": "arrow"
         },
         "mode": "lines+markers",
         "name": "",
         "type": "scatter",
         "x": [
          2.6530612244897958,
          2.6530612244897958
         ],
         "y": [
          0.3390011501593995,
          0.3377243232676668
         ]
        },
        {
         "marker": {
          "angleref": "previous",
          "color": "green",
          "size": 10,
          "symbol": "arrow"
         },
         "mode": "lines+markers",
         "name": "",
         "type": "scatter",
         "x": [
          2.7551020408163267,
          2.7551020408163267
         ],
         "y": [
          0.02,
          0.017990827598852926
         ]
        },
        {
         "marker": {
          "angleref": "previous",
          "color": "green",
          "size": 10,
          "symbol": "arrow"
         },
         "mode": "lines+markers",
         "name": "",
         "type": "scatter",
         "x": [
          2.7551020408163267,
          2.7551020408163267
         ],
         "y": [
          0.24428001613190628,
          0.24448639426001215
         ]
        },
        {
         "marker": {
          "angleref": "previous",
          "color": "green",
          "size": 10,
          "symbol": "arrow"
         },
         "mode": "lines+markers",
         "name": "",
         "type": "scatter",
         "x": [
          2.7551020408163267,
          2.7551020408163267
         ],
         "y": [
          0.2957199838680937,
          0.2951889873734784
         ]
        },
        {
         "marker": {
          "angleref": "previous",
          "color": "green",
          "size": 10,
          "symbol": "arrow"
         },
         "mode": "lines+markers",
         "name": "",
         "type": "scatter",
         "x": [
          2.857142857142857,
          2.857142857142857
         ],
         "y": [
          0.02,
          0.01784844506002194
         ]
        },
        {
         "marker": {
          "angleref": "previous",
          "color": "green",
          "size": 10,
          "symbol": "arrow"
         },
         "mode": "lines+markers",
         "name": "",
         "type": "scatter",
         "x": [
          2.9591836734693877,
          2.9591836734693877
         ],
         "y": [
          0.02,
          0.017719874667694133
         ]
        },
        {
         "marker": {
          "angleref": "previous",
          "color": "green",
          "size": 10,
          "symbol": "arrow"
         },
         "mode": "lines+markers",
         "name": "",
         "type": "scatter",
         "x": [
          3.0612244897959187,
          3.0612244897959187
         ],
         "y": [
          0.02,
          0.017603776542748147
         ]
        },
        {
         "marker": {
          "angleref": "previous",
          "color": "green",
          "size": 10,
          "symbol": "arrow"
         },
         "mode": "lines+markers",
         "name": "",
         "type": "scatter",
         "x": [
          3.163265306122449,
          3.163265306122449
         ],
         "y": [
          0.02,
          0.01749894078412646
         ]
        },
        {
         "marker": {
          "angleref": "previous",
          "color": "green",
          "size": 10,
          "symbol": "arrow"
         },
         "mode": "lines+markers",
         "name": "",
         "type": "scatter",
         "x": [
          3.2653061224489797,
          3.2653061224489797
         ],
         "y": [
          0.02,
          0.017404274860013575
         ]
        },
        {
         "marker": {
          "angleref": "previous",
          "color": "green",
          "size": 10,
          "symbol": "arrow"
         },
         "mode": "lines+markers",
         "name": "",
         "type": "scatter",
         "x": [
          3.36734693877551,
          3.36734693877551
         ],
         "y": [
          0.02,
          0.017318792222162066
         ]
        },
        {
         "marker": {
          "angleref": "previous",
          "color": "green",
          "size": 10,
          "symbol": "arrow"
         },
         "mode": "lines+markers",
         "name": "",
         "type": "scatter",
         "x": [
          3.4693877551020407,
          3.4693877551020407
         ],
         "y": [
          0.02,
          0.017241602024712147
         ]
        },
        {
         "marker": {
          "angleref": "previous",
          "color": "green",
          "size": 10,
          "symbol": "arrow"
         },
         "mode": "lines+markers",
         "name": "",
         "type": "scatter",
         "x": [
          3.5714285714285716,
          3.5714285714285716
         ],
         "y": [
          0.02,
          0.017171899840360893
         ]
        },
        {
         "marker": {
          "angleref": "previous",
          "color": "green",
          "size": 10,
          "symbol": "arrow"
         },
         "mode": "lines+markers",
         "name": "",
         "type": "scatter",
         "x": [
          3.673469387755102,
          3.673469387755102
         ],
         "y": [
          0.02,
          0.01710895927713085
         ]
        },
        {
         "marker": {
          "angleref": "previous",
          "color": "green",
          "size": 10,
          "symbol": "arrow"
         },
         "mode": "lines+markers",
         "name": "",
         "type": "scatter",
         "x": [
          3.7755102040816326,
          3.7755102040816326
         ],
         "y": [
          0.02,
          0.017052124408373344
         ]
        },
        {
         "marker": {
          "angleref": "previous",
          "color": "green",
          "size": 10,
          "symbol": "arrow"
         },
         "mode": "lines+markers",
         "name": "",
         "type": "scatter",
         "x": [
          3.8775510204081636,
          3.8775510204081636
         ],
         "y": [
          0.02,
          0.01700080293711677
         ]
        },
        {
         "marker": {
          "angleref": "previous",
          "color": "green",
          "size": 10,
          "symbol": "arrow"
         },
         "mode": "lines+markers",
         "name": "",
         "type": "scatter",
         "x": [
          3.979591836734694,
          3.979591836734694
         ],
         "y": [
          0.02,
          0.016954460023523056
         ]
        },
        {
         "marker": {
          "angleref": "previous",
          "color": "green",
          "size": 10,
          "symbol": "arrow"
         },
         "mode": "lines+markers",
         "name": "",
         "type": "scatter",
         "x": [
          4.081632653061225,
          4.081632653061225
         ],
         "y": [
          0.02,
          0.016912612711125923
         ]
        },
        {
         "marker": {
          "angleref": "previous",
          "color": "green",
          "size": 10,
          "symbol": "arrow"
         },
         "mode": "lines+markers",
         "name": "",
         "type": "scatter",
         "x": [
          4.183673469387755,
          4.183673469387755
         ],
         "y": [
          0.02,
          0.01687482489376476
         ]
        },
        {
         "marker": {
          "angleref": "previous",
          "color": "green",
          "size": 10,
          "symbol": "arrow"
         },
         "mode": "lines+markers",
         "name": "",
         "type": "scatter",
         "x": [
          4.285714285714286,
          4.285714285714286
         ],
         "y": [
          0.02,
          0.016840702770762703
         ]
        },
        {
         "marker": {
          "angleref": "previous",
          "color": "green",
          "size": 10,
          "symbol": "arrow"
         },
         "mode": "lines+markers",
         "name": "",
         "type": "scatter",
         "x": [
          4.387755102040816,
          4.387755102040816
         ],
         "y": [
          0.02,
          0.01680989074298562
         ]
        },
        {
         "marker": {
          "angleref": "previous",
          "color": "green",
          "size": 10,
          "symbol": "arrow"
         },
         "mode": "lines+markers",
         "name": "",
         "type": "scatter",
         "x": [
          4.4897959183673475,
          4.4897959183673475
         ],
         "y": [
          0.02,
          0.016782067707013366
         ]
        },
        {
         "marker": {
          "angleref": "previous",
          "color": "green",
          "size": 10,
          "symbol": "arrow"
         },
         "mode": "lines+markers",
         "name": "",
         "type": "scatter",
         "x": [
          4.591836734693878,
          4.591836734693878
         ],
         "y": [
          0.02,
          0.01675694370880352
         ]
        },
        {
         "marker": {
          "angleref": "previous",
          "color": "green",
          "size": 10,
          "symbol": "arrow"
         },
         "mode": "lines+markers",
         "name": "",
         "type": "scatter",
         "x": [
          4.6938775510204085,
          4.6938775510204085
         ],
         "y": [
          0.02,
          0.016734256921974146
         ]
        },
        {
         "marker": {
          "angleref": "previous",
          "color": "green",
          "size": 10,
          "symbol": "arrow"
         },
         "mode": "lines+markers",
         "name": "",
         "type": "scatter",
         "x": [
          4.795918367346939,
          4.795918367346939
         ],
         "y": [
          0.02,
          0.016713770919215255
         ]
        },
        {
         "marker": {
          "angleref": "previous",
          "color": "green",
          "size": 10,
          "symbol": "arrow"
         },
         "mode": "lines+markers",
         "name": "",
         "type": "scatter",
         "x": [
          4.8979591836734695,
          4.8979591836734695
         ],
         "y": [
          0.02,
          0.016695272208393237
         ]
        },
        {
         "marker": {
          "angleref": "previous",
          "color": "green",
          "size": 10,
          "symbol": "arrow"
         },
         "mode": "lines+markers",
         "name": "",
         "type": "scatter",
         "x": [
          5,
          5
         ],
         "y": [
          0.02,
          0.016678568007671205
         ]
        },
        {
         "mode": "markers",
         "name": "",
         "type": "scatter",
         "x": [
          0,
          0,
          0.10204081632653061,
          0.10204081632653061,
          0.20408163265306123,
          0.20408163265306123,
          0.30612244897959184,
          0.30612244897959184,
          0.40816326530612246,
          0.40816326530612246,
          0.5102040816326531,
          0.5102040816326531,
          0.6122448979591837,
          0.6122448979591837,
          0.7142857142857143,
          0.7142857142857143,
          0.8163265306122449,
          0.8163265306122449,
          0.9183673469387755,
          0.9183673469387755,
          1.0204081632653061,
          1.0204081632653061,
          1.1224489795918369,
          1.1224489795918369,
          1.2244897959183674,
          1.2244897959183674,
          1.3265306122448979,
          1.3265306122448979,
          1.4285714285714286,
          1.4285714285714286,
          1.5306122448979593,
          1.5306122448979593,
          1.6326530612244898,
          1.6326530612244898,
          1.7346938775510203,
          1.7346938775510203,
          1.836734693877551,
          1.836734693877551,
          1.836734693877551,
          1.9387755102040818,
          1.9387755102040818,
          1.9387755102040818,
          2.0408163265306123,
          2.0408163265306123,
          2.0408163265306123,
          2.142857142857143,
          2.142857142857143,
          2.142857142857143,
          2.2448979591836737,
          2.2448979591836737,
          2.2448979591836737,
          2.3469387755102042,
          2.3469387755102042,
          2.3469387755102042,
          2.4489795918367347,
          2.4489795918367347,
          2.4489795918367347,
          2.5510204081632653,
          2.5510204081632653,
          2.5510204081632653,
          2.6530612244897958,
          2.6530612244897958,
          2.6530612244897958,
          2.7551020408163267,
          2.7551020408163267,
          2.7551020408163267,
          2.857142857142857,
          2.9591836734693877,
          3.0612244897959187,
          3.163265306122449,
          3.2653061224489797,
          3.36734693877551,
          3.4693877551020407,
          3.5714285714285716,
          3.673469387755102,
          3.7755102040816326,
          3.8775510204081636,
          3.979591836734694,
          4.081632653061225,
          4.183673469387755,
          4.285714285714286,
          4.387755102040816,
          4.4897959183673475,
          4.591836734693878,
          4.6938775510204085,
          4.795918367346939,
          4.8979591836734695,
          5
         ],
         "y": [
          0,
          1,
          0,
          0.960137744696913,
          0,
          0.9221141892033511,
          0,
          0.8858284934727304,
          0,
          0.8511839916553313,
          0,
          0.8180878670760734,
          0,
          0.7864508196955048,
          0,
          0.7561867202270047,
          0,
          0.7272122433616885,
          0,
          0.6994464701230726,
          0,
          0.6728104458959032,
          0,
          0.6472266756134978,
          0,
          0.6226185300879614,
          0,
          0.5989095261161523,
          0,
          0.5760224254020964,
          0,
          0.5538780693308222,
          0,
          0.5323938206580237,
          0,
          0.5114814050143652,
          0,
          0.008956193338389215,
          0.4910438066616108,
          0,
          0.029029384431006302,
          0.4709706155689937,
          0,
          0.04886928383999872,
          0.4511307161600013,
          0,
          0.06863986199677174,
          0.43136013800322826,
          0,
          0.08855957781695441,
          0.4114404221830456,
          0,
          0.10894350930869931,
          0.3910564906913007,
          0,
          0.1302961501355533,
          0.3697038498644467,
          0,
          0.15355717299288144,
          0.3464428270071186,
          0,
          0.1809988498406005,
          0.3190011501593995,
          0,
          0.2242800161319063,
          0.2757199838680937,
          0,
          0,
          0,
          0,
          0,
          0,
          0,
          0,
          0,
          0,
          0,
          0,
          0,
          0,
          0,
          0,
          0,
          0,
          0,
          0,
          0,
          0
         ]
        }
       ],
       "layout": {
        "autosize": true,
        "template": {
         "data": {
          "bar": [
           {
            "error_x": {
             "color": "#2a3f5f"
            },
            "error_y": {
             "color": "#2a3f5f"
            },
            "marker": {
             "line": {
              "color": "#E5ECF6",
              "width": 0.5
             },
             "pattern": {
              "fillmode": "overlay",
              "size": 10,
              "solidity": 0.2
             }
            },
            "type": "bar"
           }
          ],
          "barpolar": [
           {
            "marker": {
             "line": {
              "color": "#E5ECF6",
              "width": 0.5
             },
             "pattern": {
              "fillmode": "overlay",
              "size": 10,
              "solidity": 0.2
             }
            },
            "type": "barpolar"
           }
          ],
          "carpet": [
           {
            "aaxis": {
             "endlinecolor": "#2a3f5f",
             "gridcolor": "white",
             "linecolor": "white",
             "minorgridcolor": "white",
             "startlinecolor": "#2a3f5f"
            },
            "baxis": {
             "endlinecolor": "#2a3f5f",
             "gridcolor": "white",
             "linecolor": "white",
             "minorgridcolor": "white",
             "startlinecolor": "#2a3f5f"
            },
            "type": "carpet"
           }
          ],
          "choropleth": [
           {
            "colorbar": {
             "outlinewidth": 0,
             "ticks": ""
            },
            "type": "choropleth"
           }
          ],
          "contour": [
           {
            "colorbar": {
             "outlinewidth": 0,
             "ticks": ""
            },
            "colorscale": [
             [
              0,
              "#0d0887"
             ],
             [
              0.1111111111111111,
              "#46039f"
             ],
             [
              0.2222222222222222,
              "#7201a8"
             ],
             [
              0.3333333333333333,
              "#9c179e"
             ],
             [
              0.4444444444444444,
              "#bd3786"
             ],
             [
              0.5555555555555556,
              "#d8576b"
             ],
             [
              0.6666666666666666,
              "#ed7953"
             ],
             [
              0.7777777777777778,
              "#fb9f3a"
             ],
             [
              0.8888888888888888,
              "#fdca26"
             ],
             [
              1,
              "#f0f921"
             ]
            ],
            "type": "contour"
           }
          ],
          "contourcarpet": [
           {
            "colorbar": {
             "outlinewidth": 0,
             "ticks": ""
            },
            "type": "contourcarpet"
           }
          ],
          "heatmap": [
           {
            "colorbar": {
             "outlinewidth": 0,
             "ticks": ""
            },
            "colorscale": [
             [
              0,
              "#0d0887"
             ],
             [
              0.1111111111111111,
              "#46039f"
             ],
             [
              0.2222222222222222,
              "#7201a8"
             ],
             [
              0.3333333333333333,
              "#9c179e"
             ],
             [
              0.4444444444444444,
              "#bd3786"
             ],
             [
              0.5555555555555556,
              "#d8576b"
             ],
             [
              0.6666666666666666,
              "#ed7953"
             ],
             [
              0.7777777777777778,
              "#fb9f3a"
             ],
             [
              0.8888888888888888,
              "#fdca26"
             ],
             [
              1,
              "#f0f921"
             ]
            ],
            "type": "heatmap"
           }
          ],
          "heatmapgl": [
           {
            "colorbar": {
             "outlinewidth": 0,
             "ticks": ""
            },
            "colorscale": [
             [
              0,
              "#0d0887"
             ],
             [
              0.1111111111111111,
              "#46039f"
             ],
             [
              0.2222222222222222,
              "#7201a8"
             ],
             [
              0.3333333333333333,
              "#9c179e"
             ],
             [
              0.4444444444444444,
              "#bd3786"
             ],
             [
              0.5555555555555556,
              "#d8576b"
             ],
             [
              0.6666666666666666,
              "#ed7953"
             ],
             [
              0.7777777777777778,
              "#fb9f3a"
             ],
             [
              0.8888888888888888,
              "#fdca26"
             ],
             [
              1,
              "#f0f921"
             ]
            ],
            "type": "heatmapgl"
           }
          ],
          "histogram": [
           {
            "marker": {
             "pattern": {
              "fillmode": "overlay",
              "size": 10,
              "solidity": 0.2
             }
            },
            "type": "histogram"
           }
          ],
          "histogram2d": [
           {
            "colorbar": {
             "outlinewidth": 0,
             "ticks": ""
            },
            "colorscale": [
             [
              0,
              "#0d0887"
             ],
             [
              0.1111111111111111,
              "#46039f"
             ],
             [
              0.2222222222222222,
              "#7201a8"
             ],
             [
              0.3333333333333333,
              "#9c179e"
             ],
             [
              0.4444444444444444,
              "#bd3786"
             ],
             [
              0.5555555555555556,
              "#d8576b"
             ],
             [
              0.6666666666666666,
              "#ed7953"
             ],
             [
              0.7777777777777778,
              "#fb9f3a"
             ],
             [
              0.8888888888888888,
              "#fdca26"
             ],
             [
              1,
              "#f0f921"
             ]
            ],
            "type": "histogram2d"
           }
          ],
          "histogram2dcontour": [
           {
            "colorbar": {
             "outlinewidth": 0,
             "ticks": ""
            },
            "colorscale": [
             [
              0,
              "#0d0887"
             ],
             [
              0.1111111111111111,
              "#46039f"
             ],
             [
              0.2222222222222222,
              "#7201a8"
             ],
             [
              0.3333333333333333,
              "#9c179e"
             ],
             [
              0.4444444444444444,
              "#bd3786"
             ],
             [
              0.5555555555555556,
              "#d8576b"
             ],
             [
              0.6666666666666666,
              "#ed7953"
             ],
             [
              0.7777777777777778,
              "#fb9f3a"
             ],
             [
              0.8888888888888888,
              "#fdca26"
             ],
             [
              1,
              "#f0f921"
             ]
            ],
            "type": "histogram2dcontour"
           }
          ],
          "mesh3d": [
           {
            "colorbar": {
             "outlinewidth": 0,
             "ticks": ""
            },
            "type": "mesh3d"
           }
          ],
          "parcoords": [
           {
            "line": {
             "colorbar": {
              "outlinewidth": 0,
              "ticks": ""
             }
            },
            "type": "parcoords"
           }
          ],
          "pie": [
           {
            "automargin": true,
            "type": "pie"
           }
          ],
          "scatter": [
           {
            "fillpattern": {
             "fillmode": "overlay",
             "size": 10,
             "solidity": 0.2
            },
            "type": "scatter"
           }
          ],
          "scatter3d": [
           {
            "line": {
             "colorbar": {
              "outlinewidth": 0,
              "ticks": ""
             }
            },
            "marker": {
             "colorbar": {
              "outlinewidth": 0,
              "ticks": ""
             }
            },
            "type": "scatter3d"
           }
          ],
          "scattercarpet": [
           {
            "marker": {
             "colorbar": {
              "outlinewidth": 0,
              "ticks": ""
             }
            },
            "type": "scattercarpet"
           }
          ],
          "scattergeo": [
           {
            "marker": {
             "colorbar": {
              "outlinewidth": 0,
              "ticks": ""
             }
            },
            "type": "scattergeo"
           }
          ],
          "scattergl": [
           {
            "marker": {
             "colorbar": {
              "outlinewidth": 0,
              "ticks": ""
             }
            },
            "type": "scattergl"
           }
          ],
          "scattermapbox": [
           {
            "marker": {
             "colorbar": {
              "outlinewidth": 0,
              "ticks": ""
             }
            },
            "type": "scattermapbox"
           }
          ],
          "scatterpolar": [
           {
            "marker": {
             "colorbar": {
              "outlinewidth": 0,
              "ticks": ""
             }
            },
            "type": "scatterpolar"
           }
          ],
          "scatterpolargl": [
           {
            "marker": {
             "colorbar": {
              "outlinewidth": 0,
              "ticks": ""
             }
            },
            "type": "scatterpolargl"
           }
          ],
          "scatterternary": [
           {
            "marker": {
             "colorbar": {
              "outlinewidth": 0,
              "ticks": ""
             }
            },
            "type": "scatterternary"
           }
          ],
          "surface": [
           {
            "colorbar": {
             "outlinewidth": 0,
             "ticks": ""
            },
            "colorscale": [
             [
              0,
              "#0d0887"
             ],
             [
              0.1111111111111111,
              "#46039f"
             ],
             [
              0.2222222222222222,
              "#7201a8"
             ],
             [
              0.3333333333333333,
              "#9c179e"
             ],
             [
              0.4444444444444444,
              "#bd3786"
             ],
             [
              0.5555555555555556,
              "#d8576b"
             ],
             [
              0.6666666666666666,
              "#ed7953"
             ],
             [
              0.7777777777777778,
              "#fb9f3a"
             ],
             [
              0.8888888888888888,
              "#fdca26"
             ],
             [
              1,
              "#f0f921"
             ]
            ],
            "type": "surface"
           }
          ],
          "table": [
           {
            "cells": {
             "fill": {
              "color": "#EBF0F8"
             },
             "line": {
              "color": "white"
             }
            },
            "header": {
             "fill": {
              "color": "#C8D4E3"
             },
             "line": {
              "color": "white"
             }
            },
            "type": "table"
           }
          ]
         },
         "layout": {
          "annotationdefaults": {
           "arrowcolor": "#2a3f5f",
           "arrowhead": 0,
           "arrowwidth": 1
          },
          "autotypenumbers": "strict",
          "coloraxis": {
           "colorbar": {
            "outlinewidth": 0,
            "ticks": ""
           }
          },
          "colorscale": {
           "diverging": [
            [
             0,
             "#8e0152"
            ],
            [
             0.1,
             "#c51b7d"
            ],
            [
             0.2,
             "#de77ae"
            ],
            [
             0.3,
             "#f1b6da"
            ],
            [
             0.4,
             "#fde0ef"
            ],
            [
             0.5,
             "#f7f7f7"
            ],
            [
             0.6,
             "#e6f5d0"
            ],
            [
             0.7,
             "#b8e186"
            ],
            [
             0.8,
             "#7fbc41"
            ],
            [
             0.9,
             "#4d9221"
            ],
            [
             1,
             "#276419"
            ]
           ],
           "sequential": [
            [
             0,
             "#0d0887"
            ],
            [
             0.1111111111111111,
             "#46039f"
            ],
            [
             0.2222222222222222,
             "#7201a8"
            ],
            [
             0.3333333333333333,
             "#9c179e"
            ],
            [
             0.4444444444444444,
             "#bd3786"
            ],
            [
             0.5555555555555556,
             "#d8576b"
            ],
            [
             0.6666666666666666,
             "#ed7953"
            ],
            [
             0.7777777777777778,
             "#fb9f3a"
            ],
            [
             0.8888888888888888,
             "#fdca26"
            ],
            [
             1,
             "#f0f921"
            ]
           ],
           "sequentialminus": [
            [
             0,
             "#0d0887"
            ],
            [
             0.1111111111111111,
             "#46039f"
            ],
            [
             0.2222222222222222,
             "#7201a8"
            ],
            [
             0.3333333333333333,
             "#9c179e"
            ],
            [
             0.4444444444444444,
             "#bd3786"
            ],
            [
             0.5555555555555556,
             "#d8576b"
            ],
            [
             0.6666666666666666,
             "#ed7953"
            ],
            [
             0.7777777777777778,
             "#fb9f3a"
            ],
            [
             0.8888888888888888,
             "#fdca26"
            ],
            [
             1,
             "#f0f921"
            ]
           ]
          },
          "colorway": [
           "#636efa",
           "#EF553B",
           "#00cc96",
           "#ab63fa",
           "#FFA15A",
           "#19d3f3",
           "#FF6692",
           "#B6E880",
           "#FF97FF",
           "#FECB52"
          ],
          "font": {
           "color": "#2a3f5f"
          },
          "geo": {
           "bgcolor": "white",
           "lakecolor": "white",
           "landcolor": "#E5ECF6",
           "showlakes": true,
           "showland": true,
           "subunitcolor": "white"
          },
          "hoverlabel": {
           "align": "left"
          },
          "hovermode": "closest",
          "mapbox": {
           "style": "light"
          },
          "paper_bgcolor": "white",
          "plot_bgcolor": "#E5ECF6",
          "polar": {
           "angularaxis": {
            "gridcolor": "white",
            "linecolor": "white",
            "ticks": ""
           },
           "bgcolor": "#E5ECF6",
           "radialaxis": {
            "gridcolor": "white",
            "linecolor": "white",
            "ticks": ""
           }
          },
          "scene": {
           "xaxis": {
            "backgroundcolor": "#E5ECF6",
            "gridcolor": "white",
            "gridwidth": 2,
            "linecolor": "white",
            "showbackground": true,
            "ticks": "",
            "zerolinecolor": "white"
           },
           "yaxis": {
            "backgroundcolor": "#E5ECF6",
            "gridcolor": "white",
            "gridwidth": 2,
            "linecolor": "white",
            "showbackground": true,
            "ticks": "",
            "zerolinecolor": "white"
           },
           "zaxis": {
            "backgroundcolor": "#E5ECF6",
            "gridcolor": "white",
            "gridwidth": 2,
            "linecolor": "white",
            "showbackground": true,
            "ticks": "",
            "zerolinecolor": "white"
           }
          },
          "shapedefaults": {
           "line": {
            "color": "#2a3f5f"
           }
          },
          "ternary": {
           "aaxis": {
            "gridcolor": "white",
            "linecolor": "white",
            "ticks": ""
           },
           "baxis": {
            "gridcolor": "white",
            "linecolor": "white",
            "ticks": ""
           },
           "bgcolor": "#E5ECF6",
           "caxis": {
            "gridcolor": "white",
            "linecolor": "white",
            "ticks": ""
           }
          },
          "title": {
           "x": 0.05
          },
          "xaxis": {
           "automargin": true,
           "gridcolor": "white",
           "linecolor": "white",
           "ticks": "",
           "title": {
            "standoff": 15
           },
           "zerolinecolor": "white",
           "zerolinewidth": 2
          },
          "yaxis": {
           "automargin": true,
           "gridcolor": "white",
           "linecolor": "white",
           "ticks": "",
           "title": {
            "standoff": 15
           },
           "zerolinecolor": "white",
           "zerolinewidth": 2
          }
         }
        },
        "title": {
         "text": "Fig 2c s=2, b=1.2"
        },
        "xaxis": {
         "autorange": true,
         "range": [
          -0.32907371842221894,
          5.329073718422219
         ],
         "title": {
          "text": "C"
         },
         "type": "linear"
        },
        "yaxis": {
         "autorange": true,
         "range": [
          -0.08566692923569343,
          1.1223454972433646
         ],
         "title": {
          "text": "x"
         },
         "type": "linear"
        }
       }
      },
      "image/png": "[encoded data removed]",
      "text/html": [
       "<div>                            <div id=\"d0a163a7-0fec-4774-b9eb-f0356e7813dd\" class=\"plotly-graph-div\" style=\"height:525px; width:100%;\"></div>            <script type=\"text/javascript\">                require([\"plotly\"], function(Plotly) {                    window.PLOTLYENV=window.PLOTLYENV || {};                                    if (document.getElementById(\"d0a163a7-0fec-4774-b9eb-f0356e7813dd\")) {                    Plotly.newPlot(                        \"d0a163a7-0fec-4774-b9eb-f0356e7813dd\",                        [{\"marker\":{\"angleref\":\"previous\",\"color\":\"green\",\"size\":10,\"symbol\":\"arrow\"},\"mode\":\"lines+markers\",\"name\":\"\",\"x\":[0.0,0.0],\"y\":[0.02,0.039599999999999996],\"type\":\"scatter\"},{\"marker\":{\"angleref\":\"previous\",\"color\":\"green\",\"size\":10,\"symbol\":\"arrow\"},\"mode\":\"lines+markers\",\"name\":\"\",\"x\":[0.0,0.0],\"y\":[1.02,0.9996],\"type\":\"scatter\"},{\"marker\":{\"angleref\":\"previous\",\"color\":\"green\",\"size\":10,\"symbol\":\"arrow\"},\"mode\":\"lines+markers\",\"name\":\"\",\"x\":[0.10204081632653061,0.10204081632653061],\"y\":[0.02,0.0373613698632007],\"type\":\"scatter\"},{\"marker\":{\"angleref\":\"previous\",\"color\":\"green\",\"size\":10,\"symbol\":\"arrow\"},\"mode\":\"lines+markers\",\"name\":\"\",\"x\":[0.10204081632653061,0.10204081632653061],\"y\":[0.9801377446969131,0.9610629204114777],\"type\":\"scatter\"},{\"marker\":{\"angleref\":\"previous\",\"color\":\"green\",\"size\":10,\"symbol\":\"arrow\"},\"mode\":\"lines+markers\",\"name\":\"\",\"x\":[0.20408163265306123,0.20408163265306123],\"y\":[0.02,0.03533990320494145],\"type\":\"scatter\"},{\"marker\":{\"angleref\":\"previous\",\"color\":\"green\",\"size\":10,\"symbol\":\"arrow\"},\"mode\":\"lines+markers\",\"name\":\"\",\"x\":[0.20408163265306123,0.20408163265306123],\"y\":[0.9421141892033511,0.9242895408886314],\"type\":\"scatter\"},{\"marker\":{\"angleref\":\"previous\",\"color\":\"green\",\"size\":10,\"symbol\":\"arrow\"},\"mode\":\"lines+markers\",\"name\":\"\",\"x\":[0.30612244897959184,0.30612244897959184],\"y\":[0.02,0.03351453358122315],\"type\":\"scatter\"},{\"marker\":{\"angleref\":\"previous\",\"color\":\"green\",\"size\":10,\"symbol\":\"arrow\"},\"mode\":\"lines+markers\",\"name\":\"\",\"x\":[0.30612244897959184,0.30612244897959184],\"y\":[0.9058284934727304,0.8891832240390728],\"type\":\"scatter\"},{\"marker\":{\"angleref\":\"previous\",\"color\":\"green\",\"size\":10,\"symbol\":\"arrow\"},\"mode\":\"lines+markers\",\"name\":\"\",\"x\":[0.40816326530612246,0.40816326530612246],\"y\":[0.02,0.03186623814702452],\"type\":\"scatter\"},{\"marker\":{\"angleref\":\"previous\",\"color\":\"green\",\"size\":10,\"symbol\":\"arrow\"},\"mode\":\"lines+markers\",\"name\":\"\",\"x\":[0.40816326530612246,0.40816326530612246],\"y\":[0.8711839916553313,0.8556513217080011],\"type\":\"scatter\"},{\"marker\":{\"angleref\":\"previous\",\"color\":\"green\",\"size\":10,\"symbol\":\"arrow\"},\"mode\":\"lines+markers\",\"name\":\"\",\"x\":[0.5102040816326531,0.5102040816326531],\"y\":[0.02,0.030377839412270874],\"type\":\"scatter\"},{\"marker\":{\"angleref\":\"previous\",\"color\":\"green\",\"size\":10,\"symbol\":\"arrow\"},\"mode\":\"lines+markers\",\"name\":\"\",\"x\":[0.5102040816326531,0.5102040816326531],\"y\":[0.8380878670760734,0.8236048592132483],\"type\":\"scatter\"},{\"marker\":{\"angleref\":\"previous\",\"color\":\"green\",\"size\":10,\"symbol\":\"arrow\"},\"mode\":\"lines+markers\",\"name\":\"\",\"x\":[0.6122448979591837,0.6122448979591837],\"y\":[0.02,0.029033826228922276],\"type\":\"scatter\"},{\"marker\":{\"angleref\":\"previous\",\"color\":\"green\",\"size\":10,\"symbol\":\"arrow\"},\"mode\":\"lines+markers\",\"name\":\"\",\"x\":[0.6122448979591837,0.6122448979591837],\"y\":[0.8064508196955048,0.7929582119425569],\"type\":\"scatter\"},{\"marker\":{\"angleref\":\"previous\",\"color\":\"green\",\"size\":10,\"symbol\":\"arrow\"},\"mode\":\"lines+markers\",\"name\":\"\",\"x\":[0.7142857142857143,0.7142857142857143],\"y\":[0.02,0.027820192143621997],\"type\":\"scatter\"},{\"marker\":{\"angleref\":\"previous\",\"color\":\"green\",\"size\":10,\"symbol\":\"arrow\"},\"mode\":\"lines+markers\",\"name\":\"\",\"x\":[0.7142857142857143,0.7142857142857143],\"y\":[0.7761867202270047,0.7636287686029205],\"type\":\"scatter\"},{\"marker\":{\"angleref\":\"previous\",\"color\":\"green\",\"size\":10,\"symbol\":\"arrow\"},\"mode\":\"lines+markers\",\"name\":\"\",\"x\":[0.8163265306122449,0.8163265306122449],\"y\":[0.02,0.026724289431319055],\"type\":\"scatter\"},{\"marker\":{\"angleref\":\"previous\",\"color\":\"green\",\"size\":10,\"symbol\":\"arrow\"},\"mode\":\"lines+markers\",\"name\":\"\",\"x\":[0.8163265306122449,0.8163265306122449],\"y\":[0.7472122433616886,0.7355365737138564],\"type\":\"scatter\"},{\"marker\":{\"angleref\":\"previous\",\"color\":\"green\",\"size\":10,\"symbol\":\"arrow\"},\"mode\":\"lines+markers\",\"name\":\"\",\"x\":[0.9183673469387755,0.9183673469387755],\"y\":[0.02,0.025734697288695776],\"type\":\"scatter\"},{\"marker\":{\"angleref\":\"previous\",\"color\":\"green\",\"size\":10,\"symbol\":\"arrow\"},\"mode\":\"lines+markers\",\"name\":\"\",\"x\":[0.9183673469387755,0.9183673469387755],\"y\":[0.7194464701230726,0.7086039395409082],\"type\":\"scatter\"},{\"marker\":{\"angleref\":\"previous\",\"color\":\"green\",\"size\":10,\"symbol\":\"arrow\"},\"mode\":\"lines+markers\",\"name\":\"\",\"x\":[1.0204081632653061,1.0204081632653061],\"y\":[0.02,0.02484110281379587],\"type\":\"scatter\"},{\"marker\":{\"angleref\":\"previous\",\"color\":\"green\",\"size\":10,\"symbol\":\"arrow\"},\"mode\":\"lines+markers\",\"name\":\"\",\"x\":[1.0204081632653061,1.0204081632653061],\"y\":[0.6928104458959032,0.6827550142372938],\"type\":\"scatter\"},{\"marker\":{\"angleref\":\"previous\",\"color\":\"green\",\"size\":10,\"symbol\":\"arrow\"},\"mode\":\"lines+markers\",\"name\":\"\",\"x\":[1.1224489795918369,1.1224489795918369],\"y\":[0.02,0.024034193531498122],\"type\":\"scatter\"},{\"marker\":{\"angleref\":\"previous\",\"color\":\"green\",\"size\":10,\"symbol\":\"arrow\"},\"mode\":\"lines+markers\",\"name\":\"\",\"x\":[1.1224489795918369,1.1224489795918369],\"y\":[0.6672266756134978,0.6579152879741461],\"type\":\"scatter\"},{\"marker\":{\"angleref\":\"previous\",\"color\":\"green\",\"size\":10,\"symbol\":\"arrow\"},\"mode\":\"lines+markers\",\"name\":\"\",\"x\":[1.2244897959183674,1.2244897959183674],\"y\":[0.02,0.02330556034480435],\"type\":\"scatter\"},{\"marker\":{\"angleref\":\"previous\",\"color\":\"green\",\"size\":10,\"symbol\":\"arrow\"},\"mode\":\"lines+markers\",\"name\":\"\",\"x\":[1.2244897959183674,1.2244897959183674],\"y\":[0.6426185300879614,0.6340110114484515],\"type\":\"scatter\"},{\"marker\":{\"angleref\":\"previous\",\"color\":\"green\",\"size\":10,\"symbol\":\"arrow\"},\"mode\":\"lines+markers\",\"name\":\"\",\"x\":[1.3265306122448979,1.3265306122448979],\"y\":[0.02,0.022647609900561458],\"type\":\"scatter\"},{\"marker\":{\"angleref\":\"previous\",\"color\":\"green\",\"size\":10,\"symbol\":\"arrow\"},\"mode\":\"lines+markers\",\"name\":\"\",\"x\":[1.3265306122448979,1.3265306122448979],\"y\":[0.6189095261161524,0.6109684899718568],\"type\":\"scatter\"},{\"marker\":{\"angleref\":\"previous\",\"color\":\"green\",\"size\":10,\"symbol\":\"arrow\"},\"mode\":\"lines+markers\",\"name\":\"\",\"x\":[1.4285714285714286,1.4285714285714286],\"y\":[0.02,0.022053485456348672],\"type\":\"scatter\"},{\"marker\":{\"angleref\":\"previous\",\"color\":\"green\",\"size\":10,\"symbol\":\"arrow\"},\"mode\":\"lines+markers\",\"name\":\"\",\"x\":[1.4285714285714286,1.4285714285714286],\"y\":[0.5960224254020964,0.5887131990090624],\"type\":\"scatter\"},{\"marker\":{\"angleref\":\"previous\",\"color\":\"green\",\"size\":10,\"symbol\":\"arrow\"},\"mode\":\"lines+markers\",\"name\":\"\",\"x\":[1.5306122448979593,1.5306122448979593],\"y\":[0.02,0.021516995423854924],\"type\":\"scatter\"},{\"marker\":{\"angleref\":\"previous\",\"color\":\"green\",\"size\":10,\"symbol\":\"arrow\"},\"mode\":\"lines+markers\",\"name\":\"\",\"x\":[1.5306122448979593,1.5306122448979593],\"y\":[0.5738780693308222,0.5671686394401418],\"type\":\"scatter\"},{\"marker\":{\"angleref\":\"previous\",\"color\":\"green\",\"size\":10,\"symbol\":\"arrow\"},\"mode\":\"lines+markers\",\"name\":\"\",\"x\":[1.6326530612244898,1.6326530612244898],\"y\":[0.02,0.021032548844070603],\"type\":\"scatter\"},{\"marker\":{\"angleref\":\"previous\",\"color\":\"green\",\"size\":10,\"symbol\":\"arrow\"},\"mode\":\"lines+markers\",\"name\":\"\",\"x\":[1.6326530612244898,1.6326530612244898],\"y\":[0.5523938206580237,0.5462548055266313],\"type\":\"scatter\"},{\"marker\":{\"angleref\":\"previous\",\"color\":\"green\",\"size\":10,\"symbol\":\"arrow\"},\"mode\":\"lines+markers\",\"name\":\"\",\"x\":[1.7346938775510203,1.7346938775510203],\"y\":[0.02,0.02059509712185718],\"type\":\"scatter\"},{\"marker\":{\"angleref\":\"previous\",\"color\":\"green\",\"size\":10,\"symbol\":\"arrow\"},\"mode\":\"lines+markers\",\"name\":\"\",\"x\":[1.7346938775510203,1.7346938775510203],\"y\":[0.5314814050143652,0.5258860615454135],\"type\":\"scatter\"},{\"marker\":{\"angleref\":\"previous\",\"color\":\"green\",\"size\":10,\"symbol\":\"arrow\"},\"mode\":\"lines+markers\",\"name\":\"\",\"x\":[1.836734693877551,1.836734693877551],\"y\":[0.02,0.02020008141268923],\"type\":\"scatter\"},{\"marker\":{\"angleref\":\"previous\",\"color\":\"green\",\"size\":10,\"symbol\":\"arrow\"},\"mode\":\"lines+markers\",\"name\":\"\",\"x\":[1.836734693877551,1.836734693877551],\"y\":[0.028956193338389218,0.029462106623427634],\"type\":\"scatter\"},{\"marker\":{\"angleref\":\"previous\",\"color\":\"green\",\"size\":10,\"symbol\":\"arrow\"},\"mode\":\"lines+markers\",\"name\":\"\",\"x\":[1.836734693877551,1.836734693877551],\"y\":[0.5110438066616108,0.5059680866285179],\"type\":\"scatter\"},{\"marker\":{\"angleref\":\"previous\",\"color\":\"green\",\"size\":10,\"symbol\":\"arrow\"},\"mode\":\"lines+markers\",\"name\":\"\",\"x\":[1.9387755102040818,1.9387755102040818],\"y\":[0.02,0.01984338511326689],\"type\":\"scatter\"},{\"marker\":{\"angleref\":\"previous\",\"color\":\"green\",\"size\":10,\"symbol\":\"arrow\"},\"mode\":\"lines+markers\",\"name\":\"\",\"x\":[1.9387755102040818,1.9387755102040818],\"y\":[0.0490293844310063,0.04978298776865622],\"type\":\"scatter\"},{\"marker\":{\"angleref\":\"previous\",\"color\":\"green\",\"size\":10,\"symbol\":\"arrow\"},\"mode\":\"lines+markers\",\"name\":\"\",\"x\":[1.9387755102040818,1.9387755102040818],\"y\":[0.49097061556899374,0.4863932937585319],\"type\":\"scatter\"},{\"marker\":{\"angleref\":\"previous\",\"color\":\"green\",\"size\":10,\"symbol\":\"arrow\"},\"mode\":\"lines+markers\",\"name\":\"\",\"x\":[2.0408163265306123,2.0408163265306123],\"y\":[0.02,0.01952129096088599],\"type\":\"scatter\"},{\"marker\":{\"angleref\":\"previous\",\"color\":\"green\",\"size\":10,\"symbol\":\"arrow\"},\"mode\":\"lines+markers\",\"name\":\"\",\"x\":[2.0408163265306123,2.0408163265306123],\"y\":[0.06886928383999873,0.06979484167310324],\"type\":\"scatter\"},{\"marker\":{\"angleref\":\"previous\",\"color\":\"green\",\"size\":10,\"symbol\":\"arrow\"},\"mode\":\"lines+markers\",\"name\":\"\",\"x\":[2.0408163265306123,2.0408163265306123],\"y\":[0.4711307161600013,0.46703362958442074],\"type\":\"scatter\"},{\"marker\":{\"angleref\":\"previous\",\"color\":\"green\",\"size\":10,\"symbol\":\"arrow\"},\"mode\":\"lines+markers\",\"name\":\"\",\"x\":[2.142857142857143,2.142857142857143],\"y\":[0.02,0.019230442294482713],\"type\":\"scatter\"},{\"marker\":{\"angleref\":\"previous\",\"color\":\"green\",\"size\":10,\"symbol\":\"arrow\"},\"mode\":\"lines+markers\",\"name\":\"\",\"x\":[2.142857142857143,2.142857142857143],\"y\":[0.08863986199677175,0.08967202716022704],\"type\":\"scatter\"},{\"marker\":{\"angleref\":\"previous\",\"color\":\"green\",\"size\":10,\"symbol\":\"arrow\"},\"mode\":\"lines+markers\",\"name\":\"\",\"x\":[2.142857142857143,2.142857142857143],\"y\":[0.4513601380032283,0.4477286073200642],\"type\":\"scatter\"},{\"marker\":{\"angleref\":\"previous\",\"color\":\"green\",\"size\":10,\"symbol\":\"arrow\"},\"mode\":\"lines+markers\",\"name\":\"\",\"x\":[2.2448979591836737,2.2448979591836737],\"y\":[0.02,0.018967808073639958],\"type\":\"scatter\"},{\"marker\":{\"angleref\":\"previous\",\"color\":\"green\",\"size\":10,\"symbol\":\"arrow\"},\"mode\":\"lines+markers\",\"name\":\"\",\"x\":[2.2448979591836737,2.2448979591836737],\"y\":[0.10855957781695441,0.10964018250355453],\"type\":\"scatter\"},{\"marker\":{\"angleref\":\"previous\",\"color\":\"green\",\"size\":10,\"symbol\":\"arrow\"},\"mode\":\"lines+markers\",\"name\":\"\",\"x\":[2.2448979591836737,2.2448979591836737],\"y\":[0.4314404221830456,0.42826399451835195],\"type\":\"scatter\"},{\"marker\":{\"angleref\":\"previous\",\"color\":\"green\",\"size\":10,\"symbol\":\"arrow\"},\"mode\":\"lines+markers\",\"name\":\"\",\"x\":[2.3469387755102042,2.3469387755102042],\"y\":[0.02,0.01873065129100565],\"type\":\"scatter\"},{\"marker\":{\"angleref\":\"previous\",\"color\":\"green\",\"size\":10,\"symbol\":\"arrow\"},\"mode\":\"lines+markers\",\"name\":\"\",\"x\":[2.3469387755102042,2.3469387755102042],\"y\":[0.1289435093086993,0.13001825663193664],\"type\":\"scatter\"},{\"marker\":{\"angleref\":\"previous\",\"color\":\"green\",\"size\":10,\"symbol\":\"arrow\"},\"mode\":\"lines+markers\",\"name\":\"\",\"x\":[2.3469387755102042,2.3469387755102042],\"y\":[0.41105649069130074,0.4083303040456154],\"type\":\"scatter\"},{\"marker\":{\"angleref\":\"previous\",\"color\":\"green\",\"size\":10,\"symbol\":\"arrow\"},\"mode\":\"lines+markers\",\"name\":\"\",\"x\":[2.4489795918367347,2.4489795918367347],\"y\":[0.02,0.018516500448937247],\"type\":\"scatter\"},{\"marker\":{\"angleref\":\"previous\",\"color\":\"green\",\"size\":10,\"symbol\":\"arrow\"},\"mode\":\"lines+markers\",\"name\":\"\",\"x\":[2.4489795918367347,2.4489795918367347],\"y\":[0.15029615013555328,0.15131033828882665],\"type\":\"scatter\"},{\"marker\":{\"angleref\":\"previous\",\"color\":\"green\",\"size\":10,\"symbol\":\"arrow\"},\"mode\":\"lines+markers\",\"name\":\"\",\"x\":[2.4489795918367347,2.4489795918367347],\"y\":[0.3897038498644467,0.38743135932089645],\"type\":\"scatter\"},{\"marker\":{\"angleref\":\"previous\",\"color\":\"green\",\"size\":10,\"symbol\":\"arrow\"},\"mode\":\"lines+markers\",\"name\":\"\",\"x\":[2.5510204081632653,2.5510204081632653],\"y\":[0.02,0.018323123803120102],\"type\":\"scatter\"},{\"marker\":{\"angleref\":\"previous\",\"color\":\"green\",\"size\":10,\"symbol\":\"arrow\"},\"mode\":\"lines+markers\",\"name\":\"\",\"x\":[2.5510204081632653,2.5510204081632653],\"y\":[0.17355717299288143,0.17444813062988168],\"type\":\"scatter\"},{\"marker\":{\"angleref\":\"previous\",\"color\":\"green\",\"size\":10,\"symbol\":\"arrow\"},\"mode\":\"lines+markers\",\"name\":\"\",\"x\":[2.5510204081632653,2.5510204081632653],\"y\":[0.3664428270071186,0.36464212144514296],\"type\":\"scatter\"},{\"marker\":{\"angleref\":\"previous\",\"color\":\"green\",\"size\":10,\"symbol\":\"arrow\"},\"mode\":\"lines+markers\",\"name\":\"\",\"x\":[2.6530612244897958,2.6530612244897958],\"y\":[0.02,0.018148506104743063],\"type\":\"scatter\"},{\"marker\":{\"angleref\":\"previous\",\"color\":\"green\",\"size\":10,\"symbol\":\"arrow\"},\"mode\":\"lines+markers\",\"name\":\"\",\"x\":[2.6530612244897958,2.6530612244897958],\"y\":[0.20099884984060049,0.20167555071244966],\"type\":\"scatter\"},{\"marker\":{\"angleref\":\"previous\",\"color\":\"green\",\"size\":10,\"symbol\":\"arrow\"},\"mode\":\"lines+markers\",\"name\":\"\",\"x\":[2.6530612244897958,2.6530612244897958],\"y\":[0.3390011501593995,0.3377243232676668],\"type\":\"scatter\"},{\"marker\":{\"angleref\":\"previous\",\"color\":\"green\",\"size\":10,\"symbol\":\"arrow\"},\"mode\":\"lines+markers\",\"name\":\"\",\"x\":[2.7551020408163267,2.7551020408163267],\"y\":[0.02,0.017990827598852926],\"type\":\"scatter\"},{\"marker\":{\"angleref\":\"previous\",\"color\":\"green\",\"size\":10,\"symbol\":\"arrow\"},\"mode\":\"lines+markers\",\"name\":\"\",\"x\":[2.7551020408163267,2.7551020408163267],\"y\":[0.24428001613190628,0.24448639426001215],\"type\":\"scatter\"},{\"marker\":{\"angleref\":\"previous\",\"color\":\"green\",\"size\":10,\"symbol\":\"arrow\"},\"mode\":\"lines+markers\",\"name\":\"\",\"x\":[2.7551020408163267,2.7551020408163267],\"y\":[0.2957199838680937,0.2951889873734784],\"type\":\"scatter\"},{\"marker\":{\"angleref\":\"previous\",\"color\":\"green\",\"size\":10,\"symbol\":\"arrow\"},\"mode\":\"lines+markers\",\"name\":\"\",\"x\":[2.857142857142857,2.857142857142857],\"y\":[0.02,0.01784844506002194],\"type\":\"scatter\"},{\"marker\":{\"angleref\":\"previous\",\"color\":\"green\",\"size\":10,\"symbol\":\"arrow\"},\"mode\":\"lines+markers\",\"name\":\"\",\"x\":[2.9591836734693877,2.9591836734693877],\"y\":[0.02,0.017719874667694133],\"type\":\"scatter\"},{\"marker\":{\"angleref\":\"previous\",\"color\":\"green\",\"size\":10,\"symbol\":\"arrow\"},\"mode\":\"lines+markers\",\"name\":\"\",\"x\":[3.0612244897959187,3.0612244897959187],\"y\":[0.02,0.017603776542748147],\"type\":\"scatter\"},{\"marker\":{\"angleref\":\"previous\",\"color\":\"green\",\"size\":10,\"symbol\":\"arrow\"},\"mode\":\"lines+markers\",\"name\":\"\",\"x\":[3.163265306122449,3.163265306122449],\"y\":[0.02,0.01749894078412646],\"type\":\"scatter\"},{\"marker\":{\"angleref\":\"previous\",\"color\":\"green\",\"size\":10,\"symbol\":\"arrow\"},\"mode\":\"lines+markers\",\"name\":\"\",\"x\":[3.2653061224489797,3.2653061224489797],\"y\":[0.02,0.017404274860013575],\"type\":\"scatter\"},{\"marker\":{\"angleref\":\"previous\",\"color\":\"green\",\"size\":10,\"symbol\":\"arrow\"},\"mode\":\"lines+markers\",\"name\":\"\",\"x\":[3.36734693877551,3.36734693877551],\"y\":[0.02,0.017318792222162066],\"type\":\"scatter\"},{\"marker\":{\"angleref\":\"previous\",\"color\":\"green\",\"size\":10,\"symbol\":\"arrow\"},\"mode\":\"lines+markers\",\"name\":\"\",\"x\":[3.4693877551020407,3.4693877551020407],\"y\":[0.02,0.017241602024712147],\"type\":\"scatter\"},{\"marker\":{\"angleref\":\"previous\",\"color\":\"green\",\"size\":10,\"symbol\":\"arrow\"},\"mode\":\"lines+markers\",\"name\":\"\",\"x\":[3.5714285714285716,3.5714285714285716],\"y\":[0.02,0.017171899840360893],\"type\":\"scatter\"},{\"marker\":{\"angleref\":\"previous\",\"color\":\"green\",\"size\":10,\"symbol\":\"arrow\"},\"mode\":\"lines+markers\",\"name\":\"\",\"x\":[3.673469387755102,3.673469387755102],\"y\":[0.02,0.01710895927713085],\"type\":\"scatter\"},{\"marker\":{\"angleref\":\"previous\",\"color\":\"green\",\"size\":10,\"symbol\":\"arrow\"},\"mode\":\"lines+markers\",\"name\":\"\",\"x\":[3.7755102040816326,3.7755102040816326],\"y\":[0.02,0.017052124408373344],\"type\":\"scatter\"},{\"marker\":{\"angleref\":\"previous\",\"color\":\"green\",\"size\":10,\"symbol\":\"arrow\"},\"mode\":\"lines+markers\",\"name\":\"\",\"x\":[3.8775510204081636,3.8775510204081636],\"y\":[0.02,0.01700080293711677],\"type\":\"scatter\"},{\"marker\":{\"angleref\":\"previous\",\"color\":\"green\",\"size\":10,\"symbol\":\"arrow\"},\"mode\":\"lines+markers\",\"name\":\"\",\"x\":[3.979591836734694,3.979591836734694],\"y\":[0.02,0.016954460023523056],\"type\":\"scatter\"},{\"marker\":{\"angleref\":\"previous\",\"color\":\"green\",\"size\":10,\"symbol\":\"arrow\"},\"mode\":\"lines+markers\",\"name\":\"\",\"x\":[4.081632653061225,4.081632653061225],\"y\":[0.02,0.016912612711125923],\"type\":\"scatter\"},{\"marker\":{\"angleref\":\"previous\",\"color\":\"green\",\"size\":10,\"symbol\":\"arrow\"},\"mode\":\"lines+markers\",\"name\":\"\",\"x\":[4.183673469387755,4.183673469387755],\"y\":[0.02,0.01687482489376476],\"type\":\"scatter\"},{\"marker\":{\"angleref\":\"previous\",\"color\":\"green\",\"size\":10,\"symbol\":\"arrow\"},\"mode\":\"lines+markers\",\"name\":\"\",\"x\":[4.285714285714286,4.285714285714286],\"y\":[0.02,0.016840702770762703],\"type\":\"scatter\"},{\"marker\":{\"angleref\":\"previous\",\"color\":\"green\",\"size\":10,\"symbol\":\"arrow\"},\"mode\":\"lines+markers\",\"name\":\"\",\"x\":[4.387755102040816,4.387755102040816],\"y\":[0.02,0.01680989074298562],\"type\":\"scatter\"},{\"marker\":{\"angleref\":\"previous\",\"color\":\"green\",\"size\":10,\"symbol\":\"arrow\"},\"mode\":\"lines+markers\",\"name\":\"\",\"x\":[4.4897959183673475,4.4897959183673475],\"y\":[0.02,0.016782067707013366],\"type\":\"scatter\"},{\"marker\":{\"angleref\":\"previous\",\"color\":\"green\",\"size\":10,\"symbol\":\"arrow\"},\"mode\":\"lines+markers\",\"name\":\"\",\"x\":[4.591836734693878,4.591836734693878],\"y\":[0.02,0.01675694370880352],\"type\":\"scatter\"},{\"marker\":{\"angleref\":\"previous\",\"color\":\"green\",\"size\":10,\"symbol\":\"arrow\"},\"mode\":\"lines+markers\",\"name\":\"\",\"x\":[4.6938775510204085,4.6938775510204085],\"y\":[0.02,0.016734256921974146],\"type\":\"scatter\"},{\"marker\":{\"angleref\":\"previous\",\"color\":\"green\",\"size\":10,\"symbol\":\"arrow\"},\"mode\":\"lines+markers\",\"name\":\"\",\"x\":[4.795918367346939,4.795918367346939],\"y\":[0.02,0.016713770919215255],\"type\":\"scatter\"},{\"marker\":{\"angleref\":\"previous\",\"color\":\"green\",\"size\":10,\"symbol\":\"arrow\"},\"mode\":\"lines+markers\",\"name\":\"\",\"x\":[4.8979591836734695,4.8979591836734695],\"y\":[0.02,0.016695272208393237],\"type\":\"scatter\"},{\"marker\":{\"angleref\":\"previous\",\"color\":\"green\",\"size\":10,\"symbol\":\"arrow\"},\"mode\":\"lines+markers\",\"name\":\"\",\"x\":[5.0,5.0],\"y\":[0.02,0.016678568007671205],\"type\":\"scatter\"},{\"mode\":\"markers\",\"name\":\"\",\"x\":[0.0,0.0,0.10204081632653061,0.10204081632653061,0.20408163265306123,0.20408163265306123,0.30612244897959184,0.30612244897959184,0.40816326530612246,0.40816326530612246,0.5102040816326531,0.5102040816326531,0.6122448979591837,0.6122448979591837,0.7142857142857143,0.7142857142857143,0.8163265306122449,0.8163265306122449,0.9183673469387755,0.9183673469387755,1.0204081632653061,1.0204081632653061,1.1224489795918369,1.1224489795918369,1.2244897959183674,1.2244897959183674,1.3265306122448979,1.3265306122448979,1.4285714285714286,1.4285714285714286,1.5306122448979593,1.5306122448979593,1.6326530612244898,1.6326530612244898,1.7346938775510203,1.7346938775510203,1.836734693877551,1.836734693877551,1.836734693877551,1.9387755102040818,1.9387755102040818,1.9387755102040818,2.0408163265306123,2.0408163265306123,2.0408163265306123,2.142857142857143,2.142857142857143,2.142857142857143,2.2448979591836737,2.2448979591836737,2.2448979591836737,2.3469387755102042,2.3469387755102042,2.3469387755102042,2.4489795918367347,2.4489795918367347,2.4489795918367347,2.5510204081632653,2.5510204081632653,2.5510204081632653,2.6530612244897958,2.6530612244897958,2.6530612244897958,2.7551020408163267,2.7551020408163267,2.7551020408163267,2.857142857142857,2.9591836734693877,3.0612244897959187,3.163265306122449,3.2653061224489797,3.36734693877551,3.4693877551020407,3.5714285714285716,3.673469387755102,3.7755102040816326,3.8775510204081636,3.979591836734694,4.081632653061225,4.183673469387755,4.285714285714286,4.387755102040816,4.4897959183673475,4.591836734693878,4.6938775510204085,4.795918367346939,4.8979591836734695,5.0],\"y\":[0.0,1.0,0.0,0.960137744696913,0.0,0.9221141892033511,0.0,0.8858284934727304,0.0,0.8511839916553313,0.0,0.8180878670760734,0.0,0.7864508196955048,0.0,0.7561867202270047,0.0,0.7272122433616885,0.0,0.6994464701230726,0.0,0.6728104458959032,0.0,0.6472266756134978,0.0,0.6226185300879614,0.0,0.5989095261161523,0.0,0.5760224254020964,0.0,0.5538780693308222,0.0,0.5323938206580237,0.0,0.5114814050143652,0.0,0.008956193338389215,0.4910438066616108,0.0,0.029029384431006302,0.4709706155689937,0.0,0.04886928383999872,0.4511307161600013,0.0,0.06863986199677174,0.43136013800322826,0.0,0.08855957781695441,0.4114404221830456,0.0,0.10894350930869931,0.3910564906913007,0.0,0.1302961501355533,0.3697038498644467,0.0,0.15355717299288144,0.3464428270071186,0.0,0.1809988498406005,0.3190011501593995,0.0,0.2242800161319063,0.2757199838680937,0.0,0.0,0.0,0.0,0.0,0.0,0.0,0.0,0.0,0.0,0.0,0.0,0.0,0.0,0.0,0.0,0.0,0.0,0.0,0.0,0.0,0.0],\"type\":\"scatter\"}],                        {\"template\":{\"data\":{\"histogram2dcontour\":[{\"type\":\"histogram2dcontour\",\"colorbar\":{\"outlinewidth\":0,\"ticks\":\"\"},\"colorscale\":[[0.0,\"#0d0887\"],[0.1111111111111111,\"#46039f\"],[0.2222222222222222,\"#7201a8\"],[0.3333333333333333,\"#9c179e\"],[0.4444444444444444,\"#bd3786\"],[0.5555555555555556,\"#d8576b\"],[0.6666666666666666,\"#ed7953\"],[0.7777777777777778,\"#fb9f3a\"],[0.8888888888888888,\"#fdca26\"],[1.0,\"#f0f921\"]]}],\"choropleth\":[{\"type\":\"choropleth\",\"colorbar\":{\"outlinewidth\":0,\"ticks\":\"\"}}],\"histogram2d\":[{\"type\":\"histogram2d\",\"colorbar\":{\"outlinewidth\":0,\"ticks\":\"\"},\"colorscale\":[[0.0,\"#0d0887\"],[0.1111111111111111,\"#46039f\"],[0.2222222222222222,\"#7201a8\"],[0.3333333333333333,\"#9c179e\"],[0.4444444444444444,\"#bd3786\"],[0.5555555555555556,\"#d8576b\"],[0.6666666666666666,\"#ed7953\"],[0.7777777777777778,\"#fb9f3a\"],[0.8888888888888888,\"#fdca26\"],[1.0,\"#f0f921\"]]}],\"heatmap\":[{\"type\":\"heatmap\",\"colorbar\":{\"outlinewidth\":0,\"ticks\":\"\"},\"colorscale\":[[0.0,\"#0d0887\"],[0.1111111111111111,\"#46039f\"],[0.2222222222222222,\"#7201a8\"],[0.3333333333333333,\"#9c179e\"],[0.4444444444444444,\"#bd3786\"],[0.5555555555555556,\"#d8576b\"],[0.6666666666666666,\"#ed7953\"],[0.7777777777777778,\"#fb9f3a\"],[0.8888888888888888,\"#fdca26\"],[1.0,\"#f0f921\"]]}],\"heatmapgl\":[{\"type\":\"heatmapgl\",\"colorbar\":{\"outlinewidth\":0,\"ticks\":\"\"},\"colorscale\":[[0.0,\"#0d0887\"],[0.1111111111111111,\"#46039f\"],[0.2222222222222222,\"#7201a8\"],[0.3333333333333333,\"#9c179e\"],[0.4444444444444444,\"#bd3786\"],[0.5555555555555556,\"#d8576b\"],[0.6666666666666666,\"#ed7953\"],[0.7777777777777778,\"#fb9f3a\"],[0.8888888888888888,\"#fdca26\"],[1.0,\"#f0f921\"]]}],\"contourcarpet\":[{\"type\":\"contourcarpet\",\"colorbar\":{\"outlinewidth\":0,\"ticks\":\"\"}}],\"contour\":[{\"type\":\"contour\",\"colorbar\":{\"outlinewidth\":0,\"ticks\":\"\"},\"colorscale\":[[0.0,\"#0d0887\"],[0.1111111111111111,\"#46039f\"],[0.2222222222222222,\"#7201a8\"],[0.3333333333333333,\"#9c179e\"],[0.4444444444444444,\"#bd3786\"],[0.5555555555555556,\"#d8576b\"],[0.6666666666666666,\"#ed7953\"],[0.7777777777777778,\"#fb9f3a\"],[0.8888888888888888,\"#fdca26\"],[1.0,\"#f0f921\"]]}],\"surface\":[{\"type\":\"surface\",\"colorbar\":{\"outlinewidth\":0,\"ticks\":\"\"},\"colorscale\":[[0.0,\"#0d0887\"],[0.1111111111111111,\"#46039f\"],[0.2222222222222222,\"#7201a8\"],[0.3333333333333333,\"#9c179e\"],[0.4444444444444444,\"#bd3786\"],[0.5555555555555556,\"#d8576b\"],[0.6666666666666666,\"#ed7953\"],[0.7777777777777778,\"#fb9f3a\"],[0.8888888888888888,\"#fdca26\"],[1.0,\"#f0f921\"]]}],\"mesh3d\":[{\"type\":\"mesh3d\",\"colorbar\":{\"outlinewidth\":0,\"ticks\":\"\"}}],\"scatter\":[{\"fillpattern\":{\"fillmode\":\"overlay\",\"size\":10,\"solidity\":0.2},\"type\":\"scatter\"}],\"parcoords\":[{\"type\":\"parcoords\",\"line\":{\"colorbar\":{\"outlinewidth\":0,\"ticks\":\"\"}}}],\"scatterpolargl\":[{\"type\":\"scatterpolargl\",\"marker\":{\"colorbar\":{\"outlinewidth\":0,\"ticks\":\"\"}}}],\"bar\":[{\"error_x\":{\"color\":\"#2a3f5f\"},\"error_y\":{\"color\":\"#2a3f5f\"},\"marker\":{\"line\":{\"color\":\"#E5ECF6\",\"width\":0.5},\"pattern\":{\"fillmode\":\"overlay\",\"size\":10,\"solidity\":0.2}},\"type\":\"bar\"}],\"scattergeo\":[{\"type\":\"scattergeo\",\"marker\":{\"colorbar\":{\"outlinewidth\":0,\"ticks\":\"\"}}}],\"scatterpolar\":[{\"type\":\"scatterpolar\",\"marker\":{\"colorbar\":{\"outlinewidth\":0,\"ticks\":\"\"}}}],\"histogram\":[{\"marker\":{\"pattern\":{\"fillmode\":\"overlay\",\"size\":10,\"solidity\":0.2}},\"type\":\"histogram\"}],\"scattergl\":[{\"type\":\"scattergl\",\"marker\":{\"colorbar\":{\"outlinewidth\":0,\"ticks\":\"\"}}}],\"scatter3d\":[{\"type\":\"scatter3d\",\"line\":{\"colorbar\":{\"outlinewidth\":0,\"ticks\":\"\"}},\"marker\":{\"colorbar\":{\"outlinewidth\":0,\"ticks\":\"\"}}}],\"scattermapbox\":[{\"type\":\"scattermapbox\",\"marker\":{\"colorbar\":{\"outlinewidth\":0,\"ticks\":\"\"}}}],\"scatterternary\":[{\"type\":\"scatterternary\",\"marker\":{\"colorbar\":{\"outlinewidth\":0,\"ticks\":\"\"}}}],\"scattercarpet\":[{\"type\":\"scattercarpet\",\"marker\":{\"colorbar\":{\"outlinewidth\":0,\"ticks\":\"\"}}}],\"carpet\":[{\"aaxis\":{\"endlinecolor\":\"#2a3f5f\",\"gridcolor\":\"white\",\"linecolor\":\"white\",\"minorgridcolor\":\"white\",\"startlinecolor\":\"#2a3f5f\"},\"baxis\":{\"endlinecolor\":\"#2a3f5f\",\"gridcolor\":\"white\",\"linecolor\":\"white\",\"minorgridcolor\":\"white\",\"startlinecolor\":\"#2a3f5f\"},\"type\":\"carpet\"}],\"table\":[{\"cells\":{\"fill\":{\"color\":\"#EBF0F8\"},\"line\":{\"color\":\"white\"}},\"header\":{\"fill\":{\"color\":\"#C8D4E3\"},\"line\":{\"color\":\"white\"}},\"type\":\"table\"}],\"barpolar\":[{\"marker\":{\"line\":{\"color\":\"#E5ECF6\",\"width\":0.5},\"pattern\":{\"fillmode\":\"overlay\",\"size\":10,\"solidity\":0.2}},\"type\":\"barpolar\"}],\"pie\":[{\"automargin\":true,\"type\":\"pie\"}]},\"layout\":{\"autotypenumbers\":\"strict\",\"colorway\":[\"#636efa\",\"#EF553B\",\"#00cc96\",\"#ab63fa\",\"#FFA15A\",\"#19d3f3\",\"#FF6692\",\"#B6E880\",\"#FF97FF\",\"#FECB52\"],\"font\":{\"color\":\"#2a3f5f\"},\"hovermode\":\"closest\",\"hoverlabel\":{\"align\":\"left\"},\"paper_bgcolor\":\"white\",\"plot_bgcolor\":\"#E5ECF6\",\"polar\":{\"bgcolor\":\"#E5ECF6\",\"angularaxis\":{\"gridcolor\":\"white\",\"linecolor\":\"white\",\"ticks\":\"\"},\"radialaxis\":{\"gridcolor\":\"white\",\"linecolor\":\"white\",\"ticks\":\"\"}},\"ternary\":{\"bgcolor\":\"#E5ECF6\",\"aaxis\":{\"gridcolor\":\"white\",\"linecolor\":\"white\",\"ticks\":\"\"},\"baxis\":{\"gridcolor\":\"white\",\"linecolor\":\"white\",\"ticks\":\"\"},\"caxis\":{\"gridcolor\":\"white\",\"linecolor\":\"white\",\"ticks\":\"\"}},\"coloraxis\":{\"colorbar\":{\"outlinewidth\":0,\"ticks\":\"\"}},\"colorscale\":{\"sequential\":[[0.0,\"#0d0887\"],[0.1111111111111111,\"#46039f\"],[0.2222222222222222,\"#7201a8\"],[0.3333333333333333,\"#9c179e\"],[0.4444444444444444,\"#bd3786\"],[0.5555555555555556,\"#d8576b\"],[0.6666666666666666,\"#ed7953\"],[0.7777777777777778,\"#fb9f3a\"],[0.8888888888888888,\"#fdca26\"],[1.0,\"#f0f921\"]],\"sequentialminus\":[[0.0,\"#0d0887\"],[0.1111111111111111,\"#46039f\"],[0.2222222222222222,\"#7201a8\"],[0.3333333333333333,\"#9c179e\"],[0.4444444444444444,\"#bd3786\"],[0.5555555555555556,\"#d8576b\"],[0.6666666666666666,\"#ed7953\"],[0.7777777777777778,\"#fb9f3a\"],[0.8888888888888888,\"#fdca26\"],[1.0,\"#f0f921\"]],\"diverging\":[[0,\"#8e0152\"],[0.1,\"#c51b7d\"],[0.2,\"#de77ae\"],[0.3,\"#f1b6da\"],[0.4,\"#fde0ef\"],[0.5,\"#f7f7f7\"],[0.6,\"#e6f5d0\"],[0.7,\"#b8e186\"],[0.8,\"#7fbc41\"],[0.9,\"#4d9221\"],[1,\"#276419\"]]},\"xaxis\":{\"gridcolor\":\"white\",\"linecolor\":\"white\",\"ticks\":\"\",\"title\":{\"standoff\":15},\"zerolinecolor\":\"white\",\"automargin\":true,\"zerolinewidth\":2},\"yaxis\":{\"gridcolor\":\"white\",\"linecolor\":\"white\",\"ticks\":\"\",\"title\":{\"standoff\":15},\"zerolinecolor\":\"white\",\"automargin\":true,\"zerolinewidth\":2},\"scene\":{\"xaxis\":{\"backgroundcolor\":\"#E5ECF6\",\"gridcolor\":\"white\",\"linecolor\":\"white\",\"showbackground\":true,\"ticks\":\"\",\"zerolinecolor\":\"white\",\"gridwidth\":2},\"yaxis\":{\"backgroundcolor\":\"#E5ECF6\",\"gridcolor\":\"white\",\"linecolor\":\"white\",\"showbackground\":true,\"ticks\":\"\",\"zerolinecolor\":\"white\",\"gridwidth\":2},\"zaxis\":{\"backgroundcolor\":\"#E5ECF6\",\"gridcolor\":\"white\",\"linecolor\":\"white\",\"showbackground\":true,\"ticks\":\"\",\"zerolinecolor\":\"white\",\"gridwidth\":2}},\"shapedefaults\":{\"line\":{\"color\":\"#2a3f5f\"}},\"annotationdefaults\":{\"arrowcolor\":\"#2a3f5f\",\"arrowhead\":0,\"arrowwidth\":1},\"geo\":{\"bgcolor\":\"white\",\"landcolor\":\"#E5ECF6\",\"subunitcolor\":\"white\",\"showland\":true,\"showlakes\":true,\"lakecolor\":\"white\"},\"title\":{\"x\":0.05},\"mapbox\":{\"style\":\"light\"}}},\"title\":{\"text\":\"Fig 2c s=2, b=1.2\"},\"xaxis\":{\"title\":{\"text\":\"C\"}},\"yaxis\":{\"title\":{\"text\":\"x\"}}},                        {\"responsive\": true}                    ).then(function(){\n",
       "                            \n",
       "var gd = document.getElementById('d0a163a7-0fec-4774-b9eb-f0356e7813dd');\n",
       "var x = new MutationObserver(function (mutations, observer) {{\n",
       "        var display = window.getComputedStyle(gd).display;\n",
       "        if (!display || display === 'none') {{\n",
       "            console.log([gd, 'removed!']);\n",
       "            Plotly.purge(gd);\n",
       "            observer.disconnect();\n",
       "        }}\n",
       "}});\n",
       "\n",
       "// Listen for the removal of the full notebook cells\n",
       "var notebookContainer = gd.closest('#notebook-container');\n",
       "if (notebookContainer) {{\n",
       "    x.observe(notebookContainer, {childList: true});\n",
       "}}\n",
       "\n",
       "// Listen for the clearing of the current output cell\n",
       "var outputEl = gd.closest('.output');\n",
       "if (outputEl) {{\n",
       "    x.observe(outputEl, {childList: true});\n",
       "}}\n",
       "\n",
       "                        })                };                });            </script>        </div>"
      ]
     },
     "metadata": {},
     "output_type": "display_data"
    }
   ],
   "source": [
    "s_par = 2\n",
    "b_par = 1.2\n",
    "params = {s:s_par, b:b_par, ro:1}\n",
    "#### NOTE: отбросили комплексные решения\n",
    "\n",
    "cs = []\n",
    "xs =[]\n",
    "sols_by_c = {}\n",
    "fig = go.Figure()\n",
    "\n",
    "for cur_C in np.linspace(0,5,50):\n",
    "    cur_params = {C:cur_C} | params\n",
    "    sols_by_c[cur_C] = [sol for sol in solve(dxdt.subs(cur_params), x)\n",
    "                       if sol.is_real and sol >=0]\n",
    "    for curx in sols_by_c[cur_C]:\n",
    "        cs.append(float(cur_C))\n",
    "        xs.append(float(curx))\n",
    "        k = 2# number of steps\n",
    "        fig.add_trace(get_arrow_scatter(cur_C, k, curx, cur_params, shift = 0.02))\n",
    "        \n",
    "    \n",
    "fig.add_trace(go.Scatter(x=cs, y=xs, mode='markers', name = \"\"))\n",
    "fig.update_layout(title=f\"Fig 2c s={s_par}, b={b_par}\")\n",
    "fig.update_layout(xaxis={\"title\": \"C\"}, yaxis={\"title\": \"x\"})\n"
   ]
  },
  {
   "cell_type": "code",
   "execution_count": 21,
   "id": "42efa11a-8fea-45a6-8a0b-c333ca97c57e",
   "metadata": {
    "tags": []
   },
   "outputs": [],
   "source": [
    "def display_sol_dict(sol_dict):\n",
    "    for cur_c, sols in sol_dict.items():\n",
    "        print(f\"C = {cur_c}\")\n",
    "        display(sols)\n",
    "        display(\"*\"*20)"
   ]
  },
  {
   "cell_type": "code",
   "execution_count": 22,
   "id": "412de134-aa1f-4fdf-ba6b-1e11d1c33501",
   "metadata": {
    "tags": []
   },
   "outputs": [
    {
     "data": {
      "application/vnd.plotly.v1+json": {
       "config": {
        "plotlyServerURL": "https://plot.ly"
       },
       "data": [
        {
         "marker": {
          "angleref": "previous",
          "color": "green",
          "size": 10,
          "symbol": "arrow"
         },
         "mode": "lines+markers",
         "name": "",
         "type": "scatter",
         "x": [
          0,
          0
         ],
         "y": [
          0.02,
          0.039599999999999996
         ]
        },
        {
         "marker": {
          "angleref": "previous",
          "color": "green",
          "size": 10,
          "symbol": "arrow"
         },
         "mode": "lines+markers",
         "name": "",
         "type": "scatter",
         "x": [
          0,
          0
         ],
         "y": [
          1.02,
          0.9996
         ]
        },
        {
         "marker": {
          "angleref": "previous",
          "color": "green",
          "size": 10,
          "symbol": "arrow"
         },
         "mode": "lines+markers",
         "name": "",
         "type": "scatter",
         "x": [
          0.10204081632653061,
          0.10204081632653061
         ],
         "y": [
          0.02,
          0.035868949772001155
         ]
        },
        {
         "marker": {
          "angleref": "previous",
          "color": "green",
          "size": 10,
          "symbol": "arrow"
         },
         "mode": "lines+markers",
         "name": "",
         "type": "scatter",
         "x": [
          0.10204081632653061,
          0.10204081632653061
         ],
         "y": [
          0.9522702500270915,
          0.9341130684951469
         ]
        },
        {
         "marker": {
          "angleref": "previous",
          "color": "green",
          "size": 10,
          "symbol": "arrow"
         },
         "mode": "lines+markers",
         "name": "",
         "type": "scatter",
         "x": [
          0.20408163265306123,
          0.20408163265306123
         ],
         "y": [
          0.02,
          0.03249983867490242
         ]
        },
        {
         "marker": {
          "angleref": "previous",
          "color": "green",
          "size": 10,
          "symbol": "arrow"
         },
         "mode": "lines+markers",
         "name": "",
         "type": "scatter",
         "x": [
          0.20408163265306123,
          0.20408163265306123
         ],
         "y": [
          0.8847323039726016,
          0.8687661609405046
         ]
        },
        {
         "marker": {
          "angleref": "previous",
          "color": "green",
          "size": 10,
          "symbol": "arrow"
         },
         "mode": "lines+markers",
         "name": "",
         "type": "scatter",
         "x": [
          0.30612244897959184,
          0.30612244897959184
         ],
         "y": [
          0.02,
          0.029457555968705258
         ]
        },
        {
         "marker": {
          "angleref": "previous",
          "color": "green",
          "size": 10,
          "symbol": "arrow"
         },
         "mode": "lines+markers",
         "name": "",
         "type": "scatter",
         "x": [
          0.30612244897959184,
          0.30612244897959184
         ],
         "y": [
          0.8166227722903031,
          0.8028131727301523
         ]
        },
        {
         "marker": {
          "angleref": "previous",
          "color": "green",
          "size": 10,
          "symbol": "arrow"
         },
         "mode": "lines+markers",
         "name": "",
         "type": "scatter",
         "x": [
          0.40816326530612246,
          0.40816326530612246
         ],
         "y": [
          0.02,
          0.026710396911707537
         ]
        },
        {
         "marker": {
          "angleref": "previous",
          "color": "green",
          "size": 10,
          "symbol": "arrow"
         },
         "mode": "lines+markers",
         "name": "",
         "type": "scatter",
         "x": [
          0.40816326530612246,
          0.40816326530612246
         ],
         "y": [
          0.7468336394429361,
          0.7351694132864823
         ]
        },
        {
         "marker": {
          "angleref": "previous",
          "color": "green",
          "size": 10,
          "symbol": "arrow"
         },
         "mode": "lines+markers",
         "name": "",
         "type": "scatter",
         "x": [
          0.5102040816326531,
          0.5102040816326531
         ],
         "y": [
          0.02,
          0.024229732353784787
         ]
        },
        {
         "marker": {
          "angleref": "previous",
          "color": "green",
          "size": 10,
          "symbol": "arrow"
         },
         "mode": "lines+markers",
         "name": "",
         "type": "scatter",
         "x": [
          0.5102040816326531,
          0.5102040816326531
         ],
         "y": [
          0.6735753228313205,
          0.6640804356716586
         ]
        },
        {
         "marker": {
          "angleref": "previous",
          "color": "green",
          "size": 10,
          "symbol": "arrow"
         },
         "mode": "lines+markers",
         "name": "",
         "type": "scatter",
         "x": [
          0.6122448979591837,
          0.6122448979591837
         ],
         "y": [
          0.02,
          0.02198971038153712
         ]
        },
        {
         "marker": {
          "angleref": "previous",
          "color": "green",
          "size": 10,
          "symbol": "arrow"
         },
         "mode": "lines+markers",
         "name": "",
         "type": "scatter",
         "x": [
          0.6122448979591837,
          0.6122448979591837
         ],
         "y": [
          0.5934694265614063,
          0.5862299407724164
         ]
        },
        {
         "marker": {
          "angleref": "previous",
          "color": "green",
          "size": 10,
          "symbol": "arrow"
         },
         "mode": "lines+markers",
         "name": "",
         "type": "scatter",
         "x": [
          0.7142857142857143,
          0.7142857142857143
         ],
         "y": [
          0.02,
          0.019966986906036658
         ]
        },
        {
         "marker": {
          "angleref": "previous",
          "color": "green",
          "size": 10,
          "symbol": "arrow"
         },
         "mode": "lines+markers",
         "name": "",
         "type": "scatter",
         "x": [
          0.7142857142857143,
          0.7142857142857143
         ],
         "y": [
          0.04187358864665626,
          0.04254782232870679
         ]
        },
        {
         "marker": {
          "angleref": "previous",
          "color": "green",
          "size": 10,
          "symbol": "arrow"
         },
         "mode": "lines+markers",
         "name": "",
         "type": "scatter",
         "x": [
          0.7142857142857143,
          0.7142857142857143
         ],
         "y": [
          0.49812641135334373,
          0.4933728228945399
         ]
        },
        {
         "marker": {
          "angleref": "previous",
          "color": "green",
          "size": 10,
          "symbol": "arrow"
         },
         "mode": "lines+markers",
         "name": "",
         "type": "scatter",
         "x": [
          0.8163265306122449,
          0.8163265306122449
         ],
         "y": [
          0.02,
          0.018140482385531755
         ]
        },
        {
         "marker": {
          "angleref": "previous",
          "color": "green",
          "size": 10,
          "symbol": "arrow"
         },
         "mode": "lines+markers",
         "name": "",
         "type": "scatter",
         "x": [
          0.8163265306122449,
          0.8163265306122449
         ],
         "y": [
          0.20252747208066826,
          0.20319020862869921
         ]
        },
        {
         "marker": {
          "angleref": "previous",
          "color": "green",
          "size": 10,
          "symbol": "arrow"
         },
         "mode": "lines+markers",
         "name": "",
         "type": "scatter",
         "x": [
          0.8163265306122449,
          0.8163265306122449
         ],
         "y": [
          0.33747252791933174,
          0.33622377771107415
         ]
        },
        {
         "marker": {
          "angleref": "previous",
          "color": "green",
          "size": 10,
          "symbol": "arrow"
         },
         "mode": "lines+markers",
         "name": "",
         "type": "scatter",
         "x": [
          0.9183673469387755,
          0.9183673469387755
         ],
         "y": [
          0.02,
          0.016491162147826293
         ]
        },
        {
         "marker": {
          "angleref": "previous",
          "color": "green",
          "size": 10,
          "symbol": "arrow"
         },
         "mode": "lines+markers",
         "name": "",
         "type": "scatter",
         "x": [
          1.0204081632653061,
          1.0204081632653061
         ],
         "y": [
          0.02,
          0.015001838022993118
         ]
        },
        {
         "marker": {
          "angleref": "previous",
          "color": "green",
          "size": 10,
          "symbol": "arrow"
         },
         "mode": "lines+markers",
         "name": "",
         "type": "scatter",
         "x": [
          1.1224489795918369,
          1.1224489795918369
         ],
         "y": [
          0.02,
          0.013656989219163536
         ]
        },
        {
         "marker": {
          "angleref": "previous",
          "color": "green",
          "size": 10,
          "symbol": "arrow"
         },
         "mode": "lines+markers",
         "name": "",
         "type": "scatter",
         "x": [
          1.2244897959183674,
          1.2244897959183674
         ],
         "y": [
          0.02,
          0.01244260057467392
         ]
        },
        {
         "marker": {
          "angleref": "previous",
          "color": "green",
          "size": 10,
          "symbol": "arrow"
         },
         "mode": "lines+markers",
         "name": "",
         "type": "scatter",
         "x": [
          1.3265306122448979,
          1.3265306122448979
         ],
         "y": [
          0.02,
          0.011346016500935759
         ]
        },
        {
         "marker": {
          "angleref": "previous",
          "color": "green",
          "size": 10,
          "symbol": "arrow"
         },
         "mode": "lines+markers",
         "name": "",
         "type": "scatter",
         "x": [
          1.4285714285714286,
          1.4285714285714286
         ],
         "y": [
          0.02,
          0.010355809093914453
         ]
        },
        {
         "marker": {
          "angleref": "previous",
          "color": "green",
          "size": 10,
          "symbol": "arrow"
         },
         "mode": "lines+markers",
         "name": "",
         "type": "scatter",
         "x": [
          1.5306122448979593,
          1.5306122448979593
         ],
         "y": [
          0.02,
          0.009461659039758206
         ]
        },
        {
         "marker": {
          "angleref": "previous",
          "color": "green",
          "size": 10,
          "symbol": "arrow"
         },
         "mode": "lines+markers",
         "name": "",
         "type": "scatter",
         "x": [
          1.6326530612244898,
          1.6326530612244898
         ],
         "y": [
          0.02,
          0.008654248073451005
         ]
        },
        {
         "marker": {
          "angleref": "previous",
          "color": "green",
          "size": 10,
          "symbol": "arrow"
         },
         "mode": "lines+markers",
         "name": "",
         "type": "scatter",
         "x": [
          1.7346938775510203,
          1.7346938775510203
         ],
         "y": [
          0.02,
          0.007925161869761967
         ]
        },
        {
         "marker": {
          "angleref": "previous",
          "color": "green",
          "size": 10,
          "symbol": "arrow"
         },
         "mode": "lines+markers",
         "name": "",
         "type": "scatter",
         "x": [
          1.836734693877551,
          1.836734693877551
         ],
         "y": [
          0.02,
          0.007266802354482051
         ]
        },
        {
         "marker": {
          "angleref": "previous",
          "color": "green",
          "size": 10,
          "symbol": "arrow"
         },
         "mode": "lines+markers",
         "name": "",
         "type": "scatter",
         "x": [
          1.9387755102040818,
          1.9387755102040818
         ],
         "y": [
          0.02,
          0.006672308522111483
         ]
        },
        {
         "marker": {
          "angleref": "previous",
          "color": "green",
          "size": 10,
          "symbol": "arrow"
         },
         "mode": "lines+markers",
         "name": "",
         "type": "scatter",
         "x": [
          2.0408163265306123,
          2.0408163265306123
         ],
         "y": [
          0.02,
          0.0061354849348099795
         ]
        },
        {
         "marker": {
          "angleref": "previous",
          "color": "green",
          "size": 10,
          "symbol": "arrow"
         },
         "mode": "lines+markers",
         "name": "",
         "type": "scatter",
         "x": [
          2.142857142857143,
          2.142857142857143
         ],
         "y": [
          0.02,
          0.005650737157471185
         ]
        },
        {
         "marker": {
          "angleref": "previous",
          "color": "green",
          "size": 10,
          "symbol": "arrow"
         },
         "mode": "lines+markers",
         "name": "",
         "type": "scatter",
         "x": [
          2.2448979591836737,
          2.2448979591836737
         ],
         "y": [
          0.02,
          0.005213013456066595
         ]
        },
        {
         "marker": {
          "angleref": "previous",
          "color": "green",
          "size": 10,
          "symbol": "arrow"
         },
         "mode": "lines+markers",
         "name": "",
         "type": "scatter",
         "x": [
          2.3469387755102042,
          2.3469387755102042
         ],
         "y": [
          0.02,
          0.004817752151676085
         ]
        },
        {
         "marker": {
          "angleref": "previous",
          "color": "green",
          "size": 10,
          "symbol": "arrow"
         },
         "mode": "lines+markers",
         "name": "",
         "type": "scatter",
         "x": [
          2.4489795918367347,
          2.4489795918367347
         ],
         "y": [
          0.02,
          0.004460834081562073
         ]
        },
        {
         "marker": {
          "angleref": "previous",
          "color": "green",
          "size": 10,
          "symbol": "arrow"
         },
         "mode": "lines+markers",
         "name": "",
         "type": "scatter",
         "x": [
          2.5510204081632653,
          2.5510204081632653
         ],
         "y": [
          0.02,
          0.004138539671866833
         ]
        },
        {
         "marker": {
          "angleref": "previous",
          "color": "green",
          "size": 10,
          "symbol": "arrow"
         },
         "mode": "lines+markers",
         "name": "",
         "type": "scatter",
         "x": [
          2.6530612244897958,
          2.6530612244897958
         ],
         "y": [
          0.02,
          0.003847510174571772
         ]
        },
        {
         "marker": {
          "angleref": "previous",
          "color": "green",
          "size": 10,
          "symbol": "arrow"
         },
         "mode": "lines+markers",
         "name": "",
         "type": "scatter",
         "x": [
          2.7551020408163267,
          2.7551020408163267
         ],
         "y": [
          0.02,
          0.0035847126647548765
         ]
        },
        {
         "marker": {
          "angleref": "previous",
          "color": "green",
          "size": 10,
          "symbol": "arrow"
         },
         "mode": "lines+markers",
         "name": "",
         "type": "scatter",
         "x": [
          2.857142857142857,
          2.857142857142857
         ],
         "y": [
          0.02,
          0.0033474084333698986
         ]
        },
        {
         "marker": {
          "angleref": "previous",
          "color": "green",
          "size": 10,
          "symbol": "arrow"
         },
         "mode": "lines+markers",
         "name": "",
         "type": "scatter",
         "x": [
          2.9591836734693877,
          2.9591836734693877
         ],
         "y": [
          0.02,
          0.0031331244461568833
         ]
        },
        {
         "marker": {
          "angleref": "previous",
          "color": "green",
          "size": 10,
          "symbol": "arrow"
         },
         "mode": "lines+markers",
         "name": "",
         "type": "scatter",
         "x": [
          3.0612244897959187,
          3.0612244897959187
         ],
         "y": [
          0.02,
          0.0029396275712469076
         ]
        },
        {
         "marker": {
          "angleref": "previous",
          "color": "green",
          "size": 10,
          "symbol": "arrow"
         },
         "mode": "lines+markers",
         "name": "",
         "type": "scatter",
         "x": [
          3.163265306122449,
          3.163265306122449
         ],
         "y": [
          0.02,
          0.00276490130687743
         ]
        },
        {
         "marker": {
          "angleref": "previous",
          "color": "green",
          "size": 10,
          "symbol": "arrow"
         },
         "mode": "lines+markers",
         "name": "",
         "type": "scatter",
         "x": [
          3.2653061224489797,
          3.2653061224489797
         ],
         "y": [
          0.02,
          0.0026071247666892908
         ]
        },
        {
         "marker": {
          "angleref": "previous",
          "color": "green",
          "size": 10,
          "symbol": "arrow"
         },
         "mode": "lines+markers",
         "name": "",
         "type": "scatter",
         "x": [
          3.36734693877551,
          3.36734693877551
         ],
         "y": [
          0.02,
          0.0024646537036034435
         ]
        },
        {
         "marker": {
          "angleref": "previous",
          "color": "green",
          "size": 10,
          "symbol": "arrow"
         },
         "mode": "lines+markers",
         "name": "",
         "type": "scatter",
         "x": [
          3.4693877551020407,
          3.4693877551020407
         ],
         "y": [
          0.02,
          0.0023360033745202444
         ]
        },
        {
         "marker": {
          "angleref": "previous",
          "color": "green",
          "size": 10,
          "symbol": "arrow"
         },
         "mode": "lines+markers",
         "name": "",
         "type": "scatter",
         "x": [
          3.5714285714285716,
          3.5714285714285716
         ],
         "y": [
          0.02,
          0.0022198330672681538
         ]
        },
        {
         "marker": {
          "angleref": "previous",
          "color": "green",
          "size": 10,
          "symbol": "arrow"
         },
         "mode": "lines+markers",
         "name": "",
         "type": "scatter",
         "x": [
          3.673469387755102,
          3.673469387755102
         ],
         "y": [
          0.02,
          0.002114932128551416
         ]
        },
        {
         "marker": {
          "angleref": "previous",
          "color": "green",
          "size": 10,
          "symbol": "arrow"
         },
         "mode": "lines+markers",
         "name": "",
         "type": "scatter",
         "x": [
          3.7755102040816326,
          3.7755102040816326
         ],
         "y": [
          0.02,
          0.002020207347288902
         ]
        },
        {
         "marker": {
          "angleref": "previous",
          "color": "green",
          "size": 10,
          "symbol": "arrow"
         },
         "mode": "lines+markers",
         "name": "",
         "type": "scatter",
         "x": [
          3.8775510204081636,
          3.8775510204081636
         ],
         "y": [
          0.02,
          0.0019346715618612786
         ]
        },
        {
         "marker": {
          "angleref": "previous",
          "color": "green",
          "size": 10,
          "symbol": "arrow"
         },
         "mode": "lines+markers",
         "name": "",
         "type": "scatter",
         "x": [
          3.979591836734694,
          3.979591836734694
         ],
         "y": [
          0.02,
          0.0018574333725384258
         ]
        },
        {
         "marker": {
          "angleref": "previous",
          "color": "green",
          "size": 10,
          "symbol": "arrow"
         },
         "mode": "lines+markers",
         "name": "",
         "type": "scatter",
         "x": [
          4.081632653061225,
          4.081632653061225
         ],
         "y": [
          0.02,
          0.0017876878518765342
         ]
        },
        {
         "marker": {
          "angleref": "previous",
          "color": "green",
          "size": 10,
          "symbol": "arrow"
         },
         "mode": "lines+markers",
         "name": "",
         "type": "scatter",
         "x": [
          4.183673469387755,
          4.183673469387755
         ],
         "y": [
          0.02,
          0.0017247081562745993
         ]
        },
        {
         "marker": {
          "angleref": "previous",
          "color": "green",
          "size": 10,
          "symbol": "arrow"
         },
         "mode": "lines+markers",
         "name": "",
         "type": "scatter",
         "x": [
          4.285714285714286,
          4.285714285714286
         ],
         "y": [
          0.02,
          0.0016678379512711679
         ]
        },
        {
         "marker": {
          "angleref": "previous",
          "color": "green",
          "size": 10,
          "symbol": "arrow"
         },
         "mode": "lines+markers",
         "name": "",
         "type": "scatter",
         "x": [
          4.387755102040816,
          4.387755102040816
         ],
         "y": [
          0.02,
          0.0016164845716426929
         ]
        },
        {
         "marker": {
          "angleref": "previous",
          "color": "green",
          "size": 10,
          "symbol": "arrow"
         },
         "mode": "lines+markers",
         "name": "",
         "type": "scatter",
         "x": [
          4.4897959183673475,
          4.4897959183673475
         ],
         "y": [
          0.02,
          0.0015701128450222729
         ]
        },
        {
         "marker": {
          "angleref": "previous",
          "color": "green",
          "size": 10,
          "symbol": "arrow"
         },
         "mode": "lines+markers",
         "name": "",
         "type": "scatter",
         "x": [
          4.591836734693878,
          4.591836734693878
         ],
         "y": [
          0.02,
          0.0015282395146725275
         ]
        },
        {
         "marker": {
          "angleref": "previous",
          "color": "green",
          "size": 10,
          "symbol": "arrow"
         },
         "mode": "lines+markers",
         "name": "",
         "type": "scatter",
         "x": [
          4.6938775510204085,
          4.6938775510204085
         ],
         "y": [
          0.02,
          0.0014904282032902443
         ]
        },
        {
         "marker": {
          "angleref": "previous",
          "color": "green",
          "size": 10,
          "symbol": "arrow"
         },
         "mode": "lines+markers",
         "name": "",
         "type": "scatter",
         "x": [
          4.795918367346939,
          4.795918367346939
         ],
         "y": [
          0.02,
          0.001456284865358759
         ]
        },
        {
         "marker": {
          "angleref": "previous",
          "color": "green",
          "size": 10,
          "symbol": "arrow"
         },
         "mode": "lines+markers",
         "name": "",
         "type": "scatter",
         "x": [
          4.8979591836734695,
          4.8979591836734695
         ],
         "y": [
          0.02,
          0.0014254536806553933
         ]
        },
        {
         "marker": {
          "angleref": "previous",
          "color": "green",
          "size": 10,
          "symbol": "arrow"
         },
         "mode": "lines+markers",
         "name": "",
         "type": "scatter",
         "x": [
          5,
          5
         ],
         "y": [
          0.02,
          0.0013976133461186709
         ]
        },
        {
         "mode": "markers",
         "name": "",
         "type": "scatter",
         "x": [
          0,
          0,
          0.10204081632653061,
          0.10204081632653061,
          0.20408163265306123,
          0.20408163265306123,
          0.30612244897959184,
          0.30612244897959184,
          0.40816326530612246,
          0.40816326530612246,
          0.5102040816326531,
          0.5102040816326531,
          0.6122448979591837,
          0.6122448979591837,
          0.7142857142857143,
          0.7142857142857143,
          0.7142857142857143,
          0.8163265306122449,
          0.8163265306122449,
          0.8163265306122449,
          0.9183673469387755,
          1.0204081632653061,
          1.1224489795918369,
          1.2244897959183674,
          1.3265306122448979,
          1.4285714285714286,
          1.5306122448979593,
          1.6326530612244898,
          1.7346938775510203,
          1.836734693877551,
          1.9387755102040818,
          2.0408163265306123,
          2.142857142857143,
          2.2448979591836737,
          2.3469387755102042,
          2.4489795918367347,
          2.5510204081632653,
          2.6530612244897958,
          2.7551020408163267,
          2.857142857142857,
          2.9591836734693877,
          3.0612244897959187,
          3.163265306122449,
          3.2653061224489797,
          3.36734693877551,
          3.4693877551020407,
          3.5714285714285716,
          3.673469387755102,
          3.7755102040816326,
          3.8775510204081636,
          3.979591836734694,
          4.081632653061225,
          4.183673469387755,
          4.285714285714286,
          4.387755102040816,
          4.4897959183673475,
          4.591836734693878,
          4.6938775510204085,
          4.795918367346939,
          4.8979591836734695,
          5
         ],
         "y": [
          0,
          1,
          0,
          0.9322702500270915,
          0,
          0.8647323039726016,
          0,
          0.7966227722903031,
          0,
          0.7268336394429361,
          0,
          0.6535753228313205,
          0,
          0.5734694265614063,
          0,
          0.02187358864665626,
          0.4781264113533437,
          0,
          0.18252747208066827,
          0.3174725279193317,
          0,
          0,
          0,
          0,
          0,
          0,
          0,
          0,
          0,
          0,
          0,
          0,
          0,
          0,
          0,
          0,
          0,
          0,
          0,
          0,
          0,
          0,
          0,
          0,
          0,
          0,
          0,
          0,
          0,
          0,
          0,
          0,
          0,
          0,
          0,
          0,
          0,
          0,
          0,
          0,
          0
         ]
        }
       ],
       "layout": {
        "autosize": true,
        "template": {
         "data": {
          "bar": [
           {
            "error_x": {
             "color": "#2a3f5f"
            },
            "error_y": {
             "color": "#2a3f5f"
            },
            "marker": {
             "line": {
              "color": "#E5ECF6",
              "width": 0.5
             },
             "pattern": {
              "fillmode": "overlay",
              "size": 10,
              "solidity": 0.2
             }
            },
            "type": "bar"
           }
          ],
          "barpolar": [
           {
            "marker": {
             "line": {
              "color": "#E5ECF6",
              "width": 0.5
             },
             "pattern": {
              "fillmode": "overlay",
              "size": 10,
              "solidity": 0.2
             }
            },
            "type": "barpolar"
           }
          ],
          "carpet": [
           {
            "aaxis": {
             "endlinecolor": "#2a3f5f",
             "gridcolor": "white",
             "linecolor": "white",
             "minorgridcolor": "white",
             "startlinecolor": "#2a3f5f"
            },
            "baxis": {
             "endlinecolor": "#2a3f5f",
             "gridcolor": "white",
             "linecolor": "white",
             "minorgridcolor": "white",
             "startlinecolor": "#2a3f5f"
            },
            "type": "carpet"
           }
          ],
          "choropleth": [
           {
            "colorbar": {
             "outlinewidth": 0,
             "ticks": ""
            },
            "type": "choropleth"
           }
          ],
          "contour": [
           {
            "colorbar": {
             "outlinewidth": 0,
             "ticks": ""
            },
            "colorscale": [
             [
              0,
              "#0d0887"
             ],
             [
              0.1111111111111111,
              "#46039f"
             ],
             [
              0.2222222222222222,
              "#7201a8"
             ],
             [
              0.3333333333333333,
              "#9c179e"
             ],
             [
              0.4444444444444444,
              "#bd3786"
             ],
             [
              0.5555555555555556,
              "#d8576b"
             ],
             [
              0.6666666666666666,
              "#ed7953"
             ],
             [
              0.7777777777777778,
              "#fb9f3a"
             ],
             [
              0.8888888888888888,
              "#fdca26"
             ],
             [
              1,
              "#f0f921"
             ]
            ],
            "type": "contour"
           }
          ],
          "contourcarpet": [
           {
            "colorbar": {
             "outlinewidth": 0,
             "ticks": ""
            },
            "type": "contourcarpet"
           }
          ],
          "heatmap": [
           {
            "colorbar": {
             "outlinewidth": 0,
             "ticks": ""
            },
            "colorscale": [
             [
              0,
              "#0d0887"
             ],
             [
              0.1111111111111111,
              "#46039f"
             ],
             [
              0.2222222222222222,
              "#7201a8"
             ],
             [
              0.3333333333333333,
              "#9c179e"
             ],
             [
              0.4444444444444444,
              "#bd3786"
             ],
             [
              0.5555555555555556,
              "#d8576b"
             ],
             [
              0.6666666666666666,
              "#ed7953"
             ],
             [
              0.7777777777777778,
              "#fb9f3a"
             ],
             [
              0.8888888888888888,
              "#fdca26"
             ],
             [
              1,
              "#f0f921"
             ]
            ],
            "type": "heatmap"
           }
          ],
          "heatmapgl": [
           {
            "colorbar": {
             "outlinewidth": 0,
             "ticks": ""
            },
            "colorscale": [
             [
              0,
              "#0d0887"
             ],
             [
              0.1111111111111111,
              "#46039f"
             ],
             [
              0.2222222222222222,
              "#7201a8"
             ],
             [
              0.3333333333333333,
              "#9c179e"
             ],
             [
              0.4444444444444444,
              "#bd3786"
             ],
             [
              0.5555555555555556,
              "#d8576b"
             ],
             [
              0.6666666666666666,
              "#ed7953"
             ],
             [
              0.7777777777777778,
              "#fb9f3a"
             ],
             [
              0.8888888888888888,
              "#fdca26"
             ],
             [
              1,
              "#f0f921"
             ]
            ],
            "type": "heatmapgl"
           }
          ],
          "histogram": [
           {
            "marker": {
             "pattern": {
              "fillmode": "overlay",
              "size": 10,
              "solidity": 0.2
             }
            },
            "type": "histogram"
           }
          ],
          "histogram2d": [
           {
            "colorbar": {
             "outlinewidth": 0,
             "ticks": ""
            },
            "colorscale": [
             [
              0,
              "#0d0887"
             ],
             [
              0.1111111111111111,
              "#46039f"
             ],
             [
              0.2222222222222222,
              "#7201a8"
             ],
             [
              0.3333333333333333,
              "#9c179e"
             ],
             [
              0.4444444444444444,
              "#bd3786"
             ],
             [
              0.5555555555555556,
              "#d8576b"
             ],
             [
              0.6666666666666666,
              "#ed7953"
             ],
             [
              0.7777777777777778,
              "#fb9f3a"
             ],
             [
              0.8888888888888888,
              "#fdca26"
             ],
             [
              1,
              "#f0f921"
             ]
            ],
            "type": "histogram2d"
           }
          ],
          "histogram2dcontour": [
           {
            "colorbar": {
             "outlinewidth": 0,
             "ticks": ""
            },
            "colorscale": [
             [
              0,
              "#0d0887"
             ],
             [
              0.1111111111111111,
              "#46039f"
             ],
             [
              0.2222222222222222,
              "#7201a8"
             ],
             [
              0.3333333333333333,
              "#9c179e"
             ],
             [
              0.4444444444444444,
              "#bd3786"
             ],
             [
              0.5555555555555556,
              "#d8576b"
             ],
             [
              0.6666666666666666,
              "#ed7953"
             ],
             [
              0.7777777777777778,
              "#fb9f3a"
             ],
             [
              0.8888888888888888,
              "#fdca26"
             ],
             [
              1,
              "#f0f921"
             ]
            ],
            "type": "histogram2dcontour"
           }
          ],
          "mesh3d": [
           {
            "colorbar": {
             "outlinewidth": 0,
             "ticks": ""
            },
            "type": "mesh3d"
           }
          ],
          "parcoords": [
           {
            "line": {
             "colorbar": {
              "outlinewidth": 0,
              "ticks": ""
             }
            },
            "type": "parcoords"
           }
          ],
          "pie": [
           {
            "automargin": true,
            "type": "pie"
           }
          ],
          "scatter": [
           {
            "fillpattern": {
             "fillmode": "overlay",
             "size": 10,
             "solidity": 0.2
            },
            "type": "scatter"
           }
          ],
          "scatter3d": [
           {
            "line": {
             "colorbar": {
              "outlinewidth": 0,
              "ticks": ""
             }
            },
            "marker": {
             "colorbar": {
              "outlinewidth": 0,
              "ticks": ""
             }
            },
            "type": "scatter3d"
           }
          ],
          "scattercarpet": [
           {
            "marker": {
             "colorbar": {
              "outlinewidth": 0,
              "ticks": ""
             }
            },
            "type": "scattercarpet"
           }
          ],
          "scattergeo": [
           {
            "marker": {
             "colorbar": {
              "outlinewidth": 0,
              "ticks": ""
             }
            },
            "type": "scattergeo"
           }
          ],
          "scattergl": [
           {
            "marker": {
             "colorbar": {
              "outlinewidth": 0,
              "ticks": ""
             }
            },
            "type": "scattergl"
           }
          ],
          "scattermapbox": [
           {
            "marker": {
             "colorbar": {
              "outlinewidth": 0,
              "ticks": ""
             }
            },
            "type": "scattermapbox"
           }
          ],
          "scatterpolar": [
           {
            "marker": {
             "colorbar": {
              "outlinewidth": 0,
              "ticks": ""
             }
            },
            "type": "scatterpolar"
           }
          ],
          "scatterpolargl": [
           {
            "marker": {
             "colorbar": {
              "outlinewidth": 0,
              "ticks": ""
             }
            },
            "type": "scatterpolargl"
           }
          ],
          "scatterternary": [
           {
            "marker": {
             "colorbar": {
              "outlinewidth": 0,
              "ticks": ""
             }
            },
            "type": "scatterternary"
           }
          ],
          "surface": [
           {
            "colorbar": {
             "outlinewidth": 0,
             "ticks": ""
            },
            "colorscale": [
             [
              0,
              "#0d0887"
             ],
             [
              0.1111111111111111,
              "#46039f"
             ],
             [
              0.2222222222222222,
              "#7201a8"
             ],
             [
              0.3333333333333333,
              "#9c179e"
             ],
             [
              0.4444444444444444,
              "#bd3786"
             ],
             [
              0.5555555555555556,
              "#d8576b"
             ],
             [
              0.6666666666666666,
              "#ed7953"
             ],
             [
              0.7777777777777778,
              "#fb9f3a"
             ],
             [
              0.8888888888888888,
              "#fdca26"
             ],
             [
              1,
              "#f0f921"
             ]
            ],
            "type": "surface"
           }
          ],
          "table": [
           {
            "cells": {
             "fill": {
              "color": "#EBF0F8"
             },
             "line": {
              "color": "white"
             }
            },
            "header": {
             "fill": {
              "color": "#C8D4E3"
             },
             "line": {
              "color": "white"
             }
            },
            "type": "table"
           }
          ]
         },
         "layout": {
          "annotationdefaults": {
           "arrowcolor": "#2a3f5f",
           "arrowhead": 0,
           "arrowwidth": 1
          },
          "autotypenumbers": "strict",
          "coloraxis": {
           "colorbar": {
            "outlinewidth": 0,
            "ticks": ""
           }
          },
          "colorscale": {
           "diverging": [
            [
             0,
             "#8e0152"
            ],
            [
             0.1,
             "#c51b7d"
            ],
            [
             0.2,
             "#de77ae"
            ],
            [
             0.3,
             "#f1b6da"
            ],
            [
             0.4,
             "#fde0ef"
            ],
            [
             0.5,
             "#f7f7f7"
            ],
            [
             0.6,
             "#e6f5d0"
            ],
            [
             0.7,
             "#b8e186"
            ],
            [
             0.8,
             "#7fbc41"
            ],
            [
             0.9,
             "#4d9221"
            ],
            [
             1,
             "#276419"
            ]
           ],
           "sequential": [
            [
             0,
             "#0d0887"
            ],
            [
             0.1111111111111111,
             "#46039f"
            ],
            [
             0.2222222222222222,
             "#7201a8"
            ],
            [
             0.3333333333333333,
             "#9c179e"
            ],
            [
             0.4444444444444444,
             "#bd3786"
            ],
            [
             0.5555555555555556,
             "#d8576b"
            ],
            [
             0.6666666666666666,
             "#ed7953"
            ],
            [
             0.7777777777777778,
             "#fb9f3a"
            ],
            [
             0.8888888888888888,
             "#fdca26"
            ],
            [
             1,
             "#f0f921"
            ]
           ],
           "sequentialminus": [
            [
             0,
             "#0d0887"
            ],
            [
             0.1111111111111111,
             "#46039f"
            ],
            [
             0.2222222222222222,
             "#7201a8"
            ],
            [
             0.3333333333333333,
             "#9c179e"
            ],
            [
             0.4444444444444444,
             "#bd3786"
            ],
            [
             0.5555555555555556,
             "#d8576b"
            ],
            [
             0.6666666666666666,
             "#ed7953"
            ],
            [
             0.7777777777777778,
             "#fb9f3a"
            ],
            [
             0.8888888888888888,
             "#fdca26"
            ],
            [
             1,
             "#f0f921"
            ]
           ]
          },
          "colorway": [
           "#636efa",
           "#EF553B",
           "#00cc96",
           "#ab63fa",
           "#FFA15A",
           "#19d3f3",
           "#FF6692",
           "#B6E880",
           "#FF97FF",
           "#FECB52"
          ],
          "font": {
           "color": "#2a3f5f"
          },
          "geo": {
           "bgcolor": "white",
           "lakecolor": "white",
           "landcolor": "#E5ECF6",
           "showlakes": true,
           "showland": true,
           "subunitcolor": "white"
          },
          "hoverlabel": {
           "align": "left"
          },
          "hovermode": "closest",
          "mapbox": {
           "style": "light"
          },
          "paper_bgcolor": "white",
          "plot_bgcolor": "#E5ECF6",
          "polar": {
           "angularaxis": {
            "gridcolor": "white",
            "linecolor": "white",
            "ticks": ""
           },
           "bgcolor": "#E5ECF6",
           "radialaxis": {
            "gridcolor": "white",
            "linecolor": "white",
            "ticks": ""
           }
          },
          "scene": {
           "xaxis": {
            "backgroundcolor": "#E5ECF6",
            "gridcolor": "white",
            "gridwidth": 2,
            "linecolor": "white",
            "showbackground": true,
            "ticks": "",
            "zerolinecolor": "white"
           },
           "yaxis": {
            "backgroundcolor": "#E5ECF6",
            "gridcolor": "white",
            "gridwidth": 2,
            "linecolor": "white",
            "showbackground": true,
            "ticks": "",
            "zerolinecolor": "white"
           },
           "zaxis": {
            "backgroundcolor": "#E5ECF6",
            "gridcolor": "white",
            "gridwidth": 2,
            "linecolor": "white",
            "showbackground": true,
            "ticks": "",
            "zerolinecolor": "white"
           }
          },
          "shapedefaults": {
           "line": {
            "color": "#2a3f5f"
           }
          },
          "ternary": {
           "aaxis": {
            "gridcolor": "white",
            "linecolor": "white",
            "ticks": ""
           },
           "baxis": {
            "gridcolor": "white",
            "linecolor": "white",
            "ticks": ""
           },
           "bgcolor": "#E5ECF6",
           "caxis": {
            "gridcolor": "white",
            "linecolor": "white",
            "ticks": ""
           }
          },
          "title": {
           "x": 0.05
          },
          "xaxis": {
           "automargin": true,
           "gridcolor": "white",
           "linecolor": "white",
           "ticks": "",
           "title": {
            "standoff": 15
           },
           "zerolinecolor": "white",
           "zerolinewidth": 2
          },
          "yaxis": {
           "automargin": true,
           "gridcolor": "white",
           "linecolor": "white",
           "ticks": "",
           "title": {
            "standoff": 15
           },
           "zerolinecolor": "white",
           "zerolinewidth": 2
          }
         }
        },
        "title": {
         "text": "Fig 2d s=2, b=2"
        },
        "xaxis": {
         "autorange": true,
         "range": [
          -0.32907371842221894,
          5.329073718422219
         ],
         "title": {
          "text": "C"
         },
         "type": "linear"
        },
        "yaxis": {
         "autorange": true,
         "range": [
          -0.10250664348646789,
          1.1239042568325865
         ],
         "title": {
          "text": "x"
         },
         "type": "linear"
        }
       }
      },
      "image/png": "[encoded data removed]",
      "text/html": [
       "<div>                            <div id=\"0860e969-c0d3-4e7e-86b8-90a279a2883b\" class=\"plotly-graph-div\" style=\"height:525px; width:100%;\"></div>            <script type=\"text/javascript\">                require([\"plotly\"], function(Plotly) {                    window.PLOTLYENV=window.PLOTLYENV || {};                                    if (document.getElementById(\"0860e969-c0d3-4e7e-86b8-90a279a2883b\")) {                    Plotly.newPlot(                        \"0860e969-c0d3-4e7e-86b8-90a279a2883b\",                        [{\"marker\":{\"angleref\":\"previous\",\"color\":\"green\",\"size\":10,\"symbol\":\"arrow\"},\"mode\":\"lines+markers\",\"name\":\"\",\"x\":[0.0,0.0],\"y\":[0.02,0.039599999999999996],\"type\":\"scatter\"},{\"marker\":{\"angleref\":\"previous\",\"color\":\"green\",\"size\":10,\"symbol\":\"arrow\"},\"mode\":\"lines+markers\",\"name\":\"\",\"x\":[0.0,0.0],\"y\":[1.02,0.9996],\"type\":\"scatter\"},{\"marker\":{\"angleref\":\"previous\",\"color\":\"green\",\"size\":10,\"symbol\":\"arrow\"},\"mode\":\"lines+markers\",\"name\":\"\",\"x\":[0.10204081632653061,0.10204081632653061],\"y\":[0.02,0.035868949772001155],\"type\":\"scatter\"},{\"marker\":{\"angleref\":\"previous\",\"color\":\"green\",\"size\":10,\"symbol\":\"arrow\"},\"mode\":\"lines+markers\",\"name\":\"\",\"x\":[0.10204081632653061,0.10204081632653061],\"y\":[0.9522702500270915,0.9341130684951469],\"type\":\"scatter\"},{\"marker\":{\"angleref\":\"previous\",\"color\":\"green\",\"size\":10,\"symbol\":\"arrow\"},\"mode\":\"lines+markers\",\"name\":\"\",\"x\":[0.20408163265306123,0.20408163265306123],\"y\":[0.02,0.03249983867490242],\"type\":\"scatter\"},{\"marker\":{\"angleref\":\"previous\",\"color\":\"green\",\"size\":10,\"symbol\":\"arrow\"},\"mode\":\"lines+markers\",\"name\":\"\",\"x\":[0.20408163265306123,0.20408163265306123],\"y\":[0.8847323039726016,0.8687661609405046],\"type\":\"scatter\"},{\"marker\":{\"angleref\":\"previous\",\"color\":\"green\",\"size\":10,\"symbol\":\"arrow\"},\"mode\":\"lines+markers\",\"name\":\"\",\"x\":[0.30612244897959184,0.30612244897959184],\"y\":[0.02,0.029457555968705258],\"type\":\"scatter\"},{\"marker\":{\"angleref\":\"previous\",\"color\":\"green\",\"size\":10,\"symbol\":\"arrow\"},\"mode\":\"lines+markers\",\"name\":\"\",\"x\":[0.30612244897959184,0.30612244897959184],\"y\":[0.8166227722903031,0.8028131727301523],\"type\":\"scatter\"},{\"marker\":{\"angleref\":\"previous\",\"color\":\"green\",\"size\":10,\"symbol\":\"arrow\"},\"mode\":\"lines+markers\",\"name\":\"\",\"x\":[0.40816326530612246,0.40816326530612246],\"y\":[0.02,0.026710396911707537],\"type\":\"scatter\"},{\"marker\":{\"angleref\":\"previous\",\"color\":\"green\",\"size\":10,\"symbol\":\"arrow\"},\"mode\":\"lines+markers\",\"name\":\"\",\"x\":[0.40816326530612246,0.40816326530612246],\"y\":[0.7468336394429361,0.7351694132864823],\"type\":\"scatter\"},{\"marker\":{\"angleref\":\"previous\",\"color\":\"green\",\"size\":10,\"symbol\":\"arrow\"},\"mode\":\"lines+markers\",\"name\":\"\",\"x\":[0.5102040816326531,0.5102040816326531],\"y\":[0.02,0.024229732353784787],\"type\":\"scatter\"},{\"marker\":{\"angleref\":\"previous\",\"color\":\"green\",\"size\":10,\"symbol\":\"arrow\"},\"mode\":\"lines+markers\",\"name\":\"\",\"x\":[0.5102040816326531,0.5102040816326531],\"y\":[0.6735753228313205,0.6640804356716586],\"type\":\"scatter\"},{\"marker\":{\"angleref\":\"previous\",\"color\":\"green\",\"size\":10,\"symbol\":\"arrow\"},\"mode\":\"lines+markers\",\"name\":\"\",\"x\":[0.6122448979591837,0.6122448979591837],\"y\":[0.02,0.02198971038153712],\"type\":\"scatter\"},{\"marker\":{\"angleref\":\"previous\",\"color\":\"green\",\"size\":10,\"symbol\":\"arrow\"},\"mode\":\"lines+markers\",\"name\":\"\",\"x\":[0.6122448979591837,0.6122448979591837],\"y\":[0.5934694265614063,0.5862299407724164],\"type\":\"scatter\"},{\"marker\":{\"angleref\":\"previous\",\"color\":\"green\",\"size\":10,\"symbol\":\"arrow\"},\"mode\":\"lines+markers\",\"name\":\"\",\"x\":[0.7142857142857143,0.7142857142857143],\"y\":[0.02,0.019966986906036658],\"type\":\"scatter\"},{\"marker\":{\"angleref\":\"previous\",\"color\":\"green\",\"size\":10,\"symbol\":\"arrow\"},\"mode\":\"lines+markers\",\"name\":\"\",\"x\":[0.7142857142857143,0.7142857142857143],\"y\":[0.04187358864665626,0.04254782232870679],\"type\":\"scatter\"},{\"marker\":{\"angleref\":\"previous\",\"color\":\"green\",\"size\":10,\"symbol\":\"arrow\"},\"mode\":\"lines+markers\",\"name\":\"\",\"x\":[0.7142857142857143,0.7142857142857143],\"y\":[0.49812641135334373,0.4933728228945399],\"type\":\"scatter\"},{\"marker\":{\"angleref\":\"previous\",\"color\":\"green\",\"size\":10,\"symbol\":\"arrow\"},\"mode\":\"lines+markers\",\"name\":\"\",\"x\":[0.8163265306122449,0.8163265306122449],\"y\":[0.02,0.018140482385531755],\"type\":\"scatter\"},{\"marker\":{\"angleref\":\"previous\",\"color\":\"green\",\"size\":10,\"symbol\":\"arrow\"},\"mode\":\"lines+markers\",\"name\":\"\",\"x\":[0.8163265306122449,0.8163265306122449],\"y\":[0.20252747208066826,0.20319020862869921],\"type\":\"scatter\"},{\"marker\":{\"angleref\":\"previous\",\"color\":\"green\",\"size\":10,\"symbol\":\"arrow\"},\"mode\":\"lines+markers\",\"name\":\"\",\"x\":[0.8163265306122449,0.8163265306122449],\"y\":[0.33747252791933174,0.33622377771107415],\"type\":\"scatter\"},{\"marker\":{\"angleref\":\"previous\",\"color\":\"green\",\"size\":10,\"symbol\":\"arrow\"},\"mode\":\"lines+markers\",\"name\":\"\",\"x\":[0.9183673469387755,0.9183673469387755],\"y\":[0.02,0.016491162147826293],\"type\":\"scatter\"},{\"marker\":{\"angleref\":\"previous\",\"color\":\"green\",\"size\":10,\"symbol\":\"arrow\"},\"mode\":\"lines+markers\",\"name\":\"\",\"x\":[1.0204081632653061,1.0204081632653061],\"y\":[0.02,0.015001838022993118],\"type\":\"scatter\"},{\"marker\":{\"angleref\":\"previous\",\"color\":\"green\",\"size\":10,\"symbol\":\"arrow\"},\"mode\":\"lines+markers\",\"name\":\"\",\"x\":[1.1224489795918369,1.1224489795918369],\"y\":[0.02,0.013656989219163536],\"type\":\"scatter\"},{\"marker\":{\"angleref\":\"previous\",\"color\":\"green\",\"size\":10,\"symbol\":\"arrow\"},\"mode\":\"lines+markers\",\"name\":\"\",\"x\":[1.2244897959183674,1.2244897959183674],\"y\":[0.02,0.01244260057467392],\"type\":\"scatter\"},{\"marker\":{\"angleref\":\"previous\",\"color\":\"green\",\"size\":10,\"symbol\":\"arrow\"},\"mode\":\"lines+markers\",\"name\":\"\",\"x\":[1.3265306122448979,1.3265306122448979],\"y\":[0.02,0.011346016500935759],\"type\":\"scatter\"},{\"marker\":{\"angleref\":\"previous\",\"color\":\"green\",\"size\":10,\"symbol\":\"arrow\"},\"mode\":\"lines+markers\",\"name\":\"\",\"x\":[1.4285714285714286,1.4285714285714286],\"y\":[0.02,0.010355809093914453],\"type\":\"scatter\"},{\"marker\":{\"angleref\":\"previous\",\"color\":\"green\",\"size\":10,\"symbol\":\"arrow\"},\"mode\":\"lines+markers\",\"name\":\"\",\"x\":[1.5306122448979593,1.5306122448979593],\"y\":[0.02,0.009461659039758206],\"type\":\"scatter\"},{\"marker\":{\"angleref\":\"previous\",\"color\":\"green\",\"size\":10,\"symbol\":\"arrow\"},\"mode\":\"lines+markers\",\"name\":\"\",\"x\":[1.6326530612244898,1.6326530612244898],\"y\":[0.02,0.008654248073451005],\"type\":\"scatter\"},{\"marker\":{\"angleref\":\"previous\",\"color\":\"green\",\"size\":10,\"symbol\":\"arrow\"},\"mode\":\"lines+markers\",\"name\":\"\",\"x\":[1.7346938775510203,1.7346938775510203],\"y\":[0.02,0.007925161869761967],\"type\":\"scatter\"},{\"marker\":{\"angleref\":\"previous\",\"color\":\"green\",\"size\":10,\"symbol\":\"arrow\"},\"mode\":\"lines+markers\",\"name\":\"\",\"x\":[1.836734693877551,1.836734693877551],\"y\":[0.02,0.007266802354482051],\"type\":\"scatter\"},{\"marker\":{\"angleref\":\"previous\",\"color\":\"green\",\"size\":10,\"symbol\":\"arrow\"},\"mode\":\"lines+markers\",\"name\":\"\",\"x\":[1.9387755102040818,1.9387755102040818],\"y\":[0.02,0.006672308522111483],\"type\":\"scatter\"},{\"marker\":{\"angleref\":\"previous\",\"color\":\"green\",\"size\":10,\"symbol\":\"arrow\"},\"mode\":\"lines+markers\",\"name\":\"\",\"x\":[2.0408163265306123,2.0408163265306123],\"y\":[0.02,0.0061354849348099795],\"type\":\"scatter\"},{\"marker\":{\"angleref\":\"previous\",\"color\":\"green\",\"size\":10,\"symbol\":\"arrow\"},\"mode\":\"lines+markers\",\"name\":\"\",\"x\":[2.142857142857143,2.142857142857143],\"y\":[0.02,0.005650737157471185],\"type\":\"scatter\"},{\"marker\":{\"angleref\":\"previous\",\"color\":\"green\",\"size\":10,\"symbol\":\"arrow\"},\"mode\":\"lines+markers\",\"name\":\"\",\"x\":[2.2448979591836737,2.2448979591836737],\"y\":[0.02,0.005213013456066595],\"type\":\"scatter\"},{\"marker\":{\"angleref\":\"previous\",\"color\":\"green\",\"size\":10,\"symbol\":\"arrow\"},\"mode\":\"lines+markers\",\"name\":\"\",\"x\":[2.3469387755102042,2.3469387755102042],\"y\":[0.02,0.004817752151676085],\"type\":\"scatter\"},{\"marker\":{\"angleref\":\"previous\",\"color\":\"green\",\"size\":10,\"symbol\":\"arrow\"},\"mode\":\"lines+markers\",\"name\":\"\",\"x\":[2.4489795918367347,2.4489795918367347],\"y\":[0.02,0.004460834081562073],\"type\":\"scatter\"},{\"marker\":{\"angleref\":\"previous\",\"color\":\"green\",\"size\":10,\"symbol\":\"arrow\"},\"mode\":\"lines+markers\",\"name\":\"\",\"x\":[2.5510204081632653,2.5510204081632653],\"y\":[0.02,0.004138539671866833],\"type\":\"scatter\"},{\"marker\":{\"angleref\":\"previous\",\"color\":\"green\",\"size\":10,\"symbol\":\"arrow\"},\"mode\":\"lines+markers\",\"name\":\"\",\"x\":[2.6530612244897958,2.6530612244897958],\"y\":[0.02,0.003847510174571772],\"type\":\"scatter\"},{\"marker\":{\"angleref\":\"previous\",\"color\":\"green\",\"size\":10,\"symbol\":\"arrow\"},\"mode\":\"lines+markers\",\"name\":\"\",\"x\":[2.7551020408163267,2.7551020408163267],\"y\":[0.02,0.0035847126647548765],\"type\":\"scatter\"},{\"marker\":{\"angleref\":\"previous\",\"color\":\"green\",\"size\":10,\"symbol\":\"arrow\"},\"mode\":\"lines+markers\",\"name\":\"\",\"x\":[2.857142857142857,2.857142857142857],\"y\":[0.02,0.0033474084333698986],\"type\":\"scatter\"},{\"marker\":{\"angleref\":\"previous\",\"color\":\"green\",\"size\":10,\"symbol\":\"arrow\"},\"mode\":\"lines+markers\",\"name\":\"\",\"x\":[2.9591836734693877,2.9591836734693877],\"y\":[0.02,0.0031331244461568833],\"type\":\"scatter\"},{\"marker\":{\"angleref\":\"previous\",\"color\":\"green\",\"size\":10,\"symbol\":\"arrow\"},\"mode\":\"lines+markers\",\"name\":\"\",\"x\":[3.0612244897959187,3.0612244897959187],\"y\":[0.02,0.0029396275712469076],\"type\":\"scatter\"},{\"marker\":{\"angleref\":\"previous\",\"color\":\"green\",\"size\":10,\"symbol\":\"arrow\"},\"mode\":\"lines+markers\",\"name\":\"\",\"x\":[3.163265306122449,3.163265306122449],\"y\":[0.02,0.00276490130687743],\"type\":\"scatter\"},{\"marker\":{\"angleref\":\"previous\",\"color\":\"green\",\"size\":10,\"symbol\":\"arrow\"},\"mode\":\"lines+markers\",\"name\":\"\",\"x\":[3.2653061224489797,3.2653061224489797],\"y\":[0.02,0.0026071247666892908],\"type\":\"scatter\"},{\"marker\":{\"angleref\":\"previous\",\"color\":\"green\",\"size\":10,\"symbol\":\"arrow\"},\"mode\":\"lines+markers\",\"name\":\"\",\"x\":[3.36734693877551,3.36734693877551],\"y\":[0.02,0.0024646537036034435],\"type\":\"scatter\"},{\"marker\":{\"angleref\":\"previous\",\"color\":\"green\",\"size\":10,\"symbol\":\"arrow\"},\"mode\":\"lines+markers\",\"name\":\"\",\"x\":[3.4693877551020407,3.4693877551020407],\"y\":[0.02,0.0023360033745202444],\"type\":\"scatter\"},{\"marker\":{\"angleref\":\"previous\",\"color\":\"green\",\"size\":10,\"symbol\":\"arrow\"},\"mode\":\"lines+markers\",\"name\":\"\",\"x\":[3.5714285714285716,3.5714285714285716],\"y\":[0.02,0.0022198330672681538],\"type\":\"scatter\"},{\"marker\":{\"angleref\":\"previous\",\"color\":\"green\",\"size\":10,\"symbol\":\"arrow\"},\"mode\":\"lines+markers\",\"name\":\"\",\"x\":[3.673469387755102,3.673469387755102],\"y\":[0.02,0.002114932128551416],\"type\":\"scatter\"},{\"marker\":{\"angleref\":\"previous\",\"color\":\"green\",\"size\":10,\"symbol\":\"arrow\"},\"mode\":\"lines+markers\",\"name\":\"\",\"x\":[3.7755102040816326,3.7755102040816326],\"y\":[0.02,0.002020207347288902],\"type\":\"scatter\"},{\"marker\":{\"angleref\":\"previous\",\"color\":\"green\",\"size\":10,\"symbol\":\"arrow\"},\"mode\":\"lines+markers\",\"name\":\"\",\"x\":[3.8775510204081636,3.8775510204081636],\"y\":[0.02,0.0019346715618612786],\"type\":\"scatter\"},{\"marker\":{\"angleref\":\"previous\",\"color\":\"green\",\"size\":10,\"symbol\":\"arrow\"},\"mode\":\"lines+markers\",\"name\":\"\",\"x\":[3.979591836734694,3.979591836734694],\"y\":[0.02,0.0018574333725384258],\"type\":\"scatter\"},{\"marker\":{\"angleref\":\"previous\",\"color\":\"green\",\"size\":10,\"symbol\":\"arrow\"},\"mode\":\"lines+markers\",\"name\":\"\",\"x\":[4.081632653061225,4.081632653061225],\"y\":[0.02,0.0017876878518765342],\"type\":\"scatter\"},{\"marker\":{\"angleref\":\"previous\",\"color\":\"green\",\"size\":10,\"symbol\":\"arrow\"},\"mode\":\"lines+markers\",\"name\":\"\",\"x\":[4.183673469387755,4.183673469387755],\"y\":[0.02,0.0017247081562745993],\"type\":\"scatter\"},{\"marker\":{\"angleref\":\"previous\",\"color\":\"green\",\"size\":10,\"symbol\":\"arrow\"},\"mode\":\"lines+markers\",\"name\":\"\",\"x\":[4.285714285714286,4.285714285714286],\"y\":[0.02,0.0016678379512711679],\"type\":\"scatter\"},{\"marker\":{\"angleref\":\"previous\",\"color\":\"green\",\"size\":10,\"symbol\":\"arrow\"},\"mode\":\"lines+markers\",\"name\":\"\",\"x\":[4.387755102040816,4.387755102040816],\"y\":[0.02,0.0016164845716426929],\"type\":\"scatter\"},{\"marker\":{\"angleref\":\"previous\",\"color\":\"green\",\"size\":10,\"symbol\":\"arrow\"},\"mode\":\"lines+markers\",\"name\":\"\",\"x\":[4.4897959183673475,4.4897959183673475],\"y\":[0.02,0.0015701128450222729],\"type\":\"scatter\"},{\"marker\":{\"angleref\":\"previous\",\"color\":\"green\",\"size\":10,\"symbol\":\"arrow\"},\"mode\":\"lines+markers\",\"name\":\"\",\"x\":[4.591836734693878,4.591836734693878],\"y\":[0.02,0.0015282395146725275],\"type\":\"scatter\"},{\"marker\":{\"angleref\":\"previous\",\"color\":\"green\",\"size\":10,\"symbol\":\"arrow\"},\"mode\":\"lines+markers\",\"name\":\"\",\"x\":[4.6938775510204085,4.6938775510204085],\"y\":[0.02,0.0014904282032902443],\"type\":\"scatter\"},{\"marker\":{\"angleref\":\"previous\",\"color\":\"green\",\"size\":10,\"symbol\":\"arrow\"},\"mode\":\"lines+markers\",\"name\":\"\",\"x\":[4.795918367346939,4.795918367346939],\"y\":[0.02,0.001456284865358759],\"type\":\"scatter\"},{\"marker\":{\"angleref\":\"previous\",\"color\":\"green\",\"size\":10,\"symbol\":\"arrow\"},\"mode\":\"lines+markers\",\"name\":\"\",\"x\":[4.8979591836734695,4.8979591836734695],\"y\":[0.02,0.0014254536806553933],\"type\":\"scatter\"},{\"marker\":{\"angleref\":\"previous\",\"color\":\"green\",\"size\":10,\"symbol\":\"arrow\"},\"mode\":\"lines+markers\",\"name\":\"\",\"x\":[5.0,5.0],\"y\":[0.02,0.0013976133461186709],\"type\":\"scatter\"},{\"mode\":\"markers\",\"name\":\"\",\"x\":[0.0,0.0,0.10204081632653061,0.10204081632653061,0.20408163265306123,0.20408163265306123,0.30612244897959184,0.30612244897959184,0.40816326530612246,0.40816326530612246,0.5102040816326531,0.5102040816326531,0.6122448979591837,0.6122448979591837,0.7142857142857143,0.7142857142857143,0.7142857142857143,0.8163265306122449,0.8163265306122449,0.8163265306122449,0.9183673469387755,1.0204081632653061,1.1224489795918369,1.2244897959183674,1.3265306122448979,1.4285714285714286,1.5306122448979593,1.6326530612244898,1.7346938775510203,1.836734693877551,1.9387755102040818,2.0408163265306123,2.142857142857143,2.2448979591836737,2.3469387755102042,2.4489795918367347,2.5510204081632653,2.6530612244897958,2.7551020408163267,2.857142857142857,2.9591836734693877,3.0612244897959187,3.163265306122449,3.2653061224489797,3.36734693877551,3.4693877551020407,3.5714285714285716,3.673469387755102,3.7755102040816326,3.8775510204081636,3.979591836734694,4.081632653061225,4.183673469387755,4.285714285714286,4.387755102040816,4.4897959183673475,4.591836734693878,4.6938775510204085,4.795918367346939,4.8979591836734695,5.0],\"y\":[0.0,1.0,0.0,0.9322702500270915,0.0,0.8647323039726016,0.0,0.7966227722903031,0.0,0.7268336394429361,0.0,0.6535753228313205,0.0,0.5734694265614063,0.0,0.02187358864665626,0.4781264113533437,0.0,0.18252747208066827,0.3174725279193317,0.0,0.0,0.0,0.0,0.0,0.0,0.0,0.0,0.0,0.0,0.0,0.0,0.0,0.0,0.0,0.0,0.0,0.0,0.0,0.0,0.0,0.0,0.0,0.0,0.0,0.0,0.0,0.0,0.0,0.0,0.0,0.0,0.0,0.0,0.0,0.0,0.0,0.0,0.0,0.0,0.0],\"type\":\"scatter\"}],                        {\"template\":{\"data\":{\"histogram2dcontour\":[{\"type\":\"histogram2dcontour\",\"colorbar\":{\"outlinewidth\":0,\"ticks\":\"\"},\"colorscale\":[[0.0,\"#0d0887\"],[0.1111111111111111,\"#46039f\"],[0.2222222222222222,\"#7201a8\"],[0.3333333333333333,\"#9c179e\"],[0.4444444444444444,\"#bd3786\"],[0.5555555555555556,\"#d8576b\"],[0.6666666666666666,\"#ed7953\"],[0.7777777777777778,\"#fb9f3a\"],[0.8888888888888888,\"#fdca26\"],[1.0,\"#f0f921\"]]}],\"choropleth\":[{\"type\":\"choropleth\",\"colorbar\":{\"outlinewidth\":0,\"ticks\":\"\"}}],\"histogram2d\":[{\"type\":\"histogram2d\",\"colorbar\":{\"outlinewidth\":0,\"ticks\":\"\"},\"colorscale\":[[0.0,\"#0d0887\"],[0.1111111111111111,\"#46039f\"],[0.2222222222222222,\"#7201a8\"],[0.3333333333333333,\"#9c179e\"],[0.4444444444444444,\"#bd3786\"],[0.5555555555555556,\"#d8576b\"],[0.6666666666666666,\"#ed7953\"],[0.7777777777777778,\"#fb9f3a\"],[0.8888888888888888,\"#fdca26\"],[1.0,\"#f0f921\"]]}],\"heatmap\":[{\"type\":\"heatmap\",\"colorbar\":{\"outlinewidth\":0,\"ticks\":\"\"},\"colorscale\":[[0.0,\"#0d0887\"],[0.1111111111111111,\"#46039f\"],[0.2222222222222222,\"#7201a8\"],[0.3333333333333333,\"#9c179e\"],[0.4444444444444444,\"#bd3786\"],[0.5555555555555556,\"#d8576b\"],[0.6666666666666666,\"#ed7953\"],[0.7777777777777778,\"#fb9f3a\"],[0.8888888888888888,\"#fdca26\"],[1.0,\"#f0f921\"]]}],\"heatmapgl\":[{\"type\":\"heatmapgl\",\"colorbar\":{\"outlinewidth\":0,\"ticks\":\"\"},\"colorscale\":[[0.0,\"#0d0887\"],[0.1111111111111111,\"#46039f\"],[0.2222222222222222,\"#7201a8\"],[0.3333333333333333,\"#9c179e\"],[0.4444444444444444,\"#bd3786\"],[0.5555555555555556,\"#d8576b\"],[0.6666666666666666,\"#ed7953\"],[0.7777777777777778,\"#fb9f3a\"],[0.8888888888888888,\"#fdca26\"],[1.0,\"#f0f921\"]]}],\"contourcarpet\":[{\"type\":\"contourcarpet\",\"colorbar\":{\"outlinewidth\":0,\"ticks\":\"\"}}],\"contour\":[{\"type\":\"contour\",\"colorbar\":{\"outlinewidth\":0,\"ticks\":\"\"},\"colorscale\":[[0.0,\"#0d0887\"],[0.1111111111111111,\"#46039f\"],[0.2222222222222222,\"#7201a8\"],[0.3333333333333333,\"#9c179e\"],[0.4444444444444444,\"#bd3786\"],[0.5555555555555556,\"#d8576b\"],[0.6666666666666666,\"#ed7953\"],[0.7777777777777778,\"#fb9f3a\"],[0.8888888888888888,\"#fdca26\"],[1.0,\"#f0f921\"]]}],\"surface\":[{\"type\":\"surface\",\"colorbar\":{\"outlinewidth\":0,\"ticks\":\"\"},\"colorscale\":[[0.0,\"#0d0887\"],[0.1111111111111111,\"#46039f\"],[0.2222222222222222,\"#7201a8\"],[0.3333333333333333,\"#9c179e\"],[0.4444444444444444,\"#bd3786\"],[0.5555555555555556,\"#d8576b\"],[0.6666666666666666,\"#ed7953\"],[0.7777777777777778,\"#fb9f3a\"],[0.8888888888888888,\"#fdca26\"],[1.0,\"#f0f921\"]]}],\"mesh3d\":[{\"type\":\"mesh3d\",\"colorbar\":{\"outlinewidth\":0,\"ticks\":\"\"}}],\"scatter\":[{\"fillpattern\":{\"fillmode\":\"overlay\",\"size\":10,\"solidity\":0.2},\"type\":\"scatter\"}],\"parcoords\":[{\"type\":\"parcoords\",\"line\":{\"colorbar\":{\"outlinewidth\":0,\"ticks\":\"\"}}}],\"scatterpolargl\":[{\"type\":\"scatterpolargl\",\"marker\":{\"colorbar\":{\"outlinewidth\":0,\"ticks\":\"\"}}}],\"bar\":[{\"error_x\":{\"color\":\"#2a3f5f\"},\"error_y\":{\"color\":\"#2a3f5f\"},\"marker\":{\"line\":{\"color\":\"#E5ECF6\",\"width\":0.5},\"pattern\":{\"fillmode\":\"overlay\",\"size\":10,\"solidity\":0.2}},\"type\":\"bar\"}],\"scattergeo\":[{\"type\":\"scattergeo\",\"marker\":{\"colorbar\":{\"outlinewidth\":0,\"ticks\":\"\"}}}],\"scatterpolar\":[{\"type\":\"scatterpolar\",\"marker\":{\"colorbar\":{\"outlinewidth\":0,\"ticks\":\"\"}}}],\"histogram\":[{\"marker\":{\"pattern\":{\"fillmode\":\"overlay\",\"size\":10,\"solidity\":0.2}},\"type\":\"histogram\"}],\"scattergl\":[{\"type\":\"scattergl\",\"marker\":{\"colorbar\":{\"outlinewidth\":0,\"ticks\":\"\"}}}],\"scatter3d\":[{\"type\":\"scatter3d\",\"line\":{\"colorbar\":{\"outlinewidth\":0,\"ticks\":\"\"}},\"marker\":{\"colorbar\":{\"outlinewidth\":0,\"ticks\":\"\"}}}],\"scattermapbox\":[{\"type\":\"scattermapbox\",\"marker\":{\"colorbar\":{\"outlinewidth\":0,\"ticks\":\"\"}}}],\"scatterternary\":[{\"type\":\"scatterternary\",\"marker\":{\"colorbar\":{\"outlinewidth\":0,\"ticks\":\"\"}}}],\"scattercarpet\":[{\"type\":\"scattercarpet\",\"marker\":{\"colorbar\":{\"outlinewidth\":0,\"ticks\":\"\"}}}],\"carpet\":[{\"aaxis\":{\"endlinecolor\":\"#2a3f5f\",\"gridcolor\":\"white\",\"linecolor\":\"white\",\"minorgridcolor\":\"white\",\"startlinecolor\":\"#2a3f5f\"},\"baxis\":{\"endlinecolor\":\"#2a3f5f\",\"gridcolor\":\"white\",\"linecolor\":\"white\",\"minorgridcolor\":\"white\",\"startlinecolor\":\"#2a3f5f\"},\"type\":\"carpet\"}],\"table\":[{\"cells\":{\"fill\":{\"color\":\"#EBF0F8\"},\"line\":{\"color\":\"white\"}},\"header\":{\"fill\":{\"color\":\"#C8D4E3\"},\"line\":{\"color\":\"white\"}},\"type\":\"table\"}],\"barpolar\":[{\"marker\":{\"line\":{\"color\":\"#E5ECF6\",\"width\":0.5},\"pattern\":{\"fillmode\":\"overlay\",\"size\":10,\"solidity\":0.2}},\"type\":\"barpolar\"}],\"pie\":[{\"automargin\":true,\"type\":\"pie\"}]},\"layout\":{\"autotypenumbers\":\"strict\",\"colorway\":[\"#636efa\",\"#EF553B\",\"#00cc96\",\"#ab63fa\",\"#FFA15A\",\"#19d3f3\",\"#FF6692\",\"#B6E880\",\"#FF97FF\",\"#FECB52\"],\"font\":{\"color\":\"#2a3f5f\"},\"hovermode\":\"closest\",\"hoverlabel\":{\"align\":\"left\"},\"paper_bgcolor\":\"white\",\"plot_bgcolor\":\"#E5ECF6\",\"polar\":{\"bgcolor\":\"#E5ECF6\",\"angularaxis\":{\"gridcolor\":\"white\",\"linecolor\":\"white\",\"ticks\":\"\"},\"radialaxis\":{\"gridcolor\":\"white\",\"linecolor\":\"white\",\"ticks\":\"\"}},\"ternary\":{\"bgcolor\":\"#E5ECF6\",\"aaxis\":{\"gridcolor\":\"white\",\"linecolor\":\"white\",\"ticks\":\"\"},\"baxis\":{\"gridcolor\":\"white\",\"linecolor\":\"white\",\"ticks\":\"\"},\"caxis\":{\"gridcolor\":\"white\",\"linecolor\":\"white\",\"ticks\":\"\"}},\"coloraxis\":{\"colorbar\":{\"outlinewidth\":0,\"ticks\":\"\"}},\"colorscale\":{\"sequential\":[[0.0,\"#0d0887\"],[0.1111111111111111,\"#46039f\"],[0.2222222222222222,\"#7201a8\"],[0.3333333333333333,\"#9c179e\"],[0.4444444444444444,\"#bd3786\"],[0.5555555555555556,\"#d8576b\"],[0.6666666666666666,\"#ed7953\"],[0.7777777777777778,\"#fb9f3a\"],[0.8888888888888888,\"#fdca26\"],[1.0,\"#f0f921\"]],\"sequentialminus\":[[0.0,\"#0d0887\"],[0.1111111111111111,\"#46039f\"],[0.2222222222222222,\"#7201a8\"],[0.3333333333333333,\"#9c179e\"],[0.4444444444444444,\"#bd3786\"],[0.5555555555555556,\"#d8576b\"],[0.6666666666666666,\"#ed7953\"],[0.7777777777777778,\"#fb9f3a\"],[0.8888888888888888,\"#fdca26\"],[1.0,\"#f0f921\"]],\"diverging\":[[0,\"#8e0152\"],[0.1,\"#c51b7d\"],[0.2,\"#de77ae\"],[0.3,\"#f1b6da\"],[0.4,\"#fde0ef\"],[0.5,\"#f7f7f7\"],[0.6,\"#e6f5d0\"],[0.7,\"#b8e186\"],[0.8,\"#7fbc41\"],[0.9,\"#4d9221\"],[1,\"#276419\"]]},\"xaxis\":{\"gridcolor\":\"white\",\"linecolor\":\"white\",\"ticks\":\"\",\"title\":{\"standoff\":15},\"zerolinecolor\":\"white\",\"automargin\":true,\"zerolinewidth\":2},\"yaxis\":{\"gridcolor\":\"white\",\"linecolor\":\"white\",\"ticks\":\"\",\"title\":{\"standoff\":15},\"zerolinecolor\":\"white\",\"automargin\":true,\"zerolinewidth\":2},\"scene\":{\"xaxis\":{\"backgroundcolor\":\"#E5ECF6\",\"gridcolor\":\"white\",\"linecolor\":\"white\",\"showbackground\":true,\"ticks\":\"\",\"zerolinecolor\":\"white\",\"gridwidth\":2},\"yaxis\":{\"backgroundcolor\":\"#E5ECF6\",\"gridcolor\":\"white\",\"linecolor\":\"white\",\"showbackground\":true,\"ticks\":\"\",\"zerolinecolor\":\"white\",\"gridwidth\":2},\"zaxis\":{\"backgroundcolor\":\"#E5ECF6\",\"gridcolor\":\"white\",\"linecolor\":\"white\",\"showbackground\":true,\"ticks\":\"\",\"zerolinecolor\":\"white\",\"gridwidth\":2}},\"shapedefaults\":{\"line\":{\"color\":\"#2a3f5f\"}},\"annotationdefaults\":{\"arrowcolor\":\"#2a3f5f\",\"arrowhead\":0,\"arrowwidth\":1},\"geo\":{\"bgcolor\":\"white\",\"landcolor\":\"#E5ECF6\",\"subunitcolor\":\"white\",\"showland\":true,\"showlakes\":true,\"lakecolor\":\"white\"},\"title\":{\"x\":0.05},\"mapbox\":{\"style\":\"light\"}}},\"title\":{\"text\":\"Fig 2d s=2, b=2\"},\"xaxis\":{\"title\":{\"text\":\"C\"}},\"yaxis\":{\"title\":{\"text\":\"x\"}}},                        {\"responsive\": true}                    ).then(function(){\n",
       "                            \n",
       "var gd = document.getElementById('0860e969-c0d3-4e7e-86b8-90a279a2883b');\n",
       "var x = new MutationObserver(function (mutations, observer) {{\n",
       "        var display = window.getComputedStyle(gd).display;\n",
       "        if (!display || display === 'none') {{\n",
       "            console.log([gd, 'removed!']);\n",
       "            Plotly.purge(gd);\n",
       "            observer.disconnect();\n",
       "        }}\n",
       "}});\n",
       "\n",
       "// Listen for the removal of the full notebook cells\n",
       "var notebookContainer = gd.closest('#notebook-container');\n",
       "if (notebookContainer) {{\n",
       "    x.observe(notebookContainer, {childList: true});\n",
       "}}\n",
       "\n",
       "// Listen for the clearing of the current output cell\n",
       "var outputEl = gd.closest('.output');\n",
       "if (outputEl) {{\n",
       "    x.observe(outputEl, {childList: true});\n",
       "}}\n",
       "\n",
       "                        })                };                });            </script>        </div>"
      ]
     },
     "metadata": {},
     "output_type": "display_data"
    }
   ],
   "source": [
    "s_par = 2\n",
    "b_par = 2\n",
    "params = {s:s_par, b:b_par, ro:1}\n",
    "#### NOTE: отбросили комплексные решения\n",
    "\n",
    "cs = []\n",
    "xs =[]\n",
    "sols_by_c = {}\n",
    "fig = go.Figure()\n",
    "\n",
    "for cur_C in np.linspace(0,5,50):\n",
    "    cur_params = {C:cur_C} | params\n",
    "    sols_by_c[cur_C] = [sol for sol in solve(dxdt.subs(cur_params), x)\n",
    "                       if sol.is_real and sol >=0]\n",
    "    for curx in sols_by_c[cur_C]:\n",
    "        cs.append(float(cur_C))\n",
    "        xs.append(float(curx))\n",
    "        k = 2# number of steps\n",
    "        fig.add_trace(get_arrow_scatter(cur_C, k, curx, cur_params, shift = 0.02))\n",
    "        \n",
    "    \n",
    "fig.add_trace(go.Scatter(x=cs, y=xs, mode='markers', name = \"\"))\n",
    "fig.update_layout(title=f\"Fig 2d s={s_par}, b={b_par}\")\n",
    "fig.update_layout(xaxis={\"title\": \"C\"}, yaxis={\"title\": \"x\"})"
   ]
  },
  {
   "cell_type": "code",
   "execution_count": 23,
   "id": "d959d1c9-dcdd-46b8-8da3-34a4c80313f3",
   "metadata": {},
   "outputs": [],
   "source": [
    "s_par = 2\n",
    "b_par = 1.2\n",
    "\n",
    "params = {s:s_par, b:b_par, ro:1}\n",
    "cs_smart_protocol = [0]*50 + [3]*100 + [2] * 100\n",
    "# ts = list(np.linspace(0,len(cs_smart_protocol), len(cs_smart_protocol)))\n",
    "ts = list(range(len(cs_smart_protocol)))\n",
    "\n",
    "xs_smart_protocol = get_k_next_by_c(1, params, cs_smart_protocol)"
   ]
  },
  {
   "cell_type": "code",
   "execution_count": 24,
   "id": "895537a2-d1c6-4933-b58e-28f0b61e0e6b",
   "metadata": {},
   "outputs": [
    {
     "data": {
      "application/vnd.plotly.v1+json": {
       "config": {
        "plotlyServerURL": "https://plot.ly"
       },
       "data": [
        {
         "line": {
          "color": "brown"
         },
         "mode": "lines+markers",
         "name": "",
         "type": "scatter",
         "x": [
          0,
          1,
          2,
          3,
          4,
          5,
          6,
          7,
          8,
          9,
          10,
          11,
          12,
          13,
          14,
          15,
          16,
          17,
          18,
          19,
          20,
          21,
          22,
          23,
          24,
          25,
          26,
          27,
          28,
          29,
          30,
          31,
          32,
          33,
          34,
          35,
          36,
          37,
          38,
          39,
          40,
          41,
          42,
          43,
          44,
          45,
          46,
          47,
          48,
          49,
          50,
          51,
          52,
          53,
          54,
          55,
          56,
          57,
          58,
          59,
          60,
          61,
          62,
          63,
          64,
          65,
          66,
          67,
          68,
          69,
          70,
          71,
          72,
          73,
          74,
          75,
          76,
          77,
          78,
          79,
          80,
          81,
          82,
          83,
          84,
          85,
          86,
          87,
          88,
          89,
          90,
          91,
          92,
          93,
          94,
          95,
          96,
          97,
          98,
          99,
          100,
          101,
          102,
          103,
          104,
          105,
          106,
          107,
          108,
          109,
          110,
          111,
          112,
          113,
          114,
          115,
          116,
          117,
          118,
          119,
          120,
          121,
          122,
          123,
          124,
          125,
          126,
          127,
          128,
          129,
          130,
          131,
          132,
          133,
          134,
          135,
          136,
          137,
          138,
          139,
          140,
          141,
          142,
          143,
          144,
          145,
          146,
          147,
          148,
          149,
          150,
          151,
          152,
          153,
          154,
          155,
          156,
          157,
          158,
          159,
          160,
          161,
          162,
          163,
          164,
          165,
          166,
          167,
          168,
          169,
          170,
          171,
          172,
          173,
          174,
          175,
          176,
          177,
          178,
          179,
          180,
          181,
          182,
          183,
          184,
          185,
          186,
          187,
          188,
          189,
          190,
          191,
          192,
          193,
          194,
          195,
          196,
          197,
          198,
          199,
          200,
          201,
          202,
          203,
          204,
          205,
          206,
          207,
          208,
          209,
          210,
          211,
          212,
          213,
          214,
          215,
          216,
          217,
          218,
          219,
          220,
          221,
          222,
          223,
          224,
          225,
          226,
          227,
          228,
          229,
          230,
          231,
          232,
          233,
          234,
          235,
          236,
          237,
          238,
          239,
          240,
          241,
          242,
          243,
          244,
          245,
          246,
          247,
          248,
          249
         ],
         "y": [
          0,
          0,
          0,
          0,
          0,
          0,
          0,
          0,
          0,
          0,
          0,
          0,
          0,
          0,
          0,
          0,
          0,
          0,
          0,
          0,
          0,
          0,
          0,
          0,
          0,
          0,
          0,
          0,
          0,
          0,
          0,
          0,
          0,
          0,
          0,
          0,
          0,
          0,
          0,
          0,
          0,
          0,
          0,
          0,
          0,
          0,
          0,
          0,
          0,
          0,
          3,
          3,
          3,
          3,
          3,
          3,
          3,
          3,
          3,
          3,
          3,
          3,
          3,
          3,
          3,
          3,
          3,
          3,
          3,
          3,
          3,
          3,
          3,
          3,
          3,
          3,
          3,
          3,
          3,
          3,
          3,
          3,
          3,
          3,
          3,
          3,
          3,
          3,
          3,
          3,
          3,
          3,
          3,
          3,
          3,
          3,
          3,
          3,
          3,
          3,
          3,
          3,
          3,
          3,
          3,
          3,
          3,
          3,
          3,
          3,
          3,
          3,
          3,
          3,
          3,
          3,
          3,
          3,
          3,
          3,
          3,
          3,
          3,
          3,
          3,
          3,
          3,
          3,
          3,
          3,
          3,
          3,
          3,
          3,
          3,
          3,
          3,
          3,
          3,
          3,
          3,
          3,
          3,
          3,
          3,
          3,
          3,
          3,
          3,
          3,
          2,
          2,
          2,
          2,
          2,
          2,
          2,
          2,
          2,
          2,
          2,
          2,
          2,
          2,
          2,
          2,
          2,
          2,
          2,
          2,
          2,
          2,
          2,
          2,
          2,
          2,
          2,
          2,
          2,
          2,
          2,
          2,
          2,
          2,
          2,
          2,
          2,
          2,
          2,
          2,
          2,
          2,
          2,
          2,
          2,
          2,
          2,
          2,
          2,
          2,
          2,
          2,
          2,
          2,
          2,
          2,
          2,
          2,
          2,
          2,
          2,
          2,
          2,
          2,
          2,
          2,
          2,
          2,
          2,
          2,
          2,
          2,
          2,
          2,
          2,
          2,
          2,
          2,
          2,
          2,
          2,
          2,
          2,
          2,
          2,
          2,
          2,
          2,
          2,
          2,
          2,
          2,
          2,
          2,
          2,
          2,
          2,
          2,
          2,
          2
         ]
        }
       ],
       "layout": {
        "autosize": true,
        "template": {
         "data": {
          "bar": [
           {
            "error_x": {
             "color": "#2a3f5f"
            },
            "error_y": {
             "color": "#2a3f5f"
            },
            "marker": {
             "line": {
              "color": "#E5ECF6",
              "width": 0.5
             },
             "pattern": {
              "fillmode": "overlay",
              "size": 10,
              "solidity": 0.2
             }
            },
            "type": "bar"
           }
          ],
          "barpolar": [
           {
            "marker": {
             "line": {
              "color": "#E5ECF6",
              "width": 0.5
             },
             "pattern": {
              "fillmode": "overlay",
              "size": 10,
              "solidity": 0.2
             }
            },
            "type": "barpolar"
           }
          ],
          "carpet": [
           {
            "aaxis": {
             "endlinecolor": "#2a3f5f",
             "gridcolor": "white",
             "linecolor": "white",
             "minorgridcolor": "white",
             "startlinecolor": "#2a3f5f"
            },
            "baxis": {
             "endlinecolor": "#2a3f5f",
             "gridcolor": "white",
             "linecolor": "white",
             "minorgridcolor": "white",
             "startlinecolor": "#2a3f5f"
            },
            "type": "carpet"
           }
          ],
          "choropleth": [
           {
            "colorbar": {
             "outlinewidth": 0,
             "ticks": ""
            },
            "type": "choropleth"
           }
          ],
          "contour": [
           {
            "colorbar": {
             "outlinewidth": 0,
             "ticks": ""
            },
            "colorscale": [
             [
              0,
              "#0d0887"
             ],
             [
              0.1111111111111111,
              "#46039f"
             ],
             [
              0.2222222222222222,
              "#7201a8"
             ],
             [
              0.3333333333333333,
              "#9c179e"
             ],
             [
              0.4444444444444444,
              "#bd3786"
             ],
             [
              0.5555555555555556,
              "#d8576b"
             ],
             [
              0.6666666666666666,
              "#ed7953"
             ],
             [
              0.7777777777777778,
              "#fb9f3a"
             ],
             [
              0.8888888888888888,
              "#fdca26"
             ],
             [
              1,
              "#f0f921"
             ]
            ],
            "type": "contour"
           }
          ],
          "contourcarpet": [
           {
            "colorbar": {
             "outlinewidth": 0,
             "ticks": ""
            },
            "type": "contourcarpet"
           }
          ],
          "heatmap": [
           {
            "colorbar": {
             "outlinewidth": 0,
             "ticks": ""
            },
            "colorscale": [
             [
              0,
              "#0d0887"
             ],
             [
              0.1111111111111111,
              "#46039f"
             ],
             [
              0.2222222222222222,
              "#7201a8"
             ],
             [
              0.3333333333333333,
              "#9c179e"
             ],
             [
              0.4444444444444444,
              "#bd3786"
             ],
             [
              0.5555555555555556,
              "#d8576b"
             ],
             [
              0.6666666666666666,
              "#ed7953"
             ],
             [
              0.7777777777777778,
              "#fb9f3a"
             ],
             [
              0.8888888888888888,
              "#fdca26"
             ],
             [
              1,
              "#f0f921"
             ]
            ],
            "type": "heatmap"
           }
          ],
          "heatmapgl": [
           {
            "colorbar": {
             "outlinewidth": 0,
             "ticks": ""
            },
            "colorscale": [
             [
              0,
              "#0d0887"
             ],
             [
              0.1111111111111111,
              "#46039f"
             ],
             [
              0.2222222222222222,
              "#7201a8"
             ],
             [
              0.3333333333333333,
              "#9c179e"
             ],
             [
              0.4444444444444444,
              "#bd3786"
             ],
             [
              0.5555555555555556,
              "#d8576b"
             ],
             [
              0.6666666666666666,
              "#ed7953"
             ],
             [
              0.7777777777777778,
              "#fb9f3a"
             ],
             [
              0.8888888888888888,
              "#fdca26"
             ],
             [
              1,
              "#f0f921"
             ]
            ],
            "type": "heatmapgl"
           }
          ],
          "histogram": [
           {
            "marker": {
             "pattern": {
              "fillmode": "overlay",
              "size": 10,
              "solidity": 0.2
             }
            },
            "type": "histogram"
           }
          ],
          "histogram2d": [
           {
            "colorbar": {
             "outlinewidth": 0,
             "ticks": ""
            },
            "colorscale": [
             [
              0,
              "#0d0887"
             ],
             [
              0.1111111111111111,
              "#46039f"
             ],
             [
              0.2222222222222222,
              "#7201a8"
             ],
             [
              0.3333333333333333,
              "#9c179e"
             ],
             [
              0.4444444444444444,
              "#bd3786"
             ],
             [
              0.5555555555555556,
              "#d8576b"
             ],
             [
              0.6666666666666666,
              "#ed7953"
             ],
             [
              0.7777777777777778,
              "#fb9f3a"
             ],
             [
              0.8888888888888888,
              "#fdca26"
             ],
             [
              1,
              "#f0f921"
             ]
            ],
            "type": "histogram2d"
           }
          ],
          "histogram2dcontour": [
           {
            "colorbar": {
             "outlinewidth": 0,
             "ticks": ""
            },
            "colorscale": [
             [
              0,
              "#0d0887"
             ],
             [
              0.1111111111111111,
              "#46039f"
             ],
             [
              0.2222222222222222,
              "#7201a8"
             ],
             [
              0.3333333333333333,
              "#9c179e"
             ],
             [
              0.4444444444444444,
              "#bd3786"
             ],
             [
              0.5555555555555556,
              "#d8576b"
             ],
             [
              0.6666666666666666,
              "#ed7953"
             ],
             [
              0.7777777777777778,
              "#fb9f3a"
             ],
             [
              0.8888888888888888,
              "#fdca26"
             ],
             [
              1,
              "#f0f921"
             ]
            ],
            "type": "histogram2dcontour"
           }
          ],
          "mesh3d": [
           {
            "colorbar": {
             "outlinewidth": 0,
             "ticks": ""
            },
            "type": "mesh3d"
           }
          ],
          "parcoords": [
           {
            "line": {
             "colorbar": {
              "outlinewidth": 0,
              "ticks": ""
             }
            },
            "type": "parcoords"
           }
          ],
          "pie": [
           {
            "automargin": true,
            "type": "pie"
           }
          ],
          "scatter": [
           {
            "fillpattern": {
             "fillmode": "overlay",
             "size": 10,
             "solidity": 0.2
            },
            "type": "scatter"
           }
          ],
          "scatter3d": [
           {
            "line": {
             "colorbar": {
              "outlinewidth": 0,
              "ticks": ""
             }
            },
            "marker": {
             "colorbar": {
              "outlinewidth": 0,
              "ticks": ""
             }
            },
            "type": "scatter3d"
           }
          ],
          "scattercarpet": [
           {
            "marker": {
             "colorbar": {
              "outlinewidth": 0,
              "ticks": ""
             }
            },
            "type": "scattercarpet"
           }
          ],
          "scattergeo": [
           {
            "marker": {
             "colorbar": {
              "outlinewidth": 0,
              "ticks": ""
             }
            },
            "type": "scattergeo"
           }
          ],
          "scattergl": [
           {
            "marker": {
             "colorbar": {
              "outlinewidth": 0,
              "ticks": ""
             }
            },
            "type": "scattergl"
           }
          ],
          "scattermapbox": [
           {
            "marker": {
             "colorbar": {
              "outlinewidth": 0,
              "ticks": ""
             }
            },
            "type": "scattermapbox"
           }
          ],
          "scatterpolar": [
           {
            "marker": {
             "colorbar": {
              "outlinewidth": 0,
              "ticks": ""
             }
            },
            "type": "scatterpolar"
           }
          ],
          "scatterpolargl": [
           {
            "marker": {
             "colorbar": {
              "outlinewidth": 0,
              "ticks": ""
             }
            },
            "type": "scatterpolargl"
           }
          ],
          "scatterternary": [
           {
            "marker": {
             "colorbar": {
              "outlinewidth": 0,
              "ticks": ""
             }
            },
            "type": "scatterternary"
           }
          ],
          "surface": [
           {
            "colorbar": {
             "outlinewidth": 0,
             "ticks": ""
            },
            "colorscale": [
             [
              0,
              "#0d0887"
             ],
             [
              0.1111111111111111,
              "#46039f"
             ],
             [
              0.2222222222222222,
              "#7201a8"
             ],
             [
              0.3333333333333333,
              "#9c179e"
             ],
             [
              0.4444444444444444,
              "#bd3786"
             ],
             [
              0.5555555555555556,
              "#d8576b"
             ],
             [
              0.6666666666666666,
              "#ed7953"
             ],
             [
              0.7777777777777778,
              "#fb9f3a"
             ],
             [
              0.8888888888888888,
              "#fdca26"
             ],
             [
              1,
              "#f0f921"
             ]
            ],
            "type": "surface"
           }
          ],
          "table": [
           {
            "cells": {
             "fill": {
              "color": "#EBF0F8"
             },
             "line": {
              "color": "white"
             }
            },
            "header": {
             "fill": {
              "color": "#C8D4E3"
             },
             "line": {
              "color": "white"
             }
            },
            "type": "table"
           }
          ]
         },
         "layout": {
          "annotationdefaults": {
           "arrowcolor": "#2a3f5f",
           "arrowhead": 0,
           "arrowwidth": 1
          },
          "autotypenumbers": "strict",
          "coloraxis": {
           "colorbar": {
            "outlinewidth": 0,
            "ticks": ""
           }
          },
          "colorscale": {
           "diverging": [
            [
             0,
             "#8e0152"
            ],
            [
             0.1,
             "#c51b7d"
            ],
            [
             0.2,
             "#de77ae"
            ],
            [
             0.3,
             "#f1b6da"
            ],
            [
             0.4,
             "#fde0ef"
            ],
            [
             0.5,
             "#f7f7f7"
            ],
            [
             0.6,
             "#e6f5d0"
            ],
            [
             0.7,
             "#b8e186"
            ],
            [
             0.8,
             "#7fbc41"
            ],
            [
             0.9,
             "#4d9221"
            ],
            [
             1,
             "#276419"
            ]
           ],
           "sequential": [
            [
             0,
             "#0d0887"
            ],
            [
             0.1111111111111111,
             "#46039f"
            ],
            [
             0.2222222222222222,
             "#7201a8"
            ],
            [
             0.3333333333333333,
             "#9c179e"
            ],
            [
             0.4444444444444444,
             "#bd3786"
            ],
            [
             0.5555555555555556,
             "#d8576b"
            ],
            [
             0.6666666666666666,
             "#ed7953"
            ],
            [
             0.7777777777777778,
             "#fb9f3a"
            ],
            [
             0.8888888888888888,
             "#fdca26"
            ],
            [
             1,
             "#f0f921"
            ]
           ],
           "sequentialminus": [
            [
             0,
             "#0d0887"
            ],
            [
             0.1111111111111111,
             "#46039f"
            ],
            [
             0.2222222222222222,
             "#7201a8"
            ],
            [
             0.3333333333333333,
             "#9c179e"
            ],
            [
             0.4444444444444444,
             "#bd3786"
            ],
            [
             0.5555555555555556,
             "#d8576b"
            ],
            [
             0.6666666666666666,
             "#ed7953"
            ],
            [
             0.7777777777777778,
             "#fb9f3a"
            ],
            [
             0.8888888888888888,
             "#fdca26"
            ],
            [
             1,
             "#f0f921"
            ]
           ]
          },
          "colorway": [
           "#636efa",
           "#EF553B",
           "#00cc96",
           "#ab63fa",
           "#FFA15A",
           "#19d3f3",
           "#FF6692",
           "#B6E880",
           "#FF97FF",
           "#FECB52"
          ],
          "font": {
           "color": "#2a3f5f"
          },
          "geo": {
           "bgcolor": "white",
           "lakecolor": "white",
           "landcolor": "#E5ECF6",
           "showlakes": true,
           "showland": true,
           "subunitcolor": "white"
          },
          "hoverlabel": {
           "align": "left"
          },
          "hovermode": "closest",
          "mapbox": {
           "style": "light"
          },
          "paper_bgcolor": "white",
          "plot_bgcolor": "#E5ECF6",
          "polar": {
           "angularaxis": {
            "gridcolor": "white",
            "linecolor": "white",
            "ticks": ""
           },
           "bgcolor": "#E5ECF6",
           "radialaxis": {
            "gridcolor": "white",
            "linecolor": "white",
            "ticks": ""
           }
          },
          "scene": {
           "xaxis": {
            "backgroundcolor": "#E5ECF6",
            "gridcolor": "white",
            "gridwidth": 2,
            "linecolor": "white",
            "showbackground": true,
            "ticks": "",
            "zerolinecolor": "white"
           },
           "yaxis": {
            "backgroundcolor": "#E5ECF6",
            "gridcolor": "white",
            "gridwidth": 2,
            "linecolor": "white",
            "showbackground": true,
            "ticks": "",
            "zerolinecolor": "white"
           },
           "zaxis": {
            "backgroundcolor": "#E5ECF6",
            "gridcolor": "white",
            "gridwidth": 2,
            "linecolor": "white",
            "showbackground": true,
            "ticks": "",
            "zerolinecolor": "white"
           }
          },
          "shapedefaults": {
           "line": {
            "color": "#2a3f5f"
           }
          },
          "ternary": {
           "aaxis": {
            "gridcolor": "white",
            "linecolor": "white",
            "ticks": ""
           },
           "baxis": {
            "gridcolor": "white",
            "linecolor": "white",
            "ticks": ""
           },
           "bgcolor": "#E5ECF6",
           "caxis": {
            "gridcolor": "white",
            "linecolor": "white",
            "ticks": ""
           }
          },
          "title": {
           "x": 0.05
          },
          "xaxis": {
           "automargin": true,
           "gridcolor": "white",
           "linecolor": "white",
           "ticks": "",
           "title": {
            "standoff": 15
           },
           "zerolinecolor": "white",
           "zerolinewidth": 2
          },
          "yaxis": {
           "automargin": true,
           "gridcolor": "white",
           "linecolor": "white",
           "ticks": "",
           "title": {
            "standoff": 15
           },
           "zerolinecolor": "white",
           "zerolinewidth": 2
          }
         }
        },
        "title": {
         "text": "Fig 5(b)"
        },
        "xaxis": {
         "autorange": true,
         "range": [
          -15.35481742190937,
          264.3548174219094
         ],
         "title": {
          "text": "t"
         },
         "type": "linear"
        },
        "yaxis": {
         "autorange": true,
         "range": [
          -0.24757281553398056,
          3.2475728155339807
         ],
         "title": {
          "text": "c"
         },
         "type": "linear"
        }
       }
      },
      "image/png": "[encoded data removed]",
      "text/html": [
       "<div>                            <div id=\"90b0518f-1774-4fa5-913d-1995efbe20e5\" class=\"plotly-graph-div\" style=\"height:525px; width:100%;\"></div>            <script type=\"text/javascript\">                require([\"plotly\"], function(Plotly) {                    window.PLOTLYENV=window.PLOTLYENV || {};                                    if (document.getElementById(\"90b0518f-1774-4fa5-913d-1995efbe20e5\")) {                    Plotly.newPlot(                        \"90b0518f-1774-4fa5-913d-1995efbe20e5\",                        [{\"line\":{\"color\":\"brown\"},\"mode\":\"lines+markers\",\"name\":\"\",\"x\":[0,1,2,3,4,5,6,7,8,9,10,11,12,13,14,15,16,17,18,19,20,21,22,23,24,25,26,27,28,29,30,31,32,33,34,35,36,37,38,39,40,41,42,43,44,45,46,47,48,49,50,51,52,53,54,55,56,57,58,59,60,61,62,63,64,65,66,67,68,69,70,71,72,73,74,75,76,77,78,79,80,81,82,83,84,85,86,87,88,89,90,91,92,93,94,95,96,97,98,99,100,101,102,103,104,105,106,107,108,109,110,111,112,113,114,115,116,117,118,119,120,121,122,123,124,125,126,127,128,129,130,131,132,133,134,135,136,137,138,139,140,141,142,143,144,145,146,147,148,149,150,151,152,153,154,155,156,157,158,159,160,161,162,163,164,165,166,167,168,169,170,171,172,173,174,175,176,177,178,179,180,181,182,183,184,185,186,187,188,189,190,191,192,193,194,195,196,197,198,199,200,201,202,203,204,205,206,207,208,209,210,211,212,213,214,215,216,217,218,219,220,221,222,223,224,225,226,227,228,229,230,231,232,233,234,235,236,237,238,239,240,241,242,243,244,245,246,247,248,249],\"y\":[0,0,0,0,0,0,0,0,0,0,0,0,0,0,0,0,0,0,0,0,0,0,0,0,0,0,0,0,0,0,0,0,0,0,0,0,0,0,0,0,0,0,0,0,0,0,0,0,0,0,3,3,3,3,3,3,3,3,3,3,3,3,3,3,3,3,3,3,3,3,3,3,3,3,3,3,3,3,3,3,3,3,3,3,3,3,3,3,3,3,3,3,3,3,3,3,3,3,3,3,3,3,3,3,3,3,3,3,3,3,3,3,3,3,3,3,3,3,3,3,3,3,3,3,3,3,3,3,3,3,3,3,3,3,3,3,3,3,3,3,3,3,3,3,3,3,3,3,3,3,2,2,2,2,2,2,2,2,2,2,2,2,2,2,2,2,2,2,2,2,2,2,2,2,2,2,2,2,2,2,2,2,2,2,2,2,2,2,2,2,2,2,2,2,2,2,2,2,2,2,2,2,2,2,2,2,2,2,2,2,2,2,2,2,2,2,2,2,2,2,2,2,2,2,2,2,2,2,2,2,2,2,2,2,2,2,2,2,2,2,2,2,2,2,2,2,2,2,2,2],\"type\":\"scatter\"}],                        {\"template\":{\"data\":{\"histogram2dcontour\":[{\"type\":\"histogram2dcontour\",\"colorbar\":{\"outlinewidth\":0,\"ticks\":\"\"},\"colorscale\":[[0.0,\"#0d0887\"],[0.1111111111111111,\"#46039f\"],[0.2222222222222222,\"#7201a8\"],[0.3333333333333333,\"#9c179e\"],[0.4444444444444444,\"#bd3786\"],[0.5555555555555556,\"#d8576b\"],[0.6666666666666666,\"#ed7953\"],[0.7777777777777778,\"#fb9f3a\"],[0.8888888888888888,\"#fdca26\"],[1.0,\"#f0f921\"]]}],\"choropleth\":[{\"type\":\"choropleth\",\"colorbar\":{\"outlinewidth\":0,\"ticks\":\"\"}}],\"histogram2d\":[{\"type\":\"histogram2d\",\"colorbar\":{\"outlinewidth\":0,\"ticks\":\"\"},\"colorscale\":[[0.0,\"#0d0887\"],[0.1111111111111111,\"#46039f\"],[0.2222222222222222,\"#7201a8\"],[0.3333333333333333,\"#9c179e\"],[0.4444444444444444,\"#bd3786\"],[0.5555555555555556,\"#d8576b\"],[0.6666666666666666,\"#ed7953\"],[0.7777777777777778,\"#fb9f3a\"],[0.8888888888888888,\"#fdca26\"],[1.0,\"#f0f921\"]]}],\"heatmap\":[{\"type\":\"heatmap\",\"colorbar\":{\"outlinewidth\":0,\"ticks\":\"\"},\"colorscale\":[[0.0,\"#0d0887\"],[0.1111111111111111,\"#46039f\"],[0.2222222222222222,\"#7201a8\"],[0.3333333333333333,\"#9c179e\"],[0.4444444444444444,\"#bd3786\"],[0.5555555555555556,\"#d8576b\"],[0.6666666666666666,\"#ed7953\"],[0.7777777777777778,\"#fb9f3a\"],[0.8888888888888888,\"#fdca26\"],[1.0,\"#f0f921\"]]}],\"heatmapgl\":[{\"type\":\"heatmapgl\",\"colorbar\":{\"outlinewidth\":0,\"ticks\":\"\"},\"colorscale\":[[0.0,\"#0d0887\"],[0.1111111111111111,\"#46039f\"],[0.2222222222222222,\"#7201a8\"],[0.3333333333333333,\"#9c179e\"],[0.4444444444444444,\"#bd3786\"],[0.5555555555555556,\"#d8576b\"],[0.6666666666666666,\"#ed7953\"],[0.7777777777777778,\"#fb9f3a\"],[0.8888888888888888,\"#fdca26\"],[1.0,\"#f0f921\"]]}],\"contourcarpet\":[{\"type\":\"contourcarpet\",\"colorbar\":{\"outlinewidth\":0,\"ticks\":\"\"}}],\"contour\":[{\"type\":\"contour\",\"colorbar\":{\"outlinewidth\":0,\"ticks\":\"\"},\"colorscale\":[[0.0,\"#0d0887\"],[0.1111111111111111,\"#46039f\"],[0.2222222222222222,\"#7201a8\"],[0.3333333333333333,\"#9c179e\"],[0.4444444444444444,\"#bd3786\"],[0.5555555555555556,\"#d8576b\"],[0.6666666666666666,\"#ed7953\"],[0.7777777777777778,\"#fb9f3a\"],[0.8888888888888888,\"#fdca26\"],[1.0,\"#f0f921\"]]}],\"surface\":[{\"type\":\"surface\",\"colorbar\":{\"outlinewidth\":0,\"ticks\":\"\"},\"colorscale\":[[0.0,\"#0d0887\"],[0.1111111111111111,\"#46039f\"],[0.2222222222222222,\"#7201a8\"],[0.3333333333333333,\"#9c179e\"],[0.4444444444444444,\"#bd3786\"],[0.5555555555555556,\"#d8576b\"],[0.6666666666666666,\"#ed7953\"],[0.7777777777777778,\"#fb9f3a\"],[0.8888888888888888,\"#fdca26\"],[1.0,\"#f0f921\"]]}],\"mesh3d\":[{\"type\":\"mesh3d\",\"colorbar\":{\"outlinewidth\":0,\"ticks\":\"\"}}],\"scatter\":[{\"fillpattern\":{\"fillmode\":\"overlay\",\"size\":10,\"solidity\":0.2},\"type\":\"scatter\"}],\"parcoords\":[{\"type\":\"parcoords\",\"line\":{\"colorbar\":{\"outlinewidth\":0,\"ticks\":\"\"}}}],\"scatterpolargl\":[{\"type\":\"scatterpolargl\",\"marker\":{\"colorbar\":{\"outlinewidth\":0,\"ticks\":\"\"}}}],\"bar\":[{\"error_x\":{\"color\":\"#2a3f5f\"},\"error_y\":{\"color\":\"#2a3f5f\"},\"marker\":{\"line\":{\"color\":\"#E5ECF6\",\"width\":0.5},\"pattern\":{\"fillmode\":\"overlay\",\"size\":10,\"solidity\":0.2}},\"type\":\"bar\"}],\"scattergeo\":[{\"type\":\"scattergeo\",\"marker\":{\"colorbar\":{\"outlinewidth\":0,\"ticks\":\"\"}}}],\"scatterpolar\":[{\"type\":\"scatterpolar\",\"marker\":{\"colorbar\":{\"outlinewidth\":0,\"ticks\":\"\"}}}],\"histogram\":[{\"marker\":{\"pattern\":{\"fillmode\":\"overlay\",\"size\":10,\"solidity\":0.2}},\"type\":\"histogram\"}],\"scattergl\":[{\"type\":\"scattergl\",\"marker\":{\"colorbar\":{\"outlinewidth\":0,\"ticks\":\"\"}}}],\"scatter3d\":[{\"type\":\"scatter3d\",\"line\":{\"colorbar\":{\"outlinewidth\":0,\"ticks\":\"\"}},\"marker\":{\"colorbar\":{\"outlinewidth\":0,\"ticks\":\"\"}}}],\"scattermapbox\":[{\"type\":\"scattermapbox\",\"marker\":{\"colorbar\":{\"outlinewidth\":0,\"ticks\":\"\"}}}],\"scatterternary\":[{\"type\":\"scatterternary\",\"marker\":{\"colorbar\":{\"outlinewidth\":0,\"ticks\":\"\"}}}],\"scattercarpet\":[{\"type\":\"scattercarpet\",\"marker\":{\"colorbar\":{\"outlinewidth\":0,\"ticks\":\"\"}}}],\"carpet\":[{\"aaxis\":{\"endlinecolor\":\"#2a3f5f\",\"gridcolor\":\"white\",\"linecolor\":\"white\",\"minorgridcolor\":\"white\",\"startlinecolor\":\"#2a3f5f\"},\"baxis\":{\"endlinecolor\":\"#2a3f5f\",\"gridcolor\":\"white\",\"linecolor\":\"white\",\"minorgridcolor\":\"white\",\"startlinecolor\":\"#2a3f5f\"},\"type\":\"carpet\"}],\"table\":[{\"cells\":{\"fill\":{\"color\":\"#EBF0F8\"},\"line\":{\"color\":\"white\"}},\"header\":{\"fill\":{\"color\":\"#C8D4E3\"},\"line\":{\"color\":\"white\"}},\"type\":\"table\"}],\"barpolar\":[{\"marker\":{\"line\":{\"color\":\"#E5ECF6\",\"width\":0.5},\"pattern\":{\"fillmode\":\"overlay\",\"size\":10,\"solidity\":0.2}},\"type\":\"barpolar\"}],\"pie\":[{\"automargin\":true,\"type\":\"pie\"}]},\"layout\":{\"autotypenumbers\":\"strict\",\"colorway\":[\"#636efa\",\"#EF553B\",\"#00cc96\",\"#ab63fa\",\"#FFA15A\",\"#19d3f3\",\"#FF6692\",\"#B6E880\",\"#FF97FF\",\"#FECB52\"],\"font\":{\"color\":\"#2a3f5f\"},\"hovermode\":\"closest\",\"hoverlabel\":{\"align\":\"left\"},\"paper_bgcolor\":\"white\",\"plot_bgcolor\":\"#E5ECF6\",\"polar\":{\"bgcolor\":\"#E5ECF6\",\"angularaxis\":{\"gridcolor\":\"white\",\"linecolor\":\"white\",\"ticks\":\"\"},\"radialaxis\":{\"gridcolor\":\"white\",\"linecolor\":\"white\",\"ticks\":\"\"}},\"ternary\":{\"bgcolor\":\"#E5ECF6\",\"aaxis\":{\"gridcolor\":\"white\",\"linecolor\":\"white\",\"ticks\":\"\"},\"baxis\":{\"gridcolor\":\"white\",\"linecolor\":\"white\",\"ticks\":\"\"},\"caxis\":{\"gridcolor\":\"white\",\"linecolor\":\"white\",\"ticks\":\"\"}},\"coloraxis\":{\"colorbar\":{\"outlinewidth\":0,\"ticks\":\"\"}},\"colorscale\":{\"sequential\":[[0.0,\"#0d0887\"],[0.1111111111111111,\"#46039f\"],[0.2222222222222222,\"#7201a8\"],[0.3333333333333333,\"#9c179e\"],[0.4444444444444444,\"#bd3786\"],[0.5555555555555556,\"#d8576b\"],[0.6666666666666666,\"#ed7953\"],[0.7777777777777778,\"#fb9f3a\"],[0.8888888888888888,\"#fdca26\"],[1.0,\"#f0f921\"]],\"sequentialminus\":[[0.0,\"#0d0887\"],[0.1111111111111111,\"#46039f\"],[0.2222222222222222,\"#7201a8\"],[0.3333333333333333,\"#9c179e\"],[0.4444444444444444,\"#bd3786\"],[0.5555555555555556,\"#d8576b\"],[0.6666666666666666,\"#ed7953\"],[0.7777777777777778,\"#fb9f3a\"],[0.8888888888888888,\"#fdca26\"],[1.0,\"#f0f921\"]],\"diverging\":[[0,\"#8e0152\"],[0.1,\"#c51b7d\"],[0.2,\"#de77ae\"],[0.3,\"#f1b6da\"],[0.4,\"#fde0ef\"],[0.5,\"#f7f7f7\"],[0.6,\"#e6f5d0\"],[0.7,\"#b8e186\"],[0.8,\"#7fbc41\"],[0.9,\"#4d9221\"],[1,\"#276419\"]]},\"xaxis\":{\"gridcolor\":\"white\",\"linecolor\":\"white\",\"ticks\":\"\",\"title\":{\"standoff\":15},\"zerolinecolor\":\"white\",\"automargin\":true,\"zerolinewidth\":2},\"yaxis\":{\"gridcolor\":\"white\",\"linecolor\":\"white\",\"ticks\":\"\",\"title\":{\"standoff\":15},\"zerolinecolor\":\"white\",\"automargin\":true,\"zerolinewidth\":2},\"scene\":{\"xaxis\":{\"backgroundcolor\":\"#E5ECF6\",\"gridcolor\":\"white\",\"linecolor\":\"white\",\"showbackground\":true,\"ticks\":\"\",\"zerolinecolor\":\"white\",\"gridwidth\":2},\"yaxis\":{\"backgroundcolor\":\"#E5ECF6\",\"gridcolor\":\"white\",\"linecolor\":\"white\",\"showbackground\":true,\"ticks\":\"\",\"zerolinecolor\":\"white\",\"gridwidth\":2},\"zaxis\":{\"backgroundcolor\":\"#E5ECF6\",\"gridcolor\":\"white\",\"linecolor\":\"white\",\"showbackground\":true,\"ticks\":\"\",\"zerolinecolor\":\"white\",\"gridwidth\":2}},\"shapedefaults\":{\"line\":{\"color\":\"#2a3f5f\"}},\"annotationdefaults\":{\"arrowcolor\":\"#2a3f5f\",\"arrowhead\":0,\"arrowwidth\":1},\"geo\":{\"bgcolor\":\"white\",\"landcolor\":\"#E5ECF6\",\"subunitcolor\":\"white\",\"showland\":true,\"showlakes\":true,\"lakecolor\":\"white\"},\"title\":{\"x\":0.05},\"mapbox\":{\"style\":\"light\"}}},\"title\":{\"text\":\"Fig 5(b)\"},\"xaxis\":{\"title\":{\"text\":\"t\"}},\"yaxis\":{\"title\":{\"text\":\"c\"}}},                        {\"responsive\": true}                    ).then(function(){\n",
       "                            \n",
       "var gd = document.getElementById('90b0518f-1774-4fa5-913d-1995efbe20e5');\n",
       "var x = new MutationObserver(function (mutations, observer) {{\n",
       "        var display = window.getComputedStyle(gd).display;\n",
       "        if (!display || display === 'none') {{\n",
       "            console.log([gd, 'removed!']);\n",
       "            Plotly.purge(gd);\n",
       "            observer.disconnect();\n",
       "        }}\n",
       "}});\n",
       "\n",
       "// Listen for the removal of the full notebook cells\n",
       "var notebookContainer = gd.closest('#notebook-container');\n",
       "if (notebookContainer) {{\n",
       "    x.observe(notebookContainer, {childList: true});\n",
       "}}\n",
       "\n",
       "// Listen for the clearing of the current output cell\n",
       "var outputEl = gd.closest('.output');\n",
       "if (outputEl) {{\n",
       "    x.observe(outputEl, {childList: true});\n",
       "}}\n",
       "\n",
       "                        })                };                });            </script>        </div>"
      ]
     },
     "metadata": {},
     "output_type": "display_data"
    }
   ],
   "source": [
    "fig = go.Figure()\n",
    "fig.add_trace(go.Scatter(x=ts, y=cs_smart_protocol, mode='lines+markers', line=dict(color=\"brown\"), name = \"\"))\n",
    "fig.update_layout(title=\"Fig 5(b)\")\n",
    "fig.update_layout(xaxis={\"title\": \"t\"}, yaxis={\"title\": \"c\"})"
   ]
  },
  {
   "cell_type": "code",
   "execution_count": 25,
   "id": "66c7cd54-efcb-49cd-8b44-60ad0dbb9d49",
   "metadata": {
    "tags": []
   },
   "outputs": [
    {
     "data": {
      "application/vnd.plotly.v1+json": {
       "config": {
        "plotlyServerURL": "https://plot.ly"
       },
       "data": [
        {
         "line": {
          "color": "green"
         },
         "mode": "lines+markers",
         "name": "",
         "type": "scatter",
         "x": [
          0,
          1,
          2,
          3,
          4,
          5,
          6,
          7,
          8,
          9,
          10,
          11,
          12,
          13,
          14,
          15,
          16,
          17,
          18,
          19,
          20,
          21,
          22,
          23,
          24,
          25,
          26,
          27,
          28,
          29,
          30,
          31,
          32,
          33,
          34,
          35,
          36,
          37,
          38,
          39,
          40,
          41,
          42,
          43,
          44,
          45,
          46,
          47,
          48,
          49,
          50,
          51,
          52,
          53,
          54,
          55,
          56,
          57,
          58,
          59,
          60,
          61,
          62,
          63,
          64,
          65,
          66,
          67,
          68,
          69,
          70,
          71,
          72,
          73,
          74,
          75,
          76,
          77,
          78,
          79,
          80,
          81,
          82,
          83,
          84,
          85,
          86,
          87,
          88,
          89,
          90,
          91,
          92,
          93,
          94,
          95,
          96,
          97,
          98,
          99,
          100,
          101,
          102,
          103,
          104,
          105,
          106,
          107,
          108,
          109,
          110,
          111,
          112,
          113,
          114,
          115,
          116,
          117,
          118,
          119,
          120,
          121,
          122,
          123,
          124,
          125,
          126,
          127,
          128,
          129,
          130,
          131,
          132,
          133,
          134,
          135,
          136,
          137,
          138,
          139,
          140,
          141,
          142,
          143,
          144,
          145,
          146,
          147,
          148,
          149,
          150,
          151,
          152,
          153,
          154,
          155,
          156,
          157,
          158,
          159,
          160,
          161,
          162,
          163,
          164,
          165,
          166,
          167,
          168,
          169,
          170,
          171,
          172,
          173,
          174,
          175,
          176,
          177,
          178,
          179,
          180,
          181,
          182,
          183,
          184,
          185,
          186,
          187,
          188,
          189,
          190,
          191,
          192,
          193,
          194,
          195,
          196,
          197,
          198,
          199,
          200,
          201,
          202,
          203,
          204,
          205,
          206,
          207,
          208,
          209,
          210,
          211,
          212,
          213,
          214,
          215,
          216,
          217,
          218,
          219,
          220,
          221,
          222,
          223,
          224,
          225,
          226,
          227,
          228,
          229,
          230,
          231,
          232,
          233,
          234,
          235,
          236,
          237,
          238,
          239,
          240,
          241,
          242,
          243,
          244,
          245,
          246,
          247,
          248,
          249
         ],
         "y": [
          1,
          1,
          1,
          1,
          1,
          1,
          1,
          1,
          1,
          1,
          1,
          1,
          1,
          1,
          1,
          1,
          1,
          1,
          1,
          1,
          1,
          1,
          1,
          1,
          1,
          1,
          1,
          1,
          1,
          1,
          1,
          1,
          1,
          1,
          1,
          1,
          1,
          1,
          1,
          1,
          1,
          1,
          1,
          1,
          1,
          1,
          1,
          1,
          1,
          1,
          1,
          0.6199148273471455,
          0.5399481805809254,
          0.4923381066758391,
          0.45941651538420547,
          0.43476386810015927,
          0.4153385271695495,
          0.39947320536418257,
          0.38616295761603825,
          0.37475968842237345,
          0.3648235840335611,
          0.3560440054003484,
          0.348194349848674,
          0.3411048450844345,
          0.33464540373806595,
          0.32871440993001416,
          0.3232311517362164,
          0.3181305747671465,
          0.31335955888444383,
          0.3088742210984497,
          0.3046379260222804,
          0.3006197942969755,
          0.29679356795602013,
          0.2931367358789165,
          0.28962985159609667,
          0.28625599527809464,
          0.28300034513847816,
          0.27984983280284514,
          0.27679286378262774,
          0.2738190889106076,
          0.2709192160183269,
          0.26808485364889356,
          0.26530838046427146,
          0.26258283540519056,
          0.2599018247210622,
          0.2572594427965181,
          0.254650204324688,
          0.25206898586162324,
          0.24951097517535992,
          0.246971627102105,
          0.24444662485959817,
          0.2419318459578999,
          0.2394233320013162,
          0.23691726180003103,
          0.2344099273125495,
          0.23189771202515053,
          0.2293770714460503,
          0.22684451545295864,
          0.22429659228564364,
          0.22172987402204397,
          0.21914094341908888,
          0.21652638203916325,
          0.21388275962137265,
          0.21120662469457613,
          0.20849449646762727,
          0.20574285807240544,
          0.20294815127798832,
          0.20010677284064732,
          0.19721507270512956,
          0.19426935432876577,
          0.19126587746206453,
          0.18820086378823617,
          0.18507050589992113,
          0.18187098017432732,
          0.17859846419755154,
          0.17524915948388714,
          0.17181932033420358,
          0.1683052897754385,
          0.1647035436154281,
          0.16101074372586632,
          0.15722380172020115,
          0.153339954208026,
          0.14935685076373595,
          0.1452726556204084,
          0.1410861638599173,
          0.13679693248148944,
          0.13240542615289305,
          0.12791317663839172,
          0.12332295381440006,
          0.11863894479477605,
          0.11386693597859784,
          0.10901449082168146,
          0.10409111388525377,
          0.09910838936480441,
          0.09408008006813573,
          0.08902217100983864,
          0.08395284083066865,
          0.07889234461582151,
          0.07386279387142682,
          0.06888782384061554,
          0.06399214521167572,
          0.059200986457562464,
          0.05453944394656056,
          0.050031768453282444,
          0.04570062719278124,
          0.04156638816801087,
          0.03764647674093825,
          0.03395485172654972,
          0.030501639703440216,
          0.027292952492790953,
          0.024330895778901206,
          0.023995611630699704,
          0.02365780125447949,
          0.02331762819394332,
          0.022975261919497482,
          0.022630877566698786,
          0.022284655647486874,
          0.021936781734746988,
          0.02158744612094886,
          0.021236843451810095,
          0.020885172336135488,
          0.02053263493318448,
          0.020179436519115593,
          0.019825785034246406,
          0.019471890613048225,
          0.019117965098963654,
          0.018764221546290535,
          0.018410873711514755,
          0.01805813553659549,
          0.01770622062680731,
          0.01735534172582292,
          0.01700571019077641,
          0.01665753547007883,
          0.016311024586764956,
          0.015966381630131466,
          0.015623807258382891,
          0.015283498214932205,
          0.014945646860909018,
          0.01461044072631065,
          0.014278062082091298,
          0.013948687535323783,
          0.013622487649388788,
          0.01329962659095043,
          0.012980261805266635,
          0.01266454372116097,
          0.012352615486751772,
          0.012044612736797666,
          0.011740663392278514,
          0.011440887492590408,
          0.011145397060495277,
          0.010854295999732609,
          0.01056768002497526,
          0.010285636623595593,
          0.010008245048504415,
          0.00973557634113512,
          0.009467693383470824,
          0.00920465097785424,
          0.008946495953179744,
          0.008693267295945164,
          0.008444996304537773,
          0.008201706765044963,
          0.007963415146814918,
          0.007730130815946166,
          0.007501856264856309,
          0.007278587356069042,
          0.007060313578363585,
          0.006847018313450973,
          0.0066386791113759195,
          0.006435267972889984,
          0.0062367516371001595,
          0.006043091872765279,
          0.005854245771689513,
          0.00567016604274619,
          0.005490801305154904,
          0.005316096379728971,
          0.005145992576907608,
          0.004980427980486362,
          0.004819337726059376,
          0.004662654273286873,
          0.004510307671199957,
          0.004362225815851534,
          0.004218334699716221,
          0.004078558652332844,
          0.003942820571770027,
          0.003811042146578004,
          0.0036831440679678065,
          0.0035590462320321246,
          0.0034386679318902523,
          0.0033219280397024666,
          0.003208745178556963,
          0.003099037884285036,
          0.0029927247573076883,
          0.002889724604659329,
          0.002789956572371872,
          0.0026933402684355436,
          0.0025997958765812514,
          0.0025092442611537,
          0.0024216070633648022,
          0.002336806789233568,
          0.0022547668895318562,
          0.002175411832065345,
          0.002098667166626163,
          0.0020244595829579937,
          0.0019527169620764473,
          0.0018833684212872942,
          0.0018163443532429975,
          0.0017515764593741432,
          0.0016889977780269968,
          0.0016285427076317594,
          0.0015701470252183253
         ]
        }
       ],
       "layout": {
        "autosize": true,
        "template": {
         "data": {
          "bar": [
           {
            "error_x": {
             "color": "#2a3f5f"
            },
            "error_y": {
             "color": "#2a3f5f"
            },
            "marker": {
             "line": {
              "color": "#E5ECF6",
              "width": 0.5
             },
             "pattern": {
              "fillmode": "overlay",
              "size": 10,
              "solidity": 0.2
             }
            },
            "type": "bar"
           }
          ],
          "barpolar": [
           {
            "marker": {
             "line": {
              "color": "#E5ECF6",
              "width": 0.5
             },
             "pattern": {
              "fillmode": "overlay",
              "size": 10,
              "solidity": 0.2
             }
            },
            "type": "barpolar"
           }
          ],
          "carpet": [
           {
            "aaxis": {
             "endlinecolor": "#2a3f5f",
             "gridcolor": "white",
             "linecolor": "white",
             "minorgridcolor": "white",
             "startlinecolor": "#2a3f5f"
            },
            "baxis": {
             "endlinecolor": "#2a3f5f",
             "gridcolor": "white",
             "linecolor": "white",
             "minorgridcolor": "white",
             "startlinecolor": "#2a3f5f"
            },
            "type": "carpet"
           }
          ],
          "choropleth": [
           {
            "colorbar": {
             "outlinewidth": 0,
             "ticks": ""
            },
            "type": "choropleth"
           }
          ],
          "contour": [
           {
            "colorbar": {
             "outlinewidth": 0,
             "ticks": ""
            },
            "colorscale": [
             [
              0,
              "#0d0887"
             ],
             [
              0.1111111111111111,
              "#46039f"
             ],
             [
              0.2222222222222222,
              "#7201a8"
             ],
             [
              0.3333333333333333,
              "#9c179e"
             ],
             [
              0.4444444444444444,
              "#bd3786"
             ],
             [
              0.5555555555555556,
              "#d8576b"
             ],
             [
              0.6666666666666666,
              "#ed7953"
             ],
             [
              0.7777777777777778,
              "#fb9f3a"
             ],
             [
              0.8888888888888888,
              "#fdca26"
             ],
             [
              1,
              "#f0f921"
             ]
            ],
            "type": "contour"
           }
          ],
          "contourcarpet": [
           {
            "colorbar": {
             "outlinewidth": 0,
             "ticks": ""
            },
            "type": "contourcarpet"
           }
          ],
          "heatmap": [
           {
            "colorbar": {
             "outlinewidth": 0,
             "ticks": ""
            },
            "colorscale": [
             [
              0,
              "#0d0887"
             ],
             [
              0.1111111111111111,
              "#46039f"
             ],
             [
              0.2222222222222222,
              "#7201a8"
             ],
             [
              0.3333333333333333,
              "#9c179e"
             ],
             [
              0.4444444444444444,
              "#bd3786"
             ],
             [
              0.5555555555555556,
              "#d8576b"
             ],
             [
              0.6666666666666666,
              "#ed7953"
             ],
             [
              0.7777777777777778,
              "#fb9f3a"
             ],
             [
              0.8888888888888888,
              "#fdca26"
             ],
             [
              1,
              "#f0f921"
             ]
            ],
            "type": "heatmap"
           }
          ],
          "heatmapgl": [
           {
            "colorbar": {
             "outlinewidth": 0,
             "ticks": ""
            },
            "colorscale": [
             [
              0,
              "#0d0887"
             ],
             [
              0.1111111111111111,
              "#46039f"
             ],
             [
              0.2222222222222222,
              "#7201a8"
             ],
             [
              0.3333333333333333,
              "#9c179e"
             ],
             [
              0.4444444444444444,
              "#bd3786"
             ],
             [
              0.5555555555555556,
              "#d8576b"
             ],
             [
              0.6666666666666666,
              "#ed7953"
             ],
             [
              0.7777777777777778,
              "#fb9f3a"
             ],
             [
              0.8888888888888888,
              "#fdca26"
             ],
             [
              1,
              "#f0f921"
             ]
            ],
            "type": "heatmapgl"
           }
          ],
          "histogram": [
           {
            "marker": {
             "pattern": {
              "fillmode": "overlay",
              "size": 10,
              "solidity": 0.2
             }
            },
            "type": "histogram"
           }
          ],
          "histogram2d": [
           {
            "colorbar": {
             "outlinewidth": 0,
             "ticks": ""
            },
            "colorscale": [
             [
              0,
              "#0d0887"
             ],
             [
              0.1111111111111111,
              "#46039f"
             ],
             [
              0.2222222222222222,
              "#7201a8"
             ],
             [
              0.3333333333333333,
              "#9c179e"
             ],
             [
              0.4444444444444444,
              "#bd3786"
             ],
             [
              0.5555555555555556,
              "#d8576b"
             ],
             [
              0.6666666666666666,
              "#ed7953"
             ],
             [
              0.7777777777777778,
              "#fb9f3a"
             ],
             [
              0.8888888888888888,
              "#fdca26"
             ],
             [
              1,
              "#f0f921"
             ]
            ],
            "type": "histogram2d"
           }
          ],
          "histogram2dcontour": [
           {
            "colorbar": {
             "outlinewidth": 0,
             "ticks": ""
            },
            "colorscale": [
             [
              0,
              "#0d0887"
             ],
             [
              0.1111111111111111,
              "#46039f"
             ],
             [
              0.2222222222222222,
              "#7201a8"
             ],
             [
              0.3333333333333333,
              "#9c179e"
             ],
             [
              0.4444444444444444,
              "#bd3786"
             ],
             [
              0.5555555555555556,
              "#d8576b"
             ],
             [
              0.6666666666666666,
              "#ed7953"
             ],
             [
              0.7777777777777778,
              "#fb9f3a"
             ],
             [
              0.8888888888888888,
              "#fdca26"
             ],
             [
              1,
              "#f0f921"
             ]
            ],
            "type": "histogram2dcontour"
           }
          ],
          "mesh3d": [
           {
            "colorbar": {
             "outlinewidth": 0,
             "ticks": ""
            },
            "type": "mesh3d"
           }
          ],
          "parcoords": [
           {
            "line": {
             "colorbar": {
              "outlinewidth": 0,
              "ticks": ""
             }
            },
            "type": "parcoords"
           }
          ],
          "pie": [
           {
            "automargin": true,
            "type": "pie"
           }
          ],
          "scatter": [
           {
            "fillpattern": {
             "fillmode": "overlay",
             "size": 10,
             "solidity": 0.2
            },
            "type": "scatter"
           }
          ],
          "scatter3d": [
           {
            "line": {
             "colorbar": {
              "outlinewidth": 0,
              "ticks": ""
             }
            },
            "marker": {
             "colorbar": {
              "outlinewidth": 0,
              "ticks": ""
             }
            },
            "type": "scatter3d"
           }
          ],
          "scattercarpet": [
           {
            "marker": {
             "colorbar": {
              "outlinewidth": 0,
              "ticks": ""
             }
            },
            "type": "scattercarpet"
           }
          ],
          "scattergeo": [
           {
            "marker": {
             "colorbar": {
              "outlinewidth": 0,
              "ticks": ""
             }
            },
            "type": "scattergeo"
           }
          ],
          "scattergl": [
           {
            "marker": {
             "colorbar": {
              "outlinewidth": 0,
              "ticks": ""
             }
            },
            "type": "scattergl"
           }
          ],
          "scattermapbox": [
           {
            "marker": {
             "colorbar": {
              "outlinewidth": 0,
              "ticks": ""
             }
            },
            "type": "scattermapbox"
           }
          ],
          "scatterpolar": [
           {
            "marker": {
             "colorbar": {
              "outlinewidth": 0,
              "ticks": ""
             }
            },
            "type": "scatterpolar"
           }
          ],
          "scatterpolargl": [
           {
            "marker": {
             "colorbar": {
              "outlinewidth": 0,
              "ticks": ""
             }
            },
            "type": "scatterpolargl"
           }
          ],
          "scatterternary": [
           {
            "marker": {
             "colorbar": {
              "outlinewidth": 0,
              "ticks": ""
             }
            },
            "type": "scatterternary"
           }
          ],
          "surface": [
           {
            "colorbar": {
             "outlinewidth": 0,
             "ticks": ""
            },
            "colorscale": [
             [
              0,
              "#0d0887"
             ],
             [
              0.1111111111111111,
              "#46039f"
             ],
             [
              0.2222222222222222,
              "#7201a8"
             ],
             [
              0.3333333333333333,
              "#9c179e"
             ],
             [
              0.4444444444444444,
              "#bd3786"
             ],
             [
              0.5555555555555556,
              "#d8576b"
             ],
             [
              0.6666666666666666,
              "#ed7953"
             ],
             [
              0.7777777777777778,
              "#fb9f3a"
             ],
             [
              0.8888888888888888,
              "#fdca26"
             ],
             [
              1,
              "#f0f921"
             ]
            ],
            "type": "surface"
           }
          ],
          "table": [
           {
            "cells": {
             "fill": {
              "color": "#EBF0F8"
             },
             "line": {
              "color": "white"
             }
            },
            "header": {
             "fill": {
              "color": "#C8D4E3"
             },
             "line": {
              "color": "white"
             }
            },
            "type": "table"
           }
          ]
         },
         "layout": {
          "annotationdefaults": {
           "arrowcolor": "#2a3f5f",
           "arrowhead": 0,
           "arrowwidth": 1
          },
          "autotypenumbers": "strict",
          "coloraxis": {
           "colorbar": {
            "outlinewidth": 0,
            "ticks": ""
           }
          },
          "colorscale": {
           "diverging": [
            [
             0,
             "#8e0152"
            ],
            [
             0.1,
             "#c51b7d"
            ],
            [
             0.2,
             "#de77ae"
            ],
            [
             0.3,
             "#f1b6da"
            ],
            [
             0.4,
             "#fde0ef"
            ],
            [
             0.5,
             "#f7f7f7"
            ],
            [
             0.6,
             "#e6f5d0"
            ],
            [
             0.7,
             "#b8e186"
            ],
            [
             0.8,
             "#7fbc41"
            ],
            [
             0.9,
             "#4d9221"
            ],
            [
             1,
             "#276419"
            ]
           ],
           "sequential": [
            [
             0,
             "#0d0887"
            ],
            [
             0.1111111111111111,
             "#46039f"
            ],
            [
             0.2222222222222222,
             "#7201a8"
            ],
            [
             0.3333333333333333,
             "#9c179e"
            ],
            [
             0.4444444444444444,
             "#bd3786"
            ],
            [
             0.5555555555555556,
             "#d8576b"
            ],
            [
             0.6666666666666666,
             "#ed7953"
            ],
            [
             0.7777777777777778,
             "#fb9f3a"
            ],
            [
             0.8888888888888888,
             "#fdca26"
            ],
            [
             1,
             "#f0f921"
            ]
           ],
           "sequentialminus": [
            [
             0,
             "#0d0887"
            ],
            [
             0.1111111111111111,
             "#46039f"
            ],
            [
             0.2222222222222222,
             "#7201a8"
            ],
            [
             0.3333333333333333,
             "#9c179e"
            ],
            [
             0.4444444444444444,
             "#bd3786"
            ],
            [
             0.5555555555555556,
             "#d8576b"
            ],
            [
             0.6666666666666666,
             "#ed7953"
            ],
            [
             0.7777777777777778,
             "#fb9f3a"
            ],
            [
             0.8888888888888888,
             "#fdca26"
            ],
            [
             1,
             "#f0f921"
            ]
           ]
          },
          "colorway": [
           "#636efa",
           "#EF553B",
           "#00cc96",
           "#ab63fa",
           "#FFA15A",
           "#19d3f3",
           "#FF6692",
           "#B6E880",
           "#FF97FF",
           "#FECB52"
          ],
          "font": {
           "color": "#2a3f5f"
          },
          "geo": {
           "bgcolor": "white",
           "lakecolor": "white",
           "landcolor": "#E5ECF6",
           "showlakes": true,
           "showland": true,
           "subunitcolor": "white"
          },
          "hoverlabel": {
           "align": "left"
          },
          "hovermode": "closest",
          "mapbox": {
           "style": "light"
          },
          "paper_bgcolor": "white",
          "plot_bgcolor": "#E5ECF6",
          "polar": {
           "angularaxis": {
            "gridcolor": "white",
            "linecolor": "white",
            "ticks": ""
           },
           "bgcolor": "#E5ECF6",
           "radialaxis": {
            "gridcolor": "white",
            "linecolor": "white",
            "ticks": ""
           }
          },
          "scene": {
           "xaxis": {
            "backgroundcolor": "#E5ECF6",
            "gridcolor": "white",
            "gridwidth": 2,
            "linecolor": "white",
            "showbackground": true,
            "ticks": "",
            "zerolinecolor": "white"
           },
           "yaxis": {
            "backgroundcolor": "#E5ECF6",
            "gridcolor": "white",
            "gridwidth": 2,
            "linecolor": "white",
            "showbackground": true,
            "ticks": "",
            "zerolinecolor": "white"
           },
           "zaxis": {
            "backgroundcolor": "#E5ECF6",
            "gridcolor": "white",
            "gridwidth": 2,
            "linecolor": "white",
            "showbackground": true,
            "ticks": "",
            "zerolinecolor": "white"
           }
          },
          "shapedefaults": {
           "line": {
            "color": "#2a3f5f"
           }
          },
          "ternary": {
           "aaxis": {
            "gridcolor": "white",
            "linecolor": "white",
            "ticks": ""
           },
           "baxis": {
            "gridcolor": "white",
            "linecolor": "white",
            "ticks": ""
           },
           "bgcolor": "#E5ECF6",
           "caxis": {
            "gridcolor": "white",
            "linecolor": "white",
            "ticks": ""
           }
          },
          "title": {
           "x": 0.05
          },
          "xaxis": {
           "automargin": true,
           "gridcolor": "white",
           "linecolor": "white",
           "ticks": "",
           "title": {
            "standoff": 15
           },
           "zerolinecolor": "white",
           "zerolinewidth": 2
          },
          "yaxis": {
           "automargin": true,
           "gridcolor": "white",
           "linecolor": "white",
           "ticks": "",
           "title": {
            "standoff": 15
           },
           "zerolinecolor": "white",
           "zerolinewidth": 2
          }
         }
        },
        "title": {
         "text": "Fig 5(c)"
        },
        "xaxis": {
         "autorange": true,
         "range": [
          -15.35481742190937,
          264.3548174219094
         ],
         "title": {
          "text": "t"
         },
         "type": "linear"
        },
        "yaxis": {
         "autorange": true,
         "range": [
          -0.08082454957949667,
          1.082394696604715
         ],
         "title": {
          "text": "x"
         },
         "type": "linear"
        }
       }
      },
      "image/png": "[encoded data removed]",
      "text/html": [
       "<div>                            <div id=\"ecafe782-b436-418b-9184-5f746059a03b\" class=\"plotly-graph-div\" style=\"height:525px; width:100%;\"></div>            <script type=\"text/javascript\">                require([\"plotly\"], function(Plotly) {                    window.PLOTLYENV=window.PLOTLYENV || {};                                    if (document.getElementById(\"ecafe782-b436-418b-9184-5f746059a03b\")) {                    Plotly.newPlot(                        \"ecafe782-b436-418b-9184-5f746059a03b\",                        [{\"line\":{\"color\":\"green\"},\"mode\":\"lines+markers\",\"name\":\"\",\"x\":[0,1,2,3,4,5,6,7,8,9,10,11,12,13,14,15,16,17,18,19,20,21,22,23,24,25,26,27,28,29,30,31,32,33,34,35,36,37,38,39,40,41,42,43,44,45,46,47,48,49,50,51,52,53,54,55,56,57,58,59,60,61,62,63,64,65,66,67,68,69,70,71,72,73,74,75,76,77,78,79,80,81,82,83,84,85,86,87,88,89,90,91,92,93,94,95,96,97,98,99,100,101,102,103,104,105,106,107,108,109,110,111,112,113,114,115,116,117,118,119,120,121,122,123,124,125,126,127,128,129,130,131,132,133,134,135,136,137,138,139,140,141,142,143,144,145,146,147,148,149,150,151,152,153,154,155,156,157,158,159,160,161,162,163,164,165,166,167,168,169,170,171,172,173,174,175,176,177,178,179,180,181,182,183,184,185,186,187,188,189,190,191,192,193,194,195,196,197,198,199,200,201,202,203,204,205,206,207,208,209,210,211,212,213,214,215,216,217,218,219,220,221,222,223,224,225,226,227,228,229,230,231,232,233,234,235,236,237,238,239,240,241,242,243,244,245,246,247,248,249],\"y\":[1.0,1.0,1.0,1.0,1.0,1.0,1.0,1.0,1.0,1.0,1.0,1.0,1.0,1.0,1.0,1.0,1.0,1.0,1.0,1.0,1.0,1.0,1.0,1.0,1.0,1.0,1.0,1.0,1.0,1.0,1.0,1.0,1.0,1.0,1.0,1.0,1.0,1.0,1.0,1.0,1.0,1.0,1.0,1.0,1.0,1.0,1.0,1.0,1.0,1.0,1.0,0.6199148273471455,0.5399481805809254,0.4923381066758391,0.45941651538420547,0.43476386810015927,0.4153385271695495,0.39947320536418257,0.38616295761603825,0.37475968842237345,0.3648235840335611,0.3560440054003484,0.348194349848674,0.3411048450844345,0.33464540373806595,0.32871440993001416,0.3232311517362164,0.3181305747671465,0.31335955888444383,0.3088742210984497,0.3046379260222804,0.3006197942969755,0.29679356795602013,0.2931367358789165,0.28962985159609667,0.28625599527809464,0.28300034513847816,0.27984983280284514,0.27679286378262774,0.2738190889106076,0.2709192160183269,0.26808485364889356,0.26530838046427146,0.26258283540519056,0.2599018247210622,0.2572594427965181,0.254650204324688,0.25206898586162324,0.24951097517535992,0.246971627102105,0.24444662485959817,0.2419318459578999,0.2394233320013162,0.23691726180003103,0.2344099273125495,0.23189771202515053,0.2293770714460503,0.22684451545295864,0.22429659228564364,0.22172987402204397,0.21914094341908888,0.21652638203916325,0.21388275962137265,0.21120662469457613,0.20849449646762727,0.20574285807240544,0.20294815127798832,0.20010677284064732,0.19721507270512956,0.19426935432876577,0.19126587746206453,0.18820086378823617,0.18507050589992113,0.18187098017432732,0.17859846419755154,0.17524915948388714,0.17181932033420358,0.1683052897754385,0.1647035436154281,0.16101074372586632,0.15722380172020115,0.153339954208026,0.14935685076373595,0.1452726556204084,0.1410861638599173,0.13679693248148944,0.13240542615289305,0.12791317663839172,0.12332295381440006,0.11863894479477605,0.11386693597859784,0.10901449082168146,0.10409111388525377,0.09910838936480441,0.09408008006813573,0.08902217100983864,0.08395284083066865,0.07889234461582151,0.07386279387142682,0.06888782384061554,0.06399214521167572,0.059200986457562464,0.05453944394656056,0.050031768453282444,0.04570062719278124,0.04156638816801087,0.03764647674093825,0.03395485172654972,0.030501639703440216,0.027292952492790953,0.024330895778901206,0.023995611630699704,0.02365780125447949,0.02331762819394332,0.022975261919497482,0.022630877566698786,0.022284655647486874,0.021936781734746988,0.02158744612094886,0.021236843451810095,0.020885172336135488,0.02053263493318448,0.020179436519115593,0.019825785034246406,0.019471890613048225,0.019117965098963654,0.018764221546290535,0.018410873711514755,0.01805813553659549,0.01770622062680731,0.01735534172582292,0.01700571019077641,0.01665753547007883,0.016311024586764956,0.015966381630131466,0.015623807258382891,0.015283498214932205,0.014945646860909018,0.01461044072631065,0.014278062082091298,0.013948687535323783,0.013622487649388788,0.01329962659095043,0.012980261805266635,0.01266454372116097,0.012352615486751772,0.012044612736797666,0.011740663392278514,0.011440887492590408,0.011145397060495277,0.010854295999732609,0.01056768002497526,0.010285636623595593,0.010008245048504415,0.00973557634113512,0.009467693383470824,0.00920465097785424,0.008946495953179744,0.008693267295945164,0.008444996304537773,0.008201706765044963,0.007963415146814918,0.007730130815946166,0.007501856264856309,0.007278587356069042,0.007060313578363585,0.006847018313450973,0.0066386791113759195,0.006435267972889984,0.0062367516371001595,0.006043091872765279,0.005854245771689513,0.00567016604274619,0.005490801305154904,0.005316096379728971,0.005145992576907608,0.004980427980486362,0.004819337726059376,0.004662654273286873,0.004510307671199957,0.004362225815851534,0.004218334699716221,0.004078558652332844,0.003942820571770027,0.003811042146578004,0.0036831440679678065,0.0035590462320321246,0.0034386679318902523,0.0033219280397024666,0.003208745178556963,0.003099037884285036,0.0029927247573076883,0.002889724604659329,0.002789956572371872,0.0026933402684355436,0.0025997958765812514,0.0025092442611537,0.0024216070633648022,0.002336806789233568,0.0022547668895318562,0.002175411832065345,0.002098667166626163,0.0020244595829579937,0.0019527169620764473,0.0018833684212872942,0.0018163443532429975,0.0017515764593741432,0.0016889977780269968,0.0016285427076317594,0.0015701470252183253],\"type\":\"scatter\"}],                        {\"template\":{\"data\":{\"histogram2dcontour\":[{\"type\":\"histogram2dcontour\",\"colorbar\":{\"outlinewidth\":0,\"ticks\":\"\"},\"colorscale\":[[0.0,\"#0d0887\"],[0.1111111111111111,\"#46039f\"],[0.2222222222222222,\"#7201a8\"],[0.3333333333333333,\"#9c179e\"],[0.4444444444444444,\"#bd3786\"],[0.5555555555555556,\"#d8576b\"],[0.6666666666666666,\"#ed7953\"],[0.7777777777777778,\"#fb9f3a\"],[0.8888888888888888,\"#fdca26\"],[1.0,\"#f0f921\"]]}],\"choropleth\":[{\"type\":\"choropleth\",\"colorbar\":{\"outlinewidth\":0,\"ticks\":\"\"}}],\"histogram2d\":[{\"type\":\"histogram2d\",\"colorbar\":{\"outlinewidth\":0,\"ticks\":\"\"},\"colorscale\":[[0.0,\"#0d0887\"],[0.1111111111111111,\"#46039f\"],[0.2222222222222222,\"#7201a8\"],[0.3333333333333333,\"#9c179e\"],[0.4444444444444444,\"#bd3786\"],[0.5555555555555556,\"#d8576b\"],[0.6666666666666666,\"#ed7953\"],[0.7777777777777778,\"#fb9f3a\"],[0.8888888888888888,\"#fdca26\"],[1.0,\"#f0f921\"]]}],\"heatmap\":[{\"type\":\"heatmap\",\"colorbar\":{\"outlinewidth\":0,\"ticks\":\"\"},\"colorscale\":[[0.0,\"#0d0887\"],[0.1111111111111111,\"#46039f\"],[0.2222222222222222,\"#7201a8\"],[0.3333333333333333,\"#9c179e\"],[0.4444444444444444,\"#bd3786\"],[0.5555555555555556,\"#d8576b\"],[0.6666666666666666,\"#ed7953\"],[0.7777777777777778,\"#fb9f3a\"],[0.8888888888888888,\"#fdca26\"],[1.0,\"#f0f921\"]]}],\"heatmapgl\":[{\"type\":\"heatmapgl\",\"colorbar\":{\"outlinewidth\":0,\"ticks\":\"\"},\"colorscale\":[[0.0,\"#0d0887\"],[0.1111111111111111,\"#46039f\"],[0.2222222222222222,\"#7201a8\"],[0.3333333333333333,\"#9c179e\"],[0.4444444444444444,\"#bd3786\"],[0.5555555555555556,\"#d8576b\"],[0.6666666666666666,\"#ed7953\"],[0.7777777777777778,\"#fb9f3a\"],[0.8888888888888888,\"#fdca26\"],[1.0,\"#f0f921\"]]}],\"contourcarpet\":[{\"type\":\"contourcarpet\",\"colorbar\":{\"outlinewidth\":0,\"ticks\":\"\"}}],\"contour\":[{\"type\":\"contour\",\"colorbar\":{\"outlinewidth\":0,\"ticks\":\"\"},\"colorscale\":[[0.0,\"#0d0887\"],[0.1111111111111111,\"#46039f\"],[0.2222222222222222,\"#7201a8\"],[0.3333333333333333,\"#9c179e\"],[0.4444444444444444,\"#bd3786\"],[0.5555555555555556,\"#d8576b\"],[0.6666666666666666,\"#ed7953\"],[0.7777777777777778,\"#fb9f3a\"],[0.8888888888888888,\"#fdca26\"],[1.0,\"#f0f921\"]]}],\"surface\":[{\"type\":\"surface\",\"colorbar\":{\"outlinewidth\":0,\"ticks\":\"\"},\"colorscale\":[[0.0,\"#0d0887\"],[0.1111111111111111,\"#46039f\"],[0.2222222222222222,\"#7201a8\"],[0.3333333333333333,\"#9c179e\"],[0.4444444444444444,\"#bd3786\"],[0.5555555555555556,\"#d8576b\"],[0.6666666666666666,\"#ed7953\"],[0.7777777777777778,\"#fb9f3a\"],[0.8888888888888888,\"#fdca26\"],[1.0,\"#f0f921\"]]}],\"mesh3d\":[{\"type\":\"mesh3d\",\"colorbar\":{\"outlinewidth\":0,\"ticks\":\"\"}}],\"scatter\":[{\"fillpattern\":{\"fillmode\":\"overlay\",\"size\":10,\"solidity\":0.2},\"type\":\"scatter\"}],\"parcoords\":[{\"type\":\"parcoords\",\"line\":{\"colorbar\":{\"outlinewidth\":0,\"ticks\":\"\"}}}],\"scatterpolargl\":[{\"type\":\"scatterpolargl\",\"marker\":{\"colorbar\":{\"outlinewidth\":0,\"ticks\":\"\"}}}],\"bar\":[{\"error_x\":{\"color\":\"#2a3f5f\"},\"error_y\":{\"color\":\"#2a3f5f\"},\"marker\":{\"line\":{\"color\":\"#E5ECF6\",\"width\":0.5},\"pattern\":{\"fillmode\":\"overlay\",\"size\":10,\"solidity\":0.2}},\"type\":\"bar\"}],\"scattergeo\":[{\"type\":\"scattergeo\",\"marker\":{\"colorbar\":{\"outlinewidth\":0,\"ticks\":\"\"}}}],\"scatterpolar\":[{\"type\":\"scatterpolar\",\"marker\":{\"colorbar\":{\"outlinewidth\":0,\"ticks\":\"\"}}}],\"histogram\":[{\"marker\":{\"pattern\":{\"fillmode\":\"overlay\",\"size\":10,\"solidity\":0.2}},\"type\":\"histogram\"}],\"scattergl\":[{\"type\":\"scattergl\",\"marker\":{\"colorbar\":{\"outlinewidth\":0,\"ticks\":\"\"}}}],\"scatter3d\":[{\"type\":\"scatter3d\",\"line\":{\"colorbar\":{\"outlinewidth\":0,\"ticks\":\"\"}},\"marker\":{\"colorbar\":{\"outlinewidth\":0,\"ticks\":\"\"}}}],\"scattermapbox\":[{\"type\":\"scattermapbox\",\"marker\":{\"colorbar\":{\"outlinewidth\":0,\"ticks\":\"\"}}}],\"scatterternary\":[{\"type\":\"scatterternary\",\"marker\":{\"colorbar\":{\"outlinewidth\":0,\"ticks\":\"\"}}}],\"scattercarpet\":[{\"type\":\"scattercarpet\",\"marker\":{\"colorbar\":{\"outlinewidth\":0,\"ticks\":\"\"}}}],\"carpet\":[{\"aaxis\":{\"endlinecolor\":\"#2a3f5f\",\"gridcolor\":\"white\",\"linecolor\":\"white\",\"minorgridcolor\":\"white\",\"startlinecolor\":\"#2a3f5f\"},\"baxis\":{\"endlinecolor\":\"#2a3f5f\",\"gridcolor\":\"white\",\"linecolor\":\"white\",\"minorgridcolor\":\"white\",\"startlinecolor\":\"#2a3f5f\"},\"type\":\"carpet\"}],\"table\":[{\"cells\":{\"fill\":{\"color\":\"#EBF0F8\"},\"line\":{\"color\":\"white\"}},\"header\":{\"fill\":{\"color\":\"#C8D4E3\"},\"line\":{\"color\":\"white\"}},\"type\":\"table\"}],\"barpolar\":[{\"marker\":{\"line\":{\"color\":\"#E5ECF6\",\"width\":0.5},\"pattern\":{\"fillmode\":\"overlay\",\"size\":10,\"solidity\":0.2}},\"type\":\"barpolar\"}],\"pie\":[{\"automargin\":true,\"type\":\"pie\"}]},\"layout\":{\"autotypenumbers\":\"strict\",\"colorway\":[\"#636efa\",\"#EF553B\",\"#00cc96\",\"#ab63fa\",\"#FFA15A\",\"#19d3f3\",\"#FF6692\",\"#B6E880\",\"#FF97FF\",\"#FECB52\"],\"font\":{\"color\":\"#2a3f5f\"},\"hovermode\":\"closest\",\"hoverlabel\":{\"align\":\"left\"},\"paper_bgcolor\":\"white\",\"plot_bgcolor\":\"#E5ECF6\",\"polar\":{\"bgcolor\":\"#E5ECF6\",\"angularaxis\":{\"gridcolor\":\"white\",\"linecolor\":\"white\",\"ticks\":\"\"},\"radialaxis\":{\"gridcolor\":\"white\",\"linecolor\":\"white\",\"ticks\":\"\"}},\"ternary\":{\"bgcolor\":\"#E5ECF6\",\"aaxis\":{\"gridcolor\":\"white\",\"linecolor\":\"white\",\"ticks\":\"\"},\"baxis\":{\"gridcolor\":\"white\",\"linecolor\":\"white\",\"ticks\":\"\"},\"caxis\":{\"gridcolor\":\"white\",\"linecolor\":\"white\",\"ticks\":\"\"}},\"coloraxis\":{\"colorbar\":{\"outlinewidth\":0,\"ticks\":\"\"}},\"colorscale\":{\"sequential\":[[0.0,\"#0d0887\"],[0.1111111111111111,\"#46039f\"],[0.2222222222222222,\"#7201a8\"],[0.3333333333333333,\"#9c179e\"],[0.4444444444444444,\"#bd3786\"],[0.5555555555555556,\"#d8576b\"],[0.6666666666666666,\"#ed7953\"],[0.7777777777777778,\"#fb9f3a\"],[0.8888888888888888,\"#fdca26\"],[1.0,\"#f0f921\"]],\"sequentialminus\":[[0.0,\"#0d0887\"],[0.1111111111111111,\"#46039f\"],[0.2222222222222222,\"#7201a8\"],[0.3333333333333333,\"#9c179e\"],[0.4444444444444444,\"#bd3786\"],[0.5555555555555556,\"#d8576b\"],[0.6666666666666666,\"#ed7953\"],[0.7777777777777778,\"#fb9f3a\"],[0.8888888888888888,\"#fdca26\"],[1.0,\"#f0f921\"]],\"diverging\":[[0,\"#8e0152\"],[0.1,\"#c51b7d\"],[0.2,\"#de77ae\"],[0.3,\"#f1b6da\"],[0.4,\"#fde0ef\"],[0.5,\"#f7f7f7\"],[0.6,\"#e6f5d0\"],[0.7,\"#b8e186\"],[0.8,\"#7fbc41\"],[0.9,\"#4d9221\"],[1,\"#276419\"]]},\"xaxis\":{\"gridcolor\":\"white\",\"linecolor\":\"white\",\"ticks\":\"\",\"title\":{\"standoff\":15},\"zerolinecolor\":\"white\",\"automargin\":true,\"zerolinewidth\":2},\"yaxis\":{\"gridcolor\":\"white\",\"linecolor\":\"white\",\"ticks\":\"\",\"title\":{\"standoff\":15},\"zerolinecolor\":\"white\",\"automargin\":true,\"zerolinewidth\":2},\"scene\":{\"xaxis\":{\"backgroundcolor\":\"#E5ECF6\",\"gridcolor\":\"white\",\"linecolor\":\"white\",\"showbackground\":true,\"ticks\":\"\",\"zerolinecolor\":\"white\",\"gridwidth\":2},\"yaxis\":{\"backgroundcolor\":\"#E5ECF6\",\"gridcolor\":\"white\",\"linecolor\":\"white\",\"showbackground\":true,\"ticks\":\"\",\"zerolinecolor\":\"white\",\"gridwidth\":2},\"zaxis\":{\"backgroundcolor\":\"#E5ECF6\",\"gridcolor\":\"white\",\"linecolor\":\"white\",\"showbackground\":true,\"ticks\":\"\",\"zerolinecolor\":\"white\",\"gridwidth\":2}},\"shapedefaults\":{\"line\":{\"color\":\"#2a3f5f\"}},\"annotationdefaults\":{\"arrowcolor\":\"#2a3f5f\",\"arrowhead\":0,\"arrowwidth\":1},\"geo\":{\"bgcolor\":\"white\",\"landcolor\":\"#E5ECF6\",\"subunitcolor\":\"white\",\"showland\":true,\"showlakes\":true,\"lakecolor\":\"white\"},\"title\":{\"x\":0.05},\"mapbox\":{\"style\":\"light\"}}},\"title\":{\"text\":\"Fig 5(c)\"},\"xaxis\":{\"title\":{\"text\":\"t\"}},\"yaxis\":{\"title\":{\"text\":\"x\"}}},                        {\"responsive\": true}                    ).then(function(){\n",
       "                            \n",
       "var gd = document.getElementById('ecafe782-b436-418b-9184-5f746059a03b');\n",
       "var x = new MutationObserver(function (mutations, observer) {{\n",
       "        var display = window.getComputedStyle(gd).display;\n",
       "        if (!display || display === 'none') {{\n",
       "            console.log([gd, 'removed!']);\n",
       "            Plotly.purge(gd);\n",
       "            observer.disconnect();\n",
       "        }}\n",
       "}});\n",
       "\n",
       "// Listen for the removal of the full notebook cells\n",
       "var notebookContainer = gd.closest('#notebook-container');\n",
       "if (notebookContainer) {{\n",
       "    x.observe(notebookContainer, {childList: true});\n",
       "}}\n",
       "\n",
       "// Listen for the clearing of the current output cell\n",
       "var outputEl = gd.closest('.output');\n",
       "if (outputEl) {{\n",
       "    x.observe(outputEl, {childList: true});\n",
       "}}\n",
       "\n",
       "                        })                };                });            </script>        </div>"
      ]
     },
     "metadata": {},
     "output_type": "display_data"
    }
   ],
   "source": [
    "fig = go.Figure()\n",
    "fig.add_trace(go.Scatter(x=ts, y=xs_smart_protocol, mode='lines+markers', line=dict(color=\"green\"), name = \"\"))\n",
    "fig.update_layout(title=\"Fig 5(c)\")\n",
    "fig.update_layout(xaxis={\"title\": \"t\"}, yaxis={\"title\": \"x\"})"
   ]
  },
  {
   "cell_type": "code",
   "execution_count": null,
   "id": "14da620d-fc6d-469c-aee4-f31a79281f47",
   "metadata": {},
   "outputs": [],
   "source": []
  },
  {
   "cell_type": "code",
   "execution_count": null,
   "id": "bc544935-36a5-4bed-aeb3-b6fb3a7b1578",
   "metadata": {},
   "outputs": [],
   "source": []
  },
  {
   "cell_type": "code",
   "execution_count": null,
   "id": "548e6847-983f-4eee-8fb6-d0e4774f0f64",
   "metadata": {},
   "outputs": [],
   "source": []
  },
  {
   "cell_type": "code",
   "execution_count": null,
   "id": "dd79c87a-625c-44d2-8bfd-d8e7ed80782b",
   "metadata": {},
   "outputs": [],
   "source": []
  }
 ],
 "metadata": {
  "kernelspec": {
   "display_name": "Python 3 (ipykernel)",
   "language": "python",
   "name": "python3"
  },
  "language_info": {
   "codemirror_mode": {
    "name": "ipython",
    "version": 3
   },
   "file_extension": ".py",
   "mimetype": "text/x-python",
   "name": "python",
   "nbconvert_exporter": "python",
   "pygments_lexer": "ipython3",
   "version": "3.10.6"
  }
 },
 "nbformat": 4,
 "nbformat_minor": 5
}

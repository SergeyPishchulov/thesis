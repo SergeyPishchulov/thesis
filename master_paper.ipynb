{
 "cells": [
  {
   "cell_type": "code",
   "execution_count": 1,
   "metadata": {
    "id": "FAx5T0k-MuER",
    "tags": []
   },
   "outputs": [],
   "source": [
    "from sympy import *\n",
    "from IPython.display import display, Math\n",
    "import numpy as np\n",
    "init_printing(use_unicode=True)\n",
    "import plotly.express as px\n",
    "import plotly.graph_objects as go\n",
    "from tqdm import tqdm"
   ]
  },
  {
   "cell_type": "code",
   "execution_count": 19,
   "metadata": {
    "id": "KvGMScMINuKD",
    "tags": []
   },
   "outputs": [],
   "source": [
    "from sympy import solve\n",
    "\n",
    "x = Symbol('x', positive=True)\n",
    "y = Symbol('y', positive=True)\n",
    "\n",
    "sigma, mu, delta, alpha, beta, ro, eta, b, lambd = symbols(\n",
    "    'σ μ δ α β ρ η b λ')\n",
    "\n",
    "sigma_c = 0.1181\n",
    "ro_c = 1.131\n",
    "eta_c = 20.19\n",
    "alpha_c = 1.636\n",
    "beta_c = 0.002\n",
    "delta_c = 0.3743\n",
    "mu_c = 0.005\n",
    "b_c = 0\n",
    "\n",
    "dxdt = sigma + ro*x*y/(eta + y) - mu*x*y - delta*x\n",
    "dydt = alpha*y*(1-beta*y)-x*y-(b*y)/(1+y)\n",
    "\n",
    "concrete_params = {ro: ro_c, sigma: sigma_c, eta: eta_c, b: b_c,\n",
    "                   alpha: alpha_c, beta: beta_c, mu: mu_c, delta: delta_c}\n",
    "muless_params = dict(concrete_params)\n",
    "del muless_params[mu]\n"
   ]
  },
  {
   "cell_type": "code",
   "execution_count": 20,
   "metadata": {
    "tags": []
   },
   "outputs": [
    {
     "data": {
      "text/latex": [
       "$\\displaystyle \\dfrac{dx}{dt} = - x y μ + \\frac{x y ρ}{y + η} - x δ + σ$"
      ],
      "text/plain": [
       "<IPython.core.display.Math object>"
      ]
     },
     "metadata": {},
     "output_type": "display_data"
    },
    {
     "data": {
      "text/latex": [
       "$\\displaystyle \\dfrac{dy}{dt} = - \\frac{b y}{y + 1} - x y + y α \\left(- y β + 1\\right)$"
      ],
      "text/plain": [
       "<IPython.core.display.Math object>"
      ]
     },
     "metadata": {},
     "output_type": "display_data"
    }
   ],
   "source": [
    "display(Math('\\dfrac{dx}{dt} = ' + latex(dxdt)))\n",
    "display(Math('\\dfrac{dy}{dt} = ' + latex(dydt)))"
   ]
  },
  {
   "cell_type": "markdown",
   "metadata": {},
   "source": [
    "### Точки равновесия"
   ]
  },
  {
   "cell_type": "markdown",
   "metadata": {},
   "source": [
    "### 1"
   ]
  },
  {
   "cell_type": "code",
   "execution_count": 21,
   "metadata": {
    "tags": []
   },
   "outputs": [
    {
     "data": {
      "text/latex": [
       "$\\displaystyle x = \\frac{σ}{δ}$"
      ],
      "text/plain": [
       "<IPython.core.display.Math object>"
      ]
     },
     "metadata": {},
     "output_type": "display_data"
    },
    {
     "data": {
      "text/latex": [
       "$\\displaystyle y = 0$"
      ],
      "text/plain": [
       "<IPython.core.display.Math object>"
      ]
     },
     "metadata": {},
     "output_type": "display_data"
    }
   ],
   "source": [
    "display(Math('x = ' + latex(sigma/delta)))\n",
    "display(Math('y = 0' )) # Решение не зависит от μ"
   ]
  },
  {
   "cell_type": "code",
   "execution_count": 22,
   "metadata": {
    "tags": []
   },
   "outputs": [],
   "source": [
    "def get_solutions(cur_mu=concrete_params[mu]):\n",
    "    params = dict(concrete_params)\n",
    "    params[mu] = cur_mu\n",
    "    return solve([dxdt.subs(params), dydt.subs(params)], x,y)"
   ]
  },
  {
   "cell_type": "code",
   "execution_count": 23,
   "metadata": {
    "tags": []
   },
   "outputs": [],
   "source": [
    "def display_solutions(sols):\n",
    "    for s in sols:\n",
    "        display(s)"
   ]
  },
  {
   "cell_type": "code",
   "execution_count": 24,
   "metadata": {
    "tags": []
   },
   "outputs": [],
   "source": [
    "def display_sol_list(sol_list):\n",
    "    for cur_mu, sols in sol_list:\n",
    "        print(f\"mu = {cur_mu}\")\n",
    "        display_solutions(sols)\n",
    "        display(\"*\"*20)"
   ]
  },
  {
   "cell_type": "code",
   "execution_count": 25,
   "metadata": {
    "tags": []
   },
   "outputs": [],
   "source": [
    "# for s in get_solutions():\n",
    "#     display(s)"
   ]
  },
  {
   "cell_type": "markdown",
   "metadata": {},
   "source": [
    "#### Бифуркационная диаграмма"
   ]
  },
  {
   "cell_type": "code",
   "execution_count": 26,
   "metadata": {
    "tags": []
   },
   "outputs": [],
   "source": [
    "mus = np.linspace(0.002, 0.022, 50)\n",
    "# mus"
   ]
  },
  {
   "cell_type": "code",
   "execution_count": 27,
   "metadata": {
    "tags": []
   },
   "outputs": [
    {
     "data": {
      "image/png": "[encoded data removed]",
      "text/latex": [
       "$\\displaystyle \\left\\{ b : 0, \\  α : 1.636, \\  β : 0.002, \\  δ : 0.3743, \\  η : 20.19, \\  μ : 0.005, \\  ρ : 1.131, \\  σ : 0.1181\\right\\}$"
      ],
      "text/plain": [
       "{b: 0, α: 1.636, β: 0.002, δ: 0.3743, η: 20.19, μ: 0.005, ρ: 1.131, σ: 0.1181}"
      ]
     },
     "execution_count": 27,
     "metadata": {},
     "output_type": "execute_result"
    }
   ],
   "source": [
    "concrete_params"
   ]
  },
  {
   "cell_type": "code",
   "execution_count": 28,
   "metadata": {
    "tags": []
   },
   "outputs": [
    {
     "name": "stderr",
     "output_type": "stream",
     "text": [
      "100%|███████████████████████████████████████████| 50/50 [01:44<00:00,  2.10s/it]\n"
     ]
    }
   ],
   "source": [
    "xs=[]\n",
    "ys = []\n",
    "mul = []\n",
    "solutions_by_mu={}\n",
    "for cur_mu in tqdm(mus):\n",
    "    solutions = get_solutions(cur_mu)\n",
    "    solutions_by_mu[cur_mu]= solutions\n",
    "    # for s in solutions:\n",
    "    #     if s[1]!=0:# and s[1].as_real_imag()[1]==0:#real\n",
    "    #         ys.append(s[1].as_real_imag()[0])\n",
    "    #         mul.append(cur_mu)\n",
    "            \n",
    "    "
   ]
  },
  {
   "cell_type": "code",
   "execution_count": 29,
   "metadata": {
    "tags": []
   },
   "outputs": [],
   "source": [
    "# for cur_mu, sols in list(solutions_by_mu.items()):\n",
    "#     print(f\"mu = {cur_mu}\")\n",
    "#     display_solutions(sols)\n",
    "#     display(\"*\"*20)"
   ]
  },
  {
   "cell_type": "code",
   "execution_count": null,
   "metadata": {
    "tags": []
   },
   "outputs": [],
   "source": []
  },
  {
   "cell_type": "code",
   "execution_count": 30,
   "metadata": {
    "tags": []
   },
   "outputs": [
    {
     "name": "stdout",
     "output_type": "stream",
     "text": [
      "mu = 0.002\n"
     ]
    },
    {
     "data": {
      "image/png": "[encoded data removed]",
      "text/latex": [
       "$\\displaystyle \\left( 1.61031134582004, \\  7.8510556784706\\right)$"
      ],
      "text/plain": [
       "(1.61031134582004, 7.8510556784706)"
      ]
     },
     "metadata": {},
     "output_type": "display_data"
    },
    {
     "data": {
      "text/plain": [
       "'********************'"
      ]
     },
     "metadata": {},
     "output_type": "display_data"
    },
    {
     "name": "stdout",
     "output_type": "stream",
     "text": [
      "mu = 0.0024081632653061226\n"
     ]
    },
    {
     "data": {
      "image/png": "[encoded data removed]",
      "text/latex": [
       "$\\displaystyle \\left( 1.60991802191104, \\  7.97126469711529\\right)$"
      ],
      "text/plain": [
       "(1.60991802191104, 7.97126469711529)"
      ]
     },
     "metadata": {},
     "output_type": "display_data"
    },
    {
     "data": {
      "text/plain": [
       "'********************'"
      ]
     },
     "metadata": {},
     "output_type": "display_data"
    },
    {
     "name": "stdout",
     "output_type": "stream",
     "text": [
      "mu = 0.0028163265306122448\n"
     ]
    },
    {
     "data": {
      "text/plain": [
       "'********************'"
      ]
     },
     "metadata": {},
     "output_type": "display_data"
    },
    {
     "name": "stdout",
     "output_type": "stream",
     "text": [
      "mu = 0.0032244897959183673\n"
     ]
    },
    {
     "data": {
      "text/plain": [
       "'********************'"
      ]
     },
     "metadata": {},
     "output_type": "display_data"
    },
    {
     "name": "stdout",
     "output_type": "stream",
     "text": [
      "mu = 0.0036326530612244895\n"
     ]
    },
    {
     "data": {
      "text/plain": [
       "'********************'"
      ]
     },
     "metadata": {},
     "output_type": "display_data"
    },
    {
     "name": "stdout",
     "output_type": "stream",
     "text": [
      "mu = 0.0040408163265306125\n"
     ]
    },
    {
     "data": {
      "text/plain": [
       "'********************'"
      ]
     },
     "metadata": {},
     "output_type": "display_data"
    },
    {
     "name": "stdout",
     "output_type": "stream",
     "text": [
      "mu = 0.004448979591836735\n"
     ]
    },
    {
     "data": {
      "text/plain": [
       "'********************'"
      ]
     },
     "metadata": {},
     "output_type": "display_data"
    },
    {
     "name": "stdout",
     "output_type": "stream",
     "text": [
      "mu = 0.004857142857142857\n"
     ]
    },
    {
     "data": {
      "text/plain": [
       "'********************'"
      ]
     },
     "metadata": {},
     "output_type": "display_data"
    }
   ],
   "source": [
    "sols_list = list(solutions_by_mu.items())\n",
    "display_sol_list(sols_list[:8])"
   ]
  },
  {
   "cell_type": "code",
   "execution_count": 31,
   "metadata": {
    "tags": []
   },
   "outputs": [
    {
     "data": {
      "application/vnd.plotly.v1+json": {
       "config": {
        "plotlyServerURL": "https://plot.ly"
       },
       "data": [
        {
         "mode": "markers",
         "name": "x_im_parts",
         "type": "scatter",
         "x": [
          0.002,
          0.0024081632653061226,
          0.013428571428571427,
          0.01383673469387755,
          0.014244897959183673,
          0.014653061224489795,
          0.015061224489795917,
          0.01546938775510204,
          0.01587755102040816,
          0.016285714285714285,
          0.016693877551020406,
          0.01710204081632653,
          0.017510204081632653,
          0.017918367346938774,
          0.018326530612244894,
          0.01873469387755102,
          0.019142857142857142,
          0.019551020408163262,
          0.019959183673469383,
          0.02036734693877551,
          0.02077551020408163,
          0.02118367346938775,
          0.02159183673469388,
          0.022
         ],
         "y": [
          0,
          0,
          0,
          0,
          0,
          0,
          0,
          0,
          0,
          0,
          0,
          0,
          0,
          0,
          0,
          0,
          0,
          0,
          0,
          0,
          0,
          0,
          0,
          0
         ]
        },
        {
         "mode": "markers",
         "name": "y_im_parts",
         "type": "scatter",
         "x": [
          0.002,
          0.0024081632653061226,
          0.013428571428571427,
          0.01383673469387755,
          0.014244897959183673,
          0.014653061224489795,
          0.015061224489795917,
          0.01546938775510204,
          0.01587755102040816,
          0.016285714285714285,
          0.016693877551020406,
          0.01710204081632653,
          0.017510204081632653,
          0.017918367346938774,
          0.018326530612244894,
          0.01873469387755102,
          0.019142857142857142,
          0.019551020408163262,
          0.019959183673469383,
          0.02036734693877551,
          0.02077551020408163,
          0.02118367346938775,
          0.02159183673469388,
          0.022
         ],
         "y": [
          0,
          0,
          0,
          0,
          0,
          0,
          0,
          0,
          0,
          0,
          0,
          0,
          0,
          0,
          0,
          0,
          0,
          0,
          0,
          0,
          0,
          0,
          0,
          0
         ]
        }
       ],
       "layout": {
        "autosize": true,
        "template": {
         "data": {
          "bar": [
           {
            "error_x": {
             "color": "#2a3f5f"
            },
            "error_y": {
             "color": "#2a3f5f"
            },
            "marker": {
             "line": {
              "color": "#E5ECF6",
              "width": 0.5
             },
             "pattern": {
              "fillmode": "overlay",
              "size": 10,
              "solidity": 0.2
             }
            },
            "type": "bar"
           }
          ],
          "barpolar": [
           {
            "marker": {
             "line": {
              "color": "#E5ECF6",
              "width": 0.5
             },
             "pattern": {
              "fillmode": "overlay",
              "size": 10,
              "solidity": 0.2
             }
            },
            "type": "barpolar"
           }
          ],
          "carpet": [
           {
            "aaxis": {
             "endlinecolor": "#2a3f5f",
             "gridcolor": "white",
             "linecolor": "white",
             "minorgridcolor": "white",
             "startlinecolor": "#2a3f5f"
            },
            "baxis": {
             "endlinecolor": "#2a3f5f",
             "gridcolor": "white",
             "linecolor": "white",
             "minorgridcolor": "white",
             "startlinecolor": "#2a3f5f"
            },
            "type": "carpet"
           }
          ],
          "choropleth": [
           {
            "colorbar": {
             "outlinewidth": 0,
             "ticks": ""
            },
            "type": "choropleth"
           }
          ],
          "contour": [
           {
            "colorbar": {
             "outlinewidth": 0,
             "ticks": ""
            },
            "colorscale": [
             [
              0,
              "#0d0887"
             ],
             [
              0.1111111111111111,
              "#46039f"
             ],
             [
              0.2222222222222222,
              "#7201a8"
             ],
             [
              0.3333333333333333,
              "#9c179e"
             ],
             [
              0.4444444444444444,
              "#bd3786"
             ],
             [
              0.5555555555555556,
              "#d8576b"
             ],
             [
              0.6666666666666666,
              "#ed7953"
             ],
             [
              0.7777777777777778,
              "#fb9f3a"
             ],
             [
              0.8888888888888888,
              "#fdca26"
             ],
             [
              1,
              "#f0f921"
             ]
            ],
            "type": "contour"
           }
          ],
          "contourcarpet": [
           {
            "colorbar": {
             "outlinewidth": 0,
             "ticks": ""
            },
            "type": "contourcarpet"
           }
          ],
          "heatmap": [
           {
            "colorbar": {
             "outlinewidth": 0,
             "ticks": ""
            },
            "colorscale": [
             [
              0,
              "#0d0887"
             ],
             [
              0.1111111111111111,
              "#46039f"
             ],
             [
              0.2222222222222222,
              "#7201a8"
             ],
             [
              0.3333333333333333,
              "#9c179e"
             ],
             [
              0.4444444444444444,
              "#bd3786"
             ],
             [
              0.5555555555555556,
              "#d8576b"
             ],
             [
              0.6666666666666666,
              "#ed7953"
             ],
             [
              0.7777777777777778,
              "#fb9f3a"
             ],
             [
              0.8888888888888888,
              "#fdca26"
             ],
             [
              1,
              "#f0f921"
             ]
            ],
            "type": "heatmap"
           }
          ],
          "heatmapgl": [
           {
            "colorbar": {
             "outlinewidth": 0,
             "ticks": ""
            },
            "colorscale": [
             [
              0,
              "#0d0887"
             ],
             [
              0.1111111111111111,
              "#46039f"
             ],
             [
              0.2222222222222222,
              "#7201a8"
             ],
             [
              0.3333333333333333,
              "#9c179e"
             ],
             [
              0.4444444444444444,
              "#bd3786"
             ],
             [
              0.5555555555555556,
              "#d8576b"
             ],
             [
              0.6666666666666666,
              "#ed7953"
             ],
             [
              0.7777777777777778,
              "#fb9f3a"
             ],
             [
              0.8888888888888888,
              "#fdca26"
             ],
             [
              1,
              "#f0f921"
             ]
            ],
            "type": "heatmapgl"
           }
          ],
          "histogram": [
           {
            "marker": {
             "pattern": {
              "fillmode": "overlay",
              "size": 10,
              "solidity": 0.2
             }
            },
            "type": "histogram"
           }
          ],
          "histogram2d": [
           {
            "colorbar": {
             "outlinewidth": 0,
             "ticks": ""
            },
            "colorscale": [
             [
              0,
              "#0d0887"
             ],
             [
              0.1111111111111111,
              "#46039f"
             ],
             [
              0.2222222222222222,
              "#7201a8"
             ],
             [
              0.3333333333333333,
              "#9c179e"
             ],
             [
              0.4444444444444444,
              "#bd3786"
             ],
             [
              0.5555555555555556,
              "#d8576b"
             ],
             [
              0.6666666666666666,
              "#ed7953"
             ],
             [
              0.7777777777777778,
              "#fb9f3a"
             ],
             [
              0.8888888888888888,
              "#fdca26"
             ],
             [
              1,
              "#f0f921"
             ]
            ],
            "type": "histogram2d"
           }
          ],
          "histogram2dcontour": [
           {
            "colorbar": {
             "outlinewidth": 0,
             "ticks": ""
            },
            "colorscale": [
             [
              0,
              "#0d0887"
             ],
             [
              0.1111111111111111,
              "#46039f"
             ],
             [
              0.2222222222222222,
              "#7201a8"
             ],
             [
              0.3333333333333333,
              "#9c179e"
             ],
             [
              0.4444444444444444,
              "#bd3786"
             ],
             [
              0.5555555555555556,
              "#d8576b"
             ],
             [
              0.6666666666666666,
              "#ed7953"
             ],
             [
              0.7777777777777778,
              "#fb9f3a"
             ],
             [
              0.8888888888888888,
              "#fdca26"
             ],
             [
              1,
              "#f0f921"
             ]
            ],
            "type": "histogram2dcontour"
           }
          ],
          "mesh3d": [
           {
            "colorbar": {
             "outlinewidth": 0,
             "ticks": ""
            },
            "type": "mesh3d"
           }
          ],
          "parcoords": [
           {
            "line": {
             "colorbar": {
              "outlinewidth": 0,
              "ticks": ""
             }
            },
            "type": "parcoords"
           }
          ],
          "pie": [
           {
            "automargin": true,
            "type": "pie"
           }
          ],
          "scatter": [
           {
            "fillpattern": {
             "fillmode": "overlay",
             "size": 10,
             "solidity": 0.2
            },
            "type": "scatter"
           }
          ],
          "scatter3d": [
           {
            "line": {
             "colorbar": {
              "outlinewidth": 0,
              "ticks": ""
             }
            },
            "marker": {
             "colorbar": {
              "outlinewidth": 0,
              "ticks": ""
             }
            },
            "type": "scatter3d"
           }
          ],
          "scattercarpet": [
           {
            "marker": {
             "colorbar": {
              "outlinewidth": 0,
              "ticks": ""
             }
            },
            "type": "scattercarpet"
           }
          ],
          "scattergeo": [
           {
            "marker": {
             "colorbar": {
              "outlinewidth": 0,
              "ticks": ""
             }
            },
            "type": "scattergeo"
           }
          ],
          "scattergl": [
           {
            "marker": {
             "colorbar": {
              "outlinewidth": 0,
              "ticks": ""
             }
            },
            "type": "scattergl"
           }
          ],
          "scattermapbox": [
           {
            "marker": {
             "colorbar": {
              "outlinewidth": 0,
              "ticks": ""
             }
            },
            "type": "scattermapbox"
           }
          ],
          "scatterpolar": [
           {
            "marker": {
             "colorbar": {
              "outlinewidth": 0,
              "ticks": ""
             }
            },
            "type": "scatterpolar"
           }
          ],
          "scatterpolargl": [
           {
            "marker": {
             "colorbar": {
              "outlinewidth": 0,
              "ticks": ""
             }
            },
            "type": "scatterpolargl"
           }
          ],
          "scatterternary": [
           {
            "marker": {
             "colorbar": {
              "outlinewidth": 0,
              "ticks": ""
             }
            },
            "type": "scatterternary"
           }
          ],
          "surface": [
           {
            "colorbar": {
             "outlinewidth": 0,
             "ticks": ""
            },
            "colorscale": [
             [
              0,
              "#0d0887"
             ],
             [
              0.1111111111111111,
              "#46039f"
             ],
             [
              0.2222222222222222,
              "#7201a8"
             ],
             [
              0.3333333333333333,
              "#9c179e"
             ],
             [
              0.4444444444444444,
              "#bd3786"
             ],
             [
              0.5555555555555556,
              "#d8576b"
             ],
             [
              0.6666666666666666,
              "#ed7953"
             ],
             [
              0.7777777777777778,
              "#fb9f3a"
             ],
             [
              0.8888888888888888,
              "#fdca26"
             ],
             [
              1,
              "#f0f921"
             ]
            ],
            "type": "surface"
           }
          ],
          "table": [
           {
            "cells": {
             "fill": {
              "color": "#EBF0F8"
             },
             "line": {
              "color": "white"
             }
            },
            "header": {
             "fill": {
              "color": "#C8D4E3"
             },
             "line": {
              "color": "white"
             }
            },
            "type": "table"
           }
          ]
         },
         "layout": {
          "annotationdefaults": {
           "arrowcolor": "#2a3f5f",
           "arrowhead": 0,
           "arrowwidth": 1
          },
          "autotypenumbers": "strict",
          "coloraxis": {
           "colorbar": {
            "outlinewidth": 0,
            "ticks": ""
           }
          },
          "colorscale": {
           "diverging": [
            [
             0,
             "#8e0152"
            ],
            [
             0.1,
             "#c51b7d"
            ],
            [
             0.2,
             "#de77ae"
            ],
            [
             0.3,
             "#f1b6da"
            ],
            [
             0.4,
             "#fde0ef"
            ],
            [
             0.5,
             "#f7f7f7"
            ],
            [
             0.6,
             "#e6f5d0"
            ],
            [
             0.7,
             "#b8e186"
            ],
            [
             0.8,
             "#7fbc41"
            ],
            [
             0.9,
             "#4d9221"
            ],
            [
             1,
             "#276419"
            ]
           ],
           "sequential": [
            [
             0,
             "#0d0887"
            ],
            [
             0.1111111111111111,
             "#46039f"
            ],
            [
             0.2222222222222222,
             "#7201a8"
            ],
            [
             0.3333333333333333,
             "#9c179e"
            ],
            [
             0.4444444444444444,
             "#bd3786"
            ],
            [
             0.5555555555555556,
             "#d8576b"
            ],
            [
             0.6666666666666666,
             "#ed7953"
            ],
            [
             0.7777777777777778,
             "#fb9f3a"
            ],
            [
             0.8888888888888888,
             "#fdca26"
            ],
            [
             1,
             "#f0f921"
            ]
           ],
           "sequentialminus": [
            [
             0,
             "#0d0887"
            ],
            [
             0.1111111111111111,
             "#46039f"
            ],
            [
             0.2222222222222222,
             "#7201a8"
            ],
            [
             0.3333333333333333,
             "#9c179e"
            ],
            [
             0.4444444444444444,
             "#bd3786"
            ],
            [
             0.5555555555555556,
             "#d8576b"
            ],
            [
             0.6666666666666666,
             "#ed7953"
            ],
            [
             0.7777777777777778,
             "#fb9f3a"
            ],
            [
             0.8888888888888888,
             "#fdca26"
            ],
            [
             1,
             "#f0f921"
            ]
           ]
          },
          "colorway": [
           "#636efa",
           "#EF553B",
           "#00cc96",
           "#ab63fa",
           "#FFA15A",
           "#19d3f3",
           "#FF6692",
           "#B6E880",
           "#FF97FF",
           "#FECB52"
          ],
          "font": {
           "color": "#2a3f5f"
          },
          "geo": {
           "bgcolor": "white",
           "lakecolor": "white",
           "landcolor": "#E5ECF6",
           "showlakes": true,
           "showland": true,
           "subunitcolor": "white"
          },
          "hoverlabel": {
           "align": "left"
          },
          "hovermode": "closest",
          "mapbox": {
           "style": "light"
          },
          "paper_bgcolor": "white",
          "plot_bgcolor": "#E5ECF6",
          "polar": {
           "angularaxis": {
            "gridcolor": "white",
            "linecolor": "white",
            "ticks": ""
           },
           "bgcolor": "#E5ECF6",
           "radialaxis": {
            "gridcolor": "white",
            "linecolor": "white",
            "ticks": ""
           }
          },
          "scene": {
           "xaxis": {
            "backgroundcolor": "#E5ECF6",
            "gridcolor": "white",
            "gridwidth": 2,
            "linecolor": "white",
            "showbackground": true,
            "ticks": "",
            "zerolinecolor": "white"
           },
           "yaxis": {
            "backgroundcolor": "#E5ECF6",
            "gridcolor": "white",
            "gridwidth": 2,
            "linecolor": "white",
            "showbackground": true,
            "ticks": "",
            "zerolinecolor": "white"
           },
           "zaxis": {
            "backgroundcolor": "#E5ECF6",
            "gridcolor": "white",
            "gridwidth": 2,
            "linecolor": "white",
            "showbackground": true,
            "ticks": "",
            "zerolinecolor": "white"
           }
          },
          "shapedefaults": {
           "line": {
            "color": "#2a3f5f"
           }
          },
          "ternary": {
           "aaxis": {
            "gridcolor": "white",
            "linecolor": "white",
            "ticks": ""
           },
           "baxis": {
            "gridcolor": "white",
            "linecolor": "white",
            "ticks": ""
           },
           "bgcolor": "#E5ECF6",
           "caxis": {
            "gridcolor": "white",
            "linecolor": "white",
            "ticks": ""
           }
          },
          "title": {
           "x": 0.05
          },
          "xaxis": {
           "automargin": true,
           "gridcolor": "white",
           "linecolor": "white",
           "ticks": "",
           "title": {
            "standoff": 15
           },
           "zerolinecolor": "white",
           "zerolinewidth": 2
          },
          "yaxis": {
           "automargin": true,
           "gridcolor": "white",
           "linecolor": "white",
           "ticks": "",
           "title": {
            "standoff": 15
           },
           "zerolinecolor": "white",
           "zerolinewidth": 2
          }
         }
        },
        "title": {
         "text": "Imaginary parts of X and Y"
        },
        "xaxis": {
         "autorange": true,
         "range": [
          0.0007578616352201259,
          0.023242138364779872
         ],
         "title": {
          "text": "mu"
         },
         "type": "linear"
        },
        "yaxis": {
         "autorange": true,
         "range": [
          -1,
          1
         ],
         "type": "linear"
        }
       }
      },
      "image/png": "[encoded data removed]",
      "text/html": [
       "<div>                            <div id=\"c9ae92e2-84a8-404a-896d-759f8a83a4e9\" class=\"plotly-graph-div\" style=\"height:525px; width:100%;\"></div>            <script type=\"text/javascript\">                require([\"plotly\"], function(Plotly) {                    window.PLOTLYENV=window.PLOTLYENV || {};                                    if (document.getElementById(\"c9ae92e2-84a8-404a-896d-759f8a83a4e9\")) {                    Plotly.newPlot(                        \"c9ae92e2-84a8-404a-896d-759f8a83a4e9\",                        [{\"mode\":\"markers\",\"name\":\"x_im_parts\",\"x\":[0.002,0.0024081632653061226,0.013428571428571427,0.01383673469387755,0.014244897959183673,0.014653061224489795,0.015061224489795917,0.01546938775510204,0.01587755102040816,0.016285714285714285,0.016693877551020406,0.01710204081632653,0.017510204081632653,0.017918367346938774,0.018326530612244894,0.01873469387755102,0.019142857142857142,0.019551020408163262,0.019959183673469383,0.02036734693877551,0.02077551020408163,0.02118367346938775,0.02159183673469388,0.022],\"y\":[0.0,0.0,0.0,0.0,0.0,0.0,0.0,0.0,0.0,0.0,0.0,0.0,0.0,0.0,0.0,0.0,0.0,0.0,0.0,0.0,0.0,0.0,0.0,0.0],\"type\":\"scatter\"},{\"mode\":\"markers\",\"name\":\"y_im_parts\",\"x\":[0.002,0.0024081632653061226,0.013428571428571427,0.01383673469387755,0.014244897959183673,0.014653061224489795,0.015061224489795917,0.01546938775510204,0.01587755102040816,0.016285714285714285,0.016693877551020406,0.01710204081632653,0.017510204081632653,0.017918367346938774,0.018326530612244894,0.01873469387755102,0.019142857142857142,0.019551020408163262,0.019959183673469383,0.02036734693877551,0.02077551020408163,0.02118367346938775,0.02159183673469388,0.022],\"y\":[0.0,0.0,0.0,0.0,0.0,0.0,0.0,0.0,0.0,0.0,0.0,0.0,0.0,0.0,0.0,0.0,0.0,0.0,0.0,0.0,0.0,0.0,0.0,0.0],\"type\":\"scatter\"}],                        {\"template\":{\"data\":{\"histogram2dcontour\":[{\"type\":\"histogram2dcontour\",\"colorbar\":{\"outlinewidth\":0,\"ticks\":\"\"},\"colorscale\":[[0.0,\"#0d0887\"],[0.1111111111111111,\"#46039f\"],[0.2222222222222222,\"#7201a8\"],[0.3333333333333333,\"#9c179e\"],[0.4444444444444444,\"#bd3786\"],[0.5555555555555556,\"#d8576b\"],[0.6666666666666666,\"#ed7953\"],[0.7777777777777778,\"#fb9f3a\"],[0.8888888888888888,\"#fdca26\"],[1.0,\"#f0f921\"]]}],\"choropleth\":[{\"type\":\"choropleth\",\"colorbar\":{\"outlinewidth\":0,\"ticks\":\"\"}}],\"histogram2d\":[{\"type\":\"histogram2d\",\"colorbar\":{\"outlinewidth\":0,\"ticks\":\"\"},\"colorscale\":[[0.0,\"#0d0887\"],[0.1111111111111111,\"#46039f\"],[0.2222222222222222,\"#7201a8\"],[0.3333333333333333,\"#9c179e\"],[0.4444444444444444,\"#bd3786\"],[0.5555555555555556,\"#d8576b\"],[0.6666666666666666,\"#ed7953\"],[0.7777777777777778,\"#fb9f3a\"],[0.8888888888888888,\"#fdca26\"],[1.0,\"#f0f921\"]]}],\"heatmap\":[{\"type\":\"heatmap\",\"colorbar\":{\"outlinewidth\":0,\"ticks\":\"\"},\"colorscale\":[[0.0,\"#0d0887\"],[0.1111111111111111,\"#46039f\"],[0.2222222222222222,\"#7201a8\"],[0.3333333333333333,\"#9c179e\"],[0.4444444444444444,\"#bd3786\"],[0.5555555555555556,\"#d8576b\"],[0.6666666666666666,\"#ed7953\"],[0.7777777777777778,\"#fb9f3a\"],[0.8888888888888888,\"#fdca26\"],[1.0,\"#f0f921\"]]}],\"heatmapgl\":[{\"type\":\"heatmapgl\",\"colorbar\":{\"outlinewidth\":0,\"ticks\":\"\"},\"colorscale\":[[0.0,\"#0d0887\"],[0.1111111111111111,\"#46039f\"],[0.2222222222222222,\"#7201a8\"],[0.3333333333333333,\"#9c179e\"],[0.4444444444444444,\"#bd3786\"],[0.5555555555555556,\"#d8576b\"],[0.6666666666666666,\"#ed7953\"],[0.7777777777777778,\"#fb9f3a\"],[0.8888888888888888,\"#fdca26\"],[1.0,\"#f0f921\"]]}],\"contourcarpet\":[{\"type\":\"contourcarpet\",\"colorbar\":{\"outlinewidth\":0,\"ticks\":\"\"}}],\"contour\":[{\"type\":\"contour\",\"colorbar\":{\"outlinewidth\":0,\"ticks\":\"\"},\"colorscale\":[[0.0,\"#0d0887\"],[0.1111111111111111,\"#46039f\"],[0.2222222222222222,\"#7201a8\"],[0.3333333333333333,\"#9c179e\"],[0.4444444444444444,\"#bd3786\"],[0.5555555555555556,\"#d8576b\"],[0.6666666666666666,\"#ed7953\"],[0.7777777777777778,\"#fb9f3a\"],[0.8888888888888888,\"#fdca26\"],[1.0,\"#f0f921\"]]}],\"surface\":[{\"type\":\"surface\",\"colorbar\":{\"outlinewidth\":0,\"ticks\":\"\"},\"colorscale\":[[0.0,\"#0d0887\"],[0.1111111111111111,\"#46039f\"],[0.2222222222222222,\"#7201a8\"],[0.3333333333333333,\"#9c179e\"],[0.4444444444444444,\"#bd3786\"],[0.5555555555555556,\"#d8576b\"],[0.6666666666666666,\"#ed7953\"],[0.7777777777777778,\"#fb9f3a\"],[0.8888888888888888,\"#fdca26\"],[1.0,\"#f0f921\"]]}],\"mesh3d\":[{\"type\":\"mesh3d\",\"colorbar\":{\"outlinewidth\":0,\"ticks\":\"\"}}],\"scatter\":[{\"fillpattern\":{\"fillmode\":\"overlay\",\"size\":10,\"solidity\":0.2},\"type\":\"scatter\"}],\"parcoords\":[{\"type\":\"parcoords\",\"line\":{\"colorbar\":{\"outlinewidth\":0,\"ticks\":\"\"}}}],\"scatterpolargl\":[{\"type\":\"scatterpolargl\",\"marker\":{\"colorbar\":{\"outlinewidth\":0,\"ticks\":\"\"}}}],\"bar\":[{\"error_x\":{\"color\":\"#2a3f5f\"},\"error_y\":{\"color\":\"#2a3f5f\"},\"marker\":{\"line\":{\"color\":\"#E5ECF6\",\"width\":0.5},\"pattern\":{\"fillmode\":\"overlay\",\"size\":10,\"solidity\":0.2}},\"type\":\"bar\"}],\"scattergeo\":[{\"type\":\"scattergeo\",\"marker\":{\"colorbar\":{\"outlinewidth\":0,\"ticks\":\"\"}}}],\"scatterpolar\":[{\"type\":\"scatterpolar\",\"marker\":{\"colorbar\":{\"outlinewidth\":0,\"ticks\":\"\"}}}],\"histogram\":[{\"marker\":{\"pattern\":{\"fillmode\":\"overlay\",\"size\":10,\"solidity\":0.2}},\"type\":\"histogram\"}],\"scattergl\":[{\"type\":\"scattergl\",\"marker\":{\"colorbar\":{\"outlinewidth\":0,\"ticks\":\"\"}}}],\"scatter3d\":[{\"type\":\"scatter3d\",\"line\":{\"colorbar\":{\"outlinewidth\":0,\"ticks\":\"\"}},\"marker\":{\"colorbar\":{\"outlinewidth\":0,\"ticks\":\"\"}}}],\"scattermapbox\":[{\"type\":\"scattermapbox\",\"marker\":{\"colorbar\":{\"outlinewidth\":0,\"ticks\":\"\"}}}],\"scatterternary\":[{\"type\":\"scatterternary\",\"marker\":{\"colorbar\":{\"outlinewidth\":0,\"ticks\":\"\"}}}],\"scattercarpet\":[{\"type\":\"scattercarpet\",\"marker\":{\"colorbar\":{\"outlinewidth\":0,\"ticks\":\"\"}}}],\"carpet\":[{\"aaxis\":{\"endlinecolor\":\"#2a3f5f\",\"gridcolor\":\"white\",\"linecolor\":\"white\",\"minorgridcolor\":\"white\",\"startlinecolor\":\"#2a3f5f\"},\"baxis\":{\"endlinecolor\":\"#2a3f5f\",\"gridcolor\":\"white\",\"linecolor\":\"white\",\"minorgridcolor\":\"white\",\"startlinecolor\":\"#2a3f5f\"},\"type\":\"carpet\"}],\"table\":[{\"cells\":{\"fill\":{\"color\":\"#EBF0F8\"},\"line\":{\"color\":\"white\"}},\"header\":{\"fill\":{\"color\":\"#C8D4E3\"},\"line\":{\"color\":\"white\"}},\"type\":\"table\"}],\"barpolar\":[{\"marker\":{\"line\":{\"color\":\"#E5ECF6\",\"width\":0.5},\"pattern\":{\"fillmode\":\"overlay\",\"size\":10,\"solidity\":0.2}},\"type\":\"barpolar\"}],\"pie\":[{\"automargin\":true,\"type\":\"pie\"}]},\"layout\":{\"autotypenumbers\":\"strict\",\"colorway\":[\"#636efa\",\"#EF553B\",\"#00cc96\",\"#ab63fa\",\"#FFA15A\",\"#19d3f3\",\"#FF6692\",\"#B6E880\",\"#FF97FF\",\"#FECB52\"],\"font\":{\"color\":\"#2a3f5f\"},\"hovermode\":\"closest\",\"hoverlabel\":{\"align\":\"left\"},\"paper_bgcolor\":\"white\",\"plot_bgcolor\":\"#E5ECF6\",\"polar\":{\"bgcolor\":\"#E5ECF6\",\"angularaxis\":{\"gridcolor\":\"white\",\"linecolor\":\"white\",\"ticks\":\"\"},\"radialaxis\":{\"gridcolor\":\"white\",\"linecolor\":\"white\",\"ticks\":\"\"}},\"ternary\":{\"bgcolor\":\"#E5ECF6\",\"aaxis\":{\"gridcolor\":\"white\",\"linecolor\":\"white\",\"ticks\":\"\"},\"baxis\":{\"gridcolor\":\"white\",\"linecolor\":\"white\",\"ticks\":\"\"},\"caxis\":{\"gridcolor\":\"white\",\"linecolor\":\"white\",\"ticks\":\"\"}},\"coloraxis\":{\"colorbar\":{\"outlinewidth\":0,\"ticks\":\"\"}},\"colorscale\":{\"sequential\":[[0.0,\"#0d0887\"],[0.1111111111111111,\"#46039f\"],[0.2222222222222222,\"#7201a8\"],[0.3333333333333333,\"#9c179e\"],[0.4444444444444444,\"#bd3786\"],[0.5555555555555556,\"#d8576b\"],[0.6666666666666666,\"#ed7953\"],[0.7777777777777778,\"#fb9f3a\"],[0.8888888888888888,\"#fdca26\"],[1.0,\"#f0f921\"]],\"sequentialminus\":[[0.0,\"#0d0887\"],[0.1111111111111111,\"#46039f\"],[0.2222222222222222,\"#7201a8\"],[0.3333333333333333,\"#9c179e\"],[0.4444444444444444,\"#bd3786\"],[0.5555555555555556,\"#d8576b\"],[0.6666666666666666,\"#ed7953\"],[0.7777777777777778,\"#fb9f3a\"],[0.8888888888888888,\"#fdca26\"],[1.0,\"#f0f921\"]],\"diverging\":[[0,\"#8e0152\"],[0.1,\"#c51b7d\"],[0.2,\"#de77ae\"],[0.3,\"#f1b6da\"],[0.4,\"#fde0ef\"],[0.5,\"#f7f7f7\"],[0.6,\"#e6f5d0\"],[0.7,\"#b8e186\"],[0.8,\"#7fbc41\"],[0.9,\"#4d9221\"],[1,\"#276419\"]]},\"xaxis\":{\"gridcolor\":\"white\",\"linecolor\":\"white\",\"ticks\":\"\",\"title\":{\"standoff\":15},\"zerolinecolor\":\"white\",\"automargin\":true,\"zerolinewidth\":2},\"yaxis\":{\"gridcolor\":\"white\",\"linecolor\":\"white\",\"ticks\":\"\",\"title\":{\"standoff\":15},\"zerolinecolor\":\"white\",\"automargin\":true,\"zerolinewidth\":2},\"scene\":{\"xaxis\":{\"backgroundcolor\":\"#E5ECF6\",\"gridcolor\":\"white\",\"linecolor\":\"white\",\"showbackground\":true,\"ticks\":\"\",\"zerolinecolor\":\"white\",\"gridwidth\":2},\"yaxis\":{\"backgroundcolor\":\"#E5ECF6\",\"gridcolor\":\"white\",\"linecolor\":\"white\",\"showbackground\":true,\"ticks\":\"\",\"zerolinecolor\":\"white\",\"gridwidth\":2},\"zaxis\":{\"backgroundcolor\":\"#E5ECF6\",\"gridcolor\":\"white\",\"linecolor\":\"white\",\"showbackground\":true,\"ticks\":\"\",\"zerolinecolor\":\"white\",\"gridwidth\":2}},\"shapedefaults\":{\"line\":{\"color\":\"#2a3f5f\"}},\"annotationdefaults\":{\"arrowcolor\":\"#2a3f5f\",\"arrowhead\":0,\"arrowwidth\":1},\"geo\":{\"bgcolor\":\"white\",\"landcolor\":\"#E5ECF6\",\"subunitcolor\":\"white\",\"showland\":true,\"showlakes\":true,\"lakecolor\":\"white\"},\"title\":{\"x\":0.05},\"mapbox\":{\"style\":\"light\"}}},\"title\":{\"text\":\"Imaginary parts of X and Y\"},\"xaxis\":{\"title\":{\"text\":\"mu\"}}},                        {\"responsive\": true}                    ).then(function(){\n",
       "                            \n",
       "var gd = document.getElementById('c9ae92e2-84a8-404a-896d-759f8a83a4e9');\n",
       "var x = new MutationObserver(function (mutations, observer) {{\n",
       "        var display = window.getComputedStyle(gd).display;\n",
       "        if (!display || display === 'none') {{\n",
       "            console.log([gd, 'removed!']);\n",
       "            Plotly.purge(gd);\n",
       "            observer.disconnect();\n",
       "        }}\n",
       "}});\n",
       "\n",
       "// Listen for the removal of the full notebook cells\n",
       "var notebookContainer = gd.closest('#notebook-container');\n",
       "if (notebookContainer) {{\n",
       "    x.observe(notebookContainer, {childList: true});\n",
       "}}\n",
       "\n",
       "// Listen for the clearing of the current output cell\n",
       "var outputEl = gd.closest('.output');\n",
       "if (outputEl) {{\n",
       "    x.observe(outputEl, {childList: true});\n",
       "}}\n",
       "\n",
       "                        })                };                });            </script>        </div>"
      ]
     },
     "metadata": {},
     "output_type": "display_data"
    }
   ],
   "source": [
    "y_im_parts = []\n",
    "x_im_parts = []\n",
    "mus_for_im=[]\n",
    "for cur_mu, sols in list(solutions_by_mu.items()):\n",
    "    for xc,yc in sols:\n",
    "        x_im_parts.append(float(xc.as_real_imag()[1]))\n",
    "        y_im_parts.append(float(yc.as_real_imag()[1]))\n",
    "        mus_for_im.append(cur_mu)\n",
    "            \n",
    "fig = go.Figure()\n",
    "fig.add_trace(go.Scatter(x=mus_for_im, y=x_im_parts, mode='markers', name = \"x_im_parts\"))\n",
    "fig.add_trace(go.Scatter(x=mus_for_im, y=y_im_parts, mode='markers', name = \"y_im_parts\"))\n",
    "fig.update_layout(title=\"Imaginary parts of X and Y\")\n",
    "fig.update_layout(xaxis={\"title\": \"mu\"})\n"
   ]
  },
  {
   "cell_type": "markdown",
   "metadata": {},
   "source": [
    "На отрезке [0.005, 0.015] мнимая часть близка к нулю"
   ]
  },
  {
   "cell_type": "code",
   "execution_count": 32,
   "metadata": {
    "tags": []
   },
   "outputs": [],
   "source": [
    "mu_min = 0.0036\n",
    "mu_max = 0.017\n",
    "# filtered_solutions_by_mu = {mu:solutions_by_mu[mu] for mu in solutions_by_mu if mu_min<mu<mu_max}\n",
    "filtered_solutions_by_mu = solutions_by_mu"
   ]
  },
  {
   "cell_type": "code",
   "execution_count": 33,
   "metadata": {
    "tags": []
   },
   "outputs": [],
   "source": [
    "# display_sol_list(list(filtered_solutions_by_mu.items())[:2])"
   ]
  },
  {
   "cell_type": "code",
   "execution_count": 34,
   "metadata": {
    "tags": []
   },
   "outputs": [
    {
     "data": {
      "application/vnd.plotly.v1+json": {
       "config": {
        "plotlyServerURL": "https://plot.ly"
       },
       "data": [
        {
         "mode": "markers",
         "name": "y_real_part",
         "type": "scatter",
         "x": [
          0.002,
          0.0024081632653061226,
          0.013428571428571427,
          0.01383673469387755,
          0.014244897959183673,
          0.014653061224489795,
          0.015061224489795917,
          0.01546938775510204,
          0.01587755102040816,
          0.016285714285714285,
          0.016693877551020406,
          0.01710204081632653,
          0.017510204081632653,
          0.017918367346938774,
          0.018326530612244894,
          0.01873469387755102,
          0.019142857142857142,
          0.019551020408163262,
          0.019959183673469383,
          0.02036734693877551,
          0.02077551020408163,
          0.02118367346938775,
          0.02159183673469388,
          0.022
         ],
         "y": [
          7.851055678470596,
          7.971264697115294,
          493.9031537541282,
          494.10662100223067,
          494.29692816993077,
          494.47531365716895,
          494.6428650198924,
          494.8005412846298,
          494.94919141137143,
          495.0895696595047,
          495.2223484469702,
          495.34812916755953,
          495.46745133519045,
          495.58080034970055,
          495.68861412084834,
          495.79128874183806,
          495.8891833678816,
          495.9826244268741,
          496.07190926654675,
          496.1573093242211,
          496.2390728905542,
          496.3174275267162,
          496.3925821846901,
          496.46472907240496
         ]
        },
        {
         "mode": "markers",
         "name": "y_im_parts",
         "type": "scatter",
         "x": [
          0.002,
          0.0024081632653061226,
          0.013428571428571427,
          0.01383673469387755,
          0.014244897959183673,
          0.014653061224489795,
          0.015061224489795917,
          0.01546938775510204,
          0.01587755102040816,
          0.016285714285714285,
          0.016693877551020406,
          0.01710204081632653,
          0.017510204081632653,
          0.017918367346938774,
          0.018326530612244894,
          0.01873469387755102,
          0.019142857142857142,
          0.019551020408163262,
          0.019959183673469383,
          0.02036734693877551,
          0.02077551020408163,
          0.02118367346938775,
          0.02159183673469388,
          0.022
         ],
         "y": [
          0,
          0,
          0,
          0,
          0,
          0,
          0,
          0,
          0,
          0,
          0,
          0,
          0,
          0,
          0,
          0,
          0,
          0,
          0,
          0,
          0,
          0,
          0,
          0
         ]
        }
       ],
       "layout": {
        "autosize": true,
        "template": {
         "data": {
          "bar": [
           {
            "error_x": {
             "color": "#2a3f5f"
            },
            "error_y": {
             "color": "#2a3f5f"
            },
            "marker": {
             "line": {
              "color": "#E5ECF6",
              "width": 0.5
             },
             "pattern": {
              "fillmode": "overlay",
              "size": 10,
              "solidity": 0.2
             }
            },
            "type": "bar"
           }
          ],
          "barpolar": [
           {
            "marker": {
             "line": {
              "color": "#E5ECF6",
              "width": 0.5
             },
             "pattern": {
              "fillmode": "overlay",
              "size": 10,
              "solidity": 0.2
             }
            },
            "type": "barpolar"
           }
          ],
          "carpet": [
           {
            "aaxis": {
             "endlinecolor": "#2a3f5f",
             "gridcolor": "white",
             "linecolor": "white",
             "minorgridcolor": "white",
             "startlinecolor": "#2a3f5f"
            },
            "baxis": {
             "endlinecolor": "#2a3f5f",
             "gridcolor": "white",
             "linecolor": "white",
             "minorgridcolor": "white",
             "startlinecolor": "#2a3f5f"
            },
            "type": "carpet"
           }
          ],
          "choropleth": [
           {
            "colorbar": {
             "outlinewidth": 0,
             "ticks": ""
            },
            "type": "choropleth"
           }
          ],
          "contour": [
           {
            "colorbar": {
             "outlinewidth": 0,
             "ticks": ""
            },
            "colorscale": [
             [
              0,
              "#0d0887"
             ],
             [
              0.1111111111111111,
              "#46039f"
             ],
             [
              0.2222222222222222,
              "#7201a8"
             ],
             [
              0.3333333333333333,
              "#9c179e"
             ],
             [
              0.4444444444444444,
              "#bd3786"
             ],
             [
              0.5555555555555556,
              "#d8576b"
             ],
             [
              0.6666666666666666,
              "#ed7953"
             ],
             [
              0.7777777777777778,
              "#fb9f3a"
             ],
             [
              0.8888888888888888,
              "#fdca26"
             ],
             [
              1,
              "#f0f921"
             ]
            ],
            "type": "contour"
           }
          ],
          "contourcarpet": [
           {
            "colorbar": {
             "outlinewidth": 0,
             "ticks": ""
            },
            "type": "contourcarpet"
           }
          ],
          "heatmap": [
           {
            "colorbar": {
             "outlinewidth": 0,
             "ticks": ""
            },
            "colorscale": [
             [
              0,
              "#0d0887"
             ],
             [
              0.1111111111111111,
              "#46039f"
             ],
             [
              0.2222222222222222,
              "#7201a8"
             ],
             [
              0.3333333333333333,
              "#9c179e"
             ],
             [
              0.4444444444444444,
              "#bd3786"
             ],
             [
              0.5555555555555556,
              "#d8576b"
             ],
             [
              0.6666666666666666,
              "#ed7953"
             ],
             [
              0.7777777777777778,
              "#fb9f3a"
             ],
             [
              0.8888888888888888,
              "#fdca26"
             ],
             [
              1,
              "#f0f921"
             ]
            ],
            "type": "heatmap"
           }
          ],
          "heatmapgl": [
           {
            "colorbar": {
             "outlinewidth": 0,
             "ticks": ""
            },
            "colorscale": [
             [
              0,
              "#0d0887"
             ],
             [
              0.1111111111111111,
              "#46039f"
             ],
             [
              0.2222222222222222,
              "#7201a8"
             ],
             [
              0.3333333333333333,
              "#9c179e"
             ],
             [
              0.4444444444444444,
              "#bd3786"
             ],
             [
              0.5555555555555556,
              "#d8576b"
             ],
             [
              0.6666666666666666,
              "#ed7953"
             ],
             [
              0.7777777777777778,
              "#fb9f3a"
             ],
             [
              0.8888888888888888,
              "#fdca26"
             ],
             [
              1,
              "#f0f921"
             ]
            ],
            "type": "heatmapgl"
           }
          ],
          "histogram": [
           {
            "marker": {
             "pattern": {
              "fillmode": "overlay",
              "size": 10,
              "solidity": 0.2
             }
            },
            "type": "histogram"
           }
          ],
          "histogram2d": [
           {
            "colorbar": {
             "outlinewidth": 0,
             "ticks": ""
            },
            "colorscale": [
             [
              0,
              "#0d0887"
             ],
             [
              0.1111111111111111,
              "#46039f"
             ],
             [
              0.2222222222222222,
              "#7201a8"
             ],
             [
              0.3333333333333333,
              "#9c179e"
             ],
             [
              0.4444444444444444,
              "#bd3786"
             ],
             [
              0.5555555555555556,
              "#d8576b"
             ],
             [
              0.6666666666666666,
              "#ed7953"
             ],
             [
              0.7777777777777778,
              "#fb9f3a"
             ],
             [
              0.8888888888888888,
              "#fdca26"
             ],
             [
              1,
              "#f0f921"
             ]
            ],
            "type": "histogram2d"
           }
          ],
          "histogram2dcontour": [
           {
            "colorbar": {
             "outlinewidth": 0,
             "ticks": ""
            },
            "colorscale": [
             [
              0,
              "#0d0887"
             ],
             [
              0.1111111111111111,
              "#46039f"
             ],
             [
              0.2222222222222222,
              "#7201a8"
             ],
             [
              0.3333333333333333,
              "#9c179e"
             ],
             [
              0.4444444444444444,
              "#bd3786"
             ],
             [
              0.5555555555555556,
              "#d8576b"
             ],
             [
              0.6666666666666666,
              "#ed7953"
             ],
             [
              0.7777777777777778,
              "#fb9f3a"
             ],
             [
              0.8888888888888888,
              "#fdca26"
             ],
             [
              1,
              "#f0f921"
             ]
            ],
            "type": "histogram2dcontour"
           }
          ],
          "mesh3d": [
           {
            "colorbar": {
             "outlinewidth": 0,
             "ticks": ""
            },
            "type": "mesh3d"
           }
          ],
          "parcoords": [
           {
            "line": {
             "colorbar": {
              "outlinewidth": 0,
              "ticks": ""
             }
            },
            "type": "parcoords"
           }
          ],
          "pie": [
           {
            "automargin": true,
            "type": "pie"
           }
          ],
          "scatter": [
           {
            "fillpattern": {
             "fillmode": "overlay",
             "size": 10,
             "solidity": 0.2
            },
            "type": "scatter"
           }
          ],
          "scatter3d": [
           {
            "line": {
             "colorbar": {
              "outlinewidth": 0,
              "ticks": ""
             }
            },
            "marker": {
             "colorbar": {
              "outlinewidth": 0,
              "ticks": ""
             }
            },
            "type": "scatter3d"
           }
          ],
          "scattercarpet": [
           {
            "marker": {
             "colorbar": {
              "outlinewidth": 0,
              "ticks": ""
             }
            },
            "type": "scattercarpet"
           }
          ],
          "scattergeo": [
           {
            "marker": {
             "colorbar": {
              "outlinewidth": 0,
              "ticks": ""
             }
            },
            "type": "scattergeo"
           }
          ],
          "scattergl": [
           {
            "marker": {
             "colorbar": {
              "outlinewidth": 0,
              "ticks": ""
             }
            },
            "type": "scattergl"
           }
          ],
          "scattermapbox": [
           {
            "marker": {
             "colorbar": {
              "outlinewidth": 0,
              "ticks": ""
             }
            },
            "type": "scattermapbox"
           }
          ],
          "scatterpolar": [
           {
            "marker": {
             "colorbar": {
              "outlinewidth": 0,
              "ticks": ""
             }
            },
            "type": "scatterpolar"
           }
          ],
          "scatterpolargl": [
           {
            "marker": {
             "colorbar": {
              "outlinewidth": 0,
              "ticks": ""
             }
            },
            "type": "scatterpolargl"
           }
          ],
          "scatterternary": [
           {
            "marker": {
             "colorbar": {
              "outlinewidth": 0,
              "ticks": ""
             }
            },
            "type": "scatterternary"
           }
          ],
          "surface": [
           {
            "colorbar": {
             "outlinewidth": 0,
             "ticks": ""
            },
            "colorscale": [
             [
              0,
              "#0d0887"
             ],
             [
              0.1111111111111111,
              "#46039f"
             ],
             [
              0.2222222222222222,
              "#7201a8"
             ],
             [
              0.3333333333333333,
              "#9c179e"
             ],
             [
              0.4444444444444444,
              "#bd3786"
             ],
             [
              0.5555555555555556,
              "#d8576b"
             ],
             [
              0.6666666666666666,
              "#ed7953"
             ],
             [
              0.7777777777777778,
              "#fb9f3a"
             ],
             [
              0.8888888888888888,
              "#fdca26"
             ],
             [
              1,
              "#f0f921"
             ]
            ],
            "type": "surface"
           }
          ],
          "table": [
           {
            "cells": {
             "fill": {
              "color": "#EBF0F8"
             },
             "line": {
              "color": "white"
             }
            },
            "header": {
             "fill": {
              "color": "#C8D4E3"
             },
             "line": {
              "color": "white"
             }
            },
            "type": "table"
           }
          ]
         },
         "layout": {
          "annotationdefaults": {
           "arrowcolor": "#2a3f5f",
           "arrowhead": 0,
           "arrowwidth": 1
          },
          "autotypenumbers": "strict",
          "coloraxis": {
           "colorbar": {
            "outlinewidth": 0,
            "ticks": ""
           }
          },
          "colorscale": {
           "diverging": [
            [
             0,
             "#8e0152"
            ],
            [
             0.1,
             "#c51b7d"
            ],
            [
             0.2,
             "#de77ae"
            ],
            [
             0.3,
             "#f1b6da"
            ],
            [
             0.4,
             "#fde0ef"
            ],
            [
             0.5,
             "#f7f7f7"
            ],
            [
             0.6,
             "#e6f5d0"
            ],
            [
             0.7,
             "#b8e186"
            ],
            [
             0.8,
             "#7fbc41"
            ],
            [
             0.9,
             "#4d9221"
            ],
            [
             1,
             "#276419"
            ]
           ],
           "sequential": [
            [
             0,
             "#0d0887"
            ],
            [
             0.1111111111111111,
             "#46039f"
            ],
            [
             0.2222222222222222,
             "#7201a8"
            ],
            [
             0.3333333333333333,
             "#9c179e"
            ],
            [
             0.4444444444444444,
             "#bd3786"
            ],
            [
             0.5555555555555556,
             "#d8576b"
            ],
            [
             0.6666666666666666,
             "#ed7953"
            ],
            [
             0.7777777777777778,
             "#fb9f3a"
            ],
            [
             0.8888888888888888,
             "#fdca26"
            ],
            [
             1,
             "#f0f921"
            ]
           ],
           "sequentialminus": [
            [
             0,
             "#0d0887"
            ],
            [
             0.1111111111111111,
             "#46039f"
            ],
            [
             0.2222222222222222,
             "#7201a8"
            ],
            [
             0.3333333333333333,
             "#9c179e"
            ],
            [
             0.4444444444444444,
             "#bd3786"
            ],
            [
             0.5555555555555556,
             "#d8576b"
            ],
            [
             0.6666666666666666,
             "#ed7953"
            ],
            [
             0.7777777777777778,
             "#fb9f3a"
            ],
            [
             0.8888888888888888,
             "#fdca26"
            ],
            [
             1,
             "#f0f921"
            ]
           ]
          },
          "colorway": [
           "#636efa",
           "#EF553B",
           "#00cc96",
           "#ab63fa",
           "#FFA15A",
           "#19d3f3",
           "#FF6692",
           "#B6E880",
           "#FF97FF",
           "#FECB52"
          ],
          "font": {
           "color": "#2a3f5f"
          },
          "geo": {
           "bgcolor": "white",
           "lakecolor": "white",
           "landcolor": "#E5ECF6",
           "showlakes": true,
           "showland": true,
           "subunitcolor": "white"
          },
          "hoverlabel": {
           "align": "left"
          },
          "hovermode": "closest",
          "mapbox": {
           "style": "light"
          },
          "paper_bgcolor": "white",
          "plot_bgcolor": "#E5ECF6",
          "polar": {
           "angularaxis": {
            "gridcolor": "white",
            "linecolor": "white",
            "ticks": ""
           },
           "bgcolor": "#E5ECF6",
           "radialaxis": {
            "gridcolor": "white",
            "linecolor": "white",
            "ticks": ""
           }
          },
          "scene": {
           "xaxis": {
            "backgroundcolor": "#E5ECF6",
            "gridcolor": "white",
            "gridwidth": 2,
            "linecolor": "white",
            "showbackground": true,
            "ticks": "",
            "zerolinecolor": "white"
           },
           "yaxis": {
            "backgroundcolor": "#E5ECF6",
            "gridcolor": "white",
            "gridwidth": 2,
            "linecolor": "white",
            "showbackground": true,
            "ticks": "",
            "zerolinecolor": "white"
           },
           "zaxis": {
            "backgroundcolor": "#E5ECF6",
            "gridcolor": "white",
            "gridwidth": 2,
            "linecolor": "white",
            "showbackground": true,
            "ticks": "",
            "zerolinecolor": "white"
           }
          },
          "shapedefaults": {
           "line": {
            "color": "#2a3f5f"
           }
          },
          "ternary": {
           "aaxis": {
            "gridcolor": "white",
            "linecolor": "white",
            "ticks": ""
           },
           "baxis": {
            "gridcolor": "white",
            "linecolor": "white",
            "ticks": ""
           },
           "bgcolor": "#E5ECF6",
           "caxis": {
            "gridcolor": "white",
            "linecolor": "white",
            "ticks": ""
           }
          },
          "title": {
           "x": 0.05
          },
          "xaxis": {
           "automargin": true,
           "gridcolor": "white",
           "linecolor": "white",
           "ticks": "",
           "title": {
            "standoff": 15
           },
           "zerolinecolor": "white",
           "zerolinewidth": 2
          },
          "yaxis": {
           "automargin": true,
           "gridcolor": "white",
           "linecolor": "white",
           "ticks": "",
           "title": {
            "standoff": 15
           },
           "zerolinecolor": "white",
           "zerolinewidth": 2
          }
         }
        },
        "title": {
         "text": "Y"
        },
        "xaxis": {
         "autorange": true,
         "range": [
          0.0007576759565422768,
          0.023242324043457722
         ],
         "title": {
          "text": "mu"
         },
         "type": "linear"
        },
        "yaxis": {
         "autorange": true,
         "range": [
          -40.97039026325672,
          537.4351193356617
         ],
         "type": "linear"
        }
       }
      },
      "image/png": "[encoded data removed]",
      "text/html": [
       "<div>                            <div id=\"94cf851f-fe8b-4ae7-8a27-00ffedff6e5c\" class=\"plotly-graph-div\" style=\"height:525px; width:100%;\"></div>            <script type=\"text/javascript\">                require([\"plotly\"], function(Plotly) {                    window.PLOTLYENV=window.PLOTLYENV || {};                                    if (document.getElementById(\"94cf851f-fe8b-4ae7-8a27-00ffedff6e5c\")) {                    Plotly.newPlot(                        \"94cf851f-fe8b-4ae7-8a27-00ffedff6e5c\",                        [{\"mode\":\"markers\",\"name\":\"y_real_part\",\"x\":[0.002,0.0024081632653061226,0.013428571428571427,0.01383673469387755,0.014244897959183673,0.014653061224489795,0.015061224489795917,0.01546938775510204,0.01587755102040816,0.016285714285714285,0.016693877551020406,0.01710204081632653,0.017510204081632653,0.017918367346938774,0.018326530612244894,0.01873469387755102,0.019142857142857142,0.019551020408163262,0.019959183673469383,0.02036734693877551,0.02077551020408163,0.02118367346938775,0.02159183673469388,0.022],\"y\":[7.851055678470596,7.971264697115294,493.9031537541282,494.10662100223067,494.29692816993077,494.47531365716895,494.6428650198924,494.8005412846298,494.94919141137143,495.0895696595047,495.2223484469702,495.34812916755953,495.46745133519045,495.58080034970055,495.68861412084834,495.79128874183806,495.8891833678816,495.9826244268741,496.07190926654675,496.1573093242211,496.2390728905542,496.3174275267162,496.3925821846901,496.46472907240496],\"type\":\"scatter\"},{\"mode\":\"markers\",\"name\":\"y_im_parts\",\"x\":[0.002,0.0024081632653061226,0.013428571428571427,0.01383673469387755,0.014244897959183673,0.014653061224489795,0.015061224489795917,0.01546938775510204,0.01587755102040816,0.016285714285714285,0.016693877551020406,0.01710204081632653,0.017510204081632653,0.017918367346938774,0.018326530612244894,0.01873469387755102,0.019142857142857142,0.019551020408163262,0.019959183673469383,0.02036734693877551,0.02077551020408163,0.02118367346938775,0.02159183673469388,0.022],\"y\":[0.0,0.0,0.0,0.0,0.0,0.0,0.0,0.0,0.0,0.0,0.0,0.0,0.0,0.0,0.0,0.0,0.0,0.0,0.0,0.0,0.0,0.0,0.0,0.0],\"type\":\"scatter\"}],                        {\"template\":{\"data\":{\"histogram2dcontour\":[{\"type\":\"histogram2dcontour\",\"colorbar\":{\"outlinewidth\":0,\"ticks\":\"\"},\"colorscale\":[[0.0,\"#0d0887\"],[0.1111111111111111,\"#46039f\"],[0.2222222222222222,\"#7201a8\"],[0.3333333333333333,\"#9c179e\"],[0.4444444444444444,\"#bd3786\"],[0.5555555555555556,\"#d8576b\"],[0.6666666666666666,\"#ed7953\"],[0.7777777777777778,\"#fb9f3a\"],[0.8888888888888888,\"#fdca26\"],[1.0,\"#f0f921\"]]}],\"choropleth\":[{\"type\":\"choropleth\",\"colorbar\":{\"outlinewidth\":0,\"ticks\":\"\"}}],\"histogram2d\":[{\"type\":\"histogram2d\",\"colorbar\":{\"outlinewidth\":0,\"ticks\":\"\"},\"colorscale\":[[0.0,\"#0d0887\"],[0.1111111111111111,\"#46039f\"],[0.2222222222222222,\"#7201a8\"],[0.3333333333333333,\"#9c179e\"],[0.4444444444444444,\"#bd3786\"],[0.5555555555555556,\"#d8576b\"],[0.6666666666666666,\"#ed7953\"],[0.7777777777777778,\"#fb9f3a\"],[0.8888888888888888,\"#fdca26\"],[1.0,\"#f0f921\"]]}],\"heatmap\":[{\"type\":\"heatmap\",\"colorbar\":{\"outlinewidth\":0,\"ticks\":\"\"},\"colorscale\":[[0.0,\"#0d0887\"],[0.1111111111111111,\"#46039f\"],[0.2222222222222222,\"#7201a8\"],[0.3333333333333333,\"#9c179e\"],[0.4444444444444444,\"#bd3786\"],[0.5555555555555556,\"#d8576b\"],[0.6666666666666666,\"#ed7953\"],[0.7777777777777778,\"#fb9f3a\"],[0.8888888888888888,\"#fdca26\"],[1.0,\"#f0f921\"]]}],\"heatmapgl\":[{\"type\":\"heatmapgl\",\"colorbar\":{\"outlinewidth\":0,\"ticks\":\"\"},\"colorscale\":[[0.0,\"#0d0887\"],[0.1111111111111111,\"#46039f\"],[0.2222222222222222,\"#7201a8\"],[0.3333333333333333,\"#9c179e\"],[0.4444444444444444,\"#bd3786\"],[0.5555555555555556,\"#d8576b\"],[0.6666666666666666,\"#ed7953\"],[0.7777777777777778,\"#fb9f3a\"],[0.8888888888888888,\"#fdca26\"],[1.0,\"#f0f921\"]]}],\"contourcarpet\":[{\"type\":\"contourcarpet\",\"colorbar\":{\"outlinewidth\":0,\"ticks\":\"\"}}],\"contour\":[{\"type\":\"contour\",\"colorbar\":{\"outlinewidth\":0,\"ticks\":\"\"},\"colorscale\":[[0.0,\"#0d0887\"],[0.1111111111111111,\"#46039f\"],[0.2222222222222222,\"#7201a8\"],[0.3333333333333333,\"#9c179e\"],[0.4444444444444444,\"#bd3786\"],[0.5555555555555556,\"#d8576b\"],[0.6666666666666666,\"#ed7953\"],[0.7777777777777778,\"#fb9f3a\"],[0.8888888888888888,\"#fdca26\"],[1.0,\"#f0f921\"]]}],\"surface\":[{\"type\":\"surface\",\"colorbar\":{\"outlinewidth\":0,\"ticks\":\"\"},\"colorscale\":[[0.0,\"#0d0887\"],[0.1111111111111111,\"#46039f\"],[0.2222222222222222,\"#7201a8\"],[0.3333333333333333,\"#9c179e\"],[0.4444444444444444,\"#bd3786\"],[0.5555555555555556,\"#d8576b\"],[0.6666666666666666,\"#ed7953\"],[0.7777777777777778,\"#fb9f3a\"],[0.8888888888888888,\"#fdca26\"],[1.0,\"#f0f921\"]]}],\"mesh3d\":[{\"type\":\"mesh3d\",\"colorbar\":{\"outlinewidth\":0,\"ticks\":\"\"}}],\"scatter\":[{\"fillpattern\":{\"fillmode\":\"overlay\",\"size\":10,\"solidity\":0.2},\"type\":\"scatter\"}],\"parcoords\":[{\"type\":\"parcoords\",\"line\":{\"colorbar\":{\"outlinewidth\":0,\"ticks\":\"\"}}}],\"scatterpolargl\":[{\"type\":\"scatterpolargl\",\"marker\":{\"colorbar\":{\"outlinewidth\":0,\"ticks\":\"\"}}}],\"bar\":[{\"error_x\":{\"color\":\"#2a3f5f\"},\"error_y\":{\"color\":\"#2a3f5f\"},\"marker\":{\"line\":{\"color\":\"#E5ECF6\",\"width\":0.5},\"pattern\":{\"fillmode\":\"overlay\",\"size\":10,\"solidity\":0.2}},\"type\":\"bar\"}],\"scattergeo\":[{\"type\":\"scattergeo\",\"marker\":{\"colorbar\":{\"outlinewidth\":0,\"ticks\":\"\"}}}],\"scatterpolar\":[{\"type\":\"scatterpolar\",\"marker\":{\"colorbar\":{\"outlinewidth\":0,\"ticks\":\"\"}}}],\"histogram\":[{\"marker\":{\"pattern\":{\"fillmode\":\"overlay\",\"size\":10,\"solidity\":0.2}},\"type\":\"histogram\"}],\"scattergl\":[{\"type\":\"scattergl\",\"marker\":{\"colorbar\":{\"outlinewidth\":0,\"ticks\":\"\"}}}],\"scatter3d\":[{\"type\":\"scatter3d\",\"line\":{\"colorbar\":{\"outlinewidth\":0,\"ticks\":\"\"}},\"marker\":{\"colorbar\":{\"outlinewidth\":0,\"ticks\":\"\"}}}],\"scattermapbox\":[{\"type\":\"scattermapbox\",\"marker\":{\"colorbar\":{\"outlinewidth\":0,\"ticks\":\"\"}}}],\"scatterternary\":[{\"type\":\"scatterternary\",\"marker\":{\"colorbar\":{\"outlinewidth\":0,\"ticks\":\"\"}}}],\"scattercarpet\":[{\"type\":\"scattercarpet\",\"marker\":{\"colorbar\":{\"outlinewidth\":0,\"ticks\":\"\"}}}],\"carpet\":[{\"aaxis\":{\"endlinecolor\":\"#2a3f5f\",\"gridcolor\":\"white\",\"linecolor\":\"white\",\"minorgridcolor\":\"white\",\"startlinecolor\":\"#2a3f5f\"},\"baxis\":{\"endlinecolor\":\"#2a3f5f\",\"gridcolor\":\"white\",\"linecolor\":\"white\",\"minorgridcolor\":\"white\",\"startlinecolor\":\"#2a3f5f\"},\"type\":\"carpet\"}],\"table\":[{\"cells\":{\"fill\":{\"color\":\"#EBF0F8\"},\"line\":{\"color\":\"white\"}},\"header\":{\"fill\":{\"color\":\"#C8D4E3\"},\"line\":{\"color\":\"white\"}},\"type\":\"table\"}],\"barpolar\":[{\"marker\":{\"line\":{\"color\":\"#E5ECF6\",\"width\":0.5},\"pattern\":{\"fillmode\":\"overlay\",\"size\":10,\"solidity\":0.2}},\"type\":\"barpolar\"}],\"pie\":[{\"automargin\":true,\"type\":\"pie\"}]},\"layout\":{\"autotypenumbers\":\"strict\",\"colorway\":[\"#636efa\",\"#EF553B\",\"#00cc96\",\"#ab63fa\",\"#FFA15A\",\"#19d3f3\",\"#FF6692\",\"#B6E880\",\"#FF97FF\",\"#FECB52\"],\"font\":{\"color\":\"#2a3f5f\"},\"hovermode\":\"closest\",\"hoverlabel\":{\"align\":\"left\"},\"paper_bgcolor\":\"white\",\"plot_bgcolor\":\"#E5ECF6\",\"polar\":{\"bgcolor\":\"#E5ECF6\",\"angularaxis\":{\"gridcolor\":\"white\",\"linecolor\":\"white\",\"ticks\":\"\"},\"radialaxis\":{\"gridcolor\":\"white\",\"linecolor\":\"white\",\"ticks\":\"\"}},\"ternary\":{\"bgcolor\":\"#E5ECF6\",\"aaxis\":{\"gridcolor\":\"white\",\"linecolor\":\"white\",\"ticks\":\"\"},\"baxis\":{\"gridcolor\":\"white\",\"linecolor\":\"white\",\"ticks\":\"\"},\"caxis\":{\"gridcolor\":\"white\",\"linecolor\":\"white\",\"ticks\":\"\"}},\"coloraxis\":{\"colorbar\":{\"outlinewidth\":0,\"ticks\":\"\"}},\"colorscale\":{\"sequential\":[[0.0,\"#0d0887\"],[0.1111111111111111,\"#46039f\"],[0.2222222222222222,\"#7201a8\"],[0.3333333333333333,\"#9c179e\"],[0.4444444444444444,\"#bd3786\"],[0.5555555555555556,\"#d8576b\"],[0.6666666666666666,\"#ed7953\"],[0.7777777777777778,\"#fb9f3a\"],[0.8888888888888888,\"#fdca26\"],[1.0,\"#f0f921\"]],\"sequentialminus\":[[0.0,\"#0d0887\"],[0.1111111111111111,\"#46039f\"],[0.2222222222222222,\"#7201a8\"],[0.3333333333333333,\"#9c179e\"],[0.4444444444444444,\"#bd3786\"],[0.5555555555555556,\"#d8576b\"],[0.6666666666666666,\"#ed7953\"],[0.7777777777777778,\"#fb9f3a\"],[0.8888888888888888,\"#fdca26\"],[1.0,\"#f0f921\"]],\"diverging\":[[0,\"#8e0152\"],[0.1,\"#c51b7d\"],[0.2,\"#de77ae\"],[0.3,\"#f1b6da\"],[0.4,\"#fde0ef\"],[0.5,\"#f7f7f7\"],[0.6,\"#e6f5d0\"],[0.7,\"#b8e186\"],[0.8,\"#7fbc41\"],[0.9,\"#4d9221\"],[1,\"#276419\"]]},\"xaxis\":{\"gridcolor\":\"white\",\"linecolor\":\"white\",\"ticks\":\"\",\"title\":{\"standoff\":15},\"zerolinecolor\":\"white\",\"automargin\":true,\"zerolinewidth\":2},\"yaxis\":{\"gridcolor\":\"white\",\"linecolor\":\"white\",\"ticks\":\"\",\"title\":{\"standoff\":15},\"zerolinecolor\":\"white\",\"automargin\":true,\"zerolinewidth\":2},\"scene\":{\"xaxis\":{\"backgroundcolor\":\"#E5ECF6\",\"gridcolor\":\"white\",\"linecolor\":\"white\",\"showbackground\":true,\"ticks\":\"\",\"zerolinecolor\":\"white\",\"gridwidth\":2},\"yaxis\":{\"backgroundcolor\":\"#E5ECF6\",\"gridcolor\":\"white\",\"linecolor\":\"white\",\"showbackground\":true,\"ticks\":\"\",\"zerolinecolor\":\"white\",\"gridwidth\":2},\"zaxis\":{\"backgroundcolor\":\"#E5ECF6\",\"gridcolor\":\"white\",\"linecolor\":\"white\",\"showbackground\":true,\"ticks\":\"\",\"zerolinecolor\":\"white\",\"gridwidth\":2}},\"shapedefaults\":{\"line\":{\"color\":\"#2a3f5f\"}},\"annotationdefaults\":{\"arrowcolor\":\"#2a3f5f\",\"arrowhead\":0,\"arrowwidth\":1},\"geo\":{\"bgcolor\":\"white\",\"landcolor\":\"#E5ECF6\",\"subunitcolor\":\"white\",\"showland\":true,\"showlakes\":true,\"lakecolor\":\"white\"},\"title\":{\"x\":0.05},\"mapbox\":{\"style\":\"light\"}}},\"title\":{\"text\":\"Y\"},\"xaxis\":{\"title\":{\"text\":\"mu\"}}},                        {\"responsive\": true}                    ).then(function(){\n",
       "                            \n",
       "var gd = document.getElementById('94cf851f-fe8b-4ae7-8a27-00ffedff6e5c');\n",
       "var x = new MutationObserver(function (mutations, observer) {{\n",
       "        var display = window.getComputedStyle(gd).display;\n",
       "        if (!display || display === 'none') {{\n",
       "            console.log([gd, 'removed!']);\n",
       "            Plotly.purge(gd);\n",
       "            observer.disconnect();\n",
       "        }}\n",
       "}});\n",
       "\n",
       "// Listen for the removal of the full notebook cells\n",
       "var notebookContainer = gd.closest('#notebook-container');\n",
       "if (notebookContainer) {{\n",
       "    x.observe(notebookContainer, {childList: true});\n",
       "}}\n",
       "\n",
       "// Listen for the clearing of the current output cell\n",
       "var outputEl = gd.closest('.output');\n",
       "if (outputEl) {{\n",
       "    x.observe(outputEl, {childList: true});\n",
       "}}\n",
       "\n",
       "                        })                };                });            </script>        </div>"
      ]
     },
     "metadata": {},
     "output_type": "display_data"
    }
   ],
   "source": [
    "\n",
    "xs=[]\n",
    "ys=[]\n",
    "mus_bif = []\n",
    "for cur_mu, sols in list(filtered_solutions_by_mu.items()):\n",
    "    for xc,yc in sols:\n",
    "        if yc!=0:# (σ/δ, 0) - решение, не зависящее от mu\n",
    "            mus_bif.append(cur_mu)\n",
    "            xs.append(float(xc.as_real_imag()[0]))\n",
    "            ys.append(float(yc.as_real_imag()[0]))\n",
    "            \n",
    "fig = go.Figure()\n",
    "fig.add_trace(go.Scatter(x=mus_bif, y=ys, mode='markers', name = \"y_real_part\"))\n",
    "# fig.add_trace(go.Scatter(x=mus_for_im, y=y_im_parts, mode='markers', name = \"y_im_parts\"))\n",
    "fig.update_layout(title=\"Y\")\n",
    "fig.add_trace(go.Scatter(x=mus_for_im, y=y_im_parts, mode='markers', name = \"y_im_parts\"))\n",
    "\n",
    "fig.update_layout(xaxis={\"title\": \"mu\"})"
   ]
  },
  {
   "cell_type": "code",
   "execution_count": 17,
   "metadata": {
    "tags": []
   },
   "outputs": [],
   "source": [
    "dfdx = diff(dxdt, x)\n",
    "dfdy = diff(dxdt, y)\n",
    "dgdx = diff(dydt, x)\n",
    "dgdy = diff(dydt, y)"
   ]
  },
  {
   "cell_type": "code",
   "execution_count": 18,
   "metadata": {
    "tags": []
   },
   "outputs": [
    {
     "data": {
      "text/latex": [
       "$\\displaystyle \\dfrac{df}{dx} = - y μ + \\frac{y ρ}{y + η} - δ$"
      ],
      "text/plain": [
       "<IPython.core.display.Math object>"
      ]
     },
     "metadata": {},
     "output_type": "display_data"
    },
    {
     "data": {
      "text/latex": [
       "$\\displaystyle \\dfrac{df}{dy} = - \\frac{x y ρ}{\\left(y + η\\right)^{2}} - x μ + \\frac{x ρ}{y + η}$"
      ],
      "text/plain": [
       "<IPython.core.display.Math object>"
      ]
     },
     "metadata": {},
     "output_type": "display_data"
    },
    {
     "data": {
      "text/latex": [
       "$\\displaystyle \\dfrac{dg}{dx} = - y$"
      ],
      "text/plain": [
       "<IPython.core.display.Math object>"
      ]
     },
     "metadata": {},
     "output_type": "display_data"
    },
    {
     "data": {
      "text/latex": [
       "$\\displaystyle \\dfrac{dg}{dy} = - \\frac{x y ρ}{\\left(y + η\\right)^{2}} - x μ + \\frac{x ρ}{y + η}$"
      ],
      "text/plain": [
       "<IPython.core.display.Math object>"
      ]
     },
     "metadata": {},
     "output_type": "display_data"
    }
   ],
   "source": [
    "\n",
    "display(Math('\\dfrac{df}{dx} = ' + latex(dfdx)))\n",
    "display(Math('\\dfrac{df}{dy} = ' + latex(dfdy)))\n",
    "display(Math('\\dfrac{dg}{dx} = ' + latex(dgdx)))\n",
    "display(Math('\\dfrac{dg}{dy} = ' + latex(dfdy)))"
   ]
  },
  {
   "cell_type": "code",
   "execution_count": 19,
   "metadata": {
    "tags": []
   },
   "outputs": [],
   "source": [
    "eqilibrium = {x:sigma/delta, y:0}\n",
    "a11 = dfdx.evalf(subs=eqilibrium)\n",
    "a12 = dfdy.evalf(subs=eqilibrium)\n",
    "a21 = dgdx.evalf(subs=eqilibrium)\n",
    "a22 = dgdy.evalf(subs=eqilibrium)\n"
   ]
  },
  {
   "cell_type": "markdown",
   "metadata": {},
   "source": [
    "Матрица первого приближения для равновесия (σ/δ, 0)"
   ]
  },
  {
   "cell_type": "code",
   "execution_count": 20,
   "metadata": {
    "tags": []
   },
   "outputs": [
    {
     "data": {
      "text/latex": [
       "$\\displaystyle \\left[\\begin{matrix}- δ & - \\frac{μ σ}{δ} + \\frac{ρ σ}{δ η}\\\\0 & - b + α - \\frac{σ}{δ}\\end{matrix}\\right]$"
      ],
      "text/plain": [
       "⎡      μ⋅σ   ρ⋅σ⎤\n",
       "⎢-δ  - ─── + ───⎥\n",
       "⎢       δ    δ⋅η⎥\n",
       "⎢               ⎥\n",
       "⎢             σ ⎥\n",
       "⎢0   -b + α - ─ ⎥\n",
       "⎣             δ ⎦"
      ]
     },
     "execution_count": 20,
     "metadata": {},
     "output_type": "execute_result"
    }
   ],
   "source": [
    "jacob_matrix = Matrix([[a11, a12], [a21, a22]])\n",
    "jacob_matrix"
   ]
  },
  {
   "cell_type": "code",
   "execution_count": 21,
   "metadata": {
    "tags": []
   },
   "outputs": [
    {
     "data": {
      "image/png": "[encoded data removed]",
      "text/latex": [
       "$\\displaystyle \\left\\{ - δ : 1, \\  - \\frac{b δ - α δ + σ}{δ} : 1\\right\\}$"
      ],
      "text/plain": [
       "⎧       -(b⋅δ - α⋅δ + σ)    ⎫\n",
       "⎨-δ: 1, ─────────────────: 1⎬\n",
       "⎩               δ           ⎭"
      ]
     },
     "execution_count": 21,
     "metadata": {},
     "output_type": "execute_result"
    }
   ],
   "source": [
    "jacob_matrix.eigenvals()"
   ]
  },
  {
   "cell_type": "code",
   "execution_count": 22,
   "metadata": {
    "tags": []
   },
   "outputs": [],
   "source": [
    "j = jacob_matrix - np.eye(2) * lambd"
   ]
  },
  {
   "cell_type": "markdown",
   "metadata": {},
   "source": [
    "Собственные числа "
   ]
  },
  {
   "cell_type": "code",
   "execution_count": 23,
   "metadata": {
    "tags": []
   },
   "outputs": [
    {
     "data": {
      "image/png": "[encoded data removed]",
      "text/latex": [
       "$\\displaystyle \\left( - δ, \\  - b + α - \\frac{σ}{δ}\\right)$"
      ],
      "text/plain": [
       "⎛             σ⎞\n",
       "⎜-δ, -b + α - ─⎟\n",
       "⎝             δ⎠"
      ]
     },
     "execution_count": 23,
     "metadata": {},
     "output_type": "execute_result"
    }
   ],
   "source": [
    "lam1, lam2 = solve(j.det(), lambd)\n",
    "lam1, lam2"
   ]
  },
  {
   "cell_type": "markdown",
   "metadata": {
    "tags": []
   },
   "source": [
    "Устойчиво <=> СЗ имеют отрицательные вещественные части."
   ]
  },
  {
   "cell_type": "markdown",
   "metadata": {},
   "source": [
    "b > α − σ/δ = 1.32047 --- равновесие (σ/δ, 0) будет устойчивым"
   ]
  },
  {
   "cell_type": "markdown",
   "metadata": {},
   "source": [
    "#### Aнализ в трех зонах с разной скоростью инактивации опухолевых клеток иммунными – µ, в которых будем варьировать параметр лечения b"
   ]
  },
  {
   "cell_type": "markdown",
   "metadata": {},
   "source": [
    "b1 = 0.899, b2 = 0.982, b3 = 1.332 и b4 = 5.17."
   ]
  },
  {
   "cell_type": "code",
   "execution_count": 24,
   "metadata": {
    "tags": []
   },
   "outputs": [],
   "source": [
    "def get_n_solutions_by_b(cur_mu, cur_b):\n",
    "    params = dict(concrete_params)\n",
    "    params[mu] = cur_mu\n",
    "    params[b] = cur_b\n",
    "    res = set()\n",
    "    for y_start in np.linspace(0, 400, 100):\n",
    "        try:\n",
    "            res.add(ImmutableMatrix(nsolve([dxdt.subs(params), dydt.subs(params)], (x,y), (0,y_start)) ))\n",
    "        except ValueError:\n",
    "            pass\n",
    "    return res\n",
    "    return solve([dxdt.subs(params), dydt.subs(params)], x,y)"
   ]
  },
  {
   "cell_type": "code",
   "execution_count": 25,
   "metadata": {
    "tags": []
   },
   "outputs": [
    {
     "data": {
      "text/latex": [
       "$\\displaystyle \\left\\{\\left[\\begin{matrix}-0.461143203066394\\\\639.504705601404\\end{matrix}\\right], \\left[\\begin{matrix}-0.461143203066394\\\\639.504705601404\\end{matrix}\\right], \\left[\\begin{matrix}0.315522308308843\\\\-4.39678140261483 \\cdot 10^{-23}\\end{matrix}\\right], \\left[\\begin{matrix}0.315522308308843\\\\-2.84628652948253 \\cdot 10^{-33}\\end{matrix}\\right], \\left[\\begin{matrix}0.315522308308843\\\\-9.93962852930157 \\cdot 10^{-35}\\end{matrix}\\right], \\left[\\begin{matrix}0.315522308308843\\\\-6.44678367113368 \\cdot 10^{-36}\\end{matrix}\\right], \\left[\\begin{matrix}0.315522308308843\\\\0\\end{matrix}\\right], \\left[\\begin{matrix}0.410744171868077\\\\1.45803897113293\\end{matrix}\\right], \\left[\\begin{matrix}1.15069925048416\\\\5.41602082987494\\end{matrix}\\right], \\left[\\begin{matrix}1.15069925048416\\\\5.41602082987494\\end{matrix}\\right]\\right\\}$"
      ],
      "text/plain": [
       "⎧⎡-0.461143203066394⎤  ⎡-0.461143203066394⎤  ⎡  0.315522308308843  ⎤  ⎡  0.315\n",
       "⎨⎢                  ⎥, ⎢                  ⎥, ⎢                     ⎥, ⎢       \n",
       "⎩⎣ 639.504705601404 ⎦  ⎣ 639.504705601404 ⎦  ⎣-4.39678140261483e-23⎦  ⎣-2.8462\n",
       "\n",
       "522308308843  ⎤  ⎡  0.315522308308843  ⎤  ⎡  0.315522308308843  ⎤  ⎡0.31552230\n",
       "              ⎥, ⎢                     ⎥, ⎢                     ⎥, ⎢          \n",
       "8652948253e-33⎦  ⎣-9.93962852930157e-35⎦  ⎣-6.44678367113368e-36⎦  ⎣        0 \n",
       "\n",
       "8308843⎤  ⎡0.410744171868077⎤  ⎡1.15069925048416⎤  ⎡1.15069925048416⎤⎫\n",
       "       ⎥, ⎢                 ⎥, ⎢                ⎥, ⎢                ⎥⎬\n",
       "       ⎦  ⎣1.45803897113293 ⎦  ⎣5.41602082987494⎦  ⎣5.41602082987494⎦⎭"
      ]
     },
     "execution_count": 25,
     "metadata": {},
     "output_type": "execute_result"
    }
   ],
   "source": [
    "get_n_solutions_by_b( 0.001, 3)"
   ]
  },
  {
   "cell_type": "code",
   "execution_count": 26,
   "metadata": {
    "tags": []
   },
   "outputs": [
    {
     "name": "stderr",
     "output_type": "stream",
     "text": [
      "100%|███████████████████████████████████████████| 50/50 [01:38<00:00,  1.97s/it]\n"
     ]
    }
   ],
   "source": [
    "cur_mu = 0.001\n",
    "solutions_by_b={}\n",
    "bs = np.linspace(0, 5, 50)\n",
    "for curb in tqdm(bs):\n",
    "    solutions = get_n_solutions_by_b(cur_mu, curb)\n",
    "    solutions_by_b[curb]= solutions"
   ]
  },
  {
   "cell_type": "code",
   "execution_count": 27,
   "metadata": {},
   "outputs": [
    {
     "data": {
      "application/vnd.plotly.v1+json": {
       "config": {
        "plotlyServerURL": "https://plot.ly"
       },
       "data": [
        {
         "mode": "markers",
         "name": "y_real_part",
         "type": "scatter",
         "x": [
          0,
          0,
          0,
          0,
          0,
          0,
          0,
          0,
          0,
          0,
          0,
          0,
          0,
          0,
          0,
          0,
          0,
          0,
          0,
          0,
          0,
          0,
          0,
          0,
          0,
          0,
          0,
          0,
          0,
          0,
          0,
          0,
          0,
          0,
          0,
          0,
          0,
          0,
          0,
          0,
          0,
          0,
          0,
          0,
          0,
          0,
          0,
          0,
          0,
          0,
          0,
          0,
          0,
          0,
          0,
          0,
          0,
          0,
          0,
          0.10204081632653061,
          0.10204081632653061,
          0.10204081632653061,
          0.10204081632653061,
          0.10204081632653061,
          0.10204081632653061,
          0.10204081632653061,
          0.10204081632653061,
          0.10204081632653061,
          0.10204081632653061,
          0.10204081632653061,
          0.10204081632653061,
          0.10204081632653061,
          0.10204081632653061,
          0.10204081632653061,
          0.10204081632653061,
          0.10204081632653061,
          0.10204081632653061,
          0.10204081632653061,
          0.10204081632653061,
          0.10204081632653061,
          0.10204081632653061,
          0.10204081632653061,
          0.10204081632653061,
          0.10204081632653061,
          0.10204081632653061,
          0.10204081632653061,
          0.10204081632653061,
          0.10204081632653061,
          0.10204081632653061,
          0.10204081632653061,
          0.10204081632653061,
          0.10204081632653061,
          0.10204081632653061,
          0.10204081632653061,
          0.10204081632653061,
          0.10204081632653061,
          0.10204081632653061,
          0.10204081632653061,
          0.10204081632653061,
          0.10204081632653061,
          0.10204081632653061,
          0.10204081632653061,
          0.10204081632653061,
          0.10204081632653061,
          0.10204081632653061,
          0.10204081632653061,
          0.10204081632653061,
          0.10204081632653061,
          0.10204081632653061,
          0.10204081632653061,
          0.10204081632653061,
          0.10204081632653061,
          0.10204081632653061,
          0.10204081632653061,
          0.10204081632653061,
          0.10204081632653061,
          0.10204081632653061,
          0.10204081632653061,
          0.20408163265306123,
          0.20408163265306123,
          0.20408163265306123,
          0.20408163265306123,
          0.20408163265306123,
          0.20408163265306123,
          0.20408163265306123,
          0.20408163265306123,
          0.20408163265306123,
          0.20408163265306123,
          0.20408163265306123,
          0.20408163265306123,
          0.20408163265306123,
          0.20408163265306123,
          0.20408163265306123,
          0.20408163265306123,
          0.20408163265306123,
          0.20408163265306123,
          0.20408163265306123,
          0.20408163265306123,
          0.20408163265306123,
          0.20408163265306123,
          0.20408163265306123,
          0.20408163265306123,
          0.20408163265306123,
          0.20408163265306123,
          0.20408163265306123,
          0.20408163265306123,
          0.20408163265306123,
          0.20408163265306123,
          0.20408163265306123,
          0.20408163265306123,
          0.20408163265306123,
          0.20408163265306123,
          0.20408163265306123,
          0.20408163265306123,
          0.20408163265306123,
          0.20408163265306123,
          0.20408163265306123,
          0.20408163265306123,
          0.20408163265306123,
          0.20408163265306123,
          0.20408163265306123,
          0.20408163265306123,
          0.20408163265306123,
          0.20408163265306123,
          0.20408163265306123,
          0.20408163265306123,
          0.20408163265306123,
          0.20408163265306123,
          0.20408163265306123,
          0.20408163265306123,
          0.20408163265306123,
          0.20408163265306123,
          0.20408163265306123,
          0.20408163265306123,
          0.20408163265306123,
          0.30612244897959184,
          0.30612244897959184,
          0.30612244897959184,
          0.30612244897959184,
          0.30612244897959184,
          0.30612244897959184,
          0.30612244897959184,
          0.30612244897959184,
          0.30612244897959184,
          0.30612244897959184,
          0.30612244897959184,
          0.30612244897959184,
          0.30612244897959184,
          0.30612244897959184,
          0.30612244897959184,
          0.30612244897959184,
          0.30612244897959184,
          0.30612244897959184,
          0.30612244897959184,
          0.30612244897959184,
          0.30612244897959184,
          0.30612244897959184,
          0.30612244897959184,
          0.30612244897959184,
          0.30612244897959184,
          0.30612244897959184,
          0.30612244897959184,
          0.30612244897959184,
          0.30612244897959184,
          0.30612244897959184,
          0.30612244897959184,
          0.30612244897959184,
          0.30612244897959184,
          0.30612244897959184,
          0.30612244897959184,
          0.30612244897959184,
          0.30612244897959184,
          0.30612244897959184,
          0.30612244897959184,
          0.30612244897959184,
          0.30612244897959184,
          0.30612244897959184,
          0.30612244897959184,
          0.30612244897959184,
          0.30612244897959184,
          0.30612244897959184,
          0.30612244897959184,
          0.30612244897959184,
          0.30612244897959184,
          0.30612244897959184,
          0.30612244897959184,
          0.30612244897959184,
          0.30612244897959184,
          0.30612244897959184,
          0.40816326530612246,
          0.40816326530612246,
          0.40816326530612246,
          0.40816326530612246,
          0.40816326530612246,
          0.40816326530612246,
          0.40816326530612246,
          0.40816326530612246,
          0.40816326530612246,
          0.40816326530612246,
          0.40816326530612246,
          0.40816326530612246,
          0.40816326530612246,
          0.40816326530612246,
          0.40816326530612246,
          0.40816326530612246,
          0.40816326530612246,
          0.40816326530612246,
          0.40816326530612246,
          0.40816326530612246,
          0.40816326530612246,
          0.40816326530612246,
          0.40816326530612246,
          0.40816326530612246,
          0.40816326530612246,
          0.40816326530612246,
          0.40816326530612246,
          0.40816326530612246,
          0.40816326530612246,
          0.40816326530612246,
          0.40816326530612246,
          0.40816326530612246,
          0.40816326530612246,
          0.40816326530612246,
          0.40816326530612246,
          0.40816326530612246,
          0.40816326530612246,
          0.40816326530612246,
          0.40816326530612246,
          0.40816326530612246,
          0.40816326530612246,
          0.40816326530612246,
          0.40816326530612246,
          0.40816326530612246,
          0.40816326530612246,
          0.40816326530612246,
          0.40816326530612246,
          0.40816326530612246,
          0.40816326530612246,
          0.40816326530612246,
          0.40816326530612246,
          0.40816326530612246,
          0.40816326530612246,
          0.40816326530612246,
          0.40816326530612246,
          0.40816326530612246,
          0.5102040816326531,
          0.5102040816326531,
          0.5102040816326531,
          0.5102040816326531,
          0.5102040816326531,
          0.5102040816326531,
          0.5102040816326531,
          0.5102040816326531,
          0.5102040816326531,
          0.5102040816326531,
          0.5102040816326531,
          0.5102040816326531,
          0.5102040816326531,
          0.5102040816326531,
          0.5102040816326531,
          0.5102040816326531,
          0.5102040816326531,
          0.5102040816326531,
          0.5102040816326531,
          0.5102040816326531,
          0.5102040816326531,
          0.5102040816326531,
          0.5102040816326531,
          0.5102040816326531,
          0.5102040816326531,
          0.5102040816326531,
          0.5102040816326531,
          0.5102040816326531,
          0.5102040816326531,
          0.5102040816326531,
          0.5102040816326531,
          0.5102040816326531,
          0.5102040816326531,
          0.5102040816326531,
          0.5102040816326531,
          0.5102040816326531,
          0.5102040816326531,
          0.5102040816326531,
          0.5102040816326531,
          0.5102040816326531,
          0.5102040816326531,
          0.5102040816326531,
          0.5102040816326531,
          0.5102040816326531,
          0.5102040816326531,
          0.5102040816326531,
          0.5102040816326531,
          0.5102040816326531,
          0.5102040816326531,
          0.5102040816326531,
          0.5102040816326531,
          0.5102040816326531,
          0.5102040816326531,
          0.5102040816326531,
          0.6122448979591837,
          0.6122448979591837,
          0.6122448979591837,
          0.6122448979591837,
          0.6122448979591837,
          0.6122448979591837,
          0.6122448979591837,
          0.6122448979591837,
          0.6122448979591837,
          0.6122448979591837,
          0.6122448979591837,
          0.6122448979591837,
          0.6122448979591837,
          0.6122448979591837,
          0.6122448979591837,
          0.6122448979591837,
          0.6122448979591837,
          0.6122448979591837,
          0.6122448979591837,
          0.6122448979591837,
          0.6122448979591837,
          0.6122448979591837,
          0.6122448979591837,
          0.6122448979591837,
          0.6122448979591837,
          0.6122448979591837,
          0.6122448979591837,
          0.6122448979591837,
          0.6122448979591837,
          0.6122448979591837,
          0.6122448979591837,
          0.6122448979591837,
          0.6122448979591837,
          0.6122448979591837,
          0.6122448979591837,
          0.6122448979591837,
          0.6122448979591837,
          0.6122448979591837,
          0.6122448979591837,
          0.6122448979591837,
          0.6122448979591837,
          0.6122448979591837,
          0.6122448979591837,
          0.6122448979591837,
          0.6122448979591837,
          0.6122448979591837,
          0.6122448979591837,
          0.6122448979591837,
          0.6122448979591837,
          0.6122448979591837,
          0.6122448979591837,
          0.6122448979591837,
          0.6122448979591837,
          0.6122448979591837,
          0.6122448979591837,
          0.7142857142857143,
          0.7142857142857143,
          0.7142857142857143,
          0.7142857142857143,
          0.7142857142857143,
          0.7142857142857143,
          0.7142857142857143,
          0.7142857142857143,
          0.7142857142857143,
          0.7142857142857143,
          0.7142857142857143,
          0.7142857142857143,
          0.7142857142857143,
          0.7142857142857143,
          0.7142857142857143,
          0.7142857142857143,
          0.7142857142857143,
          0.7142857142857143,
          0.7142857142857143,
          0.7142857142857143,
          0.7142857142857143,
          0.7142857142857143,
          0.7142857142857143,
          0.7142857142857143,
          0.7142857142857143,
          0.7142857142857143,
          0.7142857142857143,
          0.7142857142857143,
          0.7142857142857143,
          0.7142857142857143,
          0.7142857142857143,
          0.7142857142857143,
          0.7142857142857143,
          0.7142857142857143,
          0.7142857142857143,
          0.7142857142857143,
          0.7142857142857143,
          0.7142857142857143,
          0.7142857142857143,
          0.7142857142857143,
          0.7142857142857143,
          0.7142857142857143,
          0.7142857142857143,
          0.7142857142857143,
          0.7142857142857143,
          0.7142857142857143,
          0.7142857142857143,
          0.7142857142857143,
          0.7142857142857143,
          0.7142857142857143,
          0.7142857142857143,
          0.7142857142857143,
          0.7142857142857143,
          0.7142857142857143,
          0.7142857142857143,
          0.8163265306122449,
          0.8163265306122449,
          0.8163265306122449,
          0.8163265306122449,
          0.8163265306122449,
          0.8163265306122449,
          0.8163265306122449,
          0.8163265306122449,
          0.8163265306122449,
          0.8163265306122449,
          0.8163265306122449,
          0.8163265306122449,
          0.8163265306122449,
          0.8163265306122449,
          0.8163265306122449,
          0.8163265306122449,
          0.8163265306122449,
          0.8163265306122449,
          0.8163265306122449,
          0.8163265306122449,
          0.8163265306122449,
          0.8163265306122449,
          0.8163265306122449,
          0.8163265306122449,
          0.8163265306122449,
          0.8163265306122449,
          0.8163265306122449,
          0.8163265306122449,
          0.8163265306122449,
          0.8163265306122449,
          0.8163265306122449,
          0.8163265306122449,
          0.8163265306122449,
          0.8163265306122449,
          0.8163265306122449,
          0.8163265306122449,
          0.8163265306122449,
          0.8163265306122449,
          0.8163265306122449,
          0.8163265306122449,
          0.8163265306122449,
          0.8163265306122449,
          0.8163265306122449,
          0.8163265306122449,
          0.8163265306122449,
          0.8163265306122449,
          0.8163265306122449,
          0.8163265306122449,
          0.8163265306122449,
          0.8163265306122449,
          0.8163265306122449,
          0.8163265306122449,
          0.8163265306122449,
          0.8163265306122449,
          0.8163265306122449,
          0.9183673469387755,
          0.9183673469387755,
          0.9183673469387755,
          0.9183673469387755,
          0.9183673469387755,
          0.9183673469387755,
          0.9183673469387755,
          0.9183673469387755,
          0.9183673469387755,
          0.9183673469387755,
          0.9183673469387755,
          0.9183673469387755,
          0.9183673469387755,
          0.9183673469387755,
          0.9183673469387755,
          0.9183673469387755,
          0.9183673469387755,
          0.9183673469387755,
          0.9183673469387755,
          0.9183673469387755,
          0.9183673469387755,
          0.9183673469387755,
          0.9183673469387755,
          0.9183673469387755,
          0.9183673469387755,
          0.9183673469387755,
          0.9183673469387755,
          0.9183673469387755,
          0.9183673469387755,
          0.9183673469387755,
          0.9183673469387755,
          0.9183673469387755,
          0.9183673469387755,
          0.9183673469387755,
          0.9183673469387755,
          0.9183673469387755,
          0.9183673469387755,
          0.9183673469387755,
          0.9183673469387755,
          0.9183673469387755,
          0.9183673469387755,
          0.9183673469387755,
          0.9183673469387755,
          0.9183673469387755,
          0.9183673469387755,
          0.9183673469387755,
          0.9183673469387755,
          0.9183673469387755,
          0.9183673469387755,
          0.9183673469387755,
          0.9183673469387755,
          0.9183673469387755,
          0.9183673469387755,
          1.0204081632653061,
          1.0204081632653061,
          1.0204081632653061,
          1.0204081632653061,
          1.0204081632653061,
          1.0204081632653061,
          1.0204081632653061,
          1.0204081632653061,
          1.0204081632653061,
          1.0204081632653061,
          1.0204081632653061,
          1.0204081632653061,
          1.0204081632653061,
          1.0204081632653061,
          1.0204081632653061,
          1.0204081632653061,
          1.0204081632653061,
          1.0204081632653061,
          1.0204081632653061,
          1.0204081632653061,
          1.0204081632653061,
          1.0204081632653061,
          1.0204081632653061,
          1.0204081632653061,
          1.0204081632653061,
          1.0204081632653061,
          1.0204081632653061,
          1.0204081632653061,
          1.0204081632653061,
          1.0204081632653061,
          1.0204081632653061,
          1.0204081632653061,
          1.0204081632653061,
          1.0204081632653061,
          1.0204081632653061,
          1.0204081632653061,
          1.0204081632653061,
          1.0204081632653061,
          1.0204081632653061,
          1.0204081632653061,
          1.0204081632653061,
          1.0204081632653061,
          1.0204081632653061,
          1.0204081632653061,
          1.0204081632653061,
          1.0204081632653061,
          1.0204081632653061,
          1.0204081632653061,
          1.0204081632653061,
          1.0204081632653061,
          1.0204081632653061,
          1.0204081632653061,
          1.0204081632653061,
          1.1224489795918369,
          1.1224489795918369,
          1.1224489795918369,
          1.1224489795918369,
          1.1224489795918369,
          1.1224489795918369,
          1.1224489795918369,
          1.1224489795918369,
          1.1224489795918369,
          1.1224489795918369,
          1.1224489795918369,
          1.1224489795918369,
          1.1224489795918369,
          1.1224489795918369,
          1.1224489795918369,
          1.1224489795918369,
          1.1224489795918369,
          1.1224489795918369,
          1.1224489795918369,
          1.1224489795918369,
          1.1224489795918369,
          1.1224489795918369,
          1.1224489795918369,
          1.1224489795918369,
          1.1224489795918369,
          1.1224489795918369,
          1.1224489795918369,
          1.1224489795918369,
          1.1224489795918369,
          1.1224489795918369,
          1.1224489795918369,
          1.1224489795918369,
          1.1224489795918369,
          1.1224489795918369,
          1.1224489795918369,
          1.1224489795918369,
          1.1224489795918369,
          1.1224489795918369,
          1.1224489795918369,
          1.1224489795918369,
          1.1224489795918369,
          1.1224489795918369,
          1.1224489795918369,
          1.1224489795918369,
          1.1224489795918369,
          1.1224489795918369,
          1.1224489795918369,
          1.1224489795918369,
          1.1224489795918369,
          1.1224489795918369,
          1.1224489795918369,
          1.1224489795918369,
          1.1224489795918369,
          1.1224489795918369,
          1.2244897959183674,
          1.2244897959183674,
          1.2244897959183674,
          1.2244897959183674,
          1.2244897959183674,
          1.2244897959183674,
          1.2244897959183674,
          1.2244897959183674,
          1.2244897959183674,
          1.2244897959183674,
          1.2244897959183674,
          1.2244897959183674,
          1.2244897959183674,
          1.2244897959183674,
          1.2244897959183674,
          1.2244897959183674,
          1.2244897959183674,
          1.2244897959183674,
          1.2244897959183674,
          1.2244897959183674,
          1.2244897959183674,
          1.2244897959183674,
          1.2244897959183674,
          1.2244897959183674,
          1.2244897959183674,
          1.2244897959183674,
          1.2244897959183674,
          1.2244897959183674,
          1.2244897959183674,
          1.2244897959183674,
          1.2244897959183674,
          1.2244897959183674,
          1.2244897959183674,
          1.2244897959183674,
          1.2244897959183674,
          1.2244897959183674,
          1.2244897959183674,
          1.2244897959183674,
          1.2244897959183674,
          1.2244897959183674,
          1.2244897959183674,
          1.2244897959183674,
          1.2244897959183674,
          1.2244897959183674,
          1.2244897959183674,
          1.2244897959183674,
          1.2244897959183674,
          1.2244897959183674,
          1.2244897959183674,
          1.3265306122448979,
          1.3265306122448979,
          1.3265306122448979,
          1.3265306122448979,
          1.3265306122448979,
          1.4285714285714286,
          1.4285714285714286,
          1.4285714285714286,
          1.4285714285714286,
          1.4285714285714286,
          1.4285714285714286,
          1.4285714285714286,
          1.4285714285714286,
          1.4285714285714286,
          1.4285714285714286,
          1.4285714285714286,
          1.4285714285714286,
          1.4285714285714286,
          1.4285714285714286,
          1.4285714285714286,
          1.4285714285714286,
          1.4285714285714286,
          1.4285714285714286,
          1.4285714285714286,
          1.4285714285714286,
          1.4285714285714286,
          1.4285714285714286,
          1.4285714285714286,
          1.4285714285714286,
          1.4285714285714286,
          1.4285714285714286,
          1.4285714285714286,
          1.4285714285714286,
          1.4285714285714286,
          1.4285714285714286,
          1.4285714285714286,
          1.4285714285714286,
          1.4285714285714286,
          1.4285714285714286,
          1.4285714285714286,
          1.5306122448979593,
          1.5306122448979593,
          1.5306122448979593,
          1.5306122448979593,
          1.5306122448979593,
          1.5306122448979593,
          1.5306122448979593,
          1.5306122448979593,
          1.5306122448979593,
          1.5306122448979593,
          1.5306122448979593,
          1.5306122448979593,
          1.5306122448979593,
          1.5306122448979593,
          1.5306122448979593,
          1.5306122448979593,
          1.5306122448979593,
          1.6326530612244898,
          1.6326530612244898,
          1.6326530612244898,
          1.6326530612244898,
          1.6326530612244898,
          1.6326530612244898,
          1.6326530612244898,
          1.6326530612244898,
          1.6326530612244898,
          1.7346938775510203,
          1.7346938775510203,
          1.7346938775510203,
          1.7346938775510203,
          1.7346938775510203,
          1.7346938775510203,
          1.7346938775510203,
          1.7346938775510203,
          1.7346938775510203,
          1.836734693877551,
          1.836734693877551,
          1.836734693877551,
          1.836734693877551,
          1.836734693877551,
          1.836734693877551,
          1.836734693877551,
          1.836734693877551,
          1.9387755102040818,
          1.9387755102040818,
          1.9387755102040818,
          1.9387755102040818,
          1.9387755102040818,
          1.9387755102040818,
          1.9387755102040818,
          1.9387755102040818,
          1.9387755102040818,
          1.9387755102040818,
          2.0408163265306123,
          2.0408163265306123,
          2.0408163265306123,
          2.0408163265306123,
          2.0408163265306123,
          2.0408163265306123,
          2.0408163265306123,
          2.0408163265306123,
          2.0408163265306123,
          2.142857142857143,
          2.142857142857143,
          2.142857142857143,
          2.142857142857143,
          2.142857142857143,
          2.142857142857143,
          2.142857142857143,
          2.142857142857143,
          2.142857142857143,
          2.2448979591836737,
          2.2448979591836737,
          2.2448979591836737,
          2.2448979591836737,
          2.2448979591836737,
          2.2448979591836737,
          2.2448979591836737,
          2.2448979591836737,
          2.2448979591836737,
          2.2448979591836737,
          2.3469387755102042,
          2.3469387755102042,
          2.3469387755102042,
          2.3469387755102042,
          2.3469387755102042,
          2.3469387755102042,
          2.3469387755102042,
          2.3469387755102042,
          2.3469387755102042,
          2.4489795918367347,
          2.4489795918367347,
          2.4489795918367347,
          2.4489795918367347,
          2.4489795918367347,
          2.4489795918367347,
          2.4489795918367347,
          2.4489795918367347,
          2.5510204081632653,
          2.5510204081632653,
          2.5510204081632653,
          2.5510204081632653,
          2.5510204081632653,
          2.5510204081632653,
          2.5510204081632653,
          2.5510204081632653,
          2.5510204081632653,
          2.6530612244897958,
          2.6530612244897958,
          2.6530612244897958,
          2.6530612244897958,
          2.6530612244897958,
          2.6530612244897958,
          2.6530612244897958,
          2.6530612244897958,
          2.6530612244897958,
          2.7551020408163267,
          2.7551020408163267,
          2.7551020408163267,
          2.7551020408163267,
          2.7551020408163267,
          2.7551020408163267,
          2.7551020408163267,
          2.7551020408163267,
          2.7551020408163267,
          2.7551020408163267,
          2.857142857142857,
          2.857142857142857,
          2.857142857142857,
          2.857142857142857,
          2.857142857142857,
          2.857142857142857,
          2.857142857142857,
          2.857142857142857,
          2.857142857142857,
          2.857142857142857,
          2.9591836734693877,
          2.9591836734693877,
          2.9591836734693877,
          2.9591836734693877,
          2.9591836734693877,
          2.9591836734693877,
          2.9591836734693877,
          2.9591836734693877,
          2.9591836734693877,
          2.9591836734693877,
          3.0612244897959187,
          3.0612244897959187,
          3.0612244897959187,
          3.0612244897959187,
          3.0612244897959187,
          3.0612244897959187,
          3.0612244897959187,
          3.0612244897959187,
          3.0612244897959187,
          3.0612244897959187,
          3.163265306122449,
          3.163265306122449,
          3.163265306122449,
          3.163265306122449,
          3.163265306122449,
          3.163265306122449,
          3.163265306122449,
          3.163265306122449,
          3.163265306122449,
          3.2653061224489797,
          3.2653061224489797,
          3.2653061224489797,
          3.2653061224489797,
          3.2653061224489797,
          3.2653061224489797,
          3.2653061224489797,
          3.2653061224489797,
          3.2653061224489797,
          3.2653061224489797,
          3.2653061224489797,
          3.2653061224489797,
          3.36734693877551,
          3.36734693877551,
          3.36734693877551,
          3.36734693877551,
          3.36734693877551,
          3.36734693877551,
          3.36734693877551,
          3.36734693877551,
          3.36734693877551,
          3.36734693877551,
          3.36734693877551,
          3.4693877551020407,
          3.4693877551020407,
          3.4693877551020407,
          3.4693877551020407,
          3.4693877551020407,
          3.4693877551020407,
          3.4693877551020407,
          3.4693877551020407,
          3.5714285714285716,
          3.5714285714285716,
          3.5714285714285716,
          3.5714285714285716,
          3.5714285714285716,
          3.5714285714285716,
          3.5714285714285716,
          3.5714285714285716,
          3.673469387755102,
          3.673469387755102,
          3.673469387755102,
          3.673469387755102,
          3.673469387755102,
          3.673469387755102,
          3.673469387755102,
          3.673469387755102,
          3.673469387755102,
          3.673469387755102,
          3.7755102040816326,
          3.7755102040816326,
          3.7755102040816326,
          3.7755102040816326,
          3.7755102040816326,
          3.7755102040816326,
          3.7755102040816326,
          3.7755102040816326,
          3.7755102040816326,
          3.7755102040816326,
          3.8775510204081636,
          3.8775510204081636,
          3.8775510204081636,
          3.8775510204081636,
          3.8775510204081636,
          3.8775510204081636,
          3.8775510204081636,
          3.8775510204081636,
          3.979591836734694,
          3.979591836734694,
          3.979591836734694,
          3.979591836734694,
          3.979591836734694,
          3.979591836734694,
          3.979591836734694,
          3.979591836734694,
          3.979591836734694,
          4.081632653061225,
          4.081632653061225,
          4.081632653061225,
          4.081632653061225,
          4.081632653061225,
          4.081632653061225,
          4.081632653061225,
          4.081632653061225,
          4.081632653061225,
          4.081632653061225,
          4.183673469387755,
          4.183673469387755,
          4.183673469387755,
          4.183673469387755,
          4.183673469387755,
          4.183673469387755,
          4.183673469387755,
          4.183673469387755,
          4.285714285714286,
          4.285714285714286,
          4.285714285714286,
          4.285714285714286,
          4.285714285714286,
          4.387755102040816,
          4.387755102040816,
          4.387755102040816,
          4.387755102040816,
          4.387755102040816,
          4.387755102040816,
          4.387755102040816,
          4.387755102040816,
          4.387755102040816,
          4.387755102040816,
          4.4897959183673475,
          4.4897959183673475,
          4.4897959183673475,
          4.4897959183673475,
          4.4897959183673475,
          4.4897959183673475,
          4.591836734693878,
          4.591836734693878,
          4.591836734693878,
          4.591836734693878,
          4.591836734693878,
          4.591836734693878,
          4.6938775510204085,
          4.6938775510204085,
          4.6938775510204085,
          4.6938775510204085,
          4.795918367346939,
          4.795918367346939,
          4.795918367346939,
          4.795918367346939,
          4.795918367346939,
          4.795918367346939,
          4.795918367346939,
          4.795918367346939,
          4.8979591836734695,
          4.8979591836734695,
          4.8979591836734695,
          4.8979591836734695,
          4.8979591836734695,
          4.8979591836734695,
          4.8979591836734695,
          4.8979591836734695,
          4.8979591836734695,
          5,
          5,
          5,
          5,
          5,
          5
         ],
         "y": [
          -3.118986161709025e-29,
          -1.8436937186515023e-28,
          -1.9469428110388344e-30,
          -3.7283893737425783e-29,
          -3.5600932102704765e-29,
          -5.0574154369269655e-28,
          -2.9530381577526988e-24,
          -6.468523055879976e-34,
          -2.223937951436161e-31,
          -6.495060870648962e-28,
          -1.8040360148682928e-29,
          -5.888347625291562e-33,
          -1.5827115381889054e-27,
          642.504269292167,
          -2.9229513537946356e-27,
          -3.0735691889171592e-30,
          -6.131888982025321e-28,
          -5.106486741325244e-24,
          -1.2998843388953e-24,
          -1.552392760143327e-31,
          -1.409563625688669e-31,
          -1.6155811567181932e-23,
          -1.9826516220145532e-34,
          -1.4870776606238736e-37,
          -1.5882627245295096e-25,
          -4.703788527225946e-28,
          -8.364960606761227e-25,
          -2.4196547077013298e-27,
          -1.6757279271675997e-23,
          -1.1975782059688164e-30,
          -3.7732647868830656e-29,
          -1.4529784306102458e-34,
          -5.830919795963234e-23,
          -4.290329293727994e-28,
          -7.183208421486957e-31,
          -1.3054235807653692e-22,
          -6.332584476694274e-24,
          -3.1761857866121465e-24,
          -1.9026483150989316e-28,
          6.190233346324984,
          -1.119292890543732e-27,
          -1.68430479938199e-31,
          -8.009635500919998e-23,
          -1.549309123377794e-26,
          642.504269292167,
          -2.1854352334347782e-26,
          -5.831265298191395e-33,
          -9.569235716160157e-25,
          -4.0118498890019506e-24,
          -3.229535736141544e-29,
          -7.267636599456726e-36,
          -4.871466115695456e-26,
          -5.206595518056968e-37,
          -6.503139986936991e-25,
          -1.884591177176583e-20,
          -1.1942710439806812e-23,
          -1.0150708297272808e-27,
          -1.432762125939728e-23,
          -2.0371376104799977e-23,
          -4.49343768003782e-32,
          -4.430089749938467e-34,
          -4.032410659568524e-26,
          -1.3837998094371e-30,
          -3.931510863353141e-22,
          -4.22386781972678e-38,
          -4.18863010305838e-32,
          -1.065335851872275e-24,
          -1.3289449299721452e-23,
          -7.34859157921924e-26,
          -3.6090195905018335e-28,
          -5.44973904567134e-33,
          -1.3542557967215196e-26,
          -2.5478506867957604e-27,
          -2.2576734343082568e-38,
          -7.777579972252595e-32,
          -1.7790565606141295e-27,
          -1.12212275764003e-25,
          -4.158036970586668e-26,
          -4.282057594945982e-29,
          -5.757291188253608e-26,
          5.218120536446582e-25,
          -9.361666569499024e-35,
          -1.7837922675777477e-24,
          -9.014586041482152e-25,
          -9.448210906148687e-36,
          -2.5141518878607445e-29,
          -1.632721690868219e-20,
          -2.8565856783385607e-32,
          -6.7720317424293165e-21,
          -8.604166013817456e-34,
          -6.669308869036537e-22,
          -4.286909659247579e-37,
          6.172770992748918,
          -1.661186432719248e-24,
          -2.602089700384696e-32,
          -1.7925890066520104e-28,
          -0.9254275788657478,
          -9.017710059343022e-29,
          -4.364884350502048e-32,
          -4.88989715316622e-25,
          -1.702709916729685e-38,
          -1.246517801342952e-21,
          -4.752670262192655e-13,
          -1.2146501078262075e-34,
          -8.682284332679239e-24,
          -4.863916332376249e-26,
          -1.2047248099272784e-24,
          -1.0410849028436133e-25,
          -2.0202425100935973e-23,
          -2.0156692475614533e-23,
          -1.967335846682413e-32,
          -1.8407028846150256e-33,
          -1.549883588580469e-25,
          642.4014610178141,
          642.4014610178142,
          -1.1279308819535482e-34,
          -1.5630229179367822e-26,
          -5.87068483166201e-26,
          6.15493322725489,
          -2.4159851770133346e-28,
          642.2987099755165,
          -3.3244631016742967e-20,
          -4.6066622027845474e-39,
          -4.100034827805866e-36,
          -3.463457799508879e-20,
          1.3006259448725108e-32,
          -3.607418729502396e-30,
          -9.032219275893603e-31,
          -2.129954652956158e-35,
          -7.721780027676179e-25,
          -1.2515781939806675e-35,
          -3.874154739453945e-25,
          -1.7477862344155278e-32,
          -1.327033423167846e-34,
          -2.920504299039684e-28,
          -1.548290024259986e-22,
          -7.411063411947761e-35,
          -4.040253546275963e-31,
          -3.742773313892898e-29,
          -2.0030797709346702e-23,
          -2.997244350510136e-27,
          3.8180162280174203e-22,
          -3.120613797913074e-27,
          -8.553020308453283e-22,
          -6.359063421133741e-33,
          -0.8504683330816835,
          -6.701152597036718e-24,
          -5.571641588181274e-21,
          2.3473273763685074e-21,
          1.8694681498900456e-22,
          -2.679172829683589e-32,
          -9.525547225558444e-21,
          642.2987099755167,
          -2.3181164682661146e-28,
          -1.8492948464047803e-23,
          -1.0058218242131889e-27,
          -8.353780034770984e-36,
          -1.8466514345822621e-22,
          -5.1895751002807494e-36,
          -1.867199998946386e-32,
          -1.0291059813277977e-20,
          -2.1700545690384476e-27,
          1.0507643042834336e-26,
          3.519042048937472e-23,
          -1.079533431985324e-37,
          -9.818949103711099e-25,
          3.9500385710437524e-23,
          -8.371470887708094e-23,
          -9.920849461773926e-36,
          -1.4730975789169833e-34,
          -2.2692317924575165e-37,
          -3.201266359365291e-22,
          -5.800380676450352e-34,
          -1.9977791954205858e-35,
          -2.7314280706174555e-27,
          2.2242785359473383e-26,
          -9.561366586711607e-38,
          3.2209517383093006e-32,
          6.8856153134343494e-34,
          8.193948963285765e-36,
          4.686552268526269e-36,
          -0.7751070446676208,
          1.9646143499674064e-33,
          8.028967570635154e-37,
          4.369801936034723e-20,
          -2.7763375270651237e-21,
          -1.3495425506135627e-19,
          8.408737740779873e-32,
          3.0604112513915857e-34,
          7.107483965878046e-26,
          1.6286859457354557e-23,
          4.360624927252718e-30,
          1.1577986949924365e-29,
          1.8731661040076987e-37,
          4.4270913875696434e-32,
          4.304750373169067e-21,
          1.0534497112460939e-29,
          1.201863972230219e-33,
          1.8306494560081803e-24,
          3.283084802803096e-31,
          -1.0746116233631067e-37,
          7.560628071430321e-26,
          5.725849530406888e-28,
          8.25203993685939e-37,
          3.210690522362101e-29,
          2.3118104592933926e-36,
          4.5265796771065413e-38,
          4.5974742671972873e-29,
          1.6590284650924782e-25,
          -1.0695559367729078e-19,
          2.26367323381311e-38,
          6.136704838606382,
          1.7084526702219422e-25,
          1.9270302516569728e-23,
          -9.063614610211226e-37,
          1.5108795558195092e-37,
          642.1960159225965,
          642.1960159225965,
          3.584681968003256e-21,
          1.786589266201973e-36,
          -1.891539383108268e-20,
          -1.3087896347388547e-24,
          3.925228261049843e-30,
          3.4432241880894363e-34,
          4.886931624472385e-34,
          3.6792384136475454e-22,
          3.6434809004371925e-26,
          2.2730856978261047e-26,
          -1.437032935031863e-20,
          3.5219365527290155e-27,
          -0.6993275255318088,
          3.289224613213065e-35,
          9.131299954877085e-22,
          642.0933786176838,
          5.819915693062916e-23,
          1.7510665037201153e-20,
          6.712477803144727e-23,
          -0.6993275255318816,
          1.3914243904386857e-28,
          1.301486661121637e-31,
          3.286728122647195e-35,
          3.48090502397717e-36,
          6.118069645461923,
          5.35522825194575e-20,
          8.333079906566272e-22,
          2.180291094561801e-20,
          1.514283156313449e-20,
          1.429064891709146e-20,
          1.448976647080906e-24,
          1.6704682276956327e-20,
          5.75381888924836e-21,
          1.7720727957247912e-20,
          1.0268306253912628e-22,
          2.4371520812382835e-23,
          2.411117647392745e-24,
          642.0933786176839,
          2.2552458921109868e-36,
          2.314406551574907e-21,
          6.708466047576619e-36,
          6.069820347454074e-22,
          2.3443355074631074e-23,
          1.1708091945571484e-24,
          7.166688492088186e-22,
          5.2126962389589695e-24,
          3.16241342485034e-36,
          7.941539102095526e-36,
          1.9042197748081538e-37,
          3.86010359703765e-28,
          3.3577862204487126e-26,
          3.3455879028166256e-34,
          5.947774041218187e-25,
          3.118310843792444e-23,
          1.9702870805555877e-19,
          3.72351754440346e-35,
          1.3555113665884025e-35,
          4.306743974023264e-38,
          -5.985164490615584e-22,
          2.0960195394224457e-22,
          1.0920090394572233e-20,
          1.5659287314175017e-32,
          3.3478961626834136e-14,
          7.757675095096514e-21,
          3.2040116361167374e-24,
          3.0219397606011928e-21,
          1.4515615043445894e-19,
          -0.6231125304409101,
          4.0692664434437135e-24,
          5.865363700716236e-21,
          1.815894746052379e-27,
          3.2601852248771687e-37,
          3.378258369864608e-26,
          6.099010409345086,
          4.713727470863537e-22,
          4.719802166326351e-22,
          2.6151517126810024e-36,
          4.503933450838275e-23,
          1.3419795789950496e-31,
          9.20916145960611e-22,
          1.6968855014985492e-35,
          1.3129307843153046e-24,
          641.9907978207066,
          9.546940886610195e-30,
          1.7143161334835844e-20,
          4.42694802891631e-37,
          1.8665497554199518e-32,
          1.1836014253232738e-30,
          2.9969356907992307e-30,
          2.2743674383677218e-24,
          5.566380170625747e-22,
          2.3085036639668912e-36,
          1.7768552612885783e-25,
          641.9907978207066,
          4.656045761949199e-20,
          3.973330003601777e-37,
          1.2649853035223058e-21,
          2.8959014869353853e-22,
          1.6300036611509776e-34,
          8.849504781494174e-31,
          9.854371324527747e-36,
          1.0520749056200102e-35,
          6.973128778698387e-28,
          7.894103915935482e-38,
          9.613950713970608e-21,
          1.8448268703754694e-20,
          2.4122426331988446e-34,
          7.43420050424699e-34,
          1.2951554413849395e-29,
          6.299642399808978e-37,
          2.9790718254746653e-30,
          2.934420326201107e-37,
          1.5749358970545213e-23,
          1.310763533590459e-23,
          1.8298986709506376e-36,
          6.077381845021482e-36,
          1.9402362449335697e-23,
          6.0990104093450945,
          2.378018614530164e-35,
          7.141768323888871e-20,
          6.149870092411809e-20,
          1.0159969496533633e-30,
          2.05868821581016e-33,
          5.049563276810127e-36,
          3.130995580863411e-26,
          4.360512302224725e-22,
          8.625138215997882e-28,
          641.88827329288,
          5.9145590361801325e-30,
          3.2934282328986606e-31,
          3.281033261798733e-26,
          1.1012693298526266e-34,
          1.1423365996611863e-34,
          2.226752543795637e-29,
          6.786900620250425e-27,
          1.4191985096665441e-30,
          7.652284372863203e-30,
          1.7627025307921134e-37,
          5.292557523959904e-23,
          2.7119578652437537e-30,
          6.944554534783337e-21,
          1.2651925755494056e-32,
          -0.5464436597581751,
          3.993321455856448e-31,
          3.36437209304304e-35,
          -0.5464436597581748,
          5.358141797527256e-20,
          7.490324275397134e-34,
          2.2047212189202523e-29,
          5.687154347127224e-37,
          1.226260731243936e-19,
          2.708168477755598e-22,
          4.411440756324042e-25,
          3.774067428990917e-33,
          5.128873001238318e-21,
          1.8872615971045263e-36,
          641.88827329288,
          3.6017501117968887e-29,
          1.8055670772227405e-33,
          1.900098656918064e-34,
          2.4573232251645874e-26,
          2.2311862471729137e-22,
          4.695030191497761e-36,
          2.3799628829058068e-21,
          1.7753159611442929e-22,
          4.5521801780134624e-30,
          1.7829483710020233e-26,
          2.519800495710812e-21,
          5.077083262446573e-29,
          5.8573056778661634e-33,
          9.409768065231582e-37,
          2.721154369496065e-34,
          1.7640481575742165e-33,
          6.079508737382664,
          4.778312191941291e-25,
          2.4429522816874127e-31,
          6.572558073744975e-23,
          3.477037156817032e-34,
          5.589234860850411e-26,
          1.23688725969994e-21,
          7.418249202026675e-32,
          5.353974871271025e-20,
          5.088580537679612e-25,
          1.1398975956840749e-19,
          9.207950603176552e-28,
          9.99413005299846e-30,
          5.334854126914542e-21,
          7.387037971935321e-33,
          1.7740285897337061e-31,
          5.531610949144566e-20,
          1.0863244232223408e-20,
          3.055991389693758e-29,
          1.456508978864467e-26,
          6.352126110356782e-32,
          7.127287400777644e-26,
          8.762550319916461e-30,
          6.471012775609997e-20,
          1.5908573287648508e-33,
          2.1163682831558396e-24,
          7.231521186136592e-24,
          1.6303706774551466e-23,
          641.7858047966972,
          7.460333799340903e-28,
          3.4464370919415892e-28,
          3.605267420868433e-23,
          6.059544973316434,
          1.5012881392096464e-21,
          1.0215435850771943e-35,
          1.921031651241811e-22,
          1.0081765989714324e-23,
          1.9145115963971549e-19,
          7.371138572198699e-29,
          5.731936311858157e-22,
          4.1135371596065575e-22,
          1.8673298147338956e-35,
          2.823319249625278e-35,
          1.6664070939857463e-37,
          2.1787289871910367e-37,
          641.7858047966971,
          -0.4693012504444686,
          4.733610426926696e-37,
          1.1043364140778489e-24,
          2.8503593842803903e-25,
          1.306190005699794e-26,
          1.3915617427617665e-26,
          5.787061968148996e-23,
          6.059544973305712,
          5.088363840572714e-29,
          4.3376386382483e-24,
          2.2608181195411563e-20,
          2.4998804018994155e-26,
          5.643300467068186e-28,
          6.039098075067445,
          4.201539082613674e-19,
          5.002630004917641e-22,
          2.268196548128483e-34,
          8.037433824988504e-31,
          4.428052027898443e-37,
          1.024822437320192e-28,
          1.9735522362199932e-19,
          9.65508872096022e-29,
          1.1960065062530416e-23,
          7.250227374009875e-20,
          1.9350825674998202e-20,
          7.102229234210015e-21,
          1.2475767279313563e-23,
          9.246788482155072e-30,
          -0.39166425365668683,
          1.0233935267103836e-24,
          1.9582249266135552e-23,
          1.4251496063052674e-32,
          1.6344622210228222e-29,
          3.3804963426014585e-27,
          -0.3916642535482686,
          3.4079411989321124e-31,
          8.285356927791432e-20,
          2.7964371641393545e-21,
          2.5442223693996525e-24,
          3.815883107255782e-20,
          6.266620107575097e-24,
          2.0196961584210453e-25,
          7.476065190104515e-26,
          5.641236209363751e-26,
          2.9620324294328105e-23,
          1.6084340492425964e-32,
          1.7265294113372015e-34,
          2.4293328103198565e-23,
          6.039098074939548,
          1.682261022992949e-25,
          7.199277078929754e-22,
          3.381588254661724e-19,
          5.3588912320093335e-31,
          3.7790352299775537e-34,
          2.890944179808999e-19,
          641.6833920959192,
          1.864516274746451e-19,
          3.369403238212429e-28,
          6.98188135708483e-30,
          641.6833920959192,
          8.088326046128994e-21,
          2.6078934423150862e-20,
          1.0029569636724131e-20,
          2.286568369793912e-21,
          3.6811245689408155e-33,
          6.5962303788836e-21,
          4.8473395627462475e-26,
          1.3386983402999531e-26,
          641.5810349555649,
          3.5337813755729986e-22,
          3.6636328370490174e-35,
          7.344898919663118e-23,
          2.414519885343914e-31,
          1.2833209201094493e-27,
          9.300415510615586e-25,
          1.68446678094233e-30,
          2.1896841124043456e-33,
          4.246508763575562e-28,
          1.4006663422872536e-28,
          3.5996483864522666e-19,
          3.1806635729170963e-20,
          8.959606732414165e-22,
          2.5961231733580526e-24,
          1.4234827574088866e-25,
          5.0081617324359124e-24,
          4.391828952680421e-28,
          1.910448493155812e-26,
          2.5785182517371973e-22,
          1.4676276712658252e-27,
          2.3631708397465565e-29,
          4.3826736935584385e-19,
          2.1053028489421727e-35,
          2.2453806205965508e-28,
          3.374973456402549e-24,
          1.9784294922533377e-35,
          6.885236492012698e-33,
          641.5810349555649,
          1.1062299051966458e-25,
          2.1557645666089952e-30,
          6.018145476083499,
          8.290021348227608e-28,
          8.396542511570455e-22,
          641.5810349555649,
          7.305591882854868e-33,
          3.474112569575692e-29,
          1.708722770816e-23,
          4.428505386969183e-31,
          6.02922205104386e-25,
          2.0160288364380348e-26,
          -0.3135100960853989,
          2.4156990221843875e-29,
          3.023659262096896e-32,
          1.4690610690542676e-23,
          2.3854294495587123e-31,
          3.06902069531943e-25,
          1.4375579606675756e-27,
          2.72672722883281e-30,
          4.17788260412656e-33,
          1.5538676290280747e-29,
          1.324206964027595e-29,
          1.9738399042207932e-31,
          5.9966629302850345,
          641.4787331419016,
          9.904211897213116e-20,
          1.429211684015835e-35,
          4.934128818944135e-33,
          8.745932118452665e-22,
          2.3128885420115246e-33,
          1.1779446251747159e-32,
          1.1563094093488905e-20,
          2.000757086939851e-36,
          1.0623314785114609e-29,
          2.0621045706948627e-19,
          1.49092034129078e-30,
          3.1558945806959845e-19,
          2.9786991606526125e-19,
          3.1673948007762126e-21,
          4.171038840819588e-22,
          1.2194954901338605e-24,
          6.573350586136107e-23,
          3.1764461707418425e-23,
          1.4889757180933966e-32,
          2.562338747802652e-25,
          3.987886875736257e-25,
          -0.23481452481315082,
          4.504099261097519e-21,
          2.144710981083156e-21,
          1.1103649510200189e-21,
          1.2978485426316842e-26,
          1.2396504304179716e-33,
          3.738543256126716e-20,
          2.918602666438632e-35,
          1.0851002986722192e-25,
          -0.23481452481315085,
          2.231329718431708e-23,
          5.51314485159942e-21,
          1.7242129075435234e-22,
          5.57614881663305e-22,
          641.4787331419014,
          2.2162845921784065e-32,
          2.0696034292231976e-22,
          6.736776174951896e-22,
          1.655922448353896e-22,
          641.4787331419016,
          8.230400906927205e-20,
          3.470968260476213e-15,
          1.3287704008207238e-25,
          6.871757216759609e-31,
          1.981898687850898e-19,
          1.3384715685203609e-21,
          1.1377532047728836e-27,
          2.6267460706322434e-22,
          3.3578023934801465e-19,
          5.974624333528021,
          1.4747172035578916e-21,
          3.259421229677741e-23,
          -0.15555142891853557,
          2.083360105133845e-25,
          2.287041263208674e-21,
          6.403769252071621e-17,
          3.791791898013619e-24,
          2.21951242064079e-19,
          3.6158508565226353e-32,
          2.669116340969021e-22,
          1.3434146377661847e-32,
          3.81742479522965e-20,
          1.3032936691788466e-18,
          1.5662842565214169e-22,
          2.348109142718009e-20,
          7.160468673773853e-29,
          1.812075864803787e-21,
          641.3764864224349,
          4.602325688894406e-21,
          2.827067002236994e-23,
          3.65521432329753e-27,
          2.0467375515413432e-20,
          6.210559227915841e-21,
          6.583283359001216e-25,
          5.59084862399996e-14,
          1.3992265965665656e-25,
          8.867028237633217e-21,
          5.1345795885311135e-23,
          5.572626724495421e-15,
          4.656828588871577e-21,
          9.874415541802924e-26,
          7.211189904838803e-22,
          7.687887708508317e-23,
          2.5050297520619962e-21,
          7.225709129733648e-27,
          2.1642627585010082e-33,
          2.2131674956966002e-32,
          2.077143600522018e-33,
          1.114312794938604e-15,
          4.071677157316825e-33,
          2.540862970860874e-10,
          -0.15555142891853632,
          6.602721087484577e-20,
          3.3490911373915166e-23,
          641.376486422435,
          5.548553211187002e-15,
          8.536437899895365e-28,
          9.045485472132619e-31,
          7.071824815357907e-19,
          2.8892593064871723e-22,
          1.0928818586424283e-26,
          3.1280746030319884e-29,
          9.236585510110369e-27,
          6.506929517330443e-11,
          -0.07569263804353665,
          5.898478141408787e-28,
          4.546607287423405e-15,
          7.512666045534009e-11,
          1.5368104843649003e-12,
          5.451247073139226e-10,
          2.292902631221583e-24,
          2.992755759840128e-14,
          1.49823133371544e-11,
          2.835934314550371e-16,
          6.744573330573648e-19,
          6.4010968257119505e-15,
          3.676353186861305e-34,
          5.952001522257987,
          3.623937483439067e-18,
          2.6264091476311194e-10,
          2.2691964535695415e-10,
          2.328645509043507e-21,
          7.110920174989606e-19,
          1.0798139516118301e-09,
          5.952001522258003,
          1.4119776977110141e-18,
          8.834955873066652e-19,
          1.0882239138493963e-25,
          1.643514130132458e-12,
          1.255970349183253e-12,
          4.1461698487844736e-11,
          7.530088546172374e-11,
          641.2742945659007,
          1.1321988292270679e-11,
          2.2314774740412535e-12,
          7.537904680698187e-26,
          4.4489066617582656e-23,
          3.3491308934442665e-11,
          -0.07569263804355876,
          4.733646443755581e-24,
          2.1314429130680816e-18,
          5.1191243405385114e-18,
          -0.07569263923469974,
          6.006763062396194e-14,
          6.030095457765531e-12,
          3.487503314511644e-21,
          1.3312472875215872e-19,
          641.2742945659006,
          8.664366551616751e-18,
          -0.07569263804457246,
          6.1033752628060686e-18,
          6.160892337734558e-11,
          -6.093830812168469e-18,
          5.928764042428148,
          641.1721573422535,
          0.004792320781530704,
          641.1721573422535,
          0.08593642774520188,
          -8.692144005206311e-17,
          0.0859364277479299,
          0.08593642904108434,
          -4.107826182576809e-13,
          0.08593642775545063,
          0.08593643013354729,
          0.08593642775026425,
          0.08593642786448756,
          641.0700745226591,
          0.08593642774520528,
          0.08593642778838188,
          0.08593642781077072,
          5.904878884328967,
          641.0700745226591,
          0.08593642812406754,
          0.08593642774520192,
          0.08593642774520187,
          0.08593642774520248,
          0.08593642785769584,
          0.08593642774763542,
          0.08593642790918408,
          0.08593642774720084,
          0.08593642774520176,
          641.0700745226591,
          0.08593642774520177,
          0.08593642774520184,
          0.08593642774520174,
          0.08593642774520734,
          0.08593642780798046,
          0.08593642774520178,
          0.08593642776248338,
          0.08593642778844066,
          0.08593642777185788,
          0.08593642774782778,
          640.9680458794843,
          -2.8162020100637576e-27,
          0.16777559716075835,
          -5.841386924054527e-11,
          640.9680458794842,
          0.16777559716075768,
          0.16777559716075857,
          0.16777559716102378,
          0.16777559716075888,
          640.9680458794843,
          0.167775597160804,
          0.16777559716077686,
          0.16777559716075952,
          0.1677755971607577,
          5.880310176808789,
          -3.2828928800035356e-22,
          0.16777559716075777,
          5.855018833148295,
          640.866071186288,
          -2.9637695735419643e-25,
          640.866071186288,
          -2.9530552784886826e-30,
          5.855018833033601,
          -1.397047176315935e-27,
          -4.471328118343288e-28,
          0.25034891057995873,
          -2.657108552762815e-35,
          -2.0114056353734745e-27,
          640.7641502178125,
          0.3336990897670579,
          5.828962138076286,
          -1.3393320503832914e-28,
          -6.452307837023272e-25,
          -4.824148607953314e-11,
          640.7641502178124,
          5.802093266242054,
          640.6622827499738,
          -2.2625486794640628e-35,
          640.6622827499738,
          -2.562993121167739e-22,
          0.4178729672607263,
          -4.870923019890427e-27,
          -1.101911023964026e-19,
          -1.8620719095525296e-22,
          0.5029220544908248,
          5.77436071295168,
          -5.541095744001285e-18,
          -2.3832915632047037e-28,
          -7.822333604604454e-28,
          -2.0422161881891187e-31,
          -1.266445838116211e-19,
          640.5604685598536,
          640.5604685598537,
          640.4587074256899,
          -4.502819280935588e-27,
          640.45870742569,
          0.5889032145455348,
          5.745707621974416,
          -5.319989281558508e-24,
          -3.5751050115246004e-34,
          -1.3541671811629973e-26,
          5.745707621974381,
          640.3569991268686,
          0.6758794641132927,
          5.716070983486349,
          5.716070983485894,
          -2.6071419791784967e-21,
          -5.308624553398349e-34,
          -4.048213033530644e-29,
          -8.584625921192467e-23,
          640.3569991268686,
          -4.39323772130881e-24,
          5.685380671338447,
          -4.4830310196866276e-14,
          5.685380671338483,
          640.2553434439145,
          -1.3840942320633194e-35,
          640.2553434439144,
          0.7639209362128266,
          -2.718879044633677e-35,
          -1.2445426494779127e-26,
          -5.099671088277953e-33,
          -2.5792201001702715e-27,
          -8.704603017696034e-33,
          -1.615425002881742e-22,
          5.6535582783670355,
          640.1537401584832,
          640.1537401584831,
          -2.8405170439659474e-30,
          0.853106044886891,
          0.9435229060967355,
          5.620515695494959,
          -1.398546923100429e-21,
          -1.392841216769014e-24,
          640.0521890533523,
          -5.379002088360722e-23,
          640.0521890533523,
          -4.277840611818163e-29,
          639.9506899124136,
          -4.070251228582762e-29,
          5.586153362315505,
          639.9506899124136,
          639.9506899124137,
          -2.5879120744988655e-32,
          -1.8426181904129918e-20,
          -5.23340486909541e-21,
          1.0352710871404311,
          1.1284637823379766,
          -1.0446276640156643e-22,
          -3.159186554743138e-25,
          639.849242520664,
          639.8492425206641,
          -3.860795244597674e-26,
          -1.3898436309987616e-30,
          639.8492425206641,
          5.55035809140686,
          -2.71128105638299e-36,
          639.7478466641978,
          -4.290020317630626e-38,
          -6.417592682321928e-30,
          5.513000332320847,
          1.2232305490425575,
          639.7478466641979,
          -7.354026193127488e-26,
          -4.494858213532911e-30,
          5.513000332320847,
          -1.0267440047442304e-31,
          -9.103512088997658e-31,
          639.6465021301984,
          1.3197207908657034,
          -1.7267457761622255e-21,
          5.473930688357789,
          639.6465021301984,
          -1.0099088527985126e-37,
          -4.091500877630941e-22,
          5.473930688357789,
          639.5452087069303,
          5.432975420840427,
          -8.177774795257346e-36,
          -2.7559655913140244e-28,
          -1.761384872475328e-25,
          5.432975420840428,
          -1.5560912740389718e-33,
          1.4181082534033698,
          -1.1592187540641372e-16,
          639.5452087069303,
          639.4439661837309,
          5.389930556630799,
          639.443966183731,
          -2.135661793409692e-21,
          -9.80350146785252e-33,
          5.3899305566308,
          5.389930556630801,
          -2.114853146298067e-30,
          -7.20801421152244e-17,
          1.5185969167190796,
          639.3427743510032,
          5.344554029529647,
          1.621428853944515,
          -2.386114958794353e-27,
          5.34455402952965,
          639.3427743510032,
          -6.652065475746272e-31,
          -1.27168045916693e-23,
          -1.8600054959747735e-31,
          -1.278397507502184e-22,
          -1.5339541210602216e-37,
          1.726894921620292,
          639.2416330002069,
          639.2416330002069,
          -1.120871294025699e-25,
          -1.3515050407109897e-22,
          5.296554989935657,
          -9.273267824756723e-30,
          5.296554989935666,
          -1.5179350006014572e-25,
          1.7268949214284408,
          1.8353496371078408,
          639.1405419238517,
          5.245578927433614,
          639.1405419238517,
          639.1405419238517,
          -1.0800439615796781e-32,
          -2.1354892339264895e-34,
          -3.69786876091998e-16,
          -2.954526570755096e-20,
          5.24557892743359,
          -9.205327361842958e-28,
          5.191186410895158,
          -1.3144214452169959e-25,
          5.191186410895233,
          1.9472324384885351,
          -1.5562400365224882e-31,
          -7.708449054532125e-20,
          639.0395009154892,
          639.0395009154892,
          2.0630990272368956,
          638.9385097697048,
          638.9385097697048,
          5.132821745805806,
          -1.9947437277305418e-23,
          -6.300792355626674e-30,
          2.063099027236922,
          5.132821745806073,
          -4.091765182877384e-18,
          2.183669331081645,
          5.069765011403797,
          -5.047795744394497e-27,
          -2.5199860787064682e-21,
          -3.1130877678127656e-23,
          638.837568282111,
          638.8375682821109,
          -1.6977085687867957e-20,
          5.069765011404908,
          638.7366762493391,
          638.7366762493391,
          -4.616761771394677e-16,
          2.3099043123142162,
          2.309904312314162,
          -2.447804500584884e-31,
          -1.1193609408783413e-12,
          5.0010552523769185,
          5.001055252371454,
          5.001055252371455,
          4.925360303016494,
          638.6358334690327,
          2.4431361436402086,
          -1.211951858417185e-10,
          -7.116014345378181e-25,
          4.925360302983971,
          -1.6666213572029304e-27,
          638.6358334690327,
          -3.6592678821897236e-22,
          2.5853055168829835,
          638.5350397398395,
          4.840739478647996,
          2.585305516882973,
          -6.707243393632221e-30,
          4.840739478405715,
          4.840739478405698,
          638.5350397398395,
          638.4342948614043,
          4.744166566238893,
          638.4342948614043,
          -1.2464475847305543e-32,
          4.744166566238834,
          4.744166566513636,
          2.739438651435008,
          638.4342948614043,
          -8.139055371654546e-38,
          -2.1235760894268382e-33,
          4.630428029636418,
          638.333598634362,
          -1.1380670813490237e-35,
          2.9107490911448752,
          -1.670201619022765e-33,
          -3.275297339773202e-23,
          638.333598634362,
          4.630428029637435,
          638.2329508603303,
          4.4889583386093825,
          638.2329508603304,
          3.1098023730102553,
          -6.219293735416093e-20,
          -3.09726528800262e-36,
          -2.0962908369206955e-22,
          4.290039584888199,
          4.290039584888213,
          3.366316412217488,
          638.1323513419027,
          3.3663164123162628,
          4.2900395848907875,
          -1.0517968906538896e-21,
          638.1323513419028,
          -1.4497560484013982e-23,
          -5.280955365014426e-36,
          638.0317998826412,
          -2.1676845132146143e-37,
          638.0317998826412,
          638.0317998826412,
          -9.184492053113466e-27,
          637.9312962870696,
          -4.199659352849261e-22,
          -1.2871132791513736e-33,
          637.9312962870696,
          -1.7646871275292348e-25,
          637.8308403606667,
          637.8308403606667,
          -2.0833022371526794e-27,
          -8.602069405439958e-11,
          -6.014964070352174e-23,
          637.7304319098592,
          -1.1114933017463005e-28,
          -2.625655317478112e-29,
          -1.715758664764109e-24,
          637.7304319098592,
          -3.1625086645795385e-17,
          -2.5549036783513844e-21,
          -2.186326150357188e-35,
          -7.260511088706042e-17,
          -1.0242916188067594e-35,
          -5.155149239411839e-11,
          637.6300707420154,
          -5.019305781488919e-30,
          -3.8057531983456806e-31,
          -2.808366478126081e-17,
          637.6300707420154,
          -1.1649032249250434e-37,
          -4.416984232756949e-31,
          -8.021330989017013e-14,
          637.5297566654377,
          637.5297566654377,
          -6.433056244660945e-33
         ]
        }
       ],
       "layout": {
        "autosize": true,
        "template": {
         "data": {
          "bar": [
           {
            "error_x": {
             "color": "#2a3f5f"
            },
            "error_y": {
             "color": "#2a3f5f"
            },
            "marker": {
             "line": {
              "color": "#E5ECF6",
              "width": 0.5
             },
             "pattern": {
              "fillmode": "overlay",
              "size": 10,
              "solidity": 0.2
             }
            },
            "type": "bar"
           }
          ],
          "barpolar": [
           {
            "marker": {
             "line": {
              "color": "#E5ECF6",
              "width": 0.5
             },
             "pattern": {
              "fillmode": "overlay",
              "size": 10,
              "solidity": 0.2
             }
            },
            "type": "barpolar"
           }
          ],
          "carpet": [
           {
            "aaxis": {
             "endlinecolor": "#2a3f5f",
             "gridcolor": "white",
             "linecolor": "white",
             "minorgridcolor": "white",
             "startlinecolor": "#2a3f5f"
            },
            "baxis": {
             "endlinecolor": "#2a3f5f",
             "gridcolor": "white",
             "linecolor": "white",
             "minorgridcolor": "white",
             "startlinecolor": "#2a3f5f"
            },
            "type": "carpet"
           }
          ],
          "choropleth": [
           {
            "colorbar": {
             "outlinewidth": 0,
             "ticks": ""
            },
            "type": "choropleth"
           }
          ],
          "contour": [
           {
            "colorbar": {
             "outlinewidth": 0,
             "ticks": ""
            },
            "colorscale": [
             [
              0,
              "#0d0887"
             ],
             [
              0.1111111111111111,
              "#46039f"
             ],
             [
              0.2222222222222222,
              "#7201a8"
             ],
             [
              0.3333333333333333,
              "#9c179e"
             ],
             [
              0.4444444444444444,
              "#bd3786"
             ],
             [
              0.5555555555555556,
              "#d8576b"
             ],
             [
              0.6666666666666666,
              "#ed7953"
             ],
             [
              0.7777777777777778,
              "#fb9f3a"
             ],
             [
              0.8888888888888888,
              "#fdca26"
             ],
             [
              1,
              "#f0f921"
             ]
            ],
            "type": "contour"
           }
          ],
          "contourcarpet": [
           {
            "colorbar": {
             "outlinewidth": 0,
             "ticks": ""
            },
            "type": "contourcarpet"
           }
          ],
          "heatmap": [
           {
            "colorbar": {
             "outlinewidth": 0,
             "ticks": ""
            },
            "colorscale": [
             [
              0,
              "#0d0887"
             ],
             [
              0.1111111111111111,
              "#46039f"
             ],
             [
              0.2222222222222222,
              "#7201a8"
             ],
             [
              0.3333333333333333,
              "#9c179e"
             ],
             [
              0.4444444444444444,
              "#bd3786"
             ],
             [
              0.5555555555555556,
              "#d8576b"
             ],
             [
              0.6666666666666666,
              "#ed7953"
             ],
             [
              0.7777777777777778,
              "#fb9f3a"
             ],
             [
              0.8888888888888888,
              "#fdca26"
             ],
             [
              1,
              "#f0f921"
             ]
            ],
            "type": "heatmap"
           }
          ],
          "heatmapgl": [
           {
            "colorbar": {
             "outlinewidth": 0,
             "ticks": ""
            },
            "colorscale": [
             [
              0,
              "#0d0887"
             ],
             [
              0.1111111111111111,
              "#46039f"
             ],
             [
              0.2222222222222222,
              "#7201a8"
             ],
             [
              0.3333333333333333,
              "#9c179e"
             ],
             [
              0.4444444444444444,
              "#bd3786"
             ],
             [
              0.5555555555555556,
              "#d8576b"
             ],
             [
              0.6666666666666666,
              "#ed7953"
             ],
             [
              0.7777777777777778,
              "#fb9f3a"
             ],
             [
              0.8888888888888888,
              "#fdca26"
             ],
             [
              1,
              "#f0f921"
             ]
            ],
            "type": "heatmapgl"
           }
          ],
          "histogram": [
           {
            "marker": {
             "pattern": {
              "fillmode": "overlay",
              "size": 10,
              "solidity": 0.2
             }
            },
            "type": "histogram"
           }
          ],
          "histogram2d": [
           {
            "colorbar": {
             "outlinewidth": 0,
             "ticks": ""
            },
            "colorscale": [
             [
              0,
              "#0d0887"
             ],
             [
              0.1111111111111111,
              "#46039f"
             ],
             [
              0.2222222222222222,
              "#7201a8"
             ],
             [
              0.3333333333333333,
              "#9c179e"
             ],
             [
              0.4444444444444444,
              "#bd3786"
             ],
             [
              0.5555555555555556,
              "#d8576b"
             ],
             [
              0.6666666666666666,
              "#ed7953"
             ],
             [
              0.7777777777777778,
              "#fb9f3a"
             ],
             [
              0.8888888888888888,
              "#fdca26"
             ],
             [
              1,
              "#f0f921"
             ]
            ],
            "type": "histogram2d"
           }
          ],
          "histogram2dcontour": [
           {
            "colorbar": {
             "outlinewidth": 0,
             "ticks": ""
            },
            "colorscale": [
             [
              0,
              "#0d0887"
             ],
             [
              0.1111111111111111,
              "#46039f"
             ],
             [
              0.2222222222222222,
              "#7201a8"
             ],
             [
              0.3333333333333333,
              "#9c179e"
             ],
             [
              0.4444444444444444,
              "#bd3786"
             ],
             [
              0.5555555555555556,
              "#d8576b"
             ],
             [
              0.6666666666666666,
              "#ed7953"
             ],
             [
              0.7777777777777778,
              "#fb9f3a"
             ],
             [
              0.8888888888888888,
              "#fdca26"
             ],
             [
              1,
              "#f0f921"
             ]
            ],
            "type": "histogram2dcontour"
           }
          ],
          "mesh3d": [
           {
            "colorbar": {
             "outlinewidth": 0,
             "ticks": ""
            },
            "type": "mesh3d"
           }
          ],
          "parcoords": [
           {
            "line": {
             "colorbar": {
              "outlinewidth": 0,
              "ticks": ""
             }
            },
            "type": "parcoords"
           }
          ],
          "pie": [
           {
            "automargin": true,
            "type": "pie"
           }
          ],
          "scatter": [
           {
            "fillpattern": {
             "fillmode": "overlay",
             "size": 10,
             "solidity": 0.2
            },
            "type": "scatter"
           }
          ],
          "scatter3d": [
           {
            "line": {
             "colorbar": {
              "outlinewidth": 0,
              "ticks": ""
             }
            },
            "marker": {
             "colorbar": {
              "outlinewidth": 0,
              "ticks": ""
             }
            },
            "type": "scatter3d"
           }
          ],
          "scattercarpet": [
           {
            "marker": {
             "colorbar": {
              "outlinewidth": 0,
              "ticks": ""
             }
            },
            "type": "scattercarpet"
           }
          ],
          "scattergeo": [
           {
            "marker": {
             "colorbar": {
              "outlinewidth": 0,
              "ticks": ""
             }
            },
            "type": "scattergeo"
           }
          ],
          "scattergl": [
           {
            "marker": {
             "colorbar": {
              "outlinewidth": 0,
              "ticks": ""
             }
            },
            "type": "scattergl"
           }
          ],
          "scattermapbox": [
           {
            "marker": {
             "colorbar": {
              "outlinewidth": 0,
              "ticks": ""
             }
            },
            "type": "scattermapbox"
           }
          ],
          "scatterpolar": [
           {
            "marker": {
             "colorbar": {
              "outlinewidth": 0,
              "ticks": ""
             }
            },
            "type": "scatterpolar"
           }
          ],
          "scatterpolargl": [
           {
            "marker": {
             "colorbar": {
              "outlinewidth": 0,
              "ticks": ""
             }
            },
            "type": "scatterpolargl"
           }
          ],
          "scatterternary": [
           {
            "marker": {
             "colorbar": {
              "outlinewidth": 0,
              "ticks": ""
             }
            },
            "type": "scatterternary"
           }
          ],
          "surface": [
           {
            "colorbar": {
             "outlinewidth": 0,
             "ticks": ""
            },
            "colorscale": [
             [
              0,
              "#0d0887"
             ],
             [
              0.1111111111111111,
              "#46039f"
             ],
             [
              0.2222222222222222,
              "#7201a8"
             ],
             [
              0.3333333333333333,
              "#9c179e"
             ],
             [
              0.4444444444444444,
              "#bd3786"
             ],
             [
              0.5555555555555556,
              "#d8576b"
             ],
             [
              0.6666666666666666,
              "#ed7953"
             ],
             [
              0.7777777777777778,
              "#fb9f3a"
             ],
             [
              0.8888888888888888,
              "#fdca26"
             ],
             [
              1,
              "#f0f921"
             ]
            ],
            "type": "surface"
           }
          ],
          "table": [
           {
            "cells": {
             "fill": {
              "color": "#EBF0F8"
             },
             "line": {
              "color": "white"
             }
            },
            "header": {
             "fill": {
              "color": "#C8D4E3"
             },
             "line": {
              "color": "white"
             }
            },
            "type": "table"
           }
          ]
         },
         "layout": {
          "annotationdefaults": {
           "arrowcolor": "#2a3f5f",
           "arrowhead": 0,
           "arrowwidth": 1
          },
          "autotypenumbers": "strict",
          "coloraxis": {
           "colorbar": {
            "outlinewidth": 0,
            "ticks": ""
           }
          },
          "colorscale": {
           "diverging": [
            [
             0,
             "#8e0152"
            ],
            [
             0.1,
             "#c51b7d"
            ],
            [
             0.2,
             "#de77ae"
            ],
            [
             0.3,
             "#f1b6da"
            ],
            [
             0.4,
             "#fde0ef"
            ],
            [
             0.5,
             "#f7f7f7"
            ],
            [
             0.6,
             "#e6f5d0"
            ],
            [
             0.7,
             "#b8e186"
            ],
            [
             0.8,
             "#7fbc41"
            ],
            [
             0.9,
             "#4d9221"
            ],
            [
             1,
             "#276419"
            ]
           ],
           "sequential": [
            [
             0,
             "#0d0887"
            ],
            [
             0.1111111111111111,
             "#46039f"
            ],
            [
             0.2222222222222222,
             "#7201a8"
            ],
            [
             0.3333333333333333,
             "#9c179e"
            ],
            [
             0.4444444444444444,
             "#bd3786"
            ],
            [
             0.5555555555555556,
             "#d8576b"
            ],
            [
             0.6666666666666666,
             "#ed7953"
            ],
            [
             0.7777777777777778,
             "#fb9f3a"
            ],
            [
             0.8888888888888888,
             "#fdca26"
            ],
            [
             1,
             "#f0f921"
            ]
           ],
           "sequentialminus": [
            [
             0,
             "#0d0887"
            ],
            [
             0.1111111111111111,
             "#46039f"
            ],
            [
             0.2222222222222222,
             "#7201a8"
            ],
            [
             0.3333333333333333,
             "#9c179e"
            ],
            [
             0.4444444444444444,
             "#bd3786"
            ],
            [
             0.5555555555555556,
             "#d8576b"
            ],
            [
             0.6666666666666666,
             "#ed7953"
            ],
            [
             0.7777777777777778,
             "#fb9f3a"
            ],
            [
             0.8888888888888888,
             "#fdca26"
            ],
            [
             1,
             "#f0f921"
            ]
           ]
          },
          "colorway": [
           "#636efa",
           "#EF553B",
           "#00cc96",
           "#ab63fa",
           "#FFA15A",
           "#19d3f3",
           "#FF6692",
           "#B6E880",
           "#FF97FF",
           "#FECB52"
          ],
          "font": {
           "color": "#2a3f5f"
          },
          "geo": {
           "bgcolor": "white",
           "lakecolor": "white",
           "landcolor": "#E5ECF6",
           "showlakes": true,
           "showland": true,
           "subunitcolor": "white"
          },
          "hoverlabel": {
           "align": "left"
          },
          "hovermode": "closest",
          "mapbox": {
           "style": "light"
          },
          "paper_bgcolor": "white",
          "plot_bgcolor": "#E5ECF6",
          "polar": {
           "angularaxis": {
            "gridcolor": "white",
            "linecolor": "white",
            "ticks": ""
           },
           "bgcolor": "#E5ECF6",
           "radialaxis": {
            "gridcolor": "white",
            "linecolor": "white",
            "ticks": ""
           }
          },
          "scene": {
           "xaxis": {
            "backgroundcolor": "#E5ECF6",
            "gridcolor": "white",
            "gridwidth": 2,
            "linecolor": "white",
            "showbackground": true,
            "ticks": "",
            "zerolinecolor": "white"
           },
           "yaxis": {
            "backgroundcolor": "#E5ECF6",
            "gridcolor": "white",
            "gridwidth": 2,
            "linecolor": "white",
            "showbackground": true,
            "ticks": "",
            "zerolinecolor": "white"
           },
           "zaxis": {
            "backgroundcolor": "#E5ECF6",
            "gridcolor": "white",
            "gridwidth": 2,
            "linecolor": "white",
            "showbackground": true,
            "ticks": "",
            "zerolinecolor": "white"
           }
          },
          "shapedefaults": {
           "line": {
            "color": "#2a3f5f"
           }
          },
          "ternary": {
           "aaxis": {
            "gridcolor": "white",
            "linecolor": "white",
            "ticks": ""
           },
           "baxis": {
            "gridcolor": "white",
            "linecolor": "white",
            "ticks": ""
           },
           "bgcolor": "#E5ECF6",
           "caxis": {
            "gridcolor": "white",
            "linecolor": "white",
            "ticks": ""
           }
          },
          "title": {
           "x": 0.05
          },
          "xaxis": {
           "automargin": true,
           "gridcolor": "white",
           "linecolor": "white",
           "ticks": "",
           "title": {
            "standoff": 15
           },
           "zerolinecolor": "white",
           "zerolinewidth": 2
          },
          "yaxis": {
           "automargin": true,
           "gridcolor": "white",
           "linecolor": "white",
           "ticks": "",
           "title": {
            "standoff": 15
           },
           "zerolinecolor": "white",
           "zerolinewidth": 2
          }
         }
        },
        "title": {
         "text": "Y"
        },
        "xaxis": {
         "autorange": true,
         "range": [
          -0.295056813469354,
          5.295056813469354
         ],
         "title": {
          "text": "b"
         },
         "type": "linear"
        },
        "yaxis": {
         "autorange": true,
         "range": [
          -54.02399479637816,
          695.6028365096794
         ],
         "type": "linear"
        }
       }
      },
      "image/png": "[encoded data removed]",
      "text/html": [
       "<div>                            <div id=\"11bffd02-eeb1-48e7-82a4-4a90a14e1eeb\" class=\"plotly-graph-div\" style=\"height:525px; width:100%;\"></div>            <script type=\"text/javascript\">                require([\"plotly\"], function(Plotly) {                    window.PLOTLYENV=window.PLOTLYENV || {};                                    if (document.getElementById(\"11bffd02-eeb1-48e7-82a4-4a90a14e1eeb\")) {                    Plotly.newPlot(                        \"11bffd02-eeb1-48e7-82a4-4a90a14e1eeb\",                        [{\"mode\":\"markers\",\"name\":\"y_real_part\",\"x\":[0.0,0.0,0.0,0.0,0.0,0.0,0.0,0.0,0.0,0.0,0.0,0.0,0.0,0.0,0.0,0.0,0.0,0.0,0.0,0.0,0.0,0.0,0.0,0.0,0.0,0.0,0.0,0.0,0.0,0.0,0.0,0.0,0.0,0.0,0.0,0.0,0.0,0.0,0.0,0.0,0.0,0.0,0.0,0.0,0.0,0.0,0.0,0.0,0.0,0.0,0.0,0.0,0.0,0.0,0.0,0.0,0.0,0.0,0.0,0.10204081632653061,0.10204081632653061,0.10204081632653061,0.10204081632653061,0.10204081632653061,0.10204081632653061,0.10204081632653061,0.10204081632653061,0.10204081632653061,0.10204081632653061,0.10204081632653061,0.10204081632653061,0.10204081632653061,0.10204081632653061,0.10204081632653061,0.10204081632653061,0.10204081632653061,0.10204081632653061,0.10204081632653061,0.10204081632653061,0.10204081632653061,0.10204081632653061,0.10204081632653061,0.10204081632653061,0.10204081632653061,0.10204081632653061,0.10204081632653061,0.10204081632653061,0.10204081632653061,0.10204081632653061,0.10204081632653061,0.10204081632653061,0.10204081632653061,0.10204081632653061,0.10204081632653061,0.10204081632653061,0.10204081632653061,0.10204081632653061,0.10204081632653061,0.10204081632653061,0.10204081632653061,0.10204081632653061,0.10204081632653061,0.10204081632653061,0.10204081632653061,0.10204081632653061,0.10204081632653061,0.10204081632653061,0.10204081632653061,0.10204081632653061,0.10204081632653061,0.10204081632653061,0.10204081632653061,0.10204081632653061,0.10204081632653061,0.10204081632653061,0.10204081632653061,0.10204081632653061,0.10204081632653061,0.20408163265306123,0.20408163265306123,0.20408163265306123,0.20408163265306123,0.20408163265306123,0.20408163265306123,0.20408163265306123,0.20408163265306123,0.20408163265306123,0.20408163265306123,0.20408163265306123,0.20408163265306123,0.20408163265306123,0.20408163265306123,0.20408163265306123,0.20408163265306123,0.20408163265306123,0.20408163265306123,0.20408163265306123,0.20408163265306123,0.20408163265306123,0.20408163265306123,0.20408163265306123,0.20408163265306123,0.20408163265306123,0.20408163265306123,0.20408163265306123,0.20408163265306123,0.20408163265306123,0.20408163265306123,0.20408163265306123,0.20408163265306123,0.20408163265306123,0.20408163265306123,0.20408163265306123,0.20408163265306123,0.20408163265306123,0.20408163265306123,0.20408163265306123,0.20408163265306123,0.20408163265306123,0.20408163265306123,0.20408163265306123,0.20408163265306123,0.20408163265306123,0.20408163265306123,0.20408163265306123,0.20408163265306123,0.20408163265306123,0.20408163265306123,0.20408163265306123,0.20408163265306123,0.20408163265306123,0.20408163265306123,0.20408163265306123,0.20408163265306123,0.20408163265306123,0.30612244897959184,0.30612244897959184,0.30612244897959184,0.30612244897959184,0.30612244897959184,0.30612244897959184,0.30612244897959184,0.30612244897959184,0.30612244897959184,0.30612244897959184,0.30612244897959184,0.30612244897959184,0.30612244897959184,0.30612244897959184,0.30612244897959184,0.30612244897959184,0.30612244897959184,0.30612244897959184,0.30612244897959184,0.30612244897959184,0.30612244897959184,0.30612244897959184,0.30612244897959184,0.30612244897959184,0.30612244897959184,0.30612244897959184,0.30612244897959184,0.30612244897959184,0.30612244897959184,0.30612244897959184,0.30612244897959184,0.30612244897959184,0.30612244897959184,0.30612244897959184,0.30612244897959184,0.30612244897959184,0.30612244897959184,0.30612244897959184,0.30612244897959184,0.30612244897959184,0.30612244897959184,0.30612244897959184,0.30612244897959184,0.30612244897959184,0.30612244897959184,0.30612244897959184,0.30612244897959184,0.30612244897959184,0.30612244897959184,0.30612244897959184,0.30612244897959184,0.30612244897959184,0.30612244897959184,0.30612244897959184,0.40816326530612246,0.40816326530612246,0.40816326530612246,0.40816326530612246,0.40816326530612246,0.40816326530612246,0.40816326530612246,0.40816326530612246,0.40816326530612246,0.40816326530612246,0.40816326530612246,0.40816326530612246,0.40816326530612246,0.40816326530612246,0.40816326530612246,0.40816326530612246,0.40816326530612246,0.40816326530612246,0.40816326530612246,0.40816326530612246,0.40816326530612246,0.40816326530612246,0.40816326530612246,0.40816326530612246,0.40816326530612246,0.40816326530612246,0.40816326530612246,0.40816326530612246,0.40816326530612246,0.40816326530612246,0.40816326530612246,0.40816326530612246,0.40816326530612246,0.40816326530612246,0.40816326530612246,0.40816326530612246,0.40816326530612246,0.40816326530612246,0.40816326530612246,0.40816326530612246,0.40816326530612246,0.40816326530612246,0.40816326530612246,0.40816326530612246,0.40816326530612246,0.40816326530612246,0.40816326530612246,0.40816326530612246,0.40816326530612246,0.40816326530612246,0.40816326530612246,0.40816326530612246,0.40816326530612246,0.40816326530612246,0.40816326530612246,0.40816326530612246,0.5102040816326531,0.5102040816326531,0.5102040816326531,0.5102040816326531,0.5102040816326531,0.5102040816326531,0.5102040816326531,0.5102040816326531,0.5102040816326531,0.5102040816326531,0.5102040816326531,0.5102040816326531,0.5102040816326531,0.5102040816326531,0.5102040816326531,0.5102040816326531,0.5102040816326531,0.5102040816326531,0.5102040816326531,0.5102040816326531,0.5102040816326531,0.5102040816326531,0.5102040816326531,0.5102040816326531,0.5102040816326531,0.5102040816326531,0.5102040816326531,0.5102040816326531,0.5102040816326531,0.5102040816326531,0.5102040816326531,0.5102040816326531,0.5102040816326531,0.5102040816326531,0.5102040816326531,0.5102040816326531,0.5102040816326531,0.5102040816326531,0.5102040816326531,0.5102040816326531,0.5102040816326531,0.5102040816326531,0.5102040816326531,0.5102040816326531,0.5102040816326531,0.5102040816326531,0.5102040816326531,0.5102040816326531,0.5102040816326531,0.5102040816326531,0.5102040816326531,0.5102040816326531,0.5102040816326531,0.5102040816326531,0.6122448979591837,0.6122448979591837,0.6122448979591837,0.6122448979591837,0.6122448979591837,0.6122448979591837,0.6122448979591837,0.6122448979591837,0.6122448979591837,0.6122448979591837,0.6122448979591837,0.6122448979591837,0.6122448979591837,0.6122448979591837,0.6122448979591837,0.6122448979591837,0.6122448979591837,0.6122448979591837,0.6122448979591837,0.6122448979591837,0.6122448979591837,0.6122448979591837,0.6122448979591837,0.6122448979591837,0.6122448979591837,0.6122448979591837,0.6122448979591837,0.6122448979591837,0.6122448979591837,0.6122448979591837,0.6122448979591837,0.6122448979591837,0.6122448979591837,0.6122448979591837,0.6122448979591837,0.6122448979591837,0.6122448979591837,0.6122448979591837,0.6122448979591837,0.6122448979591837,0.6122448979591837,0.6122448979591837,0.6122448979591837,0.6122448979591837,0.6122448979591837,0.6122448979591837,0.6122448979591837,0.6122448979591837,0.6122448979591837,0.6122448979591837,0.6122448979591837,0.6122448979591837,0.6122448979591837,0.6122448979591837,0.6122448979591837,0.7142857142857143,0.7142857142857143,0.7142857142857143,0.7142857142857143,0.7142857142857143,0.7142857142857143,0.7142857142857143,0.7142857142857143,0.7142857142857143,0.7142857142857143,0.7142857142857143,0.7142857142857143,0.7142857142857143,0.7142857142857143,0.7142857142857143,0.7142857142857143,0.7142857142857143,0.7142857142857143,0.7142857142857143,0.7142857142857143,0.7142857142857143,0.7142857142857143,0.7142857142857143,0.7142857142857143,0.7142857142857143,0.7142857142857143,0.7142857142857143,0.7142857142857143,0.7142857142857143,0.7142857142857143,0.7142857142857143,0.7142857142857143,0.7142857142857143,0.7142857142857143,0.7142857142857143,0.7142857142857143,0.7142857142857143,0.7142857142857143,0.7142857142857143,0.7142857142857143,0.7142857142857143,0.7142857142857143,0.7142857142857143,0.7142857142857143,0.7142857142857143,0.7142857142857143,0.7142857142857143,0.7142857142857143,0.7142857142857143,0.7142857142857143,0.7142857142857143,0.7142857142857143,0.7142857142857143,0.7142857142857143,0.7142857142857143,0.8163265306122449,0.8163265306122449,0.8163265306122449,0.8163265306122449,0.8163265306122449,0.8163265306122449,0.8163265306122449,0.8163265306122449,0.8163265306122449,0.8163265306122449,0.8163265306122449,0.8163265306122449,0.8163265306122449,0.8163265306122449,0.8163265306122449,0.8163265306122449,0.8163265306122449,0.8163265306122449,0.8163265306122449,0.8163265306122449,0.8163265306122449,0.8163265306122449,0.8163265306122449,0.8163265306122449,0.8163265306122449,0.8163265306122449,0.8163265306122449,0.8163265306122449,0.8163265306122449,0.8163265306122449,0.8163265306122449,0.8163265306122449,0.8163265306122449,0.8163265306122449,0.8163265306122449,0.8163265306122449,0.8163265306122449,0.8163265306122449,0.8163265306122449,0.8163265306122449,0.8163265306122449,0.8163265306122449,0.8163265306122449,0.8163265306122449,0.8163265306122449,0.8163265306122449,0.8163265306122449,0.8163265306122449,0.8163265306122449,0.8163265306122449,0.8163265306122449,0.8163265306122449,0.8163265306122449,0.8163265306122449,0.8163265306122449,0.9183673469387755,0.9183673469387755,0.9183673469387755,0.9183673469387755,0.9183673469387755,0.9183673469387755,0.9183673469387755,0.9183673469387755,0.9183673469387755,0.9183673469387755,0.9183673469387755,0.9183673469387755,0.9183673469387755,0.9183673469387755,0.9183673469387755,0.9183673469387755,0.9183673469387755,0.9183673469387755,0.9183673469387755,0.9183673469387755,0.9183673469387755,0.9183673469387755,0.9183673469387755,0.9183673469387755,0.9183673469387755,0.9183673469387755,0.9183673469387755,0.9183673469387755,0.9183673469387755,0.9183673469387755,0.9183673469387755,0.9183673469387755,0.9183673469387755,0.9183673469387755,0.9183673469387755,0.9183673469387755,0.9183673469387755,0.9183673469387755,0.9183673469387755,0.9183673469387755,0.9183673469387755,0.9183673469387755,0.9183673469387755,0.9183673469387755,0.9183673469387755,0.9183673469387755,0.9183673469387755,0.9183673469387755,0.9183673469387755,0.9183673469387755,0.9183673469387755,0.9183673469387755,0.9183673469387755,1.0204081632653061,1.0204081632653061,1.0204081632653061,1.0204081632653061,1.0204081632653061,1.0204081632653061,1.0204081632653061,1.0204081632653061,1.0204081632653061,1.0204081632653061,1.0204081632653061,1.0204081632653061,1.0204081632653061,1.0204081632653061,1.0204081632653061,1.0204081632653061,1.0204081632653061,1.0204081632653061,1.0204081632653061,1.0204081632653061,1.0204081632653061,1.0204081632653061,1.0204081632653061,1.0204081632653061,1.0204081632653061,1.0204081632653061,1.0204081632653061,1.0204081632653061,1.0204081632653061,1.0204081632653061,1.0204081632653061,1.0204081632653061,1.0204081632653061,1.0204081632653061,1.0204081632653061,1.0204081632653061,1.0204081632653061,1.0204081632653061,1.0204081632653061,1.0204081632653061,1.0204081632653061,1.0204081632653061,1.0204081632653061,1.0204081632653061,1.0204081632653061,1.0204081632653061,1.0204081632653061,1.0204081632653061,1.0204081632653061,1.0204081632653061,1.0204081632653061,1.0204081632653061,1.0204081632653061,1.1224489795918369,1.1224489795918369,1.1224489795918369,1.1224489795918369,1.1224489795918369,1.1224489795918369,1.1224489795918369,1.1224489795918369,1.1224489795918369,1.1224489795918369,1.1224489795918369,1.1224489795918369,1.1224489795918369,1.1224489795918369,1.1224489795918369,1.1224489795918369,1.1224489795918369,1.1224489795918369,1.1224489795918369,1.1224489795918369,1.1224489795918369,1.1224489795918369,1.1224489795918369,1.1224489795918369,1.1224489795918369,1.1224489795918369,1.1224489795918369,1.1224489795918369,1.1224489795918369,1.1224489795918369,1.1224489795918369,1.1224489795918369,1.1224489795918369,1.1224489795918369,1.1224489795918369,1.1224489795918369,1.1224489795918369,1.1224489795918369,1.1224489795918369,1.1224489795918369,1.1224489795918369,1.1224489795918369,1.1224489795918369,1.1224489795918369,1.1224489795918369,1.1224489795918369,1.1224489795918369,1.1224489795918369,1.1224489795918369,1.1224489795918369,1.1224489795918369,1.1224489795918369,1.1224489795918369,1.1224489795918369,1.2244897959183674,1.2244897959183674,1.2244897959183674,1.2244897959183674,1.2244897959183674,1.2244897959183674,1.2244897959183674,1.2244897959183674,1.2244897959183674,1.2244897959183674,1.2244897959183674,1.2244897959183674,1.2244897959183674,1.2244897959183674,1.2244897959183674,1.2244897959183674,1.2244897959183674,1.2244897959183674,1.2244897959183674,1.2244897959183674,1.2244897959183674,1.2244897959183674,1.2244897959183674,1.2244897959183674,1.2244897959183674,1.2244897959183674,1.2244897959183674,1.2244897959183674,1.2244897959183674,1.2244897959183674,1.2244897959183674,1.2244897959183674,1.2244897959183674,1.2244897959183674,1.2244897959183674,1.2244897959183674,1.2244897959183674,1.2244897959183674,1.2244897959183674,1.2244897959183674,1.2244897959183674,1.2244897959183674,1.2244897959183674,1.2244897959183674,1.2244897959183674,1.2244897959183674,1.2244897959183674,1.2244897959183674,1.2244897959183674,1.3265306122448979,1.3265306122448979,1.3265306122448979,1.3265306122448979,1.3265306122448979,1.4285714285714286,1.4285714285714286,1.4285714285714286,1.4285714285714286,1.4285714285714286,1.4285714285714286,1.4285714285714286,1.4285714285714286,1.4285714285714286,1.4285714285714286,1.4285714285714286,1.4285714285714286,1.4285714285714286,1.4285714285714286,1.4285714285714286,1.4285714285714286,1.4285714285714286,1.4285714285714286,1.4285714285714286,1.4285714285714286,1.4285714285714286,1.4285714285714286,1.4285714285714286,1.4285714285714286,1.4285714285714286,1.4285714285714286,1.4285714285714286,1.4285714285714286,1.4285714285714286,1.4285714285714286,1.4285714285714286,1.4285714285714286,1.4285714285714286,1.4285714285714286,1.4285714285714286,1.5306122448979593,1.5306122448979593,1.5306122448979593,1.5306122448979593,1.5306122448979593,1.5306122448979593,1.5306122448979593,1.5306122448979593,1.5306122448979593,1.5306122448979593,1.5306122448979593,1.5306122448979593,1.5306122448979593,1.5306122448979593,1.5306122448979593,1.5306122448979593,1.5306122448979593,1.6326530612244898,1.6326530612244898,1.6326530612244898,1.6326530612244898,1.6326530612244898,1.6326530612244898,1.6326530612244898,1.6326530612244898,1.6326530612244898,1.7346938775510203,1.7346938775510203,1.7346938775510203,1.7346938775510203,1.7346938775510203,1.7346938775510203,1.7346938775510203,1.7346938775510203,1.7346938775510203,1.836734693877551,1.836734693877551,1.836734693877551,1.836734693877551,1.836734693877551,1.836734693877551,1.836734693877551,1.836734693877551,1.9387755102040818,1.9387755102040818,1.9387755102040818,1.9387755102040818,1.9387755102040818,1.9387755102040818,1.9387755102040818,1.9387755102040818,1.9387755102040818,1.9387755102040818,2.0408163265306123,2.0408163265306123,2.0408163265306123,2.0408163265306123,2.0408163265306123,2.0408163265306123,2.0408163265306123,2.0408163265306123,2.0408163265306123,2.142857142857143,2.142857142857143,2.142857142857143,2.142857142857143,2.142857142857143,2.142857142857143,2.142857142857143,2.142857142857143,2.142857142857143,2.2448979591836737,2.2448979591836737,2.2448979591836737,2.2448979591836737,2.2448979591836737,2.2448979591836737,2.2448979591836737,2.2448979591836737,2.2448979591836737,2.2448979591836737,2.3469387755102042,2.3469387755102042,2.3469387755102042,2.3469387755102042,2.3469387755102042,2.3469387755102042,2.3469387755102042,2.3469387755102042,2.3469387755102042,2.4489795918367347,2.4489795918367347,2.4489795918367347,2.4489795918367347,2.4489795918367347,2.4489795918367347,2.4489795918367347,2.4489795918367347,2.5510204081632653,2.5510204081632653,2.5510204081632653,2.5510204081632653,2.5510204081632653,2.5510204081632653,2.5510204081632653,2.5510204081632653,2.5510204081632653,2.6530612244897958,2.6530612244897958,2.6530612244897958,2.6530612244897958,2.6530612244897958,2.6530612244897958,2.6530612244897958,2.6530612244897958,2.6530612244897958,2.7551020408163267,2.7551020408163267,2.7551020408163267,2.7551020408163267,2.7551020408163267,2.7551020408163267,2.7551020408163267,2.7551020408163267,2.7551020408163267,2.7551020408163267,2.857142857142857,2.857142857142857,2.857142857142857,2.857142857142857,2.857142857142857,2.857142857142857,2.857142857142857,2.857142857142857,2.857142857142857,2.857142857142857,2.9591836734693877,2.9591836734693877,2.9591836734693877,2.9591836734693877,2.9591836734693877,2.9591836734693877,2.9591836734693877,2.9591836734693877,2.9591836734693877,2.9591836734693877,3.0612244897959187,3.0612244897959187,3.0612244897959187,3.0612244897959187,3.0612244897959187,3.0612244897959187,3.0612244897959187,3.0612244897959187,3.0612244897959187,3.0612244897959187,3.163265306122449,3.163265306122449,3.163265306122449,3.163265306122449,3.163265306122449,3.163265306122449,3.163265306122449,3.163265306122449,3.163265306122449,3.2653061224489797,3.2653061224489797,3.2653061224489797,3.2653061224489797,3.2653061224489797,3.2653061224489797,3.2653061224489797,3.2653061224489797,3.2653061224489797,3.2653061224489797,3.2653061224489797,3.2653061224489797,3.36734693877551,3.36734693877551,3.36734693877551,3.36734693877551,3.36734693877551,3.36734693877551,3.36734693877551,3.36734693877551,3.36734693877551,3.36734693877551,3.36734693877551,3.4693877551020407,3.4693877551020407,3.4693877551020407,3.4693877551020407,3.4693877551020407,3.4693877551020407,3.4693877551020407,3.4693877551020407,3.5714285714285716,3.5714285714285716,3.5714285714285716,3.5714285714285716,3.5714285714285716,3.5714285714285716,3.5714285714285716,3.5714285714285716,3.673469387755102,3.673469387755102,3.673469387755102,3.673469387755102,3.673469387755102,3.673469387755102,3.673469387755102,3.673469387755102,3.673469387755102,3.673469387755102,3.7755102040816326,3.7755102040816326,3.7755102040816326,3.7755102040816326,3.7755102040816326,3.7755102040816326,3.7755102040816326,3.7755102040816326,3.7755102040816326,3.7755102040816326,3.8775510204081636,3.8775510204081636,3.8775510204081636,3.8775510204081636,3.8775510204081636,3.8775510204081636,3.8775510204081636,3.8775510204081636,3.979591836734694,3.979591836734694,3.979591836734694,3.979591836734694,3.979591836734694,3.979591836734694,3.979591836734694,3.979591836734694,3.979591836734694,4.081632653061225,4.081632653061225,4.081632653061225,4.081632653061225,4.081632653061225,4.081632653061225,4.081632653061225,4.081632653061225,4.081632653061225,4.081632653061225,4.183673469387755,4.183673469387755,4.183673469387755,4.183673469387755,4.183673469387755,4.183673469387755,4.183673469387755,4.183673469387755,4.285714285714286,4.285714285714286,4.285714285714286,4.285714285714286,4.285714285714286,4.387755102040816,4.387755102040816,4.387755102040816,4.387755102040816,4.387755102040816,4.387755102040816,4.387755102040816,4.387755102040816,4.387755102040816,4.387755102040816,4.4897959183673475,4.4897959183673475,4.4897959183673475,4.4897959183673475,4.4897959183673475,4.4897959183673475,4.591836734693878,4.591836734693878,4.591836734693878,4.591836734693878,4.591836734693878,4.591836734693878,4.6938775510204085,4.6938775510204085,4.6938775510204085,4.6938775510204085,4.795918367346939,4.795918367346939,4.795918367346939,4.795918367346939,4.795918367346939,4.795918367346939,4.795918367346939,4.795918367346939,4.8979591836734695,4.8979591836734695,4.8979591836734695,4.8979591836734695,4.8979591836734695,4.8979591836734695,4.8979591836734695,4.8979591836734695,4.8979591836734695,5.0,5.0,5.0,5.0,5.0,5.0],\"y\":[-3.118986161709025e-29,-1.8436937186515023e-28,-1.9469428110388344e-30,-3.7283893737425783e-29,-3.5600932102704765e-29,-5.0574154369269655e-28,-2.9530381577526988e-24,-6.468523055879976e-34,-2.223937951436161e-31,-6.495060870648962e-28,-1.8040360148682928e-29,-5.888347625291562e-33,-1.5827115381889054e-27,642.504269292167,-2.9229513537946356e-27,-3.0735691889171592e-30,-6.131888982025321e-28,-5.106486741325244e-24,-1.2998843388953e-24,-1.552392760143327e-31,-1.409563625688669e-31,-1.6155811567181932e-23,-1.9826516220145532e-34,-1.4870776606238736e-37,-1.5882627245295096e-25,-4.703788527225946e-28,-8.364960606761227e-25,-2.4196547077013298e-27,-1.6757279271675997e-23,-1.1975782059688164e-30,-3.7732647868830656e-29,-1.4529784306102458e-34,-5.830919795963234e-23,-4.290329293727994e-28,-7.183208421486957e-31,-1.3054235807653692e-22,-6.332584476694274e-24,-3.1761857866121465e-24,-1.9026483150989316e-28,6.190233346324984,-1.119292890543732e-27,-1.68430479938199e-31,-8.009635500919998e-23,-1.549309123377794e-26,642.504269292167,-2.1854352334347782e-26,-5.831265298191395e-33,-9.569235716160157e-25,-4.0118498890019506e-24,-3.229535736141544e-29,-7.267636599456726e-36,-4.871466115695456e-26,-5.206595518056968e-37,-6.503139986936991e-25,-1.884591177176583e-20,-1.1942710439806812e-23,-1.0150708297272808e-27,-1.432762125939728e-23,-2.0371376104799977e-23,-4.49343768003782e-32,-4.430089749938467e-34,-4.032410659568524e-26,-1.3837998094371e-30,-3.931510863353141e-22,-4.22386781972678e-38,-4.18863010305838e-32,-1.065335851872275e-24,-1.3289449299721452e-23,-7.34859157921924e-26,-3.6090195905018335e-28,-5.44973904567134e-33,-1.3542557967215196e-26,-2.5478506867957604e-27,-2.2576734343082568e-38,-7.777579972252595e-32,-1.7790565606141295e-27,-1.12212275764003e-25,-4.158036970586668e-26,-4.282057594945982e-29,-5.757291188253608e-26,5.218120536446582e-25,-9.361666569499024e-35,-1.7837922675777477e-24,-9.014586041482152e-25,-9.448210906148687e-36,-2.5141518878607445e-29,-1.632721690868219e-20,-2.8565856783385607e-32,-6.7720317424293165e-21,-8.604166013817456e-34,-6.669308869036537e-22,-4.286909659247579e-37,6.172770992748918,-1.661186432719248e-24,-2.602089700384696e-32,-1.7925890066520104e-28,-0.9254275788657478,-9.017710059343022e-29,-4.364884350502048e-32,-4.88989715316622e-25,-1.702709916729685e-38,-1.246517801342952e-21,-4.752670262192655e-13,-1.2146501078262075e-34,-8.682284332679239e-24,-4.863916332376249e-26,-1.2047248099272784e-24,-1.0410849028436133e-25,-2.0202425100935973e-23,-2.0156692475614533e-23,-1.967335846682413e-32,-1.8407028846150256e-33,-1.549883588580469e-25,642.4014610178141,642.4014610178142,-1.1279308819535482e-34,-1.5630229179367822e-26,-5.87068483166201e-26,6.15493322725489,-2.4159851770133346e-28,642.2987099755165,-3.3244631016742967e-20,-4.6066622027845474e-39,-4.100034827805866e-36,-3.463457799508879e-20,1.3006259448725108e-32,-3.607418729502396e-30,-9.032219275893603e-31,-2.129954652956158e-35,-7.721780027676179e-25,-1.2515781939806675e-35,-3.874154739453945e-25,-1.7477862344155278e-32,-1.327033423167846e-34,-2.920504299039684e-28,-1.548290024259986e-22,-7.411063411947761e-35,-4.040253546275963e-31,-3.742773313892898e-29,-2.0030797709346702e-23,-2.997244350510136e-27,3.8180162280174203e-22,-3.120613797913074e-27,-8.553020308453283e-22,-6.359063421133741e-33,-0.8504683330816835,-6.701152597036718e-24,-5.571641588181274e-21,2.3473273763685074e-21,1.8694681498900456e-22,-2.679172829683589e-32,-9.525547225558444e-21,642.2987099755167,-2.3181164682661146e-28,-1.8492948464047803e-23,-1.0058218242131889e-27,-8.353780034770984e-36,-1.8466514345822621e-22,-5.1895751002807494e-36,-1.867199998946386e-32,-1.0291059813277977e-20,-2.1700545690384476e-27,1.0507643042834336e-26,3.519042048937472e-23,-1.079533431985324e-37,-9.818949103711099e-25,3.9500385710437524e-23,-8.371470887708094e-23,-9.920849461773926e-36,-1.4730975789169833e-34,-2.2692317924575165e-37,-3.201266359365291e-22,-5.800380676450352e-34,-1.9977791954205858e-35,-2.7314280706174555e-27,2.2242785359473383e-26,-9.561366586711607e-38,3.2209517383093006e-32,6.8856153134343494e-34,8.193948963285765e-36,4.686552268526269e-36,-0.7751070446676208,1.9646143499674064e-33,8.028967570635154e-37,4.369801936034723e-20,-2.7763375270651237e-21,-1.3495425506135627e-19,8.408737740779873e-32,3.0604112513915857e-34,7.107483965878046e-26,1.6286859457354557e-23,4.360624927252718e-30,1.1577986949924365e-29,1.8731661040076987e-37,4.4270913875696434e-32,4.304750373169067e-21,1.0534497112460939e-29,1.201863972230219e-33,1.8306494560081803e-24,3.283084802803096e-31,-1.0746116233631067e-37,7.560628071430321e-26,5.725849530406888e-28,8.25203993685939e-37,3.210690522362101e-29,2.3118104592933926e-36,4.5265796771065413e-38,4.5974742671972873e-29,1.6590284650924782e-25,-1.0695559367729078e-19,2.26367323381311e-38,6.136704838606382,1.7084526702219422e-25,1.9270302516569728e-23,-9.063614610211226e-37,1.5108795558195092e-37,642.1960159225965,642.1960159225965,3.584681968003256e-21,1.786589266201973e-36,-1.891539383108268e-20,-1.3087896347388547e-24,3.925228261049843e-30,3.4432241880894363e-34,4.886931624472385e-34,3.6792384136475454e-22,3.6434809004371925e-26,2.2730856978261047e-26,-1.437032935031863e-20,3.5219365527290155e-27,-0.6993275255318088,3.289224613213065e-35,9.131299954877085e-22,642.0933786176838,5.819915693062916e-23,1.7510665037201153e-20,6.712477803144727e-23,-0.6993275255318816,1.3914243904386857e-28,1.301486661121637e-31,3.286728122647195e-35,3.48090502397717e-36,6.118069645461923,5.35522825194575e-20,8.333079906566272e-22,2.180291094561801e-20,1.514283156313449e-20,1.429064891709146e-20,1.448976647080906e-24,1.6704682276956327e-20,5.75381888924836e-21,1.7720727957247912e-20,1.0268306253912628e-22,2.4371520812382835e-23,2.411117647392745e-24,642.0933786176839,2.2552458921109868e-36,2.314406551574907e-21,6.708466047576619e-36,6.069820347454074e-22,2.3443355074631074e-23,1.1708091945571484e-24,7.166688492088186e-22,5.2126962389589695e-24,3.16241342485034e-36,7.941539102095526e-36,1.9042197748081538e-37,3.86010359703765e-28,3.3577862204487126e-26,3.3455879028166256e-34,5.947774041218187e-25,3.118310843792444e-23,1.9702870805555877e-19,3.72351754440346e-35,1.3555113665884025e-35,4.306743974023264e-38,-5.985164490615584e-22,2.0960195394224457e-22,1.0920090394572233e-20,1.5659287314175017e-32,3.3478961626834136e-14,7.757675095096514e-21,3.2040116361167374e-24,3.0219397606011928e-21,1.4515615043445894e-19,-0.6231125304409101,4.0692664434437135e-24,5.865363700716236e-21,1.815894746052379e-27,3.2601852248771687e-37,3.378258369864608e-26,6.099010409345086,4.713727470863537e-22,4.719802166326351e-22,2.6151517126810024e-36,4.503933450838275e-23,1.3419795789950496e-31,9.20916145960611e-22,1.6968855014985492e-35,1.3129307843153046e-24,641.9907978207066,9.546940886610195e-30,1.7143161334835844e-20,4.42694802891631e-37,1.8665497554199518e-32,1.1836014253232738e-30,2.9969356907992307e-30,2.2743674383677218e-24,5.566380170625747e-22,2.3085036639668912e-36,1.7768552612885783e-25,641.9907978207066,4.656045761949199e-20,3.973330003601777e-37,1.2649853035223058e-21,2.8959014869353853e-22,1.6300036611509776e-34,8.849504781494174e-31,9.854371324527747e-36,1.0520749056200102e-35,6.973128778698387e-28,7.894103915935482e-38,9.613950713970608e-21,1.8448268703754694e-20,2.4122426331988446e-34,7.43420050424699e-34,1.2951554413849395e-29,6.299642399808978e-37,2.9790718254746653e-30,2.934420326201107e-37,1.5749358970545213e-23,1.310763533590459e-23,1.8298986709506376e-36,6.077381845021482e-36,1.9402362449335697e-23,6.0990104093450945,2.378018614530164e-35,7.141768323888871e-20,6.149870092411809e-20,1.0159969496533633e-30,2.05868821581016e-33,5.049563276810127e-36,3.130995580863411e-26,4.360512302224725e-22,8.625138215997882e-28,641.88827329288,5.9145590361801325e-30,3.2934282328986606e-31,3.281033261798733e-26,1.1012693298526266e-34,1.1423365996611863e-34,2.226752543795637e-29,6.786900620250425e-27,1.4191985096665441e-30,7.652284372863203e-30,1.7627025307921134e-37,5.292557523959904e-23,2.7119578652437537e-30,6.944554534783337e-21,1.2651925755494056e-32,-0.5464436597581751,3.993321455856448e-31,3.36437209304304e-35,-0.5464436597581748,5.358141797527256e-20,7.490324275397134e-34,2.2047212189202523e-29,5.687154347127224e-37,1.226260731243936e-19,2.708168477755598e-22,4.411440756324042e-25,3.774067428990917e-33,5.128873001238318e-21,1.8872615971045263e-36,641.88827329288,3.6017501117968887e-29,1.8055670772227405e-33,1.900098656918064e-34,2.4573232251645874e-26,2.2311862471729137e-22,4.695030191497761e-36,2.3799628829058068e-21,1.7753159611442929e-22,4.5521801780134624e-30,1.7829483710020233e-26,2.519800495710812e-21,5.077083262446573e-29,5.8573056778661634e-33,9.409768065231582e-37,2.721154369496065e-34,1.7640481575742165e-33,6.079508737382664,4.778312191941291e-25,2.4429522816874127e-31,6.572558073744975e-23,3.477037156817032e-34,5.589234860850411e-26,1.23688725969994e-21,7.418249202026675e-32,5.353974871271025e-20,5.088580537679612e-25,1.1398975956840749e-19,9.207950603176552e-28,9.99413005299846e-30,5.334854126914542e-21,7.387037971935321e-33,1.7740285897337061e-31,5.531610949144566e-20,1.0863244232223408e-20,3.055991389693758e-29,1.456508978864467e-26,6.352126110356782e-32,7.127287400777644e-26,8.762550319916461e-30,6.471012775609997e-20,1.5908573287648508e-33,2.1163682831558396e-24,7.231521186136592e-24,1.6303706774551466e-23,641.7858047966972,7.460333799340903e-28,3.4464370919415892e-28,3.605267420868433e-23,6.059544973316434,1.5012881392096464e-21,1.0215435850771943e-35,1.921031651241811e-22,1.0081765989714324e-23,1.9145115963971549e-19,7.371138572198699e-29,5.731936311858157e-22,4.1135371596065575e-22,1.8673298147338956e-35,2.823319249625278e-35,1.6664070939857463e-37,2.1787289871910367e-37,641.7858047966971,-0.4693012504444686,4.733610426926696e-37,1.1043364140778489e-24,2.8503593842803903e-25,1.306190005699794e-26,1.3915617427617665e-26,5.787061968148996e-23,6.059544973305712,5.088363840572714e-29,4.3376386382483e-24,2.2608181195411563e-20,2.4998804018994155e-26,5.643300467068186e-28,6.039098075067445,4.201539082613674e-19,5.002630004917641e-22,2.268196548128483e-34,8.037433824988504e-31,4.428052027898443e-37,1.024822437320192e-28,1.9735522362199932e-19,9.65508872096022e-29,1.1960065062530416e-23,7.250227374009875e-20,1.9350825674998202e-20,7.102229234210015e-21,1.2475767279313563e-23,9.246788482155072e-30,-0.39166425365668683,1.0233935267103836e-24,1.9582249266135552e-23,1.4251496063052674e-32,1.6344622210228222e-29,3.3804963426014585e-27,-0.3916642535482686,3.4079411989321124e-31,8.285356927791432e-20,2.7964371641393545e-21,2.5442223693996525e-24,3.815883107255782e-20,6.266620107575097e-24,2.0196961584210453e-25,7.476065190104515e-26,5.641236209363751e-26,2.9620324294328105e-23,1.6084340492425964e-32,1.7265294113372015e-34,2.4293328103198565e-23,6.039098074939548,1.682261022992949e-25,7.199277078929754e-22,3.381588254661724e-19,5.3588912320093335e-31,3.7790352299775537e-34,2.890944179808999e-19,641.6833920959192,1.864516274746451e-19,3.369403238212429e-28,6.98188135708483e-30,641.6833920959192,8.088326046128994e-21,2.6078934423150862e-20,1.0029569636724131e-20,2.286568369793912e-21,3.6811245689408155e-33,6.5962303788836e-21,4.8473395627462475e-26,1.3386983402999531e-26,641.5810349555649,3.5337813755729986e-22,3.6636328370490174e-35,7.344898919663118e-23,2.414519885343914e-31,1.2833209201094493e-27,9.300415510615586e-25,1.68446678094233e-30,2.1896841124043456e-33,4.246508763575562e-28,1.4006663422872536e-28,3.5996483864522666e-19,3.1806635729170963e-20,8.959606732414165e-22,2.5961231733580526e-24,1.4234827574088866e-25,5.0081617324359124e-24,4.391828952680421e-28,1.910448493155812e-26,2.5785182517371973e-22,1.4676276712658252e-27,2.3631708397465565e-29,4.3826736935584385e-19,2.1053028489421727e-35,2.2453806205965508e-28,3.374973456402549e-24,1.9784294922533377e-35,6.885236492012698e-33,641.5810349555649,1.1062299051966458e-25,2.1557645666089952e-30,6.018145476083499,8.290021348227608e-28,8.396542511570455e-22,641.5810349555649,7.305591882854868e-33,3.474112569575692e-29,1.708722770816e-23,4.428505386969183e-31,6.02922205104386e-25,2.0160288364380348e-26,-0.3135100960853989,2.4156990221843875e-29,3.023659262096896e-32,1.4690610690542676e-23,2.3854294495587123e-31,3.06902069531943e-25,1.4375579606675756e-27,2.72672722883281e-30,4.17788260412656e-33,1.5538676290280747e-29,1.324206964027595e-29,1.9738399042207932e-31,5.9966629302850345,641.4787331419016,9.904211897213116e-20,1.429211684015835e-35,4.934128818944135e-33,8.745932118452665e-22,2.3128885420115246e-33,1.1779446251747159e-32,1.1563094093488905e-20,2.000757086939851e-36,1.0623314785114609e-29,2.0621045706948627e-19,1.49092034129078e-30,3.1558945806959845e-19,2.9786991606526125e-19,3.1673948007762126e-21,4.171038840819588e-22,1.2194954901338605e-24,6.573350586136107e-23,3.1764461707418425e-23,1.4889757180933966e-32,2.562338747802652e-25,3.987886875736257e-25,-0.23481452481315082,4.504099261097519e-21,2.144710981083156e-21,1.1103649510200189e-21,1.2978485426316842e-26,1.2396504304179716e-33,3.738543256126716e-20,2.918602666438632e-35,1.0851002986722192e-25,-0.23481452481315085,2.231329718431708e-23,5.51314485159942e-21,1.7242129075435234e-22,5.57614881663305e-22,641.4787331419014,2.2162845921784065e-32,2.0696034292231976e-22,6.736776174951896e-22,1.655922448353896e-22,641.4787331419016,8.230400906927205e-20,3.470968260476213e-15,1.3287704008207238e-25,6.871757216759609e-31,1.981898687850898e-19,1.3384715685203609e-21,1.1377532047728836e-27,2.6267460706322434e-22,3.3578023934801465e-19,5.974624333528021,1.4747172035578916e-21,3.259421229677741e-23,-0.15555142891853557,2.083360105133845e-25,2.287041263208674e-21,6.403769252071621e-17,3.791791898013619e-24,2.21951242064079e-19,3.6158508565226353e-32,2.669116340969021e-22,1.3434146377661847e-32,3.81742479522965e-20,1.3032936691788466e-18,1.5662842565214169e-22,2.348109142718009e-20,7.160468673773853e-29,1.812075864803787e-21,641.3764864224349,4.602325688894406e-21,2.827067002236994e-23,3.65521432329753e-27,2.0467375515413432e-20,6.210559227915841e-21,6.583283359001216e-25,5.59084862399996e-14,1.3992265965665656e-25,8.867028237633217e-21,5.1345795885311135e-23,5.572626724495421e-15,4.656828588871577e-21,9.874415541802924e-26,7.211189904838803e-22,7.687887708508317e-23,2.5050297520619962e-21,7.225709129733648e-27,2.1642627585010082e-33,2.2131674956966002e-32,2.077143600522018e-33,1.114312794938604e-15,4.071677157316825e-33,2.540862970860874e-10,-0.15555142891853632,6.602721087484577e-20,3.3490911373915166e-23,641.376486422435,5.548553211187002e-15,8.536437899895365e-28,9.045485472132619e-31,7.071824815357907e-19,2.8892593064871723e-22,1.0928818586424283e-26,3.1280746030319884e-29,9.236585510110369e-27,6.506929517330443e-11,-0.07569263804353665,5.898478141408787e-28,4.546607287423405e-15,7.512666045534009e-11,1.5368104843649003e-12,5.451247073139226e-10,2.292902631221583e-24,2.992755759840128e-14,1.49823133371544e-11,2.835934314550371e-16,6.744573330573648e-19,6.4010968257119505e-15,3.676353186861305e-34,5.952001522257987,3.623937483439067e-18,2.6264091476311194e-10,2.2691964535695415e-10,2.328645509043507e-21,7.110920174989606e-19,1.0798139516118301e-09,5.952001522258003,1.4119776977110141e-18,8.834955873066652e-19,1.0882239138493963e-25,1.643514130132458e-12,1.255970349183253e-12,4.1461698487844736e-11,7.530088546172374e-11,641.2742945659007,1.1321988292270679e-11,2.2314774740412535e-12,7.537904680698187e-26,4.4489066617582656e-23,3.3491308934442665e-11,-0.07569263804355876,4.733646443755581e-24,2.1314429130680816e-18,5.1191243405385114e-18,-0.07569263923469974,6.006763062396194e-14,6.030095457765531e-12,3.487503314511644e-21,1.3312472875215872e-19,641.2742945659006,8.664366551616751e-18,-0.07569263804457246,6.1033752628060686e-18,6.160892337734558e-11,-6.093830812168469e-18,5.928764042428148,641.1721573422535,0.004792320781530704,641.1721573422535,0.08593642774520188,-8.692144005206311e-17,0.0859364277479299,0.08593642904108434,-4.107826182576809e-13,0.08593642775545063,0.08593643013354729,0.08593642775026425,0.08593642786448756,641.0700745226591,0.08593642774520528,0.08593642778838188,0.08593642781077072,5.904878884328967,641.0700745226591,0.08593642812406754,0.08593642774520192,0.08593642774520187,0.08593642774520248,0.08593642785769584,0.08593642774763542,0.08593642790918408,0.08593642774720084,0.08593642774520176,641.0700745226591,0.08593642774520177,0.08593642774520184,0.08593642774520174,0.08593642774520734,0.08593642780798046,0.08593642774520178,0.08593642776248338,0.08593642778844066,0.08593642777185788,0.08593642774782778,640.9680458794843,-2.8162020100637576e-27,0.16777559716075835,-5.841386924054527e-11,640.9680458794842,0.16777559716075768,0.16777559716075857,0.16777559716102378,0.16777559716075888,640.9680458794843,0.167775597160804,0.16777559716077686,0.16777559716075952,0.1677755971607577,5.880310176808789,-3.2828928800035356e-22,0.16777559716075777,5.855018833148295,640.866071186288,-2.9637695735419643e-25,640.866071186288,-2.9530552784886826e-30,5.855018833033601,-1.397047176315935e-27,-4.471328118343288e-28,0.25034891057995873,-2.657108552762815e-35,-2.0114056353734745e-27,640.7641502178125,0.3336990897670579,5.828962138076286,-1.3393320503832914e-28,-6.452307837023272e-25,-4.824148607953314e-11,640.7641502178124,5.802093266242054,640.6622827499738,-2.2625486794640628e-35,640.6622827499738,-2.562993121167739e-22,0.4178729672607263,-4.870923019890427e-27,-1.101911023964026e-19,-1.8620719095525296e-22,0.5029220544908248,5.77436071295168,-5.541095744001285e-18,-2.3832915632047037e-28,-7.822333604604454e-28,-2.0422161881891187e-31,-1.266445838116211e-19,640.5604685598536,640.5604685598537,640.4587074256899,-4.502819280935588e-27,640.45870742569,0.5889032145455348,5.745707621974416,-5.319989281558508e-24,-3.5751050115246004e-34,-1.3541671811629973e-26,5.745707621974381,640.3569991268686,0.6758794641132927,5.716070983486349,5.716070983485894,-2.6071419791784967e-21,-5.308624553398349e-34,-4.048213033530644e-29,-8.584625921192467e-23,640.3569991268686,-4.39323772130881e-24,5.685380671338447,-4.4830310196866276e-14,5.685380671338483,640.2553434439145,-1.3840942320633194e-35,640.2553434439144,0.7639209362128266,-2.718879044633677e-35,-1.2445426494779127e-26,-5.099671088277953e-33,-2.5792201001702715e-27,-8.704603017696034e-33,-1.615425002881742e-22,5.6535582783670355,640.1537401584832,640.1537401584831,-2.8405170439659474e-30,0.853106044886891,0.9435229060967355,5.620515695494959,-1.398546923100429e-21,-1.392841216769014e-24,640.0521890533523,-5.379002088360722e-23,640.0521890533523,-4.277840611818163e-29,639.9506899124136,-4.070251228582762e-29,5.586153362315505,639.9506899124136,639.9506899124137,-2.5879120744988655e-32,-1.8426181904129918e-20,-5.23340486909541e-21,1.0352710871404311,1.1284637823379766,-1.0446276640156643e-22,-3.159186554743138e-25,639.849242520664,639.8492425206641,-3.860795244597674e-26,-1.3898436309987616e-30,639.8492425206641,5.55035809140686,-2.71128105638299e-36,639.7478466641978,-4.290020317630626e-38,-6.417592682321928e-30,5.513000332320847,1.2232305490425575,639.7478466641979,-7.354026193127488e-26,-4.494858213532911e-30,5.513000332320847,-1.0267440047442304e-31,-9.103512088997658e-31,639.6465021301984,1.3197207908657034,-1.7267457761622255e-21,5.473930688357789,639.6465021301984,-1.0099088527985126e-37,-4.091500877630941e-22,5.473930688357789,639.5452087069303,5.432975420840427,-8.177774795257346e-36,-2.7559655913140244e-28,-1.761384872475328e-25,5.432975420840428,-1.5560912740389718e-33,1.4181082534033698,-1.1592187540641372e-16,639.5452087069303,639.4439661837309,5.389930556630799,639.443966183731,-2.135661793409692e-21,-9.80350146785252e-33,5.3899305566308,5.389930556630801,-2.114853146298067e-30,-7.20801421152244e-17,1.5185969167190796,639.3427743510032,5.344554029529647,1.621428853944515,-2.386114958794353e-27,5.34455402952965,639.3427743510032,-6.652065475746272e-31,-1.27168045916693e-23,-1.8600054959747735e-31,-1.278397507502184e-22,-1.5339541210602216e-37,1.726894921620292,639.2416330002069,639.2416330002069,-1.120871294025699e-25,-1.3515050407109897e-22,5.296554989935657,-9.273267824756723e-30,5.296554989935666,-1.5179350006014572e-25,1.7268949214284408,1.8353496371078408,639.1405419238517,5.245578927433614,639.1405419238517,639.1405419238517,-1.0800439615796781e-32,-2.1354892339264895e-34,-3.69786876091998e-16,-2.954526570755096e-20,5.24557892743359,-9.205327361842958e-28,5.191186410895158,-1.3144214452169959e-25,5.191186410895233,1.9472324384885351,-1.5562400365224882e-31,-7.708449054532125e-20,639.0395009154892,639.0395009154892,2.0630990272368956,638.9385097697048,638.9385097697048,5.132821745805806,-1.9947437277305418e-23,-6.300792355626674e-30,2.063099027236922,5.132821745806073,-4.091765182877384e-18,2.183669331081645,5.069765011403797,-5.047795744394497e-27,-2.5199860787064682e-21,-3.1130877678127656e-23,638.837568282111,638.8375682821109,-1.6977085687867957e-20,5.069765011404908,638.7366762493391,638.7366762493391,-4.616761771394677e-16,2.3099043123142162,2.309904312314162,-2.447804500584884e-31,-1.1193609408783413e-12,5.0010552523769185,5.001055252371454,5.001055252371455,4.925360303016494,638.6358334690327,2.4431361436402086,-1.211951858417185e-10,-7.116014345378181e-25,4.925360302983971,-1.6666213572029304e-27,638.6358334690327,-3.6592678821897236e-22,2.5853055168829835,638.5350397398395,4.840739478647996,2.585305516882973,-6.707243393632221e-30,4.840739478405715,4.840739478405698,638.5350397398395,638.4342948614043,4.744166566238893,638.4342948614043,-1.2464475847305543e-32,4.744166566238834,4.744166566513636,2.739438651435008,638.4342948614043,-8.139055371654546e-38,-2.1235760894268382e-33,4.630428029636418,638.333598634362,-1.1380670813490237e-35,2.9107490911448752,-1.670201619022765e-33,-3.275297339773202e-23,638.333598634362,4.630428029637435,638.2329508603303,4.4889583386093825,638.2329508603304,3.1098023730102553,-6.219293735416093e-20,-3.09726528800262e-36,-2.0962908369206955e-22,4.290039584888199,4.290039584888213,3.366316412217488,638.1323513419027,3.3663164123162628,4.2900395848907875,-1.0517968906538896e-21,638.1323513419028,-1.4497560484013982e-23,-5.280955365014426e-36,638.0317998826412,-2.1676845132146143e-37,638.0317998826412,638.0317998826412,-9.184492053113466e-27,637.9312962870696,-4.199659352849261e-22,-1.2871132791513736e-33,637.9312962870696,-1.7646871275292348e-25,637.8308403606667,637.8308403606667,-2.0833022371526794e-27,-8.602069405439958e-11,-6.014964070352174e-23,637.7304319098592,-1.1114933017463005e-28,-2.625655317478112e-29,-1.715758664764109e-24,637.7304319098592,-3.1625086645795385e-17,-2.5549036783513844e-21,-2.186326150357188e-35,-7.260511088706042e-17,-1.0242916188067594e-35,-5.155149239411839e-11,637.6300707420154,-5.019305781488919e-30,-3.8057531983456806e-31,-2.808366478126081e-17,637.6300707420154,-1.1649032249250434e-37,-4.416984232756949e-31,-8.021330989017013e-14,637.5297566654377,637.5297566654377,-6.433056244660945e-33],\"type\":\"scatter\"}],                        {\"template\":{\"data\":{\"histogram2dcontour\":[{\"type\":\"histogram2dcontour\",\"colorbar\":{\"outlinewidth\":0,\"ticks\":\"\"},\"colorscale\":[[0.0,\"#0d0887\"],[0.1111111111111111,\"#46039f\"],[0.2222222222222222,\"#7201a8\"],[0.3333333333333333,\"#9c179e\"],[0.4444444444444444,\"#bd3786\"],[0.5555555555555556,\"#d8576b\"],[0.6666666666666666,\"#ed7953\"],[0.7777777777777778,\"#fb9f3a\"],[0.8888888888888888,\"#fdca26\"],[1.0,\"#f0f921\"]]}],\"choropleth\":[{\"type\":\"choropleth\",\"colorbar\":{\"outlinewidth\":0,\"ticks\":\"\"}}],\"histogram2d\":[{\"type\":\"histogram2d\",\"colorbar\":{\"outlinewidth\":0,\"ticks\":\"\"},\"colorscale\":[[0.0,\"#0d0887\"],[0.1111111111111111,\"#46039f\"],[0.2222222222222222,\"#7201a8\"],[0.3333333333333333,\"#9c179e\"],[0.4444444444444444,\"#bd3786\"],[0.5555555555555556,\"#d8576b\"],[0.6666666666666666,\"#ed7953\"],[0.7777777777777778,\"#fb9f3a\"],[0.8888888888888888,\"#fdca26\"],[1.0,\"#f0f921\"]]}],\"heatmap\":[{\"type\":\"heatmap\",\"colorbar\":{\"outlinewidth\":0,\"ticks\":\"\"},\"colorscale\":[[0.0,\"#0d0887\"],[0.1111111111111111,\"#46039f\"],[0.2222222222222222,\"#7201a8\"],[0.3333333333333333,\"#9c179e\"],[0.4444444444444444,\"#bd3786\"],[0.5555555555555556,\"#d8576b\"],[0.6666666666666666,\"#ed7953\"],[0.7777777777777778,\"#fb9f3a\"],[0.8888888888888888,\"#fdca26\"],[1.0,\"#f0f921\"]]}],\"heatmapgl\":[{\"type\":\"heatmapgl\",\"colorbar\":{\"outlinewidth\":0,\"ticks\":\"\"},\"colorscale\":[[0.0,\"#0d0887\"],[0.1111111111111111,\"#46039f\"],[0.2222222222222222,\"#7201a8\"],[0.3333333333333333,\"#9c179e\"],[0.4444444444444444,\"#bd3786\"],[0.5555555555555556,\"#d8576b\"],[0.6666666666666666,\"#ed7953\"],[0.7777777777777778,\"#fb9f3a\"],[0.8888888888888888,\"#fdca26\"],[1.0,\"#f0f921\"]]}],\"contourcarpet\":[{\"type\":\"contourcarpet\",\"colorbar\":{\"outlinewidth\":0,\"ticks\":\"\"}}],\"contour\":[{\"type\":\"contour\",\"colorbar\":{\"outlinewidth\":0,\"ticks\":\"\"},\"colorscale\":[[0.0,\"#0d0887\"],[0.1111111111111111,\"#46039f\"],[0.2222222222222222,\"#7201a8\"],[0.3333333333333333,\"#9c179e\"],[0.4444444444444444,\"#bd3786\"],[0.5555555555555556,\"#d8576b\"],[0.6666666666666666,\"#ed7953\"],[0.7777777777777778,\"#fb9f3a\"],[0.8888888888888888,\"#fdca26\"],[1.0,\"#f0f921\"]]}],\"surface\":[{\"type\":\"surface\",\"colorbar\":{\"outlinewidth\":0,\"ticks\":\"\"},\"colorscale\":[[0.0,\"#0d0887\"],[0.1111111111111111,\"#46039f\"],[0.2222222222222222,\"#7201a8\"],[0.3333333333333333,\"#9c179e\"],[0.4444444444444444,\"#bd3786\"],[0.5555555555555556,\"#d8576b\"],[0.6666666666666666,\"#ed7953\"],[0.7777777777777778,\"#fb9f3a\"],[0.8888888888888888,\"#fdca26\"],[1.0,\"#f0f921\"]]}],\"mesh3d\":[{\"type\":\"mesh3d\",\"colorbar\":{\"outlinewidth\":0,\"ticks\":\"\"}}],\"scatter\":[{\"fillpattern\":{\"fillmode\":\"overlay\",\"size\":10,\"solidity\":0.2},\"type\":\"scatter\"}],\"parcoords\":[{\"type\":\"parcoords\",\"line\":{\"colorbar\":{\"outlinewidth\":0,\"ticks\":\"\"}}}],\"scatterpolargl\":[{\"type\":\"scatterpolargl\",\"marker\":{\"colorbar\":{\"outlinewidth\":0,\"ticks\":\"\"}}}],\"bar\":[{\"error_x\":{\"color\":\"#2a3f5f\"},\"error_y\":{\"color\":\"#2a3f5f\"},\"marker\":{\"line\":{\"color\":\"#E5ECF6\",\"width\":0.5},\"pattern\":{\"fillmode\":\"overlay\",\"size\":10,\"solidity\":0.2}},\"type\":\"bar\"}],\"scattergeo\":[{\"type\":\"scattergeo\",\"marker\":{\"colorbar\":{\"outlinewidth\":0,\"ticks\":\"\"}}}],\"scatterpolar\":[{\"type\":\"scatterpolar\",\"marker\":{\"colorbar\":{\"outlinewidth\":0,\"ticks\":\"\"}}}],\"histogram\":[{\"marker\":{\"pattern\":{\"fillmode\":\"overlay\",\"size\":10,\"solidity\":0.2}},\"type\":\"histogram\"}],\"scattergl\":[{\"type\":\"scattergl\",\"marker\":{\"colorbar\":{\"outlinewidth\":0,\"ticks\":\"\"}}}],\"scatter3d\":[{\"type\":\"scatter3d\",\"line\":{\"colorbar\":{\"outlinewidth\":0,\"ticks\":\"\"}},\"marker\":{\"colorbar\":{\"outlinewidth\":0,\"ticks\":\"\"}}}],\"scattermapbox\":[{\"type\":\"scattermapbox\",\"marker\":{\"colorbar\":{\"outlinewidth\":0,\"ticks\":\"\"}}}],\"scatterternary\":[{\"type\":\"scatterternary\",\"marker\":{\"colorbar\":{\"outlinewidth\":0,\"ticks\":\"\"}}}],\"scattercarpet\":[{\"type\":\"scattercarpet\",\"marker\":{\"colorbar\":{\"outlinewidth\":0,\"ticks\":\"\"}}}],\"carpet\":[{\"aaxis\":{\"endlinecolor\":\"#2a3f5f\",\"gridcolor\":\"white\",\"linecolor\":\"white\",\"minorgridcolor\":\"white\",\"startlinecolor\":\"#2a3f5f\"},\"baxis\":{\"endlinecolor\":\"#2a3f5f\",\"gridcolor\":\"white\",\"linecolor\":\"white\",\"minorgridcolor\":\"white\",\"startlinecolor\":\"#2a3f5f\"},\"type\":\"carpet\"}],\"table\":[{\"cells\":{\"fill\":{\"color\":\"#EBF0F8\"},\"line\":{\"color\":\"white\"}},\"header\":{\"fill\":{\"color\":\"#C8D4E3\"},\"line\":{\"color\":\"white\"}},\"type\":\"table\"}],\"barpolar\":[{\"marker\":{\"line\":{\"color\":\"#E5ECF6\",\"width\":0.5},\"pattern\":{\"fillmode\":\"overlay\",\"size\":10,\"solidity\":0.2}},\"type\":\"barpolar\"}],\"pie\":[{\"automargin\":true,\"type\":\"pie\"}]},\"layout\":{\"autotypenumbers\":\"strict\",\"colorway\":[\"#636efa\",\"#EF553B\",\"#00cc96\",\"#ab63fa\",\"#FFA15A\",\"#19d3f3\",\"#FF6692\",\"#B6E880\",\"#FF97FF\",\"#FECB52\"],\"font\":{\"color\":\"#2a3f5f\"},\"hovermode\":\"closest\",\"hoverlabel\":{\"align\":\"left\"},\"paper_bgcolor\":\"white\",\"plot_bgcolor\":\"#E5ECF6\",\"polar\":{\"bgcolor\":\"#E5ECF6\",\"angularaxis\":{\"gridcolor\":\"white\",\"linecolor\":\"white\",\"ticks\":\"\"},\"radialaxis\":{\"gridcolor\":\"white\",\"linecolor\":\"white\",\"ticks\":\"\"}},\"ternary\":{\"bgcolor\":\"#E5ECF6\",\"aaxis\":{\"gridcolor\":\"white\",\"linecolor\":\"white\",\"ticks\":\"\"},\"baxis\":{\"gridcolor\":\"white\",\"linecolor\":\"white\",\"ticks\":\"\"},\"caxis\":{\"gridcolor\":\"white\",\"linecolor\":\"white\",\"ticks\":\"\"}},\"coloraxis\":{\"colorbar\":{\"outlinewidth\":0,\"ticks\":\"\"}},\"colorscale\":{\"sequential\":[[0.0,\"#0d0887\"],[0.1111111111111111,\"#46039f\"],[0.2222222222222222,\"#7201a8\"],[0.3333333333333333,\"#9c179e\"],[0.4444444444444444,\"#bd3786\"],[0.5555555555555556,\"#d8576b\"],[0.6666666666666666,\"#ed7953\"],[0.7777777777777778,\"#fb9f3a\"],[0.8888888888888888,\"#fdca26\"],[1.0,\"#f0f921\"]],\"sequentialminus\":[[0.0,\"#0d0887\"],[0.1111111111111111,\"#46039f\"],[0.2222222222222222,\"#7201a8\"],[0.3333333333333333,\"#9c179e\"],[0.4444444444444444,\"#bd3786\"],[0.5555555555555556,\"#d8576b\"],[0.6666666666666666,\"#ed7953\"],[0.7777777777777778,\"#fb9f3a\"],[0.8888888888888888,\"#fdca26\"],[1.0,\"#f0f921\"]],\"diverging\":[[0,\"#8e0152\"],[0.1,\"#c51b7d\"],[0.2,\"#de77ae\"],[0.3,\"#f1b6da\"],[0.4,\"#fde0ef\"],[0.5,\"#f7f7f7\"],[0.6,\"#e6f5d0\"],[0.7,\"#b8e186\"],[0.8,\"#7fbc41\"],[0.9,\"#4d9221\"],[1,\"#276419\"]]},\"xaxis\":{\"gridcolor\":\"white\",\"linecolor\":\"white\",\"ticks\":\"\",\"title\":{\"standoff\":15},\"zerolinecolor\":\"white\",\"automargin\":true,\"zerolinewidth\":2},\"yaxis\":{\"gridcolor\":\"white\",\"linecolor\":\"white\",\"ticks\":\"\",\"title\":{\"standoff\":15},\"zerolinecolor\":\"white\",\"automargin\":true,\"zerolinewidth\":2},\"scene\":{\"xaxis\":{\"backgroundcolor\":\"#E5ECF6\",\"gridcolor\":\"white\",\"linecolor\":\"white\",\"showbackground\":true,\"ticks\":\"\",\"zerolinecolor\":\"white\",\"gridwidth\":2},\"yaxis\":{\"backgroundcolor\":\"#E5ECF6\",\"gridcolor\":\"white\",\"linecolor\":\"white\",\"showbackground\":true,\"ticks\":\"\",\"zerolinecolor\":\"white\",\"gridwidth\":2},\"zaxis\":{\"backgroundcolor\":\"#E5ECF6\",\"gridcolor\":\"white\",\"linecolor\":\"white\",\"showbackground\":true,\"ticks\":\"\",\"zerolinecolor\":\"white\",\"gridwidth\":2}},\"shapedefaults\":{\"line\":{\"color\":\"#2a3f5f\"}},\"annotationdefaults\":{\"arrowcolor\":\"#2a3f5f\",\"arrowhead\":0,\"arrowwidth\":1},\"geo\":{\"bgcolor\":\"white\",\"landcolor\":\"#E5ECF6\",\"subunitcolor\":\"white\",\"showland\":true,\"showlakes\":true,\"lakecolor\":\"white\"},\"title\":{\"x\":0.05},\"mapbox\":{\"style\":\"light\"}}},\"title\":{\"text\":\"Y\"},\"xaxis\":{\"title\":{\"text\":\"b\"}}},                        {\"responsive\": true}                    ).then(function(){\n",
       "                            \n",
       "var gd = document.getElementById('11bffd02-eeb1-48e7-82a4-4a90a14e1eeb');\n",
       "var x = new MutationObserver(function (mutations, observer) {{\n",
       "        var display = window.getComputedStyle(gd).display;\n",
       "        if (!display || display === 'none') {{\n",
       "            console.log([gd, 'removed!']);\n",
       "            Plotly.purge(gd);\n",
       "            observer.disconnect();\n",
       "        }}\n",
       "}});\n",
       "\n",
       "// Listen for the removal of the full notebook cells\n",
       "var notebookContainer = gd.closest('#notebook-container');\n",
       "if (notebookContainer) {{\n",
       "    x.observe(notebookContainer, {childList: true});\n",
       "}}\n",
       "\n",
       "// Listen for the clearing of the current output cell\n",
       "var outputEl = gd.closest('.output');\n",
       "if (outputEl) {{\n",
       "    x.observe(outputEl, {childList: true});\n",
       "}}\n",
       "\n",
       "                        })                };                });            </script>        </div>"
      ]
     },
     "metadata": {},
     "output_type": "display_data"
    }
   ],
   "source": [
    "\n",
    "xs=[]\n",
    "ys=[]\n",
    "bs_bif = []\n",
    "for curb, sols in list(solutions_by_b.items()):\n",
    "    for xc,yc in sols:\n",
    "        if yc!=0:# (σ/δ, 0) - решение, не зависящее от mu\n",
    "            bs_bif.append(curb)\n",
    "            xs.append(float(xc.as_real_imag()[0]))\n",
    "            ys.append(float(yc.as_real_imag()[0]))\n",
    "            \n",
    "fig = go.Figure()\n",
    "fig.add_trace(go.Scatter(x=bs_bif, y=ys, mode='markers', name = \"y_real_part\"))\n",
    "# fig.add_trace(go.Scatter(x=mus_for_im, y=y_im_parts, mode='markers', name = \"y_im_parts\"))\n",
    "fig.update_layout(title=\"Y\")\n",
    "# fig.add_trace(go.Scatter(x=mus_for_im, y=y_im_parts, mode='markers', name = \"y_im_parts\"))\n",
    "\n",
    "fig.update_layout(xaxis={\"title\": \"b\"})"
   ]
  },
  {
   "cell_type": "code",
   "execution_count": null,
   "metadata": {},
   "outputs": [],
   "source": []
  }
 ],
 "metadata": {
  "colab": {
   "provenance": []
  },
  "kernelspec": {
   "display_name": "Python 3 (ipykernel)",
   "language": "python",
   "name": "python3"
  },
  "language_info": {
   "codemirror_mode": {
    "name": "ipython",
    "version": 3
   },
   "file_extension": ".py",
   "mimetype": "text/x-python",
   "name": "python",
   "nbconvert_exporter": "python",
   "pygments_lexer": "ipython3",
   "version": "3.10.6"
  },
  "vscode": {
   "interpreter": {
    "hash": "369f2c481f4da34e4445cda3fffd2e751bd1c4d706f27375911949ba6bb62e1c"
   }
  },
  "widgets": {
   "application/vnd.jupyter.widget-state+json": {
    "state": {},
    "version_major": 2,
    "version_minor": 0
   }
  }
 },
 "nbformat": 4,
 "nbformat_minor": 4
}
